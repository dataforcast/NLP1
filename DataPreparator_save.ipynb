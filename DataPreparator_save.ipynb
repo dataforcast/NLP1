{
 "cells": [
  {
   "cell_type": "markdown",
   "metadata": {},
   "source": [
    "This notebook allows to build `DataPreparator` object from a dataset."
   ]
  },
  {
   "cell_type": "code",
   "execution_count": 1,
   "metadata": {},
   "outputs": [
    {
     "data": {
      "text/html": [
       "<b>Dataset preparation with DatasetPreparator</b>\n",
       "<div id=\"my_id_menu_nb\">run previous cell, wait for 2 seconds</div>\n",
       "<script>\n",
       "function repeat_indent_string(n){\n",
       "    var a = \"\" ;\n",
       "    for ( ; n > 0 ; --n)\n",
       "        a += \"    \";\n",
       "    return a;\n",
       "}\n",
       "// look up into all sections and builds an automated menu //\n",
       "var update_menu_string = function(begin, lfirst, llast, sformat, send, keep_item, begin_format, end_format) {\n",
       "    var anchors = document.getElementsByClassName(\"section\");\n",
       "    if (anchors.length == 0) {\n",
       "        anchors = document.getElementsByClassName(\"text_cell_render rendered_html\");\n",
       "    }\n",
       "    var i,t;\n",
       "    var text_menu = begin;\n",
       "    var text_memo = \"<pre>\\nlength:\" + anchors.length + \"\\n\";\n",
       "    var ind = \"\";\n",
       "    var memo_level = 1;\n",
       "    var href;\n",
       "    var tags = [];\n",
       "    var main_item = 0;\n",
       "    var format_open = 0;\n",
       "    for (i = 0; i <= llast; i++)\n",
       "        tags.push(\"h\" + i);\n",
       "\n",
       "    for (i = 0; i < anchors.length; i++) {\n",
       "        text_memo += \"**\" + anchors[i].id + \"--\\n\";\n",
       "\n",
       "        var child = null;\n",
       "        for(t = 0; t < tags.length; t++) {\n",
       "            var r = anchors[i].getElementsByTagName(tags[t]);\n",
       "            if (r.length > 0) {\n",
       "child = r[0];\n",
       "break;\n",
       "            }\n",
       "        }\n",
       "        if (child == null) {\n",
       "            text_memo += \"null\\n\";\n",
       "            continue;\n",
       "        }\n",
       "        if (anchors[i].hasAttribute(\"id\")) {\n",
       "            // when converted in RST\n",
       "            href = anchors[i].id;\n",
       "            text_memo += \"#1-\" + href;\n",
       "            // passer à child suivant (le chercher)\n",
       "        }\n",
       "        else if (child.hasAttribute(\"id\")) {\n",
       "            // in a notebook\n",
       "            href = child.id;\n",
       "            text_memo += \"#2-\" + href;\n",
       "        }\n",
       "        else {\n",
       "            text_memo += \"#3-\" + \"*\" + \"\\n\";\n",
       "            continue;\n",
       "        }\n",
       "        var title = child.textContent;\n",
       "        var level = parseInt(child.tagName.substring(1,2));\n",
       "\n",
       "        text_memo += \"--\" + level + \"?\" + lfirst + \"--\" + title + \"\\n\";\n",
       "\n",
       "        if ((level < lfirst) || (level > llast)) {\n",
       "            continue ;\n",
       "        }\n",
       "        if (title.endsWith('¶')) {\n",
       "            title = title.substring(0,title.length-1).replace(\"<\", \"&lt;\")\n",
       "         .replace(\">\", \"&gt;\").replace(\"&\", \"&amp;\");\n",
       "        }\n",
       "        if (title.length == 0) {\n",
       "            continue;\n",
       "        }\n",
       "\n",
       "        while (level < memo_level) {\n",
       "            text_menu += end_format + \"</ul>\\n\";\n",
       "            format_open -= 1;\n",
       "            memo_level -= 1;\n",
       "        }\n",
       "        if (level == lfirst) {\n",
       "            main_item += 1;\n",
       "        }\n",
       "        if (keep_item != -1 && main_item != keep_item + 1) {\n",
       "            // alert(main_item + \" - \" + level + \" - \" + keep_item);\n",
       "            continue;\n",
       "        }\n",
       "        while (level > memo_level) {\n",
       "            text_menu += \"<ul>\\n\";\n",
       "            memo_level += 1;\n",
       "        }\n",
       "        text_menu += repeat_indent_string(level-2);\n",
       "        text_menu += begin_format + sformat.replace(\"__HREF__\", href).replace(\"__TITLE__\", title);\n",
       "        format_open += 1;\n",
       "    }\n",
       "    while (1 < memo_level) {\n",
       "        text_menu += end_format + \"</ul>\\n\";\n",
       "        memo_level -= 1;\n",
       "        format_open -= 1;\n",
       "    }\n",
       "    text_menu += send;\n",
       "    //text_menu += \"\\n\" + text_memo;\n",
       "\n",
       "    while (format_open > 0) {\n",
       "        text_menu += end_format;\n",
       "        format_open -= 1;\n",
       "    }\n",
       "    return text_menu;\n",
       "};\n",
       "var update_menu = function() {\n",
       "    var sbegin = \"\";\n",
       "    var sformat = '<a href=\"#__HREF__\">__TITLE__</a>';\n",
       "    var send = \"\";\n",
       "    var begin_format = '<li>';\n",
       "    var end_format = '</li>';\n",
       "    var keep_item = -1;\n",
       "    var text_menu = update_menu_string(sbegin, 1, 3, sformat, send, keep_item,\n",
       "       begin_format, end_format);\n",
       "    var menu = document.getElementById(\"my_id_menu_nb\");\n",
       "    menu.innerHTML=text_menu;\n",
       "};\n",
       "window.setTimeout(update_menu,2000);\n",
       "            </script>"
      ],
      "text/plain": [
       "<IPython.core.display.HTML object>"
      ]
     },
     "execution_count": 1,
     "metadata": {},
     "output_type": "execute_result"
    }
   ],
   "source": [
    "import jyquickhelper\n",
    "jyquickhelper.add_notebook_menu(first_level=1, last_level=3, header=\"Dataset preparation with DatasetPreparator\")"
   ]
  },
  {
   "cell_type": "markdown",
   "metadata": {},
   "source": [
    "# <font color=blus>0. Notebook configuration</font>"
   ]
  },
  {
   "cell_type": "code",
   "execution_count": 8,
   "metadata": {},
   "outputs": [],
   "source": [
    "%load_ext autoreload\n",
    "%autoreload 2\n",
    "\n",
    "%reload_ext autoreload"
   ]
  },
  {
   "cell_type": "code",
   "execution_count": 3,
   "metadata": {},
   "outputs": [],
   "source": [
    "import warnings\n",
    "warnings.filterwarnings('ignore')\n",
    "%matplotlib inline"
   ]
  },
  {
   "cell_type": "code",
   "execution_count": 5,
   "metadata": {},
   "outputs": [],
   "source": [
    "import gensim\n",
    "from gensim import corpora\n",
    "\n",
    "import pandas as pd\n",
    "import numpy as np\n",
    "\n",
    "import p9_util\n",
    "\n",
    "# Full dataset\n",
    "#extension='_full'\n",
    "\n",
    "# Partial dataset\n",
    "extension='_part'"
   ]
  },
  {
   "cell_type": "markdown",
   "metadata": {},
   "source": [
    "# <font color=blus>1. Load datasets</font>\n",
    "\n",
    "    Processing data is intended in splitting train dataset into new train and test dataset.\n",
    "    This is done in order to train a model that we expect to generalize over provided test dataset.\n",
    "    \n",
    "    Provided test dataset is a file holding a collection of documents. Predictions, in term of probability \n",
    "    of toxicity, will be applied on this test dataset thanks to the estimator trained with train dataset.\n",
    "    \n",
    "    "
   ]
  },
  {
   "cell_type": "code",
   "execution_count": 3,
   "metadata": {},
   "outputs": [],
   "source": [
    "import pandas as pd\n",
    "\n",
    "df_test = pd.read_csv('./data/test.csv.zip', compression='zip', header=0, sep=',', quotechar='\"')\n",
    "df_train = pd.read_csv('./data/train.csv.zip', compression='zip', header=0, sep=',', quotechar='\"')\n",
    "\n",
    "df_train['comment_text'] = df_train['comment_text'].apply(lambda x : x.lower())"
   ]
  },
  {
   "cell_type": "markdown",
   "metadata": {},
   "source": [
    "## <font color=blus>1.1. Split data as train and test dataset</font>"
   ]
  },
  {
   "cell_type": "code",
   "execution_count": 4,
   "metadata": {},
   "outputs": [
    {
     "name": "stdout",
     "output_type": "stream",
     "text": [
      "Train dataset: X = (1209265,) Label= (1209265,)\n",
      "Test dataset:  X = (595609,) Label= (595609,)\n"
     ]
    }
   ],
   "source": [
    "from sklearn.model_selection import train_test_split\n",
    "X_train, X_test, y_train, y_test = train_test_split(df_train['comment_text'],df_train['target'],test_size=0.33, random_state=42)\n",
    "\n",
    "print(\"Train dataset: X = {} Label= {}\".format(X_train.shape, y_train.shape))\n",
    "print(\"Test dataset:  X = {} Label= {}\".format(X_test.shape,  y_test.shape))"
   ]
  },
  {
   "cell_type": "code",
   "execution_count": 31,
   "metadata": {},
   "outputs": [
    {
     "name": "stdout",
     "output_type": "stream",
     "text": [
      "may this us seal rest in peace! he made the ultimate sacrifice while in service to our country.\n",
      "0.0\n",
      "\n",
      "it's all about the publicity.\n",
      "0.0\n"
     ]
    }
   ],
   "source": [
    "import random\n",
    "\n",
    "print(\"\")\n",
    "index_train_ref = random.randint(0,X_train.shape[0])\n",
    "print(\"Train Reference index = {}\".format(index_train_ref))\n",
    "\n",
    "index_test_ref = random.randint(0,X_test.shape[0])\n",
    "print(\"Test Reference index  = {}\".format(index_test_ref))\n",
    "\n",
    "\n",
    "print(X_train.iloc[index_train_ref])\n",
    "print(y_train.iloc[index_train_ref])\n",
    "print(\"\")\n",
    "print(X_test.iloc[index_test_ref])\n",
    "print(y_test.iloc[index_test_ref])\n"
   ]
  },
  {
   "cell_type": "markdown",
   "metadata": {},
   "source": [
    "## <font color=blus>1.2. Backup / restore train and test dataset </font>"
   ]
  },
  {
   "cell_type": "code",
   "execution_count": 1,
   "metadata": {},
   "outputs": [
    {
     "name": "stdout",
     "output_type": "stream",
     "text": [
      "p5_util.object_load : fileName= ./data/df_train.dump\n",
      "p5_util.object_load : fileName= ./data/df_test.dump\n",
      "\n",
      "Shape of train corpus : = (1209265, 2)\n",
      "Shape of test corpus  : = (595609, 2)\n"
     ]
    }
   ],
   "source": [
    "import pandas as pd\n",
    "import p5_util\n",
    "\n",
    "filename_train = './data/df_train.dump'\n",
    "filename_test  = './data/df_test.dump'\n",
    "\n",
    "if False: \n",
    "    df_train = pd.DataFrame({'X':X_train, 'y':y_train})\n",
    "    df_test  = pd.DataFrame({'X':X_test, 'y':y_test})\n",
    "    \n",
    "    p5_util.object_dump(df_train,filename_train)\n",
    "    p5_util.object_dump(df_test,filename_test)\n",
    "    \n",
    "else : \n",
    "    df_train = p5_util.object_load(filename_train)\n",
    "    df_test  = p5_util.object_load(filename_test)\n",
    "\n",
    "print(\"\")\n",
    "print(\"Shape of train corpus : = {}\".format(df_train.shape))\n",
    "print(\"Shape of test corpus  : = {}\".format(df_test.shape))"
   ]
  },
  {
   "cell_type": "code",
   "execution_count": null,
   "metadata": {},
   "outputs": [],
   "source": []
  },
  {
   "cell_type": "code",
   "execution_count": 7,
   "metadata": {},
   "outputs": [
    {
     "name": "stdout",
     "output_type": "stream",
     "text": [
      "Object not defined!\n",
      "Object not defined!\n"
     ]
    }
   ],
   "source": [
    "try :\n",
    "    del(X_train)\n",
    "    print(\"Object deleted!\")\n",
    "except NameError:\n",
    "    print(\"Object not defined!\")\n",
    "try :\n",
    "    del(X_test)\n",
    "    print(\"Object deleted!\")\n",
    "except NameError:\n",
    "    print(\"Object not defined!\")\n"
   ]
  },
  {
   "cell_type": "code",
   "execution_count": 8,
   "metadata": {},
   "outputs": [
    {
     "data": {
      "text/plain": [
       "'what a breathe of fresh air to have someone who embraces common sense values, instead of the leadership we have in canada, that is clearly on a different page, perhaps reading from a different book.'"
      ]
     },
     "execution_count": 8,
     "metadata": {},
     "output_type": "execute_result"
    }
   ],
   "source": [
    "df_test.iloc[0].X"
   ]
  },
  {
   "cell_type": "markdown",
   "metadata": {},
   "source": [
    "# <font color=blus>2. Data preparation with `DataPreparator`</font>"
   ]
  },
  {
   "cell_type": "markdown",
   "metadata": {},
   "source": [
    "## <font color=blus>2.1. Building train dataset `DataPreparator`</font>"
   ]
  },
  {
   "cell_type": "code",
   "execution_count": 7,
   "metadata": {},
   "outputs": [
    {
     "name": "stderr",
     "output_type": "stream",
     "text": [
      "/home/bangui/.local/lib/python3.6/site-packages/matplotlib/__init__.py:886: MatplotlibDeprecationWarning: \n",
      "examples.directory is deprecated; in the future, examples will be found relative to the 'datapath' directory.\n",
      "  \"found relative to the 'datapath' directory.\".format(key))\n",
      "WARNING: Logging before flag parsing goes to stderr.\n",
      "W0826 22:05:44.898291 140018011993920 lazy_loader.py:50] \n",
      "The TensorFlow contrib module will not be included in TensorFlow 2.0.\n",
      "For more information, please see:\n",
      "  * https://github.com/tensorflow/community/blob/master/rfcs/20180907-contrib-sunset.md\n",
      "  * https://github.com/tensorflow/addons\n",
      "  * https://github.com/tensorflow/io (for I/O related ops)\n",
      "If you depend on functionality not listed there, please file an issue.\n",
      "\n",
      "W0826 22:05:44.899075 140018011993920 deprecation_wrapper.py:119] From /home/bangui/anaconda3/envs/python36/lib/python3.6/site-packages/adanet/tf_compat/__init__.py:96: The name tf.losses.Reduction is deprecated. Please use tf.compat.v1.losses.Reduction instead.\n",
      "\n",
      "W0826 22:05:44.913144 140018011993920 deprecation_wrapper.py:119] From /home/bangui/Dropbox/Perso/Formation/openclassrooms/OC_Datascientist/Kaggle/p8_util_config.py:137: The name tf.train.AdamOptimizer is deprecated. Please use tf.compat.v1.train.AdamOptimizer instead.\n",
      "\n"
     ]
    },
    {
     "data": {
      "text/plain": [
       "'spacy'"
      ]
     },
     "execution_count": 7,
     "metadata": {},
     "output_type": "execute_result"
    }
   ],
   "source": [
    "import DataPreparator\n",
    "\n",
    "dataPreparator_train = DataPreparator.DataPreparator(min_doc_len=4)\n",
    "\n",
    "if dataPreparator_train.is_spacy_vectorizer:\n",
    "    vectorizer_name = 'spacy'\n",
    "if dataPreparator_train.is_keras_vectorizer:\n",
    "    vectorizer_name = 'keras'\n",
    "vectorizer_name"
   ]
  },
  {
   "cell_type": "code",
   "execution_count": 8,
   "metadata": {},
   "outputs": [],
   "source": [
    "sample_count = 15000"
   ]
  },
  {
   "cell_type": "code",
   "execution_count": 9,
   "metadata": {},
   "outputs": [
    {
     "name": "stdout",
     "output_type": "stream",
     "text": [
      "fit : list_word_most_frequent length= 100\n",
      "\n",
      "*** ERROR : p9_util_spacy.spacy_tokenizer() : list index out of range\n",
      "p9_util_spacy.spacy_tokenizer() : df_data[p9_util_spacy.COLUMN_NAME_TOKEN].tolist()= []\n",
      "p9_util_spacy.spacy_tokenizer() : tokens issued from spacy tokenizer= 0    []\n",
      "Name: tokens, dtype: object\n",
      "\n",
      "*** ERROR : p9_util_spacy.spacy_tokenizer() : list index out of range\n",
      "p9_util_spacy.spacy_tokenizer() : df_data[p9_util_spacy.COLUMN_NAME_TOKEN].tolist()= []\n",
      "p9_util_spacy.spacy_tokenizer() : tokens issued from spacy tokenizer= 0    []\n",
      "Name: tokens, dtype: object\n",
      "\n",
      "*** ERROR : p9_util_spacy.spacy_tokenizer() : list index out of range\n",
      "p9_util_spacy.spacy_tokenizer() : df_data[p9_util_spacy.COLUMN_NAME_TOKEN].tolist()= []\n",
      "p9_util_spacy.spacy_tokenizer() : tokens issued from spacy tokenizer= 0    []\n",
      "Name: tokens, dtype: object\n",
      "\n",
      "*** ERROR : p9_util_spacy.spacy_tokenizer() : list index out of range\n",
      "p9_util_spacy.spacy_tokenizer() : df_data[p9_util_spacy.COLUMN_NAME_TOKEN].tolist()= []\n",
      "p9_util_spacy.spacy_tokenizer() : tokens issued from spacy tokenizer= 0    []\n",
      "Name: tokens, dtype: object\n",
      "\n",
      "*** ERROR : p9_util_spacy.spacy_tokenizer() : list index out of range\n",
      "p9_util_spacy.spacy_tokenizer() : df_data[p9_util_spacy.COLUMN_NAME_TOKEN].tolist()= []\n",
      "p9_util_spacy.spacy_tokenizer() : tokens issued from spacy tokenizer= 0    []\n",
      "Name: tokens, dtype: object\n",
      "\n",
      "*** ERROR : p9_util_spacy.spacy_tokenizer() : list index out of range\n",
      "p9_util_spacy.spacy_tokenizer() : df_data[p9_util_spacy.COLUMN_NAME_TOKEN].tolist()= []\n",
      "p9_util_spacy.spacy_tokenizer() : tokens issued from spacy tokenizer= 0    []\n",
      "Name: tokens, dtype: object\n",
      "\n",
      "*** ERROR : p9_util_spacy.spacy_tokenizer() : list index out of range\n",
      "p9_util_spacy.spacy_tokenizer() : df_data[p9_util_spacy.COLUMN_NAME_TOKEN].tolist()= []\n",
      "p9_util_spacy.spacy_tokenizer() : tokens issued from spacy tokenizer= 0    []\n",
      "Name: tokens, dtype: object\n",
      "\n",
      "*** ERROR : p9_util_spacy.spacy_tokenizer() : list index out of range\n",
      "p9_util_spacy.spacy_tokenizer() : df_data[p9_util_spacy.COLUMN_NAME_TOKEN].tolist()= []\n",
      "p9_util_spacy.spacy_tokenizer() : tokens issued from spacy tokenizer= 0    []\n",
      "Name: tokens, dtype: object\n",
      "\n",
      "*** ERROR : p9_util_spacy.spacy_tokenizer() : list index out of range\n",
      "p9_util_spacy.spacy_tokenizer() : df_data[p9_util_spacy.COLUMN_NAME_TOKEN].tolist()= []\n",
      "p9_util_spacy.spacy_tokenizer() : tokens issued from spacy tokenizer= 0    []\n",
      "Name: tokens, dtype: object\n",
      "\n",
      "*** ERROR : p9_util_spacy.spacy_tokenizer() : list index out of range\n",
      "p9_util_spacy.spacy_tokenizer() : df_data[p9_util_spacy.COLUMN_NAME_TOKEN].tolist()= []\n",
      "p9_util_spacy.spacy_tokenizer() : tokens issued from spacy tokenizer= 0    []\n",
      "Name: tokens, dtype: object\n",
      "\n",
      "*** ERROR : p9_util_spacy.spacy_tokenizer() : list index out of range\n",
      "p9_util_spacy.spacy_tokenizer() : df_data[p9_util_spacy.COLUMN_NAME_TOKEN].tolist()= []\n",
      "p9_util_spacy.spacy_tokenizer() : tokens issued from spacy tokenizer= 0    []\n",
      "Name: tokens, dtype: object\n",
      "\n",
      "*** ERROR : p9_util_spacy.spacy_tokenizer() : list index out of range\n",
      "p9_util_spacy.spacy_tokenizer() : df_data[p9_util_spacy.COLUMN_NAME_TOKEN].tolist()= []\n",
      "p9_util_spacy.spacy_tokenizer() : tokens issued from spacy tokenizer= 0    []\n",
      "Name: tokens, dtype: object\n",
      "\n",
      "*** ERROR : p9_util_spacy.spacy_tokenizer() : list index out of range\n",
      "p9_util_spacy.spacy_tokenizer() : df_data[p9_util_spacy.COLUMN_NAME_TOKEN].tolist()= []\n",
      "p9_util_spacy.spacy_tokenizer() : tokens issued from spacy tokenizer= 0    []\n",
      "Name: tokens, dtype: object\n",
      "\n",
      "*** ERROR : p9_util_spacy.spacy_tokenizer() : list index out of range\n",
      "p9_util_spacy.spacy_tokenizer() : df_data[p9_util_spacy.COLUMN_NAME_TOKEN].tolist()= []\n",
      "p9_util_spacy.spacy_tokenizer() : tokens issued from spacy tokenizer= 0    []\n",
      "Name: tokens, dtype: object\n",
      "\n",
      "*** ERROR : p9_util_spacy.spacy_tokenizer() : list index out of range\n",
      "p9_util_spacy.spacy_tokenizer() : df_data[p9_util_spacy.COLUMN_NAME_TOKEN].tolist()= []\n",
      "p9_util_spacy.spacy_tokenizer() : tokens issued from spacy tokenizer= 0    []\n",
      "Name: tokens, dtype: object\n",
      "\n",
      "*** ERROR : p9_util_spacy.spacy_tokenizer() : list index out of range\n",
      "p9_util_spacy.spacy_tokenizer() : df_data[p9_util_spacy.COLUMN_NAME_TOKEN].tolist()= []\n",
      "p9_util_spacy.spacy_tokenizer() : tokens issued from spacy tokenizer= 0    []\n",
      "Name: tokens, dtype: object\n",
      "\n",
      "*** ERROR : p9_util_spacy.spacy_tokenizer() : list index out of range\n",
      "p9_util_spacy.spacy_tokenizer() : df_data[p9_util_spacy.COLUMN_NAME_TOKEN].tolist()= []\n",
      "p9_util_spacy.spacy_tokenizer() : tokens issued from spacy tokenizer= 0    []\n",
      "Name: tokens, dtype: object\n",
      "\n",
      "*** ERROR : p9_util_spacy.spacy_tokenizer() : list index out of range\n",
      "p9_util_spacy.spacy_tokenizer() : df_data[p9_util_spacy.COLUMN_NAME_TOKEN].tolist()= []\n",
      "p9_util_spacy.spacy_tokenizer() : tokens issued from spacy tokenizer= 0    []\n",
      "Name: tokens, dtype: object\n",
      "\n",
      "*** ERROR : p9_util_spacy.spacy_tokenizer() : list index out of range\n",
      "p9_util_spacy.spacy_tokenizer() : df_data[p9_util_spacy.COLUMN_NAME_TOKEN].tolist()= []\n",
      "p9_util_spacy.spacy_tokenizer() : tokens issued from spacy tokenizer= 0    []\n",
      "Name: tokens, dtype: object\n",
      "\n",
      "*** ERROR : p9_util_spacy.spacy_tokenizer() : list index out of range\n",
      "p9_util_spacy.spacy_tokenizer() : df_data[p9_util_spacy.COLUMN_NAME_TOKEN].tolist()= []\n",
      "p9_util_spacy.spacy_tokenizer() : tokens issued from spacy tokenizer= 0    []\n",
      "Name: tokens, dtype: object\n",
      "\n",
      "*** ERROR : p9_util_spacy.spacy_tokenizer() : list index out of range\n",
      "p9_util_spacy.spacy_tokenizer() : df_data[p9_util_spacy.COLUMN_NAME_TOKEN].tolist()= []\n",
      "p9_util_spacy.spacy_tokenizer() : tokens issued from spacy tokenizer= 0    []\n",
      "Name: tokens, dtype: object\n",
      "\n",
      "*** ERROR : p9_util_spacy.spacy_tokenizer() : list index out of range\n",
      "p9_util_spacy.spacy_tokenizer() : df_data[p9_util_spacy.COLUMN_NAME_TOKEN].tolist()= []\n",
      "p9_util_spacy.spacy_tokenizer() : tokens issued from spacy tokenizer= 0    []\n",
      "Name: tokens, dtype: object\n",
      "\n",
      "*** ERROR : p9_util_spacy.spacy_tokenizer() : list index out of range\n",
      "p9_util_spacy.spacy_tokenizer() : df_data[p9_util_spacy.COLUMN_NAME_TOKEN].tolist()= []\n",
      "p9_util_spacy.spacy_tokenizer() : tokens issued from spacy tokenizer= 0    []\n",
      "Name: tokens, dtype: object\n",
      "\n",
      "*** ERROR : p9_util_spacy.spacy_tokenizer() : list index out of range\n",
      "p9_util_spacy.spacy_tokenizer() : df_data[p9_util_spacy.COLUMN_NAME_TOKEN].tolist()= []\n",
      "p9_util_spacy.spacy_tokenizer() : tokens issued from spacy tokenizer= 0    []\n",
      "Name: tokens, dtype: object\n",
      "\n",
      "*** ERROR : p9_util_spacy.spacy_tokenizer() : list index out of range\n",
      "p9_util_spacy.spacy_tokenizer() : df_data[p9_util_spacy.COLUMN_NAME_TOKEN].tolist()= []\n",
      "p9_util_spacy.spacy_tokenizer() : tokens issued from spacy tokenizer= 0    []\n",
      "Name: tokens, dtype: object\n",
      "\n",
      "*** ERROR : p9_util_spacy.spacy_tokenizer() : list index out of range\n",
      "p9_util_spacy.spacy_tokenizer() : df_data[p9_util_spacy.COLUMN_NAME_TOKEN].tolist()= []\n",
      "p9_util_spacy.spacy_tokenizer() : tokens issued from spacy tokenizer= 0    []\n",
      "Name: tokens, dtype: object\n",
      "\n",
      "*** ERROR : p9_util_spacy.spacy_tokenizer() : list index out of range\n",
      "p9_util_spacy.spacy_tokenizer() : df_data[p9_util_spacy.COLUMN_NAME_TOKEN].tolist()= []\n",
      "p9_util_spacy.spacy_tokenizer() : tokens issued from spacy tokenizer= 0    []\n",
      "Name: tokens, dtype: object\n",
      "\n",
      "*** ERROR : p9_util_spacy.spacy_tokenizer() : list index out of range\n",
      "p9_util_spacy.spacy_tokenizer() : df_data[p9_util_spacy.COLUMN_NAME_TOKEN].tolist()= []\n",
      "p9_util_spacy.spacy_tokenizer() : tokens issued from spacy tokenizer= 0    []\n",
      "Name: tokens, dtype: object\n",
      "\n",
      "*** ERROR : p9_util_spacy.spacy_tokenizer() : list index out of range\n",
      "p9_util_spacy.spacy_tokenizer() : df_data[p9_util_spacy.COLUMN_NAME_TOKEN].tolist()= []\n",
      "p9_util_spacy.spacy_tokenizer() : tokens issued from spacy tokenizer= 0    []\n",
      "Name: tokens, dtype: object\n",
      "\n",
      "*** ERROR : p9_util_spacy.spacy_tokenizer() : list index out of range\n",
      "p9_util_spacy.spacy_tokenizer() : df_data[p9_util_spacy.COLUMN_NAME_TOKEN].tolist()= []\n",
      "p9_util_spacy.spacy_tokenizer() : tokens issued from spacy tokenizer= 0    []\n",
      "Name: tokens, dtype: object\n",
      "\n",
      "*** ERROR : p9_util_spacy.spacy_tokenizer() : list index out of range\n",
      "p9_util_spacy.spacy_tokenizer() : df_data[p9_util_spacy.COLUMN_NAME_TOKEN].tolist()= []\n",
      "p9_util_spacy.spacy_tokenizer() : tokens issued from spacy tokenizer= 0    []\n",
      "Name: tokens, dtype: object\n"
     ]
    },
    {
     "name": "stdout",
     "output_type": "stream",
     "text": [
      "\n",
      "*** ERROR : p9_util_spacy.spacy_tokenizer() : list index out of range\n",
      "p9_util_spacy.spacy_tokenizer() : df_data[p9_util_spacy.COLUMN_NAME_TOKEN].tolist()= []\n",
      "p9_util_spacy.spacy_tokenizer() : tokens issued from spacy tokenizer= 0    []\n",
      "Name: tokens, dtype: object\n",
      "\n",
      "*** ERROR : p9_util_spacy.spacy_tokenizer() : list index out of range\n",
      "p9_util_spacy.spacy_tokenizer() : df_data[p9_util_spacy.COLUMN_NAME_TOKEN].tolist()= []\n",
      "p9_util_spacy.spacy_tokenizer() : tokens issued from spacy tokenizer= 0    []\n",
      "Name: tokens, dtype: object\n",
      "\n",
      "*** ERROR : p9_util_spacy.spacy_tokenizer() : list index out of range\n",
      "p9_util_spacy.spacy_tokenizer() : df_data[p9_util_spacy.COLUMN_NAME_TOKEN].tolist()= []\n",
      "p9_util_spacy.spacy_tokenizer() : tokens issued from spacy tokenizer= 0    []\n",
      "Name: tokens, dtype: object\n",
      "\n",
      "*** ERROR : p9_util_spacy.spacy_tokenizer() : list index out of range\n",
      "p9_util_spacy.spacy_tokenizer() : df_data[p9_util_spacy.COLUMN_NAME_TOKEN].tolist()= []\n",
      "p9_util_spacy.spacy_tokenizer() : tokens issued from spacy tokenizer= 0    []\n",
      "Name: tokens, dtype: object\n",
      "\n",
      "*** ERROR : p9_util_spacy.spacy_tokenizer() : list index out of range\n",
      "p9_util_spacy.spacy_tokenizer() : df_data[p9_util_spacy.COLUMN_NAME_TOKEN].tolist()= []\n",
      "p9_util_spacy.spacy_tokenizer() : tokens issued from spacy tokenizer= 0    []\n",
      "Name: tokens, dtype: object\n",
      "\n",
      "*** ERROR : p9_util_spacy.spacy_tokenizer() : list index out of range\n",
      "p9_util_spacy.spacy_tokenizer() : df_data[p9_util_spacy.COLUMN_NAME_TOKEN].tolist()= []\n",
      "p9_util_spacy.spacy_tokenizer() : tokens issued from spacy tokenizer= 0    []\n",
      "Name: tokens, dtype: object\n",
      "\n",
      "*** ERROR : p9_util_spacy.spacy_tokenizer() : list index out of range\n",
      "p9_util_spacy.spacy_tokenizer() : df_data[p9_util_spacy.COLUMN_NAME_TOKEN].tolist()= []\n",
      "p9_util_spacy.spacy_tokenizer() : tokens issued from spacy tokenizer= 0    []\n",
      "Name: tokens, dtype: object\n",
      "\n",
      "*** ERROR : p9_util_spacy.spacy_tokenizer() : list index out of range\n",
      "p9_util_spacy.spacy_tokenizer() : df_data[p9_util_spacy.COLUMN_NAME_TOKEN].tolist()= []\n",
      "p9_util_spacy.spacy_tokenizer() : tokens issued from spacy tokenizer= 0    []\n",
      "Name: tokens, dtype: object\n",
      "\n",
      "*** ERROR : p9_util_spacy.spacy_tokenizer() : list index out of range\n",
      "p9_util_spacy.spacy_tokenizer() : df_data[p9_util_spacy.COLUMN_NAME_TOKEN].tolist()= []\n",
      "p9_util_spacy.spacy_tokenizer() : tokens issued from spacy tokenizer= 0    []\n",
      "Name: tokens, dtype: object\n",
      "\n",
      "*** ERROR : p9_util_spacy.spacy_tokenizer() : list index out of range\n",
      "p9_util_spacy.spacy_tokenizer() : df_data[p9_util_spacy.COLUMN_NAME_TOKEN].tolist()= []\n",
      "p9_util_spacy.spacy_tokenizer() : tokens issued from spacy tokenizer= 0    []\n",
      "Name: tokens, dtype: object\n",
      "\n",
      "*** ERROR : p9_util_spacy.spacy_tokenizer() : list index out of range\n",
      "p9_util_spacy.spacy_tokenizer() : df_data[p9_util_spacy.COLUMN_NAME_TOKEN].tolist()= []\n",
      "p9_util_spacy.spacy_tokenizer() : tokens issued from spacy tokenizer= 0    []\n",
      "Name: tokens, dtype: object\n",
      "\n",
      "*** ERROR : p9_util_spacy.spacy_tokenizer() : list index out of range\n",
      "p9_util_spacy.spacy_tokenizer() : df_data[p9_util_spacy.COLUMN_NAME_TOKEN].tolist()= []\n",
      "p9_util_spacy.spacy_tokenizer() : tokens issued from spacy tokenizer= 0    []\n",
      "Name: tokens, dtype: object\n",
      "\n",
      "***ERROR : empy list of tokens\n",
      "\n",
      "***ERROR : empy list of tokens\n",
      "\n",
      "***ERROR : empy list of tokens\n",
      "\n",
      "***ERROR : empy list of tokens\n",
      "\n",
      "***ERROR : empy list of tokens\n",
      "\n",
      "***ERROR : empy list of tokens\n",
      "\n",
      "***ERROR : empy list of tokens\n",
      "\n",
      "***ERROR : empy list of tokens\n",
      "\n",
      "***ERROR : empy list of tokens\n",
      "\n",
      "***ERROR : empy list of tokens\n",
      "\n",
      "***ERROR : empy list of tokens\n",
      "\n",
      "***ERROR : empy list of tokens\n",
      "\n",
      "***ERROR : empy list of tokens\n",
      "\n",
      "***ERROR : empy list of tokens\n",
      "\n",
      "***ERROR : empy list of tokens\n",
      "\n",
      "***ERROR : empy list of tokens\n",
      "\n",
      "***ERROR : empy list of tokens\n",
      "\n",
      "***ERROR : empy list of tokens\n",
      "\n",
      "***ERROR : empy list of tokens\n",
      "\n",
      "***ERROR : empy list of tokens\n",
      "\n",
      "***ERROR : empy list of tokens\n",
      "\n",
      "***ERROR : empy list of tokens\n",
      "\n",
      "***ERROR : empy list of tokens\n",
      "\n",
      "***ERROR : empy list of tokens\n",
      "\n",
      "***ERROR : empy list of tokens\n",
      "\n",
      "***ERROR : empy list of tokens\n",
      "\n",
      "***ERROR : empy list of tokens\n",
      "\n",
      "***ERROR : empy list of tokens\n",
      "\n",
      "***ERROR : empy list of tokens\n",
      "\n",
      "***ERROR : empy list of tokens\n",
      "\n",
      "***ERROR : empy list of tokens\n",
      "\n",
      "***ERROR : empy list of tokens\n",
      "\n",
      "***ERROR : empy list of tokens\n",
      "\n",
      "***ERROR : empy list of tokens\n",
      "\n",
      "***ERROR : empy list of tokens\n",
      "\n",
      "***ERROR : empy list of tokens\n",
      "\n",
      "***ERROR : empy list of tokens\n",
      "\n",
      "***ERROR : empy list of tokens\n",
      "\n",
      "***ERROR : empy list of tokens\n",
      "\n",
      "***ERROR : empy list of tokens\n",
      "\n",
      "***ERROR : empy list of tokens\n",
      "\n",
      "***ERROR : empy list of tokens\n",
      "\n",
      "***ERROR : empy list of tokens\n",
      "(13623, 300) (13623,)\n"
     ]
    }
   ],
   "source": [
    "X_train,y_train = dataPreparator_train.fit_transform(df_train.X[:sample_count].values,y= df_train.y[:sample_count].values)\n",
    "\n",
    "print(X_train.shape, y_train.shape)"
   ]
  },
  {
   "cell_type": "markdown",
   "metadata": {},
   "source": [
    "## <font color=blus>2.2. Save train dataset `DataPreparator`</font>"
   ]
  },
  {
   "cell_type": "code",
   "execution_count": 10,
   "metadata": {},
   "outputs": [
    {
     "name": "stdout",
     "output_type": "stream",
     "text": [
      "\n",
      "DataPretarator train lenth= 13623\n"
     ]
    }
   ],
   "source": [
    "import numpy as np\n",
    "import p5_util\n",
    "\n",
    "filename_train = './data/DataPreparator_train'+'_'+vectorizer_name+'_'+str(sample_count)+'.dump'\n",
    "\n",
    "if True :\n",
    "    p5_util.object_dump(dataPreparator_train,filename_train)\n",
    "else : \n",
    "    dataPreparator_train = p5_util.object_load(filename_train)\n",
    "    \n",
    "print(\"\")\n",
    "print(\"DataPretarator train lenth= {}\".format(len(dataPreparator_train)))\n"
   ]
  },
  {
   "cell_type": "code",
   "execution_count": 11,
   "metadata": {},
   "outputs": [
    {
     "data": {
      "text/html": [
       "<div>\n",
       "<style scoped>\n",
       "    .dataframe tbody tr th:only-of-type {\n",
       "        vertical-align: middle;\n",
       "    }\n",
       "\n",
       "    .dataframe tbody tr th {\n",
       "        vertical-align: top;\n",
       "    }\n",
       "\n",
       "    .dataframe thead th {\n",
       "        text-align: right;\n",
       "    }\n",
       "</style>\n",
       "<table border=\"1\" class=\"dataframe\">\n",
       "  <thead>\n",
       "    <tr style=\"text-align: right;\">\n",
       "      <th></th>\n",
       "      <th>docs</th>\n",
       "      <th>tokens</th>\n",
       "      <th>counting</th>\n",
       "      <th>vector</th>\n",
       "      <th>target</th>\n",
       "    </tr>\n",
       "  </thead>\n",
       "  <tbody>\n",
       "    <tr>\n",
       "      <th>10830</th>\n",
       "      <td>the difference is if you were seated next to a...</td>\n",
       "      <td>[difference, seat, white, bum, not, leap, conc...</td>\n",
       "      <td>43</td>\n",
       "      <td>[-0.07474091980606318, -0.008813340539733568, ...</td>\n",
       "      <td>0.0</td>\n",
       "    </tr>\n",
       "  </tbody>\n",
       "</table>\n",
       "</div>"
      ],
      "text/plain": [
       "                                                    docs  \\\n",
       "10830  the difference is if you were seated next to a...   \n",
       "\n",
       "                                                  tokens  counting  \\\n",
       "10830  [difference, seat, white, bum, not, leap, conc...        43   \n",
       "\n",
       "                                                  vector  target  \n",
       "10830  [-0.07474091980606318, -0.008813340539733568, ...     0.0  "
      ]
     },
     "execution_count": 11,
     "metadata": {},
     "output_type": "execute_result"
    }
   ],
   "source": [
    "dataPreparator_train.df_data.sample()"
   ]
  },
  {
   "cell_type": "markdown",
   "metadata": {},
   "source": [
    "## <font color=blus>2.3. Building test dataset `DataPreparator`</font>"
   ]
  },
  {
   "cell_type": "code",
   "execution_count": 12,
   "metadata": {},
   "outputs": [
    {
     "name": "stdout",
     "output_type": "stream",
     "text": [
      "fit : list_word_most_frequent length= 100\n",
      "\n",
      "*** ERROR : p9_util_spacy.spacy_tokenizer() : list index out of range\n",
      "p9_util_spacy.spacy_tokenizer() : df_data[p9_util_spacy.COLUMN_NAME_TOKEN].tolist()= []\n",
      "p9_util_spacy.spacy_tokenizer() : tokens issued from spacy tokenizer= 0    []\n",
      "Name: tokens, dtype: object\n",
      "\n",
      "*** ERROR : p9_util_spacy.spacy_tokenizer() : list index out of range\n",
      "p9_util_spacy.spacy_tokenizer() : df_data[p9_util_spacy.COLUMN_NAME_TOKEN].tolist()= []\n",
      "p9_util_spacy.spacy_tokenizer() : tokens issued from spacy tokenizer= 0    []\n",
      "Name: tokens, dtype: object\n",
      "\n",
      "*** ERROR : p9_util_spacy.spacy_tokenizer() : list index out of range\n",
      "p9_util_spacy.spacy_tokenizer() : df_data[p9_util_spacy.COLUMN_NAME_TOKEN].tolist()= []\n",
      "p9_util_spacy.spacy_tokenizer() : tokens issued from spacy tokenizer= 0    []\n",
      "Name: tokens, dtype: object\n",
      "\n",
      "*** ERROR : p9_util_spacy.spacy_tokenizer() : list index out of range\n",
      "p9_util_spacy.spacy_tokenizer() : df_data[p9_util_spacy.COLUMN_NAME_TOKEN].tolist()= []\n",
      "p9_util_spacy.spacy_tokenizer() : tokens issued from spacy tokenizer= 0    []\n",
      "Name: tokens, dtype: object\n",
      "\n",
      "*** ERROR : p9_util_spacy.spacy_tokenizer() : list index out of range\n",
      "p9_util_spacy.spacy_tokenizer() : df_data[p9_util_spacy.COLUMN_NAME_TOKEN].tolist()= []\n",
      "p9_util_spacy.spacy_tokenizer() : tokens issued from spacy tokenizer= 0    []\n",
      "Name: tokens, dtype: object\n",
      "\n",
      "*** ERROR : p9_util_spacy.spacy_tokenizer() : list index out of range\n",
      "p9_util_spacy.spacy_tokenizer() : df_data[p9_util_spacy.COLUMN_NAME_TOKEN].tolist()= []\n",
      "p9_util_spacy.spacy_tokenizer() : tokens issued from spacy tokenizer= 0    []\n",
      "Name: tokens, dtype: object\n",
      "\n",
      "*** ERROR : p9_util_spacy.spacy_tokenizer() : list index out of range\n",
      "p9_util_spacy.spacy_tokenizer() : df_data[p9_util_spacy.COLUMN_NAME_TOKEN].tolist()= []\n",
      "p9_util_spacy.spacy_tokenizer() : tokens issued from spacy tokenizer= 0    []\n",
      "Name: tokens, dtype: object\n",
      "\n",
      "*** ERROR : p9_util_spacy.spacy_tokenizer() : list index out of range\n",
      "p9_util_spacy.spacy_tokenizer() : df_data[p9_util_spacy.COLUMN_NAME_TOKEN].tolist()= []\n",
      "p9_util_spacy.spacy_tokenizer() : tokens issued from spacy tokenizer= 0    []\n",
      "Name: tokens, dtype: object\n",
      "\n",
      "*** ERROR : p9_util_spacy.spacy_tokenizer() : list index out of range\n",
      "p9_util_spacy.spacy_tokenizer() : df_data[p9_util_spacy.COLUMN_NAME_TOKEN].tolist()= []\n",
      "p9_util_spacy.spacy_tokenizer() : tokens issued from spacy tokenizer= 0    []\n",
      "Name: tokens, dtype: object\n",
      "\n",
      "*** ERROR : p9_util_spacy.spacy_tokenizer() : list index out of range\n",
      "p9_util_spacy.spacy_tokenizer() : df_data[p9_util_spacy.COLUMN_NAME_TOKEN].tolist()= []\n",
      "p9_util_spacy.spacy_tokenizer() : tokens issued from spacy tokenizer= 0    []\n",
      "Name: tokens, dtype: object\n",
      "\n",
      "*** ERROR : p9_util_spacy.spacy_tokenizer() : list index out of range\n",
      "p9_util_spacy.spacy_tokenizer() : df_data[p9_util_spacy.COLUMN_NAME_TOKEN].tolist()= []\n",
      "p9_util_spacy.spacy_tokenizer() : tokens issued from spacy tokenizer= 0    []\n",
      "Name: tokens, dtype: object\n",
      "\n",
      "*** ERROR : p9_util_spacy.spacy_tokenizer() : list index out of range\n",
      "p9_util_spacy.spacy_tokenizer() : df_data[p9_util_spacy.COLUMN_NAME_TOKEN].tolist()= []\n",
      "p9_util_spacy.spacy_tokenizer() : tokens issued from spacy tokenizer= 0    []\n",
      "Name: tokens, dtype: object\n",
      "\n",
      "*** ERROR : p9_util_spacy.spacy_tokenizer() : list index out of range\n",
      "p9_util_spacy.spacy_tokenizer() : df_data[p9_util_spacy.COLUMN_NAME_TOKEN].tolist()= []\n",
      "p9_util_spacy.spacy_tokenizer() : tokens issued from spacy tokenizer= 0    []\n",
      "Name: tokens, dtype: object\n",
      "\n",
      "*** ERROR : p9_util_spacy.spacy_tokenizer() : list index out of range\n",
      "p9_util_spacy.spacy_tokenizer() : df_data[p9_util_spacy.COLUMN_NAME_TOKEN].tolist()= []\n",
      "p9_util_spacy.spacy_tokenizer() : tokens issued from spacy tokenizer= 0    []\n",
      "Name: tokens, dtype: object\n",
      "\n",
      "*** ERROR : p9_util_spacy.spacy_tokenizer() : list index out of range\n",
      "p9_util_spacy.spacy_tokenizer() : df_data[p9_util_spacy.COLUMN_NAME_TOKEN].tolist()= []\n",
      "p9_util_spacy.spacy_tokenizer() : tokens issued from spacy tokenizer= 0    []\n",
      "Name: tokens, dtype: object\n",
      "\n",
      "*** ERROR : p9_util_spacy.spacy_tokenizer() : list index out of range\n",
      "p9_util_spacy.spacy_tokenizer() : df_data[p9_util_spacy.COLUMN_NAME_TOKEN].tolist()= []\n",
      "p9_util_spacy.spacy_tokenizer() : tokens issued from spacy tokenizer= 0    []\n",
      "Name: tokens, dtype: object\n",
      "\n",
      "*** ERROR : p9_util_spacy.spacy_tokenizer() : list index out of range\n",
      "p9_util_spacy.spacy_tokenizer() : df_data[p9_util_spacy.COLUMN_NAME_TOKEN].tolist()= []\n",
      "p9_util_spacy.spacy_tokenizer() : tokens issued from spacy tokenizer= 0    []\n",
      "Name: tokens, dtype: object\n",
      "\n",
      "*** ERROR : p9_util_spacy.spacy_tokenizer() : list index out of range\n",
      "p9_util_spacy.spacy_tokenizer() : df_data[p9_util_spacy.COLUMN_NAME_TOKEN].tolist()= []\n",
      "p9_util_spacy.spacy_tokenizer() : tokens issued from spacy tokenizer= 0    []\n",
      "Name: tokens, dtype: object\n",
      "\n",
      "*** ERROR : p9_util_spacy.spacy_tokenizer() : list index out of range\n",
      "p9_util_spacy.spacy_tokenizer() : df_data[p9_util_spacy.COLUMN_NAME_TOKEN].tolist()= []\n",
      "p9_util_spacy.spacy_tokenizer() : tokens issued from spacy tokenizer= 0    []\n",
      "Name: tokens, dtype: object\n",
      "\n",
      "*** ERROR : p9_util_spacy.spacy_tokenizer() : list index out of range\n",
      "p9_util_spacy.spacy_tokenizer() : df_data[p9_util_spacy.COLUMN_NAME_TOKEN].tolist()= []\n",
      "p9_util_spacy.spacy_tokenizer() : tokens issued from spacy tokenizer= 0    []\n",
      "Name: tokens, dtype: object\n",
      "\n",
      "*** ERROR : p9_util_spacy.spacy_tokenizer() : list index out of range\n",
      "p9_util_spacy.spacy_tokenizer() : df_data[p9_util_spacy.COLUMN_NAME_TOKEN].tolist()= []\n",
      "p9_util_spacy.spacy_tokenizer() : tokens issued from spacy tokenizer= 0    []\n",
      "Name: tokens, dtype: object\n",
      "\n",
      "*** ERROR : p9_util_spacy.spacy_tokenizer() : list index out of range\n",
      "p9_util_spacy.spacy_tokenizer() : df_data[p9_util_spacy.COLUMN_NAME_TOKEN].tolist()= []\n",
      "p9_util_spacy.spacy_tokenizer() : tokens issued from spacy tokenizer= 0    []\n",
      "Name: tokens, dtype: object\n",
      "\n",
      "*** ERROR : p9_util_spacy.spacy_tokenizer() : list index out of range\n",
      "p9_util_spacy.spacy_tokenizer() : df_data[p9_util_spacy.COLUMN_NAME_TOKEN].tolist()= []\n",
      "p9_util_spacy.spacy_tokenizer() : tokens issued from spacy tokenizer= 0    []\n",
      "Name: tokens, dtype: object\n",
      "\n",
      "*** ERROR : p9_util_spacy.spacy_tokenizer() : list index out of range\n",
      "p9_util_spacy.spacy_tokenizer() : df_data[p9_util_spacy.COLUMN_NAME_TOKEN].tolist()= []\n",
      "p9_util_spacy.spacy_tokenizer() : tokens issued from spacy tokenizer= 0    []\n",
      "Name: tokens, dtype: object\n",
      "\n",
      "*** ERROR : p9_util_spacy.spacy_tokenizer() : list index out of range\n",
      "p9_util_spacy.spacy_tokenizer() : df_data[p9_util_spacy.COLUMN_NAME_TOKEN].tolist()= []\n",
      "p9_util_spacy.spacy_tokenizer() : tokens issued from spacy tokenizer= 0    []\n",
      "Name: tokens, dtype: object\n",
      "\n",
      "*** ERROR : p9_util_spacy.spacy_tokenizer() : list index out of range\n",
      "p9_util_spacy.spacy_tokenizer() : df_data[p9_util_spacy.COLUMN_NAME_TOKEN].tolist()= []\n",
      "p9_util_spacy.spacy_tokenizer() : tokens issued from spacy tokenizer= 0    []\n",
      "Name: tokens, dtype: object\n",
      "\n",
      "*** ERROR : p9_util_spacy.spacy_tokenizer() : list index out of range\n",
      "p9_util_spacy.spacy_tokenizer() : df_data[p9_util_spacy.COLUMN_NAME_TOKEN].tolist()= []\n",
      "p9_util_spacy.spacy_tokenizer() : tokens issued from spacy tokenizer= 0    []\n",
      "Name: tokens, dtype: object\n",
      "\n",
      "*** ERROR : p9_util_spacy.spacy_tokenizer() : list index out of range\n",
      "p9_util_spacy.spacy_tokenizer() : df_data[p9_util_spacy.COLUMN_NAME_TOKEN].tolist()= []\n",
      "p9_util_spacy.spacy_tokenizer() : tokens issued from spacy tokenizer= 0    []\n",
      "Name: tokens, dtype: object\n",
      "\n",
      "*** ERROR : p9_util_spacy.spacy_tokenizer() : list index out of range\n",
      "p9_util_spacy.spacy_tokenizer() : df_data[p9_util_spacy.COLUMN_NAME_TOKEN].tolist()= []\n",
      "p9_util_spacy.spacy_tokenizer() : tokens issued from spacy tokenizer= 0    []\n",
      "Name: tokens, dtype: object\n",
      "\n",
      "*** ERROR : p9_util_spacy.spacy_tokenizer() : list index out of range\n",
      "p9_util_spacy.spacy_tokenizer() : df_data[p9_util_spacy.COLUMN_NAME_TOKEN].tolist()= []\n",
      "p9_util_spacy.spacy_tokenizer() : tokens issued from spacy tokenizer= 0    []\n",
      "Name: tokens, dtype: object\n",
      "\n",
      "*** ERROR : p9_util_spacy.spacy_tokenizer() : list index out of range\n",
      "p9_util_spacy.spacy_tokenizer() : df_data[p9_util_spacy.COLUMN_NAME_TOKEN].tolist()= []\n",
      "p9_util_spacy.spacy_tokenizer() : tokens issued from spacy tokenizer= 0    []\n",
      "Name: tokens, dtype: object\n",
      "\n",
      "*** ERROR : p9_util_spacy.spacy_tokenizer() : list index out of range\n",
      "p9_util_spacy.spacy_tokenizer() : df_data[p9_util_spacy.COLUMN_NAME_TOKEN].tolist()= []\n",
      "p9_util_spacy.spacy_tokenizer() : tokens issued from spacy tokenizer= 0    []\n",
      "Name: tokens, dtype: object\n"
     ]
    },
    {
     "name": "stdout",
     "output_type": "stream",
     "text": [
      "\n",
      "*** ERROR : p9_util_spacy.spacy_tokenizer() : list index out of range\n",
      "p9_util_spacy.spacy_tokenizer() : df_data[p9_util_spacy.COLUMN_NAME_TOKEN].tolist()= []\n",
      "p9_util_spacy.spacy_tokenizer() : tokens issued from spacy tokenizer= 0    []\n",
      "Name: tokens, dtype: object\n",
      "\n",
      "*** ERROR : p9_util_spacy.spacy_tokenizer() : list index out of range\n",
      "p9_util_spacy.spacy_tokenizer() : df_data[p9_util_spacy.COLUMN_NAME_TOKEN].tolist()= []\n",
      "p9_util_spacy.spacy_tokenizer() : tokens issued from spacy tokenizer= 0    []\n",
      "Name: tokens, dtype: object\n",
      "\n",
      "*** ERROR : p9_util_spacy.spacy_tokenizer() : list index out of range\n",
      "p9_util_spacy.spacy_tokenizer() : df_data[p9_util_spacy.COLUMN_NAME_TOKEN].tolist()= []\n",
      "p9_util_spacy.spacy_tokenizer() : tokens issued from spacy tokenizer= 0    []\n",
      "Name: tokens, dtype: object\n",
      "\n",
      "*** ERROR : p9_util_spacy.spacy_tokenizer() : list index out of range\n",
      "p9_util_spacy.spacy_tokenizer() : df_data[p9_util_spacy.COLUMN_NAME_TOKEN].tolist()= []\n",
      "p9_util_spacy.spacy_tokenizer() : tokens issued from spacy tokenizer= 0    []\n",
      "Name: tokens, dtype: object\n",
      "\n",
      "*** ERROR : p9_util_spacy.spacy_tokenizer() : list index out of range\n",
      "p9_util_spacy.spacy_tokenizer() : df_data[p9_util_spacy.COLUMN_NAME_TOKEN].tolist()= []\n",
      "p9_util_spacy.spacy_tokenizer() : tokens issued from spacy tokenizer= 0    []\n",
      "Name: tokens, dtype: object\n",
      "\n",
      "*** ERROR : p9_util_spacy.spacy_tokenizer() : list index out of range\n",
      "p9_util_spacy.spacy_tokenizer() : df_data[p9_util_spacy.COLUMN_NAME_TOKEN].tolist()= []\n",
      "p9_util_spacy.spacy_tokenizer() : tokens issued from spacy tokenizer= 0    []\n",
      "Name: tokens, dtype: object\n",
      "\n",
      "*** ERROR : p9_util_spacy.spacy_tokenizer() : list index out of range\n",
      "p9_util_spacy.spacy_tokenizer() : df_data[p9_util_spacy.COLUMN_NAME_TOKEN].tolist()= []\n",
      "p9_util_spacy.spacy_tokenizer() : tokens issued from spacy tokenizer= 0    []\n",
      "Name: tokens, dtype: object\n",
      "\n",
      "*** ERROR : p9_util_spacy.spacy_tokenizer() : list index out of range\n",
      "p9_util_spacy.spacy_tokenizer() : df_data[p9_util_spacy.COLUMN_NAME_TOKEN].tolist()= []\n",
      "p9_util_spacy.spacy_tokenizer() : tokens issued from spacy tokenizer= 0    []\n",
      "Name: tokens, dtype: object\n",
      "\n",
      "*** ERROR : p9_util_spacy.spacy_tokenizer() : list index out of range\n",
      "p9_util_spacy.spacy_tokenizer() : df_data[p9_util_spacy.COLUMN_NAME_TOKEN].tolist()= []\n",
      "p9_util_spacy.spacy_tokenizer() : tokens issued from spacy tokenizer= 0    []\n",
      "Name: tokens, dtype: object\n",
      "\n",
      "*** ERROR : p9_util_spacy.spacy_tokenizer() : list index out of range\n",
      "p9_util_spacy.spacy_tokenizer() : df_data[p9_util_spacy.COLUMN_NAME_TOKEN].tolist()= []\n",
      "p9_util_spacy.spacy_tokenizer() : tokens issued from spacy tokenizer= 0    []\n",
      "Name: tokens, dtype: object\n",
      "\n",
      "*** ERROR : p9_util_spacy.spacy_tokenizer() : list index out of range\n",
      "p9_util_spacy.spacy_tokenizer() : df_data[p9_util_spacy.COLUMN_NAME_TOKEN].tolist()= []\n",
      "p9_util_spacy.spacy_tokenizer() : tokens issued from spacy tokenizer= 0    []\n",
      "Name: tokens, dtype: object\n",
      "\n",
      "*** ERROR : p9_util_spacy.spacy_tokenizer() : list index out of range\n",
      "p9_util_spacy.spacy_tokenizer() : df_data[p9_util_spacy.COLUMN_NAME_TOKEN].tolist()= []\n",
      "p9_util_spacy.spacy_tokenizer() : tokens issued from spacy tokenizer= 0    []\n",
      "Name: tokens, dtype: object\n",
      "\n",
      "*** ERROR : p9_util_spacy.spacy_tokenizer() : list index out of range\n",
      "p9_util_spacy.spacy_tokenizer() : df_data[p9_util_spacy.COLUMN_NAME_TOKEN].tolist()= []\n",
      "p9_util_spacy.spacy_tokenizer() : tokens issued from spacy tokenizer= 0    []\n",
      "Name: tokens, dtype: object\n",
      "\n",
      "*** ERROR : p9_util_spacy.spacy_tokenizer() : list index out of range\n",
      "p9_util_spacy.spacy_tokenizer() : df_data[p9_util_spacy.COLUMN_NAME_TOKEN].tolist()= []\n",
      "p9_util_spacy.spacy_tokenizer() : tokens issued from spacy tokenizer= 0    []\n",
      "Name: tokens, dtype: object\n",
      "\n",
      "*** ERROR : p9_util_spacy.spacy_tokenizer() : list index out of range\n",
      "p9_util_spacy.spacy_tokenizer() : df_data[p9_util_spacy.COLUMN_NAME_TOKEN].tolist()= []\n",
      "p9_util_spacy.spacy_tokenizer() : tokens issued from spacy tokenizer= 0    []\n",
      "Name: tokens, dtype: object\n",
      "\n",
      "*** ERROR : p9_util_spacy.spacy_tokenizer() : list index out of range\n",
      "p9_util_spacy.spacy_tokenizer() : df_data[p9_util_spacy.COLUMN_NAME_TOKEN].tolist()= []\n",
      "p9_util_spacy.spacy_tokenizer() : tokens issued from spacy tokenizer= 0    []\n",
      "Name: tokens, dtype: object\n",
      "\n",
      "*** ERROR : p9_util_spacy.spacy_tokenizer() : list index out of range\n",
      "p9_util_spacy.spacy_tokenizer() : df_data[p9_util_spacy.COLUMN_NAME_TOKEN].tolist()= []\n",
      "p9_util_spacy.spacy_tokenizer() : tokens issued from spacy tokenizer= 0    []\n",
      "Name: tokens, dtype: object\n",
      "\n",
      "*** ERROR : p9_util_spacy.spacy_tokenizer() : list index out of range\n",
      "p9_util_spacy.spacy_tokenizer() : df_data[p9_util_spacy.COLUMN_NAME_TOKEN].tolist()= []\n",
      "p9_util_spacy.spacy_tokenizer() : tokens issued from spacy tokenizer= 0    []\n",
      "Name: tokens, dtype: object\n",
      "\n",
      "*** ERROR : p9_util_spacy.spacy_tokenizer() : list index out of range\n",
      "p9_util_spacy.spacy_tokenizer() : df_data[p9_util_spacy.COLUMN_NAME_TOKEN].tolist()= []\n",
      "p9_util_spacy.spacy_tokenizer() : tokens issued from spacy tokenizer= 0    []\n",
      "Name: tokens, dtype: object\n",
      "\n",
      "*** ERROR : p9_util_spacy.spacy_tokenizer() : list index out of range\n",
      "p9_util_spacy.spacy_tokenizer() : df_data[p9_util_spacy.COLUMN_NAME_TOKEN].tolist()= []\n",
      "p9_util_spacy.spacy_tokenizer() : tokens issued from spacy tokenizer= 0    []\n",
      "Name: tokens, dtype: object\n",
      "\n",
      "*** ERROR : p9_util_spacy.spacy_tokenizer() : list index out of range\n",
      "p9_util_spacy.spacy_tokenizer() : df_data[p9_util_spacy.COLUMN_NAME_TOKEN].tolist()= []\n",
      "p9_util_spacy.spacy_tokenizer() : tokens issued from spacy tokenizer= 0    []\n",
      "Name: tokens, dtype: object\n",
      "\n",
      "*** ERROR : p9_util_spacy.spacy_tokenizer() : list index out of range\n",
      "p9_util_spacy.spacy_tokenizer() : df_data[p9_util_spacy.COLUMN_NAME_TOKEN].tolist()= []\n",
      "p9_util_spacy.spacy_tokenizer() : tokens issued from spacy tokenizer= 0    []\n",
      "Name: tokens, dtype: object\n",
      "\n",
      "*** ERROR : p9_util_spacy.spacy_tokenizer() : list index out of range\n",
      "p9_util_spacy.spacy_tokenizer() : df_data[p9_util_spacy.COLUMN_NAME_TOKEN].tolist()= []\n",
      "p9_util_spacy.spacy_tokenizer() : tokens issued from spacy tokenizer= 0    []\n",
      "Name: tokens, dtype: object\n",
      "\n",
      "***ERROR : empy list of tokens\n",
      "\n",
      "***ERROR : empy list of tokens\n",
      "\n",
      "***ERROR : empy list of tokens\n",
      "\n",
      "***ERROR : empy list of tokens\n",
      "\n",
      "***ERROR : empy list of tokens\n",
      "\n",
      "***ERROR : empy list of tokens\n",
      "\n",
      "***ERROR : empy list of tokens\n",
      "\n",
      "***ERROR : empy list of tokens\n",
      "\n",
      "***ERROR : empy list of tokens\n",
      "\n",
      "***ERROR : empy list of tokens\n",
      "\n",
      "***ERROR : empy list of tokens\n",
      "\n",
      "***ERROR : empy list of tokens\n",
      "\n",
      "***ERROR : empy list of tokens\n",
      "\n",
      "***ERROR : empy list of tokens\n",
      "\n",
      "***ERROR : empy list of tokens\n",
      "\n",
      "***ERROR : empy list of tokens\n",
      "\n",
      "***ERROR : empy list of tokens\n",
      "\n",
      "***ERROR : empy list of tokens\n",
      "\n",
      "***ERROR : empy list of tokens\n",
      "\n",
      "***ERROR : empy list of tokens\n",
      "\n",
      "***ERROR : empy list of tokens\n",
      "\n",
      "***ERROR : empy list of tokens\n",
      "\n",
      "***ERROR : empy list of tokens\n",
      "\n",
      "***ERROR : empy list of tokens\n",
      "\n",
      "***ERROR : empy list of tokens\n",
      "\n",
      "***ERROR : empy list of tokens\n",
      "\n",
      "***ERROR : empy list of tokens\n",
      "\n",
      "***ERROR : empy list of tokens\n",
      "\n",
      "***ERROR : empy list of tokens\n",
      "\n",
      "***ERROR : empy list of tokens\n",
      "\n",
      "***ERROR : empy list of tokens\n",
      "\n",
      "***ERROR : empy list of tokens\n",
      "\n",
      "***ERROR : empy list of tokens\n",
      "\n",
      "***ERROR : empy list of tokens\n",
      "\n",
      "***ERROR : empy list of tokens\n",
      "\n",
      "***ERROR : empy list of tokens\n",
      "\n",
      "***ERROR : empy list of tokens\n",
      "\n",
      "***ERROR : empy list of tokens\n",
      "\n",
      "***ERROR : empy list of tokens\n",
      "\n",
      "***ERROR : empy list of tokens\n",
      "\n",
      "***ERROR : empy list of tokens\n",
      "\n",
      "***ERROR : empy list of tokens\n",
      "\n",
      "***ERROR : empy list of tokens\n",
      "\n",
      "***ERROR : empy list of tokens\n",
      "\n",
      "***ERROR : empy list of tokens\n",
      "\n",
      "***ERROR : empy list of tokens\n",
      "\n",
      "***ERROR : empy list of tokens\n",
      "\n",
      "***ERROR : empy list of tokens\n",
      "\n",
      "***ERROR : empy list of tokens\n",
      "\n",
      "***ERROR : empy list of tokens\n",
      "\n",
      "***ERROR : empy list of tokens\n",
      "\n",
      "***ERROR : empy list of tokens\n",
      "\n",
      "***ERROR : empy list of tokens\n",
      "\n",
      "***ERROR : empy list of tokens\n",
      "\n",
      "***ERROR : empy list of tokens\n"
     ]
    }
   ],
   "source": [
    "dataPreparator_test = DataPreparator.DataPreparator(other=dataPreparator_train)\n",
    "X_test,y_test = dataPreparator_test.fit_transform(df_test.X[:sample_count].values,y= df_test.y[:sample_count].values)"
   ]
  },
  {
   "cell_type": "code",
   "execution_count": 13,
   "metadata": {},
   "outputs": [
    {
     "name": "stdout",
     "output_type": "stream",
     "text": [
      "(13616, 300) (13616,)\n"
     ]
    },
    {
     "data": {
      "text/html": [
       "<div>\n",
       "<style scoped>\n",
       "    .dataframe tbody tr th:only-of-type {\n",
       "        vertical-align: middle;\n",
       "    }\n",
       "\n",
       "    .dataframe tbody tr th {\n",
       "        vertical-align: top;\n",
       "    }\n",
       "\n",
       "    .dataframe thead th {\n",
       "        text-align: right;\n",
       "    }\n",
       "</style>\n",
       "<table border=\"1\" class=\"dataframe\">\n",
       "  <thead>\n",
       "    <tr style=\"text-align: right;\">\n",
       "      <th></th>\n",
       "      <th>docs</th>\n",
       "      <th>tokens</th>\n",
       "      <th>counting</th>\n",
       "      <th>vector</th>\n",
       "      <th>target</th>\n",
       "    </tr>\n",
       "  </thead>\n",
       "  <tbody>\n",
       "    <tr>\n",
       "      <th>12625</th>\n",
       "      <td>i think you response is a little harsh .   the...</td>\n",
       "      <td>[think, response, little, harsh, entire, syste...</td>\n",
       "      <td>29</td>\n",
       "      <td>[-0.13055219779411953, 0.05068325423945983, 0....</td>\n",
       "      <td>0.0</td>\n",
       "    </tr>\n",
       "  </tbody>\n",
       "</table>\n",
       "</div>"
      ],
      "text/plain": [
       "                                                    docs  \\\n",
       "12625  i think you response is a little harsh .   the...   \n",
       "\n",
       "                                                  tokens  counting  \\\n",
       "12625  [think, response, little, harsh, entire, syste...        29   \n",
       "\n",
       "                                                  vector  target  \n",
       "12625  [-0.13055219779411953, 0.05068325423945983, 0....     0.0  "
      ]
     },
     "execution_count": 13,
     "metadata": {},
     "output_type": "execute_result"
    }
   ],
   "source": [
    "print(X_test.shape,y_test.shape)\n",
    "dataPreparator_test.df_data.sample()"
   ]
  },
  {
   "cell_type": "markdown",
   "metadata": {},
   "source": [
    "## <font color=blus>2.4. Save test dataset `DataPreparator`</font>"
   ]
  },
  {
   "cell_type": "code",
   "execution_count": 14,
   "metadata": {},
   "outputs": [
    {
     "name": "stdout",
     "output_type": "stream",
     "text": [
      "\n",
      "DataPretarator test lenth=  13616\n"
     ]
    }
   ],
   "source": [
    "import numpy as np\n",
    "import p5_util\n",
    "\n",
    "filename_test = './data/DataPreparator_test'+'_'+vectorizer_name+'_'+str(sample_count)+'.dump'\n",
    "\n",
    "if True :\n",
    "    p5_util.object_dump(dataPreparator_test,filename_test)\n",
    "else : \n",
    "    dataPreparator_test = p5_util.object_load(filename_test)\n",
    "    \n",
    "print(\"\")\n",
    "print(\"DataPretarator test lenth=  {}\".format(len(dataPreparator_test)))\n"
   ]
  },
  {
   "cell_type": "code",
   "execution_count": 15,
   "metadata": {},
   "outputs": [
    {
     "data": {
      "text/html": [
       "<div>\n",
       "<style scoped>\n",
       "    .dataframe tbody tr th:only-of-type {\n",
       "        vertical-align: middle;\n",
       "    }\n",
       "\n",
       "    .dataframe tbody tr th {\n",
       "        vertical-align: top;\n",
       "    }\n",
       "\n",
       "    .dataframe thead th {\n",
       "        text-align: right;\n",
       "    }\n",
       "</style>\n",
       "<table border=\"1\" class=\"dataframe\">\n",
       "  <thead>\n",
       "    <tr style=\"text-align: right;\">\n",
       "      <th></th>\n",
       "      <th>docs</th>\n",
       "      <th>tokens</th>\n",
       "      <th>counting</th>\n",
       "      <th>vector</th>\n",
       "      <th>target</th>\n",
       "    </tr>\n",
       "  </thead>\n",
       "  <tbody>\n",
       "    <tr>\n",
       "      <th>9289</th>\n",
       "      <td>where 's the tax return , trump ? \\n\\n palin -...</td>\n",
       "      <td>[tax, return, trump, american, forgive, not, r...</td>\n",
       "      <td>10</td>\n",
       "      <td>[-0.059697292372584344, 0.026748561039566993, ...</td>\n",
       "      <td>0.166667</td>\n",
       "    </tr>\n",
       "    <tr>\n",
       "      <th>7407</th>\n",
       "      <td>another biased , hate - filled , loud , bombas...</td>\n",
       "      <td>[biased, hate, fill, loud, bombastic, angry, g...</td>\n",
       "      <td>23</td>\n",
       "      <td>[-0.10377996067206065, 0.027218689469931025, -...</td>\n",
       "      <td>0.600000</td>\n",
       "    </tr>\n",
       "    <tr>\n",
       "      <th>11171</th>\n",
       "      <td>there are profound differences between the ken...</td>\n",
       "      <td>[profound, difference, kennedy, communication,...</td>\n",
       "      <td>24</td>\n",
       "      <td>[-0.12927806040892997, 0.056012253140409786, 0...</td>\n",
       "      <td>0.000000</td>\n",
       "    </tr>\n",
       "  </tbody>\n",
       "</table>\n",
       "</div>"
      ],
      "text/plain": [
       "                                                    docs  \\\n",
       "9289   where 's the tax return , trump ? \\n\\n palin -...   \n",
       "7407   another biased , hate - filled , loud , bombas...   \n",
       "11171  there are profound differences between the ken...   \n",
       "\n",
       "                                                  tokens  counting  \\\n",
       "9289   [tax, return, trump, american, forgive, not, r...        10   \n",
       "7407   [biased, hate, fill, loud, bombastic, angry, g...        23   \n",
       "11171  [profound, difference, kennedy, communication,...        24   \n",
       "\n",
       "                                                  vector    target  \n",
       "9289   [-0.059697292372584344, 0.026748561039566993, ...  0.166667  \n",
       "7407   [-0.10377996067206065, 0.027218689469931025, -...  0.600000  \n",
       "11171  [-0.12927806040892997, 0.056012253140409786, 0...  0.000000  "
      ]
     },
     "execution_count": 15,
     "metadata": {},
     "output_type": "execute_result"
    }
   ],
   "source": [
    "dataPreparator_train.df_data.sample(3)"
   ]
  },
  {
   "cell_type": "markdown",
   "metadata": {},
   "source": [
    "# <font color=blus>3. Dataset analysis</font>"
   ]
  },
  {
   "cell_type": "markdown",
   "metadata": {},
   "source": [
    "## <font color=blus>3.1. Tokens length statistics</font>"
   ]
  },
  {
   "cell_type": "code",
   "execution_count": 24,
   "metadata": {},
   "outputs": [
    {
     "name": "stdout",
     "output_type": "stream",
     "text": [
      "count    4593.000000\n",
      "mean       27.991291\n",
      "std        23.849611\n",
      "min         4.000000\n",
      "25%        10.000000\n",
      "50%        20.000000\n",
      "75%        39.000000\n",
      "max       129.000000\n",
      "Name: counting, dtype: float64\n",
      " \n",
      "Max train document length= 129\n"
     ]
    },
    {
     "data": {
      "image/png": "[encoded data removed]",
      "text/plain": [
       "<Figure size 432x288 with 1 Axes>"
      ]
     },
     "metadata": {
      "needs_background": "light"
     },
     "output_type": "display_data"
    }
   ],
   "source": [
    "import seaborn as sns\n",
    "count_column_name = dataPreparator_train.COLUMN_NAME_COUNT\n",
    "\n",
    "print(dataPreparator_train.df_data[count_column_name].describe())\n",
    "z_=sns.violinplot( y=dataPreparator_train.df_data[count_column_name] )\n",
    "max_train_len = dataPreparator_train.df_data[count_column_name].max()\n",
    "print(\" \")\n",
    "print(\"Max train document length= {}\".format(max_train_len))"
   ]
  },
  {
   "cell_type": "code",
   "execution_count": 25,
   "metadata": {},
   "outputs": [
    {
     "name": "stdout",
     "output_type": "stream",
     "text": [
      "count    4581.000000\n",
      "mean       27.840428\n",
      "std        23.512100\n",
      "min         4.000000\n",
      "25%        10.000000\n",
      "50%        20.000000\n",
      "75%        38.000000\n",
      "max       114.000000\n",
      "Name: counting, dtype: float64\n",
      " \n",
      "Max train document length= 114\n"
     ]
    },
    {
     "data": {
      "image/png": "[encoded data removed]",
      "text/plain": [
       "<Figure size 432x288 with 1 Axes>"
      ]
     },
     "metadata": {
      "needs_background": "light"
     },
     "output_type": "display_data"
    }
   ],
   "source": [
    "import seaborn as sns\n",
    "count_column_name = dataPreparator_test.COLUMN_NAME_COUNT\n",
    "\n",
    "print(dataPreparator_test.df_data[count_column_name].describe())\n",
    "z_=sns.violinplot( y=dataPreparator_test.df_data[count_column_name] )\n",
    "max_train_len = dataPreparator_test.df_data[count_column_name].max()\n",
    "print(\" \")\n",
    "print(\"Max train document length= {}\".format(max_train_len))"
   ]
  },
  {
   "cell_type": "markdown",
   "metadata": {},
   "source": [
    "    Both, train and test datasets have approximatively same distribution considering text length.\n",
    "\n",
    "    Considering above distribution, text max_length is the value in a such way 100% of dataset is processed.\n",
    "    "
   ]
  },
  {
   "cell_type": "markdown",
   "metadata": {},
   "source": [
    "## <font color=blus>3.2. Corpus toxicity distribution analysis</font>"
   ]
  },
  {
   "cell_type": "markdown",
   "metadata": {},
   "source": [
    "    Analysis of ratio of toxic texts in corpus, each for test and train dataset.\n",
    "    Text is regarded as toxic when target score is >0.\n",
    "    This means, toxicity intensity is not taken into account."
   ]
  },
  {
   "cell_type": "code",
   "execution_count": 12,
   "metadata": {},
   "outputs": [],
   "source": [
    "import numpy as np\n",
    "\n",
    "column_name = dataPreparator_train.COLUMN_NAME_TARGET\n",
    "y_train_truncated = np.array(dataPreparator_train.df_data[column_name].tolist())\n",
    "y_test_truncated = np.array(dataPreparator_test.df_data[column_name].tolist())"
   ]
  },
  {
   "cell_type": "code",
   "execution_count": 13,
   "metadata": {},
   "outputs": [
    {
     "name": "stdout",
     "output_type": "stream",
     "text": [
      "Percentage of toxics texts from train dataset= 31.10%\n",
      "Percentage of toxics texts from test dataset=  31.03%\n"
     ]
    }
   ],
   "source": [
    "import numpy  as np\n",
    "\n",
    "print(\"Percentage of toxics texts from train dataset= {0:.2f}%\".format(100*len(np.where(y_train_truncated > 0.)[0])/len(y_train_truncated)))\n",
    "print(\"Percentage of toxics texts from test dataset=  {0:.2f}%\".format(100*len(np.where(y_test_truncated > 0.)[0])/len(y_test_truncated)))"
   ]
  },
  {
   "cell_type": "markdown",
   "metadata": {},
   "source": [
    "    Let's consider toxic texts with a target score > 0.3 : "
   ]
  },
  {
   "cell_type": "code",
   "execution_count": 14,
   "metadata": {},
   "outputs": [
    {
     "name": "stdout",
     "output_type": "stream",
     "text": [
      "Percentage of toxics texts > 0.3 from train dataset= 11.67%\n",
      "Percentage of toxics texts > 0.3 from test dataset=  11.44%\n"
     ]
    }
   ],
   "source": [
    "import numpy  as np\n",
    "score_threshold = 0.3\n",
    "print(\"Percentage of toxics texts > {1} from train dataset= {0:.2f}%\".format(100*len(np.where(y_train_truncated > score_threshold)[0])/len(y_train_truncated), score_threshold))\n",
    "print(\"Percentage of toxics texts > {1} from test dataset=  {0:.2f}%\".format(100*len(np.where(y_test_truncated > score_threshold)[0])/len(y_test_truncated), score_threshold))"
   ]
  },
  {
   "cell_type": "markdown",
   "metadata": {},
   "source": [
    "    On the display above, for both train and test datasets, there is the same percentage of toxics texts.\n",
    "\n",
    "    Let's convert target values as int ranging from 0 to 10.\n",
    "    This is done for the easy of representation of the toxic distribution."
   ]
  },
  {
   "cell_type": "code",
   "execution_count": 35,
   "metadata": {},
   "outputs": [
    {
     "data": {
      "image/png": "[encoded data removed]",
      "text/plain": [
       "<Figure size 432x288 with 1 Axes>"
      ]
     },
     "metadata": {
      "needs_background": "light"
     },
     "output_type": "display_data"
    }
   ],
   "source": [
    "import seaborn as sns\n",
    "\n",
    "_ = sns.kdeplot(np.ndarray.astype(np.round(y_train_truncated*10),int), shade=True)"
   ]
  },
  {
   "cell_type": "markdown",
   "metadata": {},
   "source": [
    "    It can be shown that :\n",
    "        --> Free toxic texts are the most frequent state into discussions.\n",
    "        --> Highly toxic texts are very few in discussions.\n",
    "        --> Frequency of toxic texts decreases along with toxicity intensity.\n",
    "        \n",
    "    Data model is not balanced between free toxic texts (mostly 90%) and texts with toxicity indicator value >0.\n",
    "    \n",
    "    This may lead to some hardness when for training an algorithm to predict toxicity values with so few \n",
    "    toxic samples.\n",
    "    \n",
    "        "
   ]
  },
  {
   "cell_type": "code",
   "execution_count": 36,
   "metadata": {},
   "outputs": [
    {
     "data": {
      "image/png": "[encoded data removed]",
      "text/plain": [
       "<Figure size 432x288 with 1 Axes>"
      ]
     },
     "metadata": {
      "needs_background": "light"
     },
     "output_type": "display_data"
    }
   ],
   "source": [
    "import seaborn as sns\n",
    "\n",
    "score_threshold =0.2\n",
    "arr_index = np.where(np.array(y_train_truncated) >= score_threshold)[0]\n",
    "y_train_token_threshold = np.array(y_train_truncated)[arr_index]\n",
    "\n",
    " \n",
    "_=sns.kdeplot(np.ndarray.astype(np.round(y_train_token_threshold*10),int), shade=True)"
   ]
  },
  {
   "cell_type": "markdown",
   "metadata": {},
   "source": [
    "    Graphic above leads to consider toxicity scores as multivariate outliers.\n",
    "    \n",
    "    Applied method : \n",
    "    --------------\n",
    "        1) Binary classification of observation: outlier or not\n",
    "        2) Applying a regression model for scoring observations issues from previous binary classification."
   ]
  },
  {
   "cell_type": "markdown",
   "metadata": {},
   "source": [
    "## <font color=blus>3.3. `suspect` token distribution</font>"
   ]
  },
  {
   "cell_type": "markdown",
   "metadata": {},
   "source": [
    "    `suspect` is the token that has replaced any unknowed word from vocabulary.\n",
    "    This analysis explore correlations against toxicity indicators."
   ]
  },
  {
   "cell_type": "markdown",
   "metadata": {},
   "source": [
    "For each row, the number of words `suspect` is counted and recorded in column named `suspect` from dataframe."
   ]
  },
  {
   "cell_type": "code",
   "execution_count": 15,
   "metadata": {},
   "outputs": [
    {
     "name": "stdout",
     "output_type": "stream",
     "text": [
      "Index(['docs', 'target', 'tokens', 'counting', 'vector'], dtype='object')\n"
     ]
    }
   ],
   "source": [
    "import pandas as pd\n",
    "\n",
    "\n",
    "print(dataPreparator_train.df_data.columns)\n",
    "length = len(dataPreparator_train.df_data)\n",
    "\n",
    "ser = pd.Series(np.zeros(length, dtype=int), index= dataPreparator_train.df_data.index)\n",
    "\n",
    "column_name = dataPreparator_train.COLUMN_NAME_TOKEN\n",
    "for index,list_token in \\\n",
    "zip(dataPreparator_train.df_data[column_name].index, dataPreparator_train.df_data[column_name].tolist()):\n",
    "    count = 0\n",
    "    for token in list_token :\n",
    "        if token == 'suspect':\n",
    "            count += 1\n",
    "        else : \n",
    "            pass\n",
    "        ser[index] = count\n",
    "dataPreparator_train.df_data['suspect'] = ser\n"
   ]
  },
  {
   "cell_type": "code",
   "execution_count": 16,
   "metadata": {},
   "outputs": [
    {
     "data": {
      "text/plain": [
       "0.36693899782135075"
      ]
     },
     "execution_count": 16,
     "metadata": {},
     "output_type": "execute_result"
    }
   ],
   "source": [
    "dataPreparator_train.df_data['suspect'].sum()/length"
   ]
  },
  {
   "cell_type": "code",
   "execution_count": 17,
   "metadata": {},
   "outputs": [
    {
     "name": "stderr",
     "output_type": "stream",
     "text": [
      "/home/bangui/.local/lib/python3.6/site-packages/scipy/stats/stats.py:1713: FutureWarning: Using a non-tuple sequence for multidimensional indexing is deprecated; use `arr[tuple(seq)]` instead of `arr[seq]`. In the future this will be interpreted as an array index, `arr[np.array(seq)]`, which will result either in an error or a different result.\n",
      "  return np.add.reduce(sorted[indexer] * weights, axis=axis) / sumval\n"
     ]
    },
    {
     "data": {
      "image/png": "[encoded data removed]",
      "text/plain": [
       "<Figure size 432x288 with 1 Axes>"
      ]
     },
     "metadata": {
      "needs_background": "light"
     },
     "output_type": "display_data"
    }
   ],
   "source": [
    "import seaborn as sns\n",
    "\n",
    "_ = sns.kdeplot(dataPreparator_train.df_data['suspect'], shade=True)"
   ]
  },
  {
   "cell_type": "code",
   "execution_count": 18,
   "metadata": {},
   "outputs": [
    {
     "data": {
      "text/plain": [
       "<seaborn.axisgrid.PairGrid at 0x7f24003e4e48>"
      ]
     },
     "execution_count": 18,
     "metadata": {},
     "output_type": "execute_result"
    },
    {
     "data": {
      "image/png": "[encoded data removed]",
      "text/plain": [
       "<Figure size 360x360 with 6 Axes>"
      ]
     },
     "metadata": {
      "needs_background": "light"
     },
     "output_type": "display_data"
    }
   ],
   "source": [
    "df = dataPreparator_train.df_data[['target','suspect']]\n",
    "import seaborn as sns\n",
    "sns.pairplot(df, diag_kind=\"kde\")"
   ]
  },
  {
   "cell_type": "code",
   "execution_count": 54,
   "metadata": {},
   "outputs": [
    {
     "name": "stdout",
     "output_type": "stream",
     "text": [
      "\n",
      "Pearson coefficient between (target,suspect) = -0.010544239859546237\n"
     ]
    },
    {
     "data": {
      "image/png": "[encoded data removed]",
      "text/plain": [
       "<Figure size 432x432 with 3 Axes>"
      ]
     },
     "metadata": {},
     "output_type": "display_data"
    }
   ],
   "source": [
    "import scipy\n",
    "\n",
    "import p3_util_plot\n",
    "\n",
    "var1 = 'target'\n",
    "var2 = 'suspect'\n",
    "\n",
    "pearson = scipy.stats.pearsonr(df[var1],df[var2])\n",
    "print(\"\\nPearson coefficient between ({},{}) = {}\".format(var1,var2, pearson[0]))\n",
    "\n",
    "#p3_util_plot.df_sns_joint_plot(df_train_sample, var1, var2, parameter_kind='reg', parameter_color='grey')\n",
    "p3_util_plot.df_sns_joint_plot(df, var1, var2, parameter_color='grey')\n"
   ]
  },
  {
   "cell_type": "markdown",
   "metadata": {},
   "source": [
    "Figure above shows that there is no linear relation between replaced words with `target` and toxicity."
   ]
  },
  {
   "cell_type": "code",
   "execution_count": null,
   "metadata": {},
   "outputs": [],
   "source": [
    "df."
   ]
  },
  {
   "cell_type": "code",
   "execution_count": 71,
   "metadata": {},
   "outputs": [
    {
     "data": {
      "text/plain": [
       "476665"
      ]
     },
     "execution_count": 71,
     "metadata": {},
     "output_type": "execute_result"
    }
   ],
   "source": [
    "len(df_train.loc[:10])"
   ]
  },
  {
   "cell_type": "code",
   "execution_count": 72,
   "metadata": {},
   "outputs": [
    {
     "name": "stdout",
     "output_type": "stream",
     "text": [
      "Help on _LocIndexer in module pandas.core.indexing object:\n",
      "\n",
      "class _LocIndexer(_LocationIndexer)\n",
      " |  Access a group of rows and columns by label(s) or a boolean array.\n",
      " |  \n",
      " |  ``.loc[]`` is primarily label based, but may also be used with a\n",
      " |  boolean array.\n",
      " |  \n",
      " |  Allowed inputs are:\n",
      " |  \n",
      " |  - A single label, e.g. ``5`` or ``'a'``, (note that ``5`` is\n",
      " |    interpreted as a *label* of the index, and **never** as an\n",
      " |    integer position along the index).\n",
      " |  - A list or array of labels, e.g. ``['a', 'b', 'c']``.\n",
      " |  - A slice object with labels, e.g. ``'a':'f'``.\n",
      " |  \n",
      " |    .. warning:: Note that contrary to usual python slices, **both** the\n",
      " |        start and the stop are included\n",
      " |  \n",
      " |  - A boolean array of the same length as the axis being sliced,\n",
      " |    e.g. ``[True, False, True]``.\n",
      " |  - A ``callable`` function with one argument (the calling Series, DataFrame\n",
      " |    or Panel) and that returns valid output for indexing (one of the above)\n",
      " |  \n",
      " |  See more at :ref:`Selection by Label <indexing.label>`\n",
      " |  \n",
      " |  See Also\n",
      " |  --------\n",
      " |  DataFrame.at : Access a single value for a row/column label pair\n",
      " |  DataFrame.iloc : Access group of rows and columns by integer position(s)\n",
      " |  DataFrame.xs : Returns a cross-section (row(s) or column(s)) from the\n",
      " |      Series/DataFrame.\n",
      " |  Series.loc : Access group of values using labels\n",
      " |  \n",
      " |  Examples\n",
      " |  --------\n",
      " |  **Getting values**\n",
      " |  \n",
      " |  >>> df = pd.DataFrame([[1, 2], [4, 5], [7, 8]],\n",
      " |  ...      index=['cobra', 'viper', 'sidewinder'],\n",
      " |  ...      columns=['max_speed', 'shield'])\n",
      " |  >>> df\n",
      " |              max_speed  shield\n",
      " |  cobra               1       2\n",
      " |  viper               4       5\n",
      " |  sidewinder          7       8\n",
      " |  \n",
      " |  Single label. Note this returns the row as a Series.\n",
      " |  \n",
      " |  >>> df.loc['viper']\n",
      " |  max_speed    4\n",
      " |  shield       5\n",
      " |  Name: viper, dtype: int64\n",
      " |  \n",
      " |  List of labels. Note using ``[[]]`` returns a DataFrame.\n",
      " |  \n",
      " |  >>> df.loc[['viper', 'sidewinder']]\n",
      " |              max_speed  shield\n",
      " |  viper               4       5\n",
      " |  sidewinder          7       8\n",
      " |  \n",
      " |  Single label for row and column\n",
      " |  \n",
      " |  >>> df.loc['cobra', 'shield']\n",
      " |  2\n",
      " |  \n",
      " |  Slice with labels for row and single label for column. As mentioned\n",
      " |  above, note that both the start and stop of the slice are included.\n",
      " |  \n",
      " |  >>> df.loc['cobra':'viper', 'max_speed']\n",
      " |  cobra    1\n",
      " |  viper    4\n",
      " |  Name: max_speed, dtype: int64\n",
      " |  \n",
      " |  Boolean list with the same length as the row axis\n",
      " |  \n",
      " |  >>> df.loc[[False, False, True]]\n",
      " |              max_speed  shield\n",
      " |  sidewinder          7       8\n",
      " |  \n",
      " |  Conditional that returns a boolean Series\n",
      " |  \n",
      " |  >>> df.loc[df['shield'] > 6]\n",
      " |              max_speed  shield\n",
      " |  sidewinder          7       8\n",
      " |  \n",
      " |  Conditional that returns a boolean Series with column labels specified\n",
      " |  \n",
      " |  >>> df.loc[df['shield'] > 6, ['max_speed']]\n",
      " |              max_speed\n",
      " |  sidewinder          7\n",
      " |  \n",
      " |  Callable that returns a boolean Series\n",
      " |  \n",
      " |  >>> df.loc[lambda df: df['shield'] == 8]\n",
      " |              max_speed  shield\n",
      " |  sidewinder          7       8\n",
      " |  \n",
      " |  **Setting values**\n",
      " |  \n",
      " |  Set value for all items matching the list of labels\n",
      " |  \n",
      " |  >>> df.loc[['viper', 'sidewinder'], ['shield']] = 50\n",
      " |  >>> df\n",
      " |              max_speed  shield\n",
      " |  cobra               1       2\n",
      " |  viper               4      50\n",
      " |  sidewinder          7      50\n",
      " |  \n",
      " |  Set value for an entire row\n",
      " |  \n",
      " |  >>> df.loc['cobra'] = 10\n",
      " |  >>> df\n",
      " |              max_speed  shield\n",
      " |  cobra              10      10\n",
      " |  viper               4      50\n",
      " |  sidewinder          7      50\n",
      " |  \n",
      " |  Set value for an entire column\n",
      " |  \n",
      " |  >>> df.loc[:, 'max_speed'] = 30\n",
      " |  >>> df\n",
      " |              max_speed  shield\n",
      " |  cobra              30      10\n",
      " |  viper              30      50\n",
      " |  sidewinder         30      50\n",
      " |  \n",
      " |  Set value for rows matching callable condition\n",
      " |  \n",
      " |  >>> df.loc[df['shield'] > 35] = 0\n",
      " |  >>> df\n",
      " |              max_speed  shield\n",
      " |  cobra              30      10\n",
      " |  viper               0       0\n",
      " |  sidewinder          0       0\n",
      " |  \n",
      " |  **Getting values on a DataFrame with an index that has integer labels**\n",
      " |  \n",
      " |  Another example using integers for the index\n",
      " |  \n",
      " |  >>> df = pd.DataFrame([[1, 2], [4, 5], [7, 8]],\n",
      " |  ...      index=[7, 8, 9], columns=['max_speed', 'shield'])\n",
      " |  >>> df\n",
      " |     max_speed  shield\n",
      " |  7          1       2\n",
      " |  8          4       5\n",
      " |  9          7       8\n",
      " |  \n",
      " |  Slice with integer labels for rows. As mentioned above, note that both\n",
      " |  the start and stop of the slice are included.\n",
      " |  \n",
      " |  >>> df.loc[7:9]\n",
      " |     max_speed  shield\n",
      " |  7          1       2\n",
      " |  8          4       5\n",
      " |  9          7       8\n",
      " |  \n",
      " |  **Getting values with a MultiIndex**\n",
      " |  \n",
      " |  A number of examples using a DataFrame with a MultiIndex\n",
      " |  \n",
      " |  >>> tuples = [\n",
      " |  ...    ('cobra', 'mark i'), ('cobra', 'mark ii'),\n",
      " |  ...    ('sidewinder', 'mark i'), ('sidewinder', 'mark ii'),\n",
      " |  ...    ('viper', 'mark ii'), ('viper', 'mark iii')\n",
      " |  ... ]\n",
      " |  >>> index = pd.MultiIndex.from_tuples(tuples)\n",
      " |  >>> values = [[12, 2], [0, 4], [10, 20],\n",
      " |  ...         [1, 4], [7, 1], [16, 36]]\n",
      " |  >>> df = pd.DataFrame(values, columns=['max_speed', 'shield'], index=index)\n",
      " |  >>> df\n",
      " |                       max_speed  shield\n",
      " |  cobra      mark i           12       2\n",
      " |             mark ii           0       4\n",
      " |  sidewinder mark i           10      20\n",
      " |             mark ii           1       4\n",
      " |  viper      mark ii           7       1\n",
      " |             mark iii         16      36\n",
      " |  \n",
      " |  Single label. Note this returns a DataFrame with a single index.\n",
      " |  \n",
      " |  >>> df.loc['cobra']\n",
      " |           max_speed  shield\n",
      " |  mark i          12       2\n",
      " |  mark ii          0       4\n",
      " |  \n",
      " |  Single index tuple. Note this returns a Series.\n",
      " |  \n",
      " |  >>> df.loc[('cobra', 'mark ii')]\n",
      " |  max_speed    0\n",
      " |  shield       4\n",
      " |  Name: (cobra, mark ii), dtype: int64\n",
      " |  \n",
      " |  Single label for row and column. Similar to passing in a tuple, this\n",
      " |  returns a Series.\n",
      " |  \n",
      " |  >>> df.loc['cobra', 'mark i']\n",
      " |  max_speed    12\n",
      " |  shield        2\n",
      " |  Name: (cobra, mark i), dtype: int64\n",
      " |  \n",
      " |  Single tuple. Note using ``[[]]`` returns a DataFrame.\n",
      " |  \n",
      " |  >>> df.loc[[('cobra', 'mark ii')]]\n",
      " |                 max_speed  shield\n",
      " |  cobra mark ii          0       4\n",
      " |  \n",
      " |  Single tuple for the index with a single label for the column\n",
      " |  \n",
      " |  >>> df.loc[('cobra', 'mark i'), 'shield']\n",
      " |  2\n",
      " |  \n",
      " |  Slice from index tuple to single label\n",
      " |  \n",
      " |  >>> df.loc[('cobra', 'mark i'):'viper']\n",
      " |                       max_speed  shield\n",
      " |  cobra      mark i           12       2\n",
      " |             mark ii           0       4\n",
      " |  sidewinder mark i           10      20\n",
      " |             mark ii           1       4\n",
      " |  viper      mark ii           7       1\n",
      " |             mark iii         16      36\n",
      " |  \n",
      " |  Slice from index tuple to index tuple\n",
      " |  \n",
      " |  >>> df.loc[('cobra', 'mark i'):('viper', 'mark ii')]\n",
      " |                      max_speed  shield\n",
      " |  cobra      mark i          12       2\n",
      " |             mark ii          0       4\n",
      " |  sidewinder mark i          10      20\n",
      " |             mark ii          1       4\n",
      " |  viper      mark ii          7       1\n",
      " |  \n",
      " |  Raises\n",
      " |  ------\n",
      " |  KeyError:\n",
      " |      when any items are not found\n",
      " |  \n",
      " |  Method resolution order:\n",
      " |      _LocIndexer\n",
      " |      _LocationIndexer\n",
      " |      _NDFrameIndexer\n",
      " |      pandas._libs.indexing._NDFrameIndexerBase\n",
      " |      builtins.object\n",
      " |  \n",
      " |  Methods inherited from _LocationIndexer:\n",
      " |  \n",
      " |  __getitem__(self, key)\n",
      " |  \n",
      " |  ----------------------------------------------------------------------\n",
      " |  Methods inherited from _NDFrameIndexer:\n",
      " |  \n",
      " |  __call__(self, axis=None)\n",
      " |      Call self as a function.\n",
      " |  \n",
      " |  __iter__(self)\n",
      " |  \n",
      " |  __setitem__(self, key, value)\n",
      " |  \n",
      " |  ----------------------------------------------------------------------\n",
      " |  Data descriptors inherited from _NDFrameIndexer:\n",
      " |  \n",
      " |  __dict__\n",
      " |      dictionary for instance variables (if defined)\n",
      " |  \n",
      " |  __weakref__\n",
      " |      list of weak references to the object (if defined)\n",
      " |  \n",
      " |  ----------------------------------------------------------------------\n",
      " |  Data and other attributes inherited from _NDFrameIndexer:\n",
      " |  \n",
      " |  axis = None\n",
      " |  \n",
      " |  ----------------------------------------------------------------------\n",
      " |  Methods inherited from pandas._libs.indexing._NDFrameIndexerBase:\n",
      " |  \n",
      " |  __init__(self, /, *args, **kwargs)\n",
      " |      Initialize self.  See help(type(self)) for accurate signature.\n",
      " |  \n",
      " |  __new__(*args, **kwargs) from builtins.type\n",
      " |      Create and return a new object.  See help(type) for accurate signature.\n",
      " |  \n",
      " |  __reduce__ = __reduce_cython__(...)\n",
      " |  \n",
      " |  __setstate__ = __setstate_cython__(...)\n",
      " |  \n",
      " |  ----------------------------------------------------------------------\n",
      " |  Data descriptors inherited from pandas._libs.indexing._NDFrameIndexerBase:\n",
      " |  \n",
      " |  name\n",
      " |  \n",
      " |  ndim\n",
      " |  \n",
      " |  obj\n",
      "\n"
     ]
    }
   ],
   "source": [
    "help(df_train.loc)"
   ]
  },
  {
   "cell_type": "code",
   "execution_count": null,
   "metadata": {},
   "outputs": [],
   "source": []
  },
  {
   "cell_type": "code",
   "execution_count": null,
   "metadata": {},
   "outputs": [],
   "source": []
  },
  {
   "cell_type": "code",
   "execution_count": null,
   "metadata": {},
   "outputs": [],
   "source": []
  },
  {
   "cell_type": "code",
   "execution_count": null,
   "metadata": {},
   "outputs": [],
   "source": []
  },
  {
   "cell_type": "code",
   "execution_count": 20,
   "metadata": {},
   "outputs": [
    {
     "data": {
      "text/html": [
       "<div>\n",
       "<style scoped>\n",
       "    .dataframe tbody tr th:only-of-type {\n",
       "        vertical-align: middle;\n",
       "    }\n",
       "\n",
       "    .dataframe tbody tr th {\n",
       "        vertical-align: top;\n",
       "    }\n",
       "\n",
       "    .dataframe thead th {\n",
       "        text-align: right;\n",
       "    }\n",
       "</style>\n",
       "<table border=\"1\" class=\"dataframe\">\n",
       "  <thead>\n",
       "    <tr style=\"text-align: right;\">\n",
       "      <th></th>\n",
       "      <th>target</th>\n",
       "      <th>suspect</th>\n",
       "    </tr>\n",
       "  </thead>\n",
       "  <tbody>\n",
       "    <tr>\n",
       "      <th>19592</th>\n",
       "      <td>1.0</td>\n",
       "      <td>1</td>\n",
       "    </tr>\n",
       "    <tr>\n",
       "      <th>342</th>\n",
       "      <td>1.0</td>\n",
       "      <td>0</td>\n",
       "    </tr>\n",
       "    <tr>\n",
       "      <th>5472</th>\n",
       "      <td>1.0</td>\n",
       "      <td>0</td>\n",
       "    </tr>\n",
       "  </tbody>\n",
       "</table>\n",
       "</div>"
      ],
      "text/plain": [
       "       target  suspect\n",
       "19592     1.0        1\n",
       "342       1.0        0\n",
       "5472      1.0        0"
      ]
     },
     "execution_count": 20,
     "metadata": {},
     "output_type": "execute_result"
    }
   ],
   "source": [
    "df[df.target>0.9].sample(3)"
   ]
  },
  {
   "cell_type": "code",
   "execution_count": 30,
   "metadata": {},
   "outputs": [
    {
     "name": "stdout",
     "output_type": "stream",
     "text": [
      "america , like santiago 's great fish , is now inert and being circled by sharks : russia , china , north korea .   this time , unlike any time since the civil war , it 's existential .   and who do we have protecting our way of life ?   i 'd say the keystone kops , but they actually always   got their man .   this crew is better described by macbeth :   \" . . . a tale , told by an idiot , full of sound and fury , and signifying nothing . \"\n"
     ]
    }
   ],
   "source": [
    "doc = dataPreparator_train.df_data.loc[342].docs\n",
    "print(doc)"
   ]
  },
  {
   "cell_type": "code",
   "execution_count": 46,
   "metadata": {},
   "outputs": [
    {
     "name": "stdout",
     "output_type": "stream",
     "text": [
      "america, like santiago's great fish, is now inert and being circled by sharks: russia, china, north korea.  this time, unlike any time since the civil war, it's existential.  and who do we have protecting our way of life?  i'd say the keystone kops, but they actually always  got their man.  this crew is better described by macbeth:  \". . . a tale, told by an idiot, full of sound and fury, and signifying nothing.\"\n"
     ]
    }
   ],
   "source": [
    "print(df_train.iloc[342].X)"
   ]
  },
  {
   "cell_type": "code",
   "execution_count": 28,
   "metadata": {},
   "outputs": [
    {
     "data": {
      "text/plain": [
       "['america',\n",
       " 'like',\n",
       " 'santiago',\n",
       " 'great',\n",
       " 'fish',\n",
       " 'inert',\n",
       " 'circle',\n",
       " 'shark',\n",
       " 'russia',\n",
       " 'china',\n",
       " 'north',\n",
       " 'korea',\n",
       " '  ',\n",
       " 'time',\n",
       " 'unlike',\n",
       " 'time',\n",
       " 'civil',\n",
       " 'war',\n",
       " 'existential',\n",
       " '  ',\n",
       " 'protect',\n",
       " 'way',\n",
       " 'life',\n",
       " '  ',\n",
       " 'keystone',\n",
       " 'kop',\n",
       " 'actually',\n",
       " '  ',\n",
       " 'get',\n",
       " 'man',\n",
       " '  ',\n",
       " 'crew',\n",
       " 'better',\n",
       " 'describe',\n",
       " 'macbeth',\n",
       " '  ',\n",
       " 'tale',\n",
       " 'tell',\n",
       " 'idiot',\n",
       " 'sound',\n",
       " 'fury',\n",
       " 'signify']"
      ]
     },
     "execution_count": 28,
     "metadata": {},
     "output_type": "execute_result"
    }
   ],
   "source": [
    "dataPreparator_train.df_data.loc[342].tokens"
   ]
  },
  {
   "cell_type": "code",
   "execution_count": 103,
   "metadata": {},
   "outputs": [
    {
     "data": {
      "text/plain": [
       "True"
      ]
     },
     "execution_count": 103,
     "metadata": {},
     "output_type": "execute_result"
    }
   ],
   "source": [
    "a = np.zeros(0)\n",
    "isinstance(a, type(a).mro()[0])"
   ]
  },
  {
   "cell_type": "code",
   "execution_count": 50,
   "metadata": {},
   "outputs": [],
   "source": [
    "from sklearn.feature_extraction.text import CountVectorizer\n",
    "import pandas as pd\n",
    "\n",
    "ser = pd.Series(doc)\n",
    "ser\n",
    "ngram_range=(1,1)\n",
    "max_features = 500\n",
    "countVectorizer = CountVectorizer(ngram_range=ngram_range, max_features=max_features)"
   ]
  },
  {
   "cell_type": "code",
   "execution_count": 36,
   "metadata": {},
   "outputs": [
    {
     "name": "stdout",
     "output_type": "stream",
     "text": [
      "\n",
      "Fit vectorizer pipeline...\n",
      "Transform data with vectorizer...\n"
     ]
    }
   ],
   "source": [
    "import p9_util\n",
    "tfidf_vectorizer, csr_matrix=p9_util.tfidf_vectorization(ser, vectorizer = None,   \n",
    "                    ngram_range=(1, 1)\\\n",
    "                    , max_features=500)"
   ]
  },
  {
   "cell_type": "code",
   "execution_count": 68,
   "metadata": {},
   "outputs": [
    {
     "name": "stdout",
     "output_type": "stream",
     "text": [
      "{'memory': None, 'steps': [('countvectorizer', CountVectorizer(analyzer='word', binary=False, decode_error='strict',\n",
      "                dtype=<class 'numpy.int64'>, encoding='utf-8', input='content',\n",
      "                lowercase=True, max_df=1.0, max_features=500, min_df=1,\n",
      "                ngram_range=(1, 1), preprocessor=None, stop_words=None,\n",
      "                strip_accents=None, token_pattern='(?u)\\\\b\\\\w\\\\w+\\\\b',\n",
      "                tokenizer=None, vocabulary=None)), ('tfidftransformer', TfidfTransformer(norm='l2', smooth_idf=True, sublinear_tf=False, use_idf=True))], 'verbose': False, 'countvectorizer': CountVectorizer(analyzer='word', binary=False, decode_error='strict',\n",
      "                dtype=<class 'numpy.int64'>, encoding='utf-8', input='content',\n",
      "                lowercase=True, max_df=1.0, max_features=500, min_df=1,\n",
      "                ngram_range=(1, 1), preprocessor=None, stop_words=None,\n",
      "                strip_accents=None, token_pattern='(?u)\\\\b\\\\w\\\\w+\\\\b',\n",
      "                tokenizer=None, vocabulary=None), 'tfidftransformer': TfidfTransformer(norm='l2', smooth_idf=True, sublinear_tf=False, use_idf=True), 'countvectorizer__analyzer': 'word', 'countvectorizer__binary': False, 'countvectorizer__decode_error': 'strict', 'countvectorizer__dtype': <class 'numpy.int64'>, 'countvectorizer__encoding': 'utf-8', 'countvectorizer__input': 'content', 'countvectorizer__lowercase': True, 'countvectorizer__max_df': 1.0, 'countvectorizer__max_features': 500, 'countvectorizer__min_df': 1, 'countvectorizer__ngram_range': (1, 1), 'countvectorizer__preprocessor': None, 'countvectorizer__stop_words': None, 'countvectorizer__strip_accents': None, 'countvectorizer__token_pattern': '(?u)\\\\b\\\\w\\\\w+\\\\b', 'countvectorizer__tokenizer': None, 'countvectorizer__vocabulary': None, 'tfidftransformer__norm': 'l2', 'tfidftransformer__smooth_idf': True, 'tfidftransformer__sublinear_tf': False, 'tfidftransformer__use_idf': True}\n",
      "\n",
      "Memory= None\n"
     ]
    }
   ],
   "source": [
    "dict_params = tfidf_vectorizer.get_params()\n",
    "print(dict_params)\n",
    "print(\"\\nMemory= {}\".format(dict_params['memory']))\n",
    "tfidfTransformer = dict_params['tfidftransformer']\n",
    "countVectorizer = dict_params['countvectorizer']"
   ]
  },
  {
   "cell_type": "code",
   "execution_count": 67,
   "metadata": {},
   "outputs": [
    {
     "name": "stdout",
     "output_type": "stream",
     "text": [
      "['actually', 'always', 'america', 'an', 'and', 'any', 'being', 'better', 'but', 'by', 'china', 'circled', 'civil', 'crew', 'described', 'do', 'existential', 'fish', 'full', 'fury', 'got', 'great', 'have', 'idiot', 'inert', 'is', 'it', 'keystone', 'kops', 'korea', 'life', 'like', 'macbeth', 'man', 'north', 'nothing', 'now', 'of', 'our', 'protecting', 'russia', 'santiago', 'say', 'sharks', 'signifying', 'since', 'sound', 'tale', 'the', 'their', 'they', 'this', 'time', 'told', 'unlike', 'war', 'way', 'we', 'who']\n"
     ]
    },
    {
     "data": {
      "text/plain": [
       "59"
      ]
     },
     "execution_count": 67,
     "metadata": {},
     "output_type": "execute_result"
    }
   ],
   "source": [
    "print(countVectorizer.get_feature_names())\n",
    "len(countVectorizer.vocabulary_)"
   ]
  },
  {
   "cell_type": "code",
   "execution_count": 66,
   "metadata": {},
   "outputs": [
    {
     "data": {
      "text/plain": [
       "(59,)"
      ]
     },
     "execution_count": 66,
     "metadata": {},
     "output_type": "execute_result"
    }
   ],
   "source": [
    "tfidfTransformer.idf_.shape"
   ]
  },
  {
   "cell_type": "code",
   "execution_count": 60,
   "metadata": {},
   "outputs": [
    {
     "data": {
      "text/plain": [
       "['__class__',\n",
       " '__delattr__',\n",
       " '__dict__',\n",
       " '__dir__',\n",
       " '__doc__',\n",
       " '__eq__',\n",
       " '__format__',\n",
       " '__ge__',\n",
       " '__getattribute__',\n",
       " '__getstate__',\n",
       " '__gt__',\n",
       " '__hash__',\n",
       " '__init__',\n",
       " '__init_subclass__',\n",
       " '__le__',\n",
       " '__lt__',\n",
       " '__module__',\n",
       " '__ne__',\n",
       " '__new__',\n",
       " '__reduce__',\n",
       " '__reduce_ex__',\n",
       " '__repr__',\n",
       " '__setattr__',\n",
       " '__setstate__',\n",
       " '__sizeof__',\n",
       " '__str__',\n",
       " '__subclasshook__',\n",
       " '__weakref__',\n",
       " '_char_ngrams',\n",
       " '_char_wb_ngrams',\n",
       " '_check_stop_words_consistency',\n",
       " '_check_vocabulary',\n",
       " '_count_vocab',\n",
       " '_get_param_names',\n",
       " '_get_tags',\n",
       " '_limit_features',\n",
       " '_more_tags',\n",
       " '_sort_features',\n",
       " '_stop_words_id',\n",
       " '_validate_custom_analyzer',\n",
       " '_validate_params',\n",
       " '_validate_vocabulary',\n",
       " '_white_spaces',\n",
       " '_word_ngrams',\n",
       " 'analyzer',\n",
       " 'binary',\n",
       " 'build_analyzer',\n",
       " 'build_preprocessor',\n",
       " 'build_tokenizer',\n",
       " 'decode',\n",
       " 'decode_error',\n",
       " 'dtype',\n",
       " 'encoding',\n",
       " 'fit',\n",
       " 'fit_transform',\n",
       " 'fixed_vocabulary_',\n",
       " 'get_feature_names',\n",
       " 'get_params',\n",
       " 'get_stop_words',\n",
       " 'input',\n",
       " 'inverse_transform',\n",
       " 'lowercase',\n",
       " 'max_df',\n",
       " 'max_features',\n",
       " 'min_df',\n",
       " 'ngram_range',\n",
       " 'preprocessor',\n",
       " 'set_params',\n",
       " 'stop_words',\n",
       " 'stop_words_',\n",
       " 'strip_accents',\n",
       " 'token_pattern',\n",
       " 'tokenizer',\n",
       " 'transform',\n",
       " 'vocabulary',\n",
       " 'vocabulary_']"
      ]
     },
     "execution_count": 60,
     "metadata": {},
     "output_type": "execute_result"
    }
   ],
   "source": [
    "dir(countVectorizer)"
   ]
  },
  {
   "cell_type": "markdown",
   "metadata": {},
   "source": [
    "# <font color=blus>4. Dataset evaluation with linear regressor</font>"
   ]
  },
  {
   "cell_type": "markdown",
   "metadata": {},
   "source": [
    "## <font color=blus>4.1. Loading train  and valid `DataPreparator` </font>"
   ]
  },
  {
   "cell_type": "code",
   "execution_count": 20,
   "metadata": {},
   "outputs": [
    {
     "name": "stdout",
     "output_type": "stream",
     "text": [
      "-rw-r--r-- 1 bangui bangui 133M août  19 20:44 ./data/DataPreparator_train.dump\r\n",
      "-rw-r--r-- 1 bangui bangui 134M août  19 20:44 ./data/DataPreparator_test.dump\r\n",
      "-rw-r--r-- 1 bangui bangui 137M août  23 00:43 ./data/DataPreparator_train_spacy_20000.dump\r\n",
      "-rw-r--r-- 1 bangui bangui 137M août  23 01:35 ./data/DataPreparator_test_spacy_20000.dump\r\n",
      "-rw-r--r-- 1 bangui bangui 339M août  26 22:57 ./data/DataPreparator_train_spacy_15000.dump\r\n",
      "-rw-r--r-- 1 bangui bangui 339M août  26 23:32 ./data/DataPreparator_test_spacy_15000.dump\r\n",
      "-rw-r--r-- 1 bangui bangui 1,5G août  30 17:08 ./data/DataPreparator_valid_v2_spacy_5000.dump\r\n",
      "-rw-r--r-- 1 bangui bangui 334M août  30 18:56 ./data/DataPreparator_train_v2_spacy_15000.dump\r\n",
      "-rw-r--r-- 1 bangui bangui 334M août  30 19:57 ./data/DataPreparator_valid_v2_spacy_15000.dump\r\n"
     ]
    }
   ],
   "source": [
    "ls -alrth ./data/DataPreparator_*.dump"
   ]
  },
  {
   "cell_type": "code",
   "execution_count": 22,
   "metadata": {},
   "outputs": [
    {
     "name": "stdout",
     "output_type": "stream",
     "text": [
      "p5_util.object_load : fileName= ./data/DataPreparator_train_spacy_20000.dump\n",
      "p5_util.object_load : fileName= ./data/DataPreparator_test_spacy_20000.dump\n",
      "\n",
      "DataPretarator train lenth=  18360\n",
      "DataPretarator valid lenth=  18370\n"
     ]
    }
   ],
   "source": [
    "import numpy as np\n",
    "import p5_util\n",
    "filename_train = \"./data/DataPreparator_train_spacy_20000.dump\"\n",
    "filename_valid = \"./data/DataPreparator_test_spacy_20000.dump\"\n",
    "\n",
    "dataPreparator_train = p5_util.object_load(filename_train)\n",
    "dataPreparator_valid = p5_util.object_load(filename_valid)\n",
    "    \n",
    "print(\"\")\n",
    "print(\"DataPretarator train lenth=  {}\".format(len(dataPreparator_train)))\n",
    "print(\"DataPretarator valid lenth=  {}\".format(len(dataPreparator_valid)))\n"
   ]
  },
  {
   "cell_type": "code",
   "execution_count": 7,
   "metadata": {},
   "outputs": [
    {
     "data": {
      "text/html": [
       "<div>\n",
       "<style scoped>\n",
       "    .dataframe tbody tr th:only-of-type {\n",
       "        vertical-align: middle;\n",
       "    }\n",
       "\n",
       "    .dataframe tbody tr th {\n",
       "        vertical-align: top;\n",
       "    }\n",
       "\n",
       "    .dataframe thead th {\n",
       "        text-align: right;\n",
       "    }\n",
       "</style>\n",
       "<table border=\"1\" class=\"dataframe\">\n",
       "  <thead>\n",
       "    <tr style=\"text-align: right;\">\n",
       "      <th></th>\n",
       "      <th>docs</th>\n",
       "      <th>target</th>\n",
       "      <th>tokens</th>\n",
       "      <th>counting</th>\n",
       "      <th>vector</th>\n",
       "    </tr>\n",
       "  </thead>\n",
       "  <tbody>\n",
       "    <tr>\n",
       "      <th>4539</th>\n",
       "      <td>newsflash :   they are n't the brightest bulbs...</td>\n",
       "      <td>0.861538</td>\n",
       "      <td>[newsflash,   , bright, bulb, chandelier,   , ...</td>\n",
       "      <td>28</td>\n",
       "      <td>[-0.032828365598458226, 0.04777491830991339, -...</td>\n",
       "    </tr>\n",
       "    <tr>\n",
       "      <th>2523</th>\n",
       "      <td>when suspect , a little town in southeast , go...</td>\n",
       "      <td>0.000000</td>\n",
       "      <td>[suspect, little, town, southeast, get, big, c...</td>\n",
       "      <td>34</td>\n",
       "      <td>[-0.013695103792548348, 0.02815327474146511, -...</td>\n",
       "    </tr>\n",
       "    <tr>\n",
       "      <th>2813</th>\n",
       "      <td>period it 's wildlife management .   period it...</td>\n",
       "      <td>0.000000</td>\n",
       "      <td>[period, wildlife, management,   , period, oil...</td>\n",
       "      <td>28</td>\n",
       "      <td>[-0.039276977844742815, -0.012912559921052726,...</td>\n",
       "    </tr>\n",
       "  </tbody>\n",
       "</table>\n",
       "</div>"
      ],
      "text/plain": [
       "                                                   docs    target  \\\n",
       "4539  newsflash :   they are n't the brightest bulbs...  0.861538   \n",
       "2523  when suspect , a little town in southeast , go...  0.000000   \n",
       "2813  period it 's wildlife management .   period it...  0.000000   \n",
       "\n",
       "                                                 tokens  counting  \\\n",
       "4539  [newsflash,   , bright, bulb, chandelier,   , ...        28   \n",
       "2523  [suspect, little, town, southeast, get, big, c...        34   \n",
       "2813  [period, wildlife, management,   , period, oil...        28   \n",
       "\n",
       "                                                 vector  \n",
       "4539  [-0.032828365598458226, 0.04777491830991339, -...  \n",
       "2523  [-0.013695103792548348, 0.02815327474146511, -...  \n",
       "2813  [-0.039276977844742815, -0.012912559921052726,...  "
      ]
     },
     "execution_count": 7,
     "metadata": {},
     "output_type": "execute_result"
    }
   ],
   "source": [
    "dataPreparator_valid.df_data.sample(3)"
   ]
  },
  {
   "cell_type": "code",
   "execution_count": 12,
   "metadata": {},
   "outputs": [
    {
     "name": "stdout",
     "output_type": "stream",
     "text": [
      "\n",
      "Clean already processed!\n",
      "\n",
      "Counting column tokens already processed!\n",
      "\n",
      "Already vectorized!\n"
     ]
    },
    {
     "data": {
      "text/plain": [
       "((4581, 300), (4581,), numpy.ndarray, numpy.ndarray)"
      ]
     },
     "execution_count": 12,
     "metadata": {},
     "output_type": "execute_result"
    }
   ],
   "source": [
    "X_valid,y_valid = dataPreparator_valid.transform(None,None)\n",
    "X_valid.shape,y_valid.shape, type(X_valid), type(y_valid)"
   ]
  },
  {
   "cell_type": "markdown",
   "metadata": {},
   "source": [
    "## <font color=blus>4.2. Linear Regression validation </font>"
   ]
  },
  {
   "cell_type": "code",
   "execution_count": 91,
   "metadata": {},
   "outputs": [
    {
     "name": "stdout",
     "output_type": "stream",
     "text": [
      "\n",
      "Clean already processed!\n",
      "\n",
      "Counting column tokens already processed!\n",
      "\n",
      "Already vectorized!\n",
      "\n",
      "Clean already processed!\n",
      "\n",
      "Counting column tokens already processed!\n",
      "\n",
      "Already vectorized!\n",
      " \n",
      "Vectorization : Spacy / Scapy data preparation: True\n",
      "R² Score= 0.162\n",
      " \n"
     ]
    },
    {
     "name": "stderr",
     "output_type": "stream",
     "text": [
      "/home/bangui/anaconda3/envs/python36/lib/python3.6/site-packages/sklearn/svm/base.py:929: ConvergenceWarning: Liblinear failed to converge, increase the number of iterations.\n",
      "  \"the number of iterations.\", ConvergenceWarning)\n"
     ]
    }
   ],
   "source": [
    "#from sklearn.svm import LinearSVC\n",
    "#from sklearn.svm import LinearSVR\n",
    "\n",
    "import DataPreparator\n",
    "X_train = None\n",
    "y_train = None\n",
    "X_valid = None\n",
    "y_valid = None\n",
    "\n",
    "df_data = DataPreparator.test_DataPreparation(X_train, y_train, X_valid, y_valid, \\\n",
    "                     dataPreparator_train.is_keras_vectorizer, \\\n",
    "                     dataPreparator_train._is_spacy_data_preparation,\\\n",
    "                     dataPreparator_train=dataPreparator_train,\\\n",
    "                     dataPreparator_valid=dataPreparator_valid,\\\n",
    "                     model_learning=LinearSVR)"
   ]
  },
  {
   "cell_type": "markdown",
   "metadata": {},
   "source": [
    "# <font color=blus>5. Text digitalization as a matrix</font>"
   ]
  },
  {
   "cell_type": "markdown",
   "metadata": {},
   "source": [
    "    This process allows to keep, for all texts, all dimensions from word embedding.\n",
    "    \n",
    "    A text is represented with N tokens, and each token is embedded into a P dimensions space.\n",
    "    \n",
    "    Then a text will be represented as a NxP matrix."
   ]
  },
  {
   "cell_type": "markdown",
   "metadata": {},
   "source": [
    "## <font color=blus> 5.1. Load `DataPreparator` for train and validation datasets</font>"
   ]
  },
  {
   "cell_type": "code",
   "execution_count": 1,
   "metadata": {},
   "outputs": [
    {
     "name": "stdout",
     "output_type": "stream",
     "text": [
      "-rw-r--r-- 1 bangui bangui 133M août  19 20:44 ./data/DataPreparator_train.dump\r\n",
      "-rw-r--r-- 1 bangui bangui 134M août  19 20:44 ./data/DataPreparator_test.dump\r\n",
      "-rw-r--r-- 1 bangui bangui 137M août  23 00:43 ./data/DataPreparator_train_spacy_20000.dump\r\n",
      "-rw-r--r-- 1 bangui bangui 137M août  23 01:35 ./data/DataPreparator_test_spacy_20000.dump\r\n",
      "-rw-r--r-- 1 bangui bangui 339M août  26 22:57 ./data/DataPreparator_train_spacy_15000.dump\r\n",
      "-rw-r--r-- 1 bangui bangui 339M août  26 23:32 ./data/DataPreparator_test_spacy_15000.dump\r\n",
      "-rw-r--r-- 1 bangui bangui 1,5G août  30 17:08 ./data/DataPreparator_valid_v2_spacy_5000.dump\r\n",
      "-rw-r--r-- 1 bangui bangui 335M sept.  1 22:28 ./data/DataPreparator_valid_v2_spacy_15000.dump\r\n"
     ]
    }
   ],
   "source": [
    "! ls -alrth ./data/DataPreparator_*.dump"
   ]
  },
  {
   "cell_type": "code",
   "execution_count": 1,
   "metadata": {},
   "outputs": [],
   "source": [
    "n_sample = 15000"
   ]
  },
  {
   "cell_type": "code",
   "execution_count": 2,
   "metadata": {},
   "outputs": [
    {
     "name": "stdout",
     "output_type": "stream",
     "text": [
      "p5_util.object_load : fileName= ./data/DataPreparator_train_spacy_15000.dump\n"
     ]
    },
    {
     "name": "stderr",
     "output_type": "stream",
     "text": [
      "Using TensorFlow backend.\n",
      "/home/bangui/.local/lib/python3.6/site-packages/matplotlib/__init__.py:886: MatplotlibDeprecationWarning: \n",
      "examples.directory is deprecated; in the future, examples will be found relative to the 'datapath' directory.\n",
      "  \"found relative to the 'datapath' directory.\".format(key))\n",
      "WARNING: Logging before flag parsing goes to stderr.\n",
      "W0903 14:17:56.114428 140088606914368 lazy_loader.py:50] \n",
      "The TensorFlow contrib module will not be included in TensorFlow 2.0.\n",
      "For more information, please see:\n",
      "  * https://github.com/tensorflow/community/blob/master/rfcs/20180907-contrib-sunset.md\n",
      "  * https://github.com/tensorflow/addons\n",
      "  * https://github.com/tensorflow/io (for I/O related ops)\n",
      "If you depend on functionality not listed there, please file an issue.\n",
      "\n",
      "W0903 14:17:56.115427 140088606914368 deprecation_wrapper.py:119] From /home/bangui/anaconda3/envs/python36/lib/python3.6/site-packages/adanet/tf_compat/__init__.py:96: The name tf.losses.Reduction is deprecated. Please use tf.compat.v1.losses.Reduction instead.\n",
      "\n",
      "W0903 14:17:56.131900 140088606914368 deprecation_wrapper.py:119] From /home/bangui/Dropbox/Perso/Formation/openclassrooms/OC_Datascientist/Kaggle/p8_util_config.py:137: The name tf.train.AdamOptimizer is deprecated. Please use tf.compat.v1.train.AdamOptimizer instead.\n",
      "\n"
     ]
    },
    {
     "name": "stdout",
     "output_type": "stream",
     "text": [
      "\n",
      "DataPretarator train lenth= 13623\n"
     ]
    },
    {
     "data": {
      "text/html": [
       "<div>\n",
       "<style scoped>\n",
       "    .dataframe tbody tr th:only-of-type {\n",
       "        vertical-align: middle;\n",
       "    }\n",
       "\n",
       "    .dataframe tbody tr th {\n",
       "        vertical-align: top;\n",
       "    }\n",
       "\n",
       "    .dataframe thead th {\n",
       "        text-align: right;\n",
       "    }\n",
       "</style>\n",
       "<table border=\"1\" class=\"dataframe\">\n",
       "  <thead>\n",
       "    <tr style=\"text-align: right;\">\n",
       "      <th></th>\n",
       "      <th>docs</th>\n",
       "      <th>tokens</th>\n",
       "      <th>counting</th>\n",
       "      <th>vector</th>\n",
       "      <th>target</th>\n",
       "    </tr>\n",
       "  </thead>\n",
       "  <tbody>\n",
       "    <tr>\n",
       "      <th>1504</th>\n",
       "      <td>how come , when obama was president it was fai...</td>\n",
       "      <td>[come, president, fair, good, thing, consisten...</td>\n",
       "      <td>19</td>\n",
       "      <td>[-0.07137183079496026, 0.018980555136998496, 0...</td>\n",
       "      <td>0.833333</td>\n",
       "    </tr>\n",
       "  </tbody>\n",
       "</table>\n",
       "</div>"
      ],
      "text/plain": [
       "                                                   docs  \\\n",
       "1504  how come , when obama was president it was fai...   \n",
       "\n",
       "                                                 tokens  counting  \\\n",
       "1504  [come, president, fair, good, thing, consisten...        19   \n",
       "\n",
       "                                                 vector    target  \n",
       "1504  [-0.07137183079496026, 0.018980555136998496, 0...  0.833333  "
      ]
     },
     "execution_count": 2,
     "metadata": {},
     "output_type": "execute_result"
    }
   ],
   "source": [
    "import numpy as np\n",
    "import p5_util\n",
    "\n",
    "filename_train = './data/DataPreparator_train_spacy_'+str(n_sample)+'.dump'\n",
    "\n",
    "dataPreparator_train = p5_util.object_load(filename_train)\n",
    "    \n",
    "print(\"\")\n",
    "print(\"DataPretarator train lenth= {}\".format(len(dataPreparator_train)))\n",
    "\n",
    "dataPreparator_train.df_data.sample()"
   ]
  },
  {
   "cell_type": "code",
   "execution_count": 5,
   "metadata": {},
   "outputs": [
    {
     "name": "stdout",
     "output_type": "stream",
     "text": [
      "p5_util.object_load : fileName= ./data/DataPreparator_test_spacy_15000.dump\n"
     ]
    },
    {
     "name": "stderr",
     "output_type": "stream",
     "text": [
      "Using TensorFlow backend.\n",
      "/home/bangui/.local/lib/python3.6/site-packages/matplotlib/__init__.py:886: MatplotlibDeprecationWarning: \n",
      "examples.directory is deprecated; in the future, examples will be found relative to the 'datapath' directory.\n",
      "  \"found relative to the 'datapath' directory.\".format(key))\n",
      "WARNING: Logging before flag parsing goes to stderr.\n",
      "W0903 13:25:57.865293 140598150010688 lazy_loader.py:50] \n",
      "The TensorFlow contrib module will not be included in TensorFlow 2.0.\n",
      "For more information, please see:\n",
      "  * https://github.com/tensorflow/community/blob/master/rfcs/20180907-contrib-sunset.md\n",
      "  * https://github.com/tensorflow/addons\n",
      "  * https://github.com/tensorflow/io (for I/O related ops)\n",
      "If you depend on functionality not listed there, please file an issue.\n",
      "\n",
      "W0903 13:25:57.865873 140598150010688 deprecation_wrapper.py:119] From /home/bangui/anaconda3/envs/python36/lib/python3.6/site-packages/adanet/tf_compat/__init__.py:96: The name tf.losses.Reduction is deprecated. Please use tf.compat.v1.losses.Reduction instead.\n",
      "\n",
      "W0903 13:25:57.875911 140598150010688 deprecation_wrapper.py:119] From /home/bangui/Dropbox/Perso/Formation/openclassrooms/OC_Datascientist/Kaggle/p8_util_config.py:137: The name tf.train.AdamOptimizer is deprecated. Please use tf.compat.v1.train.AdamOptimizer instead.\n",
      "\n"
     ]
    },
    {
     "name": "stdout",
     "output_type": "stream",
     "text": [
      "\n",
      "DataPretarator valid lenth= 13616\n"
     ]
    },
    {
     "data": {
      "text/html": [
       "<div>\n",
       "<style scoped>\n",
       "    .dataframe tbody tr th:only-of-type {\n",
       "        vertical-align: middle;\n",
       "    }\n",
       "\n",
       "    .dataframe tbody tr th {\n",
       "        vertical-align: top;\n",
       "    }\n",
       "\n",
       "    .dataframe thead th {\n",
       "        text-align: right;\n",
       "    }\n",
       "</style>\n",
       "<table border=\"1\" class=\"dataframe\">\n",
       "  <thead>\n",
       "    <tr style=\"text-align: right;\">\n",
       "      <th></th>\n",
       "      <th>docs</th>\n",
       "      <th>tokens</th>\n",
       "      <th>counting</th>\n",
       "      <th>vector</th>\n",
       "      <th>target</th>\n",
       "    </tr>\n",
       "  </thead>\n",
       "  <tbody>\n",
       "    <tr>\n",
       "      <th>1859</th>\n",
       "      <td>pretty sure i said nothing of the sort - but w...</td>\n",
       "      <td>[pretty, sure, say, sort, boil, mean, ownershi...</td>\n",
       "      <td>47</td>\n",
       "      <td>[-0.24058713994920253, 0.09531937645748258, -0...</td>\n",
       "      <td>0.166667</td>\n",
       "    </tr>\n",
       "  </tbody>\n",
       "</table>\n",
       "</div>"
      ],
      "text/plain": [
       "                                                   docs  \\\n",
       "1859  pretty sure i said nothing of the sort - but w...   \n",
       "\n",
       "                                                 tokens  counting  \\\n",
       "1859  [pretty, sure, say, sort, boil, mean, ownershi...        47   \n",
       "\n",
       "                                                 vector    target  \n",
       "1859  [-0.24058713994920253, 0.09531937645748258, -0...  0.166667  "
      ]
     },
     "execution_count": 5,
     "metadata": {},
     "output_type": "execute_result"
    }
   ],
   "source": [
    "import numpy as np\n",
    "import p5_util\n",
    "\n",
    "filename_valid = './data/DataPreparator_test_spacy_'+str(n_sample)+'.dump'\n",
    "\n",
    "dataPreparator_valid = p5_util.object_load(filename_valid)\n",
    "    \n",
    "print(\"\")\n",
    "print(\"DataPretarator valid lenth= {}\".format(len(dataPreparator_valid)))\n",
    "\n",
    "dataPreparator_valid.df_data.sample()"
   ]
  },
  {
   "cell_type": "markdown",
   "metadata": {},
   "source": [
    "## <font color=blus>5.2 Padding matrix elements up to max_row</font>"
   ]
  },
  {
   "cell_type": "markdown",
   "metadata": {},
   "source": [
    "    DataPreparator_v2 inherites form DataPreparator services. In addition, such object allows \n",
    "    to digitalize each text as a matrix.\n",
    "    \n",
    "    When constructed, DataPreparator_v2 object uses list of tokens issued from tokenization process \n",
    "    into DataPreparator object in order to build a patrix for each tokenized text.\n",
    "    \n",
    "    Each matrix is structured as following : \n",
    "        * Number of rows : this is the number of tokens in a text;\n",
    "        * Number of columns : this is the dimension of embedded tokens. Tokens are embedded \n",
    "        into Glove space integrated along with Spacy.\n",
    "    \n",
    "    All tokenized text are processed in a such way to have the same number of rows. This means, each \n",
    "    text is described with the same number of tokens. \n",
    "    Any tokenized text is then truncated or padded considering the max_row parameter.\n",
    "    \n",
    "    \n",
    "    Inheritance of tokenization is achieved by providing to DataPreparator_v2 constructor the parameter \n",
    "    is_df_copied with value fixed to True."
   ]
  },
  {
   "cell_type": "code",
   "execution_count": 3,
   "metadata": {},
   "outputs": [
    {
     "name": "stdout",
     "output_type": "stream",
     "text": [
      "Help on function spacy_list_token_2_tensor in module p9_util_spacy:\n",
      "\n",
      "spacy_list_token_2_tensor(list_token_string, dict_token_coeff=None, is_matrix=False)\n",
      "    Transforms a list of tokens into either a 2D matrix or a 1D matrix, \n",
      "    means, a vector.\n",
      "    When token to vector transformation takes place, then :\n",
      "        * List of token is firstly transformed into a 2D matrix; each token \n",
      "        from list is vectorized. Coordonates of any vector are weighted with \n",
      "        coefficients from dict_token_coeff, when not None. Such coefficient \n",
      "        may be TF-IDF values assigned to each token.\n",
      "        * List of tokens vectorization is then achieved by summing any vector \n",
      "        coefficients over each column.\n",
      "    \n",
      "    \n",
      "        2D matrix for each tokenized text\n",
      "        =========\n",
      "    \n",
      "                      Text over        Text over\n",
      "                      0th              Jth \n",
      "                      dimension        dimension\n",
      "           Tokenized +----------+-----+---------+\n",
      "             text    |          |     |         |\n",
      "               |     | coeff_0  | ... | coeff_J | <-- Embeding dimensions\n",
      "               v     |          |     |         |\n",
      "           +---------+----------+-----+---------+\n",
      "           | token_0 |  M[0,0]  | ... | M[0,J]  | \n",
      "           +---------+----------+-----+---------+\n",
      "                                   .\n",
      "                                   .\n",
      "                                   .\n",
      "           +---------+----------+-----+---------+\n",
      "           | token_I |  M[I,0]  | ... | M[I,J]  |\n",
      "           +---------+----------+-----+---------+\n",
      "                           |              |\n",
      "                           |              |\n",
      "          Vector           v              v\n",
      "          ======    Sum(M[I,0])       Sum(M[I,J])\n",
      "                    I=0,N             I=0,N\n",
      "    \n",
      "      coeff_O,...,coeff_M are embeddings vectors coefficients.\n",
      "\n"
     ]
    }
   ],
   "source": [
    "import p9_util_spacy\n",
    "help(p9_util_spacy.spacy_list_token_2_tensor)"
   ]
  },
  {
   "cell_type": "markdown",
   "metadata": {},
   "source": [
    "### <font color=blus>5.2.1 Padding train matrix with `DataPreparator_v2`</font>"
   ]
  },
  {
   "cell_type": "markdown",
   "metadata": {},
   "source": [
    "    Build object DataPreparator_v2 using data from DataPreparator.\n",
    "    \n",
    "    DataPreparator_v2 allows to apply more processes for corpus digitalization \n",
    "    then the one in DataPreparator."
   ]
  },
  {
   "cell_type": "code",
   "execution_count": 3,
   "metadata": {},
   "outputs": [],
   "source": [
    "import DataPreparator\n",
    "import DataPreparator_v2\n",
    "\n",
    "dataPreparator_v2_train = DataPreparator_v2.DataPreparator_v2(other=dataPreparator_train, \\\n",
    "                                                              is_df_copied=True,\\\n",
    "                                                             is_tfidf=False)"
   ]
  },
  {
   "cell_type": "markdown",
   "metadata": {},
   "source": [
    "    The max number of rows, max_length, of digitalized tokens is updated in order to have all texts with same \n",
    "    number of digits.\n",
    "    \n",
    "    The max_length value is fixed considering length distribution into the dataset.\n",
    "    \n",
    "    Texts will be padded if the number of digits is greater then max_length.\n",
    "    \n",
    "    Texts will be truncated if the number of digits is less then max_length.\n",
    "    Truncation is made based on first digits of a text."
   ]
  },
  {
   "cell_type": "code",
   "execution_count": 4,
   "metadata": {},
   "outputs": [
    {
     "name": "stdout",
     "output_type": "stream",
     "text": [
      "Current Length of train dataset : 101\n",
      "Updated Length of train dataset : 80\n"
     ]
    }
   ],
   "source": [
    "print(\"Current Length of train dataset : {}\".format(dataPreparator_v2_train.max_length))\n",
    "dataPreparator_v2_train.max_length = 80\n",
    "print(\"Updated Length of train dataset : {}\".format(dataPreparator_v2_train.max_length))"
   ]
  },
  {
   "cell_type": "markdown",
   "metadata": {},
   "source": [
    "    Truncate or padd text matrix in a such way every matrix to have the same number of rows.\n",
    "    \n",
    "    This operation may take 30mn for 10K text..."
   ]
  },
  {
   "cell_type": "code",
   "execution_count": 5,
   "metadata": {},
   "outputs": [
    {
     "name": "stdout",
     "output_type": "stream",
     "text": [
      "\n",
      "build_padded_matrix : Tokens to tensor transformation...\n",
      "\n",
      "build_padded_matrix : Padd / truncate transformation...\n"
     ]
    }
   ],
   "source": [
    "dataPreparator_v2_train.build_padded_matrix()"
   ]
  },
  {
   "cell_type": "code",
   "execution_count": 2,
   "metadata": {},
   "outputs": [
    {
     "ename": "NameError",
     "evalue": "name 'dataPreparator_v2_train' is not defined",
     "output_type": "error",
     "traceback": [
      "\u001b[0;31m---------------------------------------------------------------------------\u001b[0m",
      "\u001b[0;31mNameError\u001b[0m                                 Traceback (most recent call last)",
      "\u001b[0;32m<ipython-input-2-b03a5955a490>\u001b[0m in \u001b[0;36m<module>\u001b[0;34m\u001b[0m\n\u001b[0;32m----> 1\u001b[0;31m \u001b[0mprint\u001b[0m\u001b[0;34m(\u001b[0m\u001b[0mlen\u001b[0m\u001b[0;34m(\u001b[0m\u001b[0mdataPreparator_v2_train\u001b[0m\u001b[0;34m)\u001b[0m\u001b[0;34m)\u001b[0m\u001b[0;34m\u001b[0m\u001b[0;34m\u001b[0m\u001b[0m\n\u001b[0m\u001b[1;32m      2\u001b[0m \u001b[0mprint\u001b[0m\u001b[0;34m(\u001b[0m\u001b[0mdataPreparator_v2_train\u001b[0m\u001b[0;34m.\u001b[0m\u001b[0mdf_data\u001b[0m\u001b[0;34m.\u001b[0m\u001b[0mcolumns\u001b[0m\u001b[0;34m)\u001b[0m\u001b[0;34m\u001b[0m\u001b[0;34m\u001b[0m\u001b[0m\n",
      "\u001b[0;31mNameError\u001b[0m: name 'dataPreparator_v2_train' is not defined"
     ]
    }
   ],
   "source": [
    "print(len(dataPreparator_v2_train))\n",
    "print(dataPreparator_v2_train.df_data.columns)"
   ]
  },
  {
   "cell_type": "markdown",
   "metadata": {},
   "source": [
    "`dataPreparator_v2_valid` is saved."
   ]
  },
  {
   "cell_type": "code",
   "execution_count": 8,
   "metadata": {},
   "outputs": [],
   "source": [
    "import dill\n",
    "filename = './data/DataPreparator_train_v2_spacy_notfidf_'+str(n_sample)+'.dill'\n",
    "p5_util.object_dump(dataPreparator_v2_train,filename)"
   ]
  },
  {
   "cell_type": "markdown",
   "metadata": {},
   "source": [
    "### <font color=blus>5.2.2 Padding validation matrix with `DataPreparator_v2`</font>"
   ]
  },
  {
   "cell_type": "markdown",
   "metadata": {},
   "source": [
    "`dataPreparator_v2_train` is loaded in order to update `dataPreparator_v2_valid`"
   ]
  },
  {
   "cell_type": "code",
   "execution_count": 6,
   "metadata": {},
   "outputs": [
    {
     "data": {
      "text/plain": [
       "13616"
      ]
     },
     "execution_count": 6,
     "metadata": {},
     "output_type": "execute_result"
    }
   ],
   "source": [
    "len(dataPreparator_valid)"
   ]
  },
  {
   "cell_type": "code",
   "execution_count": 7,
   "metadata": {},
   "outputs": [],
   "source": [
    "import DataPreparator\n",
    "import DataPreparator_v2\n",
    "\n",
    "dataPreparator_v2_valid = DataPreparator_v2.DataPreparator_v2(other=dataPreparator_valid, is_df_copied=True)"
   ]
  },
  {
   "cell_type": "code",
   "execution_count": 8,
   "metadata": {},
   "outputs": [
    {
     "data": {
      "text/plain": [
       "Index(['tokens', 'counting', 'target'], dtype='object')"
      ]
     },
     "execution_count": 8,
     "metadata": {},
     "output_type": "execute_result"
    }
   ],
   "source": [
    "dataPreparator_v2_valid.df_data.columns"
   ]
  },
  {
   "cell_type": "markdown",
   "metadata": {},
   "source": [
    "Update `dataPreparator_v2_valid` attributes : `max_length`, `xpca`"
   ]
  },
  {
   "cell_type": "code",
   "execution_count": 7,
   "metadata": {},
   "outputs": [
    {
     "name": "stdout",
     "output_type": "stream",
     "text": [
      "p5_util.object_load : fileName= ./data/DataPreparator_train_v2_spacy_notfidf_15000.dill\n"
     ]
    }
   ],
   "source": [
    "import p5_util\n",
    "#filename = './data/DataPreparator_train_v2_spacy_'+str(n_sample)+'.dill'\n",
    "filename = './data/DataPreparator_train_v2_spacy_notfidf_'+str(n_sample)+'.dill'\n",
    "\n",
    "dataPreparator_v2_train = p5_util.object_load(filename)"
   ]
  },
  {
   "cell_type": "code",
   "execution_count": 9,
   "metadata": {},
   "outputs": [
    {
     "name": "stdout",
     "output_type": "stream",
     "text": [
      "108\n",
      "80\n",
      "(13616, 3)\n"
     ]
    }
   ],
   "source": [
    "print(dataPreparator_v2_valid.max_length)\n",
    "dataPreparator_v2_valid.max_length = 80#dataPreparator_v2_train.max_length\n",
    "print(dataPreparator_v2_valid.max_length)\n",
    "print(dataPreparator_v2_valid.df_data.shape)\n",
    "#dataPreparator_v2_valid.xpca = dataPreparator_v2_train.xpca"
   ]
  },
  {
   "cell_type": "markdown",
   "metadata": {},
   "source": [
    "#### Following process below may takes time.... Around 30mn for 15K records."
   ]
  },
  {
   "cell_type": "code",
   "execution_count": 10,
   "metadata": {},
   "outputs": [
    {
     "name": "stdout",
     "output_type": "stream",
     "text": [
      "\n",
      "build_padded_matrix : Tokens to tensor transformation...\n",
      "\n",
      "build_padded_matrix : Padd / truncate transformation...\n"
     ]
    }
   ],
   "source": [
    "dataPreparator_v2_valid.build_padded_matrix()"
   ]
  },
  {
   "cell_type": "code",
   "execution_count": 14,
   "metadata": {},
   "outputs": [
    {
     "name": "stdout",
     "output_type": "stream",
     "text": [
      "15000\n",
      "Index(['tokens', 'counting', 'target', 'matrix_padded'], dtype='object')\n"
     ]
    }
   ],
   "source": [
    "print(n_sample)\n",
    "print(dataPreparator_v2_valid.df_data.columns)"
   ]
  },
  {
   "cell_type": "markdown",
   "metadata": {},
   "source": [
    "#### Update decomposition operator"
   ]
  },
  {
   "cell_type": "code",
   "execution_count": null,
   "metadata": {},
   "outputs": [],
   "source": [
    "dataPreparator_v2_valid.xpca = dataPreparator_v2_train.xpca"
   ]
  },
  {
   "cell_type": "code",
   "execution_count": 16,
   "metadata": {},
   "outputs": [],
   "source": [
    "import p5_util\n",
    "if True :\n",
    "    #filename = './data/DataPreparator_valid_v2_spacy_2'+str(n_sample)+'.dill'\n",
    "    filename = './data/DataPreparator_valid_v2_spacy_notfidf_'+str(n_sample)+'.dill'\n",
    "\n",
    "    p5_util.object_dump(dataPreparator_v2_valid,filename)"
   ]
  },
  {
   "cell_type": "code",
   "execution_count": 13,
   "metadata": {},
   "outputs": [
    {
     "name": "stdout",
     "output_type": "stream",
     "text": [
      "0    0.1\n",
      "1    0.0\n",
      "2    0.7\n",
      "3    0.0\n",
      "4    0.0\n",
      "5    0.0\n",
      "6    0.6\n",
      "7    0.0\n",
      "8    0.0\n",
      "9    0.0\n",
      "Name: target, dtype: float64\n",
      "0    0.166667\n",
      "1    0.600000\n",
      "2    0.000000\n",
      "3    0.000000\n",
      "4    0.000000\n",
      "5    0.000000\n",
      "6    0.000000\n",
      "7    0.400000\n",
      "8    0.200000\n",
      "9    0.000000\n",
      "Name: target, dtype: float64\n"
     ]
    }
   ],
   "source": [
    "print(dataPreparator_v2_train.df_data['target'][:10])\n",
    "print(dataPreparator_v2_valid.df_data['target'][:10])\n"
   ]
  },
  {
   "cell_type": "markdown",
   "metadata": {},
   "source": [
    "## <font color=blus>5.3. PCA analysis</font>"
   ]
  },
  {
   "cell_type": "code",
   "execution_count": 21,
   "metadata": {},
   "outputs": [
    {
     "name": "stdout",
     "output_type": "stream",
     "text": [
      "p5_util.object_load : fileName= ./data/DataPreparator_train_v2_spacy_15000.dill\n"
     ]
    }
   ],
   "source": [
    "import p5_util\n",
    "filename = './data/DataPreparator_train_v2_spacy_'+str(n_sample)+'.dill'\n",
    "dataPreparator_valid_v2_spacy = p5_util.object_load(filename)"
   ]
  },
  {
   "cell_type": "code",
   "execution_count": 24,
   "metadata": {},
   "outputs": [
    {
     "data": {
      "text/plain": [
       "(80, 300)"
      ]
     },
     "execution_count": 24,
     "metadata": {},
     "output_type": "execute_result"
    }
   ],
   "source": [
    "matrix_padded = dataPreparator_valid_v2_spacy.df_data['matrix_padded'].iloc[200]\n",
    "\n",
    "#matrix_padded = matrix_padded[:,270:300]\n",
    "\n",
    "if False :\n",
    "    matrix_padded = matrix_padded[:,:30]\n",
    "matrix_padded.shape    "
   ]
  },
  {
   "cell_type": "code",
   "execution_count": 25,
   "metadata": {},
   "outputs": [
    {
     "name": "stdout",
     "output_type": "stream",
     "text": [
      "\n",
      "*** Decomposition : TruncatedSVD\n",
      "** Processed components : 300/300 \r"
     ]
    },
    {
     "data": {
      "image/png": "[encoded data removed]",
      "text/plain": [
       "<Figure size 720x720 with 1 Axes>"
      ]
     },
     "metadata": {
      "needs_background": "light"
     },
     "output_type": "display_data"
    }
   ],
   "source": [
    "import pandas as pd\n",
    "import p3_util_plot\n",
    "\n",
    "if True :\n",
    "        X_train_pca = p3_util_plot.df_pca_all_plot(pd.DataFrame(matrix_padded), plot=True)"
   ]
  },
  {
   "cell_type": "markdown",
   "metadata": {},
   "source": [
    "## <font color=blus>5.4. Dimension reduction with decomposition algorihtm</font>"
   ]
  },
  {
   "cell_type": "raw",
   "metadata": {},
   "source": [
    "    from sklearn.decomposition import IncrementalPCA\n",
    "    import numpy as np\n",
    "    import p3_util_plot\n",
    "    #---------------------------------------------------------------------------\n",
    "    #\n",
    "    #---------------------------------------------------------------------------\n",
    "    def build_matrix_padded_truncated(self, batch_size, percent_var):\n",
    "        #----------------------------------------------------------------------\n",
    "        # Apply decomposition over the whole digitalized texts.\n",
    "        #----------------------------------------------------------------------\n",
    "        if 'matrix_padded' not in self.df_data.columns :\n",
    "            print(\"\\n***ERROR : column 'matrix_padded' is out of dataframe!\")\n",
    "            print(\"***ERROR : list of columns from dataframe : {}\".format(list(self.df_data.columns)))\n",
    "            return self\n",
    "        else :\n",
    "            pass\n",
    "\n",
    "        matrix_padded_values = np.array(list(self.df_data['matrix_padded'].values))\n",
    "\n",
    "        dimension = matrix_padded_values.shape[-1]\n",
    "        #----------------------------------------------------------------------\n",
    "        # reshape data for having all texts in the same set of rows\n",
    "        #----------------------------------------------------------------------\n",
    "        epoch = len(matrix_padded_values)//batch_size\n",
    "        matrix_padded_values = matrix_padded_values.reshape((-1,dimension))\n",
    "        if self.xpca is None :\n",
    "            self.xpca = IncrementalPCA(n_components=dimension, batch_size=batch_size)\n",
    "\n",
    "\n",
    "            for i in range(epoch) :\n",
    "                self.xpca = self.xpca.partial_fit(matrix_padded_values[i*batch_size:(i+1)*batch_size,:])\n",
    "                print(\"Partial fit : {}/{}\".format(i+1,epoch), end='\\r')\n",
    "\n",
    "        arr_pca = np.zeros((matrix_padded_values.shape))\n",
    "        print(arr_pca.shape)\n",
    "        for i in range(epoch) :\n",
    "            arr_pca[i*batch_size:(i+1)*batch_size,:] = self.xpca.transform(matrix_padded_values[i*batch_size:(i+1)*batch_size,:])\n",
    "            print(\"Transform : {}/{}\".format(i+1,epoch), end='\\r')\n",
    "\n",
    "        #----------------------------------------------------------------------\n",
    "        # Get max compoenents considering expected percentage of vairance\n",
    "        #----------------------------------------------------------------------\n",
    "        max_component = p3_util_plot.get_component_from_cum_variance(self.xpca,percent_var)    \n",
    "\n",
    "        #----------------------------------------------------------------------\n",
    "        # Transform all matrix_padded into truncated matrix_padded\n",
    "        #----------------------------------------------------------------------\n",
    "        ser_matrix_padded = self.df_data['matrix_padded']\n",
    "        ser_matrix_padded_truncated = ser_matrix_padded.apply(lambda matrix_padded : self.xpca.transform(matrix_padded)[:,:max_component])\n",
    "\n",
    "        #----------------------------------------------------------------------\n",
    "        # Aggregate result onto dataframe\n",
    "        #----------------------------------------------------------------------\n",
    "        self.df_data['matrix_padded_truncated'] = ser_matrix_padded_truncated\n",
    "\n",
    "        #----------------------------------------------------------------------\n",
    "        # Drop unsued columns\n",
    "        #----------------------------------------------------------------------\n",
    "        if 'matrix_padded' in self.df_data.columns :\n",
    "            del(self.df_data['matrix_padded'])\n",
    "\n",
    "        if 'tokens' in self.df_data.columns :\n",
    "            del(self.df_data['tokens'])    \n",
    "        return self"
   ]
  },
  {
   "cell_type": "markdown",
   "metadata": {},
   "source": [
    "    A decomposition algorithm is used in order to select a reduced dimension that \n",
    "    explains a maximum variance.\n",
    "    \n",
    "    Decomposition algorithm is applied on the whole digitalized corpus.\n",
    "    \n",
    "    The new basis is then common to all digitalized token in texts.\n",
    "    "
   ]
  },
  {
   "cell_type": "code",
   "execution_count": 2,
   "metadata": {},
   "outputs": [],
   "source": [
    "n_sample = 15000"
   ]
  },
  {
   "cell_type": "markdown",
   "metadata": {},
   "source": [
    "### <font color=blus>5.4.1. Dimension reduction for train dataset</font>"
   ]
  },
  {
   "cell_type": "markdown",
   "metadata": {},
   "source": [
    "    First, decomposition algorithm is feeded with all 2D matrix, each of them representing a \n",
    "    digitalized tokenized text.\n",
    "    \n",
    "    Once done, decomposition transformation is applied on rows as a whole dataset.\n",
    "    \n",
    "    Hence, dimension is truncated ina such way explained variance reach close to 40%."
   ]
  },
  {
   "cell_type": "code",
   "execution_count": 3,
   "metadata": {},
   "outputs": [
    {
     "name": "stdout",
     "output_type": "stream",
     "text": [
      "p5_util.object_load : fileName= ./data/DataPreparator_train_v2_spacy_notfidf_15000.dill\n"
     ]
    },
    {
     "name": "stderr",
     "output_type": "stream",
     "text": [
      "Using TensorFlow backend.\n",
      "/home/bangui/.local/lib/python3.6/site-packages/matplotlib/__init__.py:886: MatplotlibDeprecationWarning: \n",
      "examples.directory is deprecated; in the future, examples will be found relative to the 'datapath' directory.\n",
      "  \"found relative to the 'datapath' directory.\".format(key))\n",
      "WARNING: Logging before flag parsing goes to stderr.\n",
      "W0903 12:26:55.195185 140603500238656 lazy_loader.py:50] \n",
      "The TensorFlow contrib module will not be included in TensorFlow 2.0.\n",
      "For more information, please see:\n",
      "  * https://github.com/tensorflow/community/blob/master/rfcs/20180907-contrib-sunset.md\n",
      "  * https://github.com/tensorflow/addons\n",
      "  * https://github.com/tensorflow/io (for I/O related ops)\n",
      "If you depend on functionality not listed there, please file an issue.\n",
      "\n",
      "W0903 12:26:55.195700 140603500238656 deprecation_wrapper.py:119] From /home/bangui/anaconda3/envs/python36/lib/python3.6/site-packages/adanet/tf_compat/__init__.py:96: The name tf.losses.Reduction is deprecated. Please use tf.compat.v1.losses.Reduction instead.\n",
      "\n",
      "W0903 12:26:55.213943 140603500238656 deprecation_wrapper.py:119] From /home/bangui/Dropbox/Perso/Formation/openclassrooms/OC_Datascientist/Kaggle/p8_util_config.py:137: The name tf.train.AdamOptimizer is deprecated. Please use tf.compat.v1.train.AdamOptimizer instead.\n",
      "\n"
     ]
    }
   ],
   "source": [
    "import p5_util\n",
    "#filename = './data/DataPreparator_train_v2_spacy_'+str(n_sample)+'.dill'\n",
    "filename = './data/DataPreparator_train_v2_spacy_notfidf_'+str(n_sample)+'.dill'\n",
    "\n",
    "dataPreparator_v2_train = p5_util.object_load(filename)"
   ]
  },
  {
   "cell_type": "markdown",
   "metadata": {},
   "source": [
    "`build_matrix_padded_truncated` : such function below is used in order avoid the whole data preparation process of `dataPreparator_v2_valid` object. \n",
    "\n",
    "This is due to the fact that this function has been added as a method of `DataPreparator_v2` afterwards."
   ]
  },
  {
   "cell_type": "code",
   "execution_count": 4,
   "metadata": {},
   "outputs": [
    {
     "name": "stdout",
     "output_type": "stream",
     "text": [
      "(1089840, 300)13/13\n",
      "Transform : 13/13\r"
     ]
    }
   ],
   "source": [
    "batch_size=1000\n",
    "percent_var = 0.60\n",
    "\n",
    "dataPreparator_v2_train.build_matrix_padded_truncated(batch_size, percent_var)"
   ]
  },
  {
   "cell_type": "code",
   "execution_count": 5,
   "metadata": {},
   "outputs": [
    {
     "data": {
      "text/plain": [
       "(80, 39)"
      ]
     },
     "execution_count": 5,
     "metadata": {},
     "output_type": "execute_result"
    }
   ],
   "source": [
    "dataPreparator_v2_train.df_data['matrix_padded_truncated'].iloc[12000].shape"
   ]
  },
  {
   "cell_type": "code",
   "execution_count": 6,
   "metadata": {},
   "outputs": [],
   "source": [
    "import p5_util\n",
    "if True :\n",
    "    #filename = './data/DataPreparator_train_v2_spacy_'+str(n_sample)+'.dill'\n",
    "    filename = './data/DataPreparator_train_v2_spacy_notfidf_'+str(n_sample)+'.dill'\n",
    "\n",
    "    p5_util.object_dump(dataPreparator_v2_train, filename)"
   ]
  },
  {
   "cell_type": "code",
   "execution_count": 1,
   "metadata": {},
   "outputs": [
    {
     "name": "stderr",
     "output_type": "stream",
     "text": [
      "/home/bangui/.local/lib/python3.6/site-packages/matplotlib/__init__.py:886: MatplotlibDeprecationWarning: \n",
      "examples.directory is deprecated; in the future, examples will be found relative to the 'datapath' directory.\n",
      "  \"found relative to the 'datapath' directory.\".format(key))\n"
     ]
    },
    {
     "ename": "NameError",
     "evalue": "name 'dataPreparator_v2_train' is not defined",
     "output_type": "error",
     "traceback": [
      "\u001b[0;31m---------------------------------------------------------------------------\u001b[0m",
      "\u001b[0;31mNameError\u001b[0m                                 Traceback (most recent call last)",
      "\u001b[0;32m<ipython-input-1-8a427c39ea80>\u001b[0m in \u001b[0;36m<module>\u001b[0;34m\u001b[0m\n\u001b[1;32m      1\u001b[0m \u001b[0;32mimport\u001b[0m \u001b[0mp3_util_plot\u001b[0m\u001b[0;34m\u001b[0m\u001b[0;34m\u001b[0m\u001b[0m\n\u001b[0;32m----> 2\u001b[0;31m \u001b[0mp3_util_plot\u001b[0m\u001b[0;34m.\u001b[0m\u001b[0mplot_pca_variance\u001b[0m\u001b[0;34m(\u001b[0m\u001b[0mdataPreparator_v2_train\u001b[0m\u001b[0;34m.\u001b[0m\u001b[0mxpca\u001b[0m\u001b[0;34m)\u001b[0m\u001b[0;34m\u001b[0m\u001b[0;34m\u001b[0m\u001b[0m\n\u001b[0m",
      "\u001b[0;31mNameError\u001b[0m: name 'dataPreparator_v2_train' is not defined"
     ]
    }
   ],
   "source": [
    "import p3_util_plot\n",
    "p3_util_plot.plot_pca_variance(dataPreparator_v2_train.xpca)"
   ]
  },
  {
   "cell_type": "markdown",
   "metadata": {},
   "source": [
    "### <font color=blus>5.4.2. Dimension reduction for validation dataset</font>"
   ]
  },
  {
   "cell_type": "markdown",
   "metadata": {},
   "source": [
    "    Same process is applied that the one applied on train v2 dataset.\n",
    "    \n",
    "    Decomposition algorithm is copied from dataPreparator_v2_train into dataPreparator_v2_valid\n",
    "    \n",
    "    Then dimension truncation is applied to all digitalized texts.\n",
    "    "
   ]
  },
  {
   "cell_type": "code",
   "execution_count": 3,
   "metadata": {},
   "outputs": [
    {
     "name": "stdout",
     "output_type": "stream",
     "text": [
      "p5_util.object_load : fileName= ./data/DataPreparator_valid_v2_spacy_15000.dill\n"
     ]
    },
    {
     "name": "stderr",
     "output_type": "stream",
     "text": [
      "Using TensorFlow backend.\n",
      "WARNING: Logging before flag parsing goes to stderr.\n",
      "W0902 18:27:04.305432 140110865049408 lazy_loader.py:50] \n",
      "The TensorFlow contrib module will not be included in TensorFlow 2.0.\n",
      "For more information, please see:\n",
      "  * https://github.com/tensorflow/community/blob/master/rfcs/20180907-contrib-sunset.md\n",
      "  * https://github.com/tensorflow/addons\n",
      "  * https://github.com/tensorflow/io (for I/O related ops)\n",
      "If you depend on functionality not listed there, please file an issue.\n",
      "\n",
      "W0902 18:27:04.306493 140110865049408 deprecation_wrapper.py:119] From /home/bangui/anaconda3/envs/python36/lib/python3.6/site-packages/adanet/tf_compat/__init__.py:96: The name tf.losses.Reduction is deprecated. Please use tf.compat.v1.losses.Reduction instead.\n",
      "\n",
      "W0902 18:27:04.322495 140110865049408 deprecation_wrapper.py:119] From /home/bangui/Dropbox/Perso/Formation/openclassrooms/OC_Datascientist/Kaggle/p8_util_config.py:137: The name tf.train.AdamOptimizer is deprecated. Please use tf.compat.v1.train.AdamOptimizer instead.\n",
      "\n"
     ]
    }
   ],
   "source": [
    "import p5_util\n",
    "filename = './data/DataPreparator_valid_v2_spacy_'+str(n_sample)+'.dill'\n",
    "dataPreparator_v2_valid = p5_util.object_load(filename)"
   ]
  },
  {
   "cell_type": "code",
   "execution_count": 5,
   "metadata": {},
   "outputs": [
    {
     "name": "stdout",
     "output_type": "stream",
     "text": [
      "(1089280, 300)\n",
      "Transform : 1/13\r",
      "Transform : 2/13\r",
      "Transform : 3/13\r",
      "Transform : 4/13\r",
      "Transform : 5/13\r",
      "Transform : 6/13\r",
      "Transform : 7/13\r",
      "Transform : 8/13\r",
      "Transform : 9/13\r",
      "Transform : 10/13\r",
      "Transform : 11/13\r",
      "Transform : 12/13\r",
      "Transform : 13/13\r"
     ]
    }
   ],
   "source": [
    "batch_size=1000\n",
    "percent_var = 0.60\n",
    "\n",
    "dataPreparator_v2_valid = build_matrix_padded_truncated(dataPreparator_v2_valid, batch_size, percent_var)"
   ]
  },
  {
   "cell_type": "code",
   "execution_count": 6,
   "metadata": {},
   "outputs": [
    {
     "data": {
      "text/plain": [
       "Index(['counting', 'target', 'matrix_padded_truncated'], dtype='object')"
      ]
     },
     "execution_count": 6,
     "metadata": {},
     "output_type": "execute_result"
    }
   ],
   "source": [
    "dataPreparator_v2_valid.df_data.columns"
   ]
  },
  {
   "cell_type": "code",
   "execution_count": 9,
   "metadata": {},
   "outputs": [],
   "source": [
    "import p5_util\n",
    "filename = './data/DataPreparator_valid_v2_spacy_'+str(n_sample)+'.dill'\n",
    "p5_util.object_dump(dataPreparator_v2_valid, filename)"
   ]
  },
  {
   "cell_type": "code",
   "execution_count": 7,
   "metadata": {},
   "outputs": [
    {
     "name": "stdout",
     "output_type": "stream",
     "text": [
      "13616\n",
      "Index(['counting', 'target', 'matrix_padded_truncated'], dtype='object')\n",
      "(80, 39)\n"
     ]
    },
    {
     "data": {
      "text/plain": [
       "{'batch_size': 1000, 'copy': True, 'n_components': 300, 'whiten': False}"
      ]
     },
     "execution_count": 7,
     "metadata": {},
     "output_type": "execute_result"
    }
   ],
   "source": [
    "print(len(dataPreparator_v2_valid))\n",
    "print(dataPreparator_v2_valid.df_data.columns)\n",
    "print(dataPreparator_v2_valid.df_data['matrix_padded_truncated'].iloc[12000].shape)\n",
    "dataPreparator_v2_valid.xpca.get_params()"
   ]
  },
  {
   "cell_type": "code",
   "execution_count": null,
   "metadata": {},
   "outputs": [],
   "source": [
    "print(dataPreparator_v2_train.df_data['target'][:10])\n",
    "print(dataPreparator_v2_valid.df_data['target'][:10])"
   ]
  },
  {
   "cell_type": "code",
   "execution_count": null,
   "metadata": {},
   "outputs": [],
   "source": []
  },
  {
   "cell_type": "code",
   "execution_count": 158,
   "metadata": {},
   "outputs": [
    {
     "data": {
      "image/png": "[encoded data removed]",
      "text/plain": [
       "<Figure size 720x720 with 1 Axes>"
      ]
     },
     "metadata": {
      "needs_background": "light"
     },
     "output_type": "display_data"
    }
   ],
   "source": [
    "import p3_util_plot\n",
    "p3_util_plot.plot_pca_variance(incrementalPCA)"
   ]
  },
  {
   "cell_type": "markdown",
   "metadata": {},
   "source": [
    "    Get first components that do explain close to 40% of the variance."
   ]
  },
  {
   "cell_type": "markdown",
   "metadata": {},
   "source": [
    "# 6. Data preparation with `DataPreparator_v2` "
   ]
  },
  {
   "cell_type": "code",
   "execution_count": 2,
   "metadata": {},
   "outputs": [],
   "source": [
    "%load_ext autoreload\n",
    "%autoreload 2\n",
    "\n",
    "%reload_ext autoreload"
   ]
  },
  {
   "cell_type": "markdown",
   "metadata": {},
   "source": [
    "## 6.1. Build of train and valid dataset "
   ]
  },
  {
   "cell_type": "code",
   "execution_count": null,
   "metadata": {},
   "outputs": [],
   "source": [
    "from sklearn.model_selection import train_test_split\n",
    "X_train, X_test, y_train, y_test = train_test_split(df_train['comment_text'],df_train['target'],test_size=0.33, random_state=42)\n",
    "\n",
    "print(\"Train dataset: X = {} Label= {}\".format(X_train.shape, y_train.shape))\n",
    "print(\"Test dataset:  X = {} Label= {}\".format(X_test.shape,  y_test.shape))"
   ]
  },
  {
   "cell_type": "code",
   "execution_count": 5,
   "metadata": {},
   "outputs": [],
   "source": [
    "import dill\n",
    "import p5_util\n",
    "\n",
    "filename = './data/X_y_train.dill'\n",
    "p5_util.object_dump((X_train, y_train),filename)"
   ]
  },
  {
   "cell_type": "code",
   "execution_count": 6,
   "metadata": {},
   "outputs": [],
   "source": [
    "import dill\n",
    "import p5_util\n",
    "\n",
    "filename = './data/X_y_valid.dill'\n",
    "p5_util.object_dump((X_test, y_test),filename)"
   ]
  },
  {
   "cell_type": "markdown",
   "metadata": {},
   "source": [
    "## 6.2. Data preparation with `DataPreparator_v2` with steps"
   ]
  },
  {
   "cell_type": "markdown",
   "metadata": {},
   "source": [
    "## 6.2.1. Automated process configuration"
   ]
  },
  {
   "cell_type": "code",
   "execution_count": 10,
   "metadata": {},
   "outputs": [],
   "source": [
    "#-------------------------------------------------------\n",
    "# Parameters for DataPreparator_v2\n",
    "#-------------------------------------------------------\n",
    "dict_param_dataprep={\n",
    "    'other' : None, \\\n",
    "    'slice_length' :10000, \\\n",
    "    'min_token_len':2, \\\n",
    "    'max_token_len':15,\\\n",
    "    'min_doc_len':5, \\\n",
    "    'max_doc_len':500,\\\n",
    "    'spacy_model_language' : 'en_core_web_md',\\\n",
    "    'tokenizer' : None,\\\n",
    "    'max_padding_length': 40,\\\n",
    "    'oov_keyword': \"unknown\",\\\n",
    "    'entity_keyword' : None,\\\n",
    "    'nb_word_most_frequent' : 100,\\\n",
    "    'is_df_copied' : False,\\\n",
    "    'is_tfidf' : False\\\n",
    "}\n",
    "\n",
    "#-------------------------------------------------------\n",
    "# Parameters for each digitalization step\n",
    "#-------------------------------------------------------\n",
    "filename = None\n",
    "\n",
    "#-------------------------------------------------------\n",
    "# In this step : \n",
    "#  * read file containing dataset\n",
    "#  * sample of dataset\n",
    "#-------------------------------------------------------\n",
    "dict_step1={\n",
    "    \"dataset_filename\":\"./data/X_y\",\\\n",
    "    \"dict_param_dataprep\" :dict_param_dataprep \n",
    "}\n",
    "\n",
    "dict_step2 = {\n",
    "    \"dataprep_step_filename\":filename,\n",
    "    \"dict_param_dataprep\" :dict_param_dataprep \n",
    "}\n",
    "\n",
    "ipca_batch_size=300\n",
    "percent_var = 0.8\n",
    "dict_step3 = {\n",
    "\"dataprep_step_filename\":filename,\\\n",
    "\"dict_param_dataprep\" :dict_param_dataprep ,\\\n",
    "'ipca_batch_size' : ipca_batch_size,\\\n",
    "'percent_var' : percent_var,\\\n",
    "'xpca' : None,\\\n",
    "}\n",
    "\n",
    "#-------------------------------------------------------\n",
    "# Parameters for digitalization steps sequences\n",
    "# This is the description of the automated process.\n",
    "#-------------------------------------------------------\n",
    "dict_param_step={\n",
    "    1 : dict_step1,\\\n",
    "    2 : dict_step2,\\\n",
    "    3 : dict_step3,\\\n",
    "}\n",
    "\n",
    "#-------------------------------------------------------\n",
    "# Parameters for the global process, means , values \n",
    "# that remain same, whatever the step of the \n",
    "# digitalisation process.\n",
    "#-------------------------------------------------------\n",
    "dict_param_sequence={\n",
    "    'step' : 2,\\\n",
    "    'step_end' : 2,\\\n",
    "    \"previous_step_file_name\":\"./data/DataPreparator_v2_40Tokens_spacy_train_50000_step1.dill\",\\\n",
    "    'dict_param_step' : dict_param_step,\\\n",
    "    \"data_type\":\"train\",\\\n",
    "    \"root_file_name\":\"./data/DataPreparator_v2_40Tokens_spacy\",\\\n",
    "    \"n_sample\":50000,\\\n",
    "    \"file_format\":\".dill\",\\\n",
    "}\n"
   ]
  },
  {
   "cell_type": "markdown",
   "metadata": {},
   "source": [
    "## 6.2.2. Automated process application "
   ]
  },
  {
   "cell_type": "code",
   "execution_count": null,
   "metadata": {},
   "outputs": [
    {
     "name": "stdout",
     "output_type": "stream",
     "text": [
      "\n",
      "Step : 2\n",
      "p5_util.object_load : fileName= ./data/DataPreparator_v2_40Tokens_spacy_train_50000_step1.dill\n",
      "\n",
      "build_padded_matrix : Tokens to tensor transformation...\n",
      "\n",
      "build_padded_matrix : Padd / truncate matrix rows...\n"
     ]
    }
   ],
   "source": [
    "import test_datapreparator\n",
    "filename = test_datapreparator.dataprepatator_sequence_process(dict_param_sequence)"
   ]
  },
  {
   "cell_type": "markdown",
   "metadata": {},
   "source": [
    "    Display explained variance from PCA operator issued from process."
   ]
  },
  {
   "cell_type": "code",
   "execution_count": 19,
   "metadata": {},
   "outputs": [
    {
     "name": "stdout",
     "output_type": "stream",
     "text": [
      "p5_util.object_load : fileName= ./data/DataPreparator_v2_40Tokens_spacy_valid_500.dill\n"
     ]
    },
    {
     "data": {
      "image/png": "[encoded data removed]",
      "text/plain": [
       "<Figure size 720x720 with 1 Axes>"
      ]
     },
     "metadata": {
      "needs_background": "light"
     },
     "output_type": "display_data"
    }
   ],
   "source": [
    "import p5_util\n",
    "filename='./data/DataPreparator_v2_40Tokens_spacy_valid_500.dill'\n",
    "dataPreparator_v2 = p5_util.object_load(filename)\n",
    "\n",
    "import p3_util_plot\n",
    "p3_util_plot.plot_pca_variance(dataPreparator_v2.xpca)"
   ]
  },
  {
   "cell_type": "code",
   "execution_count": 20,
   "metadata": {},
   "outputs": [
    {
     "data": {
      "text/plain": [
       "98"
      ]
     },
     "execution_count": 20,
     "metadata": {},
     "output_type": "execute_result"
    }
   ],
   "source": [
    "import p3_util_plot\n",
    "p3_util_plot.get_component_from_cum_variance(dataPreparator_v2.xpca, percent_var)"
   ]
  },
  {
   "cell_type": "markdown",
   "metadata": {},
   "source": [
    "## 6.2.3. Last step for validation dataset preparation"
   ]
  },
  {
   "cell_type": "markdown",
   "metadata": {},
   "source": [
    "    Steps are same except for last step, dimension reduction.\n",
    "    \n",
    "    PCA Operator used for validation dataset is the one built for train dataset.\n",
    "    "
   ]
  },
  {
   "cell_type": "code",
   "execution_count": 51,
   "metadata": {},
   "outputs": [
    {
     "name": "stdout",
     "output_type": "stream",
     "text": [
      "-rw-r--r-- 1 bangui bangui 615M sept.  2 18:21 ./data/DataPreparator_train_v2_spacy_15000.dill\r\n",
      "-rw-r--r-- 1 bangui bangui 2,8G sept.  3 15:34 ./data/DataPreparator_train_v2_spacy_notfidf_15000.dill\r\n",
      "-rw-r--r-- 1 bangui bangui 418M sept.  4 01:16 ./data/DataPreparator_train_v2_spacy_notfidf_1_20000.dill\r\n",
      "-rw-r--r-- 1 bangui bangui 3,6G sept.  4 11:41 ./data/DataPreparator_train_v2_spacy_notfidf_2_20000.dill\r\n",
      "-rw-r--r-- 1 bangui bangui 773M sept.  4 13:57 ./data/DataPreparator_train_v2_spacy_notfidf_20000.dill\r\n"
     ]
    }
   ],
   "source": [
    "!ls -alrth ./data/DataPreparator_train*.dill"
   ]
  },
  {
   "cell_type": "code",
   "execution_count": 78,
   "metadata": {},
   "outputs": [
    {
     "name": "stdout",
     "output_type": "stream",
     "text": [
      "p5_util.object_load : fileName= ./data/DataPreparator_train_v2_spacy_notfidf_20000.dill\n"
     ]
    }
   ],
   "source": [
    "import p5_util\n",
    "filename = \"./data/DataPreparator_train_v2_spacy_notfidf_20000.dill\"\n",
    "DataPreparator_train_v2 = p5_util.object_load(filename)"
   ]
  },
  {
   "cell_type": "code",
   "execution_count": 79,
   "metadata": {},
   "outputs": [],
   "source": [
    "xpca = DataPreparator_train_v2.get_params()['xpca']"
   ]
  },
  {
   "cell_type": "code",
   "execution_count": 83,
   "metadata": {},
   "outputs": [],
   "source": [
    "filename = None\n",
    "\n",
    "ipca_batch_size=300\n",
    "percent_var = 0.6\n",
    "dict_step3 = {\n",
    "\"dataprep_step_filename\":filename,\\\n",
    "\"dict_param_dataprep\" :dict_param_dataprep ,\\\n",
    "'ipca_batch_size' : ipca_batch_size,\\\n",
    "'percent_var' : percent_var,\\\n",
    "'xpca' : xpca,\\\n",
    "}\n",
    "\n",
    "#-------------------------------------------------------\n",
    "# Parameters for digitalization steps sequences\n",
    "#-------------------------------------------------------\n",
    "dict_param_step={\n",
    "    1 : dict_step1,\\\n",
    "    2 : dict_step2,\\\n",
    "    3 : dict_step3,\\\n",
    "}\n",
    "\n",
    "#-------------------------------------------------------\n",
    "# Parameters for the global process, means , values \n",
    "# that remain same, whatever the step of the \n",
    "# digitalisation process.\n",
    "#-------------------------------------------------------\n",
    "dict_param_sequence={\n",
    "    'step' : 3,\\\n",
    "    'step_end' : 3,\\\n",
    "    \"previous_step_file_name\":\"./data/DataPreparator_v2_spacy_valid_1000_step2.dill\",\\\n",
    "    'dict_param_step' : dict_param_step,\\\n",
    "    \"data_type\":\"valid\",\\\n",
    "    \"root_file_name\":\"./data/DataPreparator_v2_spacy\",\\\n",
    "    \"n_sample\":1000,\\\n",
    "    \"file_format\":\".dill\",\\\n",
    "}\n"
   ]
  },
  {
   "cell_type": "code",
   "execution_count": 85,
   "metadata": {},
   "outputs": [
    {
     "name": "stdout",
     "output_type": "stream",
     "text": [
      "\n",
      "Step : 3\n",
      "p5_util.object_load : fileName= ./data/DataPreparator_v2_spacy_valid_1000_step2.dill\n",
      "\n",
      "Step : 3 Save data-preparation into file ./data/DataPreparator_v2_spacy_valid_1000.dill\n"
     ]
    }
   ],
   "source": [
    "import test_datapreparator\n",
    "filename = test_datapreparator.dataprepatator_sequence_process(dict_param_sequence)"
   ]
  },
  {
   "cell_type": "code",
   "execution_count": 82,
   "metadata": {},
   "outputs": [
    {
     "name": "stdout",
     "output_type": "stream",
     "text": [
      "p5_util.object_load : fileName= ./data/DataPreparator_v2_spacy_valid_1000.dill\n"
     ]
    },
    {
     "data": {
      "image/png": "[encoded data removed]",
      "text/plain": [
       "<Figure size 720x720 with 1 Axes>"
      ]
     },
     "metadata": {
      "needs_background": "light"
     },
     "output_type": "display_data"
    }
   ],
   "source": [
    "import p5_util\n",
    "dataPreparator_v2 = p5_util.object_load(filename)\n",
    "\n",
    "import p3_util_plot\n",
    "p3_util_plot.plot_pca_variance(dataPreparator_v2.xpca)"
   ]
  },
  {
   "cell_type": "code",
   "execution_count": null,
   "metadata": {},
   "outputs": [],
   "source": [
    "import p3_util_plot\n",
    "p3_util_plot.get_component_from_cum_variance(dataPreparator_v2.xpca, 0.6)"
   ]
  }
 ],
 "metadata": {
  "kernelspec": {
   "display_name": "Python 3",
   "language": "python",
   "name": "python3"
  },
  "language_info": {
   "codemirror_mode": {
    "name": "ipython",
    "version": 3
   },
   "file_extension": ".py",
   "mimetype": "text/x-python",
   "name": "python",
   "nbconvert_exporter": "python",
   "pygments_lexer": "ipython3",
   "version": "3.6.8"
  }
 },
 "nbformat": 4,
 "nbformat_minor": 2
}
