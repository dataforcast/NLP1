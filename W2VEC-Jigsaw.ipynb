{
 "cells": [
  {
   "cell_type": "code",
   "execution_count": 2,
   "metadata": {},
   "outputs": [],
   "source": [
    "%load_ext autoreload\n",
    "%autoreload 2\n",
    "\n",
    "%reload_ext autoreload"
   ]
  },
  {
   "cell_type": "code",
   "execution_count": 3,
   "metadata": {},
   "outputs": [
    {
     "name": "stderr",
     "output_type": "stream",
     "text": [
      "Using TensorFlow backend.\n"
     ]
    }
   ],
   "source": [
    "import gensim\n",
    "import pandas as pd\n",
    "import numpy as np\n",
    "\n",
    "from multiprocessing import cpu_count\n",
    "import p9_util\n",
    "\n",
    "workers = cpu_count()\n",
    "\n",
    "is_w2vec_saved = False\n",
    "extension=''"
   ]
  },
  {
   "cell_type": "code",
   "execution_count": null,
   "metadata": {},
   "outputs": [],
   "source": [
    "from sklearn.feature_extraction.text import TfidfVectorizer\n",
    "def build_dict_tfidf(X):\n",
    "    '''\n",
    "    Build a dictionary {token:tfidf} of all tokens issued from W2VEC.\n",
    "    A TF-IDF vectorizer is built from list of sentences issued from X.\n",
    "        Input : \n",
    "            * X : list of tokens\n",
    "        Output : \n",
    "            * tfidf_vectorizer, dict_tfidf\n",
    "    '''\n",
    "    tfidf_vectorizer = TfidfVectorizer()\n",
    "    X_sentence = [\" \".join(X[raw]) for raw in range(0, len(X))]\n",
    "    X_tidf = tfidf_vectorizer.fit_transform(X_sentence)\n",
    "    # Normalization\n",
    "    ser_tfidf = pd.Series(tfidf_vectorizer.vocabulary_)\n",
    "    ser_sum = ser_tfidf.sum()\n",
    "    ser_tfidf = ser_tfidf/ser_sum\n",
    "    dict_tfidf = ser_tfidf.to_dict()\n",
    "    return tfidf_vectorizer, dict_tfidf"
   ]
  },
  {
   "cell_type": "code",
   "execution_count": null,
   "metadata": {},
   "outputs": [],
   "source": [
    "import numpy as np\n",
    "def build_weight_matrix(w2vec, dict_tfidf=None):\n",
    "    dim = w2vec.wv.vectors.view().shape[1]\n",
    "    word_matrix = np.zeros(dim)\n",
    "    zero_vector = np.zeros(dim)\n",
    "\n",
    "        \n",
    "    #--------------------------------------------------------------------------\n",
    "    # dict_tfidf is intialized if None.\n",
    "    #--------------------------------------------------------------------------\n",
    "    if dict_tfidf is None :\n",
    "        dict_tfidf = dict()\n",
    "        for word in w2vec.wv.vocab :\n",
    "            dict_tfidf[word] = 1.\n",
    "    \n",
    "    #--------------------------------------------------------------------------\n",
    "    # Words from that are not in vocabulary are replaced with a zero vector.\n",
    "    # Empty text, mean `list_corpus[i]` is empty is replaced with a zero vector.\n",
    "    #--------------------------------------------------------------------------\n",
    "    list_unique_word = list()\n",
    "    index = 0\n",
    "    for word, tfidf in dict_tfidf.items() :\n",
    "        if word in w2vec.wv.vocab : \n",
    "            if word in list_unique_word:\n",
    "                pass\n",
    "            else:\n",
    "                word_vector = np.mean( [ w2vec.wv[word]*tfidf ], axis=0 )\n",
    "                list_unique_word.append(word)\n",
    "        else :\n",
    "            word_vector = zero_vector\n",
    "        #---------------------------------------------------------------------------------------\n",
    "        # Check empty text (empty list of words) and replace it with ezro vector, when required\n",
    "        #---------------------------------------------------------------------------------------\n",
    "        if 0 == len(word_vector.shape) :\n",
    "            print(index)\n",
    "            word_vector = zero_vector\n",
    "        else :\n",
    "            pass\n",
    "        #---------------------------------------------------------------------------------------\n",
    "        # Matrix of corpus is computed.\n",
    "        # Each raw is a text from corpus while each column is a feature of the corpus.\n",
    "        #---------------------------------------------------------------------------------------\n",
    "        word_matrix = np.vstack((word_matrix,word_vector))\n",
    "        index +=1\n",
    "    #--------------------------------------------------------\n",
    "    # Remove first raw from matrix\n",
    "    #--------------------------------------------------------\n",
    "    word_matrix = word_matrix[1:]\n",
    "    print(\"\\n Number of unique words from W2EVC vocabulary = {}\".format(len(list_unique_word)))\n",
    "    return word_matrix"
   ]
  },
  {
   "cell_type": "code",
   "execution_count": null,
   "metadata": {},
   "outputs": [],
   "source": [
    "def get_sample(X, y, ratio=-1) :\n",
    "    range_value = int(len(X)*ratio)\n",
    "    return X[:range_value], y[:range_value]"
   ]
  },
  {
   "cell_type": "code",
   "execution_count": null,
   "metadata": {},
   "outputs": [],
   "source": [
    "class MeanW2VecEmbedding():\n",
    "    def __init__(self, w2vec) :\n",
    "        self._w2vec = w2vec\n",
    "        \n",
    "    def fit(self, X, y):\n",
    "        \n",
    "        return self\n",
    "    \n",
    "    def transform(self,X,y):\n",
    "        range_index = range(0, len(X),1)\n",
    "        list_X_y = [ (gensim.utils.simple_preprocess(X[index], deacc=False, min_len=2), y[index]) for index in range_index]\n",
    "        list_X = [list_X_y[i][0] for i in range(0, len(list_X_y),1)]\n",
    "        list_y = [list_X_y[i][1] for i in range(0, len(list_X_y),1)]\n",
    "        list_X, list_y = p9_util.clean_X_label(list_X, list_y)\n",
    "        X = build_word_matrix(self._w2vec, list_X)\n",
    "        return X, np.array(list_y)\n",
    "    "
   ]
  },
  {
   "cell_type": "markdown",
   "metadata": {},
   "source": [
    "# <font color=blue>1. Data are read from files and pre-processed</blue>\n",
    "\n",
    "All text is lowered."
   ]
  },
  {
   "cell_type": "markdown",
   "metadata": {},
   "source": [
    "## <font color=blue>1.1 Dataset sampling</blue>"
   ]
  },
  {
   "cell_type": "code",
   "execution_count": null,
   "metadata": {},
   "outputs": [],
   "source": [
    "df_test = pd.read_csv('./data/test.csv.zip', compression='zip', header=0, sep=',', quotechar='\"')\n",
    "df_train = pd.read_csv('./data/train.csv.zip', compression='zip', header=0, sep=',', quotechar='\"')\n",
    "\n",
    "df_train['comment_text'] = df_train['comment_text'].apply(lambda x : x.lower())"
   ]
  },
  {
   "cell_type": "markdown",
   "metadata": {},
   "source": [
    "#### Average and standard deviation for text length"
   ]
  },
  {
   "cell_type": "code",
   "execution_count": null,
   "metadata": {},
   "outputs": [],
   "source": [
    "# Get the average length of a text\n",
    "avg = sum(map(len, df_train['comment_text'])) / len(df_train['comment_text'])\n",
    "\n",
    "# Get the standard deviation of the sequence length\n",
    "std = np.sqrt(sum(map(lambda x: (len(x) - avg)**2, df_train['comment_text'])) / len(df_train['comment_text']))\n",
    "\n",
    "avg,std"
   ]
  },
  {
   "cell_type": "code",
   "execution_count": null,
   "metadata": {},
   "outputs": [],
   "source": [
    "print(max(map(len, df_train['comment_text'])), min(map(len, df_train['comment_text'])))\n",
    "maxlen = int(avg+std)\n",
    "maxlen"
   ]
  },
  {
   "cell_type": "markdown",
   "metadata": {},
   "source": [
    "#### Data is splitted into Train and Test datasets"
   ]
  },
  {
   "cell_type": "code",
   "execution_count": null,
   "metadata": {},
   "outputs": [],
   "source": [
    "from sklearn.model_selection import train_test_split\n",
    "X_train, X_test, y_train, y_test = train_test_split(df_train['comment_text'],df_train['target'],test_size=0.33, random_state=42)\n",
    "\n",
    "print(\"Train dataset: X = {} Label= {}\".format(X_train.shape, y_train.shape))\n",
    "print(\"Test dataset: X = {} Label= {}\".format(X_test.shape, y_test.shape))"
   ]
  },
  {
   "cell_type": "markdown",
   "metadata": {},
   "source": [
    "#### For testing models, a ratio of train and test datasets are used.\n",
    "\n",
    "When value is -1, then the whole dataset is used."
   ]
  },
  {
   "cell_type": "code",
   "execution_count": null,
   "metadata": {},
   "outputs": [],
   "source": [
    "ratio=0.3\n",
    "\n",
    "X_train, y_train  = get_sample(X_train, y_train, ratio=ratio)\n",
    "X_train.shape, y_train.shape"
   ]
  },
  {
   "cell_type": "markdown",
   "metadata": {},
   "source": [
    "#### Same ratio is used for test dataset."
   ]
  },
  {
   "cell_type": "code",
   "execution_count": null,
   "metadata": {},
   "outputs": [],
   "source": [
    "X_test, y_test  = get_sample(X_test, y_test, ratio=ratio)\n",
    "X_test.shape, y_test.shape"
   ]
  },
  {
   "cell_type": "markdown",
   "metadata": {},
   "source": [
    "## <font color=blue>1.2 Corpus pre-processing</font>\n",
    "All texts from corpus are tokenized.\n",
    "\n",
    "Too short tokens (< 2 characters) and too long tokens (> 15 characters) are ignored.\n",
    "\n",
    "`list_train_corpus_label` is a list of tuples. Each one of the tuple from this list is a text from the corpus.\n",
    "* 1st tuple component is a list of tokens issued from pre-processing\n",
    "* 2nd tuple component is the text label value."
   ]
  },
  {
   "cell_type": "code",
   "execution_count": null,
   "metadata": {},
   "outputs": [],
   "source": [
    "list_train_corpus_label = [ (gensim.utils.simple_preprocess(X_train[index], deacc=True, min_len=2), y_train[index]) for index in X_train.index]"
   ]
  },
  {
   "cell_type": "markdown",
   "metadata": {},
   "source": [
    "Here-under, first element from list of tuples contains 164 tokens, while second element contains 24 tokens."
   ]
  },
  {
   "cell_type": "code",
   "execution_count": null,
   "metadata": {},
   "outputs": [],
   "source": [
    "print(list_train_corpus_label[1][0])\n",
    "len(list_train_corpus_label[0][0]),len(list_train_corpus_label[1][0])"
   ]
  },
  {
   "cell_type": "markdown",
   "metadata": {},
   "source": [
    "From previous `list_train_corpus_label`, X and label are extracted, leading to `X_train` and `y_train`."
   ]
  },
  {
   "cell_type": "code",
   "execution_count": null,
   "metadata": {},
   "outputs": [],
   "source": [
    "X_train = [list_train_corpus_label[i][0] for i in range(0, len(list_train_corpus_label),1)]\n",
    "y_train = [list_train_corpus_label[i][1] for i in range(0, len(list_train_corpus_label),1)]"
   ]
  },
  {
   "cell_type": "markdown",
   "metadata": {},
   "source": [
    "#### Build a corpus sample from test dataset"
   ]
  },
  {
   "cell_type": "code",
   "execution_count": null,
   "metadata": {},
   "outputs": [],
   "source": [
    "list_test_corpus_label = [ (gensim.utils.simple_preprocess(X_test[index], deacc=False, min_len=2), y_test[index]) for index in X_test.index]\n",
    "\n",
    "X_test = [list_test_corpus_label[i][0] for i in range(0, len(list_test_corpus_label),1)]\n",
    "y_test = [list_test_corpus_label[i][1] for i in range(0, len(list_test_corpus_label),1)]"
   ]
  },
  {
   "cell_type": "markdown",
   "metadata": {},
   "source": [
    "#### Corpus is cleaned.\n",
    "\n",
    "Some text are empty, due to previous pre-processing. They are then removed.\n",
    "Corresponding y value are also removed, based on indexes values.\n",
    "\n",
    "`X_train` and `X_test` are lists of items, while each item is a list of tokens."
   ]
  },
  {
   "cell_type": "code",
   "execution_count": null,
   "metadata": {},
   "outputs": [],
   "source": [
    "import p9_util\n",
    "X_train, y_train = p9_util.clean_X_label(X_train, y_train)"
   ]
  },
  {
   "cell_type": "code",
   "execution_count": null,
   "metadata": {},
   "outputs": [],
   "source": [
    "import p9_util\n",
    "\n",
    "X_test, y_test = p9_util.clean_X_label(X_test, y_test)"
   ]
  },
  {
   "cell_type": "markdown",
   "metadata": {},
   "source": [
    "## <font color=blue>1.3 Processing Stop Words</font>"
   ]
  },
  {
   "cell_type": "code",
   "execution_count": null,
   "metadata": {},
   "outputs": [],
   "source": [
    "from gensim.parsing.preprocessing import remove_stopwords"
   ]
  },
  {
   "cell_type": "code",
   "execution_count": null,
   "metadata": {},
   "outputs": [],
   "source": [
    "X_train = [[remove_stopwords(word) for word in list_word if len(remove_stopwords(word))>0] for list_word in X_train]"
   ]
  },
  {
   "cell_type": "code",
   "execution_count": null,
   "metadata": {},
   "outputs": [],
   "source": [
    "X_test = [[remove_stopwords(word) for word in list_word if len(remove_stopwords(word))>0] for list_word in X_test]"
   ]
  },
  {
   "cell_type": "markdown",
   "metadata": {},
   "source": [
    "## <font color=blue>1.4 Read pre-processed data from file</font>"
   ]
  },
  {
   "cell_type": "code",
   "execution_count": null,
   "metadata": {},
   "outputs": [],
   "source": [
    "import p5_util\n",
    "\n",
    "\n",
    "if True :\n",
    "    filename = './data/X_train'+extension+'.dump'\n",
    "    X_train = p5_util.object_load(filename)\n",
    "\n",
    "\n",
    "    filename = './data/X_test'+extension+'.dump'\n",
    "    X_test = p5_util.object_load(filename)\n",
    "\n",
    "    filename = './data/y_train'+extension+'.dump'\n",
    "    y_train = p5_util.object_load(filename)\n",
    "\n",
    "\n",
    "    filename = './data/y_test'+extension+'.dump'\n",
    "    y_test = p5_util.object_load(filename)\n",
    "else :\n",
    "    filename = './data/X_train'+extension+'.dump'\n",
    "    p5_util.object_dump(X_train, filename)\n",
    "\n",
    "    filename = './data/X_test'+extension+'.dump'\n",
    "    p5_util.object_dump(X_test, filename)\n",
    "\n",
    "    filename = './data/y_train'+extension+'.dump'\n",
    "    p5_util.object_dump(y_train, filename)\n",
    "\n",
    "    filename = './data/y_test'+extension+'.dump'\n",
    "    p5_util.object_dump(y_test, filename)\n",
    "    \n",
    "\n",
    "print(\"\\nTrain dataset size: X={} / y={}\".format(len(X_train), len(y_train)))\n",
    "print(\"Test dataset size:  X={} / y={}\".format(len(X_test), len(y_test)))"
   ]
  },
  {
   "cell_type": "markdown",
   "metadata": {},
   "source": [
    "    All tokenized texts from corpus are filetered.\n",
    "    Filtering avoid texts with more then max_length tokens.\n",
    "    max_length has been fixed after the analysis conducted in BOW-Jigsaw.ipynb notebook."
   ]
  },
  {
   "cell_type": "code",
   "execution_count": null,
   "metadata": {},
   "outputs": [],
   "source": [
    "import p9_util\n",
    "max_length = 37\n",
    "\n",
    "X_train_filtered, y_train_filtered = p9_util.X_y_filter_max_length(X_train, y_train, max_length)\n",
    "X_test_filtered, y_test_filtered = p9_util.X_y_filter_max_length(X_test, y_test, max_length)\n",
    "\n",
    "print(\"\\nTrain dataset filtered size: X={} / y={}\".format(len(X_train_filtered), len(y_train_filtered)))\n",
    "print(\"Test dataset filtred size:   X={} / y={}\".format(len(X_test_filtered), len(y_test_filtered)))"
   ]
  },
  {
   "cell_type": "code",
   "execution_count": 6,
   "metadata": {},
   "outputs": [
    {
     "name": "stdout",
     "output_type": "stream",
     "text": [
      "p5_util.object_load : fileName= ./data/X_train_filtered.dump\n",
      "p5_util.object_load : fileName= ./data/X_test_filtered.dump\n",
      "p5_util.object_load : fileName= ./data/y_train_filtered.dump\n",
      "p5_util.object_load : fileName= ./data/y_test_filtered.dump\n",
      "\n",
      "Train filtered dataset size: X=286881 / y=286881\n",
      "Test filtered dataset size:  X=141204 / y=141204\n"
     ]
    }
   ],
   "source": [
    "import p5_util\n",
    "\n",
    "if True :\n",
    "    #---------------------------------------------------------\n",
    "    # Filtered Dataset is reloaded\n",
    "    #---------------------------------------------------------\n",
    "    filename = './data/X_train_filtered'+extension+'.dump'\n",
    "    X_train_filtered = p5_util.object_load(filename)\n",
    "\n",
    "\n",
    "    filename = './data/X_test_filtered'+extension+'.dump'\n",
    "    X_test_filtered = p5_util.object_load(filename)\n",
    "\n",
    "    filename = './data/y_train_filtered'+extension+'.dump'\n",
    "    y_train_filtered = p5_util.object_load(filename)\n",
    "\n",
    "\n",
    "    filename = './data/y_test_filtered'+extension+'.dump'\n",
    "    y_test_filtered = p5_util.object_load(filename)\n",
    "else :\n",
    "    #---------------------------------------------------------\n",
    "    # Filtered Dataset is dumped into files\n",
    "    #---------------------------------------------------------\n",
    "    filename = './data/X_train_filtered'+extension+'.dump'\n",
    "    p5_util.object_dump(X_train_filtered, filename)\n",
    "\n",
    "\n",
    "    filename = './data/X_test_filtered'+extension+'.dump'\n",
    "    p5_util.object_dump(X_test_filtered, filename)\n",
    "\n",
    "    filename = './data/y_train_filtered'+extension+'.dump'\n",
    "    p5_util.object_dump(y_train_filtered, filename)\n",
    "\n",
    "\n",
    "    filename = './data/y_test_filtered'+extension+'.dump'\n",
    "    p5_util.object_dump(y_test_filtered, filename)\n",
    "    \n",
    "\n",
    "print(\"\\nTrain filtered dataset size: X={} / y={}\".format(len(X_train_filtered), len(y_train_filtered)))\n",
    "print(\"Test filtered dataset size:  X={} / y={}\".format(len(X_test_filtered), len(y_test_filtered)))"
   ]
  },
  {
   "cell_type": "markdown",
   "metadata": {},
   "source": [
    "## <font color=blue>BOW</font>"
   ]
  },
  {
   "cell_type": "code",
   "execution_count": 7,
   "metadata": {},
   "outputs": [
    {
     "name": "stdout",
     "output_type": "stream",
     "text": [
      "286881\n",
      "141204\n"
     ]
    }
   ],
   "source": [
    "import p9_util\n",
    "\n",
    "max_length=37\n",
    "\n",
    "#-----------------------------------------------\n",
    "# Tokenizer is built and returned from function\n",
    "#-----------------------------------------------\n",
    "X_train_bow, tokenizer = p9_util.bow_matrix_build(X_train_filtered, max_length)\n",
    "print(len(X_train_bow))\n",
    "\n",
    "#-----------------------------------------------\n",
    "# Tokenizer is used inside function\n",
    "#-----------------------------------------------\n",
    "X_test_bow, _ = p9_util.bow_matrix_build(X_test_filtered, max_length, tokenizer=tokenizer)\n",
    "print(len(X_test_bow))"
   ]
  },
  {
   "cell_type": "code",
   "execution_count": null,
   "metadata": {},
   "outputs": [],
   "source": [
    "print(len(y_train_filtered))\n",
    "print(len(y_test_filtered))"
   ]
  },
  {
   "cell_type": "code",
   "execution_count": 16,
   "metadata": {},
   "outputs": [
    {
     "name": "stdout",
     "output_type": "stream",
     "text": [
      "\n",
      "Train BOW dataset size: X=286881 / y=286881\n",
      "Test BOW dataset size:  X=141204 / y=141204\n"
     ]
    }
   ],
   "source": [
    "import p5_util\n",
    "y_train_bow = y_train_filtered.copy()\n",
    "y_test_bow  = y_test_filtered.copy()\n",
    "if False :\n",
    "    #---------------------------------------------------------\n",
    "    # BOW Dataset is reloaded\n",
    "    #---------------------------------------------------------\n",
    "    filename = './data/X_train_bow'+extension+'.dump'\n",
    "    X_train_bow = p5_util.object_load(filename)\n",
    "\n",
    "\n",
    "    filename = './data/X_test_bow'+extension+'.dump'\n",
    "    X_test_bow = p5_util.object_load(filename)\n",
    "\n",
    "    filename = './data/y_train_bow'+extension+'.dump'\n",
    "    y_train_bow = p5_util.object_load(filename)\n",
    "\n",
    "    filename = './data/y_test_bow'+extension+'.dump'\n",
    "    y_test_bow = p5_util.object_load(filename)\n",
    "\n",
    "    filename = './data/tokenizer'+extension+'.dump'\n",
    "    tokenizer = p5_util.object_load(filename)\n",
    "    \n",
    "else :\n",
    "    #---------------------------------------------------------\n",
    "    # BOW Dataset is dumped into files\n",
    "    #---------------------------------------------------------\n",
    "    filename = './data/X_train_bow'+extension+'.dump'\n",
    "    p5_util.object_dump(X_train_bow, filename)\n",
    "\n",
    "    filename = './data/X_test_bow'+extension+'.dump'\n",
    "    p5_util.object_dump(X_test_bow, filename)\n",
    "\n",
    "    filename = './data/y_train_bow'+extension+'.dump'\n",
    "    p5_util.object_dump(y_train_bow, filename)\n",
    "\n",
    "\n",
    "    filename = './data/y_test_bow'+extension+'.dump'\n",
    "    p5_util.object_dump(y_test_bow, filename)\n",
    "\n",
    "    filename = './data/tokenizer'+extension+'.dump'\n",
    "    p5_util.object_dump(tokenizer, filename)\n",
    "\n",
    "\n",
    "print(\"\\nTrain BOW dataset size: X={} / y={}\".format(len(X_train_bow), len(y_train_bow)))\n",
    "print(\"Test BOW dataset size:  X={} / y={}\".format(len(X_test_bow), len(y_test_bow)))"
   ]
  },
  {
   "cell_type": "markdown",
   "metadata": {},
   "source": [
    "# <font color=blue>2. Corpus Bag of Word using TF-IDF vectorization</font>\n",
    "\n",
    "Corpus is rebuilt from pre-processed list of tokens issued from `gensim.utils.simple_preprocess`\n",
    "\n",
    "This allows to compute TF-IDF vectors with the same set of tokens then the one built from `W2VEC`.\n",
    "\n",
    "TF-IDF values are normalized in order to weight text vectors computed from `W2VEC` words vectors.\n",
    "\n",
    "This leads having a dictionary `dict_tfidf = {token:tfidf}`.\n",
    "\n",
    "Applying `tfidf_vectorizer.transform(text)` leads to a resulting sparse matrix. This is due to the fact\n",
    "TF-IDF vocabulary is very large.\n",
    "\n",
    "TF-IDF Vocabulary size is given with `len(tfidf_vectorizer.vocabulary_)`. TF-IDF vocabulary size is also `len(dict_tfidf)`.\n"
   ]
  },
  {
   "cell_type": "code",
   "execution_count": null,
   "metadata": {},
   "outputs": [],
   "source": [
    "tfidf_vectorizer, dict_tfidf = build_dict_tfidf(X_train)"
   ]
  },
  {
   "cell_type": "code",
   "execution_count": null,
   "metadata": {},
   "outputs": [],
   "source": [
    "print(\"TF-IDF vocabulary size= {}\".format(len(tfidf_vectorizer.vocabulary_)))\n",
    "print(\"Number of unique tokens in corpus= {}\\n\".format(len(dict_tfidf)))"
   ]
  },
  {
   "cell_type": "markdown",
   "metadata": {},
   "source": [
    "# <font color=blue>3. Word embeddings with W2VEC</font>\n",
    "\n",
    "With `W2VEC`, a vector space is defined from corpus and coordonates of a word is defined in this vector space.\n",
    "Such coordonates are named embeddings.\n",
    "\n",
    "Those coordonates, that are learned from text, depends of the surround words. Surrounds words define a semantic context. \n",
    "\n",
    "Then coordonates of a word reflects semantics relations with other words.\n",
    "\n",
    "Each word will be vectorized as a vector of dimension = `embeddings_dim`.\n",
    "\n",
    "`embeddings_dim` is fixed considering Glove embeddings used in this project. It is 100.\n",
    "\n",
    "`X_train` is a list of lists in which : \n",
    "* Each element of list is a text from the corpus\n",
    "* Each text from corpus is represented as a list of tokens\n",
    "\n",
    "Vector space is built with `W2VEC` from `X_train`."
   ]
  },
  {
   "cell_type": "code",
   "execution_count": 4,
   "metadata": {},
   "outputs": [
    {
     "name": "stdout",
     "output_type": "stream",
     "text": [
      "True True\n",
      "Loading W2VEC model...\n",
      "Done!\n",
      "\n"
     ]
    }
   ],
   "source": [
    "import p9_util\n",
    "\n",
    "# When False, then W2VEC model is built and dumped.\n",
    "is_saved = True\n",
    "\n",
    "# Dimension of the vector space is fixed in embeddings_dim\n",
    "embeddings_dim=100\n",
    "\n",
    "# Number of step for each word from corpus to learn its coordonates\n",
    "epochs=10\n",
    "\n",
    "# W2VEC Model saved into a file.\n",
    "model_filename_to_save = './data/model_w2vec_'+str(epochs)+'_epochs'+extension+'.h5'\n",
    "\n",
    "# W2VEC Model is returned\n",
    "if is_saved is True :\n",
    "    w2vec = p9_util.get_trained_w2vec(model_filename_to_save, None, epochs, embeddings_dim=embeddings_dim, is_saved=is_saved)\n",
    "else :\n",
    "    w2vec = p9_util.get_trained_w2vec(model_filename_to_save, X_train_filtered, epochs, embeddings_dim=embeddings_dim, is_saved=False)\n"
   ]
  },
  {
   "cell_type": "code",
   "execution_count": null,
   "metadata": {},
   "outputs": [],
   "source": [
    "print(w2vec.corpus_count)\n",
    "print(w2vec.get_latest_training_loss())"
   ]
  },
  {
   "cell_type": "markdown",
   "metadata": {},
   "source": [
    "### <font color=blue>3.1. X_train is transformed into an Embeddings matrix thanks to W2VEC</font>\n",
    "\n",
    "In W2VEC, each word is represented as a vector. \n",
    "\n",
    "In this context, a text composed from tokens may be represented \n",
    "as a linear combination of vectors of words.\n",
    "\n",
    "By default, W2VEC model is build as Countinuous Bag of Word (CBOW). This means that by default, the model will be able to predict a word from a given context.\n",
    "\n",
    "\n",
    "The result is a (NxM) matrix with : \n",
    " * N raws : number of sentences into the corpus.\n",
    " * M columns : dimension of W2VEC vectorial space.\n",
    "\n",
    "Number of columns, means embeddings dimension, is provided with attribute `w2vec.wv.vector_size`\n",
    "\n",
    "Vocabulary size is provided with `len(w2vec.wv.vocab)`"
   ]
  },
  {
   "cell_type": "code",
   "execution_count": null,
   "metadata": {},
   "outputs": [],
   "source": [
    "import p9_util\n",
    "\n",
    "train_w2vec_matrix, list_index_excluded = p9_util.build_corpus_matrix(w2vec,X_train_filtered)\n",
    "\n",
    "#Corpus matrix is dumped into a file\n",
    "print(\"\\nCorpus Shape= {} / excluded indexes={}\".format(train_w2vec_matrix.shape, len(list_index_excluded)))"
   ]
  },
  {
   "cell_type": "code",
   "execution_count": null,
   "metadata": {},
   "outputs": [],
   "source": [
    "import p5_util\n",
    "filename = './data/w2vec_train_corpus_matrix'+extension+'.dump'\n",
    "p5_util.object_dump(train_w2vec_matrix, filename)"
   ]
  },
  {
   "cell_type": "code",
   "execution_count": null,
   "metadata": {},
   "outputs": [],
   "source": [
    "train_w2vec_matrix.shape"
   ]
  },
  {
   "cell_type": "markdown",
   "metadata": {},
   "source": [
    "#### Indentification of sentences that do not fit into corpus embeddings matrix.\n",
    "\n",
    "This allows to keep matching `y_train_filtered` indexes with `train_w2vec_matrix`"
   ]
  },
  {
   "cell_type": "code",
   "execution_count": null,
   "metadata": {},
   "outputs": [],
   "source": [
    "len(X_train_filtered) - train_w2vec_matrix.shape[0]"
   ]
  },
  {
   "cell_type": "code",
   "execution_count": null,
   "metadata": {},
   "outputs": [],
   "source": [
    "import p9_util\n",
    "dict_train_index_excluded = p9_util.get_excluded_dict_index_list(X_train_filtered, w2vec)"
   ]
  },
  {
   "cell_type": "markdown",
   "metadata": {},
   "source": [
    "Some tokenized sentences are excluded from corpus matrix. Followings display 10 of these excluded indexes."
   ]
  },
  {
   "cell_type": "code",
   "execution_count": null,
   "metadata": {},
   "outputs": [],
   "source": [
    "print(\"\\nNumber of excluded sentences from embeddings matrix= {}\".format(len(dict_train_index_excluded)))\n",
    "dict_train_index_excluded"
   ]
  },
  {
   "cell_type": "markdown",
   "metadata": {},
   "source": [
    "Most of the excluded words above are due words obfuscation, such as `dmonish`, `phuckerberg`.\n",
    "\n",
    "Such words have a phonetic semantic.\n",
    "\n",
    "Others are due to orthographic fails, such as : `euthanization`, `twoo`\n",
    "\n",
    "Some are due to inappropriate character adds : `s_cold`, `they_didn`\n"
   ]
  },
  {
   "cell_type": "markdown",
   "metadata": {},
   "source": [
    "#### Targets values from `y_train_filtered` out of embeddings matrix raws are removed  "
   ]
  },
  {
   "cell_type": "code",
   "execution_count": null,
   "metadata": {},
   "outputs": [],
   "source": [
    "import numpy as np\n",
    "\n",
    "y_train_filtered = [y_train_filtered[index] for index in range(0, len(y_train_filtered)) if index not in dict_train_index_excluded.keys()]\n",
    "\n",
    "print(\"\\ny_train_filtered length after removing sentences out of embedding matrix: {}\".format(len(y_train_filtered)))\n",
    "\n",
    "filename = './data/y_train_filtered'+extension+'.dump'\n",
    "p5_util.object_dump(np.array(y_train_filtered), filename)"
   ]
  },
  {
   "cell_type": "markdown",
   "metadata": {},
   "source": [
    "### <font color=blue>3.2. X_test is transformed into an Embeddings matrix using W2VEC</font>\n",
    "\n",
    "    Note that text length is not restricted for test dataset.\n",
    "    W2VEC model built from train dataset is used for test dataset."
   ]
  },
  {
   "cell_type": "code",
   "execution_count": null,
   "metadata": {},
   "outputs": [],
   "source": [
    "import p5_util\n",
    "import p9_util\n",
    "\n",
    "test_w2vec_matrix, list_index_excluded = p9_util.build_corpus_matrix(w2vec,X_test_filtered)\n",
    "\n",
    "filename = './data/w2vec_test_corpus_matrix'+extension+'.dump'\n",
    "p5_util.object_dump(test_w2vec_matrix, filename)"
   ]
  },
  {
   "cell_type": "code",
   "execution_count": null,
   "metadata": {},
   "outputs": [],
   "source": [
    "print(\"Embeddings for test data Shape= {}\".format(test_w2vec_matrix.shape))"
   ]
  },
  {
   "cell_type": "code",
   "execution_count": null,
   "metadata": {},
   "outputs": [],
   "source": [
    "import p9_util\n",
    "dict_test_index_excluded = p9_util.get_excluded_dict_index_list(X_test_filtered, w2vec)\n",
    "print(\"Indexes excluded from test embeddings= {}\".format(len(dict_test_index_excluded)))\n"
   ]
  },
  {
   "cell_type": "code",
   "execution_count": null,
   "metadata": {},
   "outputs": [],
   "source": [
    "y_test_filtered = [y_test[index] for index in range(0, len(y_test_filtered)) if index not in dict_test_index_excluded.keys()]\n",
    "\n",
    "print(\"\\ny_test_filtered length after removing sentences out of embedding matrix: {}\".format(len(y_test_filtered)))\n",
    "\n",
    "filename = './data/y_test_filtered'+extension+'.dump'\n",
    "p5_util.object_dump(np.array(y_test_filtered), filename)"
   ]
  },
  {
   "cell_type": "code",
   "execution_count": null,
   "metadata": {},
   "outputs": [],
   "source": [
    "for index in dict_test_index_excluded.keys() : \n",
    "    print(X_test_filtered[index])"
   ]
  },
  {
   "cell_type": "markdown",
   "metadata": {},
   "source": [
    "# <font color=blue>4. Applying estimators</font>"
   ]
  },
  {
   "cell_type": "code",
   "execution_count": null,
   "metadata": {},
   "outputs": [],
   "source": [
    "extension"
   ]
  },
  {
   "cell_type": "code",
   "execution_count": null,
   "metadata": {},
   "outputs": [],
   "source": [
    "import p5_util\n",
    "\n",
    "filename = './data/w2vec_train_corpus_matrix'+extension+'.dump'\n",
    "train_w2vec_matrix = p5_util.object_load(filename)\n",
    "\n",
    "filename = './data/w2vec_test_corpus_matrix'+extension+'.dump'\n",
    "test_w2vec_matrix = p5_util.object_load(filename)\n",
    "\n",
    "print(\"\\nTrain matrix shape : {}\".format(train_w2vec_matrix.shape))\n",
    "print(\"Test matrix shape :  {}\".format(test_w2vec_matrix.shape))\n",
    "print()\n",
    "filename = './data/y_train_filtered'+extension+'.dump'\n",
    "y_train_filtered = p5_util.object_load(filename)\n",
    "\n",
    "filename = './data/y_test_filtered'+extension+'.dump'\n",
    "y_test_filtered = p5_util.object_load(filename)\n",
    "print(len(y_train_filtered))\n",
    "print(len(y_test_filtered))"
   ]
  },
  {
   "cell_type": "markdown",
   "metadata": {},
   "source": [
    "## <font color=blue>4.1 Linear regression</font>"
   ]
  },
  {
   "cell_type": "code",
   "execution_count": null,
   "metadata": {},
   "outputs": [],
   "source": [
    "print(train_w2vec_matrix.shape, len(y_train_filtered))\n",
    "print(test_w2vec_matrix.shape, len(y_test_filtered))"
   ]
  },
  {
   "cell_type": "code",
   "execution_count": 19,
   "metadata": {},
   "outputs": [
    {
     "data": {
      "text/plain": [
       "LinearRegression(copy_X=True, fit_intercept=True, n_jobs=None,\n",
       "         normalize=False)"
      ]
     },
     "execution_count": 19,
     "metadata": {},
     "output_type": "execute_result"
    }
   ],
   "source": [
    "from sklearn.linear_model import LinearRegression\n",
    "\n",
    "lr = LinearRegression()\n",
    "\n",
    "lr.fit(X_train_bow, y_train_bow)"
   ]
  },
  {
   "cell_type": "code",
   "execution_count": 20,
   "metadata": {},
   "outputs": [],
   "source": [
    "y_predict = lr.predict(X_test_bow)"
   ]
  },
  {
   "cell_type": "code",
   "execution_count": 21,
   "metadata": {},
   "outputs": [
    {
     "data": {
      "text/plain": [
       "0.0003921699099286302"
      ]
     },
     "execution_count": 21,
     "metadata": {},
     "output_type": "execute_result"
    }
   ],
   "source": [
    "from sklearn.metrics import r2_score\n",
    "r2_score(y_test_bow, y_predict)"
   ]
  },
  {
   "cell_type": "code",
   "execution_count": 22,
   "metadata": {},
   "outputs": [
    {
     "name": "stdout",
     "output_type": "stream",
     "text": [
      "RMSE for Linear Regression: 0.0408\n",
      "MSE for Linear Regression:  0.2019\n"
     ]
    }
   ],
   "source": [
    "from sklearn.metrics import mean_squared_error\n",
    "import numpy as np\n",
    "\n",
    "rmse = np.sqrt(mean_squared_error(y_test_bow, y_predict))\n",
    "print(\"RMSE for Linear Regression: %.4f\" % rmse**2)\n",
    "print(\"MSE for Linear Regression:  %.4f\" % rmse)"
   ]
  },
  {
   "cell_type": "markdown",
   "metadata": {},
   "source": [
    "## <font color=blue>4.2 XgBoost</font>"
   ]
  },
  {
   "cell_type": "code",
   "execution_count": 23,
   "metadata": {},
   "outputs": [],
   "source": [
    "import xgboost as xgb\n",
    "from multiprocessing import cpu_count\n",
    "import p9_util\n",
    "\n",
    "workers = cpu_count()\n",
    "\n",
    "\n",
    "xgbr = xgb.XGBRegressor(objective ='reg:squarederror', colsample_bytree = 0.3, learning_rate = 0.001,\n",
    "                max_depth = 10, reg_lambda = 0., n_estimators = 100, n_jobs=workers,verbosity=1)"
   ]
  },
  {
   "cell_type": "code",
   "execution_count": null,
   "metadata": {},
   "outputs": [],
   "source": [
    "print(train_w2vec_matrix.shape, len(y_train_filtered))\n",
    "print(test_w2vec_matrix.shape, len(y_test_filtered))"
   ]
  },
  {
   "cell_type": "code",
   "execution_count": 24,
   "metadata": {},
   "outputs": [
    {
     "data": {
      "text/plain": [
       "(0.0, 1.0)"
      ]
     },
     "execution_count": 24,
     "metadata": {},
     "output_type": "execute_result"
    }
   ],
   "source": [
    "np.array(y_train_bow).min(),np.array(y_train_bow).max()"
   ]
  },
  {
   "cell_type": "markdown",
   "metadata": {},
   "source": [
    "    Training XGBOOST"
   ]
  },
  {
   "cell_type": "code",
   "execution_count": 25,
   "metadata": {},
   "outputs": [
    {
     "data": {
      "text/plain": [
       "XGBRegressor(base_score=0.5, booster='gbtree', colsample_bylevel=1,\n",
       "       colsample_bynode=1, colsample_bytree=0.3, gamma=0,\n",
       "       importance_type='gain', learning_rate=0.001, max_delta_step=0,\n",
       "       max_depth=10, min_child_weight=1, missing=None, n_estimators=100,\n",
       "       n_jobs=8, nthread=None, objective='reg:squarederror',\n",
       "       random_state=0, reg_alpha=0, reg_lambda=0.0, scale_pos_weight=1,\n",
       "       seed=None, silent=None, subsample=1, verbosity=1)"
      ]
     },
     "execution_count": 25,
     "metadata": {},
     "output_type": "execute_result"
    }
   ],
   "source": [
    "xgbr.fit(X_train_bow, y_train_bow)"
   ]
  },
  {
   "cell_type": "markdown",
   "metadata": {},
   "source": [
    "    Applying predictions with trained XGBOOST"
   ]
  },
  {
   "cell_type": "code",
   "execution_count": 26,
   "metadata": {},
   "outputs": [],
   "source": [
    "y_preds = xgbr.predict(X_test_bow)"
   ]
  },
  {
   "cell_type": "markdown",
   "metadata": {},
   "source": [
    "    NAN values issued from prediction are removed, if any."
   ]
  },
  {
   "cell_type": "code",
   "execution_count": null,
   "metadata": {},
   "outputs": [],
   "source": [
    "arr_nan_index = np.argwhere(np.isnan(y_preds)).flatten()\n",
    "print(arr_nan_index)\n",
    "\n",
    "print()    "
   ]
  },
  {
   "cell_type": "code",
   "execution_count": null,
   "metadata": {},
   "outputs": [],
   "source": [
    "y_test_filtered_ = np.delete(y_test_bow,(arr_nan_index), axis=0)\n",
    "y_preds_ = np.delete(y_preds,(arr_nan_index), axis=0)\n",
    "test_w2vec_matrix_ = np.delete(test_w2vec_matrix, (arr_nan_index), axis=0)\n",
    "\n",
    "print(len(y_test_filtered),len(y_test_filtered_),test_w2vec_matrix_.shape )"
   ]
  },
  {
   "cell_type": "markdown",
   "metadata": {},
   "source": [
    "    Evaluation of performance."
   ]
  },
  {
   "cell_type": "code",
   "execution_count": 27,
   "metadata": {},
   "outputs": [
    {
     "name": "stdout",
     "output_type": "stream",
     "text": [
      "RMSE: 0.410943\n",
      "R2 score= 1.000000\n"
     ]
    }
   ],
   "source": [
    "import numpy as np\n",
    "from sklearn.metrics import mean_squared_error\n",
    "if True :\n",
    "    rmse = np.sqrt(mean_squared_error(y_preds,y_test_bow))\n",
    "    print(\"RMSE: %f\" % (rmse))\n",
    "print(\"R2 score= %f\" % (xgbr.score(X_test_bow, y_preds)))"
   ]
  },
  {
   "cell_type": "code",
   "execution_count": 28,
   "metadata": {},
   "outputs": [
    {
     "name": "stdout",
     "output_type": "stream",
     "text": [
      "[0.4629034  0.4627312  0.4663887  0.46237525 0.46230155 0.46019953\n",
      " 0.46281195 0.46216503 0.4607942  0.46168455]\n",
      "\n",
      "[0.16666666666666666, 0.6, 0.0, 0.0, 0.0, 0.0, 0.0, 0.4, 0.2, 0.0]\n"
     ]
    }
   ],
   "source": [
    "print(y_preds[:10])\n",
    "print()\n",
    "print(y_test_bow[:10])"
   ]
  },
  {
   "cell_type": "raw",
   "metadata": {},
   "source": [
    "#n_estimators=100, learning_rate = 0.1, max_depth = 5\n",
    "#RMSE: 0.179606\n",
    "\n",
    "#n_estimators=100, learning_rate = 0.1, max_depth = 10\n",
    "#RMSE: 0.188252\n",
    "\n",
    "#n_estimators=500, learning_rate = 0.1, max_depth = 5\n",
    "#RMSE: 0.182817\n",
    "#---------------------------------------------------------------------\n",
    "XGBRegressor(base_score=0.5, booster='gbtree', colsample_bylevel=1,\n",
    "       colsample_bynode=1, colsample_bytree=0.3, gamma=0,\n",
    "       importance_type='gain', learning_rate=0.01, max_delta_step=0,\n",
    "       max_depth=5, min_child_weight=1, missing=None, n_estimators=500,\n",
    "       n_jobs=1, nthread=None, objective='reg:squarederror',\n",
    "       random_state=0, reg_alpha=0, reg_lambda=5, scale_pos_weight=1,\n",
    "       seed=None, silent=None, subsample=1, verbosity=1)\n",
    "       \n",
    "RMSE: 0.179199\n",
    "#---------------------------------------------------------------------\n"
   ]
  },
  {
   "cell_type": "markdown",
   "metadata": {},
   "source": [
    "## <font color=blue>4.3 CNN estimator</font>\n",
    "\n",
    "First hidden layer is created using `keras.layers.Embedding`\n",
    "\n",
    "<br>\n",
    "Words need to be encoded as integers. This process is achieved with text tokenization. Texts are issued from corpus.\n",
    "\n",
    "Arguments are followings: \n",
    "* `vocab_size` : size of the vocabulary. This size is issued from TF-IDF vectorization.\n",
    "* `embedding_dim` : dimension of vectorized words.\n",
    "* `input_length` : number of words in a text feeding the model\n",
    "* `weights` : when provided, this is corpus weight matrix sized as (vocab_size * embedding_dim)"
   ]
  },
  {
   "cell_type": "code",
   "execution_count": 5,
   "metadata": {},
   "outputs": [],
   "source": [
    "from gensim.models import Word2Vec\n",
    "w2vec = Word2Vec.load(model_filename_to_save)"
   ]
  },
  {
   "cell_type": "markdown",
   "metadata": {},
   "source": [
    "#### Build W2VEC embeddings"
   ]
  },
  {
   "cell_type": "code",
   "execution_count": 11,
   "metadata": {},
   "outputs": [
    {
     "name": "stdout",
     "output_type": "stream",
     "text": [
      "W2VEC Embedding matrix = (94168, 100)\n"
     ]
    }
   ],
   "source": [
    "import p9_util\n",
    "w2vec_embeddings_matrix, vocab = p9_util.w2vec_embeddings_build(w2vec, tokenizer=tokenizer)\n",
    "print(\"W2VEC Embedding matrix = {}\".format(w2vec_embeddings_matrix.shape))"
   ]
  },
  {
   "cell_type": "code",
   "execution_count": 12,
   "metadata": {},
   "outputs": [
    {
     "name": "stdout",
     "output_type": "stream",
     "text": [
      "Vocabulary size= 94168\n"
     ]
    }
   ],
   "source": [
    "vocab_size = len(vocab)+1\n",
    "print(\"Vocabulary size= {}\".format(vocab_size))"
   ]
  },
  {
   "cell_type": "code",
   "execution_count": 40,
   "metadata": {},
   "outputs": [
    {
     "name": "stdout",
     "output_type": "stream",
     "text": [
      "_________________________________________________________________\n",
      "Layer (type)                 Output Shape              Param #   \n",
      "=================================================================\n",
      "embedding_4 (Embedding)      (None, 37, 100)           9416800   \n",
      "_________________________________________________________________\n",
      "batch_normalization_25 (Batc (None, 37, 100)           400       \n",
      "_________________________________________________________________\n",
      "conv1d_10 (Conv1D)           (None, 19, 32)            9632      \n",
      "_________________________________________________________________\n",
      "batch_normalization_26 (Batc (None, 19, 32)            128       \n",
      "_________________________________________________________________\n",
      "conv1d_11 (Conv1D)           (None, 10, 32)            3104      \n",
      "_________________________________________________________________\n",
      "batch_normalization_27 (Batc (None, 10, 32)            128       \n",
      "_________________________________________________________________\n",
      "conv1d_12 (Conv1D)           (None, 3, 16)             2576      \n",
      "_________________________________________________________________\n",
      "flatten_4 (Flatten)          (None, 48)                0         \n",
      "_________________________________________________________________\n",
      "batch_normalization_28 (Batc (None, 48)                192       \n",
      "_________________________________________________________________\n",
      "dense_16 (Dense)             (None, 48)                2352      \n",
      "_________________________________________________________________\n",
      "batch_normalization_29 (Batc (None, 48)                192       \n",
      "_________________________________________________________________\n",
      "dropout_2 (Dropout)          (None, 48)                0         \n",
      "_________________________________________________________________\n",
      "dense_17 (Dense)             (None, 24)                1176      \n",
      "_________________________________________________________________\n",
      "batch_normalization_30 (Batc (None, 24)                96        \n",
      "_________________________________________________________________\n",
      "dropout_3 (Dropout)          (None, 24)                0         \n",
      "_________________________________________________________________\n",
      "dense_18 (Dense)             (None, 12)                300       \n",
      "_________________________________________________________________\n",
      "batch_normalization_31 (Batc (None, 12)                48        \n",
      "_________________________________________________________________\n",
      "dropout_4 (Dropout)          (None, 12)                0         \n",
      "_________________________________________________________________\n",
      "dense_19 (Dense)             (None, 6)                 78        \n",
      "_________________________________________________________________\n",
      "batch_normalization_32 (Batc (None, 6)                 24        \n",
      "_________________________________________________________________\n",
      "dropout_5 (Dropout)          (None, 6)                 0         \n",
      "_________________________________________________________________\n",
      "dense_20 (Dense)             (None, 3)                 21        \n",
      "_________________________________________________________________\n",
      "batch_normalization_33 (Batc (None, 3)                 12        \n",
      "_________________________________________________________________\n",
      "dropout_6 (Dropout)          (None, 3)                 0         \n",
      "_________________________________________________________________\n",
      "dense_21 (Dense)             (None, 2)                 8         \n",
      "_________________________________________________________________\n",
      "batch_normalization_34 (Batc (None, 2)                 8         \n",
      "_________________________________________________________________\n",
      "dense_22 (Dense)             (None, 1)                 3         \n",
      "=================================================================\n",
      "Total params: 9,437,278\n",
      "Trainable params: 19,864\n",
      "Non-trainable params: 9,417,414\n",
      "_________________________________________________________________\n"
     ]
    }
   ],
   "source": [
    "from keras.models import Sequential\n",
    "from keras.layers import Conv1D, MaxPooling1D\n",
    "from keras.layers import Flatten, Dense, Dropout, Embedding, Input\n",
    "from keras.layers.normalization import BatchNormalization\n",
    "\n",
    "\n",
    "# Each text input will be vecorized as embedding_dim dimensions.\n",
    "model = Sequential()\n",
    "\n",
    "#----------------------------------------------------------------\n",
    "# Convolutional layers\n",
    "#----------------------------------------------------------------\n",
    "if True :\n",
    "    embedding_dim = w2vec.vector_size\n",
    "\n",
    "    # input_length = length of the text given as input\n",
    "    # vocab_size : number of unique words used in order to encode the corpus.\n",
    "    # embedding_dim : size of the output dense layer;\n",
    "    # weights\n",
    "    #model.add(Input(shape=(max_length,), dtype='int32'))\n",
    "    model.add(Embedding(vocab_size, \n",
    "                        embedding_dim,\n",
    "                        input_length=max_length, \n",
    "                        weights = [w2vec_embeddings_matrix], \n",
    "                        trainable = False))\n",
    "\n",
    "\n",
    "else : \n",
    "    model.add(Conv1D(32, 3,padding='same', activation='relu', strides=2, input_shape=(100,1)))\n",
    "\n",
    "model.add(BatchNormalization())\n",
    "model.add(Conv1D(32, 3,padding='same', strides=2, activation='relu'))\n",
    "#model.add(MaxPooling1D(3))\n",
    "\n",
    "model.add(BatchNormalization())\n",
    "model.add(Conv1D(32, 3,padding='same', strides=2, activation='relu'))\n",
    "\n",
    "model.add(BatchNormalization())\n",
    "model.add(Conv1D(16, 5,padding='same', strides=4, activation='relu'))\n",
    "\n",
    "#model.add(BatchNormalization())\n",
    "#model.add(Conv1D(8, 7,padding='same', strides=6, activation='relu'))\n",
    "\n",
    "#----------------------------------------------------------------\n",
    "# Dense layers\n",
    "#----------------------------------------------------------------\n",
    "model.add(Flatten())\n",
    "\n",
    "model.add(BatchNormalization())\n",
    "model.add(Dense(48, activation='relu'))\n",
    "\n",
    "\n",
    "model.add(BatchNormalization())\n",
    "model.add(Dropout(rate=0.3))\n",
    "model.add(Dense(24, activation='relu'))\n",
    "\n",
    "\n",
    "model.add(BatchNormalization())\n",
    "model.add(Dropout(rate=0.3))\n",
    "model.add(Dense(12, activation='relu'))\n",
    "\n",
    "model.add(BatchNormalization())\n",
    "model.add(Dropout(rate=0.3))\n",
    "model.add(Dense(6, activation='relu'))\n",
    "\n",
    "model.add(BatchNormalization())\n",
    "model.add(Dropout(rate=0.3))\n",
    "model.add(Dense(3, activation='relu'))\n",
    "\n",
    "model.add(BatchNormalization())\n",
    "model.add(Dropout(rate=0.3))\n",
    "model.add(Dense(2, activation='relu'))\n",
    "#model.add(Dropout(0.5))\n",
    "\n",
    "model.add(BatchNormalization())\n",
    "model.add(Dense(1, activation='linear'))\n",
    "\n",
    "model.summary()\n"
   ]
  },
  {
   "cell_type": "code",
   "execution_count": 41,
   "metadata": {},
   "outputs": [
    {
     "name": "stdout",
     "output_type": "stream",
     "text": [
      "(286881, 37, 1)\n",
      "(286881,)\n",
      "Train on 286881 samples, validate on 141204 samples\n",
      "Epoch 1/50\n",
      "286881/286881 [==============================] - 24s 82us/step - loss: 0.8723 - mean_absolute_error: 0.5957 - val_loss: 0.0460 - val_mean_absolute_error: 0.1627\n",
      "Epoch 2/50\n",
      "286881/286881 [==============================] - 23s 79us/step - loss: 0.0799 - mean_absolute_error: 0.2074 - val_loss: 0.0529 - val_mean_absolute_error: 0.1784\n",
      "Epoch 3/50\n",
      "286881/286881 [==============================] - 22s 77us/step - loss: 0.0700 - mean_absolute_error: 0.1940 - val_loss: 0.0444 - val_mean_absolute_error: 0.1543\n",
      "Epoch 4/50\n",
      "286881/286881 [==============================] - 22s 75us/step - loss: 0.0491 - mean_absolute_error: 0.1586 - val_loss: 0.0419 - val_mean_absolute_error: 0.1463\n",
      "Epoch 5/50\n",
      "286881/286881 [==============================] - 22s 77us/step - loss: 0.0432 - mean_absolute_error: 0.1476 - val_loss: 0.0413 - val_mean_absolute_error: 0.1506\n",
      "Epoch 6/50\n",
      "286881/286881 [==============================] - 27s 95us/step - loss: 0.0419 - mean_absolute_error: 0.1540 - val_loss: 0.0413 - val_mean_absolute_error: 0.1539\n",
      "Epoch 7/50\n",
      "286881/286881 [==============================] - 44s 152us/step - loss: 0.0414 - mean_absolute_error: 0.1490 - val_loss: 0.0411 - val_mean_absolute_error: 0.1442\n",
      "Epoch 8/50\n",
      "286881/286881 [==============================] - 40s 139us/step - loss: 0.0414 - mean_absolute_error: 0.1418 - val_loss: 0.0411 - val_mean_absolute_error: 0.1417\n",
      "Epoch 9/50\n",
      "286881/286881 [==============================] - 36s 125us/step - loss: 0.0412 - mean_absolute_error: 0.1420 - val_loss: 0.0409 - val_mean_absolute_error: 0.1434\n",
      "Epoch 10/50\n",
      "286881/286881 [==============================] - 34s 120us/step - loss: 0.0411 - mean_absolute_error: 0.1437 - val_loss: 0.0409 - val_mean_absolute_error: 0.1438\n",
      "Epoch 11/50\n",
      "286881/286881 [==============================] - 32s 112us/step - loss: 0.0410 - mean_absolute_error: 0.1437 - val_loss: 0.0414 - val_mean_absolute_error: 0.1577\n",
      "Epoch 12/50\n",
      "286881/286881 [==============================] - 30s 105us/step - loss: 0.0441 - mean_absolute_error: 0.1717 - val_loss: 0.0436 - val_mean_absolute_error: 0.1703\n",
      "Epoch 13/50\n",
      "286881/286881 [==============================] - 29s 101us/step - loss: 0.0419 - mean_absolute_error: 0.1585 - val_loss: 0.0409 - val_mean_absolute_error: 0.1425\n",
      "Epoch 14/50\n",
      "286881/286881 [==============================] - 29s 102us/step - loss: 0.0414 - mean_absolute_error: 0.1381 - val_loss: 0.0415 - val_mean_absolute_error: 0.1365\n",
      "Epoch 15/50\n",
      "286881/286881 [==============================] - 26s 90us/step - loss: 0.0413 - mean_absolute_error: 0.1391 - val_loss: 0.0409 - val_mean_absolute_error: 0.1426\n",
      "Epoch 16/50\n",
      "286881/286881 [==============================] - 27s 95us/step - loss: 0.0410 - mean_absolute_error: 0.1440 - val_loss: 0.0408 - val_mean_absolute_error: 0.1447\n",
      "Epoch 17/50\n",
      "286881/286881 [==============================] - 27s 94us/step - loss: 0.0409 - mean_absolute_error: 0.1444 - val_loss: 0.0408 - val_mean_absolute_error: 0.1484\n",
      "Epoch 18/50\n",
      "286881/286881 [==============================] - 26s 90us/step - loss: 0.0411 - mean_absolute_error: 0.1527 - val_loss: 0.0409 - val_mean_absolute_error: 0.1520\n",
      "Epoch 19/50\n",
      "286881/286881 [==============================] - 26s 91us/step - loss: 0.0409 - mean_absolute_error: 0.1481 - val_loss: 0.0409 - val_mean_absolute_error: 0.1428\n",
      "Epoch 20/50\n",
      "286881/286881 [==============================] - 25s 88us/step - loss: 0.0411 - mean_absolute_error: 0.1414 - val_loss: 0.0410 - val_mean_absolute_error: 0.1409\n",
      "Epoch 21/50\n",
      "286881/286881 [==============================] - 25s 86us/step - loss: 0.0410 - mean_absolute_error: 0.1418 - val_loss: 0.0409 - val_mean_absolute_error: 0.1429\n",
      "Epoch 22/50\n",
      "286881/286881 [==============================] - 25s 87us/step - loss: 0.0410 - mean_absolute_error: 0.1435 - val_loss: 0.0409 - val_mean_absolute_error: 0.1437\n",
      "Epoch 23/50\n",
      "286881/286881 [==============================] - 24s 85us/step - loss: 0.0409 - mean_absolute_error: 0.1436 - val_loss: 0.0409 - val_mean_absolute_error: 0.1432\n",
      "Epoch 24/50\n",
      "286881/286881 [==============================] - 24s 83us/step - loss: 0.0410 - mean_absolute_error: 0.1431 - val_loss: 0.0409 - val_mean_absolute_error: 0.1512\n",
      "Epoch 25/50\n",
      "286881/286881 [==============================] - 24s 82us/step - loss: 0.0417 - mean_absolute_error: 0.1591 - val_loss: 0.0415 - val_mean_absolute_error: 0.1587\n",
      "Epoch 26/50\n",
      "286881/286881 [==============================] - 23s 81us/step - loss: 0.0411 - mean_absolute_error: 0.1519 - val_loss: 0.0409 - val_mean_absolute_error: 0.1428\n",
      "Epoch 27/50\n",
      "286881/286881 [==============================] - 23s 82us/step - loss: 0.0412 - mean_absolute_error: 0.1403 - val_loss: 0.0411 - val_mean_absolute_error: 0.1393\n",
      "Epoch 28/50\n",
      "286881/286881 [==============================] - 23s 79us/step - loss: 0.0411 - mean_absolute_error: 0.1408 - val_loss: 0.0408 - val_mean_absolute_error: 0.1461\n",
      "Epoch 29/50\n",
      "286881/286881 [==============================] - 23s 81us/step - loss: 0.0409 - mean_absolute_error: 0.1500 - val_loss: 0.0408 - val_mean_absolute_error: 0.1502\n",
      "Epoch 30/50\n",
      "286881/286881 [==============================] - 22s 78us/step - loss: 0.0409 - mean_absolute_error: 0.1473 - val_loss: 0.0409 - val_mean_absolute_error: 0.1432\n",
      "Epoch 31/50\n",
      "286881/286881 [==============================] - 22s 77us/step - loss: 0.0410 - mean_absolute_error: 0.1420 - val_loss: 0.0410 - val_mean_absolute_error: 0.1414\n",
      "Epoch 32/50\n",
      "286881/286881 [==============================] - 22s 78us/step - loss: 0.0410 - mean_absolute_error: 0.1420 - val_loss: 0.0409 - val_mean_absolute_error: 0.1429\n",
      "Epoch 33/50\n",
      "286881/286881 [==============================] - 22s 77us/step - loss: 0.0410 - mean_absolute_error: 0.1434 - val_loss: 0.0409 - val_mean_absolute_error: 0.1436\n",
      "Epoch 34/50\n",
      "286881/286881 [==============================] - 22s 75us/step - loss: 0.0409 - mean_absolute_error: 0.1435 - val_loss: 0.0409 - val_mean_absolute_error: 0.1432\n",
      "Epoch 35/50\n",
      "286881/286881 [==============================] - 22s 77us/step - loss: 0.0410 - mean_absolute_error: 0.1431 - val_loss: 0.0409 - val_mean_absolute_error: 0.1430\n",
      "Epoch 36/50\n",
      "286881/286881 [==============================] - 23s 79us/step - loss: 0.0410 - mean_absolute_error: 0.1432 - val_loss: 0.0409 - val_mean_absolute_error: 0.1432\n",
      "Epoch 37/50\n",
      "286881/286881 [==============================] - 28s 97us/step - loss: 0.0410 - mean_absolute_error: 0.1431 - val_loss: 0.0409 - val_mean_absolute_error: 0.1431\n",
      "Epoch 38/50\n",
      "286881/286881 [==============================] - 39s 137us/step - loss: 0.0410 - mean_absolute_error: 0.1432 - val_loss: 0.0413 - val_mean_absolute_error: 0.1572\n",
      "Epoch 39/50\n",
      "286881/286881 [==============================] - 27s 94us/step - loss: 0.0439 - mean_absolute_error: 0.1705 - val_loss: 0.0434 - val_mean_absolute_error: 0.1696\n",
      "Epoch 40/50\n",
      "286881/286881 [==============================] - 22s 78us/step - loss: 0.0417 - mean_absolute_error: 0.1579 - val_loss: 0.0409 - val_mean_absolute_error: 0.1425\n",
      "Epoch 41/50\n",
      "286881/286881 [==============================] - 25s 86us/step - loss: 0.0414 - mean_absolute_error: 0.1382 - val_loss: 0.0414 - val_mean_absolute_error: 0.1367\n",
      "Epoch 42/50\n",
      "286881/286881 [==============================] - 30s 105us/step - loss: 0.0413 - mean_absolute_error: 0.1391 - val_loss: 0.0409 - val_mean_absolute_error: 0.1426\n",
      "Epoch 43/50\n",
      "286881/286881 [==============================] - 23s 82us/step - loss: 0.0409 - mean_absolute_error: 0.1441 - val_loss: 0.0408 - val_mean_absolute_error: 0.1447\n",
      "Epoch 44/50\n",
      "286881/286881 [==============================] - 23s 81us/step - loss: 0.0409 - mean_absolute_error: 0.1442 - val_loss: 0.0409 - val_mean_absolute_error: 0.1433\n",
      "Epoch 45/50\n",
      "286881/286881 [==============================] - 26s 91us/step - loss: 0.0410 - mean_absolute_error: 0.1431 - val_loss: 0.0409 - val_mean_absolute_error: 0.1428\n",
      "Epoch 46/50\n",
      "286881/286881 [==============================] - 23s 80us/step - loss: 0.0410 - mean_absolute_error: 0.1429 - val_loss: 0.0409 - val_mean_absolute_error: 0.1430\n",
      "Epoch 47/50\n",
      "286881/286881 [==============================] - 24s 82us/step - loss: 0.0410 - mean_absolute_error: 0.1431 - val_loss: 0.0409 - val_mean_absolute_error: 0.1432\n"
     ]
    },
    {
     "name": "stdout",
     "output_type": "stream",
     "text": [
      "Epoch 48/50\n",
      "286881/286881 [==============================] - 25s 88us/step - loss: 0.0410 - mean_absolute_error: 0.1432 - val_loss: 0.0409 - val_mean_absolute_error: 0.1432\n",
      "Epoch 49/50\n",
      "286881/286881 [==============================] - 21s 75us/step - loss: 0.0410 - mean_absolute_error: 0.1432 - val_loss: 0.0409 - val_mean_absolute_error: 0.1431\n",
      "Epoch 50/50\n",
      "286881/286881 [==============================] - 25s 87us/step - loss: 0.0410 - mean_absolute_error: 0.1432 - val_loss: 0.0408 - val_mean_absolute_error: 0.1508\n"
     ]
    }
   ],
   "source": [
    "import keras\n",
    "import numpy as np\n",
    "\n",
    "if False :\n",
    "    model.compile(loss='mean_squared_error', optimizer='sgd', metrics=['mae'])\n",
    "else :\n",
    "    sgd = keras.optimizers.SGD(lr=0.01, decay=1e-6, momentum=0.9, nesterov=True)\n",
    "    model.compile(loss='mean_squared_error', optimizer=sgd, metrics=['mae'])\n",
    "\n",
    "batch_size = X_train_bow.shape[0]//10\n",
    "\n",
    "\n",
    "X_train_reshape = X_train_bow.reshape(-1, max_length,1)\n",
    "X_test_reshape = X_test_bow.reshape(-1, max_length,1)\n",
    "print(X_train_reshape.shape)\n",
    "print(np.array(y_train_bow).shape)\n",
    "\n",
    "history = model.fit(X_train_bow, y_train_bow,\n",
    "                    batch_size=batch_size, epochs=50, verbose=1, \n",
    "                    validation_data=(X_test_bow,y_test_bow))"
   ]
  },
  {
   "cell_type": "code",
   "execution_count": 43,
   "metadata": {},
   "outputs": [],
   "source": [
    "history_save= history.history.copy()\n",
    "\n",
    "index_max = 0\n",
    "\n",
    "del(history.history['loss'][index_max])\n",
    "del(history.history['val_loss'][index_max])\n",
    "\n",
    "del(history.history['mean_absolute_error'][index_max])\n",
    "del(history.history['val_mean_absolute_error'][index_max])"
   ]
  },
  {
   "cell_type": "code",
   "execution_count": 44,
   "metadata": {},
   "outputs": [
    {
     "data": {
      "image/png": "[encoded data removed]",
      "text/plain": [
       "<Figure size 576x432 with 1 Axes>"
      ]
     },
     "metadata": {
      "needs_background": "light"
     },
     "output_type": "display_data"
    },
    {
     "data": {
      "image/png": "[encoded data removed]",
      "text/plain": [
       "<Figure size 576x432 with 1 Axes>"
      ]
     },
     "metadata": {
      "needs_background": "light"
     },
     "output_type": "display_data"
    }
   ],
   "source": [
    "import p7_util\n",
    "\n",
    "list_model_acc_value = p7_util.p7_plot_cnn_history(model, None, None, history=history)"
   ]
  },
  {
   "cell_type": "code",
   "execution_count": 30,
   "metadata": {},
   "outputs": [
    {
     "name": "stderr",
     "output_type": "stream",
     "text": [
      "/home/bangui/anaconda3/lib/python3.6/site-packages/keras/engine/sequential.py:247: UserWarning: Network returning invalid probability values. The last layer might not normalize predictions into probabilities (like softmax or sigmoid would).\n",
      "  warnings.warn('Network returning invalid probability values. '\n"
     ]
    }
   ],
   "source": [
    "y_pred = model.predict_proba(X_test_bow, batch_size=batch_size, verbose=0)"
   ]
  },
  {
   "cell_type": "code",
   "execution_count": 37,
   "metadata": {},
   "outputs": [
    {
     "data": {
      "text/plain": [
       "(0.5894008, 1.0)"
      ]
     },
     "execution_count": 37,
     "metadata": {},
     "output_type": "execute_result"
    }
   ],
   "source": [
    "y_pred.max(), np.array(y_test_bow).max()"
   ]
  },
  {
   "cell_type": "code",
   "execution_count": 33,
   "metadata": {},
   "outputs": [
    {
     "data": {
      "text/plain": [
       "[0.16666666666666666, 0.6, 0.0, 0.0, 0.0, 0.0, 0.0, 0.4, 0.2, 0.0]"
      ]
     },
     "execution_count": 33,
     "metadata": {},
     "output_type": "execute_result"
    }
   ],
   "source": [
    "y_test_bow[:10]"
   ]
  },
  {
   "cell_type": "code",
   "execution_count": null,
   "metadata": {},
   "outputs": [],
   "source": []
  }
 ],
 "metadata": {
  "kernelspec": {
   "display_name": "Python 3",
   "language": "python",
   "name": "python3"
  },
  "language_info": {
   "codemirror_mode": {
    "name": "ipython",
    "version": 3
   },
   "file_extension": ".py",
   "mimetype": "text/x-python",
   "name": "python",
   "nbconvert_exporter": "python",
   "pygments_lexer": "ipython3",
   "version": "3.6.8"
  }
 },
 "nbformat": 4,
 "nbformat_minor": 2
}
