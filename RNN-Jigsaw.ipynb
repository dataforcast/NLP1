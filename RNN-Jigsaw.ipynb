{
 "cells": [
  {
   "cell_type": "markdown",
   "metadata": {},
   "source": [
    "In this notebook, RNN estimator is used as a reference model.\n",
    "This choice is leaded by the fact that :\n",
    "\n",
    "<pre>\n",
    "<li>NN model are non-linear models, then it is supposed to capture non-linear relations in between features </li>\n",
    "<li>RNN model provides results more efficiently considering time criteria.</li>\n",
    "</pre>\n",
    "\n",
    "Multiple dataset are used in order to benchmark assumptions forged about model.  \n",
    "\n",
    "GRU NN uses few parameters. \n",
    "\n",
    "    Then IBFGS may be used rather then SGD for descent algorithm."
   ]
  },
  {
   "cell_type": "code",
   "execution_count": 1,
   "metadata": {},
   "outputs": [],
   "source": [
    "%load_ext autoreload\n",
    "%autoreload 2"
   ]
  },
  {
   "cell_type": "code",
   "execution_count": 2,
   "metadata": {},
   "outputs": [
    {
     "name": "stderr",
     "output_type": "stream",
     "text": [
      "WARNING: Logging before flag parsing goes to stderr.\n",
      "W0817 23:46:17.096063 140212248663872 lazy_loader.py:50] \n",
      "The TensorFlow contrib module will not be included in TensorFlow 2.0.\n",
      "For more information, please see:\n",
      "  * https://github.com/tensorflow/community/blob/master/rfcs/20180907-contrib-sunset.md\n",
      "  * https://github.com/tensorflow/addons\n",
      "  * https://github.com/tensorflow/io (for I/O related ops)\n",
      "If you depend on functionality not listed there, please file an issue.\n",
      "\n",
      "W0817 23:46:17.097084 140212248663872 deprecation_wrapper.py:119] From /home/bangui/anaconda3/envs/python36/lib/python3.6/site-packages/adanet/tf_compat/__init__.py:96: The name tf.losses.Reduction is deprecated. Please use tf.compat.v1.losses.Reduction instead.\n",
      "\n",
      "Using TensorFlow backend.\n",
      "W0817 23:46:17.309130 140212248663872 deprecation_wrapper.py:119] From /home/bangui/Dropbox/Perso/Formation/openclassrooms/OC_Datascientist/Kaggle/p8_util_config.py:137: The name tf.train.AdamOptimizer is deprecated. Please use tf.compat.v1.train.AdamOptimizer instead.\n",
      "\n"
     ]
    }
   ],
   "source": [
    "import numpy as np\n",
    "import time\n",
    "\n",
    "import tensorflow as tf\n",
    "import pandas as pd\n",
    "import gensim\n",
    "\n",
    "import warnings\n",
    "warnings.filterwarnings('ignore')\n",
    "%matplotlib inline\n",
    "\n",
    "\n",
    "import p8_util\n",
    "import p8_util_config\n",
    "import p9_util\n",
    "\n",
    "import p5_util\n",
    "\n",
    "extension='_part'\n",
    "\n"
   ]
  },
  {
   "cell_type": "code",
   "execution_count": null,
   "metadata": {},
   "outputs": [],
   "source": [
    "import numpy as np\n",
    "\n",
    "def reg_2_label_row(y,coeff) :\n",
    "    y_label = np.round(y*coeff, 0)\n",
    "    y_label = y_label.astype(int)\n",
    "    return y_label\n",
    "\n",
    "def multivalue2_binary(y, threshold, direction) :\n",
    "    if direction == -1 :\n",
    "        y_bin = np.where(y<threshold,1,0)\n",
    "    elif direction == 0:\n",
    "        y_bin = np.where(y==threshold,1,0)\n",
    "    else :\n",
    "         y_bin = np.where(y>threshold,1,0)\n",
    "    return y_bin\n"
   ]
  },
  {
   "cell_type": "code",
   "execution_count": null,
   "metadata": {},
   "outputs": [],
   "source": [
    "OUTPUT_DIR = './tmp/baseline'\n",
    "OUTPUT_DIR_TB = './tmp'\n",
    "is_tensorboard = False"
   ]
  },
  {
   "cell_type": "markdown",
   "metadata": {},
   "source": [
    "#### Tensorboard processes are killed"
   ]
  },
  {
   "cell_type": "code",
   "execution_count": null,
   "metadata": {},
   "outputs": [],
   "source": [
    "# this will kill the processes for Tensorboard\n",
    "#is_tensorboard = True\n",
    "if is_tensorboard is True :\n",
    "    !ps aux | grep tensorboard | awk '{print $2}' | xargs kill\n",
    "# this will kill the processes for ngrok\n",
    "if is_tensorboard is True :\n",
    "    !ps aux | grep ngrok | awk '{print $2}' | xargs kill    "
   ]
  },
  {
   "cell_type": "markdown",
   "metadata": {},
   "source": [
    "# <font color=blus>1. Loading dataset</font>"
   ]
  },
  {
   "cell_type": "markdown",
   "metadata": {},
   "source": [
    "## <font color=blus>1.1. Loading BOW</font>"
   ]
  },
  {
   "cell_type": "code",
   "execution_count": null,
   "metadata": {},
   "outputs": [],
   "source": [
    "import p9_util\n",
    "X_train, X_test, y_train, y_test, keras_tokenizer = \\\n",
    "p9_util.load_or_dump_tokenized_corpus(dump=False, content_type='bow', extension='_part')"
   ]
  },
  {
   "cell_type": "markdown",
   "metadata": {},
   "source": [
    "    Display an item from tokenized corpus"
   ]
  },
  {
   "cell_type": "code",
   "execution_count": null,
   "metadata": {},
   "outputs": [],
   "source": [
    "print(X_train.shape)\n",
    "X_train[0]"
   ]
  },
  {
   "cell_type": "code",
   "execution_count": null,
   "metadata": {},
   "outputs": [],
   "source": [
    "import p9_util\n",
    "X_train, X_test = p9_util.data_scale(X_train, X_test, scaler_name='Standard')"
   ]
  },
  {
   "cell_type": "code",
   "execution_count": null,
   "metadata": {},
   "outputs": [],
   "source": [
    "max_length = len(X_train[0])\n",
    "batch_size = X_train.shape[0]//10\n",
    "\n",
    "# This is the size of vector words.\n",
    "embedding_dim = 100\n",
    "\n",
    "vocab_size = len(keras_tokenizer.word_index) + 1\n",
    "print(\"\\nInput length= {}\".format(max_length))\n",
    "print(\"Vocabulary size= {}\".format(vocab_size))\n",
    "print(\"Batch size= {}\".format(batch_size))\n",
    "print(\"Embeddings dimension= {}\".format(embedding_dim))\n",
    "print(\"Number of units per RNN cell= {}\".format(cell_units))\n"
   ]
  },
  {
   "cell_type": "markdown",
   "metadata": {},
   "source": [
    "## <font color=blus>1.2. Loading TFIDF</font>"
   ]
  },
  {
   "cell_type": "code",
   "execution_count": 3,
   "metadata": {},
   "outputs": [
    {
     "name": "stdout",
     "output_type": "stream",
     "text": [
      "p5_util.object_load : fileName= ./data/train_generator.dump\n",
      "p5_util.object_load : fileName= ./data/test_generator.dump\n",
      " \n",
      "Train generator batchs= 316 / Total texts= 315978\n",
      "Test generator  batchs= 156 / Total texts= 155594\n",
      "Parameters= {'dim': (1000, 1), 'batch_size': 1000, 'n_classes': 0, 'n_channels': 1, 'shuffle': False}\n"
     ]
    }
   ],
   "source": [
    "import p5_util\n",
    "\n",
    "filname_train = \"./data/train_generator.dump\"\n",
    "filname_test  = \"./data/test_generator.dump\"\n",
    "\n",
    "if False:\n",
    "    p5_util.object_dump(train_generator,filname_train)\n",
    "    p5_util.object_dump(test_generator,filname_test)\n",
    "    \n",
    "else :\n",
    "    train_generator = p5_util.object_load(filname_train)\n",
    "    test_generator = p5_util.object_load(filname_test)\n",
    "\n",
    "params = train_generator.get_params()\n",
    "print(\" \")\n",
    "print(\"Train generator batchs= {} / Total texts= {}\".format(len(train_generator),train_generator.len_data))\n",
    "print(\"Test generator  batchs= {} / Total texts= {}\".format(len(test_generator), test_generator.len_data))\n",
    "print(\"Parameters= {}\".format(params))"
   ]
  },
  {
   "cell_type": "code",
   "execution_count": null,
   "metadata": {},
   "outputs": [],
   "source": [
    "import p5_util\n",
    "filename = './data/keras_tokenizer'+extension+'.dump'\n",
    "keras_tokenizer = p5_util.object_load(filename)\n"
   ]
  },
  {
   "cell_type": "code",
   "execution_count": null,
   "metadata": {},
   "outputs": [],
   "source": [
    "max_length = train_generator.len_data\n",
    "batch_size = train_generator.batch_size\n",
    "# This is the size of vector words.\n",
    "embedding_dim = train_generator.dim[0]\n",
    "\n",
    "vocab_size = len(keras_tokenizer.word_index) + 1\n",
    "print(\"\\nInput length= {}\".format(max_length))\n",
    "print(\"Vocabulary size= {}\".format(vocab_size))\n",
    "print(\"Batch size= {}\".format(batch_size))\n",
    "print(\"Embeddings dimension= {}\".format(embedding_dim))\n",
    "print(\"Number of units per RNN cell= {}\".format(cell_units))\n"
   ]
  },
  {
   "cell_type": "markdown",
   "metadata": {},
   "source": [
    "# <font color=blus>2. Modeling with RNN</font>"
   ]
  },
  {
   "cell_type": "markdown",
   "metadata": {},
   "source": [
    "## <font color=blus>2.1. Modeling a regression with GRU</font>"
   ]
  },
  {
   "cell_type": "code",
   "execution_count": 4,
   "metadata": {},
   "outputs": [
    {
     "data": {
      "text/plain": [
       "({'dim': (1000, 1),\n",
       "  'batch_size': 1000,\n",
       "  'n_classes': 0,\n",
       "  'n_channels': 1,\n",
       "  'shuffle': False},\n",
       " (1000, 1))"
      ]
     },
     "execution_count": 4,
     "metadata": {},
     "output_type": "execute_result"
    }
   ],
   "source": [
    "params,params['dim']"
   ]
  },
  {
   "cell_type": "code",
   "execution_count": 2,
   "metadata": {},
   "outputs": [
    {
     "ename": "NameError",
     "evalue": "name 'params' is not defined",
     "output_type": "error",
     "traceback": [
      "\u001b[0;31m---------------------------------------------------------------------------\u001b[0m",
      "\u001b[0;31mNameError\u001b[0m                                 Traceback (most recent call last)",
      "\u001b[0;32m<ipython-input-2-1eed0f76762f>\u001b[0m in \u001b[0;36m<module>\u001b[0;34m\u001b[0m\n\u001b[1;32m      3\u001b[0m \u001b[0mrnn_layers\u001b[0m \u001b[0;34m=\u001b[0m \u001b[0;36m1\u001b[0m\u001b[0;34m\u001b[0m\u001b[0;34m\u001b[0m\u001b[0m\n\u001b[1;32m      4\u001b[0m \u001b[0mrnnCellType\u001b[0m \u001b[0;34m=\u001b[0m \u001b[0;34m'GRU'\u001b[0m\u001b[0;34m\u001b[0m\u001b[0;34m\u001b[0m\u001b[0m\n\u001b[0;32m----> 5\u001b[0;31m \u001b[0minput_shape\u001b[0m\u001b[0;34m=\u001b[0m\u001b[0mparams\u001b[0m\u001b[0;34m[\u001b[0m\u001b[0;34m'dim'\u001b[0m\u001b[0;34m]\u001b[0m\u001b[0;34m\u001b[0m\u001b[0;34m\u001b[0m\u001b[0m\n\u001b[0m",
      "\u001b[0;31mNameError\u001b[0m: name 'params' is not defined"
     ]
    }
   ],
   "source": [
    "lstm_out = 1\n",
    "cell_units = 4\n",
    "rnn_layers = 1\n",
    "rnnCellType = 'GRU'\n",
    "input_shape=params['dim']"
   ]
  },
  {
   "cell_type": "code",
   "execution_count": 5,
   "metadata": {},
   "outputs": [
    {
     "name": "stderr",
     "output_type": "stream",
     "text": [
      "W0817 23:46:34.209813 140212248663872 deprecation_wrapper.py:119] From /home/bangui/anaconda3/envs/python36/lib/python3.6/site-packages/keras/backend/tensorflow_backend.py:74: The name tf.get_default_graph is deprecated. Please use tf.compat.v1.get_default_graph instead.\n",
      "\n",
      "W0817 23:46:34.212687 140212248663872 deprecation_wrapper.py:119] From /home/bangui/anaconda3/envs/python36/lib/python3.6/site-packages/keras/backend/tensorflow_backend.py:517: The name tf.placeholder is deprecated. Please use tf.compat.v1.placeholder instead.\n",
      "\n",
      "W0817 23:46:34.214657 140212248663872 deprecation_wrapper.py:119] From /home/bangui/anaconda3/envs/python36/lib/python3.6/site-packages/keras/backend/tensorflow_backend.py:4138: The name tf.random_uniform is deprecated. Please use tf.random.uniform instead.\n",
      "\n",
      "W0817 23:46:34.524296 140212248663872 deprecation_wrapper.py:119] From /home/bangui/anaconda3/envs/python36/lib/python3.6/site-packages/keras/optimizers.py:790: The name tf.train.Optimizer is deprecated. Please use tf.compat.v1.train.Optimizer instead.\n",
      "\n"
     ]
    },
    {
     "name": "stdout",
     "output_type": "stream",
     "text": [
      "_________________________________________________________________\n",
      "Layer (type)                 Output Shape              Param #   \n",
      "=================================================================\n",
      "gru_1 (GRU)                  (None, 1000, 4)           72        \n",
      "_________________________________________________________________\n",
      "gru_2 (GRU)                  (None, 4)                 108       \n",
      "_________________________________________________________________\n",
      "dense_1 (Dense)              (None, 1)                 5         \n",
      "=================================================================\n",
      "Total params: 185\n",
      "Trainable params: 185\n",
      "Non-trainable params: 0\n",
      "_________________________________________________________________\n",
      "None\n"
     ]
    }
   ],
   "source": [
    "import p9_util\n",
    "\n",
    "model = p9_util.keras_rnn_build(rnnCellType, \\\n",
    "                                cell_units, \\\n",
    "                                input_shape, \\\n",
    "                                isWordEmbedding=False,\\\n",
    "                                nbClasses=1,\n",
    "                                rnn_layers=1)"
   ]
  },
  {
   "cell_type": "code",
   "execution_count": 9,
   "metadata": {},
   "outputs": [],
   "source": [
    "#dir(train_generator)\n",
    "train_generator.batch_size=10000\n",
    "train_generator.get_params()\n",
    "max_length=train_generator.get_params()['dim'][0]"
   ]
  },
  {
   "cell_type": "code",
   "execution_count": 7,
   "metadata": {},
   "outputs": [
    {
     "name": "stderr",
     "output_type": "stream",
     "text": [
      "W0817 23:46:50.732857 140212248663872 deprecation.py:323] From /home/bangui/anaconda3/envs/python36/lib/python3.6/site-packages/tensorflow/python/ops/math_grad.py:1250: add_dispatch_support.<locals>.wrapper (from tensorflow.python.ops.array_ops) is deprecated and will be removed in a future version.\n",
      "Instructions for updating:\n",
      "Use tf.where in 2.0, which has the same broadcast rule as np.where\n",
      "W0817 23:46:51.416888 140212248663872 deprecation_wrapper.py:119] From /home/bangui/anaconda3/envs/python36/lib/python3.6/site-packages/keras/backend/tensorflow_backend.py:986: The name tf.assign_add is deprecated. Please use tf.compat.v1.assign_add instead.\n",
      "\n",
      "W0817 23:46:51.443997 140212248663872 deprecation_wrapper.py:119] From /home/bangui/anaconda3/envs/python36/lib/python3.6/site-packages/keras/backend/tensorflow_backend.py:973: The name tf.assign is deprecated. Please use tf.compat.v1.assign instead.\n",
      "\n"
     ]
    },
    {
     "name": "stdout",
     "output_type": "stream",
     "text": [
      "Epoch 1/5\n",
      "32/32 [==============================] - 256s 8s/step - loss: 0.0441 - mean_absolute_error: 0.1228 - val_loss: 0.0397 - val_mean_absolute_error: 0.1411\n",
      "Epoch 2/5\n",
      "32/32 [==============================] - 419s 13s/step - loss: 0.0392 - mean_absolute_error: 0.1465 - val_loss: 0.0393 - val_mean_absolute_error: 0.1489\n",
      "Epoch 3/5\n",
      "32/32 [==============================] - 260s 8s/step - loss: 0.0392 - mean_absolute_error: 0.1479 - val_loss: 0.0393 - val_mean_absolute_error: 0.1475\n",
      "Epoch 4/5\n",
      "32/32 [==============================] - 251s 8s/step - loss: 0.0391 - mean_absolute_error: 0.1470 - val_loss: 0.0393 - val_mean_absolute_error: 0.1473\n",
      "Epoch 5/5\n",
      "32/32 [==============================] - 245s 8s/step - loss: 0.0391 - mean_absolute_error: 0.1470 - val_loss: 0.0393 - val_mean_absolute_error: 0.1473\n"
     ]
    }
   ],
   "source": [
    "# Train model on dataset\n",
    "history = model.fit_generator(generator=train_generator,\n",
    "                    validation_data=test_generator,\n",
    "                    use_multiprocessing=False,\n",
    "                    workers=1, verbose=1, epochs=5)"
   ]
  },
  {
   "cell_type": "markdown",
   "metadata": {},
   "source": [
    "#### Reshape arrays for time series\n",
    "\n",
    "    Arrays are shapes as [obervations, features].\n",
    "\n",
    "    They are reshaped in order to feed RNN model with one observation to each step.\n",
    "    \n",
    "    Then reshaped will lead to [observations, 1, features]\n",
    "\n"
   ]
  },
  {
   "cell_type": "code",
   "execution_count": null,
   "metadata": {},
   "outputs": [],
   "source": [
    "import numpy as np\n",
    "\n",
    "X_train_reshape = np.reshape(X_train, (X_train.shape[0], 1, X_train.shape[1]))\n",
    "X_test_reshape = np.reshape(X_test, (X_test.shape[0], 1, X_test.shape[1]))\n",
    "print(X_train_reshape.shape)\n",
    "print(X_test_reshape.shape)"
   ]
  },
  {
   "cell_type": "markdown",
   "metadata": {},
   "source": [
    "    Fixe RNN hyper-parameters"
   ]
  },
  {
   "cell_type": "code",
   "execution_count": null,
   "metadata": {},
   "outputs": [],
   "source": [
    "history = model.fit(X_train_reshape, y_train, batch_size =batch_size, nb_epoch = 30\n",
    "                    ,validation_data=(X_test_reshape,y_test),  verbose = 1)"
   ]
  },
  {
   "cell_type": "code",
   "execution_count": 3,
   "metadata": {},
   "outputs": [
    {
     "name": "stderr",
     "output_type": "stream",
     "text": [
      "WARNING: Logging before flag parsing goes to stderr.\n",
      "W0818 00:14:32.938899 139862775179072 deprecation_wrapper.py:119] From /home/bangui/anaconda3/envs/python36/lib/python3.6/site-packages/keras/backend/tensorflow_backend.py:74: The name tf.get_default_graph is deprecated. Please use tf.compat.v1.get_default_graph instead.\n",
      "\n",
      "W0818 00:14:32.963677 139862775179072 deprecation_wrapper.py:119] From /home/bangui/anaconda3/envs/python36/lib/python3.6/site-packages/keras/backend/tensorflow_backend.py:517: The name tf.placeholder is deprecated. Please use tf.compat.v1.placeholder instead.\n",
      "\n",
      "W0818 00:14:32.965546 139862775179072 deprecation_wrapper.py:119] From /home/bangui/anaconda3/envs/python36/lib/python3.6/site-packages/keras/backend/tensorflow_backend.py:4138: The name tf.random_uniform is deprecated. Please use tf.random.uniform instead.\n",
      "\n",
      "W0818 00:14:33.283329 139862775179072 deprecation_wrapper.py:119] From /home/bangui/anaconda3/envs/python36/lib/python3.6/site-packages/keras/backend/tensorflow_backend.py:174: The name tf.get_default_session is deprecated. Please use tf.compat.v1.get_default_session instead.\n",
      "\n",
      "W0818 00:14:33.284144 139862775179072 deprecation_wrapper.py:119] From /home/bangui/anaconda3/envs/python36/lib/python3.6/site-packages/keras/backend/tensorflow_backend.py:181: The name tf.ConfigProto is deprecated. Please use tf.compat.v1.ConfigProto instead.\n",
      "\n",
      "W0818 00:14:33.532729 139862775179072 deprecation_wrapper.py:119] From /home/bangui/anaconda3/envs/python36/lib/python3.6/site-packages/keras/optimizers.py:790: The name tf.train.Optimizer is deprecated. Please use tf.compat.v1.train.Optimizer instead.\n",
      "\n",
      "W0818 00:14:33.770446 139862775179072 deprecation.py:323] From /home/bangui/anaconda3/envs/python36/lib/python3.6/site-packages/tensorflow/python/ops/math_grad.py:1250: add_dispatch_support.<locals>.wrapper (from tensorflow.python.ops.array_ops) is deprecated and will be removed in a future version.\n",
      "Instructions for updating:\n",
      "Use tf.where in 2.0, which has the same broadcast rule as np.where\n"
     ]
    },
    {
     "name": "stdout",
     "output_type": "stream",
     "text": [
      "p5_util.object_load : fileName= history_gru_1layers_4units.dump\n",
      "p5_util.object_load : fileName= max_length_gru_1layers_4units.dump\n",
      "\n",
      "Input data length= 1000\n",
      "_________________________________________________________________\n",
      "Layer (type)                 Output Shape              Param #   \n",
      "=================================================================\n",
      "gru_1 (GRU)                  (None, 1000, 4)           72        \n",
      "_________________________________________________________________\n",
      "gru_2 (GRU)                  (None, 4)                 108       \n",
      "_________________________________________________________________\n",
      "dense_1 (Dense)              (None, 1)                 5         \n",
      "=================================================================\n",
      "Total params: 185\n",
      "Trainable params: 185\n",
      "Non-trainable params: 0\n",
      "_________________________________________________________________\n"
     ]
    }
   ],
   "source": [
    "import keras\n",
    "import p5_util\n",
    "core_name = \"gru_\"+str(rnn_layers)+\"layers_\"+str(cell_units)+'units'\n",
    "\n",
    "if False:\n",
    "    model.save(\"./data/model_\"+core_name+\".h5\")\n",
    "    p5_util.object_dump(history, \"history_\"+core_name+\".dump\")\n",
    "    p5_util.object_dump(max_length, \"max_length_\"+core_name+\".dump\")\n",
    "    \n",
    "else :\n",
    "    model = keras.models.load_model(\"./data/model_\"+core_name+\".h5\")\n",
    "    history = p5_util.object_load(\"history_\"+core_name+\".dump\")\n",
    "    max_length = p5_util.object_load(\"max_length_\"+core_name+\".dump\")\n",
    "\n",
    "print(\"\\nInput data length= {}\".format(max_length))\n",
    "model.summary()"
   ]
  },
  {
   "cell_type": "markdown",
   "metadata": {},
   "source": [
    "#### <font color=blus>Computation of classifications performances</font>"
   ]
  },
  {
   "cell_type": "code",
   "execution_count": 5,
   "metadata": {},
   "outputs": [
    {
     "data": {
      "image/png": "[encoded data removed]",
      "text/plain": [
       "<Figure size 576x432 with 1 Axes>"
      ]
     },
     "metadata": {
      "needs_background": "light"
     },
     "output_type": "display_data"
    },
    {
     "data": {
      "image/png": "[encoded data removed]",
      "text/plain": [
       "<Figure size 576x432 with 1 Axes>"
      ]
     },
     "metadata": {
      "needs_background": "light"
     },
     "output_type": "display_data"
    }
   ],
   "source": [
    "import p7_util\n",
    "\n",
    "list_model_acc_value = p7_util.p7_plot_cnn_history(model, None, None, history=history)"
   ]
  },
  {
   "cell_type": "markdown",
   "metadata": {},
   "source": [
    "## <font color=blus>2.1 Switch to classification problem</font>\n",
    "\n",
    "    Targets, that are coninues values from float type, are converted into classes of integers, such leading to a classification model.\n",
    "    \n",
    "    For doing that, y_train_encoded and y_test_encoded are transformed as array of integers, \n",
    "    ranging from 0 to 10, leading to 11 classes."
   ]
  },
  {
   "cell_type": "markdown",
   "metadata": {},
   "source": [
    "### <font color=blus>2.1.1 Binary classification</font>"
   ]
  },
  {
   "cell_type": "markdown",
   "metadata": {},
   "source": [
    "Target is splitted based \n",
    "\n",
    "`y_train_label` and `y_test_label` are arrays with number of columns as number of classes.\n",
    "\n",
    "Classes are one-hot-encoded for each observation."
   ]
  },
  {
   "cell_type": "code",
   "execution_count": null,
   "metadata": {},
   "outputs": [],
   "source": [
    "y_train.min(), y_train.max()\n",
    "np.round(y_train*1.0, 1).astype(int)"
   ]
  },
  {
   "cell_type": "markdown",
   "metadata": {},
   "source": [
    "`y_train` and `y_test` are vectors with float values ranging from `0.0` to `1.0`. \n",
    "\n",
    "`y_train_label` and `y_test_label` are matrix issued from One-hot-encoding were position of 1 value in a column indicates the class value.\n",
    "\n",
    "`decimal_count` is the value allowing to take into account the number of decimals when converting continuous values into classes."
   ]
  },
  {
   "cell_type": "code",
   "execution_count": null,
   "metadata": {},
   "outputs": [],
   "source": [
    "import p9_util\n",
    "decimal_count=1\n",
    "nb_classes, y_train_label = p9_util.y_reg_2_label(y_train, decimal_count=decimal_count)\n",
    "_, y_test_label = p9_util.y_reg_2_label(y_test, decimal_count=decimal_count)\n",
    "\n",
    "print(\"\\nNumber of classes= {}\".format(nb_classes))"
   ]
  },
  {
   "cell_type": "markdown",
   "metadata": {},
   "source": [
    "`y_train_label_vect` and `y_test_label_vect` are vectors issues from `[N x Classes]` matrix, where `N` is the \n",
    "number of samples and `Classes` the number of classes.\n",
    "\n",
    "After this target conversion, unique column values are classes number, ranged from `0` to `10`."
   ]
  },
  {
   "cell_type": "code",
   "execution_count": null,
   "metadata": {},
   "outputs": [],
   "source": [
    "import p9_util\n",
    "\n",
    "y_train_label_vect = np.array([p9_util.get_label_from_row(y_train_label[row]) for row in range(0,len(y_train_label))])\n",
    "y_test_label_vect  = np.array([p9_util.get_label_from_row(y_test_label[row])  for row in range(0,len(y_test_label))])"
   ]
  },
  {
   "cell_type": "markdown",
   "metadata": {},
   "source": [
    "`Counter` class from `collection` package is used in order to compute occurencies fo each class in the data-model."
   ]
  },
  {
   "cell_type": "code",
   "execution_count": null,
   "metadata": {},
   "outputs": [],
   "source": [
    "from collections import Counter\n",
    "\n",
    "counter_y_train_label_vect = Counter(y_train_label_vect)\n",
    "counter_y_test_label_vect  = Counter(y_test_label_vect)\n",
    "\n",
    "print(counter_y_train_label_vect, counter_y_train_label_vect[0]+counter_y_train_label_vect[1])\n",
    "print(counter_y_test_label_vect, counter_y_test_label_vect[0]+counter_y_test_label_vect[1])"
   ]
  },
  {
   "cell_type": "markdown",
   "metadata": {},
   "source": [
    "    Diagram below shows classes distribution for train (blue) and test (orange) dataset.\n",
    "\n",
    "    Both diagrams shows same shape."
   ]
  },
  {
   "cell_type": "code",
   "execution_count": null,
   "metadata": {},
   "outputs": [],
   "source": [
    "fig = plt.figure(figsize=(5,5))\n",
    "_=sns.kdeplot(y_train_label_vect, shade=True)\n",
    "_=sns.kdeplot(y_test_label_vect, shade=True)\n",
    "fig.legend(labels=['Train classes distribution','Test classes distribution'])\n",
    "plt.show()"
   ]
  },
  {
   "cell_type": "code",
   "execution_count": null,
   "metadata": {},
   "outputs": [],
   "source": [
    "threshold = 0\n",
    "direction = 1\n",
    "y_train_label_bin = multivalue2_binary(y_train_label_vect, threshold, direction)\n",
    "y_test_label_bin = multivalue2_binary(y_test_label_vect, threshold, direction)"
   ]
  },
  {
   "cell_type": "code",
   "execution_count": null,
   "metadata": {},
   "outputs": [],
   "source": [
    "from collections import Counter\n",
    "counter_y_train_label_bin = Counter(y_train_label_bin)\n",
    "counter_y_test_label_bin  = Counter(y_test_label_bin)\n",
    "\n",
    "print(counter_y_train_label_bin, counter_y_train_label_bin[0]+counter_y_train_label_bin[1])\n",
    "print(counter_y_test_label_bin, counter_y_test_label_bin[0]+counter_y_test_label_bin[1])"
   ]
  },
  {
   "cell_type": "markdown",
   "metadata": {},
   "source": [
    "    Split target vector to balance train and test categories."
   ]
  },
  {
   "cell_type": "code",
   "execution_count": null,
   "metadata": {},
   "outputs": [],
   "source": [
    "split_number = len(y_test_label_bin)\n",
    "split_number\n",
    "X_train_split = X_train[:split_number]\n",
    "y_train_label_bin_split = y_train_label_bin[:split_number]\n",
    "X_train_split.shape, X_test.shape"
   ]
  },
  {
   "cell_type": "code",
   "execution_count": null,
   "metadata": {},
   "outputs": [],
   "source": [
    "fig = plt.figure(figsize=(5,5))\n",
    "_=sns.kdeplot(y_train_label_bin_split, shade=True)\n",
    "_=sns.kdeplot(y_test_label_bin, shade=True)\n",
    "fig.legend(labels=['Train classes distribution','Test classes distribution'])\n",
    "plt.show()"
   ]
  },
  {
   "cell_type": "markdown",
   "metadata": {},
   "source": [
    "#### <font color='blus'>Appying RNN model to binary classification</font>"
   ]
  },
  {
   "cell_type": "markdown",
   "metadata": {},
   "source": [
    "    Dataset are reshaped inorder to feed Keras RNN."
   ]
  },
  {
   "cell_type": "code",
   "execution_count": null,
   "metadata": {},
   "outputs": [],
   "source": [
    "import p9_util\n",
    "\n",
    "X_train_reshape = p9_util.keras_rnn_reshape(X_train_split)\n",
    "X_test_reshape = p9_util.keras_rnn_reshape(X_test)"
   ]
  },
  {
   "cell_type": "markdown",
   "metadata": {},
   "source": [
    "For feeding RNN network, `y_train_label_bin_split` and `y_test_label_bin` are converted into matrix where \n",
    "number of columns is the number of classes."
   ]
  },
  {
   "cell_type": "code",
   "execution_count": null,
   "metadata": {},
   "outputs": [],
   "source": [
    "nb_classes, y_train_label_bin_split = p9_util.y_reg_2_label(y_train_label_bin_split, decimal_count=0)\n",
    "_, y_test_label_bin = p9_util.y_reg_2_label(y_test_label_bin, decimal_count=0)\n",
    "print(y_train_label_bin_split.shape)\n",
    "print(y_test_label_bin.shape)\n"
   ]
  },
  {
   "cell_type": "markdown",
   "metadata": {},
   "source": [
    "#### <font color=blus>Building GRU model with 1 layer </font>"
   ]
  },
  {
   "cell_type": "code",
   "execution_count": null,
   "metadata": {},
   "outputs": [],
   "source": [
    "lstm_out = 1\n",
    "cell_units = 16*2\n",
    "rnn_layers = 1\n",
    "batch_size = X_train_split.shape[0]//10\n",
    "\n",
    "import p9_util\n",
    "\n",
    "rnnCellType = 'GRU'\n",
    "\n",
    "model = p9_util.keras_rnn_build(rnnCellType, cell_units, max_length, isWordEmbedding=False\\\n",
    "                   , nbClasses=nb_classes, rnn_layers=rnn_layers)"
   ]
  },
  {
   "cell_type": "code",
   "execution_count": null,
   "metadata": {},
   "outputs": [],
   "source": [
    "history = model.fit(X_train_reshape, y_train_label_bin_split, batch_size =batch_size, nb_epoch = 10\n",
    "                    ,validation_data=(X_test_reshape,y_test_label_bin),  verbose = 1)"
   ]
  },
  {
   "cell_type": "markdown",
   "metadata": {},
   "source": [
    "#### <font color=blus>Computation of classifications performances</font>"
   ]
  },
  {
   "cell_type": "code",
   "execution_count": null,
   "metadata": {},
   "outputs": [],
   "source": [
    "import p7_util\n",
    "\n",
    "list_model_acc_value = p7_util.p7_plot_cnn_history(model, None, None, history=history, legend='Binary classification')"
   ]
  },
  {
   "cell_type": "code",
   "execution_count": null,
   "metadata": {},
   "outputs": [],
   "source": [
    "import p9_util\n",
    "y_= p9_util.display_class_performance(model, X_test_reshape, y_test_label_bin, is_binary=True, y_pred=None)"
   ]
  },
  {
   "cell_type": "markdown",
   "metadata": {},
   "source": [
    "#### <font color=blus>Building GRU model with 2 layers </font>"
   ]
  },
  {
   "cell_type": "code",
   "execution_count": null,
   "metadata": {},
   "outputs": [],
   "source": [
    "lstm_out = 1\n",
    "cell_units = 16*2\n",
    "rnn_layers = 2\n",
    "batch_size = X_train_split.shape[0]//10\n",
    "\n",
    "import p9_util\n",
    "\n",
    "rnnCellType = 'GRU'\n",
    "\n",
    "model = p9_util.keras_rnn_build(rnnCellType, cell_units, max_length, isWordEmbedding=False\\\n",
    "                   , nbClasses=nb_classes, rnn_layers=rnn_layers)"
   ]
  },
  {
   "cell_type": "code",
   "execution_count": null,
   "metadata": {},
   "outputs": [],
   "source": [
    "history = model.fit(X_train_reshape, y_train_label_bin_split, batch_size =batch_size, nb_epoch = 10\n",
    "                    ,validation_data=(X_test_reshape,y_test_label_bin),  verbose = 1)"
   ]
  },
  {
   "cell_type": "markdown",
   "metadata": {},
   "source": [
    "#### <font color=blus>Computation of classifications performances</font>"
   ]
  },
  {
   "cell_type": "code",
   "execution_count": null,
   "metadata": {},
   "outputs": [],
   "source": [
    "import p7_util\n",
    "\n",
    "list_model_acc_value = p7_util.p7_plot_cnn_history(model, None, None, history=history, legend='Binary classification')"
   ]
  },
  {
   "cell_type": "code",
   "execution_count": null,
   "metadata": {},
   "outputs": [],
   "source": [
    "import p9_util\n",
    "toxicity_threshold = 0.5\n",
    "y_train_label = np.where(y_train <= toxicity_threshold, 0, 1)\n",
    "y_test_label  = np.where(y_test  <= toxicity_threshold, 0, 1)\n",
    "\n",
    "nb_classes, y_train_label = p9_util.y_reg_2_label(y_train_label)\n",
    "_, y_test_label = p9_util.y_reg_2_label(y_test_label)\n",
    "\n",
    "\n",
    "nb_classes = y_train_label.shape[1]\n",
    "print(\"\\nNumber of classes issued from one hot encoding= {}\".format(nb_classes))"
   ]
  },
  {
   "cell_type": "code",
   "execution_count": null,
   "metadata": {},
   "outputs": [],
   "source": [
    "nb_classes = 2\n",
    "cell_units, max_length,nb_classes"
   ]
  },
  {
   "cell_type": "code",
   "execution_count": null,
   "metadata": {},
   "outputs": [],
   "source": [
    "import p9_util\n",
    "\n",
    "rnnCellType = 'GRU'\n",
    "\n",
    "model = p9_util.keras_rnn_build(rnnCellType, cell_units, max_length, isWordEmbedding=False\\\n",
    "                   , nbClasses=nb_classes)"
   ]
  },
  {
   "cell_type": "code",
   "execution_count": null,
   "metadata": {},
   "outputs": [],
   "source": [
    "history = model.fit(X_train_reshape, y_train_label, batch_size =batch_size, nb_epoch = 60\n",
    "                    ,validation_data=(X_test_reshape,y_test_label),  verbose = 1)"
   ]
  },
  {
   "cell_type": "markdown",
   "metadata": {},
   "source": [
    "#### <font color=blus>Computation of classifications performances</font>"
   ]
  },
  {
   "cell_type": "code",
   "execution_count": null,
   "metadata": {},
   "outputs": [],
   "source": [
    "import p7_util\n",
    "\n",
    "list_model_acc_value = p7_util.p7_plot_cnn_history(model, None, None, history=history, legend='Binary classification')"
   ]
  },
  {
   "cell_type": "markdown",
   "metadata": {},
   "source": [
    "    It can be seen that, even if cost function may continue to decrease, then\n",
    "    accuracy will not improve.\n",
    "    This is due to influence of a great number of observations that are toxicity free, considering \n",
    "    others observations."
   ]
  },
  {
   "cell_type": "markdown",
   "metadata": {},
   "source": [
    "    Toxicity predictions classes are firstly computed from test dataset issued from texts to be tested.\n",
    "    Target test vector, a [Nx11] matrix, is transformed into a vector of N rows.\n",
    "    For achieving this, function \n",
    "`p9_util.get_label_from_row()` \n",
    "\n",
    "    is used for any row from matrix.\n",
    "    This allows to compute confusion matrix then plot it."
   ]
  },
  {
   "cell_type": "code",
   "execution_count": null,
   "metadata": {},
   "outputs": [],
   "source": [
    "import p9_util\n",
    "y_= p9_util.display_class_performance(model, X_test_reshape, y_test_label, is_binary=True, y_pred=y_)"
   ]
  },
  {
   "cell_type": "markdown",
   "metadata": {},
   "source": [
    "#### <font color='blus'> Use of Adagrad optimizer for binary classification</font>"
   ]
  },
  {
   "cell_type": "code",
   "execution_count": null,
   "metadata": {},
   "outputs": [],
   "source": [
    "import p9_util\n",
    "\n",
    "rnnCellType = 'GRU'\n",
    "\n",
    "model = p9_util.keras_rnn_build(rnnCellType, cell_units, max_length, isWordEmbedding=False\\\n",
    "                   , nbClasses=nb_classes, optimizer_name='Adagrad')"
   ]
  },
  {
   "cell_type": "code",
   "execution_count": null,
   "metadata": {
    "scrolled": false
   },
   "outputs": [],
   "source": [
    "history = model.fit(X_train_reshape, y_train_label, batch_size =batch_size, nb_epoch = 60\n",
    "                    ,validation_data=(X_test_reshape,y_test_label),  verbose = 1)"
   ]
  },
  {
   "cell_type": "markdown",
   "metadata": {},
   "source": [
    "#### <font color=blus>Computation of binary classifications performances</font>"
   ]
  },
  {
   "cell_type": "code",
   "execution_count": null,
   "metadata": {},
   "outputs": [],
   "source": [
    "import p7_util\n",
    "\n",
    "list_model_acc_value = p7_util.p7_plot_cnn_history(model, None, None, history=history, legend='Binary classification')"
   ]
  },
  {
   "cell_type": "markdown",
   "metadata": {},
   "source": [
    "    Here under, distributions of computed predictions are calculated."
   ]
  },
  {
   "cell_type": "code",
   "execution_count": null,
   "metadata": {},
   "outputs": [],
   "source": [
    "import p9_util\n",
    "y_= p9_util.display_class_performance(model, X_test_reshape, y_test_label, is_binary=True, y_pred=None)"
   ]
  },
  {
   "cell_type": "markdown",
   "metadata": {},
   "source": [
    "### <font color=blus>2.1.2 Multi-label classification</font>"
   ]
  },
  {
   "cell_type": "markdown",
   "metadata": {},
   "source": [
    "    Classes are created based on range values for toxicity, as following :\n",
    "        * From 0.0 <= toxicity <= 0.1 class is 0\n",
    "        * From 0.1 < toxicity  <= 0.2 class is 1\n",
    "                    ...\n",
    "        * From 0.9 < toxicity  <= 1.0 class is 10\n",
    "    \n",
    "    Leading to 11 classes"
   ]
  },
  {
   "cell_type": "code",
   "execution_count": null,
   "metadata": {},
   "outputs": [],
   "source": [
    "# This is for avoiding to compute prediction again, once already done, in the performance evaluation step function.\n",
    "y_=None"
   ]
  },
  {
   "cell_type": "code",
   "execution_count": null,
   "metadata": {},
   "outputs": [],
   "source": [
    "import p9_util\n",
    "\n",
    "nb_classes, y_train_label = p9_util.y_reg_2_label(y_train)\n",
    "_, y_test_label = p9_util.y_reg_2_label(y_test)\n",
    "print(\"\\nNumber of classes issued from one hot encoding= {}\".format(nb_classes))"
   ]
  },
  {
   "cell_type": "code",
   "execution_count": null,
   "metadata": {},
   "outputs": [],
   "source": [
    "rnnCellType = 'GRU'\n",
    "cell_units = 16*2\n",
    "lstm_out = 1\n",
    "rnn_layers = 2"
   ]
  },
  {
   "cell_type": "code",
   "execution_count": null,
   "metadata": {},
   "outputs": [],
   "source": [
    "import p9_util\n",
    "\n",
    "max_length = len(X_train[0])\n",
    "print(\"\\nInput length= {}\".format(max_length))\n",
    "print(\"Number of units per RNN cell= {}\".format(cell_units))\n",
    "\n",
    "model = p9_util.keras_rnn_build(rnnCellType, cell_units, max_length, isWordEmbedding=False\\\n",
    "                   , nbClasses=nb_classes, optimizer_name='Adagrad')"
   ]
  },
  {
   "cell_type": "code",
   "execution_count": null,
   "metadata": {},
   "outputs": [],
   "source": [
    "batch_size = X_train.shape[0]//10\n",
    "\n",
    "# This is the size of vector words.\n",
    "embedding_dim = 100\n",
    "vocab_size = len(keras_tokenizer.word_index) + 1\n",
    "print(\"Vocabulary size= {}\".format(vocab_size))\n",
    "print(\"Batch size= {}\".format(batch_size))\n",
    "print(\"Embeddings dimension= {}\".format(embedding_dim))\n"
   ]
  },
  {
   "cell_type": "code",
   "execution_count": null,
   "metadata": {},
   "outputs": [],
   "source": [
    "import numpy as np\n",
    "\n",
    "X_train_reshape = np.reshape(X_train, (X_train.shape[0], 1, X_train.shape[1]))\n",
    "X_test_reshape = np.reshape(X_test, (X_test.shape[0], 1, X_test.shape[1]))\n",
    "print(X_train_reshape.shape)\n",
    "print(X_test_reshape.shape)"
   ]
  },
  {
   "cell_type": "code",
   "execution_count": null,
   "metadata": {},
   "outputs": [],
   "source": [
    "history = model.fit(X_train_reshape, y_train_label, batch_size =batch_size, nb_epoch = 30\n",
    "                    ,validation_data=(X_test_reshape,y_test_label),  verbose = 1)"
   ]
  },
  {
   "cell_type": "code",
   "execution_count": null,
   "metadata": {},
   "outputs": [],
   "source": [
    "import keras\n",
    "import p5_util\n",
    "core_name = \"gru_\"+str(rnn_layers)+\"layers_\"+str(cell_units)+'units_class'\n",
    "\n",
    "if False :\n",
    "    model.save(\"./data/model_\"+core_name+\".h5\")\n",
    "    p5_util.object_dump(history, \"history_\"+core_name+\".dump\")\n",
    "    p5_util.object_dump(max_length, \"max_length_\"+core_name+\".dump\")\n",
    "    \n",
    "else :\n",
    "    model = keras.models.load_model(\"./data/model_\"+core_name+\".h5\")\n",
    "    history = p5_util.object_load(\"history_\"+core_name+\".dump\")\n",
    "    max_length = p5_util.object_load(\"max_length_\"+core_name+\".dump\")\n",
    "\n",
    "print(\"\\nInput data length= {}\".format(max_length))\n",
    "model.summary()"
   ]
  },
  {
   "cell_type": "markdown",
   "metadata": {},
   "source": [
    "#### <font color=blus>Computation of classifications performances</font>"
   ]
  },
  {
   "cell_type": "code",
   "execution_count": null,
   "metadata": {},
   "outputs": [],
   "source": [
    "import p7_util\n",
    "\n",
    "list_model_acc_value = p7_util.p7_plot_cnn_history(model, None, None, history=history, legend='Multi-label classification')"
   ]
  },
  {
   "cell_type": "markdown",
   "metadata": {},
   "source": [
    "    Those curves shows impact from Adagrad compared to SGD.\n",
    "    \n",
    "    Adagrad penalize features that are frequently updated and encourage features not frequently updated to \n",
    "    learn more, mean, to be updated more frequently.\n",
    "    \n",
    "    By learning more, it is expected that sparse features to contribute more to cost function decrease.\n",
    "    \n",
    "    This is what curves inference. Decrease of loss function is not driven by free toxicity text only!\n",
    "    \n",
    "    For avoiding overfitting, it would be relevant to apply dropout over cells.\n",
    "    \n",
    "    Considering training performance model, overfitting reduction is not yet is the agenda."
   ]
  },
  {
   "cell_type": "markdown",
   "metadata": {},
   "source": [
    "    Targets vector, [Nx11] matrix, is transformed into a vector of N rows.\n",
    "    For achieving this, function \n",
    "`p9_util.get_label_from_row` \n",
    "    \n",
    "    is used for any row from matrix.\n",
    "    This allows to compute confusion matrix then plot it."
   ]
  },
  {
   "cell_type": "code",
   "execution_count": null,
   "metadata": {},
   "outputs": [],
   "source": [
    "import p9_util\n",
    "y_= p9_util.display_class_performance(model, X_test_reshape, y_test_label, is_binary=False, y_pred=y_)"
   ]
  },
  {
   "cell_type": "markdown",
   "metadata": {},
   "source": [
    "### <font color=blus>2.1.3. Overfiting study : LinearSVC</font>"
   ]
  },
  {
   "cell_type": "markdown",
   "metadata": {},
   "source": [
    "    Turn float values from target vectors into classes"
   ]
  },
  {
   "cell_type": "code",
   "execution_count": null,
   "metadata": {},
   "outputs": [],
   "source": [
    "import p9_util\n",
    "\n",
    "nb_classes, y_train_label = p9_util.y_reg_2_label(y_train)\n",
    "_, y_test_label = p9_util.y_reg_2_label(y_test)\n",
    "print(\"\\nNumber of classes issued from one hot encoding= {}\".format(nb_classes))"
   ]
  },
  {
   "cell_type": "markdown",
   "metadata": {},
   "source": [
    "    Turn target values shaped as a matrix [N,11] into vector of dimension N.\n",
    "    11 above is the number of classes."
   ]
  },
  {
   "cell_type": "code",
   "execution_count": null,
   "metadata": {},
   "outputs": [],
   "source": [
    "import p9_util\n",
    "\n",
    "#--------------------------------------------------------------\n",
    "# Use of function get_label_from_row\n",
    "#--------------------------------------------------------------\n",
    "y_train_label_row = [p9_util.get_label_from_row(y_train_label[row], indicator=1) for row in range(0,len(y_train_label))]\n",
    "y_test_label_row  = [p9_util.get_label_from_row(y_test_label[row], indicator=1) for row in range(0,len(y_test_label))]\n",
    "\n",
    "y_train_label_row = np.array(y_train_label_row)\n",
    "y_test_label_row = np.array(y_test_label_row)"
   ]
  },
  {
   "cell_type": "code",
   "execution_count": null,
   "metadata": {},
   "outputs": [],
   "source": [
    "import seaborn as sns\n",
    "import matplotlib.pyplot as plt\n",
    "\n",
    "#-----------------------------------------------------------------\n",
    "# Display prediction classes ditribution\n",
    "#-----------------------------------------------------------------\n",
    "fig = plt.figure(figsize=(5,5))\n",
    "_=sns.kdeplot(y_train_label_row, shade=True)\n",
    "_=sns.kdeplot(y_test_label_row, shade=True)\n",
    "fig.legend(labels=['Train classes distribution','Test classes distribution'])\n",
    "plt.show()"
   ]
  },
  {
   "cell_type": "markdown",
   "metadata": {},
   "source": [
    "    Train and test distributions have same shape"
   ]
  },
  {
   "cell_type": "code",
   "execution_count": null,
   "metadata": {},
   "outputs": [],
   "source": [
    "from sklearn import svm\n",
    "model = svm.LinearSVC()\n",
    "X_train.shape"
   ]
  },
  {
   "cell_type": "code",
   "execution_count": null,
   "metadata": {},
   "outputs": [],
   "source": [
    "model = model.fit(X_train, y_train_label_row)"
   ]
  },
  {
   "cell_type": "code",
   "execution_count": null,
   "metadata": {},
   "outputs": [],
   "source": [
    "import p5_util\n",
    "core_name = \"linearSVC\"\n",
    "\n",
    "if False :\n",
    "    p5_util.object_dump(model, \"./data/model_\"+core_name+\".dump\")    \n",
    "else :\n",
    "    model = p5_util.object_load(\"./data/model_\"+core_name+\".dump\")\n"
   ]
  },
  {
   "cell_type": "markdown",
   "metadata": {},
   "source": [
    "#### <font color=blus>Classifications performances</font>"
   ]
  },
  {
   "cell_type": "code",
   "execution_count": null,
   "metadata": {},
   "outputs": [],
   "source": [
    "from collections import Counter\n",
    "#print('Training target statistics: {}'.format(Counter(y_test_label_row)))\n",
    "#print('Testing target statistics: {}'.format(Counter(y_test_label_row)))\n",
    "#print('Predicted target statistics: {}'.format(Counter(y_pred_label)))\n",
    "\n",
    "counter_y_test_label_row = Counter(y_test_label_row)\n",
    "print((counter_y_test_label_row))\n",
    "#for label, count in counter_y_test_label_row.items():\n",
    "#    print(label, count)\n",
    "\n"
   ]
  },
  {
   "cell_type": "code",
   "execution_count": null,
   "metadata": {},
   "outputs": [],
   "source": [
    "from imblearn.pipeline import make_pipeline"
   ]
  },
  {
   "cell_type": "code",
   "execution_count": null,
   "metadata": {},
   "outputs": [],
   "source": [
    "len(y_test_label_row), len(y_pred_label)\n",
    "y_pred_label"
   ]
  },
  {
   "cell_type": "code",
   "execution_count": null,
   "metadata": {},
   "outputs": [],
   "source": [
    "import seaborn as sns\n",
    "import matplotlib.pyplot as plt\n",
    "\n",
    "#-----------------------------------------------------------------\n",
    "# Display prediction classes ditribution\n",
    "#-----------------------------------------------------------------\n",
    "fig = plt.figure(figsize=(5,5))\n",
    "_=sns.kdeplot(y_pred_label, shade=True)\n",
    "#_=sns.kdeplot(y_test_label_row, shade=True)\n",
    "fig.legend(labels=['Predict classes distribution','Test classes distribution'])\n",
    "plt.show()"
   ]
  },
  {
   "cell_type": "code",
   "execution_count": null,
   "metadata": {},
   "outputs": [],
   "source": []
  },
  {
   "cell_type": "code",
   "execution_count": null,
   "metadata": {},
   "outputs": [],
   "source": [
    "arr_index = np.where(y_pred_label != 0)[0]\n",
    "print(len(arr_index))\n",
    "_=plt.hist(y_pred_label[arr_index])"
   ]
  },
  {
   "cell_type": "code",
   "execution_count": null,
   "metadata": {},
   "outputs": [],
   "source": [
    "arr_index = np.where(y_test_label_row > 0)[0]\n",
    "print(len(arr_index))\n",
    "_ = plt.hist(y_test_label_row[arr_index])"
   ]
  },
  {
   "cell_type": "code",
   "execution_count": null,
   "metadata": {},
   "outputs": [],
   "source": [
    "print(len(np.where(y_pred_label == 0)[0]))\n",
    "print(len(np.where(y_pred_label == 2)[0]))\n",
    "print()\n",
    "print(len(np.where(y_pred_label == 0)[0]))\n",
    "print(len(np.where(y_pred_label == 2)[0]))\n",
    "\n",
    "y_pred_label = y_pred_label.astype(int)"
   ]
  },
  {
   "cell_type": "code",
   "execution_count": null,
   "metadata": {},
   "outputs": [],
   "source": [
    "_=sns.kdeplot(y_test_label_row, shade=True)"
   ]
  },
  {
   "cell_type": "code",
   "execution_count": null,
   "metadata": {},
   "outputs": [],
   "source": [
    "mean_acc = model.score(X_test, y_test_label_row)\n",
    "print(\"\\nLinear SVC : mean accuracy= {}\".format(np.round(mean_acc,2)))"
   ]
  },
  {
   "cell_type": "code",
   "execution_count": null,
   "metadata": {},
   "outputs": [],
   "source": [
    "from sklearn import metrics\n",
    "from sklearn.metrics import confusion_matrix\n",
    "\n",
    "import p4_util\n",
    "\n",
    "#--------------------------------------------------------------\n",
    "# Compute confusion matrix\n",
    "#--------------------------------------------------------------\n",
    "list_classes = [label for label in range(0,nb_classes)]\n",
    "print(\"\\nConfusion matrix for all classes : \")\n",
    "print()\n",
    "print(metrics.confusion_matrix(y_test_label_row, y_pred_label, labels=list_classes))\n",
    "print()\n",
    "\n",
    "cm = confusion_matrix(y_test_label_row, y_pred_label)\n",
    "p4_util.plot_confusion_matrix(cm, list_classes,\n",
    "                          normalize=True,\n",
    "                          title='Confusion matrix with SGD ',\n",
    "                          cmap=plt.cm.Blues)\n"
   ]
  },
  {
   "cell_type": "markdown",
   "metadata": {},
   "source": [
    "    Predictions capacity of LinerSVC is too poor.\n",
    "    Selection of a simpler classifier, a linear one, for improve overfiting lead to worst performances.\n",
    "    \n",
    "    There is no linear relationships between features in the dataset.\n",
    "    \n",
    "    Neural networks, because of their ability to capture non linear relationships, have a good position \n",
    "    to provide the bests perfromances."
   ]
  },
  {
   "cell_type": "markdown",
   "metadata": {},
   "source": [
    "### <font color=blus>2.1.4. Processing imbalanced classes</font>"
   ]
  },
  {
   "cell_type": "code",
   "execution_count": null,
   "metadata": {},
   "outputs": [],
   "source": [
    "import p9_util\n",
    "\n",
    "cell_units = 16\n",
    "max_length = len(X_train[0])\n",
    "print(\"\\nInput length= {}\".format(max_length))\n",
    "print(\"Number of units per RNN cell= {}\".format(cell_units))\n",
    "\n",
    "rnnCellType = 'GRU'\n",
    "model = p9_util.keras_rnn_build(rnnCellType, cell_units, max_length, isWordEmbedding=False\\\n",
    "                   , nbClasses=nb_classes)"
   ]
  },
  {
   "cell_type": "code",
   "execution_count": null,
   "metadata": {},
   "outputs": [],
   "source": [
    "nb_classes = y_train_label.shape[1]\n",
    "nb_classes"
   ]
  },
  {
   "cell_type": "markdown",
   "metadata": {},
   "source": [
    "    In order to define an under-sampling strategy, let's count the number of elements per class : "
   ]
  },
  {
   "cell_type": "code",
   "execution_count": null,
   "metadata": {},
   "outputs": [],
   "source": [
    "import p9_util\n",
    "dict_label_count = p9_util.count_multi_label(y_train_label, axis=1)\n",
    "print(dict_label_count.items())"
   ]
  },
  {
   "cell_type": "code",
   "execution_count": null,
   "metadata": {},
   "outputs": [],
   "source": [
    "from imblearn.under_sampling import RandomUnderSampler\n",
    "rus = RandomUnderSampler(random_state=0, ratio=dict_label_count)\n",
    "X_resampled, y_resampled = rus.fit_resample(X_train, y_train_label)\n",
    "print(y_resampled.shape, X_resampled.shape)"
   ]
  },
  {
   "cell_type": "code",
   "execution_count": null,
   "metadata": {},
   "outputs": [],
   "source": [
    "y_resampled_sample = y_resampled\n",
    "X_resampled_sample = X_resampled\n",
    "X_resampled_sample.shape, y_resampled_sample.shape"
   ]
  },
  {
   "cell_type": "code",
   "execution_count": null,
   "metadata": {},
   "outputs": [],
   "source": [
    "label = np.where(y_train_label[10]==1)[0][0]\n",
    "y_train_num_label = [np.where(y_train_label[col]==1)[0][0] for col  ]"
   ]
  },
  {
   "cell_type": "code",
   "execution_count": null,
   "metadata": {},
   "outputs": [],
   "source": [
    "dict_label_arrindex = {label:arrindex for (label,arrindex) in [(label, np.where(y_train_label==label)[0]) for label in range(0,nb_classes)]}\n"
   ]
  },
  {
   "cell_type": "code",
   "execution_count": null,
   "metadata": {},
   "outputs": [],
   "source": [
    "dict_label_arrindex[6]"
   ]
  },
  {
   "cell_type": "code",
   "execution_count": null,
   "metadata": {},
   "outputs": [],
   "source": [
    "row=10\n",
    "print(y_train_label[row])\n",
    "np.where(y_train_label[row]==1)[0][0]"
   ]
  },
  {
   "cell_type": "code",
   "execution_count": null,
   "metadata": {},
   "outputs": [],
   "source": [
    "len(y_train_label),y_train_label.shape"
   ]
  },
  {
   "cell_type": "code",
   "execution_count": null,
   "metadata": {},
   "outputs": [],
   "source": [
    "def get_label_from_row(y_row) :\n",
    "    label = np.where(y_row==1)[0][0]\n",
    "    return label"
   ]
  },
  {
   "cell_type": "code",
   "execution_count": null,
   "metadata": {},
   "outputs": [],
   "source": [
    "import p9_util\n",
    "row=10\n",
    "p9_util.get_label_from_row(y_train_label[row])"
   ]
  },
  {
   "cell_type": "markdown",
   "metadata": {},
   "source": [
    "    Plot 2 classes versus rest"
   ]
  },
  {
   "cell_type": "code",
   "execution_count": null,
   "metadata": {},
   "outputs": [],
   "source": [
    "list_color = ['#ef8a62' if get_label_from_row(y_train_label[row]) == 0 else '#f7f7f7' if get_label_from_row(y_train_label[row]) == 1 else '#67a9cf' for row in range(0,len(y_train_label))]"
   ]
  },
  {
   "cell_type": "code",
   "execution_count": null,
   "metadata": {},
   "outputs": [],
   "source": [
    "print(y_train_label.shape, X_train.shape)\n"
   ]
  },
  {
   "cell_type": "code",
   "execution_count": null,
   "metadata": {},
   "outputs": [],
   "source": [
    "import seaborn as sns\n",
    "\n",
    "_ = sns.kdeplot(y_train_label, shade=True)"
   ]
  },
  {
   "cell_type": "code",
   "execution_count": null,
   "metadata": {},
   "outputs": [],
   "source": [
    "batch_size = X_resampled.shape[0]//10\n",
    "print(\"Batch size= {}\".format(batch_size))"
   ]
  },
  {
   "cell_type": "code",
   "execution_count": null,
   "metadata": {},
   "outputs": [],
   "source": [
    "import numpy as np\n",
    "\n",
    "X_train_reshape = np.reshape(X_resampled, (X_resampled.shape[0], 1, X_resampled.shape[1]))\n",
    "X_test_reshape = np.reshape(X_test, (X_test.shape[0], 1, X_test.shape[1]))\n",
    "\n",
    "print(X_train_reshape.shape)\n",
    "print(X_test_reshape.shape)"
   ]
  },
  {
   "cell_type": "code",
   "execution_count": null,
   "metadata": {},
   "outputs": [],
   "source": [
    "history = model.fit(X_train_reshape, y_resampled, batch_size =batch_size, nb_epoch = 30\n",
    "                    ,validation_data=(X_test_reshape,y_test_label),  verbose = 1)"
   ]
  },
  {
   "cell_type": "code",
   "execution_count": null,
   "metadata": {},
   "outputs": [],
   "source": [
    "import p7_util\n",
    "\n",
    "list_model_acc_value = p7_util.p7_plot_cnn_history(model, None, None, history=history)"
   ]
  },
  {
   "cell_type": "markdown",
   "metadata": {},
   "source": [
    "# <font color=blus>3. Modeling with RNN with embeddings</font>"
   ]
  },
  {
   "cell_type": "markdown",
   "metadata": {},
   "source": [
    "    Embedding keras layer is used; such layer takes into accoung corpus vocabulary.\n",
    "    Weights are initialized randomly then will be trained and embeddings will be learned.\n",
    "    Embeddings are vector that represent a word and vector position relative to other \n",
    "    vectors represents its meaningfull.\n",
    "    \n",
    "    At the end of the training step, each word from train dataset will be represented as a \n",
    "    vector of embeddings."
   ]
  }
 ],
 "metadata": {
  "kernelspec": {
   "display_name": "Python 3",
   "language": "python",
   "name": "python3"
  },
  "language_info": {
   "codemirror_mode": {
    "name": "ipython",
    "version": 3
   },
   "file_extension": ".py",
   "mimetype": "text/x-python",
   "name": "python",
   "nbconvert_exporter": "python",
   "pygments_lexer": "ipython3",
   "version": "3.6.8"
  }
 },
 "nbformat": 4,
 "nbformat_minor": 2
}
