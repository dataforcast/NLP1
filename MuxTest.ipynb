{
 "cells": [
  {
   "cell_type": "code",
   "execution_count": 3,
   "metadata": {},
   "outputs": [
    {
     "name": "stdout",
     "output_type": "stream",
     "text": [
      "(2, 3, 5) (2,)\n",
      "\n",
      "Multiplexed data shape: (2, 2, 3)\n"
     ]
    },
    {
     "data": {
      "text/plain": [
       "array([[[100, 120, 130],\n",
       "        [200, 220, 230]],\n",
       "\n",
       "       [[101, 121, 131],\n",
       "        [201, 221, 231]]])"
      ]
     },
     "execution_count": 3,
     "metadata": {},
     "output_type": "execute_result"
    }
   ],
   "source": [
    "import numpy as np\n",
    "import p9_util\n",
    "\n",
    "# Test of data multiplexing\n",
    "# x : array of 2 elements (2 texts) \n",
    "# each text is formed with 3 words\n",
    "# each word is decomposed into 5 dimensions\n",
    "\n",
    "# xm : multiplexed result of x array.\n",
    "#      array of 5 elements; each one of the elements are a dimension.\n",
    "#      each dimention having 2 elements, each element is a text\n",
    "#      each text is composed of 3 words.\n",
    "x=np.array(\n",
    "    [\n",
    "        [[100,101,102,103,104],\n",
    "         [120,121,122,123,124],\n",
    "         [130,131,132,133,134],\n",
    "        ],\n",
    "        [[200,201,202,203,204],\n",
    "         [220,221,222,223,224],\n",
    "         [230,231,232,233,234],\n",
    "        ],\n",
    "    ]\n",
    ")\n",
    "# Expected result array after multiplexing :\n",
    "#[\n",
    "#  [\n",
    "#    [100, 120, 130],\n",
    "#    [200, 220, 230],\n",
    "#  ],\n",
    "#  [\n",
    "#    [101, 121, 131],\n",
    "#    [201, 221, 231],\n",
    "#  ],\n",
    "#  [\n",
    "#    [102, 122, 132],\n",
    "#    [202, 222, 232],\n",
    "#  ],\n",
    "#  [\n",
    "#    [103, 123, 133],\n",
    "#    [203, 223, 233],\n",
    "#  ],\n",
    "#  [\n",
    "#    [104, 124, 134],\n",
    "#    [204, 224, 234],\n",
    "#  ],\n",
    "#[\n",
    "\n",
    "y=np.array([1.,2.])\n",
    "print(x.shape, y.shape)\n",
    "pos_item = 0\n",
    "pos_row  = 1\n",
    "pos_dim  = 2\n",
    "dim_transpose = (pos_dim, pos_item, pos_row)\n",
    "xm = p9_util.multiplexer(x,dim_transpose, nb_dim=2)\n",
    "print(\"\")\n",
    "print(\"Multiplexed data shape: {}\".format(xm.shape))\n",
    "\n",
    "xm\n",
    "#Multiplexed data shape: (5, 2, 3)\n",
    "#array([[[100, 120, 130],\n",
    "#        [200, 220, 230]],\n",
    "#\n",
    "#       [[101, 121, 131],\n",
    "#        [201, 221, 231]],\n",
    "#\n",
    "#       [[102, 122, 132],\n",
    "#        [202, 222, 232]],\n",
    "#\n",
    "#       [[103, 123, 133],\n",
    "#        [203, 223, 233]],\n",
    "#\n",
    "#       [[104, 124, 134],\n",
    "#        [204, 224, 234]]])\n",
    "#"
   ]
  },
  {
   "cell_type": "code",
   "execution_count": null,
   "metadata": {},
   "outputs": [],
   "source": []
  }
 ],
 "metadata": {
  "kernelspec": {
   "display_name": "Python 3",
   "language": "python",
   "name": "python3"
  },
  "language_info": {
   "codemirror_mode": {
    "name": "ipython",
    "version": 3
   },
   "file_extension": ".py",
   "mimetype": "text/x-python",
   "name": "python",
   "nbconvert_exporter": "python",
   "pygments_lexer": "ipython3",
   "version": "3.6.8"
  }
 },
 "nbformat": 4,
 "nbformat_minor": 2
}
