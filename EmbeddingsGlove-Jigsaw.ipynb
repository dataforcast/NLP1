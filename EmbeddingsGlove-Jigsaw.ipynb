{
 "cells": [
  {
   "cell_type": "code",
   "execution_count": 2,
   "metadata": {},
   "outputs": [
    {
     "name": "stdout",
     "output_type": "stream",
     "text": [
      "The autoreload extension is already loaded. To reload it, use:\n",
      "  %reload_ext autoreload\n"
     ]
    }
   ],
   "source": [
    "%load_ext autoreload\n",
    "%autoreload 2\n",
    "\n",
    "%reload_ext autoreload"
   ]
  },
  {
   "cell_type": "code",
   "execution_count": 3,
   "metadata": {},
   "outputs": [
    {
     "data": {
      "text/html": [
       "<b>Embeddings with Glove</b>\n",
       "<div id=\"my_id_menu_nb\">run previous cell, wait for 2 seconds</div>\n",
       "<script>\n",
       "function repeat_indent_string(n){\n",
       "    var a = \"\" ;\n",
       "    for ( ; n > 0 ; --n)\n",
       "        a += \"    \";\n",
       "    return a;\n",
       "}\n",
       "// look up into all sections and builds an automated menu //\n",
       "var update_menu_string = function(begin, lfirst, llast, sformat, send, keep_item, begin_format, end_format) {\n",
       "    var anchors = document.getElementsByClassName(\"section\");\n",
       "    if (anchors.length == 0) {\n",
       "        anchors = document.getElementsByClassName(\"text_cell_render rendered_html\");\n",
       "    }\n",
       "    var i,t;\n",
       "    var text_menu = begin;\n",
       "    var text_memo = \"<pre>\\nlength:\" + anchors.length + \"\\n\";\n",
       "    var ind = \"\";\n",
       "    var memo_level = 1;\n",
       "    var href;\n",
       "    var tags = [];\n",
       "    var main_item = 0;\n",
       "    var format_open = 0;\n",
       "    for (i = 0; i <= llast; i++)\n",
       "        tags.push(\"h\" + i);\n",
       "\n",
       "    for (i = 0; i < anchors.length; i++) {\n",
       "        text_memo += \"**\" + anchors[i].id + \"--\\n\";\n",
       "\n",
       "        var child = null;\n",
       "        for(t = 0; t < tags.length; t++) {\n",
       "            var r = anchors[i].getElementsByTagName(tags[t]);\n",
       "            if (r.length > 0) {\n",
       "child = r[0];\n",
       "break;\n",
       "            }\n",
       "        }\n",
       "        if (child == null) {\n",
       "            text_memo += \"null\\n\";\n",
       "            continue;\n",
       "        }\n",
       "        if (anchors[i].hasAttribute(\"id\")) {\n",
       "            // when converted in RST\n",
       "            href = anchors[i].id;\n",
       "            text_memo += \"#1-\" + href;\n",
       "            // passer à child suivant (le chercher)\n",
       "        }\n",
       "        else if (child.hasAttribute(\"id\")) {\n",
       "            // in a notebook\n",
       "            href = child.id;\n",
       "            text_memo += \"#2-\" + href;\n",
       "        }\n",
       "        else {\n",
       "            text_memo += \"#3-\" + \"*\" + \"\\n\";\n",
       "            continue;\n",
       "        }\n",
       "        var title = child.textContent;\n",
       "        var level = parseInt(child.tagName.substring(1,2));\n",
       "\n",
       "        text_memo += \"--\" + level + \"?\" + lfirst + \"--\" + title + \"\\n\";\n",
       "\n",
       "        if ((level < lfirst) || (level > llast)) {\n",
       "            continue ;\n",
       "        }\n",
       "        if (title.endsWith('¶')) {\n",
       "            title = title.substring(0,title.length-1).replace(\"<\", \"&lt;\")\n",
       "         .replace(\">\", \"&gt;\").replace(\"&\", \"&amp;\");\n",
       "        }\n",
       "        if (title.length == 0) {\n",
       "            continue;\n",
       "        }\n",
       "\n",
       "        while (level < memo_level) {\n",
       "            text_menu += end_format + \"</ul>\\n\";\n",
       "            format_open -= 1;\n",
       "            memo_level -= 1;\n",
       "        }\n",
       "        if (level == lfirst) {\n",
       "            main_item += 1;\n",
       "        }\n",
       "        if (keep_item != -1 && main_item != keep_item + 1) {\n",
       "            // alert(main_item + \" - \" + level + \" - \" + keep_item);\n",
       "            continue;\n",
       "        }\n",
       "        while (level > memo_level) {\n",
       "            text_menu += \"<ul>\\n\";\n",
       "            memo_level += 1;\n",
       "        }\n",
       "        text_menu += repeat_indent_string(level-2);\n",
       "        text_menu += begin_format + sformat.replace(\"__HREF__\", href).replace(\"__TITLE__\", title);\n",
       "        format_open += 1;\n",
       "    }\n",
       "    while (1 < memo_level) {\n",
       "        text_menu += end_format + \"</ul>\\n\";\n",
       "        memo_level -= 1;\n",
       "        format_open -= 1;\n",
       "    }\n",
       "    text_menu += send;\n",
       "    //text_menu += \"\\n\" + text_memo;\n",
       "\n",
       "    while (format_open > 0) {\n",
       "        text_menu += end_format;\n",
       "        format_open -= 1;\n",
       "    }\n",
       "    return text_menu;\n",
       "};\n",
       "var update_menu = function() {\n",
       "    var sbegin = \"\";\n",
       "    var sformat = '<a href=\"#__HREF__\">__TITLE__</a>';\n",
       "    var send = \"\";\n",
       "    var begin_format = '<li>';\n",
       "    var end_format = '</li>';\n",
       "    var keep_item = -1;\n",
       "    var text_menu = update_menu_string(sbegin, 1, 4, sformat, send, keep_item,\n",
       "       begin_format, end_format);\n",
       "    var menu = document.getElementById(\"my_id_menu_nb\");\n",
       "    menu.innerHTML=text_menu;\n",
       "};\n",
       "window.setTimeout(update_menu,2000);\n",
       "            </script>"
      ],
      "text/plain": [
       "<IPython.core.display.HTML object>"
      ]
     },
     "execution_count": 3,
     "metadata": {},
     "output_type": "execute_result"
    }
   ],
   "source": [
    "from jyquickhelper import add_notebook_menu\n",
    "add_notebook_menu(first_level=1, header=\"Embeddings with Glove\")"
   ]
  },
  {
   "cell_type": "code",
   "execution_count": 3,
   "metadata": {},
   "outputs": [
    {
     "name": "stderr",
     "output_type": "stream",
     "text": [
      "Using TensorFlow backend.\n",
      "/home/bangui/.local/lib/python3.6/site-packages/matplotlib/__init__.py:886: MatplotlibDeprecationWarning: \n",
      "examples.directory is deprecated; in the future, examples will be found relative to the 'datapath' directory.\n",
      "  \"found relative to the 'datapath' directory.\".format(key))\n",
      "WARNING: Logging before flag parsing goes to stderr.\n",
      "W0820 00:49:32.533193 139907239372608 lazy_loader.py:50] \n",
      "The TensorFlow contrib module will not be included in TensorFlow 2.0.\n",
      "For more information, please see:\n",
      "  * https://github.com/tensorflow/community/blob/master/rfcs/20180907-contrib-sunset.md\n",
      "  * https://github.com/tensorflow/addons\n",
      "  * https://github.com/tensorflow/io (for I/O related ops)\n",
      "If you depend on functionality not listed there, please file an issue.\n",
      "\n",
      "W0820 00:49:32.535860 139907239372608 deprecation_wrapper.py:119] From /home/bangui/anaconda3/envs/python36/lib/python3.6/site-packages/adanet/tf_compat/__init__.py:96: The name tf.losses.Reduction is deprecated. Please use tf.compat.v1.losses.Reduction instead.\n",
      "\n",
      "W0820 00:49:32.564467 139907239372608 deprecation_wrapper.py:119] From /home/bangui/Dropbox/Perso/Formation/openclassrooms/OC_Datascientist/Kaggle/p8_util_config.py:137: The name tf.train.AdamOptimizer is deprecated. Please use tf.compat.v1.train.AdamOptimizer instead.\n",
      "\n"
     ]
    }
   ],
   "source": [
    "import gensim\n",
    "from gensim import corpora\n",
    "\n",
    "import pandas as pd\n",
    "import numpy as np\n",
    "\n",
    "\n",
    "from sklearn.datasets import fetch_20newsgroups\n",
    "from sklearn.datasets.base import get_data_home\n",
    "from keras.preprocessing.text import Tokenizer\n",
    "from keras.preprocessing.sequence import pad_sequences\n",
    "\n",
    "from keras.layers import Dropout\n",
    "\n",
    "import os\n",
    "\n",
    "import p9_util\n",
    "\n",
    "extension=''"
   ]
  },
  {
   "cell_type": "markdown",
   "metadata": {},
   "source": [
    "## <font color=blus>1. Loading BOW dataset</font>"
   ]
  },
  {
   "cell_type": "markdown",
   "metadata": {},
   "source": [
    "##  <font color=blus>1.1. Loading object `DataPreparator`</font>"
   ]
  },
  {
   "cell_type": "markdown",
   "metadata": {},
   "source": [
    "    Such object contains sequences of dataset that has been previously cleaned and tokenized.\n",
    "    It also contains tokenizer used in data preparation process."
   ]
  },
  {
   "cell_type": "code",
   "execution_count": 6,
   "metadata": {},
   "outputs": [
    {
     "name": "stdout",
     "output_type": "stream",
     "text": [
      "p5_util.object_load : fileName= ./data/DataPreparator_train.dump\n",
      "p5_util.object_load : fileName= ./data/DataPreparator_test.dump\n",
      "\n",
      "DataPretarator train lenth=  45347\n",
      "DataPretarator test lenth=  45432\n"
     ]
    }
   ],
   "source": [
    "import numpy as np\n",
    "import p5_util\n",
    "\n",
    "filename_train = './data/DataPreparator_train.dump'\n",
    "filename_test = './data/DataPreparator_test.dump'\n",
    "\n",
    "dataPreparator_train = p5_util.object_load(filename_train)\n",
    "dataPreparator_test = p5_util.object_load(filename_test)\n",
    "    \n",
    "print(\"\")\n",
    "print(\"DataPretarator train lenth=  {}\".format(len(dataPreparator_train)))\n",
    "print(\"DataPretarator test lenth=  {}\".format(len(dataPreparator_test)))\n"
   ]
  },
  {
   "cell_type": "markdown",
   "metadata": {},
   "source": [
    "## <font color=blus>1.2. Loading data processed from BOW</font>\n",
    "\n",
    "    Corpus has been tokenized and padded.\n",
    "    Padding took place in a statistical model."
   ]
  },
  {
   "cell_type": "raw",
   "metadata": {},
   "source": [
    "import numpy as np\n",
    "import p5_util\n",
    "\n",
    "filename = './data/keras_tokenizer'+extension+'.dump'\n",
    "keras_tokenizer = p5_util.object_load(filename)\n",
    "\n",
    "filename = './data/X_train_encoded'+extension+'.dump'\n",
    "X_train_encoded = p5_util.object_load(filename)\n",
    "\n",
    "filename = './data/y_train_encoded'+extension+'.dump'\n",
    "y_train_encoded = np.array(p5_util.object_load(filename))\n",
    "\n",
    "\n",
    "filename = './data/X_test_encoded'+extension+'.dump'\n",
    "X_test_encoded = p5_util.object_load(filename)\n",
    "\n",
    "filename = './data/y_test_encoded'+extension+'.dump'\n",
    "y_test_encoded = np.array(p5_util.object_load(filename))\n",
    "\n",
    "vocab_size = len(keras_tokenizer.word_index) + 1\n",
    "embedding_dim = 100\n",
    "max_length = X_train_encoded.shape[1]\n",
    "print(\"\\nX_train_encoded shape = {}\".format(X_train_encoded.shape))\n",
    "print(\"Y train shape= {}\".format(y_train_encoded.shape))\n",
    "print()\n",
    "print(\"X_test_encoded shape  = {}\".format(X_test_encoded.shape))\n",
    "print(\"Y test shape= {}\".format(y_test_encoded.shape))\n",
    "print()\n",
    "print(\"Vocabulary size= {}\".format(len(keras_tokenizer.word_index) + 1))    "
   ]
  },
  {
   "cell_type": "markdown",
   "metadata": {},
   "source": [
    "On the display above : \n",
    "* Corpus is compounded with `362779` texts\n",
    "* Each text is `37` size length."
   ]
  },
  {
   "cell_type": "markdown",
   "metadata": {},
   "source": [
    "# <font color=blus> 2. Building weight matrix from Glove</font>"
   ]
  },
  {
   "cell_type": "markdown",
   "metadata": {},
   "source": [
    "Dictionary `{word:glove_coefficient}` is built from Glove file name.\n",
    "\n",
    "Glove file has been prealably downloaded.\n",
    "\n",
    "Once built, dictionary allows to build a vector for every word \n",
    "in vocabulary issued from tokenizer.\n",
    "\n",
    "Using glove file defined here-under, each word is a vector of dimension 100. This dimension is \n",
    "referenced in the Glove file name part as `100d`\n",
    "\n",
    "Endly, weights matrix is built from vocabulary issued from tokenizer. \n",
    "\n",
    "Such process is summarized with sequences here-under :\n",
    "    * dict_glove_word_coeff <-- processing Glove file name\n",
    "    * vocabulary_word, index <-- tokenizer\n",
    "    * weight_vector = dict_glove_word_coeff[vocabulary_word]\n",
    "    * weight_matrix[index] = weight_vector"
   ]
  },
  {
   "cell_type": "code",
   "execution_count": 59,
   "metadata": {},
   "outputs": [
    {
     "name": "stdout",
     "output_type": "stream",
     "text": [
      "(61834, 100)\n"
     ]
    }
   ],
   "source": [
    "import p9_util\n",
    "\n",
    "fileName = './data/Glove/glove.6B.100d.txt'\n",
    "kera_tokenizer = dataPreparator_train.kerasTokenizer.tokenizer\n",
    "weight_matrix = p9_util.glove_weight_matrix_build(fileName, kera_tokenizer, tokenizer_type='keras') \n",
    "\n",
    "print(weight_matrix.shape)"
   ]
  },
  {
   "cell_type": "markdown",
   "metadata": {},
   "source": [
    "    All words from vocabulary has assigned of Glove vector."
   ]
  },
  {
   "cell_type": "markdown",
   "metadata": {},
   "source": [
    "# <font color=blus>3. Processing dataset with CNN</font>"
   ]
  },
  {
   "cell_type": "markdown",
   "metadata": {},
   "source": [
    "## <font color=blus>3.1. CNN regression model</font>"
   ]
  },
  {
   "cell_type": "code",
   "execution_count": 35,
   "metadata": {},
   "outputs": [
    {
     "name": "stdout",
     "output_type": "stream",
     "text": [
      "_________________________________________________________________\n",
      "Layer (type)                 Output Shape              Param #   \n",
      "=================================================================\n",
      "embedding_3 (Embedding)      (None, 37, 100)           8998400   \n",
      "_________________________________________________________________\n",
      "batch_normalization_28 (Batc (None, 37, 100)           400       \n",
      "_________________________________________________________________\n",
      "conv1d_11 (Conv1D)           (None, 10, 32)            16032     \n",
      "_________________________________________________________________\n",
      "batch_normalization_29 (Batc (None, 10, 32)            128       \n",
      "_________________________________________________________________\n",
      "conv1d_12 (Conv1D)           (None, 3, 32)             5152      \n",
      "_________________________________________________________________\n",
      "batch_normalization_30 (Batc (None, 3, 32)             128       \n",
      "_________________________________________________________________\n",
      "conv1d_13 (Conv1D)           (None, 1, 32)             5152      \n",
      "_________________________________________________________________\n",
      "flatten_4 (Flatten)          (None, 32)                0         \n",
      "_________________________________________________________________\n",
      "batch_normalization_31 (Batc (None, 32)                128       \n",
      "_________________________________________________________________\n",
      "dense_19 (Dense)             (None, 64)                2112      \n",
      "_________________________________________________________________\n",
      "batch_normalization_32 (Batc (None, 64)                256       \n",
      "_________________________________________________________________\n",
      "dense_20 (Dense)             (None, 32)                2080      \n",
      "_________________________________________________________________\n",
      "batch_normalization_33 (Batc (None, 32)                128       \n",
      "_________________________________________________________________\n",
      "dense_21 (Dense)             (None, 16)                528       \n",
      "_________________________________________________________________\n",
      "batch_normalization_34 (Batc (None, 16)                64        \n",
      "_________________________________________________________________\n",
      "dense_22 (Dense)             (None, 8)                 136       \n",
      "_________________________________________________________________\n",
      "batch_normalization_35 (Batc (None, 8)                 32        \n",
      "_________________________________________________________________\n",
      "dense_23 (Dense)             (None, 4)                 36        \n",
      "_________________________________________________________________\n",
      "batch_normalization_36 (Batc (None, 4)                 16        \n",
      "_________________________________________________________________\n",
      "dense_24 (Dense)             (None, 2)                 10        \n",
      "_________________________________________________________________\n",
      "batch_normalization_37 (Batc (None, 2)                 8         \n",
      "_________________________________________________________________\n",
      "dense_25 (Dense)             (None, 1)                 3         \n",
      "=================================================================\n",
      "Total params: 9,030,929\n",
      "Trainable params: 31,885\n",
      "Non-trainable params: 8,999,044\n",
      "_________________________________________________________________\n"
     ]
    }
   ],
   "source": [
    "from keras.models import Sequential\n",
    "from keras.layers import Conv1D, MaxPooling1D\n",
    "from keras.layers import Flatten, Dense, Dropout, Embedding, Reshape\n",
    "from keras.layers.normalization import BatchNormalization\n",
    "\n",
    "\n",
    "# Each text input will be vecorized as embedding_dim dimensions.\n",
    "model = Sequential()\n",
    "#----------------------------------------------------------------\n",
    "# Convolutional layers\n",
    "#----------------------------------------------------------------\n",
    "filter_size=5\n",
    "strides=4\n",
    "model.add(Embedding(vocab_size, embedding_dim,input_length=max_length, \n",
    "                    weights = [weight_matrix], trainable = False))\n",
    "\n",
    "\n",
    "model.add(BatchNormalization())\n",
    "model.add(Conv1D(32, filter_size,padding='same', strides=strides, activation='relu'))\n",
    "#model.add(MaxPooling1D(3))\n",
    "\n",
    "\n",
    "model.add(BatchNormalization())\n",
    "model.add(Conv1D(32, filter_size,padding='same', strides=strides, activation='relu'))\n",
    "\n",
    "if False :\n",
    "    filter_size=5\n",
    "    strides=4\n",
    "\n",
    "model.add(BatchNormalization())\n",
    "model.add(Conv1D(32, filter_size,padding='same', strides=strides, activation='relu'))\n",
    "\n",
    "\n",
    "#----------------------------------------------------------------\n",
    "# Dense layers\n",
    "#----------------------------------------------------------------\n",
    "model.add(Flatten())\n",
    "\n",
    "#model.add(BatchNormalization())\n",
    "#model.add(Dense(128, activation='relu'))\n",
    "\n",
    "model.add(BatchNormalization())\n",
    "model.add(Dense(64, activation='relu'))\n",
    "\n",
    "model.add(BatchNormalization())\n",
    "model.add(Dense(32, activation='relu'))\n",
    "\n",
    "model.add(BatchNormalization())\n",
    "model.add(Dense(16, activation='relu'))\n",
    "\n",
    "model.add(BatchNormalization())\n",
    "model.add(Dense(8, activation='relu'))\n",
    "\n",
    "model.add(BatchNormalization())\n",
    "model.add(Dense(4, activation='relu'))\n",
    "\n",
    "\n",
    "model.add(BatchNormalization())\n",
    "model.add(Dense(2, activation='relu'))\n",
    "#model.add(Dropout(0.5))\n",
    "\n",
    "model.add(BatchNormalization())\n",
    "model.add(Dense(1, activation='linear'))\n",
    "\n",
    "model.summary()\n"
   ]
  },
  {
   "cell_type": "code",
   "execution_count": 36,
   "metadata": {},
   "outputs": [],
   "source": [
    "model.compile(loss='mean_squared_error', optimizer='sgd', metrics=['mae'])"
   ]
  },
  {
   "cell_type": "code",
   "execution_count": 37,
   "metadata": {},
   "outputs": [
    {
     "name": "stdout",
     "output_type": "stream",
     "text": [
      "27335\n"
     ]
    },
    {
     "data": {
      "text/plain": [
       "(273358, 37)"
      ]
     },
     "execution_count": 37,
     "metadata": {},
     "output_type": "execute_result"
    }
   ],
   "source": [
    "batch_size = X_train_encoded.shape[0]//10\n",
    "print(batch_size)\n",
    "X_train_encoded.shape"
   ]
  },
  {
   "cell_type": "code",
   "execution_count": 38,
   "metadata": {},
   "outputs": [
    {
     "name": "stdout",
     "output_type": "stream",
     "text": [
      "Train on 273358 samples, validate on 134465 samples\n",
      "Epoch 1/10\n",
      "273358/273358 [==============================] - 15s 57us/step - loss: 0.0492 - mean_absolute_error: 0.1099 - val_loss: 0.0460 - val_mean_absolute_error: 0.1180\n",
      "Epoch 2/10\n",
      "273358/273358 [==============================] - 14s 50us/step - loss: 0.0448 - mean_absolute_error: 0.1219 - val_loss: 0.0429 - val_mean_absolute_error: 0.1292\n",
      "Epoch 3/10\n",
      "273358/273358 [==============================] - 16s 60us/step - loss: 0.0425 - mean_absolute_error: 0.1317 - val_loss: 0.0419 - val_mean_absolute_error: 0.1351\n",
      "Epoch 4/10\n",
      "273358/273358 [==============================] - 15s 55us/step - loss: 0.0417 - mean_absolute_error: 0.1368 - val_loss: 0.0412 - val_mean_absolute_error: 0.1414\n",
      "Epoch 5/10\n",
      "273358/273358 [==============================] - 16s 58us/step - loss: 0.0413 - mean_absolute_error: 0.1423 - val_loss: 0.0411 - val_mean_absolute_error: 0.1441\n",
      "Epoch 6/10\n",
      "273358/273358 [==============================] - 15s 54us/step - loss: 0.0411 - mean_absolute_error: 0.1447 - val_loss: 0.0410 - val_mean_absolute_error: 0.1450\n",
      "Epoch 7/10\n",
      "273358/273358 [==============================] - 19s 71us/step - loss: 0.0411 - mean_absolute_error: 0.1454 - val_loss: 0.0410 - val_mean_absolute_error: 0.1459\n",
      "Epoch 8/10\n",
      "273358/273358 [==============================] - 15s 54us/step - loss: 0.0411 - mean_absolute_error: 0.1462 - val_loss: 0.0410 - val_mean_absolute_error: 0.1468\n",
      "Epoch 9/10\n",
      "273358/273358 [==============================] - 14s 51us/step - loss: 0.0411 - mean_absolute_error: 0.1470 - val_loss: 0.0410 - val_mean_absolute_error: 0.1462\n",
      "Epoch 10/10\n",
      "273358/273358 [==============================] - 17s 62us/step - loss: 0.0411 - mean_absolute_error: 0.1465 - val_loss: 0.0410 - val_mean_absolute_error: 0.1482\n"
     ]
    }
   ],
   "source": [
    "history = model.fit(X_train_encoded, y_train_encoded, batch_size=batch_size, epochs=10, verbose=1, validation_data=(X_test_encoded,y_test_encoded))"
   ]
  },
  {
   "cell_type": "code",
   "execution_count": 39,
   "metadata": {},
   "outputs": [
    {
     "data": {
      "image/png": "[encoded data removed]",
      "text/plain": [
       "<Figure size 576x432 with 1 Axes>"
      ]
     },
     "metadata": {
      "needs_background": "light"
     },
     "output_type": "display_data"
    },
    {
     "data": {
      "image/png": "[encoded data removed]",
      "text/plain": [
       "<Figure size 576x432 with 1 Axes>"
      ]
     },
     "metadata": {
      "needs_background": "light"
     },
     "output_type": "display_data"
    }
   ],
   "source": [
    "import p7_util\n",
    "\n",
    "list_model_mae_value = p7_util.p7_plot_cnn_history(model, None, None, history=history)"
   ]
  },
  {
   "cell_type": "markdown",
   "metadata": {},
   "source": [
    "## <font color=blus>3.2. CNN classification model</font>\n",
    "\n",
    "    Targets, that are real values, are switched to integer, leading to a classification pb.\n",
    "    For doing that, y_train_encoded and y_test_encoded are transformed as array of integers, \n",
    "    ranging from 0 to 10, mean, 11 classes."
   ]
  },
  {
   "cell_type": "code",
   "execution_count": 40,
   "metadata": {},
   "outputs": [
    {
     "name": "stdout",
     "output_type": "stream",
     "text": [
      "\n",
      "Number of classes issued from one hot encoding= 11\n"
     ]
    },
    {
     "name": "stderr",
     "output_type": "stream",
     "text": [
      "/home/bangui/anaconda3/lib/python3.6/site-packages/sklearn/preprocessing/_encoders.py:368: FutureWarning: The handling of integer data will change in version 0.22. Currently, the categories are determined based on the range [0, max(values)], while in the future they will be determined based on the unique values.\n",
      "If you want the future behaviour and silence this warning, you can specify \"categories='auto'\".\n",
      "In case you used a LabelEncoder before this OneHotEncoder to convert the categories to integers, then you can now use the OneHotEncoder directly.\n",
      "  warnings.warn(msg, FutureWarning)\n",
      "/home/bangui/anaconda3/lib/python3.6/site-packages/sklearn/preprocessing/_encoders.py:368: FutureWarning: The handling of integer data will change in version 0.22. Currently, the categories are determined based on the range [0, max(values)], while in the future they will be determined based on the unique values.\n",
      "If you want the future behaviour and silence this warning, you can specify \"categories='auto'\".\n",
      "In case you used a LabelEncoder before this OneHotEncoder to convert the categories to integers, then you can now use the OneHotEncoder directly.\n",
      "  warnings.warn(msg, FutureWarning)\n"
     ]
    }
   ],
   "source": [
    "import p9_util\n",
    "\n",
    "nb_classes, y_train_label_encoded = p9_util.y_reg_2_label(y_train_encoded)\n",
    "_, y_test_label_encoded = p9_util.y_reg_2_label(y_test_encoded)\n",
    "print(\"\\nNumber of classes issued from one hot encoding= {}\".format(nb_classes))"
   ]
  },
  {
   "cell_type": "code",
   "execution_count": 41,
   "metadata": {},
   "outputs": [
    {
     "name": "stdout",
     "output_type": "stream",
     "text": [
      "_________________________________________________________________\n",
      "Layer (type)                 Output Shape              Param #   \n",
      "=================================================================\n",
      "embedding_4 (Embedding)      (None, 37, 100)           8998400   \n",
      "_________________________________________________________________\n",
      "batch_normalization_38 (Batc (None, 37, 100)           400       \n",
      "_________________________________________________________________\n",
      "conv1d_14 (Conv1D)           (None, 7, 32)             22432     \n",
      "_________________________________________________________________\n",
      "batch_normalization_39 (Batc (None, 7, 32)             128       \n",
      "_________________________________________________________________\n",
      "conv1d_15 (Conv1D)           (None, 2, 32)             7200      \n",
      "_________________________________________________________________\n",
      "batch_normalization_40 (Batc (None, 2, 32)             128       \n",
      "_________________________________________________________________\n",
      "conv1d_16 (Conv1D)           (None, 1, 32)             9248      \n",
      "_________________________________________________________________\n",
      "flatten_5 (Flatten)          (None, 32)                0         \n",
      "_________________________________________________________________\n",
      "batch_normalization_41 (Batc (None, 32)                128       \n",
      "_________________________________________________________________\n",
      "dense_26 (Dense)             (None, 64)                2112      \n",
      "_________________________________________________________________\n",
      "batch_normalization_42 (Batc (None, 64)                256       \n",
      "_________________________________________________________________\n",
      "dense_27 (Dense)             (None, 32)                2080      \n",
      "_________________________________________________________________\n",
      "batch_normalization_43 (Batc (None, 32)                128       \n",
      "_________________________________________________________________\n",
      "dense_28 (Dense)             (None, 16)                528       \n",
      "_________________________________________________________________\n",
      "batch_normalization_44 (Batc (None, 16)                64        \n",
      "_________________________________________________________________\n",
      "dense_29 (Dense)             (None, 11)                187       \n",
      "=================================================================\n",
      "Total params: 9,043,419\n",
      "Trainable params: 44,403\n",
      "Non-trainable params: 8,999,016\n",
      "_________________________________________________________________\n"
     ]
    }
   ],
   "source": [
    "from keras.models import Sequential\n",
    "from keras.layers import Conv1D, MaxPooling1D\n",
    "from keras.layers import Flatten, Dense, Dropout, Embedding, Reshape\n",
    "from keras.layers.normalization import BatchNormalization\n",
    "\n",
    "\n",
    "# Each text input will be vecorized as embedding_dim dimensions.\n",
    "model = Sequential()\n",
    "#----------------------------------------------------------------\n",
    "# Convolutional layers\n",
    "#----------------------------------------------------------------\n",
    "filter_size=7\n",
    "strides=6\n",
    "\n",
    "model.add(Embedding(vocab_size, embedding_dim,input_length=max_length, \n",
    "                    weights = [weight_matrix], trainable = False))\n",
    "\n",
    "\n",
    "\n",
    "model.add(BatchNormalization())\n",
    "model.add(Conv1D(32, filter_size,padding='same', strides=strides, activation='relu'))\n",
    "\n",
    "model.add(BatchNormalization())\n",
    "model.add(Conv1D(32, filter_size,padding='same', strides=strides, activation='relu'))\n",
    "\n",
    "if True :\n",
    "    filter_size=9\n",
    "    strides=8\n",
    "\n",
    "model.add(BatchNormalization())\n",
    "model.add(Conv1D(32, filter_size,padding='same', strides=strides, activation='relu'))\n",
    "#model.add(MaxPooling1D(3))\n",
    "\n",
    "\n",
    "#----------------------------------------------------------------\n",
    "# Dense layers\n",
    "#----------------------------------------------------------------\n",
    "model.add(Flatten())\n",
    "\n",
    "#model.add(BatchNormalization())\n",
    "#model.add(Dense(128, activation='relu'))\n",
    "\n",
    "model.add(BatchNormalization())\n",
    "model.add(Dense(64, activation='relu'))\n",
    "\n",
    "model.add(BatchNormalization())\n",
    "model.add(Dense(32, activation='relu'))\n",
    "\n",
    "model.add(BatchNormalization())\n",
    "model.add(Dense(16, activation='relu'))\n",
    "\n",
    "\n",
    "model.add(BatchNormalization())\n",
    "model.add(Dense(nb_classes, activation='softmax'))\n",
    "\n",
    "\n",
    "model.summary()\n"
   ]
  },
  {
   "cell_type": "code",
   "execution_count": 42,
   "metadata": {},
   "outputs": [
    {
     "name": "stdout",
     "output_type": "stream",
     "text": [
      "(273358, 37, 1)\n",
      "(134465, 37, 1)\n",
      "\n",
      "(273358, 11)\n",
      "(134465, 11)\n"
     ]
    }
   ],
   "source": [
    "import keras\n",
    "import numpy as np\n",
    "\n",
    "sgd = keras.optimizers.SGD(lr=0.1, decay=1e-6, momentum=0.9, nesterov=True)\n",
    "model.compile(loss='categorical_crossentropy', optimizer=sgd, metrics=['accuracy'])\n",
    "\n",
    "batch_size = X_train_encoded.shape[0]//10\n",
    "\n",
    "\n",
    "X_train_reshape = X_train_encoded.reshape(-1, max_length,1)\n",
    "X_test_reshape = X_test_encoded.reshape(-1, max_length,1)\n",
    "print(X_train_reshape.shape)\n",
    "print(X_test_reshape.shape)\n",
    "print()\n",
    "print(y_train_label_encoded.shape)\n",
    "print(y_test_label_encoded.shape)\n"
   ]
  },
  {
   "cell_type": "code",
   "execution_count": 46,
   "metadata": {},
   "outputs": [
    {
     "name": "stdout",
     "output_type": "stream",
     "text": [
      "27335\n",
      "(273358, 37) (273358, 11)\n",
      "(134465, 37) (134465, 11)\n"
     ]
    }
   ],
   "source": [
    "batch_size = X_train_encoded.shape[0]//10\n",
    "print(batch_size)\n",
    "print(X_train_encoded.shape,y_train_label_encoded.shape)\n",
    "print(X_test_encoded.shape,y_test_label_encoded.shape)"
   ]
  },
  {
   "cell_type": "code",
   "execution_count": null,
   "metadata": {},
   "outputs": [],
   "source": []
  },
  {
   "cell_type": "code",
   "execution_count": 48,
   "metadata": {},
   "outputs": [
    {
     "name": "stdout",
     "output_type": "stream",
     "text": [
      "Train on 273358 samples, validate on 134465 samples\n",
      "Epoch 1/10\n",
      "273358/273358 [==============================] - 14s 50us/step - loss: 1.6021 - acc: 0.7098 - val_loss: 1.2514 - val_acc: 0.7086\n",
      "Epoch 2/10\n",
      "273358/273358 [==============================] - 13s 46us/step - loss: 1.1789 - acc: 0.7098 - val_loss: 1.1394 - val_acc: 0.7086\n",
      "Epoch 3/10\n",
      "273358/273358 [==============================] - 14s 51us/step - loss: 1.1418 - acc: 0.7098 - val_loss: 1.1403 - val_acc: 0.7086\n",
      "Epoch 4/10\n",
      "273358/273358 [==============================] - 14s 50us/step - loss: 1.1357 - acc: 0.7098 - val_loss: 1.1398 - val_acc: 0.7086\n",
      "Epoch 5/10\n",
      "273358/273358 [==============================] - 17s 62us/step - loss: 1.1354 - acc: 0.7098 - val_loss: 1.1542 - val_acc: 0.7086\n",
      "Epoch 6/10\n",
      "273358/273358 [==============================] - 16s 59us/step - loss: 1.1408 - acc: 0.7098 - val_loss: 1.1353 - val_acc: 0.7086\n",
      "Epoch 7/10\n",
      "273358/273358 [==============================] - 16s 59us/step - loss: 1.1316 - acc: 0.7098 - val_loss: 1.1377 - val_acc: 0.7086\n",
      "Epoch 8/10\n",
      "273358/273358 [==============================] - 14s 52us/step - loss: 1.1329 - acc: 0.7098 - val_loss: 1.1419 - val_acc: 0.7086\n",
      "Epoch 9/10\n",
      "273358/273358 [==============================] - 15s 55us/step - loss: 1.1363 - acc: 0.7098 - val_loss: 1.1366 - val_acc: 0.7086\n",
      "Epoch 10/10\n",
      "273358/273358 [==============================] - 14s 53us/step - loss: 1.1353 - acc: 0.7098 - val_loss: 1.1372 - val_acc: 0.7086\n"
     ]
    }
   ],
   "source": [
    "history = model.fit(X_train_encoded, y_train_label_encoded, batch_size=batch_size, epochs=10, verbose=1, validation_data=(X_test_encoded,y_test_label_encoded))"
   ]
  },
  {
   "cell_type": "code",
   "execution_count": 49,
   "metadata": {},
   "outputs": [
    {
     "data": {
      "image/png": "[encoded data removed]",
      "text/plain": [
       "<Figure size 576x432 with 1 Axes>"
      ]
     },
     "metadata": {
      "needs_background": "light"
     },
     "output_type": "display_data"
    },
    {
     "data": {
      "image/png": "[encoded data removed]",
      "text/plain": [
       "<Figure size 576x432 with 1 Axes>"
      ]
     },
     "metadata": {
      "needs_background": "light"
     },
     "output_type": "display_data"
    }
   ],
   "source": [
    "import p7_util\n",
    "\n",
    "list_model_acc_value = p7_util.p7_plot_cnn_history(model, None, None, history=history)"
   ]
  }
 ],
 "metadata": {
  "kernelspec": {
   "display_name": "Python 3",
   "language": "python",
   "name": "python3"
  },
  "language_info": {
   "codemirror_mode": {
    "name": "ipython",
    "version": 3
   },
   "file_extension": ".py",
   "mimetype": "text/x-python",
   "name": "python",
   "nbconvert_exporter": "python",
   "pygments_lexer": "ipython3",
   "version": "3.6.8"
  }
 },
 "nbformat": 4,
 "nbformat_minor": 2
}
