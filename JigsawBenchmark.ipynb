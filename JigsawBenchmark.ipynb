{
 "cells": [
  {
   "cell_type": "markdown",
   "metadata": {},
   "source": [
    "# <font color='blus'>Table of contents</font>"
   ]
  },
  {
   "cell_type": "code",
   "execution_count": 269,
   "metadata": {},
   "outputs": [
    {
     "data": {
      "text/html": [
       "<b>Result issued from biais metrics</b>\n",
       "<div id=\"my_id_menu_nb\">run previous cell, wait for 2 seconds</div>\n",
       "<script>\n",
       "function repeat_indent_string(n){\n",
       "    var a = \"\" ;\n",
       "    for ( ; n > 0 ; --n)\n",
       "        a += \"    \";\n",
       "    return a;\n",
       "}\n",
       "// look up into all sections and builds an automated menu //\n",
       "var update_menu_string = function(begin, lfirst, llast, sformat, send, keep_item, begin_format, end_format) {\n",
       "    var anchors = document.getElementsByClassName(\"section\");\n",
       "    if (anchors.length == 0) {\n",
       "        anchors = document.getElementsByClassName(\"text_cell_render rendered_html\");\n",
       "    }\n",
       "    var i,t;\n",
       "    var text_menu = begin;\n",
       "    var text_memo = \"<pre>\\nlength:\" + anchors.length + \"\\n\";\n",
       "    var ind = \"\";\n",
       "    var memo_level = 1;\n",
       "    var href;\n",
       "    var tags = [];\n",
       "    var main_item = 0;\n",
       "    var format_open = 0;\n",
       "    for (i = 0; i <= llast; i++)\n",
       "        tags.push(\"h\" + i);\n",
       "\n",
       "    for (i = 0; i < anchors.length; i++) {\n",
       "        text_memo += \"**\" + anchors[i].id + \"--\\n\";\n",
       "\n",
       "        var child = null;\n",
       "        for(t = 0; t < tags.length; t++) {\n",
       "            var r = anchors[i].getElementsByTagName(tags[t]);\n",
       "            if (r.length > 0) {\n",
       "child = r[0];\n",
       "break;\n",
       "            }\n",
       "        }\n",
       "        if (child == null) {\n",
       "            text_memo += \"null\\n\";\n",
       "            continue;\n",
       "        }\n",
       "        if (anchors[i].hasAttribute(\"id\")) {\n",
       "            // when converted in RST\n",
       "            href = anchors[i].id;\n",
       "            text_memo += \"#1-\" + href;\n",
       "            // passer à child suivant (le chercher)\n",
       "        }\n",
       "        else if (child.hasAttribute(\"id\")) {\n",
       "            // in a notebook\n",
       "            href = child.id;\n",
       "            text_memo += \"#2-\" + href;\n",
       "        }\n",
       "        else {\n",
       "            text_memo += \"#3-\" + \"*\" + \"\\n\";\n",
       "            continue;\n",
       "        }\n",
       "        var title = child.textContent;\n",
       "        var level = parseInt(child.tagName.substring(1,2));\n",
       "\n",
       "        text_memo += \"--\" + level + \"?\" + lfirst + \"--\" + title + \"\\n\";\n",
       "\n",
       "        if ((level < lfirst) || (level > llast)) {\n",
       "            continue ;\n",
       "        }\n",
       "        if (title.endsWith('¶')) {\n",
       "            title = title.substring(0,title.length-1).replace(\"<\", \"&lt;\")\n",
       "         .replace(\">\", \"&gt;\").replace(\"&\", \"&amp;\");\n",
       "        }\n",
       "        if (title.length == 0) {\n",
       "            continue;\n",
       "        }\n",
       "\n",
       "        while (level < memo_level) {\n",
       "            text_menu += end_format + \"</ul>\\n\";\n",
       "            format_open -= 1;\n",
       "            memo_level -= 1;\n",
       "        }\n",
       "        if (level == lfirst) {\n",
       "            main_item += 1;\n",
       "        }\n",
       "        if (keep_item != -1 && main_item != keep_item + 1) {\n",
       "            // alert(main_item + \" - \" + level + \" - \" + keep_item);\n",
       "            continue;\n",
       "        }\n",
       "        while (level > memo_level) {\n",
       "            text_menu += \"<ul>\\n\";\n",
       "            memo_level += 1;\n",
       "        }\n",
       "        text_menu += repeat_indent_string(level-2);\n",
       "        text_menu += begin_format + sformat.replace(\"__HREF__\", href).replace(\"__TITLE__\", title);\n",
       "        format_open += 1;\n",
       "    }\n",
       "    while (1 < memo_level) {\n",
       "        text_menu += end_format + \"</ul>\\n\";\n",
       "        memo_level -= 1;\n",
       "        format_open -= 1;\n",
       "    }\n",
       "    text_menu += send;\n",
       "    //text_menu += \"\\n\" + text_memo;\n",
       "\n",
       "    while (format_open > 0) {\n",
       "        text_menu += end_format;\n",
       "        format_open -= 1;\n",
       "    }\n",
       "    return text_menu;\n",
       "};\n",
       "var update_menu = function() {\n",
       "    var sbegin = \"\";\n",
       "    var sformat = '<a href=\"#__HREF__\">__TITLE__</a>';\n",
       "    var send = \"\";\n",
       "    var begin_format = '<li>';\n",
       "    var end_format = '</li>';\n",
       "    var keep_item = -1;\n",
       "    var text_menu = update_menu_string(sbegin, 1, 4, sformat, send, keep_item,\n",
       "       begin_format, end_format);\n",
       "    var menu = document.getElementById(\"my_id_menu_nb\");\n",
       "    menu.innerHTML=text_menu;\n",
       "};\n",
       "window.setTimeout(update_menu,2000);\n",
       "            </script>"
      ],
      "text/plain": [
       "<IPython.core.display.HTML object>"
      ]
     },
     "execution_count": 269,
     "metadata": {},
     "output_type": "execute_result"
    }
   ],
   "source": [
    "from jyquickhelper import add_notebook_menu\n",
    "add_notebook_menu(first_level=1, last_level=4, header=\"Result issued from biais metrics\")"
   ]
  },
  {
   "cell_type": "markdown",
   "metadata": {},
   "source": [
    "# <font color='blus'>Abstract</font>\n",
    "\n",
    "    This notebook implement both data-preparation and CNN model building provided from \n",
    "    Kaggle : https://www.kaggle.com/c/jigsaw-unintended-bias-in-toxicity-classification/overview/evaluation\n",
    "    \n",
    "    It is used in order to compare bias performances and classification performances of submission model (the one submitted for Kaggle competition) with the one delivered by Kaggle (benchmark model)."
   ]
  },
  {
   "cell_type": "markdown",
   "metadata": {},
   "source": [
    "# <font color='blus'>Software engineering</font>\n",
    "<img src=\"./img/SoftwareEngineeringBenchmark.png\">"
   ]
  },
  {
   "cell_type": "markdown",
   "metadata": {},
   "source": [
    "# <font color='blus'>1. Benchmark algorithm</font>"
   ]
  },
  {
   "cell_type": "code",
   "execution_count": 85,
   "metadata": {},
   "outputs": [
    {
     "name": "stdout",
     "output_type": "stream",
     "text": [
      "The autoreload extension is already loaded. To reload it, use:\n",
      "  %reload_ext autoreload\n"
     ]
    }
   ],
   "source": [
    "from sklearn import metrics\n",
    "%matplotlib inline\n",
    "\n",
    "%load_ext autoreload\n",
    "%autoreload 2\n",
    "\n",
    "import warnings\n",
    "warnings.filterwarnings('ignore')"
   ]
  },
  {
   "cell_type": "code",
   "execution_count": 182,
   "metadata": {},
   "outputs": [
    {
     "data": {
      "text/plain": [
       "{'root_directory': './data/benchmark/',\n",
       " 'format_file': '.dill',\n",
       " 'format_model': '.h5',\n",
       " 'root_filename_benchmark': './data/benchmark/df_sample_benchmark_',\n",
       " 'root_filename_model': 'model_jigsaw_',\n",
       " 'n_sample': None,\n",
       " 'n_sample_train': None,\n",
       " 'is_dataset_reloaded': True,\n",
       " 'model_type': 'benchmark',\n",
       " 'is_model_reloaded': True,\n",
       " 'is_embedding_layer': True,\n",
       " 'threshold': 0.5,\n",
       " 'embeddings_dimension': 100,\n",
       " 'val_score_max': True,\n",
       " 'epochs': 10}"
      ]
     },
     "execution_count": 182,
     "metadata": {},
     "output_type": "execute_result"
    }
   ],
   "source": [
    "import p9_util_benchmark\n",
    "p9_util_benchmark.dict_param_benchmark"
   ]
  },
  {
   "cell_type": "code",
   "execution_count": 4,
   "metadata": {},
   "outputs": [
    {
     "data": {
      "text/plain": [
       "{'dict_param_keras': {'input_dim': (250, 100),\n",
       "  'batch_size': 500,\n",
       "  'nb_epoch': 10,\n",
       "  'verbose': 1,\n",
       "  'dropout_rate': 0.3,\n",
       "  'regul': (None, None),\n",
       "  'is_batch_normalized': True,\n",
       "  'lr': 0.001,\n",
       "  'nbClasses': 2},\n",
       " 'filter_size': 3,\n",
       " 'stride_size': 1,\n",
       " 'pool_size': 2,\n",
       " 'pool_stride': 2,\n",
       " 'nb_filter': 256,\n",
       " 'conv_layer': 4,\n",
       " 'nb_dense_neuron': 128,\n",
       " 'dense_layer': 1,\n",
       " 'dense_layer_decrease_rate': 1,\n",
       " 'list_channel': [],\n",
       " 'list_filter_channel': []}"
      ]
     },
     "execution_count": 4,
     "metadata": {},
     "output_type": "execute_result"
    }
   ],
   "source": [
    "import p9_util_config\n",
    "p9_util_config.dict_param_keras_cnn"
   ]
  },
  {
   "cell_type": "markdown",
   "metadata": {},
   "source": [
    "## <font color='blus'>1.1 Data preparation</font>\n",
    "    \n",
    "    Depending configuration parameters from p9_util_benchmark.dict_param_benchmark, data is prepared \n",
    "    or prepared data is read from hard drive.\n",
    "    "
   ]
  },
  {
   "cell_type": "code",
   "execution_count": 183,
   "metadata": {},
   "outputs": [
    {
     "name": "stdout",
     "output_type": "stream",
     "text": [
      "None ./data/benchmark/df_sample_benchmark_valid_FULL.dill\n",
      "p5_util.object_load : fileName= ./data/benchmark/df_sample_benchmark_valid_FULL.dill\n",
      "p5_util.object_load : fileName= ./data/benchmark/df_sample_benchmark_train_FULL.dill\n",
      "p5_util.object_load : fileName= ./data/benchmark/tokenizer_FULL.dill\n"
     ]
    }
   ],
   "source": [
    "import pandas as pd\n",
    "from keras.preprocessing.text import Tokenizer\n",
    "from sklearn import model_selection\n",
    "\n",
    "import keras\n",
    "\n",
    "import p5_util\n",
    "import p9_util_benchmark\n",
    "\n",
    "#filename = './data/benchmark/model_jigsaw_benchmark.h5'\n",
    "\n",
    "n_sample = p9_util_benchmark.dict_param_benchmark['n_sample']\n",
    "filename_benchmark = p9_util_benchmark.build_filename_benchmark()\n",
    "print(n_sample,filename_benchmark)\n",
    "\n",
    "#-------------------------------------------------------------------------------\n",
    "# Loading or building dataset\n",
    "#-------------------------------------------------------------------------------\n",
    "if p9_util_benchmark.dict_param_benchmark['is_dataset_reloaded'] :\n",
    "   \n",
    "    #-------------------------------------------------------------\n",
    "    # Load validation dataframe for benchmark\n",
    "    #-------------------------------------------------------------\n",
    "    df_validate = p5_util.object_load(filename_benchmark)\n",
    "\n",
    "    \n",
    "    #-------------------------------------------------------------\n",
    "    # Save train dataset into a file.\n",
    "    #-------------------------------------------------------------\n",
    "    filename_train_dataset = p9_util_benchmark.build_filename_benchmark(is_train=True)\n",
    "    df_train = p5_util.object_load(filename_train_dataset,is_verbose=True )\n",
    "    \n",
    "    \n",
    "    #-------------------------------------------------------------\n",
    "    # Load text tokenizer for data-preparation.\n",
    "    #-------------------------------------------------------------\n",
    "    tokenizer = p5_util.object_load(p9_util_benchmark.build_filename_tokenizer())\n",
    "else :\n",
    "    #-------------------------------------------------------------\n",
    "    # Build dataset for train and validation, \n",
    "    #-------------------------------------------------------------\n",
    "    df_train = pd.read_csv('./data/train.csv.zip', compression='zip', header=0, sep=',', quotechar='\"')\n",
    "    df_train['comment_text'] = df_train['comment_text'].apply(lambda x : x.lower())\n",
    "    df_train['comment_text'] = df_train['comment_text'].astype(str)\n",
    "\n",
    "    df_train = p9_util_benchmark.convert_dataframe_to_bool(df_train, \\\n",
    "                                                           dict_param_benchmark_=p9_util_benchmark.dict_param_benchmark)\n",
    "\n",
    "    df_train, df_validate = model_selection.train_test_split(df_train, test_size=0.2)\n",
    "    print('%d train comments, %d validation comments' % (len(df_train), len(df_validate)))\n",
    "    \n",
    "    #-------------------------------------------------------------\n",
    "    # Save validation dataset into a file.\n",
    "    #-------------------------------------------------------------\n",
    "    filename_valid_dataset = p9_util_benchmark.build_filename_benchmark()\n",
    "    p5_util.object_dump(df_validate.sample(n_sample),filename_valid_dataset,is_verbose=True )\n",
    "    \n",
    "    #-------------------------------------------------------------\n",
    "    # Save train dataset into a file.\n",
    "    #-------------------------------------------------------------\n",
    "    filename_train_dataset = p9_util_benchmark.build_filename_benchmark(is_train=True)\n",
    "    p5_util.object_dump(df_train,filename_train_dataset,is_verbose=True )\n",
    "    \n",
    "    #-------------------------------------------------------------\n",
    "    # Create a text tokenizer and save it.\n",
    "    #-------------------------------------------------------------\n",
    "    tokenizer = Tokenizer(num_words=p9_util_benchmark.MAX_NUM_WORDS)\n",
    "    tokenizer.fit_on_texts(df_train[p9_util_benchmark.TEXT_COLUMN])\n",
    "    filename_tokenizer = p9_util_benchmark.build_filename_tokenizer()\n",
    "    p5_util.object_dump(tokenizer,filename_tokenizer, is_verbose=True )\n",
    "    \n",
    "    #-------------------------------------------------------------\n",
    "    # Save parameters configuration into a file.\n",
    "    #-------------------------------------------------------------\n",
    "    filename_param = p9_util_benchmark.build_filename_param(p9_util_benchmark.dict_param_benchmark)\n",
    "    p5_util.object_dump(p9_util_benchmark.dict_param_benchmark,filename_param, is_verbose=True )"
   ]
  },
  {
   "cell_type": "markdown",
   "metadata": {},
   "source": [
    "#### Rebuild validation dataframe from both train dataset and full dataset"
   ]
  },
  {
   "cell_type": "code",
   "execution_count": 103,
   "metadata": {},
   "outputs": [],
   "source": [
    "import p9_util_benchmark\n",
    "\n",
    "if False :\n",
    "    df_full = pd.read_csv('./data/train.csv.zip', compression='zip', header=0, sep=',', quotechar='\"')\n",
    "\n",
    "    arr_index_train = df_train.index\n",
    "    arr_index_valid = [index for index in df_full.index if index not in arr_index_train]\n",
    "\n",
    "    df_validate = df_full.loc[arr_index_valid]\n",
    "    MODEL_NAME = 'predict'\n",
    "    df_validate = p9_util_benchmark.convert_dataframe_to_bool(df_validate, \\\n",
    "                                                          dict_param_benchmark_=p9_util_benchmark.dict_param_benchmark,\n",
    "                                                          pred_column = MODEL_NAME)\n",
    "#if True:\n",
    "    filename_valid_dataset = p9_util_benchmark.build_filename_benchmark()\n",
    "    print(filename_valid_dataset)\n",
    "\n",
    "    p5_util.object_dump(df_validate.sample(len(df_validate)),filename_valid_dataset,is_verbose=True )"
   ]
  },
  {
   "cell_type": "markdown",
   "metadata": {},
   "source": [
    "## <font color='blus'>1.2 Model from benchmark </font>\n",
    "    \n",
    "    Depending configuration parameters from p9_util_benchmark.dict_param_benchmark, model is built \n",
    "    or model is read from hard drive.\n",
    "    "
   ]
  },
  {
   "cell_type": "code",
   "execution_count": 12,
   "metadata": {},
   "outputs": [
    {
     "name": "stdout",
     "output_type": "stream",
     "text": [
      "Loding model= ./data/benchmark/model_jigsaw_benchmark_sampleFULL_threshold0.5_best.h5\n"
     ]
    }
   ],
   "source": [
    "import keras\n",
    "import p5_util\n",
    "import p9_util_benchmark\n",
    "\n",
    "#-------------------------------------------------------------------------------\n",
    "# Loading or building model\n",
    "#-------------------------------------------------------------------------------    \n",
    "if p9_util_benchmark.dict_param_benchmark['is_model_reloaded'] :\n",
    "    #-------------------------------------------------------------\n",
    "    # Load benchmark model.\n",
    "    #-------------------------------------------------------------\n",
    "    filename_model = p9_util_benchmark.build_filename_model()\n",
    "    print(\"Loding model= {}\".format(filename_model))\n",
    "    model = keras.models.load_model(filename_model)\n",
    "else :\n",
    "    #-------------------------------------------------------------\n",
    "    # Build benchmark model then save it.\n",
    "    #-------------------------------------------------------------\n",
    "    model,list_callback = p9_util_benchmark.build_model(p9_util_benchmark.dict_param_benchmark, \\\n",
    "                                                        p9_util_config.dict_param_keras_cnn)\n",
    "    #model = p9_util_benchmark.train_benchmark_model(df_train, df_validate, tokenizer)\n",
    "\n",
    "    filename_model = p9_util_benchmark.build_filename_model()\n",
    "    model.save(filename_model)\n",
    "    \n",
    "        "
   ]
  },
  {
   "cell_type": "code",
   "execution_count": 13,
   "metadata": {},
   "outputs": [
    {
     "name": "stdout",
     "output_type": "stream",
     "text": [
      "_________________________________________________________________\n",
      "Layer (type)                 Output Shape              Param #   \n",
      "=================================================================\n",
      "input_1 (InputLayer)         (None, 250)               0         \n",
      "_________________________________________________________________\n",
      "embedding_1 (Embedding)      (None, 250, 100)          35256200  \n",
      "_________________________________________________________________\n",
      "conv1d_1 (Conv1D)            (None, 250, 128)          25728     \n",
      "_________________________________________________________________\n",
      "max_pooling1d_1 (MaxPooling1 (None, 50, 128)           0         \n",
      "_________________________________________________________________\n",
      "conv1d_2 (Conv1D)            (None, 50, 128)           49280     \n",
      "_________________________________________________________________\n",
      "max_pooling1d_2 (MaxPooling1 (None, 10, 128)           0         \n",
      "_________________________________________________________________\n",
      "conv1d_3 (Conv1D)            (None, 10, 128)           65664     \n",
      "_________________________________________________________________\n",
      "max_pooling1d_3 (MaxPooling1 (None, 1, 128)            0         \n",
      "_________________________________________________________________\n",
      "flatten_1 (Flatten)          (None, 128)               0         \n",
      "_________________________________________________________________\n",
      "dropout_1 (Dropout)          (None, 128)               0         \n",
      "_________________________________________________________________\n",
      "dense_1 (Dense)              (None, 128)               16512     \n",
      "_________________________________________________________________\n",
      "dense_2 (Dense)              (None, 2)                 258       \n",
      "=================================================================\n",
      "Total params: 35,413,642\n",
      "Trainable params: 157,442\n",
      "Non-trainable params: 35,256,200\n",
      "_________________________________________________________________\n"
     ]
    }
   ],
   "source": [
    "model.summary()"
   ]
  },
  {
   "cell_type": "code",
   "execution_count": 7,
   "metadata": {},
   "outputs": [
    {
     "data": {
      "text/plain": [
       "{'dict_param_keras': {'input_dim': (250, 100),\n",
       "  'batch_size': 500,\n",
       "  'nb_epoch': 10,\n",
       "  'verbose': 1,\n",
       "  'dropout_rate': 0.3,\n",
       "  'regul': (None, None),\n",
       "  'is_batch_normalized': True,\n",
       "  'lr': 0.001,\n",
       "  'nbClasses': 2},\n",
       " 'filter_size': 3,\n",
       " 'stride_size': 1,\n",
       " 'pool_size': 2,\n",
       " 'pool_stride': 2,\n",
       " 'nb_filter': 256,\n",
       " 'conv_layer': 4,\n",
       " 'nb_dense_neuron': 128,\n",
       " 'dense_layer': 1,\n",
       " 'dense_layer_decrease_rate': 1,\n",
       " 'list_channel': [],\n",
       " 'list_filter_channel': []}"
      ]
     },
     "execution_count": 7,
     "metadata": {},
     "output_type": "execute_result"
    }
   ],
   "source": [
    "p9_util_config.dict_param_keras_cnn"
   ]
  },
  {
   "cell_type": "code",
   "execution_count": null,
   "metadata": {},
   "outputs": [
    {
     "name": "stdout",
     "output_type": "stream",
     "text": [
      "Data preparation...\n",
      "\n",
      "Batch size= 500\n",
      "Model training...\n",
      "Train on 1443899 samples, validate on 360975 samples\n",
      "Epoch 1/10\n",
      "1443899/1443899 [==============================] - 870s 603us/step - loss: 0.1707 - acc: 0.9402 - val_loss: 0.1494 - val_acc: 0.9448\n",
      "\n",
      "Epoch 00001: val_acc improved from -inf to 0.94481, saving model to ./data/benchmark/model_jigsaw_benchmark_sampleFULL_threshold0.5_best.h5\n",
      "Epoch 2/10\n",
      "1443899/1443899 [==============================] - 917s 635us/step - loss: 0.1493 - acc: 0.9460 - val_loss: 0.1506 - val_acc: 0.9479\n",
      "\n",
      "Epoch 00002: val_acc improved from 0.94481 to 0.94789, saving model to ./data/benchmark/model_jigsaw_benchmark_sampleFULL_threshold0.5_best.h5\n",
      "Epoch 3/10\n",
      "1443899/1443899 [==============================] - 988s 685us/step - loss: 0.1449 - acc: 0.9470 - val_loss: 0.1429 - val_acc: 0.9480\n",
      "\n",
      "Epoch 00003: val_acc improved from 0.94789 to 0.94797, saving model to ./data/benchmark/model_jigsaw_benchmark_sampleFULL_threshold0.5_best.h5\n",
      "Epoch 4/10\n",
      "1443899/1443899 [==============================] - 964s 667us/step - loss: 0.1427 - acc: 0.9479 - val_loss: 0.1432 - val_acc: 0.9482\n",
      "\n",
      "Epoch 00004: val_acc improved from 0.94797 to 0.94824, saving model to ./data/benchmark/model_jigsaw_benchmark_sampleFULL_threshold0.5_best.h5\n",
      "Epoch 5/10\n",
      "1443899/1443899 [==============================] - 888s 615us/step - loss: 0.1411 - acc: 0.9484 - val_loss: 0.1422 - val_acc: 0.9481\n",
      "\n",
      "Epoch 00005: val_acc did not improve from 0.94824\n",
      "Epoch 6/10\n",
      "1443899/1443899 [==============================] - 865s 599us/step - loss: 0.1405 - acc: 0.9486 - val_loss: 0.1445 - val_acc: 0.9481\n",
      "\n",
      "Epoch 00006: val_acc did not improve from 0.94824\n",
      "Epoch 7/10\n",
      "1184500/1443899 [=======================>......] - ETA: 2:26 - loss: 0.1402 - acc: 0.9487"
     ]
    }
   ],
   "source": [
    "import p9_util_benchmark\n",
    "model, history = p9_util_benchmark.train_benchmark_model(model, df_train, df_validate, tokenizer,\n",
    "                                                         dict_param_keras_cnn=p9_util_config.dict_param_keras_cnn,\n",
    "                                                        list_callback = list_callback)"
   ]
  },
  {
   "cell_type": "markdown",
   "metadata": {},
   "source": [
    "    History from trained model is saved "
   ]
  },
  {
   "cell_type": "code",
   "execution_count": 15,
   "metadata": {},
   "outputs": [
    {
     "name": "stdout",
     "output_type": "stream",
     "text": [
      "object_dump: file name= ./data/benchmark/history_benchmark_100D_FULL_.dill\n"
     ]
    }
   ],
   "source": [
    "import p5_util\n",
    "import p9_util_benchmark\n",
    "\n",
    "filename_history = p9_util_benchmark.build_filename_history(p9_util_benchmark.dict_param_benchmark)\n",
    "p5_util.object_dump(history,filename_history, is_verbose=True)"
   ]
  },
  {
   "cell_type": "code",
   "execution_count": 3,
   "metadata": {},
   "outputs": [
    {
     "name": "stderr",
     "output_type": "stream",
     "text": [
      "WARNING: Logging before flag parsing goes to stderr.\n",
      "W1103 13:10:02.604157 140002609624896 lazy_loader.py:50] \n",
      "The TensorFlow contrib module will not be included in TensorFlow 2.0.\n",
      "For more information, please see:\n",
      "  * https://github.com/tensorflow/community/blob/master/rfcs/20180907-contrib-sunset.md\n",
      "  * https://github.com/tensorflow/addons\n",
      "  * https://github.com/tensorflow/io (for I/O related ops)\n",
      "If you depend on functionality not listed there, please file an issue.\n",
      "\n",
      "W1103 13:10:02.604851 140002609624896 deprecation_wrapper.py:119] From /home/bangui/anaconda3/envs/python36/lib/python3.6/site-packages/adanet/tf_compat/__init__.py:96: The name tf.losses.Reduction is deprecated. Please use tf.compat.v1.losses.Reduction instead.\n",
      "\n",
      "W1103 13:10:02.616476 140002609624896 deprecation_wrapper.py:119] From /home/bangui/Dropbox/Perso/Formation/openclassrooms/OC_Datascientist/Kaggle/p8_util_config.py:137: The name tf.train.AdamOptimizer is deprecated. Please use tf.compat.v1.train.AdamOptimizer instead.\n",
      "\n"
     ]
    },
    {
     "name": "stdout",
     "output_type": "stream",
     "text": [
      "p5_util.object_load : fileName= ./data/benchmark/history_benchmark_100D_FULL_.dill\n"
     ]
    },
    {
     "name": "stderr",
     "output_type": "stream",
     "text": [
      "W1103 13:10:03.059059 140002609624896 deprecation_wrapper.py:119] From /home/bangui/anaconda3/envs/python36/lib/python3.6/site-packages/keras/backend/tensorflow_backend.py:517: The name tf.placeholder is deprecated. Please use tf.compat.v1.placeholder instead.\n",
      "\n",
      "W1103 13:10:03.061770 140002609624896 deprecation_wrapper.py:119] From /home/bangui/anaconda3/envs/python36/lib/python3.6/site-packages/keras/backend/tensorflow_backend.py:4138: The name tf.random_uniform is deprecated. Please use tf.random.uniform instead.\n",
      "\n",
      "W1103 13:10:03.080543 140002609624896 deprecation_wrapper.py:119] From /home/bangui/anaconda3/envs/python36/lib/python3.6/site-packages/keras/backend/tensorflow_backend.py:3976: The name tf.nn.max_pool is deprecated. Please use tf.nn.max_pool2d instead.\n",
      "\n",
      "W1103 13:10:03.136088 140002609624896 deprecation_wrapper.py:119] From /home/bangui/anaconda3/envs/python36/lib/python3.6/site-packages/keras/backend/tensorflow_backend.py:131: The name tf.get_default_graph is deprecated. Please use tf.compat.v1.get_default_graph instead.\n",
      "\n",
      "W1103 13:10:03.136723 140002609624896 deprecation_wrapper.py:119] From /home/bangui/anaconda3/envs/python36/lib/python3.6/site-packages/keras/backend/tensorflow_backend.py:133: The name tf.placeholder_with_default is deprecated. Please use tf.compat.v1.placeholder_with_default instead.\n",
      "\n",
      "W1103 13:10:03.146788 140002609624896 deprecation.py:506] From /home/bangui/anaconda3/envs/python36/lib/python3.6/site-packages/keras/backend/tensorflow_backend.py:3445: calling dropout (from tensorflow.python.ops.nn_ops) with keep_prob is deprecated and will be removed in a future version.\n",
      "Instructions for updating:\n",
      "Please use `rate` instead of `keep_prob`. Rate should be set to `rate = 1 - keep_prob`.\n",
      "W1103 13:10:03.291877 140002609624896 deprecation_wrapper.py:119] From /home/bangui/anaconda3/envs/python36/lib/python3.6/site-packages/keras/backend/tensorflow_backend.py:174: The name tf.get_default_session is deprecated. Please use tf.compat.v1.get_default_session instead.\n",
      "\n",
      "W1103 13:10:03.688650 140002609624896 deprecation_wrapper.py:119] From /home/bangui/anaconda3/envs/python36/lib/python3.6/site-packages/keras/optimizers.py:790: The name tf.train.Optimizer is deprecated. Please use tf.compat.v1.train.Optimizer instead.\n",
      "\n",
      "W1103 13:10:03.695060 140002609624896 deprecation.py:323] From /home/bangui/anaconda3/envs/python36/lib/python3.6/site-packages/tensorflow/python/ops/nn_impl.py:180: add_dispatch_support.<locals>.wrapper (from tensorflow.python.ops.array_ops) is deprecated and will be removed in a future version.\n",
      "Instructions for updating:\n",
      "Use tf.where in 2.0, which has the same broadcast rule as np.where\n"
     ]
    }
   ],
   "source": [
    "import p5_util\n",
    "import p9_util_benchmark\n",
    "filename_history = p9_util_benchmark.build_filename_history(p9_util_benchmark.dict_param_benchmark)\n",
    "filename_history\n",
    "\n",
    "history = p5_util.object_load(filename_history)"
   ]
  },
  {
   "cell_type": "code",
   "execution_count": 8,
   "metadata": {},
   "outputs": [
    {
     "data": {
      "image/png": "[encoded data removed]",
      "text/plain": [
       "<Figure size 576x432 with 1 Axes>"
      ]
     },
     "metadata": {
      "needs_background": "light"
     },
     "output_type": "display_data"
    },
    {
     "data": {
      "image/png": "[encoded data removed]",
      "text/plain": [
       "<Figure size 576x432 with 1 Axes>"
      ]
     },
     "metadata": {
      "needs_background": "light"
     },
     "output_type": "display_data"
    }
   ],
   "source": [
    "import p7_util\n",
    "#legend='length='+str(max_length)\n",
    "legend = \"CNN with 2000K docs\"\n",
    "model = None\n",
    "\n",
    "list_model_acc_value = p7_util.p7_plot_cnn_history(model, None, None, history=history, legend=legend)"
   ]
  },
  {
   "cell_type": "markdown",
   "metadata": {},
   "source": [
    "    Predictions are applied over validation dataset."
   ]
  },
  {
   "cell_type": "code",
   "execution_count": 112,
   "metadata": {},
   "outputs": [
    {
     "name": "stdout",
     "output_type": "stream",
     "text": [
      "360975/360975 [==============================] - 186s 514us/step\n",
      "object_dump: file name= ./data/benchmark/df_sample_benchmark_valid_FULL.dill\n"
     ]
    }
   ],
   "source": [
    "import p9_util_benchmark\n",
    "MODEL_NAME = 'predict'\n",
    "df_validate[MODEL_NAME] = model.predict(p9_util_benchmark.pad_text(df_validate[p9_util_benchmark.TEXT_COLUMN], tokenizer),\n",
    "                                       verbose=1)[:, 1]\n",
    "\n",
    "#-------------------------------------------------------------\n",
    "# Save validation dataset containing predictions \n",
    "#-------------------------------------------------------------\n",
    "filename_valid_dataset = p9_util_benchmark.build_filename_benchmark()\n",
    "filename_valid_dataset\n",
    "\n",
    "p5_util.object_dump(df_validate,filename_valid_dataset,is_verbose=True )"
   ]
  },
  {
   "cell_type": "code",
   "execution_count": 11,
   "metadata": {},
   "outputs": [
    {
     "data": {
      "text/html": [
       "<div>\n",
       "<style scoped>\n",
       "    .dataframe tbody tr th:only-of-type {\n",
       "        vertical-align: middle;\n",
       "    }\n",
       "\n",
       "    .dataframe tbody tr th {\n",
       "        vertical-align: top;\n",
       "    }\n",
       "\n",
       "    .dataframe thead th {\n",
       "        text-align: right;\n",
       "    }\n",
       "</style>\n",
       "<table border=\"1\" class=\"dataframe\">\n",
       "  <thead>\n",
       "    <tr style=\"text-align: right;\">\n",
       "      <th></th>\n",
       "      <th>id</th>\n",
       "      <th>target</th>\n",
       "      <th>comment_text</th>\n",
       "      <th>severe_toxicity</th>\n",
       "      <th>obscene</th>\n",
       "      <th>identity_attack</th>\n",
       "      <th>insult</th>\n",
       "      <th>threat</th>\n",
       "      <th>asian</th>\n",
       "      <th>atheist</th>\n",
       "      <th>...</th>\n",
       "      <th>rating</th>\n",
       "      <th>funny</th>\n",
       "      <th>wow</th>\n",
       "      <th>sad</th>\n",
       "      <th>likes</th>\n",
       "      <th>disagree</th>\n",
       "      <th>sexual_explicit</th>\n",
       "      <th>identity_annotator_count</th>\n",
       "      <th>toxicity_annotator_count</th>\n",
       "      <th>predict</th>\n",
       "    </tr>\n",
       "  </thead>\n",
       "  <tbody>\n",
       "    <tr>\n",
       "      <th>1484112</th>\n",
       "      <td>5936379</td>\n",
       "      <td>False</td>\n",
       "      <td>ohhhh.  😛😄</td>\n",
       "      <td>0.0</td>\n",
       "      <td>0.0</td>\n",
       "      <td>0.0</td>\n",
       "      <td>0.0</td>\n",
       "      <td>0.0</td>\n",
       "      <td>NaN</td>\n",
       "      <td>NaN</td>\n",
       "      <td>...</td>\n",
       "      <td>approved</td>\n",
       "      <td>0</td>\n",
       "      <td>0</td>\n",
       "      <td>0</td>\n",
       "      <td>0</td>\n",
       "      <td>0</td>\n",
       "      <td>0.0</td>\n",
       "      <td>0</td>\n",
       "      <td>4</td>\n",
       "      <td>0.072783</td>\n",
       "    </tr>\n",
       "    <tr>\n",
       "      <th>115115</th>\n",
       "      <td>382827</td>\n",
       "      <td>False</td>\n",
       "      <td>glad to see the federal subsistence board is w...</td>\n",
       "      <td>0.0</td>\n",
       "      <td>0.0</td>\n",
       "      <td>0.0</td>\n",
       "      <td>0.0</td>\n",
       "      <td>0.0</td>\n",
       "      <td>0.0</td>\n",
       "      <td>0.0</td>\n",
       "      <td>...</td>\n",
       "      <td>approved</td>\n",
       "      <td>0</td>\n",
       "      <td>0</td>\n",
       "      <td>0</td>\n",
       "      <td>3</td>\n",
       "      <td>0</td>\n",
       "      <td>0.0</td>\n",
       "      <td>4</td>\n",
       "      <td>4</td>\n",
       "      <td>0.057490</td>\n",
       "    </tr>\n",
       "    <tr>\n",
       "      <th>956027</th>\n",
       "      <td>5288107</td>\n",
       "      <td>False</td>\n",
       "      <td>hardly peanuts, and certainly more than \"absol...</td>\n",
       "      <td>0.0</td>\n",
       "      <td>0.0</td>\n",
       "      <td>0.0</td>\n",
       "      <td>0.0</td>\n",
       "      <td>0.0</td>\n",
       "      <td>NaN</td>\n",
       "      <td>NaN</td>\n",
       "      <td>...</td>\n",
       "      <td>approved</td>\n",
       "      <td>0</td>\n",
       "      <td>0</td>\n",
       "      <td>0</td>\n",
       "      <td>1</td>\n",
       "      <td>0</td>\n",
       "      <td>0.0</td>\n",
       "      <td>0</td>\n",
       "      <td>4</td>\n",
       "      <td>0.009253</td>\n",
       "    </tr>\n",
       "    <tr>\n",
       "      <th>940769</th>\n",
       "      <td>5269611</td>\n",
       "      <td>False</td>\n",
       "      <td>so did the g+m when in a pre-election editoria...</td>\n",
       "      <td>0.0</td>\n",
       "      <td>0.0</td>\n",
       "      <td>0.0</td>\n",
       "      <td>0.0</td>\n",
       "      <td>0.0</td>\n",
       "      <td>NaN</td>\n",
       "      <td>NaN</td>\n",
       "      <td>...</td>\n",
       "      <td>approved</td>\n",
       "      <td>0</td>\n",
       "      <td>0</td>\n",
       "      <td>0</td>\n",
       "      <td>4</td>\n",
       "      <td>0</td>\n",
       "      <td>0.0</td>\n",
       "      <td>0</td>\n",
       "      <td>4</td>\n",
       "      <td>0.008685</td>\n",
       "    </tr>\n",
       "    <tr>\n",
       "      <th>779017</th>\n",
       "      <td>5073869</td>\n",
       "      <td>False</td>\n",
       "      <td>people are here without documentation, or with...</td>\n",
       "      <td>0.0</td>\n",
       "      <td>0.0</td>\n",
       "      <td>0.0</td>\n",
       "      <td>0.0</td>\n",
       "      <td>0.0</td>\n",
       "      <td>0.0</td>\n",
       "      <td>0.0</td>\n",
       "      <td>...</td>\n",
       "      <td>approved</td>\n",
       "      <td>0</td>\n",
       "      <td>0</td>\n",
       "      <td>0</td>\n",
       "      <td>1</td>\n",
       "      <td>0</td>\n",
       "      <td>0.0</td>\n",
       "      <td>4</td>\n",
       "      <td>4</td>\n",
       "      <td>0.027935</td>\n",
       "    </tr>\n",
       "  </tbody>\n",
       "</table>\n",
       "<p>5 rows × 46 columns</p>\n",
       "</div>"
      ],
      "text/plain": [
       "              id  target                                       comment_text  \\\n",
       "1484112  5936379   False                                         ohhhh.  😛😄   \n",
       "115115    382827   False  glad to see the federal subsistence board is w...   \n",
       "956027   5288107   False  hardly peanuts, and certainly more than \"absol...   \n",
       "940769   5269611   False  so did the g+m when in a pre-election editoria...   \n",
       "779017   5073869   False  people are here without documentation, or with...   \n",
       "\n",
       "         severe_toxicity  obscene  identity_attack  insult  threat  asian  \\\n",
       "1484112              0.0      0.0              0.0     0.0     0.0    NaN   \n",
       "115115               0.0      0.0              0.0     0.0     0.0    0.0   \n",
       "956027               0.0      0.0              0.0     0.0     0.0    NaN   \n",
       "940769               0.0      0.0              0.0     0.0     0.0    NaN   \n",
       "779017               0.0      0.0              0.0     0.0     0.0    0.0   \n",
       "\n",
       "         atheist    ...       rating  funny  wow  sad  likes  disagree  \\\n",
       "1484112      NaN    ...     approved      0    0    0      0         0   \n",
       "115115       0.0    ...     approved      0    0    0      3         0   \n",
       "956027       NaN    ...     approved      0    0    0      1         0   \n",
       "940769       NaN    ...     approved      0    0    0      4         0   \n",
       "779017       0.0    ...     approved      0    0    0      1         0   \n",
       "\n",
       "         sexual_explicit  identity_annotator_count  toxicity_annotator_count  \\\n",
       "1484112              0.0                         0                         4   \n",
       "115115               0.0                         4                         4   \n",
       "956027               0.0                         0                         4   \n",
       "940769               0.0                         0                         4   \n",
       "779017               0.0                         4                         4   \n",
       "\n",
       "          predict  \n",
       "1484112  0.072783  \n",
       "115115   0.057490  \n",
       "956027   0.009253  \n",
       "940769   0.008685  \n",
       "779017   0.027935  \n",
       "\n",
       "[5 rows x 46 columns]"
      ]
     },
     "execution_count": 11,
     "metadata": {},
     "output_type": "execute_result"
    }
   ],
   "source": [
    "df_validate.sample(5)"
   ]
  },
  {
   "cell_type": "markdown",
   "metadata": {},
   "source": [
    "## <font color='blus'>1.3 Bias computation </font>    "
   ]
  },
  {
   "cell_type": "code",
   "execution_count": 184,
   "metadata": {},
   "outputs": [
    {
     "data": {
      "text/html": [
       "<div>\n",
       "<style scoped>\n",
       "    .dataframe tbody tr th:only-of-type {\n",
       "        vertical-align: middle;\n",
       "    }\n",
       "\n",
       "    .dataframe tbody tr th {\n",
       "        vertical-align: top;\n",
       "    }\n",
       "\n",
       "    .dataframe thead th {\n",
       "        text-align: right;\n",
       "    }\n",
       "</style>\n",
       "<table border=\"1\" class=\"dataframe\">\n",
       "  <thead>\n",
       "    <tr style=\"text-align: right;\">\n",
       "      <th></th>\n",
       "      <th>bnsp_auc</th>\n",
       "      <th>bpsn_auc</th>\n",
       "      <th>subgroup</th>\n",
       "      <th>subgroup_auc</th>\n",
       "      <th>subgroup_size</th>\n",
       "    </tr>\n",
       "  </thead>\n",
       "  <tbody>\n",
       "    <tr>\n",
       "      <th>6</th>\n",
       "      <td>0.959931</td>\n",
       "      <td>0.768903</td>\n",
       "      <td>black</td>\n",
       "      <td>0.807377</td>\n",
       "      <td>3006</td>\n",
       "    </tr>\n",
       "    <tr>\n",
       "      <th>7</th>\n",
       "      <td>0.965931</td>\n",
       "      <td>0.773480</td>\n",
       "      <td>white</td>\n",
       "      <td>0.819055</td>\n",
       "      <td>5077</td>\n",
       "    </tr>\n",
       "    <tr>\n",
       "      <th>2</th>\n",
       "      <td>0.963686</td>\n",
       "      <td>0.781776</td>\n",
       "      <td>homosexual_gay_or_lesbian</td>\n",
       "      <td>0.820112</td>\n",
       "      <td>2221</td>\n",
       "    </tr>\n",
       "    <tr>\n",
       "      <th>5</th>\n",
       "      <td>0.957757</td>\n",
       "      <td>0.819413</td>\n",
       "      <td>muslim</td>\n",
       "      <td>0.845473</td>\n",
       "      <td>4262</td>\n",
       "    </tr>\n",
       "    <tr>\n",
       "      <th>4</th>\n",
       "      <td>0.948680</td>\n",
       "      <td>0.857917</td>\n",
       "      <td>jewish</td>\n",
       "      <td>0.862545</td>\n",
       "      <td>1509</td>\n",
       "    </tr>\n",
       "    <tr>\n",
       "      <th>8</th>\n",
       "      <td>0.948939</td>\n",
       "      <td>0.856340</td>\n",
       "      <td>psychiatric_or_mental_illness</td>\n",
       "      <td>0.864638</td>\n",
       "      <td>982</td>\n",
       "    </tr>\n",
       "    <tr>\n",
       "      <th>0</th>\n",
       "      <td>0.946800</td>\n",
       "      <td>0.875431</td>\n",
       "      <td>male</td>\n",
       "      <td>0.883611</td>\n",
       "      <td>9050</td>\n",
       "    </tr>\n",
       "    <tr>\n",
       "      <th>1</th>\n",
       "      <td>0.944072</td>\n",
       "      <td>0.883673</td>\n",
       "      <td>female</td>\n",
       "      <td>0.889211</td>\n",
       "      <td>10671</td>\n",
       "    </tr>\n",
       "    <tr>\n",
       "      <th>3</th>\n",
       "      <td>0.937363</td>\n",
       "      <td>0.909032</td>\n",
       "      <td>christian</td>\n",
       "      <td>0.907213</td>\n",
       "      <td>8081</td>\n",
       "    </tr>\n",
       "  </tbody>\n",
       "</table>\n",
       "</div>"
      ],
      "text/plain": [
       "   bnsp_auc  bpsn_auc                       subgroup  subgroup_auc  \\\n",
       "6  0.959931  0.768903                          black      0.807377   \n",
       "7  0.965931  0.773480                          white      0.819055   \n",
       "2  0.963686  0.781776      homosexual_gay_or_lesbian      0.820112   \n",
       "5  0.957757  0.819413                         muslim      0.845473   \n",
       "4  0.948680  0.857917                         jewish      0.862545   \n",
       "8  0.948939  0.856340  psychiatric_or_mental_illness      0.864638   \n",
       "0  0.946800  0.875431                           male      0.883611   \n",
       "1  0.944072  0.883673                         female      0.889211   \n",
       "3  0.937363  0.909032                      christian      0.907213   \n",
       "\n",
       "   subgroup_size  \n",
       "6           3006  \n",
       "7           5077  \n",
       "2           2221  \n",
       "5           4262  \n",
       "4           1509  \n",
       "8            982  \n",
       "0           9050  \n",
       "1          10671  \n",
       "3           8081  "
      ]
     },
     "execution_count": 184,
     "metadata": {},
     "output_type": "execute_result"
    }
   ],
   "source": [
    "import p9_util_metrics\n",
    "df_bias_metrics = p9_util_metrics.compute_bias_metrics_for_model(df_validate, \n",
    "                                                                 p9_util_metrics.IDENTITY_COLUMNS, \n",
    "                                                                 MODEL_NAME, \n",
    "                                                                 p9_util_benchmark.TOXICITY_COLUMN)\n",
    "df_bias_metrics"
   ]
  },
  {
   "cell_type": "code",
   "execution_count": 185,
   "metadata": {
    "scrolled": true
   },
   "outputs": [
    {
     "data": {
      "text/plain": [
       "0.9358750872482381"
      ]
     },
     "execution_count": 185,
     "metadata": {},
     "output_type": "execute_result"
    }
   ],
   "source": [
    "import p9_util_metrics\n",
    "overall_auc = p9_util_metrics.calculate_overall_auc(df_validate, MODEL_NAME, p9_util_metrics.TOXICITY_COLUMN)\n",
    "print(\"Global AUC= {}\".format(overall_auc))"
   ]
  },
  {
   "cell_type": "code",
   "execution_count": 186,
   "metadata": {},
   "outputs": [
    {
     "name": "stdout",
     "output_type": "stream",
     "text": [
      "Bias score contribution : 0.6578661928087628\n"
     ]
    },
    {
     "data": {
      "text/plain": [
       "0.8918349646208223"
      ]
     },
     "execution_count": 186,
     "metadata": {},
     "output_type": "execute_result"
    }
   ],
   "source": [
    "import p9_util_metrics\n",
    "\n",
    "p9_util_metrics.get_final_metric(df_bias_metrics, overall_auc)"
   ]
  },
  {
   "cell_type": "markdown",
   "metadata": {},
   "source": [
    "## <font color='blus'>1.4 Binay classification performances </font>    "
   ]
  },
  {
   "cell_type": "code",
   "execution_count": 189,
   "metadata": {},
   "outputs": [
    {
     "data": {
      "text/html": [
       "<div>\n",
       "<style scoped>\n",
       "    .dataframe tbody tr th:only-of-type {\n",
       "        vertical-align: middle;\n",
       "    }\n",
       "\n",
       "    .dataframe tbody tr th {\n",
       "        vertical-align: top;\n",
       "    }\n",
       "\n",
       "    .dataframe thead th {\n",
       "        text-align: right;\n",
       "    }\n",
       "</style>\n",
       "<table border=\"1\" class=\"dataframe\">\n",
       "  <thead>\n",
       "    <tr style=\"text-align: right;\">\n",
       "      <th></th>\n",
       "      <th>target</th>\n",
       "      <th>predict</th>\n",
       "    </tr>\n",
       "  </thead>\n",
       "  <tbody>\n",
       "    <tr>\n",
       "      <th>507152</th>\n",
       "      <td>False</td>\n",
       "      <td>0.011748</td>\n",
       "    </tr>\n",
       "    <tr>\n",
       "      <th>385223</th>\n",
       "      <td>False</td>\n",
       "      <td>0.010401</td>\n",
       "    </tr>\n",
       "    <tr>\n",
       "      <th>1242654</th>\n",
       "      <td>False</td>\n",
       "      <td>0.002137</td>\n",
       "    </tr>\n",
       "  </tbody>\n",
       "</table>\n",
       "</div>"
      ],
      "text/plain": [
       "         target   predict\n",
       "507152    False  0.011748\n",
       "385223    False  0.010401\n",
       "1242654   False  0.002137"
      ]
     },
     "execution_count": 189,
     "metadata": {},
     "output_type": "execute_result"
    }
   ],
   "source": [
    "arr_index = df_validate[['target', MODEL_NAME, ]].sample(3).index\n",
    "\n",
    "df_validate[['target', MODEL_NAME, ]].loc[arr_index]"
   ]
  },
  {
   "cell_type": "markdown",
   "metadata": {},
   "source": [
    "    Convert predictions and targets into binary values"
   ]
  },
  {
   "cell_type": "code",
   "execution_count": 191,
   "metadata": {},
   "outputs": [],
   "source": [
    "df_validate['bool_predict'] = np.where(df_validate[MODEL_NAME] >= threshold, True, False)\n",
    "\n",
    "df_validate['bin_predict'] = np.where(df_validate[MODEL_NAME] >= threshold, 1, 0)\n",
    "\n",
    "df_validate['bin_target'] = np.where(df_validate['target'] == True, 1, 0)"
   ]
  },
  {
   "cell_type": "code",
   "execution_count": 196,
   "metadata": {},
   "outputs": [
    {
     "data": {
      "text/html": [
       "<div>\n",
       "<style scoped>\n",
       "    .dataframe tbody tr th:only-of-type {\n",
       "        vertical-align: middle;\n",
       "    }\n",
       "\n",
       "    .dataframe tbody tr th {\n",
       "        vertical-align: top;\n",
       "    }\n",
       "\n",
       "    .dataframe thead th {\n",
       "        text-align: right;\n",
       "    }\n",
       "</style>\n",
       "<table border=\"1\" class=\"dataframe\">\n",
       "  <thead>\n",
       "    <tr style=\"text-align: right;\">\n",
       "      <th></th>\n",
       "      <th>target</th>\n",
       "      <th>predict</th>\n",
       "      <th>bool_predict</th>\n",
       "      <th>bin_target</th>\n",
       "      <th>bin_predict</th>\n",
       "    </tr>\n",
       "  </thead>\n",
       "  <tbody>\n",
       "    <tr>\n",
       "      <th>507152</th>\n",
       "      <td>False</td>\n",
       "      <td>0.011748</td>\n",
       "      <td>False</td>\n",
       "      <td>0</td>\n",
       "      <td>0</td>\n",
       "    </tr>\n",
       "    <tr>\n",
       "      <th>385223</th>\n",
       "      <td>False</td>\n",
       "      <td>0.010401</td>\n",
       "      <td>False</td>\n",
       "      <td>0</td>\n",
       "      <td>0</td>\n",
       "    </tr>\n",
       "    <tr>\n",
       "      <th>1242654</th>\n",
       "      <td>False</td>\n",
       "      <td>0.002137</td>\n",
       "      <td>False</td>\n",
       "      <td>0</td>\n",
       "      <td>0</td>\n",
       "    </tr>\n",
       "  </tbody>\n",
       "</table>\n",
       "</div>"
      ],
      "text/plain": [
       "         target   predict  bool_predict  bin_target  bin_predict\n",
       "507152    False  0.011748         False           0            0\n",
       "385223    False  0.010401         False           0            0\n",
       "1242654   False  0.002137         False           0            0"
      ]
     },
     "execution_count": 196,
     "metadata": {},
     "output_type": "execute_result"
    }
   ],
   "source": [
    "df_validate[['target', MODEL_NAME, 'bool_predict','bin_target', 'bin_predict']].loc[arr_index]"
   ]
  },
  {
   "cell_type": "code",
   "execution_count": 203,
   "metadata": {},
   "outputs": [
    {
     "name": "stdout",
     "output_type": "stream",
     "text": [
      "[0, 1]\n",
      "\n",
      "Confusion matrix for all classes : \n",
      "\n",
      "[[326929   5317]\n",
      " [ 13367  15362]]\n",
      "\n",
      "Normalized confusion matrix\n",
      "[[0.9839968  0.0160032 ]\n",
      " [0.46527899 0.53472101]]\n",
      "Confusion matrix, without normalization\n",
      "[[326929   5317]\n",
      " [ 13367  15362]]\n",
      "\n",
      "TP rate = [0.         0.53472101 1.        ]\n",
      "FP rate = [0.        0.0160032 1.       ]\n",
      "AUC = 0.7593589055817804\n"
     ]
    },
    {
     "data": {
      "text/plain": [
       "array([0, 0, 0, ..., 0, 1, 0])"
      ]
     },
     "execution_count": 203,
     "metadata": {},
     "output_type": "execute_result"
    },
    {
     "data": {
      "image/png": "[encoded data removed]",
      "text/plain": [
       "<Figure size 432x288 with 1 Axes>"
      ]
     },
     "metadata": {
      "needs_background": "light"
     },
     "output_type": "display_data"
    },
    {
     "data": {
      "image/png": "[encoded data removed]",
      "text/plain": [
       "<Figure size 576x576 with 2 Axes>"
      ]
     },
     "metadata": {
      "needs_background": "light"
     },
     "output_type": "display_data"
    },
    {
     "data": {
      "image/png": "[encoded data removed]",
      "text/plain": [
       "<Figure size 576x576 with 2 Axes>"
      ]
     },
     "metadata": {
      "needs_background": "light"
     },
     "output_type": "display_data"
    },
    {
     "data": {
      "image/png": "[encoded data removed]",
      "text/plain": [
       "<Figure size 432x432 with 1 Axes>"
      ]
     },
     "metadata": {
      "needs_background": "light"
     },
     "output_type": "display_data"
    }
   ],
   "source": [
    "Xeval=None\n",
    "p9_util.display_class_performance(model, Xeval, df_validate['bin_target'], \\\n",
    "                              is_binary=True, y_pred= df_validate['bin_predict'], nb_classes=2,\\\n",
    "                              title=\"Confusion matrix\") "
   ]
  },
  {
   "cell_type": "markdown",
   "metadata": {},
   "source": [
    "# <font color='blus'>2. Sampling effect over benchmark algorithm</font>\n",
    "\n",
    "    Benchmark algorithm is trained with the same sampling size then the submission algorithm and \n",
    "    performances are compared with the two algorithms.\n",
    "    "
   ]
  },
  {
   "cell_type": "code",
   "execution_count": 223,
   "metadata": {},
   "outputs": [
    {
     "name": "stdout",
     "output_type": "stream",
     "text": [
      "The autoreload extension is already loaded. To reload it, use:\n",
      "  %reload_ext autoreload\n"
     ]
    }
   ],
   "source": [
    "from sklearn import metrics\n",
    "%matplotlib inline\n",
    "\n",
    "%load_ext autoreload\n",
    "%autoreload 2\n",
    "\n",
    "import warnings\n",
    "warnings.filterwarnings('ignore')"
   ]
  },
  {
   "cell_type": "markdown",
   "metadata": {},
   "source": [
    "Build model with tokenizer and embeddings matrix already built.\n",
    "\n",
    "Cofiguration structure, `p9_util_benchmark.dict_param_benchmark` has to be updated according following parameters : \n",
    "\n",
    "* Parameter `model_type` is fixed to `'benchmark'`\n",
    "* Parameter `is_dataset_reloaded` is fixed to `True`\n",
    "* Parameter `is_model_reloaded` is fixed to `False`\n",
    "* Parameter `is_embedding_reloaded` is fixed to `True`\n"
   ]
  },
  {
   "cell_type": "code",
   "execution_count": 261,
   "metadata": {},
   "outputs": [
    {
     "data": {
      "text/plain": [
       "{'root_directory': './data/benchmark/',\n",
       " 'format_file': '.dill',\n",
       " 'format_model': '.h5',\n",
       " 'root_filename_benchmark': './data/benchmark/df_sample_benchmark_',\n",
       " 'root_filename_model': 'model_jigsaw_',\n",
       " 'n_sample': None,\n",
       " 'n_sample_train': None,\n",
       " 'model_type': 'benchmark',\n",
       " 'is_model_reloaded': False,\n",
       " 'is_embedding_layer': True,\n",
       " 'is_dataset_reloaded': True,\n",
       " 'is_embedding_reloaded': True,\n",
       " 'threshold': 0.5,\n",
       " 'embeddings_dimension': 100,\n",
       " 'val_score_max': True,\n",
       " 'epochs': 10}"
      ]
     },
     "execution_count": 261,
     "metadata": {},
     "output_type": "execute_result"
    }
   ],
   "source": [
    "import p9_util_benchmark\n",
    "p9_util_benchmark.dict_param_benchmark"
   ]
  },
  {
   "cell_type": "code",
   "execution_count": 262,
   "metadata": {},
   "outputs": [
    {
     "name": "stdout",
     "output_type": "stream",
     "text": [
      "p5_util.object_load : fileName= ./data/benchmark/tokenizer_FULL.dill\n",
      "Loading embeddings matrix...\n",
      "p5_util.object_load : fileName= ./data/benchmark/embedding_matrix_100D_FULL.dill\n",
      "_________________________________________________________________\n",
      "Layer (type)                 Output Shape              Param #   \n",
      "=================================================================\n",
      "input_6 (InputLayer)         (None, 250)               0         \n",
      "_________________________________________________________________\n",
      "embedding_4 (Embedding)      (None, 250, 100)          35256200  \n",
      "_________________________________________________________________\n",
      "conv1d_10 (Conv1D)           (None, 250, 128)          25728     \n",
      "_________________________________________________________________\n",
      "max_pooling1d_10 (MaxPooling (None, 50, 128)           0         \n",
      "_________________________________________________________________\n",
      "conv1d_11 (Conv1D)           (None, 50, 128)           49280     \n",
      "_________________________________________________________________\n",
      "max_pooling1d_11 (MaxPooling (None, 10, 128)           0         \n",
      "_________________________________________________________________\n",
      "conv1d_12 (Conv1D)           (None, 10, 128)           65664     \n",
      "_________________________________________________________________\n",
      "max_pooling1d_12 (MaxPooling (None, 1, 128)            0         \n",
      "_________________________________________________________________\n",
      "flatten_4 (Flatten)          (None, 128)               0         \n",
      "_________________________________________________________________\n",
      "dropout_4 (Dropout)          (None, 128)               0         \n",
      "_________________________________________________________________\n",
      "dense_7 (Dense)              (None, 128)               16512     \n",
      "_________________________________________________________________\n",
      "dense_8 (Dense)              (None, 2)                 258       \n",
      "=================================================================\n",
      "Total params: 35,413,642\n",
      "Trainable params: 157,442\n",
      "Non-trainable params: 35,256,200\n",
      "_________________________________________________________________\n"
     ]
    }
   ],
   "source": [
    "import keras\n",
    "import p5_util\n",
    "import p9_util_config\n",
    "import p9_util_benchmark\n",
    "\n",
    "#-------------------------------------------------------------------------------\n",
    "# Loading or building model\n",
    "#-------------------------------------------------------------------------------    \n",
    "if p9_util_benchmark.dict_param_benchmark['is_model_reloaded'] :\n",
    "    #-------------------------------------------------------------\n",
    "    # Load benchmark model.\n",
    "    #-------------------------------------------------------------\n",
    "    filename_model = p9_util_benchmark.build_filename_model()\n",
    "    print(\"Loding model= {}\".format(filename_model))\n",
    "    model = keras.models.load_model(filename_model)\n",
    "else :\n",
    "    #-------------------------------------------------------------\n",
    "    # Build benchmark model then save it.\n",
    "    #-------------------------------------------------------------\n",
    "    model,list_callback = p9_util_benchmark.build_model(p9_util_benchmark.dict_param_benchmark, \\\n",
    "                                                        p9_util_config.dict_param_keras_cnn)\n",
    "    #model = p9_util_benchmark.train_benchmark_model(df_train, df_validate, tokenizer)\n",
    "\n",
    "    filename_model = p9_util_benchmark.build_filename_model()\n",
    "    model.save(filename_model)\n",
    "    \n",
    "        "
   ]
  },
  {
   "cell_type": "markdown",
   "metadata": {},
   "source": [
    "Configuration has to be updated into file `p9_util_benchmark.dict_param_benchmark` in a way that dataset is reloaded and model is built and trained over the \n",
    "sampling.\n",
    "\n",
    "* Parameter `model_type` is fixed to `'benchmark'`\n",
    "* Parameter `is_dataset_reloaded` is fixed to `True`\n",
    "* Parameter `is_model_reloaded` is fixed to `False`\n",
    "* Parameter `is_tokenizer_reloaded` is fixed to `True`\n"
   ]
  },
  {
   "cell_type": "code",
   "execution_count": 263,
   "metadata": {},
   "outputs": [
    {
     "data": {
      "text/plain": [
       "{'root_directory': './data/benchmark/',\n",
       " 'format_file': '.dill',\n",
       " 'format_model': '.h5',\n",
       " 'root_filename_benchmark': './data/benchmark/df_sample_benchmark_',\n",
       " 'root_filename_model': 'model_jigsaw_',\n",
       " 'n_sample': None,\n",
       " 'n_sample_train': None,\n",
       " 'model_type': 'benchmark',\n",
       " 'is_model_reloaded': False,\n",
       " 'is_embedding_layer': True,\n",
       " 'is_dataset_reloaded': True,\n",
       " 'is_embedding_reloaded': True,\n",
       " 'threshold': 0.5,\n",
       " 'embeddings_dimension': 100,\n",
       " 'val_score_max': True,\n",
       " 'epochs': 10}"
      ]
     },
     "execution_count": 263,
     "metadata": {},
     "output_type": "execute_result"
    }
   ],
   "source": [
    "import p9_util_benchmark\n",
    "p9_util_benchmark.dict_param_benchmark"
   ]
  },
  {
   "cell_type": "code",
   "execution_count": 264,
   "metadata": {},
   "outputs": [
    {
     "name": "stdout",
     "output_type": "stream",
     "text": [
      "None ./data/benchmark/df_sample_benchmark_valid_FULL.dill\n",
      "p5_util.object_load : fileName= ./data/benchmark/df_sample_benchmark_valid_FULL.dill\n",
      "p5_util.object_load : fileName= ./data/benchmark/df_sample_benchmark_train_FULL.dill\n",
      "p5_util.object_load : fileName= ./data/benchmark/tokenizer_FULL.dill\n"
     ]
    }
   ],
   "source": [
    "import pandas as pd\n",
    "from keras.preprocessing.text import Tokenizer\n",
    "from sklearn import model_selection\n",
    "\n",
    "import keras\n",
    "\n",
    "import p5_util\n",
    "import p9_util_benchmark\n",
    "n_sample = p9_util_benchmark.dict_param_benchmark['n_sample']\n",
    "filename_benchmark = p9_util_benchmark.build_filename_benchmark()\n",
    "print(n_sample,filename_benchmark)\n",
    "\n",
    "#-------------------------------------------------------------------------------\n",
    "# Loading or building dataset\n",
    "#-------------------------------------------------------------------------------\n",
    "if p9_util_benchmark.dict_param_benchmark['is_dataset_reloaded'] :\n",
    "   \n",
    "    #-------------------------------------------------------------\n",
    "    # Load validation dataframe\n",
    "    #-------------------------------------------------------------\n",
    "    filename_valid_dataset = p9_util_benchmark.build_filename_benchmark()\n",
    "    df_validate = p5_util.object_load(filename_valid_dataset)\n",
    "\n",
    "    #-------------------------------------------------------------\n",
    "    # Load train dataframe\n",
    "    #-------------------------------------------------------------\n",
    "    filename_train_dataset = p9_util_benchmark.build_filename_benchmark(is_train=True)    \n",
    "    df_train = p5_util.object_load(filename_train_dataset)\n",
    "    \n",
    "    #-------------------------------------------------------------\n",
    "    # Load text tokenizer for data-preparation.\n",
    "    #-------------------------------------------------------------\n",
    "    tokenizer = p5_util.object_load(p9_util_benchmark.build_filename_tokenizer())\n",
    "else :\n",
    "    #-------------------------------------------------------------\n",
    "    # Build dataset for train and validation, \n",
    "    #-------------------------------------------------------------\n",
    "    df_train = pd.read_csv('./data/train.csv.zip', compression='zip', header=0, sep=',', quotechar='\"')\n",
    "    df_train['comment_text'] = df_train['comment_text'].apply(lambda x : x.lower())\n",
    "    df_train['comment_text'] = df_train['comment_text'].astype(str)\n",
    "\n",
    "    df_train = p9_util_benchmark.convert_dataframe_to_bool(df_train, \\\n",
    "                                                           dict_param_benchmark_=p9_util_benchmark.dict_param_benchmark)\n",
    "\n",
    "    df_train, df_validate = model_selection.train_test_split(df_train, test_size=0.2)\n",
    "    print('%d train comments, %d validation comments' % (len(df_train), len(df_validate)))\n",
    "    \n",
    "    #-------------------------------------------------------------\n",
    "    # Save validation dataset into a file.\n",
    "    #-------------------------------------------------------------\n",
    "    if n_sample is None :\n",
    "        n_sample = len(df_validate)\n",
    "    else :\n",
    "        pass    \n",
    "    filename_valid_dataset = p9_util_benchmark.build_filename_benchmark()\n",
    "    p5_util.object_dump(df_validate.sample(n_sample),filename_valid_dataset,is_verbose=True )\n",
    "    \n",
    "    #-------------------------------------------------------------\n",
    "    # Save train dataset into a file.\n",
    "    #-------------------------------------------------------------\n",
    "    filename_train_dataset = p9_util_benchmark.build_filename_benchmark(is_train=True)\n",
    "    p5_util.object_dump(df_train,filename_train_dataset,is_verbose=True )\n",
    "    \n",
    "    #-------------------------------------------------------------\n",
    "    # Create a text tokenizer and save it.\n",
    "    #-------------------------------------------------------------\n",
    "    tokenizer = Tokenizer(num_words=p9_util_benchmark.MAX_NUM_WORDS)\n",
    "    tokenizer.fit_on_texts(df_train[p9_util_benchmark.TEXT_COLUMN])\n",
    "    filename_tokenizer = p9_util_benchmark.build_filename_tokenizer()\n",
    "    p5_util.object_dump(tokenizer,filename_tokenizer, is_verbose=True )\n",
    "    \n",
    "    #-------------------------------------------------------------\n",
    "    # Save parameters configuration into a file.\n",
    "    #-------------------------------------------------------------\n",
    "    filename_param = p9_util_benchmark.build_filename_param(p9_util_benchmark.dict_param_benchmark)\n",
    "    p5_util.object_dump(p9_util_benchmark.dict_param_benchmark,filename_param, is_verbose=True )"
   ]
  },
  {
   "cell_type": "markdown",
   "metadata": {},
   "source": [
    "Then train dataset is sampled to 100K observations.\n",
    "\n",
    "Validation dataset is sampled to 10K observations."
   ]
  },
  {
   "cell_type": "code",
   "execution_count": 265,
   "metadata": {},
   "outputs": [],
   "source": [
    "df_train = df_train.sample(100000)\n",
    "df_validate = df_validate.sample(10000)"
   ]
  },
  {
   "cell_type": "markdown",
   "metadata": {},
   "source": [
    "Data-preparation is processed the same way then with full observations.\n",
    "\n",
    "CNN model is built taking into account saame configuration defined into `p9_util_config.dict_param_keras_cnn`\n",
    "\n",
    "The followings parameters are updated : \n",
    "\n",
    "* `n_sample` is fixed to the size of the validation dataset\n",
    "* `n_sample_train` is fixed to the size of the train dataset\n",
    "* Other parameters for configuration remain with same value\n",
    "\n"
   ]
  },
  {
   "cell_type": "code",
   "execution_count": 266,
   "metadata": {},
   "outputs": [
    {
     "data": {
      "text/plain": [
       "{'root_directory': './data/benchmark/',\n",
       " 'format_file': '.dill',\n",
       " 'format_model': '.h5',\n",
       " 'root_filename_benchmark': './data/benchmark/df_sample_benchmark_',\n",
       " 'root_filename_model': 'model_jigsaw_',\n",
       " 'n_sample': 10000,\n",
       " 'n_sample_train': 100000,\n",
       " 'model_type': 'benchmark',\n",
       " 'is_model_reloaded': False,\n",
       " 'is_embedding_layer': True,\n",
       " 'is_dataset_reloaded': True,\n",
       " 'is_embedding_reloaded': True,\n",
       " 'threshold': 0.5,\n",
       " 'embeddings_dimension': 100,\n",
       " 'val_score_max': True,\n",
       " 'epochs': 10}"
      ]
     },
     "execution_count": 266,
     "metadata": {},
     "output_type": "execute_result"
    }
   ],
   "source": [
    "p9_util_benchmark.dict_param_benchmark['n_sample'] = len(df_validate)\n",
    "p9_util_benchmark.dict_param_benchmark['n_sample_train'] = len(df_train)\n",
    "\n",
    "p9_util_benchmark.dict_param_benchmark"
   ]
  },
  {
   "cell_type": "markdown",
   "metadata": {},
   "source": [
    "Model is trained and the model with the bests performances is kept and saved on hard drive.\n",
    "\n",
    "Callback is updated with path used to save model."
   ]
  },
  {
   "cell_type": "code",
   "execution_count": 267,
   "metadata": {},
   "outputs": [
    {
     "data": {
      "text/plain": [
       "'./data/benchmark/model_jigsaw_benchmark_sample100000_threshold0.5_best.h5'"
      ]
     },
     "execution_count": 267,
     "metadata": {},
     "output_type": "execute_result"
    }
   ],
   "source": [
    "import p9_util_benchmark\n",
    "filepath=p9_util_benchmark.build_filename_model()\n",
    "list_callback[0].filepath = filepath\n",
    "list_callback[0].filepath"
   ]
  },
  {
   "cell_type": "code",
   "execution_count": 268,
   "metadata": {},
   "outputs": [
    {
     "name": "stdout",
     "output_type": "stream",
     "text": [
      "Data preparation...\n",
      "\n",
      "Batch size= 500\n",
      "Model training...\n",
      "Train on 100000 samples, validate on 10000 samples\n",
      "Epoch 1/10\n",
      "100000/100000 [==============================] - 67s 667us/step - loss: 0.2571 - acc: 0.9201 - val_loss: 0.1912 - val_acc: 0.9311\n",
      "\n",
      "Epoch 00001: val_acc improved from -inf to 0.93110, saving model to ./data/benchmark/model_jigsaw_benchmark_sample100000_threshold0.5_best.h5\n",
      "Epoch 2/10\n",
      "100000/100000 [==============================] - 62s 616us/step - loss: 0.1926 - acc: 0.9334 - val_loss: 0.1704 - val_acc: 0.9394\n",
      "\n",
      "Epoch 00002: val_acc improved from 0.93110 to 0.93940, saving model to ./data/benchmark/model_jigsaw_benchmark_sample100000_threshold0.5_best.h5\n",
      "Epoch 3/10\n",
      "100000/100000 [==============================] - 57s 566us/step - loss: 0.1728 - acc: 0.9401 - val_loss: 0.1605 - val_acc: 0.9429\n",
      "\n",
      "Epoch 00003: val_acc improved from 0.93940 to 0.94290, saving model to ./data/benchmark/model_jigsaw_benchmark_sample100000_threshold0.5_best.h5\n",
      "Epoch 4/10\n",
      "100000/100000 [==============================] - 57s 569us/step - loss: 0.1603 - acc: 0.9433 - val_loss: 0.1588 - val_acc: 0.9437\n",
      "\n",
      "Epoch 00004: val_acc improved from 0.94290 to 0.94370, saving model to ./data/benchmark/model_jigsaw_benchmark_sample100000_threshold0.5_best.h5\n",
      "Epoch 5/10\n",
      "100000/100000 [==============================] - 57s 571us/step - loss: 0.1514 - acc: 0.9450 - val_loss: 0.1605 - val_acc: 0.9428\n",
      "\n",
      "Epoch 00005: val_acc did not improve from 0.94370\n",
      "Epoch 6/10\n",
      "100000/100000 [==============================] - 57s 568us/step - loss: 0.1427 - acc: 0.9475 - val_loss: 0.1836 - val_acc: 0.9412\n",
      "\n",
      "Epoch 00006: val_acc did not improve from 0.94370\n",
      "Epoch 7/10\n",
      "100000/100000 [==============================] - 71s 709us/step - loss: 0.1347 - acc: 0.9500 - val_loss: 0.1639 - val_acc: 0.9393\n",
      "\n",
      "Epoch 00007: val_acc did not improve from 0.94370\n",
      "Epoch 8/10\n",
      "100000/100000 [==============================] - 66s 665us/step - loss: 0.1268 - acc: 0.9530 - val_loss: 0.1886 - val_acc: 0.9455\n",
      "\n",
      "Epoch 00008: val_acc improved from 0.94370 to 0.94550, saving model to ./data/benchmark/model_jigsaw_benchmark_sample100000_threshold0.5_best.h5\n",
      "Epoch 9/10\n",
      "100000/100000 [==============================] - 55s 548us/step - loss: 0.1210 - acc: 0.9536 - val_loss: 0.2054 - val_acc: 0.9420\n",
      "\n",
      "Epoch 00009: val_acc did not improve from 0.94550\n",
      "Epoch 10/10\n",
      "100000/100000 [==============================] - 54s 543us/step - loss: 0.1122 - acc: 0.9566 - val_loss: 0.1999 - val_acc: 0.9431\n",
      "\n",
      "Epoch 00010: val_acc did not improve from 0.94550\n"
     ]
    }
   ],
   "source": [
    "import p9_util_config\n",
    "import p9_util_benchmark\n",
    "model, history = p9_util_benchmark.train_benchmark_model(model, df_train, df_validate, tokenizer,\n",
    "                                                         dict_param_keras_cnn=p9_util_config.dict_param_keras_cnn,\n",
    "                                                        list_callback = list_callback)"
   ]
  },
  {
   "cell_type": "code",
   "execution_count": 256,
   "metadata": {},
   "outputs": [
    {
     "data": {
      "image/png": "[encoded data removed]",
      "text/plain": [
       "<Figure size 576x432 with 1 Axes>"
      ]
     },
     "metadata": {
      "needs_background": "light"
     },
     "output_type": "display_data"
    },
    {
     "data": {
      "image/png": "[encoded data removed]",
      "text/plain": [
       "<Figure size 576x432 with 1 Axes>"
      ]
     },
     "metadata": {
      "needs_background": "light"
     },
     "output_type": "display_data"
    }
   ],
   "source": [
    "import p7_util\n",
    "#legend='length='+str(max_length)\n",
    "legend = \"Benchmark with 100K docs\"\n",
    "model = None\n",
    "\n",
    "list_model_acc_value = p7_util.p7_plot_cnn_history(model, None, None, history=history, legend=legend)"
   ]
  },
  {
   "cell_type": "markdown",
   "metadata": {},
   "source": [
    "## Bias evaluation"
   ]
  },
  {
   "cell_type": "code",
   "execution_count": 246,
   "metadata": {},
   "outputs": [
    {
     "data": {
      "text/html": [
       "<div>\n",
       "<style scoped>\n",
       "    .dataframe tbody tr th:only-of-type {\n",
       "        vertical-align: middle;\n",
       "    }\n",
       "\n",
       "    .dataframe tbody tr th {\n",
       "        vertical-align: top;\n",
       "    }\n",
       "\n",
       "    .dataframe thead th {\n",
       "        text-align: right;\n",
       "    }\n",
       "</style>\n",
       "<table border=\"1\" class=\"dataframe\">\n",
       "  <thead>\n",
       "    <tr style=\"text-align: right;\">\n",
       "      <th></th>\n",
       "      <th>bnsp_auc</th>\n",
       "      <th>bpsn_auc</th>\n",
       "      <th>subgroup</th>\n",
       "      <th>subgroup_auc</th>\n",
       "      <th>subgroup_size</th>\n",
       "    </tr>\n",
       "  </thead>\n",
       "  <tbody>\n",
       "    <tr>\n",
       "      <th>6</th>\n",
       "      <td>0.945132</td>\n",
       "      <td>0.744650</td>\n",
       "      <td>black</td>\n",
       "      <td>0.743923</td>\n",
       "      <td>90</td>\n",
       "    </tr>\n",
       "    <tr>\n",
       "      <th>4</th>\n",
       "      <td>0.902987</td>\n",
       "      <td>0.846944</td>\n",
       "      <td>jewish</td>\n",
       "      <td>0.768519</td>\n",
       "      <td>35</td>\n",
       "    </tr>\n",
       "    <tr>\n",
       "      <th>2</th>\n",
       "      <td>0.972565</td>\n",
       "      <td>0.750301</td>\n",
       "      <td>homosexual_gay_or_lesbian</td>\n",
       "      <td>0.812585</td>\n",
       "      <td>60</td>\n",
       "    </tr>\n",
       "    <tr>\n",
       "      <th>7</th>\n",
       "      <td>0.963464</td>\n",
       "      <td>0.785766</td>\n",
       "      <td>white</td>\n",
       "      <td>0.814673</td>\n",
       "      <td>128</td>\n",
       "    </tr>\n",
       "    <tr>\n",
       "      <th>1</th>\n",
       "      <td>0.919671</td>\n",
       "      <td>0.893040</td>\n",
       "      <td>female</td>\n",
       "      <td>0.870294</td>\n",
       "      <td>295</td>\n",
       "    </tr>\n",
       "    <tr>\n",
       "      <th>5</th>\n",
       "      <td>0.972022</td>\n",
       "      <td>0.816112</td>\n",
       "      <td>muslim</td>\n",
       "      <td>0.890244</td>\n",
       "      <td>116</td>\n",
       "    </tr>\n",
       "    <tr>\n",
       "      <th>3</th>\n",
       "      <td>0.934728</td>\n",
       "      <td>0.926898</td>\n",
       "      <td>christian</td>\n",
       "      <td>0.920490</td>\n",
       "      <td>249</td>\n",
       "    </tr>\n",
       "    <tr>\n",
       "      <th>0</th>\n",
       "      <td>0.964967</td>\n",
       "      <td>0.892945</td>\n",
       "      <td>male</td>\n",
       "      <td>0.928365</td>\n",
       "      <td>266</td>\n",
       "    </tr>\n",
       "    <tr>\n",
       "      <th>8</th>\n",
       "      <td>0.970565</td>\n",
       "      <td>0.866941</td>\n",
       "      <td>psychiatric_or_mental_illness</td>\n",
       "      <td>0.938462</td>\n",
       "      <td>31</td>\n",
       "    </tr>\n",
       "  </tbody>\n",
       "</table>\n",
       "</div>"
      ],
      "text/plain": [
       "   bnsp_auc  bpsn_auc                       subgroup  subgroup_auc  \\\n",
       "6  0.945132  0.744650                          black      0.743923   \n",
       "4  0.902987  0.846944                         jewish      0.768519   \n",
       "2  0.972565  0.750301      homosexual_gay_or_lesbian      0.812585   \n",
       "7  0.963464  0.785766                          white      0.814673   \n",
       "1  0.919671  0.893040                         female      0.870294   \n",
       "5  0.972022  0.816112                         muslim      0.890244   \n",
       "3  0.934728  0.926898                      christian      0.920490   \n",
       "0  0.964967  0.892945                           male      0.928365   \n",
       "8  0.970565  0.866941  psychiatric_or_mental_illness      0.938462   \n",
       "\n",
       "   subgroup_size  \n",
       "6             90  \n",
       "4             35  \n",
       "2             60  \n",
       "7            128  \n",
       "1            295  \n",
       "5            116  \n",
       "3            249  \n",
       "0            266  \n",
       "8             31  "
      ]
     },
     "execution_count": 246,
     "metadata": {},
     "output_type": "execute_result"
    }
   ],
   "source": [
    "import p9_util_metrics\n",
    "df_bias_metrics = p9_util_metrics.compute_bias_metrics_for_model(df_validate, \n",
    "                                                                 p9_util_metrics.IDENTITY_COLUMNS, \n",
    "                                                                 MODEL_NAME, \n",
    "                                                                 p9_util_benchmark.TOXICITY_COLUMN)\n",
    "df_bias_metrics"
   ]
  },
  {
   "cell_type": "code",
   "execution_count": 247,
   "metadata": {
    "scrolled": true
   },
   "outputs": [
    {
     "name": "stdout",
     "output_type": "stream",
     "text": [
      "Global AUC= 0.9396671879981731\n"
     ]
    }
   ],
   "source": [
    "import p9_util_metrics\n",
    "overall_auc = p9_util_metrics.calculate_overall_auc(df_validate, MODEL_NAME, p9_util_metrics.TOXICITY_COLUMN)\n",
    "print(\"Global AUC= {}\".format(overall_auc))"
   ]
  },
  {
   "cell_type": "code",
   "execution_count": 248,
   "metadata": {},
   "outputs": [
    {
     "name": "stdout",
     "output_type": "stream",
     "text": [
      "Bias score contribution : 0.6517429674190783\n"
     ]
    },
    {
     "data": {
      "text/plain": [
       "0.8866597644186216"
      ]
     },
     "execution_count": 248,
     "metadata": {},
     "output_type": "execute_result"
    }
   ],
   "source": [
    "import p9_util_metrics\n",
    "\n",
    "p9_util_metrics.get_final_metric(df_bias_metrics, overall_auc)"
   ]
  },
  {
   "cell_type": "markdown",
   "metadata": {},
   "source": [
    "## Binary classification performances"
   ]
  },
  {
   "cell_type": "markdown",
   "metadata": {},
   "source": [
    "    Convert predictions and targets into binary values"
   ]
  },
  {
   "cell_type": "code",
   "execution_count": 249,
   "metadata": {},
   "outputs": [],
   "source": [
    "df_validate['bool_predict'] = np.where(df_validate[MODEL_NAME] >= threshold, True, False)\n",
    "\n",
    "df_validate['bin_predict'] = np.where(df_validate[MODEL_NAME] >= threshold, 1, 0)\n",
    "\n",
    "df_validate['bin_target'] = np.where(df_validate['target'] == True, 1, 0)"
   ]
  },
  {
   "cell_type": "code",
   "execution_count": 251,
   "metadata": {},
   "outputs": [
    {
     "data": {
      "text/html": [
       "<div>\n",
       "<style scoped>\n",
       "    .dataframe tbody tr th:only-of-type {\n",
       "        vertical-align: middle;\n",
       "    }\n",
       "\n",
       "    .dataframe tbody tr th {\n",
       "        vertical-align: top;\n",
       "    }\n",
       "\n",
       "    .dataframe thead th {\n",
       "        text-align: right;\n",
       "    }\n",
       "</style>\n",
       "<table border=\"1\" class=\"dataframe\">\n",
       "  <thead>\n",
       "    <tr style=\"text-align: right;\">\n",
       "      <th></th>\n",
       "      <th>target</th>\n",
       "      <th>predict</th>\n",
       "      <th>bool_predict</th>\n",
       "      <th>bin_target</th>\n",
       "      <th>bin_predict</th>\n",
       "    </tr>\n",
       "  </thead>\n",
       "  <tbody>\n",
       "    <tr>\n",
       "      <th>940815</th>\n",
       "      <td>False</td>\n",
       "      <td>0.056333</td>\n",
       "      <td>False</td>\n",
       "      <td>0</td>\n",
       "      <td>0</td>\n",
       "    </tr>\n",
       "    <tr>\n",
       "      <th>1202215</th>\n",
       "      <td>False</td>\n",
       "      <td>0.003530</td>\n",
       "      <td>False</td>\n",
       "      <td>0</td>\n",
       "      <td>0</td>\n",
       "    </tr>\n",
       "    <tr>\n",
       "      <th>852267</th>\n",
       "      <td>False</td>\n",
       "      <td>0.010207</td>\n",
       "      <td>False</td>\n",
       "      <td>0</td>\n",
       "      <td>0</td>\n",
       "    </tr>\n",
       "  </tbody>\n",
       "</table>\n",
       "</div>"
      ],
      "text/plain": [
       "         target   predict  bool_predict  bin_target  bin_predict\n",
       "940815    False  0.056333         False           0            0\n",
       "1202215   False  0.003530         False           0            0\n",
       "852267    False  0.010207         False           0            0"
      ]
     },
     "execution_count": 251,
     "metadata": {},
     "output_type": "execute_result"
    }
   ],
   "source": [
    "df_validate[['target', MODEL_NAME, 'bool_predict','bin_target', 'bin_predict']].sample(3)"
   ]
  },
  {
   "cell_type": "code",
   "execution_count": 255,
   "metadata": {},
   "outputs": [
    {
     "name": "stdout",
     "output_type": "stream",
     "text": [
      "[0, 1]\n",
      "\n",
      "Confusion matrix for all classes : \n",
      "\n",
      "[[9044  148]\n",
      " [ 378  430]]\n",
      "\n",
      "Normalized confusion matrix\n",
      "[[0.98389904 0.01610096]\n",
      " [0.46782178 0.53217822]]\n",
      "Confusion matrix, without normalization\n",
      "[[9044  148]\n",
      " [ 378  430]]\n",
      "\n",
      "TP rate = [0.         0.53217822 1.        ]\n",
      "FP rate = [0.         0.01610096 1.        ]\n",
      "AUC = 0.7580386302337806\n"
     ]
    },
    {
     "data": {
      "text/plain": [
       "array([0, 0, 0, ..., 0, 0, 0])"
      ]
     },
     "execution_count": 255,
     "metadata": {},
     "output_type": "execute_result"
    },
    {
     "data": {
      "image/png": "[encoded data removed]",
      "text/plain": [
       "<Figure size 432x288 with 1 Axes>"
      ]
     },
     "metadata": {
      "needs_background": "light"
     },
     "output_type": "display_data"
    },
    {
     "data": {
      "image/png": "[encoded data removed]",
      "text/plain": [
       "<Figure size 576x576 with 2 Axes>"
      ]
     },
     "metadata": {
      "needs_background": "light"
     },
     "output_type": "display_data"
    },
    {
     "data": {
      "image/png": "[encoded data removed]",
      "text/plain": [
       "<Figure size 576x576 with 2 Axes>"
      ]
     },
     "metadata": {
      "needs_background": "light"
     },
     "output_type": "display_data"
    },
    {
     "data": {
      "image/png": "[encoded data removed]",
      "text/plain": [
       "<Figure size 432x432 with 1 Axes>"
      ]
     },
     "metadata": {
      "needs_background": "light"
     },
     "output_type": "display_data"
    }
   ],
   "source": [
    "Xeval=None\n",
    "p9_util.display_class_performance(model, Xeval, df_validate['bin_target'], \\\n",
    "                              is_binary=True, y_pred= df_validate['bin_predict'], nb_classes=2,\\\n",
    "                              title=\"Confusion matrix\") "
   ]
  },
  {
   "cell_type": "markdown",
   "metadata": {},
   "source": [
    "# <font color='blus'>3. Submission algorithm</font>\n",
    "\n",
    "    Submission algorithm is compared with benchmark algorithm using benchmark data-preparation.\n",
    "    \n",
    "    Switching from benchmark algorithm to submission is achieved thanks to model_type parameter \n",
    "    inside p9_util_benchmark.dict_param_benchmark configuration.\n",
    "    "
   ]
  },
  {
   "cell_type": "code",
   "execution_count": 1,
   "metadata": {},
   "outputs": [],
   "source": [
    "from sklearn import metrics\n",
    "%matplotlib inline\n",
    "\n",
    "%load_ext autoreload\n",
    "%autoreload 2\n",
    "\n",
    "import warnings\n",
    "warnings.filterwarnings('ignore')"
   ]
  },
  {
   "cell_type": "code",
   "execution_count": 132,
   "metadata": {},
   "outputs": [
    {
     "data": {
      "text/plain": [
       "{'root_directory': './data/benchmark/',\n",
       " 'format_file': '.dill',\n",
       " 'format_model': '.h5',\n",
       " 'root_filename_benchmark': './data/benchmark/df_sample_benchmark_',\n",
       " 'root_filename_model': 'model_jigsaw_',\n",
       " 'n_sample': None,\n",
       " 'n_sample_train': None,\n",
       " 'is_dataset_reloaded': True,\n",
       " 'model_type': 'submission',\n",
       " 'is_model_reloaded': True,\n",
       " 'is_embedding_layer': True,\n",
       " 'threshold': 0.5,\n",
       " 'embeddings_dimension': 100,\n",
       " 'val_score_max': True,\n",
       " 'epochs': 10}"
      ]
     },
     "execution_count": 132,
     "metadata": {},
     "output_type": "execute_result"
    }
   ],
   "source": [
    "import p9_util_benchmark\n",
    "p9_util_benchmark.dict_param_benchmark"
   ]
  },
  {
   "cell_type": "code",
   "execution_count": 3,
   "metadata": {},
   "outputs": [
    {
     "name": "stdout",
     "output_type": "stream",
     "text": [
      "None ./data/benchmark/df_sample_benchmark_valid_FULL.dill\n",
      "p5_util.object_load : fileName= ./data/benchmark/df_sample_benchmark_valid_FULL.dill\n",
      "p5_util.object_load : fileName= ./data/benchmark/df_sample_benchmark_train_FULL.dill\n",
      "p5_util.object_load : fileName= ./data/benchmark/tokenizer_FULL.dill\n"
     ]
    }
   ],
   "source": [
    "import pandas as pd\n",
    "from keras.preprocessing.text import Tokenizer\n",
    "from sklearn import model_selection\n",
    "\n",
    "import keras\n",
    "\n",
    "import p5_util\n",
    "import p9_util_benchmark\n",
    "\n",
    "filename = './data/benchmark/model_jigsaw_benchmark.h5'\n",
    "\n",
    "n_sample = p9_util_benchmark.dict_param_benchmark['n_sample']\n",
    "filename_benchmark = p9_util_benchmark.build_filename_benchmark()\n",
    "print(n_sample,filename_benchmark)\n",
    "\n",
    "#-------------------------------------------------------------------------------\n",
    "# Loading or building dataset\n",
    "#-------------------------------------------------------------------------------\n",
    "if p9_util_benchmark.dict_param_benchmark['is_dataset_reloaded'] :\n",
    "   \n",
    "    #-------------------------------------------------------------\n",
    "    # Load validation dataframe\n",
    "    #-------------------------------------------------------------\n",
    "    filename_valid_dataset = p9_util_benchmark.build_filename_benchmark()\n",
    "    df_validate = p5_util.object_load(filename_valid_dataset)\n",
    "\n",
    "    #-------------------------------------------------------------\n",
    "    # Load train dataframe\n",
    "    #-------------------------------------------------------------\n",
    "    filename_train_dataset = p9_util_benchmark.build_filename_benchmark(is_train=True)    \n",
    "    df_train = p5_util.object_load(filename_train_dataset)\n",
    "    \n",
    "    #-------------------------------------------------------------\n",
    "    # Load text tokenizer for data-preparation.\n",
    "    #-------------------------------------------------------------\n",
    "    tokenizer = p5_util.object_load(p9_util_benchmark.build_filename_tokenizer())\n",
    "else :\n",
    "    #-------------------------------------------------------------\n",
    "    # Build dataset for train and validation, \n",
    "    #-------------------------------------------------------------\n",
    "    df_train = pd.read_csv('./data/train.csv.zip', compression='zip', header=0, sep=',', quotechar='\"')\n",
    "    df_train['comment_text'] = df_train['comment_text'].apply(lambda x : x.lower())\n",
    "    df_train['comment_text'] = df_train['comment_text'].astype(str)\n",
    "\n",
    "    df_train = p9_util_benchmark.convert_dataframe_to_bool(df_train, \\\n",
    "                                                           dict_param_benchmark_=p9_util_benchmark.dict_param_benchmark)\n",
    "\n",
    "    df_train, df_validate = model_selection.train_test_split(df_train, test_size=0.2)\n",
    "    print('%d train comments, %d validation comments' % (len(df_train), len(df_validate)))\n",
    "    \n",
    "    #-------------------------------------------------------------\n",
    "    # Save validation dataset into a file.\n",
    "    #-------------------------------------------------------------\n",
    "    if n_sample is None :\n",
    "        n_sample = len(df_validate)\n",
    "    else :\n",
    "        pass    \n",
    "    filename_valid_dataset = p9_util_benchmark.build_filename_benchmark()\n",
    "    p5_util.object_dump(df_validate.sample(n_sample),filename_valid_dataset,is_verbose=True )\n",
    "    \n",
    "    #-------------------------------------------------------------\n",
    "    # Save train dataset into a file.\n",
    "    #-------------------------------------------------------------\n",
    "    filename_train_dataset = p9_util_benchmark.build_filename_benchmark(is_train=True)\n",
    "    p5_util.object_dump(df_train,filename_train_dataset,is_verbose=True )\n",
    "    \n",
    "    #-------------------------------------------------------------\n",
    "    # Create a text tokenizer and save it.\n",
    "    #-------------------------------------------------------------\n",
    "    tokenizer = Tokenizer(num_words=p9_util_benchmark.MAX_NUM_WORDS)\n",
    "    tokenizer.fit_on_texts(df_train[p9_util_benchmark.TEXT_COLUMN])\n",
    "    filename_tokenizer = p9_util_benchmark.build_filename_tokenizer()\n",
    "    p5_util.object_dump(tokenizer,filename_tokenizer, is_verbose=True )\n",
    "    \n",
    "    #-------------------------------------------------------------\n",
    "    # Save parameters configuration into a file.\n",
    "    #-------------------------------------------------------------\n",
    "    filename_param = p9_util_benchmark.build_filename_param(p9_util_benchmark.dict_param_benchmark)\n",
    "    p5_util.object_dump(p9_util_benchmark.dict_param_benchmark,filename_param, is_verbose=True )"
   ]
  },
  {
   "cell_type": "markdown",
   "metadata": {},
   "source": [
    "    Below is the Keras configuration for CNN model."
   ]
  },
  {
   "cell_type": "code",
   "execution_count": 4,
   "metadata": {},
   "outputs": [
    {
     "data": {
      "text/plain": [
       "{'dict_param_keras': {'input_dim': (250, 100),\n",
       "  'batch_size': 500,\n",
       "  'nb_epoch': 10,\n",
       "  'verbose': 1,\n",
       "  'dropout_rate': 0.3,\n",
       "  'regul': (None, None),\n",
       "  'is_batch_normalized': True,\n",
       "  'lr': 0.001,\n",
       "  'nbClasses': 2},\n",
       " 'filter_size': 3,\n",
       " 'stride_size': 1,\n",
       " 'pool_size': 2,\n",
       " 'pool_stride': 2,\n",
       " 'nb_filter': 256,\n",
       " 'conv_layer': 4,\n",
       " 'nb_dense_neuron': 128,\n",
       " 'dense_layer': 1,\n",
       " 'dense_layer_decrease_rate': 1,\n",
       " 'list_channel': [],\n",
       " 'list_filter_channel': []}"
      ]
     },
     "execution_count": 4,
     "metadata": {},
     "output_type": "execute_result"
    }
   ],
   "source": [
    "import p9_util_config\n",
    "p9_util_config.dict_param_keras_cnn"
   ]
  },
  {
   "cell_type": "markdown",
   "metadata": {},
   "source": [
    "    Model is loaded from hard-disk."
   ]
  },
  {
   "cell_type": "code",
   "execution_count": 133,
   "metadata": {},
   "outputs": [
    {
     "name": "stdout",
     "output_type": "stream",
     "text": [
      "Loding model= ./data/benchmark/model_jigsaw_submission_sampleFULL_threshold0.5_best.h5\n"
     ]
    }
   ],
   "source": [
    "import keras\n",
    "import p5_util\n",
    "import p9_util_benchmark\n",
    "\n",
    "#-------------------------------------------------------------------------------\n",
    "# Loading or building model\n",
    "#-------------------------------------------------------------------------------    \n",
    "if p9_util_benchmark.dict_param_benchmark['is_model_reloaded'] :\n",
    "    #-------------------------------------------------------------\n",
    "    # Load benchmark model.\n",
    "    #-------------------------------------------------------------\n",
    "    filename_model = p9_util_benchmark.build_filename_model()\n",
    "    print(\"Loding model= {}\".format(filename_model))\n",
    "    model = keras.models.load_model(filename_model)\n",
    "else :\n",
    "    #-------------------------------------------------------------\n",
    "    # Build benchmark model then save it.\n",
    "    #-------------------------------------------------------------\n",
    "    model,list_callback = p9_util_benchmark.build_model(p9_util_benchmark.dict_param_benchmark, \\\n",
    "                                                        p9_util_config.dict_param_keras_cnn)\n",
    "    #model = p9_util_benchmark.train_benchmark_model(df_train, df_validate, tokenizer)\n",
    "\n",
    "    filename_model = p9_util_benchmark.build_filename_model()\n",
    "    model.save(filename_model)\n",
    "    \n",
    "        "
   ]
  },
  {
   "cell_type": "code",
   "execution_count": 139,
   "metadata": {},
   "outputs": [
    {
     "name": "stdout",
     "output_type": "stream",
     "text": [
      "_________________________________________________________________\n",
      "Layer (type)                 Output Shape              Param #   \n",
      "=================================================================\n",
      "input_1 (InputLayer)         (None, 250)               0         \n",
      "_________________________________________________________________\n",
      "embedding_1 (Embedding)      (None, 250, 100)          35256200  \n",
      "_________________________________________________________________\n",
      "batch_normalization_1 (Batch (None, 250, 100)          400       \n",
      "_________________________________________________________________\n",
      "conv1d_1 (Conv1D)            (None, 250, 256)          51456     \n",
      "_________________________________________________________________\n",
      "max_pooling1d_1 (MaxPooling1 (None, 50, 256)           0         \n",
      "_________________________________________________________________\n",
      "batch_normalization_2 (Batch (None, 50, 256)           1024      \n",
      "_________________________________________________________________\n",
      "conv1d_2 (Conv1D)            (None, 50, 256)           196864    \n",
      "_________________________________________________________________\n",
      "max_pooling1d_2 (MaxPooling1 (None, 10, 256)           0         \n",
      "_________________________________________________________________\n",
      "batch_normalization_3 (Batch (None, 10, 256)           1024      \n",
      "_________________________________________________________________\n",
      "conv1d_3 (Conv1D)            (None, 10, 256)           262400    \n",
      "_________________________________________________________________\n",
      "max_pooling1d_3 (MaxPooling1 (None, 5, 256)            0         \n",
      "_________________________________________________________________\n",
      "flatten_1 (Flatten)          (None, 1280)              0         \n",
      "_________________________________________________________________\n",
      "batch_normalization_4 (Batch (None, 1280)              5120      \n",
      "_________________________________________________________________\n",
      "dropout_1 (Dropout)          (None, 1280)              0         \n",
      "_________________________________________________________________\n",
      "dense_1 (Dense)              (None, 128)               163968    \n",
      "_________________________________________________________________\n",
      "dense_2 (Dense)              (None, 2)                 258       \n",
      "=================================================================\n",
      "Total params: 35,938,714\n",
      "Trainable params: 678,730\n",
      "Non-trainable params: 35,259,984\n",
      "_________________________________________________________________\n"
     ]
    }
   ],
   "source": [
    "model.summary()"
   ]
  },
  {
   "cell_type": "markdown",
   "metadata": {},
   "source": [
    "    Model is trained and best model is kept and saved on hard drive."
   ]
  },
  {
   "cell_type": "code",
   "execution_count": 7,
   "metadata": {},
   "outputs": [
    {
     "name": "stdout",
     "output_type": "stream",
     "text": [
      "Data preparation...\n",
      "\n",
      "Batch size= 500\n",
      "Model training...\n",
      "Train on 1443899 samples, validate on 360975 samples\n",
      "Epoch 1/10\n",
      "1443899/1443899 [==============================] - 3270s 2ms/step - loss: 0.1650 - acc: 0.9424 - val_loss: 0.1541 - val_acc: 0.9447\n",
      "\n",
      "Epoch 00001: val_acc improved from -inf to 0.94469, saving model to ./data/benchmark/model_jigsaw_submission_sampleFULL_threshold0.5_best.h5\n",
      "Epoch 2/10\n",
      "1443899/1443899 [==============================] - 3467s 2ms/step - loss: 0.1425 - acc: 0.9478 - val_loss: 0.1422 - val_acc: 0.9486\n",
      "\n",
      "Epoch 00002: val_acc improved from 0.94469 to 0.94864, saving model to ./data/benchmark/model_jigsaw_submission_sampleFULL_threshold0.5_best.h5\n",
      "Epoch 3/10\n",
      "1443899/1443899 [==============================] - 3792s 3ms/step - loss: 0.1381 - acc: 0.9490 - val_loss: 0.1453 - val_acc: 0.9468\n",
      "\n",
      "Epoch 00003: val_acc did not improve from 0.94864\n",
      "Epoch 4/10\n",
      "1443899/1443899 [==============================] - 2347s 2ms/step - loss: 0.1351 - acc: 0.9500 - val_loss: 0.1420 - val_acc: 0.9473\n",
      "\n",
      "Epoch 00004: val_acc did not improve from 0.94864\n",
      "Epoch 5/10\n",
      "1443899/1443899 [==============================] - 2339s 2ms/step - loss: 0.1322 - acc: 0.9508 - val_loss: 0.1466 - val_acc: 0.9488\n",
      "\n",
      "Epoch 00005: val_acc improved from 0.94864 to 0.94883, saving model to ./data/benchmark/model_jigsaw_submission_sampleFULL_threshold0.5_best.h5\n",
      "Epoch 6/10\n",
      "1443899/1443899 [==============================] - 2340s 2ms/step - loss: 0.1291 - acc: 0.9515 - val_loss: 0.1469 - val_acc: 0.9470\n",
      "\n",
      "Epoch 00006: val_acc did not improve from 0.94883\n",
      "Epoch 7/10\n",
      "1443899/1443899 [==============================] - 2347s 2ms/step - loss: 0.1260 - acc: 0.9525 - val_loss: 0.1458 - val_acc: 0.9485\n",
      "\n",
      "Epoch 00007: val_acc did not improve from 0.94883\n",
      "Epoch 8/10\n",
      "1443899/1443899 [==============================] - 2335s 2ms/step - loss: 0.1227 - acc: 0.9533 - val_loss: 0.1568 - val_acc: 0.9482\n",
      "\n",
      "Epoch 00008: val_acc did not improve from 0.94883\n",
      "Epoch 9/10\n",
      "1443899/1443899 [==============================] - 2339s 2ms/step - loss: 0.1187 - acc: 0.9545 - val_loss: 0.1595 - val_acc: 0.9480\n",
      "\n",
      "Epoch 00009: val_acc did not improve from 0.94883\n",
      "Epoch 10/10\n",
      "1443899/1443899 [==============================] - 2337s 2ms/step - loss: 0.1149 - acc: 0.9558 - val_loss: 0.1773 - val_acc: 0.9473\n",
      "\n",
      "Epoch 00010: val_acc did not improve from 0.94883\n"
     ]
    }
   ],
   "source": [
    "import p9_util_config\n",
    "import p9_util_benchmark\n",
    "model, history = p9_util_benchmark.train_benchmark_model(model, df_train, df_validate, tokenizer,\n",
    "                                                         dict_param_keras_cnn=p9_util_config.dict_param_keras_cnn,\n",
    "                                                        list_callback = list_callback)"
   ]
  },
  {
   "cell_type": "code",
   "execution_count": 8,
   "metadata": {},
   "outputs": [
    {
     "name": "stdout",
     "output_type": "stream",
     "text": [
      "object_dump: file name= ./data/benchmark/history_submission_100D_FULL_.dill\n"
     ]
    }
   ],
   "source": [
    "import p5_util\n",
    "import p9_util_benchmark\n",
    "\n",
    "filename_history = p9_util_benchmark.build_filename_history(p9_util_benchmark.dict_param_benchmark)\n",
    "p5_util.object_dump(history,filename_history, is_verbose=True)"
   ]
  },
  {
   "cell_type": "markdown",
   "metadata": {},
   "source": [
    "    Reload model with best performances."
   ]
  },
  {
   "cell_type": "code",
   "execution_count": 9,
   "metadata": {},
   "outputs": [
    {
     "name": "stdout",
     "output_type": "stream",
     "text": [
      "_________________________________________________________________\n",
      "Layer (type)                 Output Shape              Param #   \n",
      "=================================================================\n",
      "input_1 (InputLayer)         (None, 250)               0         \n",
      "_________________________________________________________________\n",
      "embedding_1 (Embedding)      (None, 250, 100)          35256200  \n",
      "_________________________________________________________________\n",
      "batch_normalization_1 (Batch (None, 250, 100)          400       \n",
      "_________________________________________________________________\n",
      "conv1d_1 (Conv1D)            (None, 250, 256)          51456     \n",
      "_________________________________________________________________\n",
      "max_pooling1d_1 (MaxPooling1 (None, 50, 256)           0         \n",
      "_________________________________________________________________\n",
      "batch_normalization_2 (Batch (None, 50, 256)           1024      \n",
      "_________________________________________________________________\n",
      "conv1d_2 (Conv1D)            (None, 50, 256)           196864    \n",
      "_________________________________________________________________\n",
      "max_pooling1d_2 (MaxPooling1 (None, 10, 256)           0         \n",
      "_________________________________________________________________\n",
      "batch_normalization_3 (Batch (None, 10, 256)           1024      \n",
      "_________________________________________________________________\n",
      "conv1d_3 (Conv1D)            (None, 10, 256)           262400    \n",
      "_________________________________________________________________\n",
      "max_pooling1d_3 (MaxPooling1 (None, 5, 256)            0         \n",
      "_________________________________________________________________\n",
      "flatten_1 (Flatten)          (None, 1280)              0         \n",
      "_________________________________________________________________\n",
      "batch_normalization_4 (Batch (None, 1280)              5120      \n",
      "_________________________________________________________________\n",
      "dropout_1 (Dropout)          (None, 1280)              0         \n",
      "_________________________________________________________________\n",
      "dense_1 (Dense)              (None, 128)               163968    \n",
      "_________________________________________________________________\n",
      "dense_2 (Dense)              (None, 2)                 258       \n",
      "=================================================================\n",
      "Total params: 35,938,714\n",
      "Trainable params: 678,730\n",
      "Non-trainable params: 35,259,984\n",
      "_________________________________________________________________\n"
     ]
    }
   ],
   "source": [
    "import p9_util_keras\n",
    "filename = './data/benchmark/model_jigsaw_submission_sampleFULL_threshold0.5_best.h5'\n",
    "model = p9_util_keras.load_model(filename)"
   ]
  },
  {
   "cell_type": "markdown",
   "metadata": {},
   "source": [
    "    Compute predictions over data for validation with best model"
   ]
  },
  {
   "cell_type": "code",
   "execution_count": 138,
   "metadata": {},
   "outputs": [
    {
     "name": "stdout",
     "output_type": "stream",
     "text": [
      "360975/360975 [==============================] - 428s 1ms/step\n"
     ]
    }
   ],
   "source": [
    "import p9_util_benchmark\n",
    "MODEL_NAME = 'predict'\n",
    "\n",
    "X_valid = p9_util_benchmark.pad_text( df_validate[p9_util_benchmark.TEXT_COLUMN],tokenizer)\n",
    "df_validate[MODEL_NAME] = model.predict(X_valid, verbose=1)[:, 1]"
   ]
  },
  {
   "cell_type": "markdown",
   "metadata": {},
   "source": [
    "    Compute bias metrics"
   ]
  },
  {
   "cell_type": "code",
   "execution_count": 169,
   "metadata": {},
   "outputs": [
    {
     "data": {
      "text/html": [
       "<div>\n",
       "<style scoped>\n",
       "    .dataframe tbody tr th:only-of-type {\n",
       "        vertical-align: middle;\n",
       "    }\n",
       "\n",
       "    .dataframe tbody tr th {\n",
       "        vertical-align: top;\n",
       "    }\n",
       "\n",
       "    .dataframe thead th {\n",
       "        text-align: right;\n",
       "    }\n",
       "</style>\n",
       "<table border=\"1\" class=\"dataframe\">\n",
       "  <thead>\n",
       "    <tr style=\"text-align: right;\">\n",
       "      <th></th>\n",
       "      <th>bnsp_auc</th>\n",
       "      <th>bpsn_auc</th>\n",
       "      <th>subgroup</th>\n",
       "      <th>subgroup_auc</th>\n",
       "      <th>subgroup_size</th>\n",
       "    </tr>\n",
       "  </thead>\n",
       "  <tbody>\n",
       "    <tr>\n",
       "      <th>6</th>\n",
       "      <td>0.966469</td>\n",
       "      <td>0.740035</td>\n",
       "      <td>black</td>\n",
       "      <td>0.800221</td>\n",
       "      <td>3006</td>\n",
       "    </tr>\n",
       "    <tr>\n",
       "      <th>2</th>\n",
       "      <td>0.969815</td>\n",
       "      <td>0.751545</td>\n",
       "      <td>homosexual_gay_or_lesbian</td>\n",
       "      <td>0.814692</td>\n",
       "      <td>2221</td>\n",
       "    </tr>\n",
       "    <tr>\n",
       "      <th>7</th>\n",
       "      <td>0.970046</td>\n",
       "      <td>0.757697</td>\n",
       "      <td>white</td>\n",
       "      <td>0.815955</td>\n",
       "      <td>5077</td>\n",
       "    </tr>\n",
       "    <tr>\n",
       "      <th>5</th>\n",
       "      <td>0.964107</td>\n",
       "      <td>0.795942</td>\n",
       "      <td>muslim</td>\n",
       "      <td>0.838105</td>\n",
       "      <td>4262</td>\n",
       "    </tr>\n",
       "    <tr>\n",
       "      <th>4</th>\n",
       "      <td>0.948720</td>\n",
       "      <td>0.850942</td>\n",
       "      <td>jewish</td>\n",
       "      <td>0.852908</td>\n",
       "      <td>1509</td>\n",
       "    </tr>\n",
       "    <tr>\n",
       "      <th>8</th>\n",
       "      <td>0.961080</td>\n",
       "      <td>0.833679</td>\n",
       "      <td>psychiatric_or_mental_illness</td>\n",
       "      <td>0.868066</td>\n",
       "      <td>982</td>\n",
       "    </tr>\n",
       "    <tr>\n",
       "      <th>0</th>\n",
       "      <td>0.954104</td>\n",
       "      <td>0.867933</td>\n",
       "      <td>male</td>\n",
       "      <td>0.885497</td>\n",
       "      <td>9050</td>\n",
       "    </tr>\n",
       "    <tr>\n",
       "      <th>1</th>\n",
       "      <td>0.951559</td>\n",
       "      <td>0.875196</td>\n",
       "      <td>female</td>\n",
       "      <td>0.890155</td>\n",
       "      <td>10671</td>\n",
       "    </tr>\n",
       "    <tr>\n",
       "      <th>3</th>\n",
       "      <td>0.940989</td>\n",
       "      <td>0.908634</td>\n",
       "      <td>christian</td>\n",
       "      <td>0.907710</td>\n",
       "      <td>8081</td>\n",
       "    </tr>\n",
       "  </tbody>\n",
       "</table>\n",
       "</div>"
      ],
      "text/plain": [
       "   bnsp_auc  bpsn_auc                       subgroup  subgroup_auc  \\\n",
       "6  0.966469  0.740035                          black      0.800221   \n",
       "2  0.969815  0.751545      homosexual_gay_or_lesbian      0.814692   \n",
       "7  0.970046  0.757697                          white      0.815955   \n",
       "5  0.964107  0.795942                         muslim      0.838105   \n",
       "4  0.948720  0.850942                         jewish      0.852908   \n",
       "8  0.961080  0.833679  psychiatric_or_mental_illness      0.868066   \n",
       "0  0.954104  0.867933                           male      0.885497   \n",
       "1  0.951559  0.875196                         female      0.890155   \n",
       "3  0.940989  0.908634                      christian      0.907710   \n",
       "\n",
       "   subgroup_size  \n",
       "6           3006  \n",
       "2           2221  \n",
       "7           5077  \n",
       "5           4262  \n",
       "4           1509  \n",
       "8            982  \n",
       "0           9050  \n",
       "1          10671  \n",
       "3           8081  "
      ]
     },
     "execution_count": 169,
     "metadata": {},
     "output_type": "execute_result"
    }
   ],
   "source": [
    "import p9_util_metrics\n",
    "df_bias_metrics = p9_util_metrics.compute_bias_metrics_for_model(df_validate, \n",
    "                                                                 p9_util_metrics.IDENTITY_COLUMNS, \n",
    "                                                                 MODEL_NAME, \n",
    "                                                                 p9_util_benchmark.TOXICITY_COLUMN)\n",
    "df_bias_metrics"
   ]
  },
  {
   "cell_type": "code",
   "execution_count": 170,
   "metadata": {},
   "outputs": [
    {
     "name": "stdout",
     "output_type": "stream",
     "text": [
      "\n",
      "Overall AUC= 0.9381508226117838\n",
      "Bias score contribution : 0.6535991576775056\n"
     ]
    },
    {
     "data": {
      "text/plain": [
       "0.8881368633304516"
      ]
     },
     "execution_count": 170,
     "metadata": {},
     "output_type": "execute_result"
    }
   ],
   "source": [
    "import p9_util_metrics\n",
    "overall_auc = p9_util_metrics.calculate_overall_auc(df_validate, MODEL_NAME, p9_util_metrics.TOXICITY_COLUMN)\n",
    "print(\"\\nOverall AUC= {}\".format(overall_auc))\n",
    "p9_util_metrics.get_final_metric(df_bias_metrics, overall_auc)"
   ]
  },
  {
   "cell_type": "markdown",
   "metadata": {},
   "source": [
    "    Evaluate binary classification performances."
   ]
  },
  {
   "cell_type": "code",
   "execution_count": 164,
   "metadata": {},
   "outputs": [
    {
     "data": {
      "text/html": [
       "<div>\n",
       "<style scoped>\n",
       "    .dataframe tbody tr th:only-of-type {\n",
       "        vertical-align: middle;\n",
       "    }\n",
       "\n",
       "    .dataframe tbody tr th {\n",
       "        vertical-align: top;\n",
       "    }\n",
       "\n",
       "    .dataframe thead th {\n",
       "        text-align: right;\n",
       "    }\n",
       "</style>\n",
       "<table border=\"1\" class=\"dataframe\">\n",
       "  <thead>\n",
       "    <tr style=\"text-align: right;\">\n",
       "      <th></th>\n",
       "      <th>id</th>\n",
       "      <th>target</th>\n",
       "      <th>comment_text</th>\n",
       "      <th>severe_toxicity</th>\n",
       "      <th>obscene</th>\n",
       "      <th>identity_attack</th>\n",
       "      <th>insult</th>\n",
       "      <th>threat</th>\n",
       "      <th>asian</th>\n",
       "      <th>atheist</th>\n",
       "      <th>...</th>\n",
       "      <th>likes</th>\n",
       "      <th>disagree</th>\n",
       "      <th>sexual_explicit</th>\n",
       "      <th>identity_annotator_count</th>\n",
       "      <th>toxicity_annotator_count</th>\n",
       "      <th>predict</th>\n",
       "      <th>bool_pred</th>\n",
       "      <th>bin_pred</th>\n",
       "      <th>bin_target</th>\n",
       "      <th>bool_target</th>\n",
       "    </tr>\n",
       "  </thead>\n",
       "  <tbody>\n",
       "    <tr>\n",
       "      <th>662014</th>\n",
       "      <td>1051933</td>\n",
       "      <td>False</td>\n",
       "      <td>It depends on the model.  If you go with the m...</td>\n",
       "      <td>0.0</td>\n",
       "      <td>0.0</td>\n",
       "      <td>0.0</td>\n",
       "      <td>0.0</td>\n",
       "      <td>0.0</td>\n",
       "      <td>NaN</td>\n",
       "      <td>NaN</td>\n",
       "      <td>...</td>\n",
       "      <td>1</td>\n",
       "      <td>0</td>\n",
       "      <td>0.0</td>\n",
       "      <td>0</td>\n",
       "      <td>6</td>\n",
       "      <td>0.000419</td>\n",
       "      <td>False</td>\n",
       "      <td>0</td>\n",
       "      <td>0</td>\n",
       "      <td>False</td>\n",
       "    </tr>\n",
       "    <tr>\n",
       "      <th>1429379</th>\n",
       "      <td>5866305</td>\n",
       "      <td>False</td>\n",
       "      <td>uhhh,,,OK, so the Mediterranean diet is suppos...</td>\n",
       "      <td>0.0</td>\n",
       "      <td>0.0</td>\n",
       "      <td>0.0</td>\n",
       "      <td>0.0</td>\n",
       "      <td>0.0</td>\n",
       "      <td>NaN</td>\n",
       "      <td>NaN</td>\n",
       "      <td>...</td>\n",
       "      <td>5</td>\n",
       "      <td>1</td>\n",
       "      <td>0.0</td>\n",
       "      <td>0</td>\n",
       "      <td>10</td>\n",
       "      <td>0.002621</td>\n",
       "      <td>False</td>\n",
       "      <td>0</td>\n",
       "      <td>0</td>\n",
       "      <td>False</td>\n",
       "    </tr>\n",
       "    <tr>\n",
       "      <th>52576</th>\n",
       "      <td>306497</td>\n",
       "      <td>False</td>\n",
       "      <td>Nees you always crack me up.  Always confirmin...</td>\n",
       "      <td>0.0</td>\n",
       "      <td>0.0</td>\n",
       "      <td>0.0</td>\n",
       "      <td>0.0</td>\n",
       "      <td>0.0</td>\n",
       "      <td>NaN</td>\n",
       "      <td>NaN</td>\n",
       "      <td>...</td>\n",
       "      <td>0</td>\n",
       "      <td>0</td>\n",
       "      <td>0.0</td>\n",
       "      <td>0</td>\n",
       "      <td>4</td>\n",
       "      <td>0.002830</td>\n",
       "      <td>False</td>\n",
       "      <td>0</td>\n",
       "      <td>0</td>\n",
       "      <td>False</td>\n",
       "    </tr>\n",
       "  </tbody>\n",
       "</table>\n",
       "<p>3 rows × 50 columns</p>\n",
       "</div>"
      ],
      "text/plain": [
       "              id  target                                       comment_text  \\\n",
       "662014   1051933   False  It depends on the model.  If you go with the m...   \n",
       "1429379  5866305   False  uhhh,,,OK, so the Mediterranean diet is suppos...   \n",
       "52576     306497   False  Nees you always crack me up.  Always confirmin...   \n",
       "\n",
       "         severe_toxicity  obscene  identity_attack  insult  threat  asian  \\\n",
       "662014               0.0      0.0              0.0     0.0     0.0    NaN   \n",
       "1429379              0.0      0.0              0.0     0.0     0.0    NaN   \n",
       "52576                0.0      0.0              0.0     0.0     0.0    NaN   \n",
       "\n",
       "         atheist     ...       likes  disagree  sexual_explicit  \\\n",
       "662014       NaN     ...           1         0              0.0   \n",
       "1429379      NaN     ...           5         1              0.0   \n",
       "52576        NaN     ...           0         0              0.0   \n",
       "\n",
       "         identity_annotator_count  toxicity_annotator_count   predict  \\\n",
       "662014                          0                         6  0.000419   \n",
       "1429379                         0                        10  0.002621   \n",
       "52576                           0                         4  0.002830   \n",
       "\n",
       "         bool_pred  bin_pred  bin_target  bool_target  \n",
       "662014       False         0           0        False  \n",
       "1429379      False         0           0        False  \n",
       "52576        False         0           0        False  \n",
       "\n",
       "[3 rows x 50 columns]"
      ]
     },
     "execution_count": 164,
     "metadata": {},
     "output_type": "execute_result"
    }
   ],
   "source": [
    "df_validate.sample(3)"
   ]
  },
  {
   "cell_type": "code",
   "execution_count": 161,
   "metadata": {},
   "outputs": [],
   "source": [
    "df_validate['bool_pred'] = np.where(df_validate[MODEL_NAME] >= threshold, True, False)"
   ]
  },
  {
   "cell_type": "code",
   "execution_count": 152,
   "metadata": {},
   "outputs": [],
   "source": [
    "df_validate['bin_pred'] = np.where(df_validate[MODEL_NAME] >= threshold, 1, 0)"
   ]
  },
  {
   "cell_type": "code",
   "execution_count": 158,
   "metadata": {},
   "outputs": [],
   "source": [
    "df_validate['bool_target'] = np.where(df_validate['target'] >= threshold, True, False)"
   ]
  },
  {
   "cell_type": "code",
   "execution_count": null,
   "metadata": {},
   "outputs": [],
   "source": [
    "df_validate['bin_target'] = np.where(df_validate['target'] >= threshold, 1, 0)"
   ]
  },
  {
   "cell_type": "code",
   "execution_count": 173,
   "metadata": {},
   "outputs": [
    {
     "data": {
      "text/html": [
       "<div>\n",
       "<style scoped>\n",
       "    .dataframe tbody tr th:only-of-type {\n",
       "        vertical-align: middle;\n",
       "    }\n",
       "\n",
       "    .dataframe tbody tr th {\n",
       "        vertical-align: top;\n",
       "    }\n",
       "\n",
       "    .dataframe thead th {\n",
       "        text-align: right;\n",
       "    }\n",
       "</style>\n",
       "<table border=\"1\" class=\"dataframe\">\n",
       "  <thead>\n",
       "    <tr style=\"text-align: right;\">\n",
       "      <th></th>\n",
       "      <th>target</th>\n",
       "      <th>bin_target</th>\n",
       "      <th>bool_target</th>\n",
       "      <th>bin_pred</th>\n",
       "      <th>predict</th>\n",
       "      <th>bool_pred</th>\n",
       "    </tr>\n",
       "  </thead>\n",
       "  <tbody>\n",
       "    <tr>\n",
       "      <th>1138266</th>\n",
       "      <td>False</td>\n",
       "      <td>0</td>\n",
       "      <td>False</td>\n",
       "      <td>0</td>\n",
       "      <td>0.107711</td>\n",
       "      <td>False</td>\n",
       "    </tr>\n",
       "    <tr>\n",
       "      <th>483875</th>\n",
       "      <td>False</td>\n",
       "      <td>0</td>\n",
       "      <td>False</td>\n",
       "      <td>0</td>\n",
       "      <td>0.008861</td>\n",
       "      <td>False</td>\n",
       "    </tr>\n",
       "    <tr>\n",
       "      <th>189858</th>\n",
       "      <td>False</td>\n",
       "      <td>0</td>\n",
       "      <td>False</td>\n",
       "      <td>0</td>\n",
       "      <td>0.001195</td>\n",
       "      <td>False</td>\n",
       "    </tr>\n",
       "  </tbody>\n",
       "</table>\n",
       "</div>"
      ],
      "text/plain": [
       "         target  bin_target  bool_target  bin_pred   predict  bool_pred\n",
       "1138266   False           0        False         0  0.107711      False\n",
       "483875    False           0        False         0  0.008861      False\n",
       "189858    False           0        False         0  0.001195      False"
      ]
     },
     "execution_count": 173,
     "metadata": {},
     "output_type": "execute_result"
    }
   ],
   "source": [
    "df_validate[['target','bin_target', 'bool_target', 'bin_pred', MODEL_NAME, 'bool_pred']].sample(3)"
   ]
  },
  {
   "cell_type": "code",
   "execution_count": 153,
   "metadata": {},
   "outputs": [],
   "source": [
    "df_validate['bin_target'] = np.where(df_validate['target'] >= threshold, 1, 0)"
   ]
  },
  {
   "cell_type": "code",
   "execution_count": 174,
   "metadata": {},
   "outputs": [
    {
     "data": {
      "text/html": [
       "<div>\n",
       "<style scoped>\n",
       "    .dataframe tbody tr th:only-of-type {\n",
       "        vertical-align: middle;\n",
       "    }\n",
       "\n",
       "    .dataframe tbody tr th {\n",
       "        vertical-align: top;\n",
       "    }\n",
       "\n",
       "    .dataframe thead th {\n",
       "        text-align: right;\n",
       "    }\n",
       "</style>\n",
       "<table border=\"1\" class=\"dataframe\">\n",
       "  <thead>\n",
       "    <tr style=\"text-align: right;\">\n",
       "      <th></th>\n",
       "      <th>bnsp_auc</th>\n",
       "      <th>bpsn_auc</th>\n",
       "      <th>subgroup</th>\n",
       "      <th>subgroup_auc</th>\n",
       "      <th>subgroup_size</th>\n",
       "    </tr>\n",
       "  </thead>\n",
       "  <tbody>\n",
       "    <tr>\n",
       "      <th>6</th>\n",
       "      <td>0.966469</td>\n",
       "      <td>0.740035</td>\n",
       "      <td>black</td>\n",
       "      <td>0.800221</td>\n",
       "      <td>3006</td>\n",
       "    </tr>\n",
       "    <tr>\n",
       "      <th>2</th>\n",
       "      <td>0.969815</td>\n",
       "      <td>0.751545</td>\n",
       "      <td>homosexual_gay_or_lesbian</td>\n",
       "      <td>0.814692</td>\n",
       "      <td>2221</td>\n",
       "    </tr>\n",
       "    <tr>\n",
       "      <th>7</th>\n",
       "      <td>0.970046</td>\n",
       "      <td>0.757697</td>\n",
       "      <td>white</td>\n",
       "      <td>0.815955</td>\n",
       "      <td>5077</td>\n",
       "    </tr>\n",
       "    <tr>\n",
       "      <th>5</th>\n",
       "      <td>0.964107</td>\n",
       "      <td>0.795942</td>\n",
       "      <td>muslim</td>\n",
       "      <td>0.838105</td>\n",
       "      <td>4262</td>\n",
       "    </tr>\n",
       "    <tr>\n",
       "      <th>4</th>\n",
       "      <td>0.948720</td>\n",
       "      <td>0.850942</td>\n",
       "      <td>jewish</td>\n",
       "      <td>0.852908</td>\n",
       "      <td>1509</td>\n",
       "    </tr>\n",
       "    <tr>\n",
       "      <th>8</th>\n",
       "      <td>0.961080</td>\n",
       "      <td>0.833679</td>\n",
       "      <td>psychiatric_or_mental_illness</td>\n",
       "      <td>0.868066</td>\n",
       "      <td>982</td>\n",
       "    </tr>\n",
       "    <tr>\n",
       "      <th>0</th>\n",
       "      <td>0.954104</td>\n",
       "      <td>0.867933</td>\n",
       "      <td>male</td>\n",
       "      <td>0.885497</td>\n",
       "      <td>9050</td>\n",
       "    </tr>\n",
       "    <tr>\n",
       "      <th>1</th>\n",
       "      <td>0.951559</td>\n",
       "      <td>0.875196</td>\n",
       "      <td>female</td>\n",
       "      <td>0.890155</td>\n",
       "      <td>10671</td>\n",
       "    </tr>\n",
       "    <tr>\n",
       "      <th>3</th>\n",
       "      <td>0.940989</td>\n",
       "      <td>0.908634</td>\n",
       "      <td>christian</td>\n",
       "      <td>0.907710</td>\n",
       "      <td>8081</td>\n",
       "    </tr>\n",
       "  </tbody>\n",
       "</table>\n",
       "</div>"
      ],
      "text/plain": [
       "   bnsp_auc  bpsn_auc                       subgroup  subgroup_auc  \\\n",
       "6  0.966469  0.740035                          black      0.800221   \n",
       "2  0.969815  0.751545      homosexual_gay_or_lesbian      0.814692   \n",
       "7  0.970046  0.757697                          white      0.815955   \n",
       "5  0.964107  0.795942                         muslim      0.838105   \n",
       "4  0.948720  0.850942                         jewish      0.852908   \n",
       "8  0.961080  0.833679  psychiatric_or_mental_illness      0.868066   \n",
       "0  0.954104  0.867933                           male      0.885497   \n",
       "1  0.951559  0.875196                         female      0.890155   \n",
       "3  0.940989  0.908634                      christian      0.907710   \n",
       "\n",
       "   subgroup_size  \n",
       "6           3006  \n",
       "2           2221  \n",
       "7           5077  \n",
       "5           4262  \n",
       "4           1509  \n",
       "8            982  \n",
       "0           9050  \n",
       "1          10671  \n",
       "3           8081  "
      ]
     },
     "execution_count": 174,
     "metadata": {},
     "output_type": "execute_result"
    }
   ],
   "source": [
    "import p9_util_metrics\n",
    "df_bias_metrics = p9_util_metrics.compute_bias_metrics_for_model(df_validate, \n",
    "                                                                 p9_util_metrics.IDENTITY_COLUMNS, \n",
    "                                                                 'predict', \n",
    "                                                                 'target')\n",
    "df_bias_metrics"
   ]
  },
  {
   "cell_type": "code",
   "execution_count": 180,
   "metadata": {},
   "outputs": [],
   "source": [
    "    from sklearn.metrics import confusion_matrix\n",
    "    import p4_util\n",
    "    \n",
    "    list_classes = [0,1]\n",
    "    title=\"\"\n",
    "    "
   ]
  },
  {
   "cell_type": "code",
   "execution_count": 181,
   "metadata": {},
   "outputs": [
    {
     "name": "stdout",
     "output_type": "stream",
     "text": [
      "\n",
      "Confusion matrix for all classes : \n",
      "\n",
      "[[328633   3613]\n",
      " [ 14859  13870]]\n",
      "\n",
      "Normalized confusion matrix\n",
      "[[0.98912553 0.01087447]\n",
      " [0.51721257 0.48278743]]\n"
     ]
    },
    {
     "data": {
      "image/png": "[encoded data removed]",
      "text/plain": [
       "<Figure size 576x576 with 2 Axes>"
      ]
     },
     "metadata": {
      "needs_background": "light"
     },
     "output_type": "display_data"
    }
   ],
   "source": [
    "    #--------------------------------------------------------------\n",
    "    # Compute confusion matrix\n",
    "    #--------------------------------------------------------------\n",
    "    print(\"\\nConfusion matrix for all classes : \")\n",
    "    print()\n",
    "    print(metrics.confusion_matrix(df_validate['bin_target'], df_validate['bin_pred'], labels=list_classes))\n",
    "    print()\n",
    "\n",
    "    cm = confusion_matrix(df_validate['bin_target'], df_validate['bin_pred'])\n",
    "    p4_util.plot_confusion_matrix(cm, list_classes,\n",
    "                              normalize=True,\n",
    "                              title=title,\n",
    "                              cmap=plt.cm.Blues)\n"
   ]
  }
 ],
 "metadata": {
  "kernelspec": {
   "display_name": "Python 3",
   "language": "python",
   "name": "python3"
  },
  "language_info": {
   "codemirror_mode": {
    "name": "ipython",
    "version": 3
   },
   "file_extension": ".py",
   "mimetype": "text/x-python",
   "name": "python",
   "nbconvert_exporter": "python",
   "pygments_lexer": "ipython3",
   "version": "3.6.8"
  }
 },
 "nbformat": 4,
 "nbformat_minor": 2
}
