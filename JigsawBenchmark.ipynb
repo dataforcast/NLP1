{
 "cells": [
  {
   "cell_type": "markdown",
   "metadata": {},
   "source": [
    "# <font color='blus'>Table of contents</font>"
   ]
  },
  {
   "cell_type": "code",
   "execution_count": 5,
   "metadata": {},
   "outputs": [
    {
     "data": {
      "text/html": [
       "<b>Result issued from biais metrics</b>\n",
       "<div id=\"my_id_menu_nb\">run previous cell, wait for 2 seconds</div>\n",
       "<script>\n",
       "function repeat_indent_string(n){\n",
       "    var a = \"\" ;\n",
       "    for ( ; n > 0 ; --n)\n",
       "        a += \"    \";\n",
       "    return a;\n",
       "}\n",
       "// look up into all sections and builds an automated menu //\n",
       "var update_menu_string = function(begin, lfirst, llast, sformat, send, keep_item, begin_format, end_format) {\n",
       "    var anchors = document.getElementsByClassName(\"section\");\n",
       "    if (anchors.length == 0) {\n",
       "        anchors = document.getElementsByClassName(\"text_cell_render rendered_html\");\n",
       "    }\n",
       "    var i,t;\n",
       "    var text_menu = begin;\n",
       "    var text_memo = \"<pre>\\nlength:\" + anchors.length + \"\\n\";\n",
       "    var ind = \"\";\n",
       "    var memo_level = 1;\n",
       "    var href;\n",
       "    var tags = [];\n",
       "    var main_item = 0;\n",
       "    var format_open = 0;\n",
       "    for (i = 0; i <= llast; i++)\n",
       "        tags.push(\"h\" + i);\n",
       "\n",
       "    for (i = 0; i < anchors.length; i++) {\n",
       "        text_memo += \"**\" + anchors[i].id + \"--\\n\";\n",
       "\n",
       "        var child = null;\n",
       "        for(t = 0; t < tags.length; t++) {\n",
       "            var r = anchors[i].getElementsByTagName(tags[t]);\n",
       "            if (r.length > 0) {\n",
       "child = r[0];\n",
       "break;\n",
       "            }\n",
       "        }\n",
       "        if (child == null) {\n",
       "            text_memo += \"null\\n\";\n",
       "            continue;\n",
       "        }\n",
       "        if (anchors[i].hasAttribute(\"id\")) {\n",
       "            // when converted in RST\n",
       "            href = anchors[i].id;\n",
       "            text_memo += \"#1-\" + href;\n",
       "            // passer à child suivant (le chercher)\n",
       "        }\n",
       "        else if (child.hasAttribute(\"id\")) {\n",
       "            // in a notebook\n",
       "            href = child.id;\n",
       "            text_memo += \"#2-\" + href;\n",
       "        }\n",
       "        else {\n",
       "            text_memo += \"#3-\" + \"*\" + \"\\n\";\n",
       "            continue;\n",
       "        }\n",
       "        var title = child.textContent;\n",
       "        var level = parseInt(child.tagName.substring(1,2));\n",
       "\n",
       "        text_memo += \"--\" + level + \"?\" + lfirst + \"--\" + title + \"\\n\";\n",
       "\n",
       "        if ((level < lfirst) || (level > llast)) {\n",
       "            continue ;\n",
       "        }\n",
       "        if (title.endsWith('¶')) {\n",
       "            title = title.substring(0,title.length-1).replace(\"<\", \"&lt;\")\n",
       "         .replace(\">\", \"&gt;\").replace(\"&\", \"&amp;\");\n",
       "        }\n",
       "        if (title.length == 0) {\n",
       "            continue;\n",
       "        }\n",
       "\n",
       "        while (level < memo_level) {\n",
       "            text_menu += end_format + \"</ul>\\n\";\n",
       "            format_open -= 1;\n",
       "            memo_level -= 1;\n",
       "        }\n",
       "        if (level == lfirst) {\n",
       "            main_item += 1;\n",
       "        }\n",
       "        if (keep_item != -1 && main_item != keep_item + 1) {\n",
       "            // alert(main_item + \" - \" + level + \" - \" + keep_item);\n",
       "            continue;\n",
       "        }\n",
       "        while (level > memo_level) {\n",
       "            text_menu += \"<ul>\\n\";\n",
       "            memo_level += 1;\n",
       "        }\n",
       "        text_menu += repeat_indent_string(level-2);\n",
       "        text_menu += begin_format + sformat.replace(\"__HREF__\", href).replace(\"__TITLE__\", title);\n",
       "        format_open += 1;\n",
       "    }\n",
       "    while (1 < memo_level) {\n",
       "        text_menu += end_format + \"</ul>\\n\";\n",
       "        memo_level -= 1;\n",
       "        format_open -= 1;\n",
       "    }\n",
       "    text_menu += send;\n",
       "    //text_menu += \"\\n\" + text_memo;\n",
       "\n",
       "    while (format_open > 0) {\n",
       "        text_menu += end_format;\n",
       "        format_open -= 1;\n",
       "    }\n",
       "    return text_menu;\n",
       "};\n",
       "var update_menu = function() {\n",
       "    var sbegin = \"\";\n",
       "    var sformat = '<a href=\"#__HREF__\">__TITLE__</a>';\n",
       "    var send = \"\";\n",
       "    var begin_format = '<li>';\n",
       "    var end_format = '</li>';\n",
       "    var keep_item = -1;\n",
       "    var text_menu = update_menu_string(sbegin, 1, 4, sformat, send, keep_item,\n",
       "       begin_format, end_format);\n",
       "    var menu = document.getElementById(\"my_id_menu_nb\");\n",
       "    menu.innerHTML=text_menu;\n",
       "};\n",
       "window.setTimeout(update_menu,2000);\n",
       "            </script>"
      ],
      "text/plain": [
       "<IPython.core.display.HTML object>"
      ]
     },
     "execution_count": 5,
     "metadata": {},
     "output_type": "execute_result"
    }
   ],
   "source": [
    "from jyquickhelper import add_notebook_menu\n",
    "add_notebook_menu(first_level=1, last_level=4, header=\"Result issued from biais metrics\")"
   ]
  },
  {
   "cell_type": "markdown",
   "metadata": {},
   "source": [
    "# <font color='blus'>Abstract</font>\n",
    "\n",
    "    This notebook implement both data-preparation and CNN model building provided from \n",
    "    Kaggle : https://www.kaggle.com/c/jigsaw-unintended-bias-in-toxicity-classification/overview/evaluation\n",
    "    \n",
    "    It is used in order to compare bias performances and classification performances of submission model (the one submitted for Kaggle competition) with the one delivered by Kaggle (benchmark model)."
   ]
  },
  {
   "cell_type": "markdown",
   "metadata": {},
   "source": [
    "# <font color='blus'>Software engineering</font>\n",
    "<img src=\"./img/SoftwareEngineeringBenchmark.png\">"
   ]
  },
  {
   "cell_type": "markdown",
   "metadata": {},
   "source": [
    "# <font color='blus'>1. Benchmark algorithm</font>"
   ]
  },
  {
   "cell_type": "code",
   "execution_count": 1,
   "metadata": {},
   "outputs": [],
   "source": [
    "from sklearn import metrics\n",
    "%matplotlib inline\n",
    "\n",
    "%load_ext autoreload\n",
    "%autoreload 2\n",
    "\n",
    "import warnings\n",
    "warnings.filterwarnings('ignore')"
   ]
  },
  {
   "cell_type": "code",
   "execution_count": 3,
   "metadata": {},
   "outputs": [
    {
     "data": {
      "text/plain": [
       "{'root_directory': './data/benchmark/',\n",
       " 'format_file': '.dill',\n",
       " 'format_model': '.h5',\n",
       " 'root_filename_benchmark': './data/benchmark/df_sample_benchmark_',\n",
       " 'root_filename_model': 'model_jigsaw_',\n",
       " 'n_sample': None,\n",
       " 'n_sample_train': None,\n",
       " 'is_dataset_reloaded': False,\n",
       " 'model_type': 'benchmark',\n",
       " 'is_model_reloaded': False,\n",
       " 'is_embedding_layer': True,\n",
       " 'threshold': 0.5,\n",
       " 'embeddings_dimension': 100,\n",
       " 'val_score_max': True,\n",
       " 'epochs': 10}"
      ]
     },
     "execution_count": 3,
     "metadata": {},
     "output_type": "execute_result"
    }
   ],
   "source": [
    "import p9_util_benchmark\n",
    "p9_util_benchmark.dict_param_benchmark"
   ]
  },
  {
   "cell_type": "code",
   "execution_count": 4,
   "metadata": {},
   "outputs": [
    {
     "data": {
      "text/plain": [
       "{'dict_param_keras': {'input_dim': (250, 100),\n",
       "  'batch_size': 5000,\n",
       "  'nb_epoch': 10,\n",
       "  'verbose': 1,\n",
       "  'dropout_rate': 0.3,\n",
       "  'regul': (None, None),\n",
       "  'is_batch_normalized': True,\n",
       "  'lr': 5e-05,\n",
       "  'nbClasses': 2},\n",
       " 'filter_size': 3,\n",
       " 'stride_size': 1,\n",
       " 'pool_size': 2,\n",
       " 'pool_stride': 2,\n",
       " 'nb_filter': 256,\n",
       " 'conv_layer': 4,\n",
       " 'nb_dense_neuron': 128,\n",
       " 'dense_layer': 1,\n",
       " 'dense_layer_decrease_rate': 1,\n",
       " 'list_channel': [],\n",
       " 'list_filter_channel': []}"
      ]
     },
     "execution_count": 4,
     "metadata": {},
     "output_type": "execute_result"
    }
   ],
   "source": [
    "import p9_util_config\n",
    "p9_util_config.dict_param_keras_cnn"
   ]
  },
  {
   "cell_type": "markdown",
   "metadata": {},
   "source": [
    "## <font color='blus'>1.1 Data preparation</font>\n",
    "    \n",
    "    Depending configuration parameters from p9_util_benchmark.dict_param_benchmark, data is prepared \n",
    "    or prepared data is read from hard drive.\n",
    "    "
   ]
  },
  {
   "cell_type": "code",
   "execution_count": null,
   "metadata": {},
   "outputs": [],
   "source": [
    "import pandas as pd\n",
    "from keras.preprocessing.text import Tokenizer\n",
    "from sklearn import model_selection\n",
    "\n",
    "import keras\n",
    "\n",
    "import p5_util\n",
    "import p9_util_benchmark\n",
    "\n",
    "filename = './data/benchmark/model_jigsaw_benchmark.h5'\n",
    "\n",
    "n_sample = p9_util_benchmark.dict_param_benchmark['n_sample']\n",
    "filename_benchmark = p9_util_benchmark.build_filename_benchmark()\n",
    "print(n_sample,filename_benchmark)\n",
    "\n",
    "#-------------------------------------------------------------------------------\n",
    "# Loading or building dataset\n",
    "#-------------------------------------------------------------------------------\n",
    "if p9_util_benchmark.dict_param_benchmark['is_dataset_reloaded'] :\n",
    "   \n",
    "    #-------------------------------------------------------------\n",
    "    # Load validation dataframe for benchmark\n",
    "    #-------------------------------------------------------------\n",
    "    df_validate = p5_util.object_load(filename_benchmark)\n",
    "    \n",
    "    #-------------------------------------------------------------\n",
    "    # Load text tokenizer for data-preparation.\n",
    "    #-------------------------------------------------------------\n",
    "    tokenizer = p5_util.object_load(p9_util_benchmark.build_filename_tokenizer())\n",
    "else :\n",
    "    #-------------------------------------------------------------\n",
    "    # Build dataset for train and validation, \n",
    "    #-------------------------------------------------------------\n",
    "    df_train = pd.read_csv('./data/train.csv.zip', compression='zip', header=0, sep=',', quotechar='\"')\n",
    "    df_train['comment_text'] = df_train['comment_text'].apply(lambda x : x.lower())\n",
    "    df_train['comment_text'] = df_train['comment_text'].astype(str)\n",
    "\n",
    "    df_train = p9_util_benchmark.convert_dataframe_to_bool(df_train, \\\n",
    "                                                           dict_param_benchmark_=p9_util_benchmark.dict_param_benchmark)\n",
    "\n",
    "    df_train, df_validate = model_selection.train_test_split(df_train, test_size=0.2)\n",
    "    print('%d train comments, %d validation comments' % (len(df_train), len(df_validate)))\n",
    "    \n",
    "    #-------------------------------------------------------------\n",
    "    # Save validation dataset into a file.\n",
    "    #-------------------------------------------------------------\n",
    "    filename_valid_dataset = p9_util_benchmark.build_filename_benchmark()\n",
    "    p5_util.object_dump(df_validate.sample(n_sample),filename_valid_dataset,is_verbose=True )\n",
    "    \n",
    "    #-------------------------------------------------------------\n",
    "    # Save train dataset into a file.\n",
    "    #-------------------------------------------------------------\n",
    "    filename_train_dataset = p9_util_benchmark.build_filename_benchmark(is_train=True)\n",
    "    p5_util.object_dump(df_train,filename_train_dataset,is_verbose=True )\n",
    "    \n",
    "    #-------------------------------------------------------------\n",
    "    # Create a text tokenizer and save it.\n",
    "    #-------------------------------------------------------------\n",
    "    tokenizer = Tokenizer(num_words=p9_util_benchmark.MAX_NUM_WORDS)\n",
    "    tokenizer.fit_on_texts(df_train[p9_util_benchmark.TEXT_COLUMN])\n",
    "    filename_tokenizer = p9_util_benchmark.build_filename_tokenizer()\n",
    "    p5_util.object_dump(tokenizer,filename_tokenizer, is_verbose=True )\n",
    "    \n",
    "    #-------------------------------------------------------------\n",
    "    # Save parameters configuration into a file.\n",
    "    #-------------------------------------------------------------\n",
    "    filename_param = p9_util_benchmark.build_filename_param(p9_util_benchmark.dict_param_benchmark)\n",
    "    p5_util.object_dump(p9_util_benchmark.dict_param_benchmark,filename_param, is_verbose=True )"
   ]
  },
  {
   "cell_type": "markdown",
   "metadata": {},
   "source": [
    "## <font color='blus'>1.2 Model from benchmark </font>\n",
    "    \n",
    "    Depending configuration parameters from p9_util_benchmark.dict_param_benchmark, model is built \n",
    "    or model is read from hard drive.\n",
    "    "
   ]
  },
  {
   "cell_type": "code",
   "execution_count": 10,
   "metadata": {},
   "outputs": [
    {
     "name": "stdout",
     "output_type": "stream",
     "text": [
      "p5_util.object_load : fileName= ./data/benchmark/tokenizer_FULL.dill\n"
     ]
    },
    {
     "name": "stderr",
     "output_type": "stream",
     "text": [
      "W1028 13:38:04.026567 140607304697664 deprecation_wrapper.py:119] From /home/bangui/anaconda3/envs/python36/lib/python3.6/site-packages/keras/backend/tensorflow_backend.py:74: The name tf.get_default_graph is deprecated. Please use tf.compat.v1.get_default_graph instead.\n",
      "\n",
      "W1028 13:38:04.027397 140607304697664 deprecation_wrapper.py:119] From /home/bangui/anaconda3/envs/python36/lib/python3.6/site-packages/keras/backend/tensorflow_backend.py:517: The name tf.placeholder is deprecated. Please use tf.compat.v1.placeholder instead.\n",
      "\n"
     ]
    },
    {
     "name": "stdout",
     "output_type": "stream",
     "text": [
      "Loading embeddings...\n",
      "Building embeddings...\n",
      "object_dump: file name= ./data/benchmark/embedding_matrix_100D_FULL.dill\n"
     ]
    },
    {
     "name": "stderr",
     "output_type": "stream",
     "text": [
      "W1028 13:38:13.573556 140607304697664 deprecation_wrapper.py:119] From /home/bangui/anaconda3/envs/python36/lib/python3.6/site-packages/keras/backend/tensorflow_backend.py:4138: The name tf.random_uniform is deprecated. Please use tf.random.uniform instead.\n",
      "\n",
      "W1028 13:38:13.590693 140607304697664 deprecation_wrapper.py:119] From /home/bangui/anaconda3/envs/python36/lib/python3.6/site-packages/keras/backend/tensorflow_backend.py:174: The name tf.get_default_session is deprecated. Please use tf.compat.v1.get_default_session instead.\n",
      "\n",
      "W1028 13:38:13.591259 140607304697664 deprecation_wrapper.py:119] From /home/bangui/anaconda3/envs/python36/lib/python3.6/site-packages/keras/backend/tensorflow_backend.py:181: The name tf.ConfigProto is deprecated. Please use tf.compat.v1.ConfigProto instead.\n",
      "\n",
      "W1028 13:38:14.097848 140607304697664 deprecation_wrapper.py:119] From /home/bangui/anaconda3/envs/python36/lib/python3.6/site-packages/keras/backend/tensorflow_backend.py:3976: The name tf.nn.max_pool is deprecated. Please use tf.nn.max_pool2d instead.\n",
      "\n",
      "W1028 13:38:14.172723 140607304697664 deprecation.py:506] From /home/bangui/anaconda3/envs/python36/lib/python3.6/site-packages/keras/backend/tensorflow_backend.py:3445: calling dropout (from tensorflow.python.ops.nn_ops) with keep_prob is deprecated and will be removed in a future version.\n",
      "Instructions for updating:\n",
      "Please use `rate` instead of `keep_prob`. Rate should be set to `rate = 1 - keep_prob`.\n",
      "W1028 13:38:14.239069 140607304697664 deprecation_wrapper.py:119] From /home/bangui/anaconda3/envs/python36/lib/python3.6/site-packages/keras/optimizers.py:790: The name tf.train.Optimizer is deprecated. Please use tf.compat.v1.train.Optimizer instead.\n",
      "\n",
      "W1028 13:38:14.250011 140607304697664 deprecation.py:323] From /home/bangui/anaconda3/envs/python36/lib/python3.6/site-packages/tensorflow/python/ops/nn_impl.py:180: add_dispatch_support.<locals>.wrapper (from tensorflow.python.ops.array_ops) is deprecated and will be removed in a future version.\n",
      "Instructions for updating:\n",
      "Use tf.where in 2.0, which has the same broadcast rule as np.where\n"
     ]
    },
    {
     "name": "stdout",
     "output_type": "stream",
     "text": [
      "_________________________________________________________________\n",
      "Layer (type)                 Output Shape              Param #   \n",
      "=================================================================\n",
      "input_1 (InputLayer)         (None, 250)               0         \n",
      "_________________________________________________________________\n",
      "embedding_1 (Embedding)      (None, 250, 100)          35324100  \n",
      "_________________________________________________________________\n",
      "conv1d_1 (Conv1D)            (None, 250, 128)          25728     \n",
      "_________________________________________________________________\n",
      "max_pooling1d_1 (MaxPooling1 (None, 50, 128)           0         \n",
      "_________________________________________________________________\n",
      "conv1d_2 (Conv1D)            (None, 50, 128)           49280     \n",
      "_________________________________________________________________\n",
      "max_pooling1d_2 (MaxPooling1 (None, 10, 128)           0         \n",
      "_________________________________________________________________\n",
      "conv1d_3 (Conv1D)            (None, 10, 128)           65664     \n",
      "_________________________________________________________________\n",
      "max_pooling1d_3 (MaxPooling1 (None, 1, 128)            0         \n",
      "_________________________________________________________________\n",
      "flatten_1 (Flatten)          (None, 128)               0         \n",
      "_________________________________________________________________\n",
      "dropout_1 (Dropout)          (None, 128)               0         \n",
      "_________________________________________________________________\n",
      "dense_1 (Dense)              (None, 128)               16512     \n",
      "_________________________________________________________________\n",
      "dense_2 (Dense)              (None, 2)                 258       \n",
      "=================================================================\n",
      "Total params: 35,481,542\n",
      "Trainable params: 157,442\n",
      "Non-trainable params: 35,324,100\n",
      "_________________________________________________________________\n"
     ]
    }
   ],
   "source": [
    "import p5_util\n",
    "import p9_util_benchmark\n",
    "\n",
    "#-------------------------------------------------------------------------------\n",
    "# Loading or building model\n",
    "#-------------------------------------------------------------------------------    \n",
    "if p9_util_benchmark.dict_param_benchmark['is_model_reloaded'] :\n",
    "    #-------------------------------------------------------------\n",
    "    # Load benchmark model.\n",
    "    #-------------------------------------------------------------\n",
    "    filename_model = p9_util_benchmark.build_filename_model()\n",
    "    print(\"Loding model= {}\".format(filename_model))\n",
    "    model = keras.models.load_model(filename_model)\n",
    "else :\n",
    "    #-------------------------------------------------------------\n",
    "    # Build benchmark model then save it.\n",
    "    #-------------------------------------------------------------\n",
    "    model,list_callback = p9_util_benchmark.build_model(p9_util_benchmark.dict_param_benchmark, \\\n",
    "                                                        p9_util_config.dict_param_keras_cnn)\n",
    "    #model = p9_util_benchmark.train_benchmark_model(df_train, df_validate, tokenizer)\n",
    "\n",
    "    filename_model = p9_util_benchmark.build_filename_model()\n",
    "    model.save(filename_model)\n",
    "    \n",
    "        "
   ]
  },
  {
   "cell_type": "code",
   "execution_count": 12,
   "metadata": {},
   "outputs": [
    {
     "data": {
      "text/plain": [
       "{'dict_param_keras': {'input_dim': (250, 100),\n",
       "  'batch_size': 5000,\n",
       "  'nb_epoch': 10,\n",
       "  'verbose': 1,\n",
       "  'dropout_rate': 0.3,\n",
       "  'regul': (None, None),\n",
       "  'is_batch_normalized': True,\n",
       "  'lr': 5e-05,\n",
       "  'nbClasses': 2},\n",
       " 'filter_size': 3,\n",
       " 'stride_size': 1,\n",
       " 'pool_size': 2,\n",
       " 'pool_stride': 2,\n",
       " 'nb_filter': 256,\n",
       " 'conv_layer': 4,\n",
       " 'nb_dense_neuron': 128,\n",
       " 'dense_layer': 1,\n",
       " 'dense_layer_decrease_rate': 1,\n",
       " 'list_channel': [],\n",
       " 'list_filter_channel': []}"
      ]
     },
     "execution_count": 12,
     "metadata": {},
     "output_type": "execute_result"
    }
   ],
   "source": [
    "p9_util_config.dict_param_keras_cnn"
   ]
  },
  {
   "cell_type": "code",
   "execution_count": 13,
   "metadata": {},
   "outputs": [
    {
     "name": "stdout",
     "output_type": "stream",
     "text": [
      "Data preparation...\n",
      "Model training...\n",
      "Train on 1443899 samples, validate on 360975 samples\n",
      "Epoch 1/10\n",
      "1443899/1443899 [==============================] - 1171s 811us/step - loss: 0.1969 - acc: 0.9322 - val_loss: 0.1707 - val_acc: 0.9391\n",
      "\n",
      "Epoch 00001: val_acc improved from -inf to 0.93910, saving model to ./data/benchmark/model_jigsaw_benchmark_sampleFULL_threshold0.5_best.h5\n",
      "Epoch 2/10\n",
      "1443899/1443899 [==============================] - 1164s 806us/step - loss: 0.1654 - acc: 0.9413 - val_loss: 0.1584 - val_acc: 0.9432\n",
      "\n",
      "Epoch 00002: val_acc improved from 0.93910 to 0.94320, saving model to ./data/benchmark/model_jigsaw_benchmark_sampleFULL_threshold0.5_best.h5\n",
      "Epoch 3/10\n",
      "1443899/1443899 [==============================] - 795s 551us/step - loss: 0.1575 - acc: 0.9438 - val_loss: 0.1556 - val_acc: 0.9443\n",
      "\n",
      "Epoch 00003: val_acc improved from 0.94320 to 0.94433, saving model to ./data/benchmark/model_jigsaw_benchmark_sampleFULL_threshold0.5_best.h5\n",
      "Epoch 4/10\n",
      "1443899/1443899 [==============================] - 797s 552us/step - loss: 0.1537 - acc: 0.9450 - val_loss: 0.1680 - val_acc: 0.9421\n",
      "\n",
      "Epoch 00004: val_acc did not improve from 0.94433\n",
      "Epoch 5/10\n",
      "1443899/1443899 [==============================] - 971s 672us/step - loss: 0.1511 - acc: 0.9458 - val_loss: 0.1531 - val_acc: 0.9458\n",
      "\n",
      "Epoch 00005: val_acc improved from 0.94433 to 0.94583, saving model to ./data/benchmark/model_jigsaw_benchmark_sampleFULL_threshold0.5_best.h5\n",
      "Epoch 6/10\n",
      "1443899/1443899 [==============================] - 1272s 881us/step - loss: 0.1494 - acc: 0.9465 - val_loss: 0.1513 - val_acc: 0.9455\n",
      "\n",
      "Epoch 00006: val_acc did not improve from 0.94583\n",
      "Epoch 7/10\n",
      "1443899/1443899 [==============================] - 1070s 741us/step - loss: 0.1478 - acc: 0.9467 - val_loss: 0.1580 - val_acc: 0.9445\n",
      "\n",
      "Epoch 00007: val_acc did not improve from 0.94583\n",
      "Epoch 8/10\n",
      "1443899/1443899 [==============================] - 1080s 748us/step - loss: 0.1463 - acc: 0.9469 - val_loss: 0.1482 - val_acc: 0.9457\n",
      "\n",
      "Epoch 00008: val_acc did not improve from 0.94583\n",
      "Epoch 9/10\n",
      "1443899/1443899 [==============================] - 831s 575us/step - loss: 0.1450 - acc: 0.9474 - val_loss: 0.1481 - val_acc: 0.9456\n",
      "\n",
      "Epoch 00009: val_acc did not improve from 0.94583\n",
      "Epoch 10/10\n",
      "1443899/1443899 [==============================] - 4141s 3ms/step - loss: 0.1438 - acc: 0.9477 - val_loss: 0.1475 - val_acc: 0.9458\n",
      "\n",
      "Epoch 00010: val_acc did not improve from 0.94583\n"
     ]
    }
   ],
   "source": [
    "import p9_util_benchmark\n",
    "model, history = p9_util_benchmark.train_benchmark_model(model, df_train, df_validate, tokenizer,\n",
    "                                                         dict_param_keras_cnn=p9_util_config.dict_param_keras_cnn,\n",
    "                                                        list_callback = list_callback)"
   ]
  },
  {
   "cell_type": "markdown",
   "metadata": {},
   "source": [
    "    History from trained model is saved "
   ]
  },
  {
   "cell_type": "code",
   "execution_count": 15,
   "metadata": {},
   "outputs": [
    {
     "name": "stdout",
     "output_type": "stream",
     "text": [
      "object_dump: file name= ./data/benchmark/history_benchmark_100D_FULL_.dill\n"
     ]
    }
   ],
   "source": [
    "import p5_util\n",
    "import p9_util_benchmark\n",
    "\n",
    "filename_history = p9_util_benchmark.build_filename_history(p9_util_benchmark.dict_param_benchmark)\n",
    "p5_util.object_dump(history,filename_history, is_verbose=True)"
   ]
  },
  {
   "cell_type": "markdown",
   "metadata": {},
   "source": [
    "    Predictions are applied over validation dataset."
   ]
  },
  {
   "cell_type": "code",
   "execution_count": 17,
   "metadata": {},
   "outputs": [],
   "source": [
    "import p9_util_benchmark\n",
    "MODEL_NAME = 'my_model'\n",
    "df_validate[MODEL_NAME] = model.predict(p9_util_benchmark.pad_text(df_validate[p9_util_benchmark.TEXT_COLUMN], tokenizer))[:, 1]"
   ]
  },
  {
   "cell_type": "code",
   "execution_count": 34,
   "metadata": {},
   "outputs": [
    {
     "data": {
      "text/html": [
       "<div>\n",
       "<style scoped>\n",
       "    .dataframe tbody tr th:only-of-type {\n",
       "        vertical-align: middle;\n",
       "    }\n",
       "\n",
       "    .dataframe tbody tr th {\n",
       "        vertical-align: top;\n",
       "    }\n",
       "\n",
       "    .dataframe thead th {\n",
       "        text-align: right;\n",
       "    }\n",
       "</style>\n",
       "<table border=\"1\" class=\"dataframe\">\n",
       "  <thead>\n",
       "    <tr style=\"text-align: right;\">\n",
       "      <th></th>\n",
       "      <th>id</th>\n",
       "      <th>target</th>\n",
       "      <th>comment_text</th>\n",
       "      <th>severe_toxicity</th>\n",
       "      <th>obscene</th>\n",
       "      <th>identity_attack</th>\n",
       "      <th>insult</th>\n",
       "      <th>threat</th>\n",
       "      <th>asian</th>\n",
       "      <th>atheist</th>\n",
       "      <th>...</th>\n",
       "      <th>rating</th>\n",
       "      <th>funny</th>\n",
       "      <th>wow</th>\n",
       "      <th>sad</th>\n",
       "      <th>likes</th>\n",
       "      <th>disagree</th>\n",
       "      <th>sexual_explicit</th>\n",
       "      <th>identity_annotator_count</th>\n",
       "      <th>toxicity_annotator_count</th>\n",
       "      <th>my_model</th>\n",
       "    </tr>\n",
       "  </thead>\n",
       "  <tbody>\n",
       "    <tr>\n",
       "      <th>44381</th>\n",
       "      <td>296033</td>\n",
       "      <td>False</td>\n",
       "      <td>why are usa prisons not like dennmark prisons....</td>\n",
       "      <td>0.0</td>\n",
       "      <td>0.0</td>\n",
       "      <td>0.000000</td>\n",
       "      <td>0.000000</td>\n",
       "      <td>0.0</td>\n",
       "      <td>NaN</td>\n",
       "      <td>NaN</td>\n",
       "      <td>...</td>\n",
       "      <td>approved</td>\n",
       "      <td>0</td>\n",
       "      <td>0</td>\n",
       "      <td>0</td>\n",
       "      <td>2</td>\n",
       "      <td>0</td>\n",
       "      <td>0.0</td>\n",
       "      <td>0</td>\n",
       "      <td>4</td>\n",
       "      <td>0.137376</td>\n",
       "    </tr>\n",
       "    <tr>\n",
       "      <th>878357</th>\n",
       "      <td>5195332</td>\n",
       "      <td>False</td>\n",
       "      <td>whether it's 75% or 83%, women are still being...</td>\n",
       "      <td>0.0</td>\n",
       "      <td>0.0</td>\n",
       "      <td>0.166667</td>\n",
       "      <td>0.166667</td>\n",
       "      <td>0.0</td>\n",
       "      <td>0.0</td>\n",
       "      <td>0.0</td>\n",
       "      <td>...</td>\n",
       "      <td>approved</td>\n",
       "      <td>0</td>\n",
       "      <td>0</td>\n",
       "      <td>0</td>\n",
       "      <td>2</td>\n",
       "      <td>1</td>\n",
       "      <td>0.0</td>\n",
       "      <td>10</td>\n",
       "      <td>6</td>\n",
       "      <td>0.043060</td>\n",
       "    </tr>\n",
       "    <tr>\n",
       "      <th>1798596</th>\n",
       "      <td>6325481</td>\n",
       "      <td>False</td>\n",
       "      <td>as is proven on this site every hour, the 'fac...</td>\n",
       "      <td>0.0</td>\n",
       "      <td>0.0</td>\n",
       "      <td>0.000000</td>\n",
       "      <td>0.000000</td>\n",
       "      <td>0.0</td>\n",
       "      <td>0.0</td>\n",
       "      <td>0.0</td>\n",
       "      <td>...</td>\n",
       "      <td>approved</td>\n",
       "      <td>0</td>\n",
       "      <td>0</td>\n",
       "      <td>0</td>\n",
       "      <td>0</td>\n",
       "      <td>0</td>\n",
       "      <td>0.0</td>\n",
       "      <td>4</td>\n",
       "      <td>4</td>\n",
       "      <td>0.004993</td>\n",
       "    </tr>\n",
       "    <tr>\n",
       "      <th>1148701</th>\n",
       "      <td>5521009</td>\n",
       "      <td>False</td>\n",
       "      <td>chris, your last sentence was an awful ending ...</td>\n",
       "      <td>0.0</td>\n",
       "      <td>0.0</td>\n",
       "      <td>0.000000</td>\n",
       "      <td>0.000000</td>\n",
       "      <td>0.0</td>\n",
       "      <td>0.0</td>\n",
       "      <td>0.0</td>\n",
       "      <td>...</td>\n",
       "      <td>approved</td>\n",
       "      <td>0</td>\n",
       "      <td>0</td>\n",
       "      <td>0</td>\n",
       "      <td>1</td>\n",
       "      <td>2</td>\n",
       "      <td>0.0</td>\n",
       "      <td>4</td>\n",
       "      <td>4</td>\n",
       "      <td>0.085857</td>\n",
       "    </tr>\n",
       "    <tr>\n",
       "      <th>1113393</th>\n",
       "      <td>5476762</td>\n",
       "      <td>False</td>\n",
       "      <td>i must have made you really mad because your c...</td>\n",
       "      <td>0.0</td>\n",
       "      <td>0.0</td>\n",
       "      <td>0.000000</td>\n",
       "      <td>0.200000</td>\n",
       "      <td>0.0</td>\n",
       "      <td>0.0</td>\n",
       "      <td>0.0</td>\n",
       "      <td>...</td>\n",
       "      <td>approved</td>\n",
       "      <td>0</td>\n",
       "      <td>0</td>\n",
       "      <td>0</td>\n",
       "      <td>0</td>\n",
       "      <td>0</td>\n",
       "      <td>0.0</td>\n",
       "      <td>4</td>\n",
       "      <td>5</td>\n",
       "      <td>0.064825</td>\n",
       "    </tr>\n",
       "    <tr>\n",
       "      <th>388406</th>\n",
       "      <td>718007</td>\n",
       "      <td>False</td>\n",
       "      <td>what is a \"phone service\"?</td>\n",
       "      <td>0.0</td>\n",
       "      <td>0.0</td>\n",
       "      <td>0.000000</td>\n",
       "      <td>0.000000</td>\n",
       "      <td>0.0</td>\n",
       "      <td>NaN</td>\n",
       "      <td>NaN</td>\n",
       "      <td>...</td>\n",
       "      <td>approved</td>\n",
       "      <td>2</td>\n",
       "      <td>0</td>\n",
       "      <td>0</td>\n",
       "      <td>0</td>\n",
       "      <td>0</td>\n",
       "      <td>0.0</td>\n",
       "      <td>0</td>\n",
       "      <td>4</td>\n",
       "      <td>0.025606</td>\n",
       "    </tr>\n",
       "    <tr>\n",
       "      <th>366372</th>\n",
       "      <td>691692</td>\n",
       "      <td>False</td>\n",
       "      <td>i'm not an environmentalist - just a trade opp...</td>\n",
       "      <td>0.0</td>\n",
       "      <td>0.0</td>\n",
       "      <td>0.000000</td>\n",
       "      <td>0.000000</td>\n",
       "      <td>0.0</td>\n",
       "      <td>NaN</td>\n",
       "      <td>NaN</td>\n",
       "      <td>...</td>\n",
       "      <td>approved</td>\n",
       "      <td>0</td>\n",
       "      <td>0</td>\n",
       "      <td>0</td>\n",
       "      <td>0</td>\n",
       "      <td>0</td>\n",
       "      <td>0.0</td>\n",
       "      <td>0</td>\n",
       "      <td>6</td>\n",
       "      <td>0.018966</td>\n",
       "    </tr>\n",
       "    <tr>\n",
       "      <th>1690128</th>\n",
       "      <td>6194260</td>\n",
       "      <td>False</td>\n",
       "      <td>the latter part of that is actually a pretty g...</td>\n",
       "      <td>0.0</td>\n",
       "      <td>0.0</td>\n",
       "      <td>0.000000</td>\n",
       "      <td>0.000000</td>\n",
       "      <td>0.0</td>\n",
       "      <td>0.7</td>\n",
       "      <td>0.0</td>\n",
       "      <td>...</td>\n",
       "      <td>approved</td>\n",
       "      <td>0</td>\n",
       "      <td>0</td>\n",
       "      <td>1</td>\n",
       "      <td>2</td>\n",
       "      <td>1</td>\n",
       "      <td>0.0</td>\n",
       "      <td>10</td>\n",
       "      <td>4</td>\n",
       "      <td>0.005961</td>\n",
       "    </tr>\n",
       "    <tr>\n",
       "      <th>1751848</th>\n",
       "      <td>6269536</td>\n",
       "      <td>False</td>\n",
       "      <td>yes bible thumping, country music loving repub...</td>\n",
       "      <td>0.0</td>\n",
       "      <td>0.0</td>\n",
       "      <td>0.166667</td>\n",
       "      <td>0.000000</td>\n",
       "      <td>0.0</td>\n",
       "      <td>NaN</td>\n",
       "      <td>NaN</td>\n",
       "      <td>...</td>\n",
       "      <td>approved</td>\n",
       "      <td>0</td>\n",
       "      <td>0</td>\n",
       "      <td>0</td>\n",
       "      <td>0</td>\n",
       "      <td>0</td>\n",
       "      <td>0.0</td>\n",
       "      <td>0</td>\n",
       "      <td>6</td>\n",
       "      <td>0.012523</td>\n",
       "    </tr>\n",
       "    <tr>\n",
       "      <th>547146</th>\n",
       "      <td>912524</td>\n",
       "      <td>False</td>\n",
       "      <td>good piece.\\nevery downside has an upside, i s...</td>\n",
       "      <td>0.0</td>\n",
       "      <td>0.0</td>\n",
       "      <td>0.000000</td>\n",
       "      <td>0.000000</td>\n",
       "      <td>0.0</td>\n",
       "      <td>NaN</td>\n",
       "      <td>NaN</td>\n",
       "      <td>...</td>\n",
       "      <td>approved</td>\n",
       "      <td>0</td>\n",
       "      <td>0</td>\n",
       "      <td>0</td>\n",
       "      <td>0</td>\n",
       "      <td>0</td>\n",
       "      <td>0.0</td>\n",
       "      <td>0</td>\n",
       "      <td>4</td>\n",
       "      <td>0.012758</td>\n",
       "    </tr>\n",
       "  </tbody>\n",
       "</table>\n",
       "<p>10 rows × 46 columns</p>\n",
       "</div>"
      ],
      "text/plain": [
       "              id  target                                       comment_text  \\\n",
       "44381     296033   False  why are usa prisons not like dennmark prisons....   \n",
       "878357   5195332   False  whether it's 75% or 83%, women are still being...   \n",
       "1798596  6325481   False  as is proven on this site every hour, the 'fac...   \n",
       "1148701  5521009   False  chris, your last sentence was an awful ending ...   \n",
       "1113393  5476762   False  i must have made you really mad because your c...   \n",
       "388406    718007   False                         what is a \"phone service\"?   \n",
       "366372    691692   False  i'm not an environmentalist - just a trade opp...   \n",
       "1690128  6194260   False  the latter part of that is actually a pretty g...   \n",
       "1751848  6269536   False  yes bible thumping, country music loving repub...   \n",
       "547146    912524   False  good piece.\\nevery downside has an upside, i s...   \n",
       "\n",
       "         severe_toxicity  obscene  identity_attack    insult  threat  asian  \\\n",
       "44381                0.0      0.0         0.000000  0.000000     0.0    NaN   \n",
       "878357               0.0      0.0         0.166667  0.166667     0.0    0.0   \n",
       "1798596              0.0      0.0         0.000000  0.000000     0.0    0.0   \n",
       "1148701              0.0      0.0         0.000000  0.000000     0.0    0.0   \n",
       "1113393              0.0      0.0         0.000000  0.200000     0.0    0.0   \n",
       "388406               0.0      0.0         0.000000  0.000000     0.0    NaN   \n",
       "366372               0.0      0.0         0.000000  0.000000     0.0    NaN   \n",
       "1690128              0.0      0.0         0.000000  0.000000     0.0    0.7   \n",
       "1751848              0.0      0.0         0.166667  0.000000     0.0    NaN   \n",
       "547146               0.0      0.0         0.000000  0.000000     0.0    NaN   \n",
       "\n",
       "         atheist    ...       rating  funny  wow  sad  likes  disagree  \\\n",
       "44381        NaN    ...     approved      0    0    0      2         0   \n",
       "878357       0.0    ...     approved      0    0    0      2         1   \n",
       "1798596      0.0    ...     approved      0    0    0      0         0   \n",
       "1148701      0.0    ...     approved      0    0    0      1         2   \n",
       "1113393      0.0    ...     approved      0    0    0      0         0   \n",
       "388406       NaN    ...     approved      2    0    0      0         0   \n",
       "366372       NaN    ...     approved      0    0    0      0         0   \n",
       "1690128      0.0    ...     approved      0    0    1      2         1   \n",
       "1751848      NaN    ...     approved      0    0    0      0         0   \n",
       "547146       NaN    ...     approved      0    0    0      0         0   \n",
       "\n",
       "         sexual_explicit  identity_annotator_count  toxicity_annotator_count  \\\n",
       "44381                0.0                         0                         4   \n",
       "878357               0.0                        10                         6   \n",
       "1798596              0.0                         4                         4   \n",
       "1148701              0.0                         4                         4   \n",
       "1113393              0.0                         4                         5   \n",
       "388406               0.0                         0                         4   \n",
       "366372               0.0                         0                         6   \n",
       "1690128              0.0                        10                         4   \n",
       "1751848              0.0                         0                         6   \n",
       "547146               0.0                         0                         4   \n",
       "\n",
       "         my_model  \n",
       "44381    0.137376  \n",
       "878357   0.043060  \n",
       "1798596  0.004993  \n",
       "1148701  0.085857  \n",
       "1113393  0.064825  \n",
       "388406   0.025606  \n",
       "366372   0.018966  \n",
       "1690128  0.005961  \n",
       "1751848  0.012523  \n",
       "547146   0.012758  \n",
       "\n",
       "[10 rows x 46 columns]"
      ]
     },
     "execution_count": 34,
     "metadata": {},
     "output_type": "execute_result"
    }
   ],
   "source": [
    "df_validate.sample(10)"
   ]
  },
  {
   "cell_type": "markdown",
   "metadata": {},
   "source": [
    "## <font color='blus'>1.3 Bias computation </font>    "
   ]
  },
  {
   "cell_type": "code",
   "execution_count": 20,
   "metadata": {},
   "outputs": [
    {
     "data": {
      "text/html": [
       "<div>\n",
       "<style scoped>\n",
       "    .dataframe tbody tr th:only-of-type {\n",
       "        vertical-align: middle;\n",
       "    }\n",
       "\n",
       "    .dataframe tbody tr th {\n",
       "        vertical-align: top;\n",
       "    }\n",
       "\n",
       "    .dataframe thead th {\n",
       "        text-align: right;\n",
       "    }\n",
       "</style>\n",
       "<table border=\"1\" class=\"dataframe\">\n",
       "  <thead>\n",
       "    <tr style=\"text-align: right;\">\n",
       "      <th></th>\n",
       "      <th>bnsp_auc</th>\n",
       "      <th>bpsn_auc</th>\n",
       "      <th>subgroup</th>\n",
       "      <th>subgroup_auc</th>\n",
       "      <th>subgroup_size</th>\n",
       "    </tr>\n",
       "  </thead>\n",
       "  <tbody>\n",
       "    <tr>\n",
       "      <th>2</th>\n",
       "      <td>0.952807</td>\n",
       "      <td>0.767863</td>\n",
       "      <td>homosexual_gay_or_lesbian</td>\n",
       "      <td>0.788041</td>\n",
       "      <td>2135</td>\n",
       "    </tr>\n",
       "    <tr>\n",
       "      <th>6</th>\n",
       "      <td>0.960977</td>\n",
       "      <td>0.748417</td>\n",
       "      <td>black</td>\n",
       "      <td>0.792847</td>\n",
       "      <td>3001</td>\n",
       "    </tr>\n",
       "    <tr>\n",
       "      <th>7</th>\n",
       "      <td>0.962681</td>\n",
       "      <td>0.757616</td>\n",
       "      <td>white</td>\n",
       "      <td>0.811616</td>\n",
       "      <td>4959</td>\n",
       "    </tr>\n",
       "    <tr>\n",
       "      <th>5</th>\n",
       "      <td>0.948681</td>\n",
       "      <td>0.807307</td>\n",
       "      <td>muslim</td>\n",
       "      <td>0.819371</td>\n",
       "      <td>4194</td>\n",
       "    </tr>\n",
       "    <tr>\n",
       "      <th>4</th>\n",
       "      <td>0.944562</td>\n",
       "      <td>0.857550</td>\n",
       "      <td>jewish</td>\n",
       "      <td>0.863823</td>\n",
       "      <td>1527</td>\n",
       "    </tr>\n",
       "    <tr>\n",
       "      <th>8</th>\n",
       "      <td>0.945844</td>\n",
       "      <td>0.845364</td>\n",
       "      <td>psychiatric_or_mental_illness</td>\n",
       "      <td>0.866300</td>\n",
       "      <td>980</td>\n",
       "    </tr>\n",
       "    <tr>\n",
       "      <th>1</th>\n",
       "      <td>0.935858</td>\n",
       "      <td>0.872772</td>\n",
       "      <td>female</td>\n",
       "      <td>0.868616</td>\n",
       "      <td>10770</td>\n",
       "    </tr>\n",
       "    <tr>\n",
       "      <th>0</th>\n",
       "      <td>0.943378</td>\n",
       "      <td>0.861892</td>\n",
       "      <td>male</td>\n",
       "      <td>0.872911</td>\n",
       "      <td>8854</td>\n",
       "    </tr>\n",
       "    <tr>\n",
       "      <th>3</th>\n",
       "      <td>0.924033</td>\n",
       "      <td>0.907914</td>\n",
       "      <td>christian</td>\n",
       "      <td>0.895548</td>\n",
       "      <td>8041</td>\n",
       "    </tr>\n",
       "  </tbody>\n",
       "</table>\n",
       "</div>"
      ],
      "text/plain": [
       "   bnsp_auc  bpsn_auc                       subgroup  subgroup_auc  \\\n",
       "2  0.952807  0.767863      homosexual_gay_or_lesbian      0.788041   \n",
       "6  0.960977  0.748417                          black      0.792847   \n",
       "7  0.962681  0.757616                          white      0.811616   \n",
       "5  0.948681  0.807307                         muslim      0.819371   \n",
       "4  0.944562  0.857550                         jewish      0.863823   \n",
       "8  0.945844  0.845364  psychiatric_or_mental_illness      0.866300   \n",
       "1  0.935858  0.872772                         female      0.868616   \n",
       "0  0.943378  0.861892                           male      0.872911   \n",
       "3  0.924033  0.907914                      christian      0.895548   \n",
       "\n",
       "   subgroup_size  \n",
       "2           2135  \n",
       "6           3001  \n",
       "7           4959  \n",
       "5           4194  \n",
       "4           1527  \n",
       "8            980  \n",
       "1          10770  \n",
       "0           8854  \n",
       "3           8041  "
      ]
     },
     "execution_count": 20,
     "metadata": {},
     "output_type": "execute_result"
    }
   ],
   "source": [
    "import p9_util_metrics\n",
    "df_bias_metrics = p9_util_metrics.compute_bias_metrics_for_model(df_validate, p9_util_metrics.IDENTITY_COLUMNS, MODEL_NAME, p9_util_benchmark.TOXICITY_COLUMN)\n",
    "df_bias_metrics"
   ]
  },
  {
   "cell_type": "code",
   "execution_count": 21,
   "metadata": {},
   "outputs": [
    {
     "data": {
      "text/plain": [
       "0.9308685863411208"
      ]
     },
     "execution_count": 21,
     "metadata": {},
     "output_type": "execute_result"
    }
   ],
   "source": [
    "import p9_util_metrics\n",
    "overall_auc = p9_util_metrics.calculate_overall_auc(df_validate, MODEL_NAME, p9_util_metrics.TOXICITY_COLUMN)\n",
    "overall_auc"
   ]
  },
  {
   "cell_type": "code",
   "execution_count": 22,
   "metadata": {},
   "outputs": [
    {
     "name": "stdout",
     "output_type": "stream",
     "text": [
      "Bias score contribution : 0.6494566751288194\n"
     ]
    },
    {
     "data": {
      "text/plain": [
       "0.8821738217140996"
      ]
     },
     "execution_count": 22,
     "metadata": {},
     "output_type": "execute_result"
    }
   ],
   "source": [
    "import p9_util_metrics\n",
    "\n",
    "p9_util_metrics.get_final_metric(df_bias_metrics, overall_auc)"
   ]
  },
  {
   "cell_type": "markdown",
   "metadata": {},
   "source": [
    "## <font color='blus'>1.4 Binay classification performances </font>    "
   ]
  },
  {
   "cell_type": "code",
   "execution_count": 25,
   "metadata": {},
   "outputs": [],
   "source": [
    "X_valid = p9_util_benchmark.pad_text(df_validate[p9_util_benchmark.TEXT_COLUMN], tokenizer, \\\n",
    "                                     dict_param_keras_cnn=p9_util_config.dict_param_keras_cnn)"
   ]
  },
  {
   "cell_type": "code",
   "execution_count": 31,
   "metadata": {},
   "outputs": [
    {
     "name": "stdout",
     "output_type": "stream",
     "text": [
      "[0, 1]\n",
      "\n",
      "Confusion matrix for all classes : \n",
      "\n",
      "[[332106      1]\n",
      " [ 28868      0]]\n",
      "\n",
      "Normalized confusion matrix\n",
      "[[9.99996989e-01 3.01107776e-06]\n",
      " [1.00000000e+00 0.00000000e+00]]\n",
      "Confusion matrix, without normalization\n",
      "[[332106      1]\n",
      " [ 28868      0]]\n",
      "\n",
      "TP rate = [0. 0. 1.]\n",
      "FP rate = [0.00000000e+00 3.01107776e-06 1.00000000e+00]\n",
      "AUC = 0.4999984944611225\n"
     ]
    },
    {
     "data": {
      "image/png": "[encoded data removed]",
      "text/plain": [
       "<Figure size 432x288 with 1 Axes>"
      ]
     },
     "metadata": {
      "needs_background": "light"
     },
     "output_type": "display_data"
    },
    {
     "data": {
      "image/png": "[encoded data removed]",
      "text/plain": [
       "<Figure size 576x576 with 2 Axes>"
      ]
     },
     "metadata": {
      "needs_background": "light"
     },
     "output_type": "display_data"
    },
    {
     "data": {
      "image/png": "[encoded data removed]",
      "text/plain": [
       "<Figure size 576x576 with 2 Axes>"
      ]
     },
     "metadata": {
      "needs_background": "light"
     },
     "output_type": "display_data"
    },
    {
     "data": {
      "image/png": "[encoded data removed]",
      "text/plain": [
       "<Figure size 432x432 with 1 Axes>"
      ]
     },
     "metadata": {
      "needs_background": "light"
     },
     "output_type": "display_data"
    }
   ],
   "source": [
    "import p9_util\n",
    "\n",
    "y_= p9_util.display_class_performance(model, X_valid, df_validate.target.values.astype(int), is_binary=True, \\\n",
    "                                      y_pred=df_validate[MODEL_NAME].values.astype(int), \\\n",
    "                                      title=\"Confusion matrix with CNN\", nb_classes=2)"
   ]
  },
  {
   "cell_type": "markdown",
   "metadata": {},
   "source": [
    "# <font color='blus'>2. Submission algorithm</font>\n",
    "\n",
    "    Submission algorithm is compared with benchmark algorithm using benchmark data-preparation.\n",
    "    \n",
    "    Switching from benchmark algorithm to submission is achieved thanks to model_type parameter \n",
    "    inside p9_util_benchmark.dict_param_benchmark configuration.\n",
    "    "
   ]
  },
  {
   "cell_type": "code",
   "execution_count": 1,
   "metadata": {},
   "outputs": [],
   "source": [
    "from sklearn import metrics\n",
    "%matplotlib inline\n",
    "\n",
    "%load_ext autoreload\n",
    "%autoreload 2\n",
    "\n",
    "import warnings\n",
    "warnings.filterwarnings('ignore')"
   ]
  },
  {
   "cell_type": "code",
   "execution_count": 2,
   "metadata": {},
   "outputs": [
    {
     "name": "stderr",
     "output_type": "stream",
     "text": [
      "Using TensorFlow backend.\n",
      "WARNING: Logging before flag parsing goes to stderr.\n",
      "W1028 22:43:49.981447 139793497954112 lazy_loader.py:50] \n",
      "The TensorFlow contrib module will not be included in TensorFlow 2.0.\n",
      "For more information, please see:\n",
      "  * https://github.com/tensorflow/community/blob/master/rfcs/20180907-contrib-sunset.md\n",
      "  * https://github.com/tensorflow/addons\n",
      "  * https://github.com/tensorflow/io (for I/O related ops)\n",
      "If you depend on functionality not listed there, please file an issue.\n",
      "\n",
      "W1028 22:43:49.982389 139793497954112 deprecation_wrapper.py:119] From /home/bangui/anaconda3/envs/python36/lib/python3.6/site-packages/adanet/tf_compat/__init__.py:96: The name tf.losses.Reduction is deprecated. Please use tf.compat.v1.losses.Reduction instead.\n",
      "\n",
      "W1028 22:43:50.002742 139793497954112 deprecation_wrapper.py:119] From /home/bangui/Dropbox/Perso/Formation/openclassrooms/OC_Datascientist/Kaggle/p8_util_config.py:137: The name tf.train.AdamOptimizer is deprecated. Please use tf.compat.v1.train.AdamOptimizer instead.\n",
      "\n"
     ]
    },
    {
     "data": {
      "text/plain": [
       "{'root_directory': './data/benchmark/',\n",
       " 'format_file': '.dill',\n",
       " 'format_model': '.h5',\n",
       " 'root_filename_benchmark': './data/benchmark/df_sample_benchmark_',\n",
       " 'root_filename_model': 'model_jigsaw_',\n",
       " 'n_sample': None,\n",
       " 'n_sample_train': None,\n",
       " 'is_dataset_reloaded': True,\n",
       " 'model_type': 'submission',\n",
       " 'is_model_reloaded': False,\n",
       " 'is_embedding_layer': True,\n",
       " 'threshold': 0.5,\n",
       " 'embeddings_dimension': 100,\n",
       " 'val_score_max': True,\n",
       " 'epochs': 10}"
      ]
     },
     "execution_count": 2,
     "metadata": {},
     "output_type": "execute_result"
    }
   ],
   "source": [
    "import p9_util_benchmark\n",
    "p9_util_benchmark.dict_param_benchmark"
   ]
  },
  {
   "cell_type": "code",
   "execution_count": 3,
   "metadata": {},
   "outputs": [
    {
     "name": "stdout",
     "output_type": "stream",
     "text": [
      "None ./data/benchmark/df_sample_benchmark_valid_FULL.dill\n",
      "p5_util.object_load : fileName= ./data/benchmark/df_sample_benchmark_valid_FULL.dill\n",
      "p5_util.object_load : fileName= ./data/benchmark/df_sample_benchmark_train_FULL.dill\n",
      "p5_util.object_load : fileName= ./data/benchmark/tokenizer_FULL.dill\n"
     ]
    }
   ],
   "source": [
    "import pandas as pd\n",
    "from keras.preprocessing.text import Tokenizer\n",
    "from sklearn import model_selection\n",
    "\n",
    "import keras\n",
    "\n",
    "import p5_util\n",
    "import p9_util_benchmark\n",
    "\n",
    "filename = './data/benchmark/model_jigsaw_benchmark.h5'\n",
    "\n",
    "n_sample = p9_util_benchmark.dict_param_benchmark['n_sample']\n",
    "filename_benchmark = p9_util_benchmark.build_filename_benchmark()\n",
    "print(n_sample,filename_benchmark)\n",
    "\n",
    "#-------------------------------------------------------------------------------\n",
    "# Loading or building dataset\n",
    "#-------------------------------------------------------------------------------\n",
    "if p9_util_benchmark.dict_param_benchmark['is_dataset_reloaded'] :\n",
    "   \n",
    "    #-------------------------------------------------------------\n",
    "    # Load validation dataframe\n",
    "    #-------------------------------------------------------------\n",
    "    filename_valid_dataset = p9_util_benchmark.build_filename_benchmark()\n",
    "    df_validate = p5_util.object_load(filename_valid_dataset)\n",
    "\n",
    "    #-------------------------------------------------------------\n",
    "    # Load train dataframe\n",
    "    #-------------------------------------------------------------\n",
    "    filename_train_dataset = p9_util_benchmark.build_filename_benchmark(is_train=True)    \n",
    "    df_train = p5_util.object_load(filename_train_dataset)\n",
    "    \n",
    "    #-------------------------------------------------------------\n",
    "    # Load text tokenizer for data-preparation.\n",
    "    #-------------------------------------------------------------\n",
    "    tokenizer = p5_util.object_load(p9_util_benchmark.build_filename_tokenizer())\n",
    "else :\n",
    "    #-------------------------------------------------------------\n",
    "    # Build dataset for train and validation, \n",
    "    #-------------------------------------------------------------\n",
    "    df_train = pd.read_csv('./data/train.csv.zip', compression='zip', header=0, sep=',', quotechar='\"')\n",
    "    df_train['comment_text'] = df_train['comment_text'].apply(lambda x : x.lower())\n",
    "    df_train['comment_text'] = df_train['comment_text'].astype(str)\n",
    "\n",
    "    df_train = p9_util_benchmark.convert_dataframe_to_bool(df_train, \\\n",
    "                                                           dict_param_benchmark_=p9_util_benchmark.dict_param_benchmark)\n",
    "\n",
    "    df_train, df_validate = model_selection.train_test_split(df_train, test_size=0.2)\n",
    "    print('%d train comments, %d validation comments' % (len(df_train), len(df_validate)))\n",
    "    \n",
    "    #-------------------------------------------------------------\n",
    "    # Save validation dataset into a file.\n",
    "    #-------------------------------------------------------------\n",
    "    if n_sample is None :\n",
    "        n_sample = len(df_validate)\n",
    "    else :\n",
    "        pass    \n",
    "    filename_valid_dataset = p9_util_benchmark.build_filename_benchmark()\n",
    "    p5_util.object_dump(df_validate.sample(n_sample),filename_valid_dataset,is_verbose=True )\n",
    "    \n",
    "    #-------------------------------------------------------------\n",
    "    # Save train dataset into a file.\n",
    "    #-------------------------------------------------------------\n",
    "    filename_train_dataset = p9_util_benchmark.build_filename_benchmark(is_train=True)\n",
    "    p5_util.object_dump(df_train,filename_train_dataset,is_verbose=True )\n",
    "    \n",
    "    #-------------------------------------------------------------\n",
    "    # Create a text tokenizer and save it.\n",
    "    #-------------------------------------------------------------\n",
    "    tokenizer = Tokenizer(num_words=p9_util_benchmark.MAX_NUM_WORDS)\n",
    "    tokenizer.fit_on_texts(df_train[p9_util_benchmark.TEXT_COLUMN])\n",
    "    filename_tokenizer = p9_util_benchmark.build_filename_tokenizer()\n",
    "    p5_util.object_dump(tokenizer,filename_tokenizer, is_verbose=True )\n",
    "    \n",
    "    #-------------------------------------------------------------\n",
    "    # Save parameters configuration into a file.\n",
    "    #-------------------------------------------------------------\n",
    "    filename_param = p9_util_benchmark.build_filename_param(p9_util_benchmark.dict_param_benchmark)\n",
    "    p5_util.object_dump(p9_util_benchmark.dict_param_benchmark,filename_param, is_verbose=True )"
   ]
  },
  {
   "cell_type": "markdown",
   "metadata": {},
   "source": [
    "    Below is the Keras configuration for CNN model."
   ]
  },
  {
   "cell_type": "code",
   "execution_count": 4,
   "metadata": {},
   "outputs": [
    {
     "data": {
      "text/plain": [
       "{'dict_param_keras': {'input_dim': (250, 100),\n",
       "  'batch_size': 500,\n",
       "  'nb_epoch': 10,\n",
       "  'verbose': 1,\n",
       "  'dropout_rate': 0.3,\n",
       "  'regul': (None, None),\n",
       "  'is_batch_normalized': True,\n",
       "  'lr': 0.001,\n",
       "  'nbClasses': 2},\n",
       " 'filter_size': 3,\n",
       " 'stride_size': 1,\n",
       " 'pool_size': 2,\n",
       " 'pool_stride': 2,\n",
       " 'nb_filter': 256,\n",
       " 'conv_layer': 4,\n",
       " 'nb_dense_neuron': 128,\n",
       " 'dense_layer': 1,\n",
       " 'dense_layer_decrease_rate': 1,\n",
       " 'list_channel': [],\n",
       " 'list_filter_channel': []}"
      ]
     },
     "execution_count": 4,
     "metadata": {},
     "output_type": "execute_result"
    }
   ],
   "source": [
    "import p9_util_config\n",
    "p9_util_config.dict_param_keras_cnn"
   ]
  },
  {
   "cell_type": "markdown",
   "metadata": {},
   "source": [
    "    Model is loaded from hard-disk."
   ]
  },
  {
   "cell_type": "code",
   "execution_count": 5,
   "metadata": {},
   "outputs": [
    {
     "name": "stdout",
     "output_type": "stream",
     "text": [
      "p5_util.object_load : fileName= ./data/benchmark/tokenizer_FULL.dill\n"
     ]
    },
    {
     "name": "stderr",
     "output_type": "stream",
     "text": [
      "W1028 22:44:01.882208 139793497954112 deprecation_wrapper.py:119] From /home/bangui/anaconda3/envs/python36/lib/python3.6/site-packages/keras/backend/tensorflow_backend.py:74: The name tf.get_default_graph is deprecated. Please use tf.compat.v1.get_default_graph instead.\n",
      "\n",
      "W1028 22:44:01.883948 139793497954112 deprecation_wrapper.py:119] From /home/bangui/anaconda3/envs/python36/lib/python3.6/site-packages/keras/backend/tensorflow_backend.py:517: The name tf.placeholder is deprecated. Please use tf.compat.v1.placeholder instead.\n",
      "\n"
     ]
    },
    {
     "name": "stdout",
     "output_type": "stream",
     "text": [
      "Loading embeddings...\n",
      "Building embeddings...\n",
      "object_dump: file name= ./data/benchmark/embedding_matrix_100D_FULL.dill\n"
     ]
    },
    {
     "name": "stderr",
     "output_type": "stream",
     "text": [
      "W1028 22:44:11.546623 139793497954112 deprecation_wrapper.py:119] From /home/bangui/anaconda3/envs/python36/lib/python3.6/site-packages/keras/backend/tensorflow_backend.py:4138: The name tf.random_uniform is deprecated. Please use tf.random.uniform instead.\n",
      "\n",
      "W1028 22:44:11.569584 139793497954112 deprecation_wrapper.py:119] From /home/bangui/anaconda3/envs/python36/lib/python3.6/site-packages/keras/backend/tensorflow_backend.py:174: The name tf.get_default_session is deprecated. Please use tf.compat.v1.get_default_session instead.\n",
      "\n",
      "W1028 22:44:11.570117 139793497954112 deprecation_wrapper.py:119] From /home/bangui/anaconda3/envs/python36/lib/python3.6/site-packages/keras/backend/tensorflow_backend.py:181: The name tf.ConfigProto is deprecated. Please use tf.compat.v1.ConfigProto instead.\n",
      "\n",
      "W1028 22:44:12.182253 139793497954112 deprecation_wrapper.py:119] From /home/bangui/anaconda3/envs/python36/lib/python3.6/site-packages/keras/backend/tensorflow_backend.py:3976: The name tf.nn.max_pool is deprecated. Please use tf.nn.max_pool2d instead.\n",
      "\n"
     ]
    },
    {
     "name": "stdout",
     "output_type": "stream",
     "text": [
      "<class 'tensorflow.python.framework.ops.Tensor'>\n"
     ]
    },
    {
     "name": "stderr",
     "output_type": "stream",
     "text": [
      "W1028 22:44:12.503062 139793497954112 deprecation.py:506] From /home/bangui/anaconda3/envs/python36/lib/python3.6/site-packages/keras/backend/tensorflow_backend.py:3445: calling dropout (from tensorflow.python.ops.nn_ops) with keep_prob is deprecated and will be removed in a future version.\n",
      "Instructions for updating:\n",
      "Please use `rate` instead of `keep_prob`. Rate should be set to `rate = 1 - keep_prob`.\n",
      "W1028 22:44:12.591454 139793497954112 deprecation_wrapper.py:119] From /home/bangui/anaconda3/envs/python36/lib/python3.6/site-packages/keras/optimizers.py:790: The name tf.train.Optimizer is deprecated. Please use tf.compat.v1.train.Optimizer instead.\n",
      "\n",
      "W1028 22:44:12.614626 139793497954112 deprecation.py:323] From /home/bangui/anaconda3/envs/python36/lib/python3.6/site-packages/tensorflow/python/ops/nn_impl.py:180: add_dispatch_support.<locals>.wrapper (from tensorflow.python.ops.array_ops) is deprecated and will be removed in a future version.\n",
      "Instructions for updating:\n",
      "Use tf.where in 2.0, which has the same broadcast rule as np.where\n"
     ]
    },
    {
     "name": "stdout",
     "output_type": "stream",
     "text": [
      "_________________________________________________________________\n",
      "Layer (type)                 Output Shape              Param #   \n",
      "=================================================================\n",
      "input_1 (InputLayer)         (None, 250)               0         \n",
      "_________________________________________________________________\n",
      "embedding_1 (Embedding)      (None, 250, 100)          35256200  \n",
      "_________________________________________________________________\n",
      "batch_normalization_1 (Batch (None, 250, 100)          400       \n",
      "_________________________________________________________________\n",
      "conv1d_1 (Conv1D)            (None, 250, 256)          51456     \n",
      "_________________________________________________________________\n",
      "max_pooling1d_1 (MaxPooling1 (None, 50, 256)           0         \n",
      "_________________________________________________________________\n",
      "batch_normalization_2 (Batch (None, 50, 256)           1024      \n",
      "_________________________________________________________________\n",
      "conv1d_2 (Conv1D)            (None, 50, 256)           196864    \n",
      "_________________________________________________________________\n",
      "max_pooling1d_2 (MaxPooling1 (None, 10, 256)           0         \n",
      "_________________________________________________________________\n",
      "batch_normalization_3 (Batch (None, 10, 256)           1024      \n",
      "_________________________________________________________________\n",
      "conv1d_3 (Conv1D)            (None, 10, 256)           262400    \n",
      "_________________________________________________________________\n",
      "max_pooling1d_3 (MaxPooling1 (None, 5, 256)            0         \n",
      "_________________________________________________________________\n",
      "flatten_1 (Flatten)          (None, 1280)              0         \n",
      "_________________________________________________________________\n",
      "batch_normalization_4 (Batch (None, 1280)              5120      \n",
      "_________________________________________________________________\n",
      "dropout_1 (Dropout)          (None, 1280)              0         \n",
      "_________________________________________________________________\n",
      "dense_1 (Dense)              (None, 128)               163968    \n",
      "_________________________________________________________________\n",
      "dense_2 (Dense)              (None, 2)                 258       \n",
      "=================================================================\n",
      "Total params: 35,938,714\n",
      "Trainable params: 678,730\n",
      "Non-trainable params: 35,259,984\n",
      "_________________________________________________________________\n"
     ]
    }
   ],
   "source": [
    "import keras\n",
    "import p5_util\n",
    "import p9_util_benchmark\n",
    "\n",
    "#-------------------------------------------------------------------------------\n",
    "# Loading or building model\n",
    "#-------------------------------------------------------------------------------    \n",
    "if p9_util_benchmark.dict_param_benchmark['is_model_reloaded'] :\n",
    "    #-------------------------------------------------------------\n",
    "    # Load benchmark model.\n",
    "    #-------------------------------------------------------------\n",
    "    filename_model = p9_util_benchmark.build_filename_model()\n",
    "    print(\"Loding model= {}\".format(filename_model))\n",
    "    model = keras.models.load_model(filename_model)\n",
    "else :\n",
    "    #-------------------------------------------------------------\n",
    "    # Build benchmark model then save it.\n",
    "    #-------------------------------------------------------------\n",
    "    model,list_callback = p9_util_benchmark.build_model(p9_util_benchmark.dict_param_benchmark, \\\n",
    "                                                        p9_util_config.dict_param_keras_cnn)\n",
    "    #model = p9_util_benchmark.train_benchmark_model(df_train, df_validate, tokenizer)\n",
    "\n",
    "    filename_model = p9_util_benchmark.build_filename_model()\n",
    "    model.save(filename_model)\n",
    "    \n",
    "        "
   ]
  },
  {
   "cell_type": "markdown",
   "metadata": {},
   "source": [
    "    Model is trained and best model is kept and saved on hard drive."
   ]
  },
  {
   "cell_type": "code",
   "execution_count": 7,
   "metadata": {},
   "outputs": [
    {
     "name": "stdout",
     "output_type": "stream",
     "text": [
      "Data preparation...\n",
      "\n",
      "Batch size= 500\n",
      "Model training...\n",
      "Train on 1443899 samples, validate on 360975 samples\n",
      "Epoch 1/10\n",
      "1443899/1443899 [==============================] - 3270s 2ms/step - loss: 0.1650 - acc: 0.9424 - val_loss: 0.1541 - val_acc: 0.9447\n",
      "\n",
      "Epoch 00001: val_acc improved from -inf to 0.94469, saving model to ./data/benchmark/model_jigsaw_submission_sampleFULL_threshold0.5_best.h5\n",
      "Epoch 2/10\n",
      "1443899/1443899 [==============================] - 3467s 2ms/step - loss: 0.1425 - acc: 0.9478 - val_loss: 0.1422 - val_acc: 0.9486\n",
      "\n",
      "Epoch 00002: val_acc improved from 0.94469 to 0.94864, saving model to ./data/benchmark/model_jigsaw_submission_sampleFULL_threshold0.5_best.h5\n",
      "Epoch 3/10\n",
      "1443899/1443899 [==============================] - 3792s 3ms/step - loss: 0.1381 - acc: 0.9490 - val_loss: 0.1453 - val_acc: 0.9468\n",
      "\n",
      "Epoch 00003: val_acc did not improve from 0.94864\n",
      "Epoch 4/10\n",
      "1443899/1443899 [==============================] - 2347s 2ms/step - loss: 0.1351 - acc: 0.9500 - val_loss: 0.1420 - val_acc: 0.9473\n",
      "\n",
      "Epoch 00004: val_acc did not improve from 0.94864\n",
      "Epoch 5/10\n",
      "1443899/1443899 [==============================] - 2339s 2ms/step - loss: 0.1322 - acc: 0.9508 - val_loss: 0.1466 - val_acc: 0.9488\n",
      "\n",
      "Epoch 00005: val_acc improved from 0.94864 to 0.94883, saving model to ./data/benchmark/model_jigsaw_submission_sampleFULL_threshold0.5_best.h5\n",
      "Epoch 6/10\n",
      "1443899/1443899 [==============================] - 2340s 2ms/step - loss: 0.1291 - acc: 0.9515 - val_loss: 0.1469 - val_acc: 0.9470\n",
      "\n",
      "Epoch 00006: val_acc did not improve from 0.94883\n",
      "Epoch 7/10\n",
      "1443899/1443899 [==============================] - 2347s 2ms/step - loss: 0.1260 - acc: 0.9525 - val_loss: 0.1458 - val_acc: 0.9485\n",
      "\n",
      "Epoch 00007: val_acc did not improve from 0.94883\n",
      "Epoch 8/10\n",
      "1443899/1443899 [==============================] - 2335s 2ms/step - loss: 0.1227 - acc: 0.9533 - val_loss: 0.1568 - val_acc: 0.9482\n",
      "\n",
      "Epoch 00008: val_acc did not improve from 0.94883\n",
      "Epoch 9/10\n",
      "1443899/1443899 [==============================] - 2339s 2ms/step - loss: 0.1187 - acc: 0.9545 - val_loss: 0.1595 - val_acc: 0.9480\n",
      "\n",
      "Epoch 00009: val_acc did not improve from 0.94883\n",
      "Epoch 10/10\n",
      "1443899/1443899 [==============================] - 2337s 2ms/step - loss: 0.1149 - acc: 0.9558 - val_loss: 0.1773 - val_acc: 0.9473\n",
      "\n",
      "Epoch 00010: val_acc did not improve from 0.94883\n"
     ]
    }
   ],
   "source": [
    "import p9_util_config\n",
    "import p9_util_benchmark\n",
    "model, history = p9_util_benchmark.train_benchmark_model(model, df_train, df_validate, tokenizer,\n",
    "                                                         dict_param_keras_cnn=p9_util_config.dict_param_keras_cnn,\n",
    "                                                        list_callback = list_callback)"
   ]
  },
  {
   "cell_type": "code",
   "execution_count": 8,
   "metadata": {},
   "outputs": [
    {
     "name": "stdout",
     "output_type": "stream",
     "text": [
      "object_dump: file name= ./data/benchmark/history_submission_100D_FULL_.dill\n"
     ]
    }
   ],
   "source": [
    "import p5_util\n",
    "import p9_util_benchmark\n",
    "\n",
    "filename_history = p9_util_benchmark.build_filename_history(p9_util_benchmark.dict_param_benchmark)\n",
    "p5_util.object_dump(history,filename_history, is_verbose=True)"
   ]
  },
  {
   "cell_type": "markdown",
   "metadata": {},
   "source": [
    "    Reload model with best performances."
   ]
  },
  {
   "cell_type": "code",
   "execution_count": 9,
   "metadata": {},
   "outputs": [
    {
     "name": "stdout",
     "output_type": "stream",
     "text": [
      "_________________________________________________________________\n",
      "Layer (type)                 Output Shape              Param #   \n",
      "=================================================================\n",
      "input_1 (InputLayer)         (None, 250)               0         \n",
      "_________________________________________________________________\n",
      "embedding_1 (Embedding)      (None, 250, 100)          35256200  \n",
      "_________________________________________________________________\n",
      "batch_normalization_1 (Batch (None, 250, 100)          400       \n",
      "_________________________________________________________________\n",
      "conv1d_1 (Conv1D)            (None, 250, 256)          51456     \n",
      "_________________________________________________________________\n",
      "max_pooling1d_1 (MaxPooling1 (None, 50, 256)           0         \n",
      "_________________________________________________________________\n",
      "batch_normalization_2 (Batch (None, 50, 256)           1024      \n",
      "_________________________________________________________________\n",
      "conv1d_2 (Conv1D)            (None, 50, 256)           196864    \n",
      "_________________________________________________________________\n",
      "max_pooling1d_2 (MaxPooling1 (None, 10, 256)           0         \n",
      "_________________________________________________________________\n",
      "batch_normalization_3 (Batch (None, 10, 256)           1024      \n",
      "_________________________________________________________________\n",
      "conv1d_3 (Conv1D)            (None, 10, 256)           262400    \n",
      "_________________________________________________________________\n",
      "max_pooling1d_3 (MaxPooling1 (None, 5, 256)            0         \n",
      "_________________________________________________________________\n",
      "flatten_1 (Flatten)          (None, 1280)              0         \n",
      "_________________________________________________________________\n",
      "batch_normalization_4 (Batch (None, 1280)              5120      \n",
      "_________________________________________________________________\n",
      "dropout_1 (Dropout)          (None, 1280)              0         \n",
      "_________________________________________________________________\n",
      "dense_1 (Dense)              (None, 128)               163968    \n",
      "_________________________________________________________________\n",
      "dense_2 (Dense)              (None, 2)                 258       \n",
      "=================================================================\n",
      "Total params: 35,938,714\n",
      "Trainable params: 678,730\n",
      "Non-trainable params: 35,259,984\n",
      "_________________________________________________________________\n"
     ]
    }
   ],
   "source": [
    "import p9_util_keras\n",
    "filename = './data/benchmark/model_jigsaw_submission_sampleFULL_threshold0.5_best.h5'\n",
    "model = p9_util_keras.load_model(filename)"
   ]
  },
  {
   "cell_type": "markdown",
   "metadata": {},
   "source": [
    "    Compute predictions over data for validation with best model"
   ]
  },
  {
   "cell_type": "code",
   "execution_count": 10,
   "metadata": {},
   "outputs": [],
   "source": [
    "import p9_util_benchmark\n",
    "MODEL_NAME = 'my_model'\n",
    "df_validate[MODEL_NAME] = model.predict(p9_util_benchmark.pad_text(df_validate[p9_util_benchmark.TEXT_COLUMN], tokenizer))[:, 1]"
   ]
  },
  {
   "cell_type": "markdown",
   "metadata": {},
   "source": [
    "    Compute bias metrics"
   ]
  },
  {
   "cell_type": "code",
   "execution_count": 11,
   "metadata": {},
   "outputs": [
    {
     "data": {
      "text/html": [
       "<div>\n",
       "<style scoped>\n",
       "    .dataframe tbody tr th:only-of-type {\n",
       "        vertical-align: middle;\n",
       "    }\n",
       "\n",
       "    .dataframe tbody tr th {\n",
       "        vertical-align: top;\n",
       "    }\n",
       "\n",
       "    .dataframe thead th {\n",
       "        text-align: right;\n",
       "    }\n",
       "</style>\n",
       "<table border=\"1\" class=\"dataframe\">\n",
       "  <thead>\n",
       "    <tr style=\"text-align: right;\">\n",
       "      <th></th>\n",
       "      <th>bnsp_auc</th>\n",
       "      <th>bpsn_auc</th>\n",
       "      <th>subgroup</th>\n",
       "      <th>subgroup_auc</th>\n",
       "      <th>subgroup_size</th>\n",
       "    </tr>\n",
       "  </thead>\n",
       "  <tbody>\n",
       "    <tr>\n",
       "      <th>6</th>\n",
       "      <td>0.966469</td>\n",
       "      <td>0.740035</td>\n",
       "      <td>black</td>\n",
       "      <td>0.800221</td>\n",
       "      <td>3006</td>\n",
       "    </tr>\n",
       "    <tr>\n",
       "      <th>2</th>\n",
       "      <td>0.969815</td>\n",
       "      <td>0.751545</td>\n",
       "      <td>homosexual_gay_or_lesbian</td>\n",
       "      <td>0.814692</td>\n",
       "      <td>2221</td>\n",
       "    </tr>\n",
       "    <tr>\n",
       "      <th>7</th>\n",
       "      <td>0.970046</td>\n",
       "      <td>0.757697</td>\n",
       "      <td>white</td>\n",
       "      <td>0.815955</td>\n",
       "      <td>5077</td>\n",
       "    </tr>\n",
       "    <tr>\n",
       "      <th>5</th>\n",
       "      <td>0.964107</td>\n",
       "      <td>0.795942</td>\n",
       "      <td>muslim</td>\n",
       "      <td>0.838105</td>\n",
       "      <td>4262</td>\n",
       "    </tr>\n",
       "    <tr>\n",
       "      <th>4</th>\n",
       "      <td>0.948720</td>\n",
       "      <td>0.850942</td>\n",
       "      <td>jewish</td>\n",
       "      <td>0.852908</td>\n",
       "      <td>1509</td>\n",
       "    </tr>\n",
       "    <tr>\n",
       "      <th>8</th>\n",
       "      <td>0.961080</td>\n",
       "      <td>0.833679</td>\n",
       "      <td>psychiatric_or_mental_illness</td>\n",
       "      <td>0.868066</td>\n",
       "      <td>982</td>\n",
       "    </tr>\n",
       "    <tr>\n",
       "      <th>0</th>\n",
       "      <td>0.954104</td>\n",
       "      <td>0.867933</td>\n",
       "      <td>male</td>\n",
       "      <td>0.885497</td>\n",
       "      <td>9050</td>\n",
       "    </tr>\n",
       "    <tr>\n",
       "      <th>1</th>\n",
       "      <td>0.951559</td>\n",
       "      <td>0.875196</td>\n",
       "      <td>female</td>\n",
       "      <td>0.890155</td>\n",
       "      <td>10671</td>\n",
       "    </tr>\n",
       "    <tr>\n",
       "      <th>3</th>\n",
       "      <td>0.940989</td>\n",
       "      <td>0.908634</td>\n",
       "      <td>christian</td>\n",
       "      <td>0.907710</td>\n",
       "      <td>8081</td>\n",
       "    </tr>\n",
       "  </tbody>\n",
       "</table>\n",
       "</div>"
      ],
      "text/plain": [
       "   bnsp_auc  bpsn_auc                       subgroup  subgroup_auc  \\\n",
       "6  0.966469  0.740035                          black      0.800221   \n",
       "2  0.969815  0.751545      homosexual_gay_or_lesbian      0.814692   \n",
       "7  0.970046  0.757697                          white      0.815955   \n",
       "5  0.964107  0.795942                         muslim      0.838105   \n",
       "4  0.948720  0.850942                         jewish      0.852908   \n",
       "8  0.961080  0.833679  psychiatric_or_mental_illness      0.868066   \n",
       "0  0.954104  0.867933                           male      0.885497   \n",
       "1  0.951559  0.875196                         female      0.890155   \n",
       "3  0.940989  0.908634                      christian      0.907710   \n",
       "\n",
       "   subgroup_size  \n",
       "6           3006  \n",
       "2           2221  \n",
       "7           5077  \n",
       "5           4262  \n",
       "4           1509  \n",
       "8            982  \n",
       "0           9050  \n",
       "1          10671  \n",
       "3           8081  "
      ]
     },
     "execution_count": 11,
     "metadata": {},
     "output_type": "execute_result"
    }
   ],
   "source": [
    "import p9_util_metrics\n",
    "df_bias_metrics = p9_util_metrics.compute_bias_metrics_for_model(df_validate, p9_util_metrics.IDENTITY_COLUMNS, MODEL_NAME, p9_util_benchmark.TOXICITY_COLUMN)\n",
    "df_bias_metrics"
   ]
  },
  {
   "cell_type": "code",
   "execution_count": 12,
   "metadata": {},
   "outputs": [
    {
     "name": "stdout",
     "output_type": "stream",
     "text": [
      "\n",
      "Overall AUC= 0.9381509040672302\n",
      "Bias score contribution : 0.6535991551646829\n"
     ]
    },
    {
     "data": {
      "text/plain": [
       "0.8881368811814905"
      ]
     },
     "execution_count": 12,
     "metadata": {},
     "output_type": "execute_result"
    }
   ],
   "source": [
    "import p9_util_metrics\n",
    "overall_auc = p9_util_metrics.calculate_overall_auc(df_validate, MODEL_NAME, p9_util_metrics.TOXICITY_COLUMN)\n",
    "print(\"\\nOverall AUC= {}\".format(overall_auc))\n",
    "p9_util_metrics.get_final_metric(df_bias_metrics, overall_auc)"
   ]
  },
  {
   "cell_type": "markdown",
   "metadata": {},
   "source": [
    "    Evaluate binary classification performances."
   ]
  },
  {
   "cell_type": "code",
   "execution_count": 14,
   "metadata": {},
   "outputs": [
    {
     "name": "stdout",
     "output_type": "stream",
     "text": [
      "[0, 1]\n",
      "\n",
      "Confusion matrix for all classes : \n",
      "\n",
      "[[332246      0]\n",
      " [ 28721      8]]\n",
      "\n",
      "Normalized confusion matrix\n",
      "[[1.00000000e+00 0.00000000e+00]\n",
      " [9.99721536e-01 2.78464270e-04]]\n",
      "Confusion matrix, without normalization\n",
      "[[332246      0]\n",
      " [ 28721      8]]\n",
      "\n",
      "TP rate = [0.0000000e+00 2.7846427e-04 1.0000000e+00]\n",
      "FP rate = [0. 0. 1.]\n",
      "AUC = 0.5001392321347767\n"
     ]
    },
    {
     "data": {
      "image/png": "[encoded data removed]",
      "text/plain": [
       "<Figure size 432x288 with 1 Axes>"
      ]
     },
     "metadata": {
      "needs_background": "light"
     },
     "output_type": "display_data"
    },
    {
     "data": {
      "image/png": "[encoded data removed]",
      "text/plain": [
       "<Figure size 576x576 with 2 Axes>"
      ]
     },
     "metadata": {
      "needs_background": "light"
     },
     "output_type": "display_data"
    },
    {
     "data": {
      "image/png": "[encoded data removed]",
      "text/plain": [
       "<Figure size 576x576 with 2 Axes>"
      ]
     },
     "metadata": {
      "needs_background": "light"
     },
     "output_type": "display_data"
    },
    {
     "data": {
      "image/png": "[encoded data removed]",
      "text/plain": [
       "<Figure size 432x432 with 1 Axes>"
      ]
     },
     "metadata": {
      "needs_background": "light"
     },
     "output_type": "display_data"
    }
   ],
   "source": [
    "import p9_util\n",
    "X_valid = p9_util_benchmark.pad_text(df_validate[p9_util_benchmark.TEXT_COLUMN], tokenizer, \\\n",
    "                                     dict_param_keras_cnn=p9_util_config.dict_param_keras_cnn)\n",
    "\n",
    "y_= p9_util.display_class_performance(model, X_valid, df_validate.target.values.astype(int), is_binary=True, \\\n",
    "                                      y_pred=df_validate[MODEL_NAME].values.astype(int), \\\n",
    "                                      title=\"Confusion matrix with CNN\", nb_classes=2)"
   ]
  }
 ],
 "metadata": {
  "kernelspec": {
   "display_name": "Python 3",
   "language": "python",
   "name": "python3"
  },
  "language_info": {
   "codemirror_mode": {
    "name": "ipython",
    "version": 3
   },
   "file_extension": ".py",
   "mimetype": "text/x-python",
   "name": "python",
   "nbconvert_exporter": "python",
   "pygments_lexer": "ipython3",
   "version": "3.6.8"
  }
 },
 "nbformat": 4,
 "nbformat_minor": 2
}
