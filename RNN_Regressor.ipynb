{
 "cells": [
  {
   "cell_type": "markdown",
   "metadata": {},
   "source": [
    "In this notebook, RNN estimator is used as a reference model.\n",
    "This choice is leaded by the fact that :\n",
    "\n",
    "<pre>\n",
    "<li>NN model are non-linear models, then it is supposed to capture non-linear relations in between features </li>\n",
    "<li>RNN model provides results more efficiently considering time criteria.</li>\n",
    "</pre>\n",
    "\n",
    "Multiple dataset are used in order to benchmark assumptions forged about model.  \n",
    "\n",
    "GRU NN uses few parameters. \n",
    "\n",
    "    Then IBFGS may be used rather then SGD for descent algorithm."
   ]
  },
  {
   "cell_type": "code",
   "execution_count": 8,
   "metadata": {},
   "outputs": [],
   "source": [
    "%load_ext autoreload\n",
    "%autoreload 2"
   ]
  },
  {
   "cell_type": "code",
   "execution_count": 2,
   "metadata": {},
   "outputs": [
    {
     "data": {
      "text/html": [
       "<b>RNN Regressor</b>\n",
       "<div id=\"my_id_menu_nb\">run previous cell, wait for 2 seconds</div>\n",
       "<script>\n",
       "function repeat_indent_string(n){\n",
       "    var a = \"\" ;\n",
       "    for ( ; n > 0 ; --n)\n",
       "        a += \"    \";\n",
       "    return a;\n",
       "}\n",
       "// look up into all sections and builds an automated menu //\n",
       "var update_menu_string = function(begin, lfirst, llast, sformat, send, keep_item, begin_format, end_format) {\n",
       "    var anchors = document.getElementsByClassName(\"section\");\n",
       "    if (anchors.length == 0) {\n",
       "        anchors = document.getElementsByClassName(\"text_cell_render rendered_html\");\n",
       "    }\n",
       "    var i,t;\n",
       "    var text_menu = begin;\n",
       "    var text_memo = \"<pre>\\nlength:\" + anchors.length + \"\\n\";\n",
       "    var ind = \"\";\n",
       "    var memo_level = 1;\n",
       "    var href;\n",
       "    var tags = [];\n",
       "    var main_item = 0;\n",
       "    var format_open = 0;\n",
       "    for (i = 0; i <= llast; i++)\n",
       "        tags.push(\"h\" + i);\n",
       "\n",
       "    for (i = 0; i < anchors.length; i++) {\n",
       "        text_memo += \"**\" + anchors[i].id + \"--\\n\";\n",
       "\n",
       "        var child = null;\n",
       "        for(t = 0; t < tags.length; t++) {\n",
       "            var r = anchors[i].getElementsByTagName(tags[t]);\n",
       "            if (r.length > 0) {\n",
       "child = r[0];\n",
       "break;\n",
       "            }\n",
       "        }\n",
       "        if (child == null) {\n",
       "            text_memo += \"null\\n\";\n",
       "            continue;\n",
       "        }\n",
       "        if (anchors[i].hasAttribute(\"id\")) {\n",
       "            // when converted in RST\n",
       "            href = anchors[i].id;\n",
       "            text_memo += \"#1-\" + href;\n",
       "            // passer à child suivant (le chercher)\n",
       "        }\n",
       "        else if (child.hasAttribute(\"id\")) {\n",
       "            // in a notebook\n",
       "            href = child.id;\n",
       "            text_memo += \"#2-\" + href;\n",
       "        }\n",
       "        else {\n",
       "            text_memo += \"#3-\" + \"*\" + \"\\n\";\n",
       "            continue;\n",
       "        }\n",
       "        var title = child.textContent;\n",
       "        var level = parseInt(child.tagName.substring(1,2));\n",
       "\n",
       "        text_memo += \"--\" + level + \"?\" + lfirst + \"--\" + title + \"\\n\";\n",
       "\n",
       "        if ((level < lfirst) || (level > llast)) {\n",
       "            continue ;\n",
       "        }\n",
       "        if (title.endsWith('¶')) {\n",
       "            title = title.substring(0,title.length-1).replace(\"<\", \"&lt;\")\n",
       "         .replace(\">\", \"&gt;\").replace(\"&\", \"&amp;\");\n",
       "        }\n",
       "        if (title.length == 0) {\n",
       "            continue;\n",
       "        }\n",
       "\n",
       "        while (level < memo_level) {\n",
       "            text_menu += end_format + \"</ul>\\n\";\n",
       "            format_open -= 1;\n",
       "            memo_level -= 1;\n",
       "        }\n",
       "        if (level == lfirst) {\n",
       "            main_item += 1;\n",
       "        }\n",
       "        if (keep_item != -1 && main_item != keep_item + 1) {\n",
       "            // alert(main_item + \" - \" + level + \" - \" + keep_item);\n",
       "            continue;\n",
       "        }\n",
       "        while (level > memo_level) {\n",
       "            text_menu += \"<ul>\\n\";\n",
       "            memo_level += 1;\n",
       "        }\n",
       "        text_menu += repeat_indent_string(level-2);\n",
       "        text_menu += begin_format + sformat.replace(\"__HREF__\", href).replace(\"__TITLE__\", title);\n",
       "        format_open += 1;\n",
       "    }\n",
       "    while (1 < memo_level) {\n",
       "        text_menu += end_format + \"</ul>\\n\";\n",
       "        memo_level -= 1;\n",
       "        format_open -= 1;\n",
       "    }\n",
       "    text_menu += send;\n",
       "    //text_menu += \"\\n\" + text_memo;\n",
       "\n",
       "    while (format_open > 0) {\n",
       "        text_menu += end_format;\n",
       "        format_open -= 1;\n",
       "    }\n",
       "    return text_menu;\n",
       "};\n",
       "var update_menu = function() {\n",
       "    var sbegin = \"\";\n",
       "    var sformat = '<a href=\"#__HREF__\">__TITLE__</a>';\n",
       "    var send = \"\";\n",
       "    var begin_format = '<li>';\n",
       "    var end_format = '</li>';\n",
       "    var keep_item = -1;\n",
       "    var text_menu = update_menu_string(sbegin, 1, 4, sformat, send, keep_item,\n",
       "       begin_format, end_format);\n",
       "    var menu = document.getElementById(\"my_id_menu_nb\");\n",
       "    menu.innerHTML=text_menu;\n",
       "};\n",
       "window.setTimeout(update_menu,2000);\n",
       "            </script>"
      ],
      "text/plain": [
       "<IPython.core.display.HTML object>"
      ]
     },
     "execution_count": 2,
     "metadata": {},
     "output_type": "execute_result"
    }
   ],
   "source": [
    "import jyquickhelper\n",
    "jyquickhelper.add_notebook_menu(first_level=1, last_level=4, header=\"RNN Regressor\")"
   ]
  },
  {
   "cell_type": "code",
   "execution_count": null,
   "metadata": {},
   "outputs": [],
   "source": [
    "import numpy as np\n",
    "import time\n",
    "\n",
    "import tensorflow as tf\n",
    "import pandas as pd\n",
    "import gensim\n",
    "\n",
    "import warnings\n",
    "warnings.filterwarnings('ignore')\n",
    "%matplotlib inline\n",
    "\n",
    "\n",
    "import p8_util\n",
    "import p8_util_config\n",
    "import p9_util\n",
    "\n",
    "import p5_util\n",
    "\n",
    "extension='_part'\n",
    "\n"
   ]
  },
  {
   "cell_type": "code",
   "execution_count": null,
   "metadata": {},
   "outputs": [],
   "source": [
    "OUTPUT_DIR = './tmp/baseline'\n",
    "OUTPUT_DIR_TB = './tmp'\n",
    "is_tensorboard = False"
   ]
  },
  {
   "cell_type": "markdown",
   "metadata": {},
   "source": [
    "#### Tensorboard processes are killed"
   ]
  },
  {
   "cell_type": "code",
   "execution_count": null,
   "metadata": {},
   "outputs": [],
   "source": [
    "# this will kill the processes for Tensorboard\n",
    "#is_tensorboard = True\n",
    "if is_tensorboard is True :\n",
    "    !ps aux | grep tensorboard | awk '{print $2}' | xargs kill\n",
    "# this will kill the processes for ngrok\n",
    "if is_tensorboard is True :\n",
    "    !ps aux | grep ngrok | awk '{print $2}' | xargs kill    "
   ]
  },
  {
   "cell_type": "markdown",
   "metadata": {},
   "source": [
    "# <font color=blus>1. Loading dataset</font>"
   ]
  },
  {
   "cell_type": "code",
   "execution_count": 1,
   "metadata": {},
   "outputs": [
    {
     "name": "stdout",
     "output_type": "stream",
     "text": [
      "-rw-r--r-- 1 bangui bangui   87 sept.  2 15:30 ./data/test.dill\r\n",
      "-rw-r--r-- 1 bangui bangui 615M sept.  2 18:21 ./data/DataPreparator_train_v2_spacy_15000.dill\r\n",
      "-rw-r--r-- 1 bangui bangui 615M sept.  2 22:14 ./data/DataPreparator_valid_v2_spacy_15000.dill\r\n",
      "-rw-r--r-- 1 bangui bangui 2,8G sept.  3 14:16 ./data/DataPreparator_valid_v2_spacy_notfidf_15000.dill\r\n",
      "-rw-r--r-- 1 bangui bangui 2,8G sept.  3 15:34 ./data/DataPreparator_train_v2_spacy_notfidf_15000.dill\r\n",
      "-rw-r--r-- 1 bangui bangui 401M sept.  4 00:25 ./data/X_y_train.dill\r\n",
      "-rw-r--r-- 1 bangui bangui 198M sept.  4 00:26 ./data/X_y_valid.dill\r\n",
      "-rw-r--r-- 1 bangui bangui 418M sept.  4 01:16 ./data/DataPreparator_train_v2_spacy_notfidf_1_20000.dill\r\n",
      "-rw-r--r-- 1 bangui bangui 3,6G sept.  4 11:41 ./data/DataPreparator_train_v2_spacy_notfidf_2_20000.dill\r\n",
      "-rw-r--r-- 1 bangui bangui 773M sept.  4 13:57 ./data/DataPreparator_train_v2_spacy_notfidf_20000.dill\r\n",
      "-rw-r--r-- 1 bangui bangui 289M sept.  5 19:37 ./data/DataPreparator_v2_spacy_valid_10_step3.dill\r\n",
      "-rw-r--r-- 1 bangui bangui 288M sept.  5 19:49 ./data/DataPreparator_v2_spacy_valid_10_step1.dill\r\n",
      "-rw-r--r-- 1 bangui bangui 290M sept.  5 19:49 ./data/DataPreparator_v2_spacy_valid_10_step2.dill\r\n",
      "-rw-r--r-- 1 bangui bangui 289M sept.  5 19:49 ./data/DataPreparator_v2_spacy_valid_10.dill\r\n",
      "-rw-r--r-- 1 bangui bangui 294M sept.  5 21:32 ./data/DataPreparator_v2_spacy_valid_1000_step1.dill\r\n",
      "-rw-r--r-- 1 bangui bangui 452M sept.  5 21:35 ./data/DataPreparator_v2_spacy_valid_1000_step2.dill\r\n",
      "-rw-r--r-- 1 bangui bangui 320M sept.  6 01:09 ./data/DataPreparator_v2_spacy_valid_5000_step1.dill\r\n",
      "-rw-r--r-- 1 bangui bangui 1,1G sept.  6 01:19 ./data/DataPreparator_v2_spacy_valid_5000_step2.dill\r\n",
      "-rw-r--r-- 1 bangui bangui 288M sept.  6 11:06 ./data/DataPreparator_v2_spacy_valid_50_step1.dill\r\n",
      "-rw-r--r-- 1 bangui bangui 296M sept.  6 11:07 ./data/DataPreparator_v2_spacy_valid_50_step2.dill\r\n",
      "-rw-r--r-- 1 bangui bangui 290M sept.  6 11:12 ./data/DataPreparator_v2_spacy_valid_50_step3.dill\r\n",
      "-rw-r--r-- 1 bangui bangui 290M sept.  6 11:37 ./data/DataPreparator_v2_spacy_valid_50.dill\r\n",
      "-rw-r--r-- 1 bangui bangui 313M sept.  6 11:49 ./data/DataPreparator_v2_spacy_valid_1000.dill\r\n",
      "-rw-r--r-- 1 bangui bangui 279K sept.  9 18:29 ./data/train_generator.dill\r\n",
      "-rw-r--r-- 1 bangui bangui  15K sept.  9 18:29 ./data/valid_generator.dill\r\n"
     ]
    }
   ],
   "source": [
    "!ls -alrth ./data/*.dill"
   ]
  },
  {
   "cell_type": "markdown",
   "metadata": {},
   "source": [
    "## <font color=blus>1.0. Global process </font>"
   ]
  },
  {
   "cell_type": "code",
   "execution_count": 21,
   "metadata": {},
   "outputs": [
    {
     "data": {
      "text/plain": [
       "['__builtins__',\n",
       " '__cached__',\n",
       " '__doc__',\n",
       " '__file__',\n",
       " '__loader__',\n",
       " '__name__',\n",
       " '__package__',\n",
       " '__spec__',\n",
       " 'dict_param_generator',\n",
       " 'dict_param_keras',\n",
       " 'dict_param_keras_rnn']"
      ]
     },
     "execution_count": 21,
     "metadata": {},
     "output_type": "execute_result"
    }
   ],
   "source": [
    "import p9_util_config\n",
    "dir(p9_util_config)"
   ]
  },
  {
   "cell_type": "markdown",
   "metadata": {},
   "source": [
    "    Build DataGenerator objects for Keras RNN architecture."
   ]
  },
  {
   "cell_type": "code",
   "execution_count": 1,
   "metadata": {},
   "outputs": [
    {
     "name": "stderr",
     "output_type": "stream",
     "text": [
      "/home/bangui/.local/lib/python3.6/site-packages/matplotlib/__init__.py:886: MatplotlibDeprecationWarning: \n",
      "examples.directory is deprecated; in the future, examples will be found relative to the 'datapath' directory.\n",
      "  \"found relative to the 'datapath' directory.\".format(key))\n",
      "Using TensorFlow backend.\n",
      "WARNING: Logging before flag parsing goes to stderr.\n",
      "W0910 16:59:02.628354 140323774711616 lazy_loader.py:50] \n",
      "The TensorFlow contrib module will not be included in TensorFlow 2.0.\n",
      "For more information, please see:\n",
      "  * https://github.com/tensorflow/community/blob/master/rfcs/20180907-contrib-sunset.md\n",
      "  * https://github.com/tensorflow/addons\n",
      "  * https://github.com/tensorflow/io (for I/O related ops)\n",
      "If you depend on functionality not listed there, please file an issue.\n",
      "\n",
      "W0910 16:59:02.628952 140323774711616 deprecation_wrapper.py:119] From /home/bangui/anaconda3/envs/python36/lib/python3.6/site-packages/adanet/tf_compat/__init__.py:96: The name tf.losses.Reduction is deprecated. Please use tf.compat.v1.losses.Reduction instead.\n",
      "\n",
      "W0910 16:59:02.643849 140323774711616 deprecation_wrapper.py:119] From /home/bangui/Dropbox/Perso/Formation/openclassrooms/OC_Datascientist/Kaggle/p8_util_config.py:137: The name tf.train.AdamOptimizer is deprecated. Please use tf.compat.v1.train.AdamOptimizer instead.\n",
      "\n"
     ]
    },
    {
     "name": "stdout",
     "output_type": "stream",
     "text": [
      "p5_util.object_load : fileName= ./data/DataPreparator_train_v2_spacy_notfidf_20000.dill\n",
      "\n",
      "DataPreparator Dataframe shape= (17366, 5)\n",
      "\n",
      "Components= 34 for variance= 60.0%\n",
      "\n",
      "data_type : train\n",
      "partition_size : 1000\n",
      "is_dimension_mux : False\n",
      "proj_dimension : 0\n",
      "batch_size : 500\n",
      "n_classes : 0\n",
      "n_channels : 0\n",
      "is_shuffle : False\n",
      "keras_nb_channel : 34\n",
      "keras_input_dim : (80, 1)\n",
      "Building train partition...\n",
      "\n",
      "p5_util.object_load : fileName= ./data/DataPreparator_v2_spacy_valid_1000.dill\n",
      "\n",
      "DataPreparator Dataframe shape= (860, 5)\n",
      "\n",
      "Components= 34 for variance= 60.0%\n",
      "\n",
      "data_type : valid\n",
      "partition_size : 800\n",
      "is_dimension_mux : False\n",
      "proj_dimension : 0\n",
      "batch_size : 100\n",
      "n_classes : 0\n",
      "n_channels : 0\n",
      "is_shuffle : False\n",
      "keras_nb_channel : 34\n",
      "keras_input_dim : (80, 1)\n",
      "Building valid partition...\n",
      "\n",
      "Partition file : 1 / 1 Done!\r"
     ]
    }
   ],
   "source": [
    "!rm ./data/train_X_*.*\n",
    "!rm ./data/valid_X_*.*\n",
    "import p9_util\n",
    "import p9_util_config\n",
    "import test_datapreparator\n",
    "\n",
    "#----------------------------------------------------------------------------\n",
    "# Common parameters for DataGenerator objects.\n",
    "#----------------------------------------------------------------------------\n",
    "dict_param_generator = p9_util_config.dict_param_generator\n",
    "var_percent = 0.6\n",
    "if True :\n",
    "    #----------------------------------------------------------------------------\n",
    "    # DataGenerator for train dataset\n",
    "    #----------------------------------------------------------------------------\n",
    "    dict_param_generator['partition_size'] = 1000\n",
    "    dict_param_generator['batch_size'] = 500\n",
    "    dict_param_generator['data_type'] = \"train\"\n",
    "    dict_param_generator['is_dimension_mux'] = False\n",
    "\n",
    "    dict_rnn_preprocess={\n",
    "        'filename_datapreparator' : './data/DataPreparator_train_v2_spacy_notfidf_20000.dill',\\\n",
    "        'var_percent' : var_percent,\\\n",
    "    }\n",
    "    train_generator = test_datapreparator.build_rnn_datagenerator(**dict_rnn_preprocess)\n",
    "\n",
    "#----------------------------------------------------------------------------\n",
    "# DataGenerator for validation dataset\n",
    "#----------------------------------------------------------------------------\n",
    "dict_param_generator['partition_size'] = 800\n",
    "dict_param_generator['batch_size'] = 100\n",
    "dict_param_generator['data_type'] = \"valid\"\n",
    "dict_param_generator['is_dimension_mux'] = False\n",
    "\n",
    "dict_rnn_preprocess={\n",
    "    'filename_datapreparator' : './data/DataPreparator_v2_spacy_valid_1000.dill',\\\n",
    "    'var_percent' : var_percent,\\\n",
    "}\n",
    "valid_generator = test_datapreparator.build_rnn_datagenerator(**dict_rnn_preprocess)"
   ]
  },
  {
   "cell_type": "code",
   "execution_count": 2,
   "metadata": {},
   "outputs": [
    {
     "name": "stdout",
     "output_type": "stream",
     "text": [
      "-rw-r--r-- 1 bangui bangui  17M sept. 10 16:59 ./data/valid_X_0.npy\r\n",
      "-rw-r--r-- 1 bangui bangui 1,3M sept. 10 16:59 ./data/valid_X_1.npy\r\n"
     ]
    }
   ],
   "source": [
    "!ls -alrth ./data/valid_*.npy"
   ]
  },
  {
   "cell_type": "code",
   "execution_count": 13,
   "metadata": {},
   "outputs": [
    {
     "name": "stdout",
     "output_type": "stream",
     "text": [
      "_________________________________________________________________\n",
      "Layer (type)                 Output Shape              Param #   \n",
      "=================================================================\n",
      "gru_13 (GRU)                 (None, 80, 8)             240       \n",
      "_________________________________________________________________\n",
      "batch_normalization_13 (Batc (None, 80, 8)             32        \n",
      "_________________________________________________________________\n",
      "gru_14 (GRU)                 (None, 80, 8)             408       \n",
      "_________________________________________________________________\n",
      "batch_normalization_14 (Batc (None, 80, 8)             32        \n",
      "_________________________________________________________________\n",
      "gru_15 (GRU)                 (None, 8)                 408       \n",
      "_________________________________________________________________\n",
      "batch_normalization_15 (Batc (None, 8)                 32        \n",
      "_________________________________________________________________\n",
      "dense_7 (Dense)              (None, 1)                 9         \n",
      "=================================================================\n",
      "Total params: 1,161\n",
      "Trainable params: 1,113\n",
      "Non-trainable params: 48\n",
      "_________________________________________________________________\n",
      "None\n",
      "dict_param_keras : {'input_dim': (None, None), 'batch_size': 5000, 'nb_epoch': 15, 'verbose': 1, 'dropout_rate': 0.0, 'is_batch_normalized': True, 'lr': 0.0005}\n",
      "lstm_out : 1\n",
      "cell_units : 8\n",
      "rnn_layers : 2\n",
      "rnnCellType : GRU\n"
     ]
    }
   ],
   "source": [
    "import p9_util\n",
    "import p9_util_keras\n",
    "import p9_util_config\n",
    "\n",
    "\n",
    "lstm_out    = p9_util_config.dict_param_keras_rnn['lstm_out']\n",
    "cell_units  = p9_util_config.dict_param_keras_rnn['cell_units']\n",
    "rnn_layers  = p9_util_config.dict_param_keras_rnn['rnn_layers']\n",
    "rnnCellType = p9_util_config.dict_param_keras_rnn['rnnCellType']\n",
    "dict_param_keras = p9_util_config.dict_param_keras_rnn['dict_param_keras']\n",
    "is_batch_normalized = dict_param_keras['is_batch_normalized']\n",
    "dropout_rate = dict_param_keras['dropout_rate']\n",
    "\n",
    "lr = dict_param_keras['lr']\n",
    "\n",
    "\n",
    "input_shape = train_generator.get_params()['keras_input_dim']\n",
    "\n",
    "model = p9_util_keras.keras_rnn_build(\\\n",
    "                                        rnnCellType, \\\n",
    "                                        cell_units, \\\n",
    "                                        input_shape, \\\n",
    "                                        isWordEmbedding=False,\\\n",
    "                                        nbClasses=1,\n",
    "                                        rnn_layers=rnn_layers,\\\n",
    "                                        is_batch_normalized= is_batch_normalized,\\\n",
    "                                          dropout_rate=dropout_rate,\\\n",
    "                                        lr = lr)\n",
    "for key, value in p9_util_config.dict_param_keras_rnn.items() :\n",
    "    print(\"{} : {}\".format(key, value))"
   ]
  },
  {
   "cell_type": "code",
   "execution_count": 15,
   "metadata": {},
   "outputs": [
    {
     "name": "stdout",
     "output_type": "stream",
     "text": [
      "Epoch 1/15\n",
      "35/35 [==============================] - 13s 358ms/step - loss: 0.0421 - mean_absolute_error: 0.1507 - val_loss: 0.0406 - val_mean_absolute_error: 0.1694\n",
      "Epoch 2/15\n",
      "35/35 [==============================] - 12s 354ms/step - loss: 0.0420 - mean_absolute_error: 0.1516 - val_loss: 0.0358 - val_mean_absolute_error: 0.1514\n",
      "Epoch 3/15\n",
      "35/35 [==============================] - 11s 319ms/step - loss: 0.0420 - mean_absolute_error: 0.1513 - val_loss: 0.0351 - val_mean_absolute_error: 0.1477\n",
      "Epoch 4/15\n",
      "35/35 [==============================] - 24s 699ms/step - loss: 0.0419 - mean_absolute_error: 0.1514 - val_loss: 0.0351 - val_mean_absolute_error: 0.1474\n",
      "Epoch 5/15\n",
      "35/35 [==============================] - 35s 987ms/step - loss: 0.0418 - mean_absolute_error: 0.1513 - val_loss: 0.0345 - val_mean_absolute_error: 0.1431\n",
      "Epoch 6/15\n",
      "35/35 [==============================] - 31s 878ms/step - loss: 0.0417 - mean_absolute_error: 0.1508 - val_loss: 0.0340 - val_mean_absolute_error: 0.1365\n",
      "Epoch 7/15\n",
      "35/35 [==============================] - 27s 761ms/step - loss: 0.0416 - mean_absolute_error: 0.1507 - val_loss: 0.0342 - val_mean_absolute_error: 0.1411\n",
      "Epoch 8/15\n",
      "35/35 [==============================] - 24s 679ms/step - loss: 0.0416 - mean_absolute_error: 0.1509 - val_loss: 0.0339 - val_mean_absolute_error: 0.1368\n",
      "Epoch 9/15\n",
      "35/35 [==============================] - 23s 661ms/step - loss: 0.0416 - mean_absolute_error: 0.1509 - val_loss: 0.0339 - val_mean_absolute_error: 0.1346\n",
      "Epoch 10/15\n",
      "35/35 [==============================] - 21s 593ms/step - loss: 0.0418 - mean_absolute_error: 0.1512 - val_loss: 0.0340 - val_mean_absolute_error: 0.1396\n",
      "Epoch 11/15\n",
      "35/35 [==============================] - 19s 536ms/step - loss: 0.0415 - mean_absolute_error: 0.1504 - val_loss: 0.0339 - val_mean_absolute_error: 0.1369\n",
      "Epoch 12/15\n",
      "35/35 [==============================] - 18s 519ms/step - loss: 0.0413 - mean_absolute_error: 0.1503 - val_loss: 0.0338 - val_mean_absolute_error: 0.1364\n",
      "Epoch 13/15\n",
      "35/35 [==============================] - 17s 499ms/step - loss: 0.0414 - mean_absolute_error: 0.1507 - val_loss: 0.0339 - val_mean_absolute_error: 0.1363\n",
      "Epoch 14/15\n",
      "35/35 [==============================] - 17s 494ms/step - loss: 0.0413 - mean_absolute_error: 0.1500 - val_loss: 0.0339 - val_mean_absolute_error: 0.1386\n",
      "Epoch 15/15\n",
      "35/35 [==============================] - 17s 475ms/step - loss: 0.0414 - mean_absolute_error: 0.1508 - val_loss: 0.0340 - val_mean_absolute_error: 0.1398\n"
     ]
    }
   ],
   "source": [
    "import p9_util_keras\n",
    "import p9_util_config\n",
    "\n",
    "\n",
    "nb_epoch = p9_util_config.dict_param_keras['nb_epoch']\n",
    "\n",
    "# Train model on dataset\n",
    "\n",
    "history = model.fit_generator(generator=train_generator,\n",
    "                    validation_data=valid_generator,\n",
    "                    use_multiprocessing=False,\n",
    "                    workers=1, verbose=1, epochs=nb_epoch)"
   ]
  },
  {
   "cell_type": "raw",
   "metadata": {},
   "source": [
    "Epoch 1/15\n",
    "35/35 [==============================] - 16s 458ms/step - loss: 0.0693 - mean_absolute_error: 0.1498 - val_loss: 0.1939 - val_mean_absolute_error: 0.3960\n",
    "Epoch 2/15\n",
    "35/35 [==============================] - 11s 309ms/step - loss: 0.0494 - mean_absolute_error: 0.1519 - val_loss: 0.0423 - val_mean_absolute_error: 0.1427\n",
    "Epoch 3/15\n",
    "35/35 [==============================] - 11s 303ms/step - loss: 0.0461 - mean_absolute_error: 0.1550 - val_loss: 0.0632 - val_mean_absolute_error: 0.2228\n",
    "Epoch 4/15\n",
    "35/35 [==============================] - 11s 305ms/step - loss: 0.0448 - mean_absolute_error: 0.1548 - val_loss: 0.0750 - val_mean_absolute_error: 0.2488\n",
    "Epoch 5/15\n",
    "35/35 [==============================] - 11s 309ms/step - loss: 0.0443 - mean_absolute_error: 0.1544 - val_loss: 0.0808 - val_mean_absolute_error: 0.2607\n",
    "Epoch 6/15\n",
    "35/35 [==============================] - 11s 303ms/step - loss: 0.0438 - mean_absolute_error: 0.1541 - val_loss: 0.0733 - val_mean_absolute_error: 0.2488\n",
    "Epoch 7/15\n",
    "35/35 [==============================] - 11s 308ms/step - loss: 0.0435 - mean_absolute_error: 0.1531 - val_loss: 0.0836 - val_mean_absolute_error: 0.2672\n",
    "Epoch 8/15\n",
    "35/35 [==============================] - 10s 294ms/step - loss: 0.0432 - mean_absolute_error: 0.1531 - val_loss: 0.0782 - val_mean_absolute_error: 0.2588\n",
    "Epoch 9/15\n",
    "35/35 [==============================] - 10s 295ms/step - loss: 0.0431 - mean_absolute_error: 0.1530 - val_loss: 0.0755 - val_mean_absolute_error: 0.2543\n",
    "Epoch 10/15\n",
    "35/35 [==============================] - 10s 293ms/step - loss: 0.0427 - mean_absolute_error: 0.1521 - val_loss: 0.0578 - val_mean_absolute_error: 0.2182\n",
    "Epoch 11/15\n",
    "35/35 [==============================] - 10s 297ms/step - loss: 0.0425 - mean_absolute_error: 0.1523 - val_loss: 0.0419 - val_mean_absolute_error: 0.1735\n",
    "Epoch 12/15\n",
    "35/35 [==============================] - 10s 298ms/step - loss: 0.0428 - mean_absolute_error: 0.1520 - val_loss: 0.0419 - val_mean_absolute_error: 0.1737\n",
    "Epoch 13/15\n",
    "35/35 [==============================] - 11s 301ms/step - loss: 0.0425 - mean_absolute_error: 0.1521 - val_loss: 0.0391 - val_mean_absolute_error: 0.1641\n",
    "Epoch 14/15\n",
    "35/35 [==============================] - 10s 299ms/step - loss: 0.0423 - mean_absolute_error: 0.1521 - val_loss: 0.0389 - val_mean_absolute_error: 0.1628\n",
    "Epoch 15/15\n",
    "35/35 [==============================] - 10s 300ms/step - loss: 0.0424 - mean_absolute_error: 0.1519 - val_loss: 0.0356 - val_mean_absolute_error: 0.1497"
   ]
  },
  {
   "cell_type": "code",
   "execution_count": null,
   "metadata": {},
   "outputs": [],
   "source": []
  },
  {
   "cell_type": "code",
   "execution_count": null,
   "metadata": {},
   "outputs": [],
   "source": []
  },
  {
   "cell_type": "code",
   "execution_count": null,
   "metadata": {},
   "outputs": [],
   "source": []
  },
  {
   "cell_type": "code",
   "execution_count": null,
   "metadata": {},
   "outputs": [
    {
     "name": "stderr",
     "output_type": "stream",
     "text": [
      "/home/bangui/anaconda3/envs/python36/lib/python3.6/site-packages/ipykernel_launcher.py:13: UserWarning: The `nb_epoch` argument in `fit` has been renamed `epochs`.\n",
      "  del sys.path[0]\n",
      "W0909 18:29:54.299860 140293607118656 deprecation.py:323] From /home/bangui/anaconda3/envs/python36/lib/python3.6/site-packages/tensorflow/python/ops/math_grad.py:1250: add_dispatch_support.<locals>.wrapper (from tensorflow.python.ops.array_ops) is deprecated and will be removed in a future version.\n",
      "Instructions for updating:\n",
      "Use tf.where in 2.0, which has the same broadcast rule as np.where\n",
      "W0909 18:29:56.017870 140293607118656 deprecation_wrapper.py:119] From /home/bangui/anaconda3/envs/python36/lib/python3.6/site-packages/keras/backend/tensorflow_backend.py:986: The name tf.assign_add is deprecated. Please use tf.compat.v1.assign_add instead.\n",
      "\n",
      "W0909 18:29:56.073589 140293607118656 deprecation_wrapper.py:119] From /home/bangui/anaconda3/envs/python36/lib/python3.6/site-packages/keras/backend/tensorflow_backend.py:973: The name tf.assign is deprecated. Please use tf.compat.v1.assign instead.\n",
      "\n"
     ]
    },
    {
     "name": "stdout",
     "output_type": "stream",
     "text": [
      "Train on 17366 samples, validate on 860 samples\n",
      "Epoch 1/50\n",
      "17366/17366 [==============================] - 27s 2ms/step - loss: 0.0507 - mean_absolute_error: 0.1079 - val_loss: 0.0412 - val_mean_absolute_error: 0.0950\n",
      "Epoch 2/50\n",
      "17366/17366 [==============================] - 19s 1ms/step - loss: 0.0493 - mean_absolute_error: 0.1104 - val_loss: 0.0394 - val_mean_absolute_error: 0.0994\n",
      "Epoch 3/50\n",
      "10000/17366 [================>.............] - ETA: 11s - loss: 0.0461 - mean_absolute_error: 0.1119"
     ]
    }
   ],
   "source": [
    "import p9_util_config\n",
    "\n",
    "batch_size = p9_util_config.dict_keras_rnn['batch_size']\n",
    "nb_epoch = p9_util_config.dict_keras_rnn['nb_epoch']\n",
    "verbose = p9_util_config.dict_keras_rnn['verbose']\n",
    "\n",
    "\n",
    "history = model.fit(x_train_reshape, \\\n",
    "                    y_train,\\\n",
    "                    validation_data=(x_valid_reshape,y_valid), \\\n",
    "                    batch_size =batch_size, \\\n",
    "                    nb_epoch = nb_epoch,\\\n",
    "                    verbose = verbose\\\n",
    "                    )"
   ]
  },
  {
   "cell_type": "code",
   "execution_count": null,
   "metadata": {},
   "outputs": [],
   "source": [
    "import keras\n",
    "\n",
    "import p5_util\n",
    "\n",
    "import p9_util_config\n",
    "\n",
    "rnn_layers = p9_util_config.dict_keras_rnn['rnn_layers']\n",
    "lstm_out = p9_util_config.dict_keras_rnn['lstm_out']\n",
    "cell_units = p9_util_config.dict_keras_rnn['cell_units']\n",
    "rnnCellType = p9_util_config.dict_keras_rnn['rnnCellType']\n",
    "\n",
    "core_name = \"gru_\"+str(rnn_layers)+\"layers_\"+str(cell_units)+'units'\n",
    "\n",
    "if True:\n",
    "    model.save(\"./data/model_\"+core_name+\".h5\")\n",
    "    p5_util.object_dump(history, \"history_\"+core_name+\".dump\")\n",
    "    #p5_util.object_dump(max_length, \"max_length_\"+core_name+\".dump\")\n",
    "    \n",
    "else :\n",
    "    model = keras.models.load_model(\"./data/model_\"+core_name+\".h5\")\n",
    "    history = p5_util.object_load(\"history_\"+core_name+\".dump\")\n",
    "    #max_length = p5_util.object_load(\"max_length_\"+core_name+\".dump\")\n",
    "\n",
    "#print(\"\\nInput data length= {}\".format(max_length))\n",
    "model.summary()"
   ]
  },
  {
   "cell_type": "code",
   "execution_count": null,
   "metadata": {},
   "outputs": [],
   "source": [
    "import p7_util\n",
    "\n",
    "list_model_acc_value = p7_util.p7_plot_cnn_history(model, None, None, history=history)"
   ]
  },
  {
   "cell_type": "markdown",
   "metadata": {},
   "source": [
    "## <font color=blus>1.1. Loading `DataPreparator`</font>"
   ]
  },
  {
   "cell_type": "code",
   "execution_count": 18,
   "metadata": {},
   "outputs": [
    {
     "name": "stdout",
     "output_type": "stream",
     "text": [
      "-rw-r--r-- 1 bangui bangui 133M août  19 20:44 ./data/DataPreparator_train.dump\r\n",
      "-rw-r--r-- 1 bangui bangui 134M août  19 20:44 ./data/DataPreparator_test.dump\r\n",
      "-rw-r--r-- 1 bangui bangui 137M août  23 00:43 ./data/DataPreparator_train_spacy_20000.dump\r\n",
      "-rw-r--r-- 1 bangui bangui 137M août  23 01:35 ./data/DataPreparator_test_spacy_20000.dump\r\n",
      "-rw-r--r-- 1 bangui bangui 339M août  26 22:57 ./data/DataPreparator_train_spacy_15000.dump\r\n",
      "-rw-r--r-- 1 bangui bangui 339M août  26 23:32 ./data/DataPreparator_test_spacy_15000.dump\r\n"
     ]
    }
   ],
   "source": [
    "!ls -alrth ./data/DataPreparator*.dump"
   ]
  },
  {
   "cell_type": "code",
   "execution_count": 5,
   "metadata": {},
   "outputs": [
    {
     "name": "stdout",
     "output_type": "stream",
     "text": [
      "p5_util.object_load : fileName= ./data/DataPreparator_train_v2_spacy_notfidf_20000.dill\n"
     ]
    },
    {
     "name": "stderr",
     "output_type": "stream",
     "text": [
      "W0909 17:19:45.710314 140684464133952 lazy_loader.py:50] \n",
      "The TensorFlow contrib module will not be included in TensorFlow 2.0.\n",
      "For more information, please see:\n",
      "  * https://github.com/tensorflow/community/blob/master/rfcs/20180907-contrib-sunset.md\n",
      "  * https://github.com/tensorflow/addons\n",
      "  * https://github.com/tensorflow/io (for I/O related ops)\n",
      "If you depend on functionality not listed there, please file an issue.\n",
      "\n",
      "W0909 17:19:45.710967 140684464133952 deprecation_wrapper.py:119] From /home/bangui/anaconda3/envs/python36/lib/python3.6/site-packages/adanet/tf_compat/__init__.py:96: The name tf.losses.Reduction is deprecated. Please use tf.compat.v1.losses.Reduction instead.\n",
      "\n",
      "W0909 17:19:45.721975 140684464133952 deprecation_wrapper.py:119] From /home/bangui/Dropbox/Perso/Formation/openclassrooms/OC_Datascientist/Kaggle/p8_util_config.py:137: The name tf.train.AdamOptimizer is deprecated. Please use tf.compat.v1.train.AdamOptimizer instead.\n",
      "\n"
     ]
    }
   ],
   "source": [
    "import p5_util\n",
    "\n",
    "filename = './data/DataPreparator_train_v2_spacy_notfidf_20000.dill'\n",
    "dataPreparator_v2_train = p5_util.object_load(filename)"
   ]
  },
  {
   "cell_type": "code",
   "execution_count": 6,
   "metadata": {
    "scrolled": true
   },
   "outputs": [
    {
     "name": "stdout",
     "output_type": "stream",
     "text": [
      "p5_util.object_load : fileName= ./data/DataPreparator_v2_spacy_valid_1000.dill\n"
     ]
    }
   ],
   "source": [
    "import p5_util\n",
    "\n",
    "filename = './data/DataPreparator_v2_spacy_valid_1000.dill'\n",
    "dataPreparator_v2_valid = p5_util.object_load(filename)"
   ]
  },
  {
   "cell_type": "markdown",
   "metadata": {},
   "source": [
    "## <font color=blus>1.2. Building train and test `DataGenerator` </font>"
   ]
  },
  {
   "cell_type": "markdown",
   "metadata": {},
   "source": [
    "    Get the number fo components given an expected variance."
   ]
  },
  {
   "cell_type": "code",
   "execution_count": 7,
   "metadata": {},
   "outputs": [
    {
     "name": "stdout",
     "output_type": "stream",
     "text": [
      "\n",
      "Components= 34 for variance= 60.0%\n"
     ]
    }
   ],
   "source": [
    "import p3_util_plot\n",
    "pca = dataPreparator_v2_train.xpca\n",
    "var_percent = 0.6\n",
    "nb_component = p3_util_plot.get_component_from_cum_variance(pca, var_percent) \n",
    "#proj_dimension = nb_component-1\n",
    "print(\"\\nComponents= {} for variance= {}%\".format(nb_component, var_percent*100))"
   ]
  },
  {
   "cell_type": "code",
   "execution_count": 8,
   "metadata": {},
   "outputs": [
    {
     "name": "stdout",
     "output_type": "stream",
     "text": [
      "{'dim': (0, 1), 'batch_size': 100, 'n_classes': 0, 'n_channels': 0, 'shuffle': False, 'nb_channel': 34}\n"
     ]
    }
   ],
   "source": [
    "embedding_dim=1\n",
    "dimension = 0# Will be updated in function build_generators()\n",
    "dict_param = {'dim': (dimension,embedding_dim),\n",
    "              'batch_size': 100,\n",
    "              'n_classes': 0,\n",
    "              'n_channels': 0,\n",
    "              'shuffle': False,\n",
    "              'nb_channel':nb_component,\n",
    "              #'is_matrix':False,\n",
    "             }\n",
    "partition_size = 1000\n",
    "print(dict_param)"
   ]
  },
  {
   "cell_type": "code",
   "execution_count": 9,
   "metadata": {},
   "outputs": [
    {
     "name": "stdout",
     "output_type": "stream",
     "text": [
      "\n",
      "dim : (80, 0)\n",
      "batch_size : 100\n",
      "n_classes : 0\n",
      "n_channels : 0\n",
      "nb_channel : 34\n",
      "shuffle : False\n",
      "is_mux : True\n",
      "Building train partition...\n",
      "\n",
      "Partition file : 17 / 17 Done!\r"
     ]
    }
   ],
   "source": [
    "!rm ./data/train_X_*.*\n",
    "!rm ./data/valid_X_*.*\n",
    "\n",
    "import test_datapreparator\n",
    "\n",
    "nb_channel = nb_component\n",
    "input_dim = dataPreparator_v2_train.max_length\n",
    "dict_param = {'dim': (input_dim,0),\n",
    "              'batch_size': 100,\n",
    "              'n_classes': 0,\n",
    "              'n_channels': 0,\n",
    "              'nb_channel': nb_channel,\n",
    "              'shuffle': False,\n",
    "              'is_mux' : True\n",
    "}\n",
    "print(\"\")\n",
    "for key, value in dict_param.items() :\n",
    "    print(\"{} : {}\".format(key,value))\n",
    "\n",
    "\n",
    "partition_size = 1000\n",
    "train_generator = test_datapreparator.build_generator(dataPreparator_v2_train, \\\n",
    "                     partition_size,\\\n",
    "                     dict_param,\\\n",
    "                     data_column_name='matrix_padded_truncated',\\\n",
    "                     data_type='train')"
   ]
  },
  {
   "cell_type": "code",
   "execution_count": 10,
   "metadata": {},
   "outputs": [
    {
     "name": "stdout",
     "output_type": "stream",
     "text": [
      "\n",
      "dim : (80, 0)\n",
      "batch_size : 100\n",
      "n_classes : 0\n",
      "n_channels : 0\n",
      "nb_channel : 34\n",
      "shuffle : False\n",
      "is_mux : True\n",
      "Building valid partition...\n",
      "\n",
      "Partition file : 0 / 8 Done!\r",
      "Partition file : 1 / 8 Done!\r",
      "Partition file : 2 / 8 Done!\r",
      "Partition file : 3 / 8 Done!\r",
      "Partition file : 4 / 8 Done!\r",
      "Partition file : 5 / 8 Done!\r",
      "Partition file : 6 / 8 Done!\r",
      "Partition file : 7 / 8 Done!\r",
      "Partition file : 8 / 8 Done!\r"
     ]
    }
   ],
   "source": [
    "nb_channel = nb_component\n",
    "input_dim = dataPreparator_v2_valid.max_length\n",
    "dict_param = {'dim': (input_dim,0),\n",
    "              'batch_size': 100,\n",
    "              'n_classes': 0,\n",
    "              'n_channels': 0,\n",
    "              'nb_channel': nb_channel,\n",
    "              'shuffle': False,\n",
    "              'is_mux' : True\n",
    "}\n",
    "print(\"\")\n",
    "for key, value in dict_param.items() :\n",
    "    print(\"{} : {}\".format(key,value))\n",
    "\n",
    "import test_datapreparator\n",
    "\n",
    "partition_size = 100\n",
    "valid_generator = test_datapreparator.build_generator(dataPreparator_v2_valid, \\\n",
    "                     partition_size,\\\n",
    "                     dict_param,\\\n",
    "                     data_column_name='matrix_padded_truncated',\\\n",
    "                     data_type='valid')"
   ]
  },
  {
   "cell_type": "markdown",
   "metadata": {},
   "source": [
    "    Get X and y for train and validation dataset samples, both projected over the given dimension."
   ]
  },
  {
   "cell_type": "code",
   "execution_count": 13,
   "metadata": {},
   "outputs": [
    {
     "data": {
      "text/plain": [
       "(17366, 300)"
      ]
     },
     "execution_count": 13,
     "metadata": {},
     "output_type": "execute_result"
    }
   ],
   "source": [
    "dataPreparator_v2_train.X.shape"
   ]
  },
  {
   "cell_type": "code",
   "execution_count": 14,
   "metadata": {},
   "outputs": [
    {
     "name": "stdout",
     "output_type": "stream",
     "text": [
      "Train dataset shapes :      ((17366, 80), (17366,))\n",
      "Validation dataset shapes : ((860, 80), (860,))\n"
     ]
    },
    {
     "name": "stderr",
     "output_type": "stream",
     "text": [
      "/home/bangui/anaconda3/envs/python36/lib/python3.6/site-packages/sklearn/preprocessing/_encoders.py:415: FutureWarning: The handling of integer data will change in version 0.22. Currently, the categories are determined based on the range [0, max(values)], while in the future they will be determined based on the unique values.\n",
      "If you want the future behaviour and silence this warning, you can specify \"categories='auto'\".\n",
      "In case you used a LabelEncoder before this OneHotEncoder to convert the categories to integers, then you can now use the OneHotEncoder directly.\n",
      "  warnings.warn(msg, FutureWarning)\n",
      "/home/bangui/anaconda3/envs/python36/lib/python3.6/site-packages/sklearn/preprocessing/_encoders.py:415: FutureWarning: The handling of integer data will change in version 0.22. Currently, the categories are determined based on the range [0, max(values)], while in the future they will be determined based on the unique values.\n",
      "If you want the future behaviour and silence this warning, you can specify \"categories='auto'\".\n",
      "In case you used a LabelEncoder before this OneHotEncoder to convert the categories to integers, then you can now use the OneHotEncoder directly.\n",
      "  warnings.warn(msg, FutureWarning)\n"
     ]
    }
   ],
   "source": [
    "proj_dimension = nb_component-1\n",
    "\n",
    "x_train_proj , y_train = train_generator.get_Xproj_y_from_generator(proj_dimension)\n",
    "print(\"Train dataset shapes :      {}\".format((x_train_proj.shape, y_train.shape)))\n",
    "\n",
    "x_valid_proj , y_valid = valid_generator.get_Xproj_y_from_generator(proj_dimension)\n",
    "\n",
    "print(\"Validation dataset shapes : {}\".format((x_valid_proj.shape, y_valid.shape)))\n",
    "\n",
    "y_train_label_vect_bin = dataPreparator_v2_train.vectorValue2BinaryvectorLabel(vector_value=y_train)\n",
    "y_valid_label_vect_bin = dataPreparator_v2_valid.vectorValue2BinaryvectorLabel(vector_value=y_valid)"
   ]
  },
  {
   "cell_type": "markdown",
   "metadata": {},
   "source": [
    "# <font color=blus>2. Modeling with RNN</font>"
   ]
  },
  {
   "cell_type": "markdown",
   "metadata": {},
   "source": [
    "## <font color=blus>2.1. Modeling a regression with GRU</font>"
   ]
  },
  {
   "cell_type": "code",
   "execution_count": 4,
   "metadata": {},
   "outputs": [
    {
     "name": "stderr",
     "output_type": "stream",
     "text": [
      "W0909 17:41:46.785356 140294232332096 deprecation_wrapper.py:119] From /home/bangui/anaconda3/envs/python36/lib/python3.6/site-packages/keras/backend/tensorflow_backend.py:74: The name tf.get_default_graph is deprecated. Please use tf.compat.v1.get_default_graph instead.\n",
      "\n",
      "W0909 17:41:46.788949 140294232332096 deprecation_wrapper.py:119] From /home/bangui/anaconda3/envs/python36/lib/python3.6/site-packages/keras/backend/tensorflow_backend.py:517: The name tf.placeholder is deprecated. Please use tf.compat.v1.placeholder instead.\n",
      "\n",
      "W0909 17:41:46.791442 140294232332096 deprecation_wrapper.py:119] From /home/bangui/anaconda3/envs/python36/lib/python3.6/site-packages/keras/backend/tensorflow_backend.py:4138: The name tf.random_uniform is deprecated. Please use tf.random.uniform instead.\n",
      "\n",
      "W0909 17:41:47.116642 140294232332096 deprecation_wrapper.py:119] From /home/bangui/anaconda3/envs/python36/lib/python3.6/site-packages/keras/backend/tensorflow_backend.py:133: The name tf.placeholder_with_default is deprecated. Please use tf.compat.v1.placeholder_with_default instead.\n",
      "\n",
      "W0909 17:41:48.116656 140294232332096 deprecation_wrapper.py:119] From /home/bangui/anaconda3/envs/python36/lib/python3.6/site-packages/keras/optimizers.py:790: The name tf.train.Optimizer is deprecated. Please use tf.compat.v1.train.Optimizer instead.\n",
      "\n"
     ]
    },
    {
     "name": "stdout",
     "output_type": "stream",
     "text": [
      "_________________________________________________________________\n",
      "Layer (type)                 Output Shape              Param #   \n",
      "=================================================================\n",
      "gru_1 (GRU)                  (None, 80, 64)            12672     \n",
      "_________________________________________________________________\n",
      "batch_normalization_1 (Batch (None, 80, 64)            256       \n",
      "_________________________________________________________________\n",
      "gru_2 (GRU)                  (None, 80, 64)            24768     \n",
      "_________________________________________________________________\n",
      "dropout_1 (Dropout)          (None, 80, 64)            0         \n",
      "_________________________________________________________________\n",
      "batch_normalization_2 (Batch (None, 80, 64)            256       \n",
      "_________________________________________________________________\n",
      "gru_3 (GRU)                  (None, 80, 64)            24768     \n",
      "_________________________________________________________________\n",
      "dropout_2 (Dropout)          (None, 80, 64)            0         \n",
      "_________________________________________________________________\n",
      "batch_normalization_3 (Batch (None, 80, 64)            256       \n",
      "_________________________________________________________________\n",
      "gru_4 (GRU)                  (None, 80, 64)            24768     \n",
      "_________________________________________________________________\n",
      "dropout_3 (Dropout)          (None, 80, 64)            0         \n",
      "_________________________________________________________________\n",
      "batch_normalization_4 (Batch (None, 80, 64)            256       \n",
      "_________________________________________________________________\n",
      "gru_5 (GRU)                  (None, 64)                24768     \n",
      "_________________________________________________________________\n",
      "batch_normalization_5 (Batch (None, 64)                256       \n",
      "_________________________________________________________________\n",
      "dense_1 (Dense)              (None, 1)                 65        \n",
      "_________________________________________________________________\n",
      "dropout_4 (Dropout)          (None, 1)                 0         \n",
      "=================================================================\n",
      "Total params: 113,089\n",
      "Trainable params: 112,449\n",
      "Non-trainable params: 640\n",
      "_________________________________________________________________\n",
      "None\n"
     ]
    }
   ],
   "source": [
    "import p9_util\n",
    "import p9_util_keras\n",
    "import p9_util_config\n",
    "\n",
    "\n",
    "lstm_out = p9_util_config.dict_keras_rnn['lstm_out']\n",
    "cell_units = p9_util_config.dict_keras_rnn['cell_units']\n",
    "rnn_layers = p9_util_config.dict_keras_rnn['rnn_layers']\n",
    "rnnCellType = p9_util_config.dict_keras_rnn['rnnCellType']\n",
    "is_batch_normalized = p9_util_config.dict_keras_rnn['is_batch_normalized']\n",
    "\n",
    "\n",
    "input_shape = (x_train_proj.shape[1],1)\n",
    "\n",
    "model = p9_util_keras.keras_rnn_build(rnnCellType, \\\n",
    "                                cell_units, \\\n",
    "                                input_shape, \\\n",
    "                                isWordEmbedding=False,\\\n",
    "                                nbClasses=1,\n",
    "                                rnn_layers=rnn_layers,\\\n",
    "                                is_batch_normalized= is_batch_normalized)"
   ]
  },
  {
   "cell_type": "code",
   "execution_count": 16,
   "metadata": {},
   "outputs": [],
   "source": [
    "import numpy as np\n",
    "\n",
    "#x_train_reshape = p9_util.keras_rnn_reshape(x_train_proj)\n",
    "#x_valid_reshape = p9_util.keras_rnn_reshape(x_valid_proj)\n",
    "x_train_reshape = np.reshape(x_train_proj, (x_train_proj.shape[0], x_train_proj.shape[1], 1))\n",
    "x_valid_reshape = np.reshape(x_valid_proj, (x_valid_proj.shape[0], x_valid_proj.shape[1], 1))\n"
   ]
  },
  {
   "cell_type": "code",
   "execution_count": 5,
   "metadata": {},
   "outputs": [
    {
     "ename": "NameError",
     "evalue": "name 'x_train_reshape' is not defined",
     "output_type": "error",
     "traceback": [
      "\u001b[0;31m---------------------------------------------------------------------------\u001b[0m",
      "\u001b[0;31mNameError\u001b[0m                                 Traceback (most recent call last)",
      "\u001b[0;32m<ipython-input-5-de36ab0675ec>\u001b[0m in \u001b[0;36m<module>\u001b[0;34m\u001b[0m\n\u001b[1;32m      4\u001b[0m \u001b[0;34m\u001b[0m\u001b[0m\n\u001b[1;32m      5\u001b[0m \u001b[0;34m\u001b[0m\u001b[0m\n\u001b[0;32m----> 6\u001b[0;31m history = model.fit(x_train_reshape, \\\n\u001b[0m\u001b[1;32m      7\u001b[0m                     \u001b[0my_train\u001b[0m\u001b[0;34m,\u001b[0m\u001b[0;31m\\\u001b[0m\u001b[0;34m\u001b[0m\u001b[0;34m\u001b[0m\u001b[0m\n\u001b[1;32m      8\u001b[0m                     \u001b[0mvalidation_data\u001b[0m\u001b[0;34m=\u001b[0m\u001b[0;34m(\u001b[0m\u001b[0mx_valid_reshape\u001b[0m\u001b[0;34m,\u001b[0m\u001b[0my_valid\u001b[0m\u001b[0;34m)\u001b[0m\u001b[0;34m,\u001b[0m\u001b[0;31m \u001b[0m\u001b[0;31m\\\u001b[0m\u001b[0;34m\u001b[0m\u001b[0;34m\u001b[0m\u001b[0m\n",
      "\u001b[0;31mNameError\u001b[0m: name 'x_train_reshape' is not defined"
     ]
    }
   ],
   "source": [
    "\n",
    "batch_size = p9_util_config.dict_keras_rnn['batch_size']\n",
    "nb_epoch = p9_util_config.dict_keras_rnn['nb_epoch']\n",
    "verbose = p9_util_config.dict_keras_rnn['verbose']\n",
    "\n",
    "\n",
    "history = model.fit(x_train_reshape, \\\n",
    "                    y_train,\\\n",
    "                    validation_data=(x_valid_reshape,y_valid), \\\n",
    "                    batch_size =batch_size, \\\n",
    "                    nb_epoch = nb_epoch,\\\n",
    "                    verbose = verbose)"
   ]
  },
  {
   "cell_type": "code",
   "execution_count": null,
   "metadata": {},
   "outputs": [],
   "source": []
  },
  {
   "cell_type": "code",
   "execution_count": null,
   "metadata": {},
   "outputs": [],
   "source": []
  },
  {
   "cell_type": "code",
   "execution_count": 10,
   "metadata": {},
   "outputs": [
    {
     "name": "stderr",
     "output_type": "stream",
     "text": [
      "W0909 19:14:15.583679 140189372000064 deprecation_wrapper.py:119] From /home/bangui/anaconda3/envs/python36/lib/python3.6/site-packages/keras/backend/tensorflow_backend.py:986: The name tf.assign_add is deprecated. Please use tf.compat.v1.assign_add instead.\n",
      "\n",
      "W0909 19:14:15.643103 140189372000064 deprecation_wrapper.py:119] From /home/bangui/anaconda3/envs/python36/lib/python3.6/site-packages/keras/backend/tensorflow_backend.py:973: The name tf.assign is deprecated. Please use tf.compat.v1.assign instead.\n",
      "\n"
     ]
    },
    {
     "name": "stdout",
     "output_type": "stream",
     "text": [
      "Epoch 1/5\n",
      "174/174 [==============================] - 118s 676ms/step - loss: 0.0407 - mean_absolute_error: 0.1446 - val_loss: 0.0336 - val_mean_absolute_error: 0.1391\n",
      "Epoch 2/5\n",
      "174/174 [==============================] - 101s 580ms/step - loss: 0.0394 - mean_absolute_error: 0.1472 - val_loss: 0.0337 - val_mean_absolute_error: 0.1408\n",
      "Epoch 3/5\n",
      "174/174 [==============================] - 96s 555ms/step - loss: 0.0394 - mean_absolute_error: 0.1473 - val_loss: 0.0336 - val_mean_absolute_error: 0.1381\n",
      "Epoch 4/5\n",
      "174/174 [==============================] - 100s 574ms/step - loss: 0.0394 - mean_absolute_error: 0.1474 - val_loss: 0.0337 - val_mean_absolute_error: 0.1393\n",
      "Epoch 5/5\n",
      "174/174 [==============================] - 99s 572ms/step - loss: 0.0394 - mean_absolute_error: 0.1472 - val_loss: 0.0336 - val_mean_absolute_error: 0.1384\n"
     ]
    }
   ],
   "source": [
    "# Train model on dataset\n",
    "history = model.fit_generator(generator=train_generator,\n",
    "                    validation_data=valid_generator,\n",
    "                    use_multiprocessing=False,\n",
    "                    workers=1, verbose=1, epochs=5)"
   ]
  },
  {
   "cell_type": "markdown",
   "metadata": {},
   "source": [
    "#### Reshape arrays for time series\n",
    "\n",
    "    Arrays are shapes as [obervations, features].\n",
    "\n",
    "    They are reshaped in order to feed RNN model with one observation to each step.\n",
    "    \n",
    "    Then reshaped will lead to [observations, 1, features]\n",
    "\n"
   ]
  },
  {
   "cell_type": "code",
   "execution_count": 52,
   "metadata": {},
   "outputs": [
    {
     "data": {
      "text/plain": [
       "500"
      ]
     },
     "execution_count": 52,
     "metadata": {},
     "output_type": "execute_result"
    }
   ],
   "source": [
    "batch_size = X_train_matrix.shape[0]//10\n",
    "batch_size"
   ]
  },
  {
   "cell_type": "code",
   "execution_count": 53,
   "metadata": {},
   "outputs": [
    {
     "name": "stderr",
     "output_type": "stream",
     "text": [
      "/home/bangui/anaconda3/envs/python36/lib/python3.6/site-packages/ipykernel_launcher.py:1: UserWarning: The `nb_epoch` argument in `fit` has been renamed `epochs`.\n",
      "  \"\"\"Entry point for launching an IPython kernel.\n"
     ]
    },
    {
     "name": "stdout",
     "output_type": "stream",
     "text": [
      "Train on 5000 samples, validate on 1000 samples\n",
      "Epoch 1/10\n",
      "5000/5000 [==============================] - 17s 3ms/step - loss: 0.0498 - mean_absolute_error: 0.1144 - val_loss: 0.0438 - val_mean_absolute_error: 0.1187\n",
      "Epoch 2/10\n",
      "5000/5000 [==============================] - 11s 2ms/step - loss: 0.0428 - mean_absolute_error: 0.1330 - val_loss: 0.0399 - val_mean_absolute_error: 0.1407\n",
      "Epoch 3/10\n",
      "5000/5000 [==============================] - 11s 2ms/step - loss: 0.0406 - mean_absolute_error: 0.1485 - val_loss: 0.0401 - val_mean_absolute_error: 0.1528\n",
      "Epoch 4/10\n",
      "5000/5000 [==============================] - 11s 2ms/step - loss: 0.0407 - mean_absolute_error: 0.1547 - val_loss: 0.0403 - val_mean_absolute_error: 0.1544\n",
      "Epoch 5/10\n",
      "5000/5000 [==============================] - 12s 2ms/step - loss: 0.0406 - mean_absolute_error: 0.1539 - val_loss: 0.0401 - val_mean_absolute_error: 0.1516\n",
      "Epoch 6/10\n",
      "5000/5000 [==============================] - 11s 2ms/step - loss: 0.0405 - mean_absolute_error: 0.1509 - val_loss: 0.0399 - val_mean_absolute_error: 0.1483\n",
      "Epoch 7/10\n",
      "5000/5000 [==============================] - 11s 2ms/step - loss: 0.0405 - mean_absolute_error: 0.1489 - val_loss: 0.0399 - val_mean_absolute_error: 0.1472\n",
      "Epoch 8/10\n",
      "5000/5000 [==============================] - 12s 2ms/step - loss: 0.0405 - mean_absolute_error: 0.1486 - val_loss: 0.0399 - val_mean_absolute_error: 0.1474\n",
      "Epoch 9/10\n",
      "5000/5000 [==============================] - 11s 2ms/step - loss: 0.0405 - mean_absolute_error: 0.1488 - val_loss: 0.0399 - val_mean_absolute_error: 0.1477\n",
      "Epoch 10/10\n",
      "5000/5000 [==============================] - 11s 2ms/step - loss: 0.0405 - mean_absolute_error: 0.1490 - val_loss: 0.0399 - val_mean_absolute_error: 0.1479\n"
     ]
    }
   ],
   "source": [
    "history = model.fit(X_train_matrix, y_train,validation_data=(X_valid_matrix,y_valid), batch_size =batch_size, nb_epoch = 10,  verbose = 1)"
   ]
  },
  {
   "cell_type": "code",
   "execution_count": null,
   "metadata": {},
   "outputs": [],
   "source": []
  },
  {
   "cell_type": "code",
   "execution_count": null,
   "metadata": {},
   "outputs": [],
   "source": []
  },
  {
   "cell_type": "code",
   "execution_count": null,
   "metadata": {},
   "outputs": [],
   "source": []
  },
  {
   "cell_type": "code",
   "execution_count": null,
   "metadata": {},
   "outputs": [],
   "source": [
    "X_train_matrix_reshape = np.reshape(X_train_matrix, (X_train_matrix.shape[0], 1, X_train_matrix.shape[1]))\n",
    "#X_test_reshape = np.reshape(X_test, (X_test.shape[0], 1, X_test.shape[1]))\n",
    "print(X_train_matrix_reshape.shape)\n",
    "#print(X_test_reshape.shape)"
   ]
  },
  {
   "cell_type": "code",
   "execution_count": null,
   "metadata": {},
   "outputs": [],
   "source": [
    "X_train_matrix[0].shape"
   ]
  },
  {
   "cell_type": "code",
   "execution_count": null,
   "metadata": {},
   "outputs": [],
   "source": []
  },
  {
   "cell_type": "code",
   "execution_count": null,
   "metadata": {},
   "outputs": [],
   "source": [
    "import numpy as np\n",
    "\n",
    "X_train_reshape = np.reshape(X_train, (X_train.shape[0], 1, X_train.shape[1]))\n",
    "X_test_reshape = np.reshape(X_test, (X_test.shape[0], 1, X_test.shape[1]))\n",
    "print(X_train_reshape.shape)\n",
    "print(X_test_reshape.shape)"
   ]
  },
  {
   "cell_type": "markdown",
   "metadata": {},
   "source": [
    "    Fixe RNN hyper-parameters"
   ]
  },
  {
   "cell_type": "code",
   "execution_count": null,
   "metadata": {},
   "outputs": [],
   "source": [
    "history = model.fit(X_train_reshape, y_train, batch_size =batch_size, nb_epoch = 30\n",
    "                    ,validation_data=(X_test_reshape,y_test),  verbose = 1)"
   ]
  },
  {
   "cell_type": "code",
   "execution_count": 6,
   "metadata": {},
   "outputs": [
    {
     "data": {
      "text/plain": [
       "{'lstm_out': 1, 'cell_units': 32, 'rnn_layers': 4, 'rnnCellType': 'GRU'}"
      ]
     },
     "execution_count": 6,
     "metadata": {},
     "output_type": "execute_result"
    }
   ],
   "source": [
    "import p9_util_config\n",
    "p9_util_config.dict_keras_rnn"
   ]
  },
  {
   "cell_type": "code",
   "execution_count": 1,
   "metadata": {},
   "outputs": [
    {
     "name": "stderr",
     "output_type": "stream",
     "text": [
      "Using TensorFlow backend.\n"
     ]
    },
    {
     "ename": "NameError",
     "evalue": "name 'model' is not defined",
     "output_type": "error",
     "traceback": [
      "\u001b[0;31m---------------------------------------------------------------------------\u001b[0m",
      "\u001b[0;31mNameError\u001b[0m                                 Traceback (most recent call last)",
      "\u001b[0;32m<ipython-input-1-b8a48fa63700>\u001b[0m in \u001b[0;36m<module>\u001b[0;34m\u001b[0m\n\u001b[1;32m     13\u001b[0m \u001b[0;34m\u001b[0m\u001b[0m\n\u001b[1;32m     14\u001b[0m \u001b[0;32mif\u001b[0m \u001b[0;32mTrue\u001b[0m\u001b[0;34m:\u001b[0m\u001b[0;34m\u001b[0m\u001b[0;34m\u001b[0m\u001b[0m\n\u001b[0;32m---> 15\u001b[0;31m     \u001b[0mmodel\u001b[0m\u001b[0;34m.\u001b[0m\u001b[0msave\u001b[0m\u001b[0;34m(\u001b[0m\u001b[0;34m\"./data/model_\"\u001b[0m\u001b[0;34m+\u001b[0m\u001b[0mcore_name\u001b[0m\u001b[0;34m+\u001b[0m\u001b[0;34m\".h5\"\u001b[0m\u001b[0;34m)\u001b[0m\u001b[0;34m\u001b[0m\u001b[0;34m\u001b[0m\u001b[0m\n\u001b[0m\u001b[1;32m     16\u001b[0m     \u001b[0mp5_util\u001b[0m\u001b[0;34m.\u001b[0m\u001b[0mobject_dump\u001b[0m\u001b[0;34m(\u001b[0m\u001b[0mhistory\u001b[0m\u001b[0;34m,\u001b[0m \u001b[0;34m\"history_\"\u001b[0m\u001b[0;34m+\u001b[0m\u001b[0mcore_name\u001b[0m\u001b[0;34m+\u001b[0m\u001b[0;34m\".dump\"\u001b[0m\u001b[0;34m)\u001b[0m\u001b[0;34m\u001b[0m\u001b[0;34m\u001b[0m\u001b[0m\n\u001b[1;32m     17\u001b[0m     \u001b[0;31m#p5_util.object_dump(max_length, \"max_length_\"+core_name+\".dump\")\u001b[0m\u001b[0;34m\u001b[0m\u001b[0;34m\u001b[0m\u001b[0;34m\u001b[0m\u001b[0m\n",
      "\u001b[0;31mNameError\u001b[0m: name 'model' is not defined"
     ]
    }
   ],
   "source": [
    "import keras\n",
    "\n",
    "import p5_util\n",
    "\n",
    "import p9_util_config\n",
    "\n",
    "rnn_layers = p9_util_config.dict_keras_rnn['rnn_layers']\n",
    "lstm_out = p9_util_config.dict_keras_rnn['lstm_out']\n",
    "cell_units = p9_util_config.dict_keras_rnn['cell_units']\n",
    "rnnCellType = p9_util_config.dict_keras_rnn['rnnCellType']\n",
    "\n",
    "core_name = \"gru_\"+str(rnn_layers)+\"layers_\"+str(cell_units)+'units'\n",
    "\n",
    "if True:\n",
    "    model.save(\"./data/model_\"+core_name+\".h5\")\n",
    "    p5_util.object_dump(history, \"history_\"+core_name+\".dump\")\n",
    "    #p5_util.object_dump(max_length, \"max_length_\"+core_name+\".dump\")\n",
    "    \n",
    "else :\n",
    "    model = keras.models.load_model(\"./data/model_\"+core_name+\".h5\")\n",
    "    history = p5_util.object_load(\"history_\"+core_name+\".dump\")\n",
    "    #max_length = p5_util.object_load(\"max_length_\"+core_name+\".dump\")\n",
    "\n",
    "#print(\"\\nInput data length= {}\".format(max_length))\n",
    "model.summary()"
   ]
  },
  {
   "cell_type": "markdown",
   "metadata": {},
   "source": [
    "#### <font color=blus>Computation of classifications performances</font>"
   ]
  },
  {
   "cell_type": "code",
   "execution_count": 3,
   "metadata": {},
   "outputs": [
    {
     "data": {
      "image/png": "[encoded data removed]",
      "text/plain": [
       "<Figure size 576x432 with 1 Axes>"
      ]
     },
     "metadata": {
      "needs_background": "light"
     },
     "output_type": "display_data"
    },
    {
     "data": {
      "image/png": "[encoded data removed]",
      "text/plain": [
       "<Figure size 576x432 with 1 Axes>"
      ]
     },
     "metadata": {
      "needs_background": "light"
     },
     "output_type": "display_data"
    }
   ],
   "source": [
    "import p7_util\n",
    "\n",
    "list_model_acc_value = p7_util.p7_plot_cnn_history(model, None, None, history=history)"
   ]
  },
  {
   "cell_type": "code",
   "execution_count": 9,
   "metadata": {},
   "outputs": [
    {
     "data": {
      "image/png": "[encoded data removed]",
      "text/plain": [
       "<Figure size 576x432 with 1 Axes>"
      ]
     },
     "metadata": {
      "needs_background": "light"
     },
     "output_type": "display_data"
    },
    {
     "data": {
      "image/png": "[encoded data removed]",
      "text/plain": [
       "<Figure size 576x432 with 1 Axes>"
      ]
     },
     "metadata": {
      "needs_background": "light"
     },
     "output_type": "display_data"
    }
   ],
   "source": [
    "import p7_util\n",
    "\n",
    "list_model_acc_value = p7_util.p7_plot_cnn_history(model, None, None, history=history)"
   ]
  },
  {
   "cell_type": "code",
   "execution_count": 5,
   "metadata": {},
   "outputs": [
    {
     "data": {
      "image/png": "[encoded data removed]",
      "text/plain": [
       "<Figure size 576x432 with 1 Axes>"
      ]
     },
     "metadata": {
      "needs_background": "light"
     },
     "output_type": "display_data"
    },
    {
     "data": {
      "image/png": "[encoded data removed]",
      "text/plain": [
       "<Figure size 576x432 with 1 Axes>"
      ]
     },
     "metadata": {
      "needs_background": "light"
     },
     "output_type": "display_data"
    }
   ],
   "source": [
    "import p7_util\n",
    "\n",
    "list_model_acc_value = p7_util.p7_plot_cnn_history(model, None, None, history=history)"
   ]
  },
  {
   "cell_type": "markdown",
   "metadata": {},
   "source": [
    "## <font color=blus>2.1 Switch to classification problem</font>\n",
    "\n",
    "    Targets, that are coninues values from float type, are converted into classes of integers, such leading to a classification model.\n",
    "    \n",
    "    For doing that, y_train_encoded and y_test_encoded are transformed as array of integers, \n",
    "    ranging from 0 to 10, leading to 11 classes."
   ]
  },
  {
   "cell_type": "markdown",
   "metadata": {},
   "source": [
    "### <font color=blus>2.1.1 Binary classification</font>"
   ]
  },
  {
   "cell_type": "markdown",
   "metadata": {},
   "source": [
    "Target is splitted based \n",
    "\n",
    "`y_train_label` and `y_test_label` are arrays with number of columns as number of classes.\n",
    "\n",
    "Classes are one-hot-encoded for each observation."
   ]
  },
  {
   "cell_type": "code",
   "execution_count": null,
   "metadata": {},
   "outputs": [],
   "source": [
    "y_train.min(), y_train.max()\n",
    "np.round(y_train*1.0, 1).astype(int)"
   ]
  },
  {
   "cell_type": "markdown",
   "metadata": {},
   "source": [
    "`y_train` and `y_test` are vectors with float values ranging from `0.0` to `1.0`. \n",
    "\n",
    "`y_train_label` and `y_test_label` are matrix issued from One-hot-encoding were position of 1 value in a column indicates the class value.\n",
    "\n",
    "`decimal_count` is the value allowing to take into account the number of decimals when converting continuous values into classes."
   ]
  },
  {
   "cell_type": "code",
   "execution_count": null,
   "metadata": {},
   "outputs": [],
   "source": [
    "import p9_util\n",
    "decimal_count=1\n",
    "nb_classes, y_train_label = p9_util.y_reg_2_label(y_train, decimal_count=decimal_count)\n",
    "_, y_test_label = p9_util.y_reg_2_label(y_test, decimal_count=decimal_count)\n",
    "\n",
    "print(\"\\nNumber of classes= {}\".format(nb_classes))"
   ]
  },
  {
   "cell_type": "markdown",
   "metadata": {},
   "source": [
    "`y_train_label_vect` and `y_test_label_vect` are vectors issues from `[N x Classes]` matrix, where `N` is the \n",
    "number of samples and `Classes` the number of classes.\n",
    "\n",
    "After this target conversion, unique column values are classes number, ranged from `0` to `10`."
   ]
  },
  {
   "cell_type": "code",
   "execution_count": null,
   "metadata": {},
   "outputs": [],
   "source": [
    "import p9_util\n",
    "\n",
    "y_train_label_vect = np.array([p9_util.get_label_from_row(y_train_label[row]) for row in range(0,len(y_train_label))])\n",
    "y_test_label_vect  = np.array([p9_util.get_label_from_row(y_test_label[row])  for row in range(0,len(y_test_label))])"
   ]
  },
  {
   "cell_type": "markdown",
   "metadata": {},
   "source": [
    "`Counter` class from `collection` package is used in order to compute occurencies fo each class in the data-model."
   ]
  },
  {
   "cell_type": "code",
   "execution_count": null,
   "metadata": {},
   "outputs": [],
   "source": [
    "from collections import Counter\n",
    "\n",
    "counter_y_train_label_vect = Counter(y_train_label_vect)\n",
    "counter_y_test_label_vect  = Counter(y_test_label_vect)\n",
    "\n",
    "print(counter_y_train_label_vect, counter_y_train_label_vect[0]+counter_y_train_label_vect[1])\n",
    "print(counter_y_test_label_vect, counter_y_test_label_vect[0]+counter_y_test_label_vect[1])"
   ]
  },
  {
   "cell_type": "markdown",
   "metadata": {},
   "source": [
    "    Diagram below shows classes distribution for train (blue) and test (orange) dataset.\n",
    "\n",
    "    Both diagrams shows same shape."
   ]
  },
  {
   "cell_type": "code",
   "execution_count": null,
   "metadata": {},
   "outputs": [],
   "source": [
    "fig = plt.figure(figsize=(5,5))\n",
    "_=sns.kdeplot(y_train_label_vect, shade=True)\n",
    "_=sns.kdeplot(y_test_label_vect, shade=True)\n",
    "fig.legend(labels=['Train classes distribution','Test classes distribution'])\n",
    "plt.show()"
   ]
  },
  {
   "cell_type": "code",
   "execution_count": null,
   "metadata": {},
   "outputs": [],
   "source": [
    "threshold = 0\n",
    "direction = 1\n",
    "y_train_label_bin = multivalue2_binary(y_train_label_vect, threshold, direction)\n",
    "y_test_label_bin = multivalue2_binary(y_test_label_vect, threshold, direction)"
   ]
  },
  {
   "cell_type": "code",
   "execution_count": null,
   "metadata": {},
   "outputs": [],
   "source": [
    "from collections import Counter\n",
    "counter_y_train_label_bin = Counter(y_train_label_bin)\n",
    "counter_y_test_label_bin  = Counter(y_test_label_bin)\n",
    "\n",
    "print(counter_y_train_label_bin, counter_y_train_label_bin[0]+counter_y_train_label_bin[1])\n",
    "print(counter_y_test_label_bin, counter_y_test_label_bin[0]+counter_y_test_label_bin[1])"
   ]
  },
  {
   "cell_type": "markdown",
   "metadata": {},
   "source": [
    "    Split target vector to balance train and test categories."
   ]
  },
  {
   "cell_type": "code",
   "execution_count": null,
   "metadata": {},
   "outputs": [],
   "source": [
    "split_number = len(y_test_label_bin)\n",
    "split_number\n",
    "X_train_split = X_train[:split_number]\n",
    "y_train_label_bin_split = y_train_label_bin[:split_number]\n",
    "X_train_split.shape, X_test.shape"
   ]
  },
  {
   "cell_type": "code",
   "execution_count": null,
   "metadata": {},
   "outputs": [],
   "source": [
    "fig = plt.figure(figsize=(5,5))\n",
    "_=sns.kdeplot(y_train_label_bin_split, shade=True)\n",
    "_=sns.kdeplot(y_test_label_bin, shade=True)\n",
    "fig.legend(labels=['Train classes distribution','Test classes distribution'])\n",
    "plt.show()"
   ]
  },
  {
   "cell_type": "markdown",
   "metadata": {},
   "source": [
    "#### <font color='blus'>Appying RNN model to binary classification</font>"
   ]
  },
  {
   "cell_type": "markdown",
   "metadata": {},
   "source": [
    "    Dataset are reshaped inorder to feed Keras RNN."
   ]
  },
  {
   "cell_type": "code",
   "execution_count": null,
   "metadata": {},
   "outputs": [],
   "source": [
    "import p9_util\n",
    "\n",
    "X_train_reshape = p9_util.keras_rnn_reshape(X_train_split)\n",
    "X_test_reshape = p9_util.keras_rnn_reshape(X_test)"
   ]
  },
  {
   "cell_type": "markdown",
   "metadata": {},
   "source": [
    "For feeding RNN network, `y_train_label_bin_split` and `y_test_label_bin` are converted into matrix where \n",
    "number of columns is the number of classes."
   ]
  },
  {
   "cell_type": "code",
   "execution_count": null,
   "metadata": {},
   "outputs": [],
   "source": [
    "nb_classes, y_train_label_bin_split = p9_util.y_reg_2_label(y_train_label_bin_split, decimal_count=0)\n",
    "_, y_test_label_bin = p9_util.y_reg_2_label(y_test_label_bin, decimal_count=0)\n",
    "print(y_train_label_bin_split.shape)\n",
    "print(y_test_label_bin.shape)\n"
   ]
  },
  {
   "cell_type": "markdown",
   "metadata": {},
   "source": [
    "#### <font color=blus>Building GRU model with 1 layer </font>"
   ]
  },
  {
   "cell_type": "code",
   "execution_count": null,
   "metadata": {},
   "outputs": [],
   "source": [
    "lstm_out = 1\n",
    "cell_units = 16*2\n",
    "rnn_layers = 1\n",
    "batch_size = X_train_split.shape[0]//10\n",
    "\n",
    "import p9_util\n",
    "\n",
    "rnnCellType = 'GRU'\n",
    "\n",
    "model = p9_util.keras_rnn_build(rnnCellType, cell_units, max_length, isWordEmbedding=False\\\n",
    "                   , nbClasses=nb_classes, rnn_layers=rnn_layers)"
   ]
  },
  {
   "cell_type": "code",
   "execution_count": null,
   "metadata": {},
   "outputs": [],
   "source": [
    "history = model.fit(X_train_reshape, y_train_label_bin_split, batch_size =batch_size, nb_epoch = 10\n",
    "                    ,validation_data=(X_test_reshape,y_test_label_bin),  verbose = 1)"
   ]
  },
  {
   "cell_type": "markdown",
   "metadata": {},
   "source": [
    "#### <font color=blus>Computation of classifications performances</font>"
   ]
  },
  {
   "cell_type": "code",
   "execution_count": null,
   "metadata": {},
   "outputs": [],
   "source": [
    "import p7_util\n",
    "\n",
    "list_model_acc_value = p7_util.p7_plot_cnn_history(model, None, None, history=history, legend='Binary classification')"
   ]
  },
  {
   "cell_type": "code",
   "execution_count": null,
   "metadata": {},
   "outputs": [],
   "source": [
    "import p9_util\n",
    "y_= p9_util.display_class_performance(model, X_test_reshape, y_test_label_bin, is_binary=True, y_pred=None)"
   ]
  },
  {
   "cell_type": "markdown",
   "metadata": {},
   "source": [
    "#### <font color=blus>Building GRU model with 2 layers </font>"
   ]
  },
  {
   "cell_type": "code",
   "execution_count": null,
   "metadata": {},
   "outputs": [],
   "source": [
    "lstm_out = 1\n",
    "cell_units = 16*2\n",
    "rnn_layers = 2\n",
    "batch_size = X_train_split.shape[0]//10\n",
    "\n",
    "import p9_util\n",
    "\n",
    "rnnCellType = 'GRU'\n",
    "\n",
    "model = p9_util.keras_rnn_build(rnnCellType, cell_units, max_length, isWordEmbedding=False\\\n",
    "                   , nbClasses=nb_classes, rnn_layers=rnn_layers)"
   ]
  },
  {
   "cell_type": "code",
   "execution_count": null,
   "metadata": {},
   "outputs": [],
   "source": [
    "history = model.fit(X_train_reshape, y_train_label_bin_split, batch_size =batch_size, nb_epoch = 10\n",
    "                    ,validation_data=(X_test_reshape,y_test_label_bin),  verbose = 1)"
   ]
  },
  {
   "cell_type": "markdown",
   "metadata": {},
   "source": [
    "#### <font color=blus>Computation of classifications performances</font>"
   ]
  },
  {
   "cell_type": "code",
   "execution_count": null,
   "metadata": {},
   "outputs": [],
   "source": [
    "import p7_util\n",
    "\n",
    "list_model_acc_value = p7_util.p7_plot_cnn_history(model, None, None, history=history, legend='Binary classification')"
   ]
  },
  {
   "cell_type": "code",
   "execution_count": null,
   "metadata": {},
   "outputs": [],
   "source": [
    "import p9_util\n",
    "toxicity_threshold = 0.5\n",
    "y_train_label = np.where(y_train <= toxicity_threshold, 0, 1)\n",
    "y_test_label  = np.where(y_test  <= toxicity_threshold, 0, 1)\n",
    "\n",
    "nb_classes, y_train_label = p9_util.y_reg_2_label(y_train_label)\n",
    "_, y_test_label = p9_util.y_reg_2_label(y_test_label)\n",
    "\n",
    "\n",
    "nb_classes = y_train_label.shape[1]\n",
    "print(\"\\nNumber of classes issued from one hot encoding= {}\".format(nb_classes))"
   ]
  },
  {
   "cell_type": "code",
   "execution_count": null,
   "metadata": {},
   "outputs": [],
   "source": [
    "nb_classes = 2\n",
    "cell_units, max_length,nb_classes"
   ]
  },
  {
   "cell_type": "code",
   "execution_count": null,
   "metadata": {},
   "outputs": [],
   "source": [
    "import p9_util\n",
    "\n",
    "rnnCellType = 'GRU'\n",
    "\n",
    "model = p9_util.keras_rnn_build(rnnCellType, cell_units, max_length, isWordEmbedding=False\\\n",
    "                   , nbClasses=nb_classes)"
   ]
  },
  {
   "cell_type": "code",
   "execution_count": null,
   "metadata": {},
   "outputs": [],
   "source": [
    "history = model.fit(X_train_reshape, y_train_label, batch_size =batch_size, nb_epoch = 60\n",
    "                    ,validation_data=(X_test_reshape,y_test_label),  verbose = 1)"
   ]
  },
  {
   "cell_type": "markdown",
   "metadata": {},
   "source": [
    "#### <font color=blus>Computation of classifications performances</font>"
   ]
  },
  {
   "cell_type": "code",
   "execution_count": null,
   "metadata": {},
   "outputs": [],
   "source": [
    "import p7_util\n",
    "\n",
    "list_model_acc_value = p7_util.p7_plot_cnn_history(model, None, None, history=history, legend='Binary classification')"
   ]
  },
  {
   "cell_type": "markdown",
   "metadata": {},
   "source": [
    "    It can be seen that, even if cost function may continue to decrease, then\n",
    "    accuracy will not improve.\n",
    "    This is due to influence of a great number of observations that are toxicity free, considering \n",
    "    others observations."
   ]
  },
  {
   "cell_type": "markdown",
   "metadata": {},
   "source": [
    "    Toxicity predictions classes are firstly computed from test dataset issued from texts to be tested.\n",
    "    Target test vector, a [Nx11] matrix, is transformed into a vector of N rows.\n",
    "    For achieving this, function \n",
    "`p9_util.get_label_from_row()` \n",
    "\n",
    "    is used for any row from matrix.\n",
    "    This allows to compute confusion matrix then plot it."
   ]
  },
  {
   "cell_type": "code",
   "execution_count": null,
   "metadata": {},
   "outputs": [],
   "source": [
    "import p9_util\n",
    "y_= p9_util.display_class_performance(model, X_test_reshape, y_test_label, is_binary=True, y_pred=y_)"
   ]
  },
  {
   "cell_type": "markdown",
   "metadata": {},
   "source": [
    "#### <font color='blus'> Use of Adagrad optimizer for binary classification</font>"
   ]
  },
  {
   "cell_type": "code",
   "execution_count": null,
   "metadata": {},
   "outputs": [],
   "source": [
    "import p9_util\n",
    "\n",
    "rnnCellType = 'GRU'\n",
    "\n",
    "model = p9_util.keras_rnn_build(rnnCellType, cell_units, max_length, isWordEmbedding=False\\\n",
    "                   , nbClasses=nb_classes, optimizer_name='Adagrad')"
   ]
  },
  {
   "cell_type": "code",
   "execution_count": null,
   "metadata": {
    "scrolled": false
   },
   "outputs": [],
   "source": [
    "history = model.fit(X_train_reshape, y_train_label, batch_size =batch_size, nb_epoch = 60\n",
    "                    ,validation_data=(X_test_reshape,y_test_label),  verbose = 1)"
   ]
  },
  {
   "cell_type": "markdown",
   "metadata": {},
   "source": [
    "#### <font color=blus>Computation of binary classifications performances</font>"
   ]
  },
  {
   "cell_type": "code",
   "execution_count": null,
   "metadata": {},
   "outputs": [],
   "source": [
    "import p7_util\n",
    "\n",
    "list_model_acc_value = p7_util.p7_plot_cnn_history(model, None, None, history=history, legend='Binary classification')"
   ]
  },
  {
   "cell_type": "markdown",
   "metadata": {},
   "source": [
    "    Here under, distributions of computed predictions are calculated."
   ]
  },
  {
   "cell_type": "code",
   "execution_count": null,
   "metadata": {},
   "outputs": [],
   "source": [
    "import p9_util\n",
    "y_= p9_util.display_class_performance(model, X_test_reshape, y_test_label, is_binary=True, y_pred=None)"
   ]
  },
  {
   "cell_type": "markdown",
   "metadata": {},
   "source": [
    "### <font color=blus>2.1.2 Multi-label classification</font>"
   ]
  },
  {
   "cell_type": "markdown",
   "metadata": {},
   "source": [
    "    Classes are created based on range values for toxicity, as following :\n",
    "        * From 0.0 <= toxicity <= 0.1 class is 0\n",
    "        * From 0.1 < toxicity  <= 0.2 class is 1\n",
    "                    ...\n",
    "        * From 0.9 < toxicity  <= 1.0 class is 10\n",
    "    \n",
    "    Leading to 11 classes"
   ]
  },
  {
   "cell_type": "code",
   "execution_count": null,
   "metadata": {},
   "outputs": [],
   "source": [
    "# This is for avoiding to compute prediction again, once already done, in the performance evaluation step function.\n",
    "y_=None"
   ]
  },
  {
   "cell_type": "code",
   "execution_count": null,
   "metadata": {},
   "outputs": [],
   "source": [
    "import p9_util\n",
    "\n",
    "nb_classes, y_train_label = p9_util.y_reg_2_label(y_train)\n",
    "_, y_test_label = p9_util.y_reg_2_label(y_test)\n",
    "print(\"\\nNumber of classes issued from one hot encoding= {}\".format(nb_classes))"
   ]
  },
  {
   "cell_type": "code",
   "execution_count": null,
   "metadata": {},
   "outputs": [],
   "source": [
    "rnnCellType = 'GRU'\n",
    "cell_units = 16*2\n",
    "lstm_out = 1\n",
    "rnn_layers = 2"
   ]
  },
  {
   "cell_type": "code",
   "execution_count": null,
   "metadata": {},
   "outputs": [],
   "source": [
    "import p9_util\n",
    "\n",
    "max_length = len(X_train[0])\n",
    "print(\"\\nInput length= {}\".format(max_length))\n",
    "print(\"Number of units per RNN cell= {}\".format(cell_units))\n",
    "\n",
    "model = p9_util.keras_rnn_build(rnnCellType, cell_units, max_length, isWordEmbedding=False\\\n",
    "                   , nbClasses=nb_classes, optimizer_name='Adagrad')"
   ]
  },
  {
   "cell_type": "code",
   "execution_count": null,
   "metadata": {},
   "outputs": [],
   "source": [
    "batch_size = X_train.shape[0]//10\n",
    "\n",
    "# This is the size of vector words.\n",
    "embedding_dim = 100\n",
    "vocab_size = len(keras_tokenizer.word_index) + 1\n",
    "print(\"Vocabulary size= {}\".format(vocab_size))\n",
    "print(\"Batch size= {}\".format(batch_size))\n",
    "print(\"Embeddings dimension= {}\".format(embedding_dim))\n"
   ]
  },
  {
   "cell_type": "code",
   "execution_count": null,
   "metadata": {},
   "outputs": [],
   "source": [
    "import numpy as np\n",
    "\n",
    "X_train_reshape = np.reshape(X_train, (X_train.shape[0], 1, X_train.shape[1]))\n",
    "X_test_reshape = np.reshape(X_test, (X_test.shape[0], 1, X_test.shape[1]))\n",
    "print(X_train_reshape.shape)\n",
    "print(X_test_reshape.shape)"
   ]
  },
  {
   "cell_type": "code",
   "execution_count": null,
   "metadata": {},
   "outputs": [],
   "source": [
    "history = model.fit(X_train_reshape, y_train_label, batch_size =batch_size, nb_epoch = 30\n",
    "                    ,validation_data=(X_test_reshape,y_test_label),  verbose = 1)"
   ]
  },
  {
   "cell_type": "code",
   "execution_count": null,
   "metadata": {},
   "outputs": [],
   "source": [
    "import keras\n",
    "import p5_util\n",
    "core_name = \"gru_\"+str(rnn_layers)+\"layers_\"+str(cell_units)+'units_class'\n",
    "\n",
    "if False :\n",
    "    model.save(\"./data/model_\"+core_name+\".h5\")\n",
    "    p5_util.object_dump(history, \"history_\"+core_name+\".dump\")\n",
    "    p5_util.object_dump(max_length, \"max_length_\"+core_name+\".dump\")\n",
    "    \n",
    "else :\n",
    "    model = keras.models.load_model(\"./data/model_\"+core_name+\".h5\")\n",
    "    history = p5_util.object_load(\"history_\"+core_name+\".dump\")\n",
    "    max_length = p5_util.object_load(\"max_length_\"+core_name+\".dump\")\n",
    "\n",
    "print(\"\\nInput data length= {}\".format(max_length))\n",
    "model.summary()"
   ]
  },
  {
   "cell_type": "markdown",
   "metadata": {},
   "source": [
    "#### <font color=blus>Computation of classifications performances</font>"
   ]
  },
  {
   "cell_type": "code",
   "execution_count": null,
   "metadata": {},
   "outputs": [],
   "source": [
    "import p7_util\n",
    "\n",
    "list_model_acc_value = p7_util.p7_plot_cnn_history(model, None, None, history=history, legend='Multi-label classification')"
   ]
  },
  {
   "cell_type": "markdown",
   "metadata": {},
   "source": [
    "    Those curves shows impact from Adagrad compared to SGD.\n",
    "    \n",
    "    Adagrad penalize features that are frequently updated and encourage features not frequently updated to \n",
    "    learn more, mean, to be updated more frequently.\n",
    "    \n",
    "    By learning more, it is expected that sparse features to contribute more to cost function decrease.\n",
    "    \n",
    "    This is what curves inference. Decrease of loss function is not driven by free toxicity text only!\n",
    "    \n",
    "    For avoiding overfitting, it would be relevant to apply dropout over cells.\n",
    "    \n",
    "    Considering training performance model, overfitting reduction is not yet is the agenda."
   ]
  },
  {
   "cell_type": "markdown",
   "metadata": {},
   "source": [
    "    Targets vector, [Nx11] matrix, is transformed into a vector of N rows.\n",
    "    For achieving this, function \n",
    "`p9_util.get_label_from_row` \n",
    "    \n",
    "    is used for any row from matrix.\n",
    "    This allows to compute confusion matrix then plot it."
   ]
  },
  {
   "cell_type": "code",
   "execution_count": null,
   "metadata": {},
   "outputs": [],
   "source": [
    "import p9_util\n",
    "y_= p9_util.display_class_performance(model, X_test_reshape, y_test_label, is_binary=False, y_pred=y_)"
   ]
  },
  {
   "cell_type": "markdown",
   "metadata": {},
   "source": [
    "### <font color=blus>2.1.3. Overfiting study : LinearSVC</font>"
   ]
  },
  {
   "cell_type": "markdown",
   "metadata": {},
   "source": [
    "    Turn float values from target vectors into classes"
   ]
  },
  {
   "cell_type": "code",
   "execution_count": null,
   "metadata": {},
   "outputs": [],
   "source": [
    "import p9_util\n",
    "\n",
    "nb_classes, y_train_label = p9_util.y_reg_2_label(y_train)\n",
    "_, y_test_label = p9_util.y_reg_2_label(y_test)\n",
    "print(\"\\nNumber of classes issued from one hot encoding= {}\".format(nb_classes))"
   ]
  },
  {
   "cell_type": "markdown",
   "metadata": {},
   "source": [
    "    Turn target values shaped as a matrix [N,11] into vector of dimension N.\n",
    "    11 above is the number of classes."
   ]
  },
  {
   "cell_type": "code",
   "execution_count": null,
   "metadata": {},
   "outputs": [],
   "source": [
    "import p9_util\n",
    "\n",
    "#--------------------------------------------------------------\n",
    "# Use of function get_label_from_row\n",
    "#--------------------------------------------------------------\n",
    "y_train_label_row = [p9_util.get_label_from_row(y_train_label[row], indicator=1) for row in range(0,len(y_train_label))]\n",
    "y_test_label_row  = [p9_util.get_label_from_row(y_test_label[row], indicator=1) for row in range(0,len(y_test_label))]\n",
    "\n",
    "y_train_label_row = np.array(y_train_label_row)\n",
    "y_test_label_row = np.array(y_test_label_row)"
   ]
  },
  {
   "cell_type": "code",
   "execution_count": null,
   "metadata": {},
   "outputs": [],
   "source": [
    "import seaborn as sns\n",
    "import matplotlib.pyplot as plt\n",
    "\n",
    "#-----------------------------------------------------------------\n",
    "# Display prediction classes ditribution\n",
    "#-----------------------------------------------------------------\n",
    "fig = plt.figure(figsize=(5,5))\n",
    "_=sns.kdeplot(y_train_label_row, shade=True)\n",
    "_=sns.kdeplot(y_test_label_row, shade=True)\n",
    "fig.legend(labels=['Train classes distribution','Test classes distribution'])\n",
    "plt.show()"
   ]
  },
  {
   "cell_type": "markdown",
   "metadata": {},
   "source": [
    "    Train and test distributions have same shape"
   ]
  },
  {
   "cell_type": "code",
   "execution_count": null,
   "metadata": {},
   "outputs": [],
   "source": [
    "from sklearn import svm\n",
    "model = svm.LinearSVC()\n",
    "X_train.shape"
   ]
  },
  {
   "cell_type": "code",
   "execution_count": null,
   "metadata": {},
   "outputs": [],
   "source": [
    "model = model.fit(X_train, y_train_label_row)"
   ]
  },
  {
   "cell_type": "code",
   "execution_count": null,
   "metadata": {},
   "outputs": [],
   "source": [
    "import p5_util\n",
    "core_name = \"linearSVC\"\n",
    "\n",
    "if False :\n",
    "    p5_util.object_dump(model, \"./data/model_\"+core_name+\".dump\")    \n",
    "else :\n",
    "    model = p5_util.object_load(\"./data/model_\"+core_name+\".dump\")\n"
   ]
  },
  {
   "cell_type": "markdown",
   "metadata": {},
   "source": [
    "#### <font color=blus>Classifications performances</font>"
   ]
  },
  {
   "cell_type": "code",
   "execution_count": null,
   "metadata": {},
   "outputs": [],
   "source": [
    "from collections import Counter\n",
    "#print('Training target statistics: {}'.format(Counter(y_test_label_row)))\n",
    "#print('Testing target statistics: {}'.format(Counter(y_test_label_row)))\n",
    "#print('Predicted target statistics: {}'.format(Counter(y_pred_label)))\n",
    "\n",
    "counter_y_test_label_row = Counter(y_test_label_row)\n",
    "print((counter_y_test_label_row))\n",
    "#for label, count in counter_y_test_label_row.items():\n",
    "#    print(label, count)\n",
    "\n"
   ]
  },
  {
   "cell_type": "code",
   "execution_count": null,
   "metadata": {},
   "outputs": [],
   "source": [
    "from imblearn.pipeline import make_pipeline"
   ]
  },
  {
   "cell_type": "code",
   "execution_count": null,
   "metadata": {},
   "outputs": [],
   "source": [
    "len(y_test_label_row), len(y_pred_label)\n",
    "y_pred_label"
   ]
  },
  {
   "cell_type": "code",
   "execution_count": null,
   "metadata": {},
   "outputs": [],
   "source": [
    "import seaborn as sns\n",
    "import matplotlib.pyplot as plt\n",
    "\n",
    "#-----------------------------------------------------------------\n",
    "# Display prediction classes ditribution\n",
    "#-----------------------------------------------------------------\n",
    "fig = plt.figure(figsize=(5,5))\n",
    "_=sns.kdeplot(y_pred_label, shade=True)\n",
    "#_=sns.kdeplot(y_test_label_row, shade=True)\n",
    "fig.legend(labels=['Predict classes distribution','Test classes distribution'])\n",
    "plt.show()"
   ]
  },
  {
   "cell_type": "code",
   "execution_count": null,
   "metadata": {},
   "outputs": [],
   "source": []
  },
  {
   "cell_type": "code",
   "execution_count": null,
   "metadata": {},
   "outputs": [],
   "source": [
    "arr_index = np.where(y_pred_label != 0)[0]\n",
    "print(len(arr_index))\n",
    "_=plt.hist(y_pred_label[arr_index])"
   ]
  },
  {
   "cell_type": "code",
   "execution_count": null,
   "metadata": {},
   "outputs": [],
   "source": [
    "arr_index = np.where(y_test_label_row > 0)[0]\n",
    "print(len(arr_index))\n",
    "_ = plt.hist(y_test_label_row[arr_index])"
   ]
  },
  {
   "cell_type": "code",
   "execution_count": null,
   "metadata": {},
   "outputs": [],
   "source": [
    "print(len(np.where(y_pred_label == 0)[0]))\n",
    "print(len(np.where(y_pred_label == 2)[0]))\n",
    "print()\n",
    "print(len(np.where(y_pred_label == 0)[0]))\n",
    "print(len(np.where(y_pred_label == 2)[0]))\n",
    "\n",
    "y_pred_label = y_pred_label.astype(int)"
   ]
  },
  {
   "cell_type": "code",
   "execution_count": null,
   "metadata": {},
   "outputs": [],
   "source": [
    "_=sns.kdeplot(y_test_label_row, shade=True)"
   ]
  },
  {
   "cell_type": "code",
   "execution_count": null,
   "metadata": {},
   "outputs": [],
   "source": [
    "mean_acc = model.score(X_test, y_test_label_row)\n",
    "print(\"\\nLinear SVC : mean accuracy= {}\".format(np.round(mean_acc,2)))"
   ]
  },
  {
   "cell_type": "code",
   "execution_count": null,
   "metadata": {},
   "outputs": [],
   "source": [
    "from sklearn import metrics\n",
    "from sklearn.metrics import confusion_matrix\n",
    "\n",
    "import p4_util\n",
    "\n",
    "#--------------------------------------------------------------\n",
    "# Compute confusion matrix\n",
    "#--------------------------------------------------------------\n",
    "list_classes = [label for label in range(0,nb_classes)]\n",
    "print(\"\\nConfusion matrix for all classes : \")\n",
    "print()\n",
    "print(metrics.confusion_matrix(y_test_label_row, y_pred_label, labels=list_classes))\n",
    "print()\n",
    "\n",
    "cm = confusion_matrix(y_test_label_row, y_pred_label)\n",
    "p4_util.plot_confusion_matrix(cm, list_classes,\n",
    "                          normalize=True,\n",
    "                          title='Confusion matrix with SGD ',\n",
    "                          cmap=plt.cm.Blues)\n"
   ]
  },
  {
   "cell_type": "markdown",
   "metadata": {},
   "source": [
    "    Predictions capacity of LinerSVC is too poor.\n",
    "    Selection of a simpler classifier, a linear one, for improve overfiting lead to worst performances.\n",
    "    \n",
    "    There is no linear relationships between features in the dataset.\n",
    "    \n",
    "    Neural networks, because of their ability to capture non linear relationships, have a good position \n",
    "    to provide the bests perfromances."
   ]
  },
  {
   "cell_type": "markdown",
   "metadata": {},
   "source": [
    "### <font color=blus>2.1.4. Processing imbalanced classes</font>"
   ]
  },
  {
   "cell_type": "code",
   "execution_count": null,
   "metadata": {},
   "outputs": [],
   "source": [
    "import p9_util\n",
    "\n",
    "cell_units = 16\n",
    "max_length = len(X_train[0])\n",
    "print(\"\\nInput length= {}\".format(max_length))\n",
    "print(\"Number of units per RNN cell= {}\".format(cell_units))\n",
    "\n",
    "rnnCellType = 'GRU'\n",
    "model = p9_util.keras_rnn_build(rnnCellType, cell_units, max_length, isWordEmbedding=False\\\n",
    "                   , nbClasses=nb_classes)"
   ]
  },
  {
   "cell_type": "code",
   "execution_count": null,
   "metadata": {},
   "outputs": [],
   "source": [
    "nb_classes = y_train_label.shape[1]\n",
    "nb_classes"
   ]
  },
  {
   "cell_type": "markdown",
   "metadata": {},
   "source": [
    "    In order to define an under-sampling strategy, let's count the number of elements per class : "
   ]
  },
  {
   "cell_type": "code",
   "execution_count": null,
   "metadata": {},
   "outputs": [],
   "source": [
    "import p9_util\n",
    "dict_label_count = p9_util.count_multi_label(y_train_label, axis=1)\n",
    "print(dict_label_count.items())"
   ]
  },
  {
   "cell_type": "code",
   "execution_count": null,
   "metadata": {},
   "outputs": [],
   "source": [
    "from imblearn.under_sampling import RandomUnderSampler\n",
    "rus = RandomUnderSampler(random_state=0, ratio=dict_label_count)\n",
    "X_resampled, y_resampled = rus.fit_resample(X_train, y_train_label)\n",
    "print(y_resampled.shape, X_resampled.shape)"
   ]
  },
  {
   "cell_type": "code",
   "execution_count": null,
   "metadata": {},
   "outputs": [],
   "source": [
    "y_resampled_sample = y_resampled\n",
    "X_resampled_sample = X_resampled\n",
    "X_resampled_sample.shape, y_resampled_sample.shape"
   ]
  },
  {
   "cell_type": "code",
   "execution_count": null,
   "metadata": {},
   "outputs": [],
   "source": [
    "label = np.where(y_train_label[10]==1)[0][0]\n",
    "y_train_num_label = [np.where(y_train_label[col]==1)[0][0] for col  ]"
   ]
  },
  {
   "cell_type": "code",
   "execution_count": null,
   "metadata": {},
   "outputs": [],
   "source": [
    "dict_label_arrindex = {label:arrindex for (label,arrindex) in [(label, np.where(y_train_label==label)[0]) for label in range(0,nb_classes)]}\n"
   ]
  },
  {
   "cell_type": "code",
   "execution_count": null,
   "metadata": {},
   "outputs": [],
   "source": [
    "dict_label_arrindex[6]"
   ]
  },
  {
   "cell_type": "code",
   "execution_count": null,
   "metadata": {},
   "outputs": [],
   "source": [
    "row=10\n",
    "print(y_train_label[row])\n",
    "np.where(y_train_label[row]==1)[0][0]"
   ]
  },
  {
   "cell_type": "code",
   "execution_count": null,
   "metadata": {},
   "outputs": [],
   "source": [
    "len(y_train_label),y_train_label.shape"
   ]
  },
  {
   "cell_type": "code",
   "execution_count": null,
   "metadata": {},
   "outputs": [],
   "source": [
    "def get_label_from_row(y_row) :\n",
    "    label = np.where(y_row==1)[0][0]\n",
    "    return label"
   ]
  },
  {
   "cell_type": "code",
   "execution_count": null,
   "metadata": {},
   "outputs": [],
   "source": [
    "import p9_util\n",
    "row=10\n",
    "p9_util.get_label_from_row(y_train_label[row])"
   ]
  },
  {
   "cell_type": "markdown",
   "metadata": {},
   "source": [
    "    Plot 2 classes versus rest"
   ]
  },
  {
   "cell_type": "code",
   "execution_count": null,
   "metadata": {},
   "outputs": [],
   "source": [
    "list_color = ['#ef8a62' if get_label_from_row(y_train_label[row]) == 0 else '#f7f7f7' if get_label_from_row(y_train_label[row]) == 1 else '#67a9cf' for row in range(0,len(y_train_label))]"
   ]
  },
  {
   "cell_type": "code",
   "execution_count": null,
   "metadata": {},
   "outputs": [],
   "source": [
    "print(y_train_label.shape, X_train.shape)\n"
   ]
  },
  {
   "cell_type": "code",
   "execution_count": null,
   "metadata": {},
   "outputs": [],
   "source": [
    "import seaborn as sns\n",
    "\n",
    "_ = sns.kdeplot(y_train_label, shade=True)"
   ]
  },
  {
   "cell_type": "code",
   "execution_count": null,
   "metadata": {},
   "outputs": [],
   "source": [
    "batch_size = X_resampled.shape[0]//10\n",
    "print(\"Batch size= {}\".format(batch_size))"
   ]
  },
  {
   "cell_type": "code",
   "execution_count": null,
   "metadata": {},
   "outputs": [],
   "source": [
    "import numpy as np\n",
    "\n",
    "X_train_reshape = np.reshape(X_resampled, (X_resampled.shape[0], 1, X_resampled.shape[1]))\n",
    "X_test_reshape = np.reshape(X_test, (X_test.shape[0], 1, X_test.shape[1]))\n",
    "\n",
    "print(X_train_reshape.shape)\n",
    "print(X_test_reshape.shape)"
   ]
  },
  {
   "cell_type": "code",
   "execution_count": null,
   "metadata": {},
   "outputs": [],
   "source": [
    "history = model.fit(X_train_reshape, y_resampled, batch_size =batch_size, nb_epoch = 30\n",
    "                    ,validation_data=(X_test_reshape,y_test_label),  verbose = 1)"
   ]
  },
  {
   "cell_type": "code",
   "execution_count": null,
   "metadata": {},
   "outputs": [],
   "source": [
    "import p7_util\n",
    "\n",
    "list_model_acc_value = p7_util.p7_plot_cnn_history(model, None, None, history=history)"
   ]
  },
  {
   "cell_type": "markdown",
   "metadata": {},
   "source": [
    "# <font color=blus>3. Modeling with RNN with embeddings</font>"
   ]
  },
  {
   "cell_type": "markdown",
   "metadata": {},
   "source": [
    "    Embedding keras layer is used; such layer takes into accoung corpus vocabulary.\n",
    "    Weights are initialized randomly then will be trained and embeddings will be learned.\n",
    "    Embeddings are vector that represent a word and vector position relative to other \n",
    "    vectors represents its meaningfull.\n",
    "    \n",
    "    At the end of the training step, each word from train dataset will be represented as a \n",
    "    vector of embeddings."
   ]
  }
 ],
 "metadata": {
  "kernelspec": {
   "display_name": "Python 3",
   "language": "python",
   "name": "python3"
  },
  "language_info": {
   "codemirror_mode": {
    "name": "ipython",
    "version": 3
   },
   "file_extension": ".py",
   "mimetype": "text/x-python",
   "name": "python",
   "nbconvert_exporter": "python",
   "pygments_lexer": "ipython3",
   "version": "3.6.8"
  }
 },
 "nbformat": 4,
 "nbformat_minor": 2
}
