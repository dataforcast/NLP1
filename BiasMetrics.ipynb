{
 "cells": [
  {
   "cell_type": "markdown",
   "metadata": {},
   "source": [
    "# <font color=blus>Table of contents</font>"
   ]
  },
  {
   "cell_type": "code",
   "execution_count": 1,
   "metadata": {},
   "outputs": [
    {
     "data": {
      "text/html": [
       "<b>Result issued from biais metrics</b>\n",
       "<div id=\"my_id_menu_nb\">run previous cell, wait for 2 seconds</div>\n",
       "<script>\n",
       "function repeat_indent_string(n){\n",
       "    var a = \"\" ;\n",
       "    for ( ; n > 0 ; --n)\n",
       "        a += \"    \";\n",
       "    return a;\n",
       "}\n",
       "// look up into all sections and builds an automated menu //\n",
       "var update_menu_string = function(begin, lfirst, llast, sformat, send, keep_item, begin_format, end_format) {\n",
       "    var anchors = document.getElementsByClassName(\"section\");\n",
       "    if (anchors.length == 0) {\n",
       "        anchors = document.getElementsByClassName(\"text_cell_render rendered_html\");\n",
       "    }\n",
       "    var i,t;\n",
       "    var text_menu = begin;\n",
       "    var text_memo = \"<pre>\\nlength:\" + anchors.length + \"\\n\";\n",
       "    var ind = \"\";\n",
       "    var memo_level = 1;\n",
       "    var href;\n",
       "    var tags = [];\n",
       "    var main_item = 0;\n",
       "    var format_open = 0;\n",
       "    for (i = 0; i <= llast; i++)\n",
       "        tags.push(\"h\" + i);\n",
       "\n",
       "    for (i = 0; i < anchors.length; i++) {\n",
       "        text_memo += \"**\" + anchors[i].id + \"--\\n\";\n",
       "\n",
       "        var child = null;\n",
       "        for(t = 0; t < tags.length; t++) {\n",
       "            var r = anchors[i].getElementsByTagName(tags[t]);\n",
       "            if (r.length > 0) {\n",
       "child = r[0];\n",
       "break;\n",
       "            }\n",
       "        }\n",
       "        if (child == null) {\n",
       "            text_memo += \"null\\n\";\n",
       "            continue;\n",
       "        }\n",
       "        if (anchors[i].hasAttribute(\"id\")) {\n",
       "            // when converted in RST\n",
       "            href = anchors[i].id;\n",
       "            text_memo += \"#1-\" + href;\n",
       "            // passer à child suivant (le chercher)\n",
       "        }\n",
       "        else if (child.hasAttribute(\"id\")) {\n",
       "            // in a notebook\n",
       "            href = child.id;\n",
       "            text_memo += \"#2-\" + href;\n",
       "        }\n",
       "        else {\n",
       "            text_memo += \"#3-\" + \"*\" + \"\\n\";\n",
       "            continue;\n",
       "        }\n",
       "        var title = child.textContent;\n",
       "        var level = parseInt(child.tagName.substring(1,2));\n",
       "\n",
       "        text_memo += \"--\" + level + \"?\" + lfirst + \"--\" + title + \"\\n\";\n",
       "\n",
       "        if ((level < lfirst) || (level > llast)) {\n",
       "            continue ;\n",
       "        }\n",
       "        if (title.endsWith('¶')) {\n",
       "            title = title.substring(0,title.length-1).replace(\"<\", \"&lt;\")\n",
       "         .replace(\">\", \"&gt;\").replace(\"&\", \"&amp;\");\n",
       "        }\n",
       "        if (title.length == 0) {\n",
       "            continue;\n",
       "        }\n",
       "\n",
       "        while (level < memo_level) {\n",
       "            text_menu += end_format + \"</ul>\\n\";\n",
       "            format_open -= 1;\n",
       "            memo_level -= 1;\n",
       "        }\n",
       "        if (level == lfirst) {\n",
       "            main_item += 1;\n",
       "        }\n",
       "        if (keep_item != -1 && main_item != keep_item + 1) {\n",
       "            // alert(main_item + \" - \" + level + \" - \" + keep_item);\n",
       "            continue;\n",
       "        }\n",
       "        while (level > memo_level) {\n",
       "            text_menu += \"<ul>\\n\";\n",
       "            memo_level += 1;\n",
       "        }\n",
       "        text_menu += repeat_indent_string(level-2);\n",
       "        text_menu += begin_format + sformat.replace(\"__HREF__\", href).replace(\"__TITLE__\", title);\n",
       "        format_open += 1;\n",
       "    }\n",
       "    while (1 < memo_level) {\n",
       "        text_menu += end_format + \"</ul>\\n\";\n",
       "        memo_level -= 1;\n",
       "        format_open -= 1;\n",
       "    }\n",
       "    text_menu += send;\n",
       "    //text_menu += \"\\n\" + text_memo;\n",
       "\n",
       "    while (format_open > 0) {\n",
       "        text_menu += end_format;\n",
       "        format_open -= 1;\n",
       "    }\n",
       "    return text_menu;\n",
       "};\n",
       "var update_menu = function() {\n",
       "    var sbegin = \"\";\n",
       "    var sformat = '<a href=\"#__HREF__\">__TITLE__</a>';\n",
       "    var send = \"\";\n",
       "    var begin_format = '<li>';\n",
       "    var end_format = '</li>';\n",
       "    var keep_item = -1;\n",
       "    var text_menu = update_menu_string(sbegin, 1, 4, sformat, send, keep_item,\n",
       "       begin_format, end_format);\n",
       "    var menu = document.getElementById(\"my_id_menu_nb\");\n",
       "    menu.innerHTML=text_menu;\n",
       "};\n",
       "window.setTimeout(update_menu,2000);\n",
       "            </script>"
      ],
      "text/plain": [
       "<IPython.core.display.HTML object>"
      ]
     },
     "execution_count": 1,
     "metadata": {},
     "output_type": "execute_result"
    }
   ],
   "source": [
    "from jyquickhelper import add_notebook_menu\n",
    "add_notebook_menu(first_level=1, last_level=4, header=\"Result issued from biais metrics\")"
   ]
  },
  {
   "cell_type": "markdown",
   "metadata": {},
   "source": [
    "# <font color=blus> Abstract</font>\n",
    "\n",
    "    This notebook aims to expose bias preformances over CNN model built from notebook CNN_BinaryClassifier.\n",
    "    \n",
    "    1) Input data for validation is loaded. This data is issued from DataPreparator notebook.\n",
    "    \n",
    "    2) Model issued from CNN_binaryClassifier notebook is loaded and predictions are computed over validation dataset.\n",
    "    \n",
    "    3) Bias performance is computed using formula provided into kaggle Jigsaw https://www.kaggle.com/c/jigsaw-unintended-bias-in-toxicity-classification/overview/evaluation\n",
    "    "
   ]
  },
  {
   "cell_type": "markdown",
   "metadata": {},
   "source": [
    "# <font color=blus> Software engineering</font>\n",
    "<img src=\"./img/SoftwareEngineeringBiasMetrics.png\">"
   ]
  },
  {
   "cell_type": "code",
   "execution_count": 30,
   "metadata": {},
   "outputs": [],
   "source": [
    "from sklearn import metrics\n",
    "%matplotlib inline\n",
    "\n",
    "%load_ext autoreload\n",
    "%autoreload 2\n",
    "\n",
    "import warnings\n",
    "warnings.filterwarnings('ignore')"
   ]
  },
  {
   "cell_type": "code",
   "execution_count": 7,
   "metadata": {},
   "outputs": [],
   "source": [
    "import p9_util\n",
    "\n",
    "TOXICITY_COLUMN = p9_util.COLUMN_NAME_TARGET\n",
    "TEXT_COLUMN = p9_util.COLUMN_NAME_DOC\n",
    "\n",
    "# Create a text tokenizer.\n",
    "#tokenizer = Tokenizer(num_words=MAX_NUM_WORDS)\n",
    "#tokenizer.fit_on_texts(train_df[TEXT_COLUMN])\n",
    "\n",
    "# All comments must be truncated or padded to be the same length.\n",
    "MAX_SEQUENCE_LENGTH = 250\n",
    "MODEL_NAME='predict'\n",
    "\n",
    "# List all identities\n",
    "identity_columns = [\n",
    "    'male', 'female', 'homosexual_gay_or_lesbian', 'christian', 'jewish',\n",
    "    'muslim', 'black', 'white', 'psychiatric_or_mental_illness']\n"
   ]
  },
  {
   "cell_type": "markdown",
   "metadata": {},
   "source": [
    "# <font color=blus> 1. Loading dataset</font>"
   ]
  },
  {
   "cell_type": "markdown",
   "metadata": {},
   "source": [
    "Dataset is extracted from ̀`DataPreparator` object configured for validation.\n",
    "\n",
    "Such object contains \n",
    "* parameters used for processing data digitalization that leads to build `DataPreparator` object\n",
    "* list of files saved on hard-disk for data validation.\n",
    "\n",
    "See `DataPreparator.ipynb` notebook, for more details."
   ]
  },
  {
   "cell_type": "markdown",
   "metadata": {},
   "source": [
    "## <font color='blus'> 1.1 Load `DataPreparator` for validation</font>"
   ]
  },
  {
   "cell_type": "code",
   "execution_count": 4,
   "metadata": {},
   "outputs": [
    {
     "name": "stdout",
     "output_type": "stream",
     "text": [
      "p5_util.object_load : fileName= ./data/dataPreparator_valid_12000.dill\n"
     ]
    }
   ],
   "source": [
    "import p5_util\n",
    "filename = \"./data/dataPreparator_valid_12000.dill\"\n",
    "if True:\n",
    "    dataprep = p5_util.object_load(filename)\n",
    "else :\n",
    "    p5_util.object_dump(dataprep,filename)\n",
    "self = dataprep\n"
   ]
  },
  {
   "cell_type": "code",
   "execution_count": 5,
   "metadata": {},
   "outputs": [
    {
     "data": {
      "text/plain": [
       "['./data/df_dataprep_matrix_32.dill',\n",
       " './data/df_dataprep_matrix_82.dill',\n",
       " './data/df_dataprep_matrix_57.dill',\n",
       " './data/df_dataprep_matrix_122.dill',\n",
       " './data/df_dataprep_matrix_118.dill',\n",
       " './data/df_dataprep_matrix_86.dill',\n",
       " './data/df_dataprep_matrix_66.dill',\n",
       " './data/df_dataprep_matrix_52.dill',\n",
       " './data/df_dataprep_matrix_30.dill',\n",
       " './data/df_dataprep_matrix_79.dill',\n",
       " './data/df_dataprep_matrix_36.dill',\n",
       " './data/df_dataprep_matrix_109.dill']"
      ]
     },
     "execution_count": 5,
     "metadata": {},
     "output_type": "execute_result"
    }
   ],
   "source": [
    "self.list_df_data_file"
   ]
  },
  {
   "cell_type": "markdown",
   "metadata": {},
   "source": [
    "    Once a file is loaded as a dataframe then original index column is added.\n",
    "    \n",
    "    This operation allows to join columns from original dataframe with \n",
    "    the dataframe columns issued from CNN model computation.\n",
    "    "
   ]
  },
  {
   "cell_type": "code",
   "execution_count": 6,
   "metadata": {},
   "outputs": [
    {
     "name": "stdout",
     "output_type": "stream",
     "text": [
      "p5_util.object_load : fileName= ./data/df_dataprep_matrix_32.dill\n",
      "p5_util.object_load : fileName= ./data/df_dataprep_matrix_82.dill\n",
      "p5_util.object_load : fileName= ./data/df_dataprep_matrix_57.dill\n",
      "p5_util.object_load : fileName= ./data/df_dataprep_matrix_122.dill\n",
      "p5_util.object_load : fileName= ./data/df_dataprep_matrix_118.dill\n",
      "p5_util.object_load : fileName= ./data/df_dataprep_matrix_86.dill\n",
      "p5_util.object_load : fileName= ./data/df_dataprep_matrix_66.dill\n",
      "p5_util.object_load : fileName= ./data/df_dataprep_matrix_52.dill\n",
      "p5_util.object_load : fileName= ./data/df_dataprep_matrix_30.dill\n",
      "p5_util.object_load : fileName= ./data/df_dataprep_matrix_79.dill\n",
      "p5_util.object_load : fileName= ./data/df_dataprep_matrix_36.dill\n",
      "p5_util.object_load : fileName= ./data/df_dataprep_matrix_109.dill\n"
     ]
    },
    {
     "data": {
      "text/html": [
       "<div>\n",
       "<style scoped>\n",
       "    .dataframe tbody tr th:only-of-type {\n",
       "        vertical-align: middle;\n",
       "    }\n",
       "\n",
       "    .dataframe tbody tr th {\n",
       "        vertical-align: top;\n",
       "    }\n",
       "\n",
       "    .dataframe thead th {\n",
       "        text-align: right;\n",
       "    }\n",
       "</style>\n",
       "<table border=\"1\" class=\"dataframe\">\n",
       "  <thead>\n",
       "    <tr style=\"text-align: right;\">\n",
       "      <th></th>\n",
       "      <th>original_index</th>\n",
       "      <th>docs</th>\n",
       "      <th>counting</th>\n",
       "      <th>tokens</th>\n",
       "      <th>matrix_padded</th>\n",
       "      <th>target</th>\n",
       "    </tr>\n",
       "  </thead>\n",
       "  <tbody>\n",
       "    <tr>\n",
       "      <th>1018</th>\n",
       "      <td>960507</td>\n",
       "      <td>if you spend $100 on something this year and s...</td>\n",
       "      <td>15</td>\n",
       "      <td>[spend, year, spend, year, increase, spending,...</td>\n",
       "      <td>[[0.00894519966095686, -0.05881800130009651, 0...</td>\n",
       "      <td>0</td>\n",
       "    </tr>\n",
       "    <tr>\n",
       "      <th>6035</th>\n",
       "      <td>226247</td>\n",
       "      <td>you wont do anything about your stupidity! , s...</td>\n",
       "      <td>12</td>\n",
       "      <td>[will, not, stupidity, loser, wall, know, carb...</td>\n",
       "      <td>[[0.027164999395608902, 0.29879000782966614, -...</td>\n",
       "      <td>1</td>\n",
       "    </tr>\n",
       "    <tr>\n",
       "      <th>8261</th>\n",
       "      <td>106454</td>\n",
       "      <td>nasty little piece by a person who represents ...</td>\n",
       "      <td>64</td>\n",
       "      <td>[nasty, little, piece, person, represent, poli...</td>\n",
       "      <td>[[-0.8571299910545349, -0.3146800100803375, -0...</td>\n",
       "      <td>1</td>\n",
       "    </tr>\n",
       "  </tbody>\n",
       "</table>\n",
       "</div>"
      ],
      "text/plain": [
       "      original_index                                               docs  \\\n",
       "1018          960507  if you spend $100 on something this year and s...   \n",
       "6035          226247  you wont do anything about your stupidity! , s...   \n",
       "8261          106454  nasty little piece by a person who represents ...   \n",
       "\n",
       "      counting                                             tokens  \\\n",
       "1018        15  [spend, year, spend, year, increase, spending,...   \n",
       "6035        12  [will, not, stupidity, loser, wall, know, carb...   \n",
       "8261        64  [nasty, little, piece, person, represent, poli...   \n",
       "\n",
       "                                          matrix_padded  target  \n",
       "1018  [[0.00894519966095686, -0.05881800130009651, 0...       0  \n",
       "6035  [[0.027164999395608902, 0.29879000782966614, -...       1  \n",
       "8261  [[-0.8571299910545349, -0.3146800100803375, -0...       1  "
      ]
     },
     "execution_count": 6,
     "metadata": {},
     "output_type": "execute_result"
    }
   ],
   "source": [
    "import pandas as pd\n",
    "import p5_util\n",
    "\n",
    "filename = self.list_df_data_file[0]\n",
    "max_row = 20000\n",
    "start_row = 0\n",
    "self.df_data = pd.DataFrame()\n",
    "for filename in self.list_df_data_file :\n",
    "    \n",
    "    df_data = p5_util.object_load(filename)\n",
    "    end_row = start_row +len(df_data)\n",
    "    \n",
    "    if end_row > max_row :\n",
    "        break\n",
    "    else :\n",
    "        self.df_data = pd.concat([self.df_data,df_data])\n",
    "        start_row = end_row\n",
    "    \n",
    "self.df_data.reset_index(inplace=True)\n",
    "self.df_data.rename(columns={'index':'original_index'}, inplace=True)\n",
    "self.df_data.sample(3)"
   ]
  },
  {
   "cell_type": "markdown",
   "metadata": {},
   "source": [
    "    Make data to be compliant for CNN model input layer."
   ]
  },
  {
   "cell_type": "code",
   "execution_count": 7,
   "metadata": {},
   "outputs": [
    {
     "name": "stdout",
     "output_type": "stream",
     "text": [
      "(12000,)\n"
     ]
    }
   ],
   "source": [
    "import numpy as np\n",
    "\n",
    "X = self.df_data.matrix_padded\n",
    "print(X.shape)\n",
    "#-----------------------------------------------------------------------\n",
    "# Prepare input data in order to feed model prediction function : \n",
    "#    * Complete tuple of dimensions, out of 1st dimension.\n",
    "#    * Compute shape for data feeding predictor.\n",
    "#    * Initialize array with shape previously computed\n",
    "#    * Transfer data into input\n",
    "#-----------------------------------------------------------------------\n",
    "list_tuple = list()\n",
    "list_tuple.append(len(X))\n",
    "for shape in X.iloc[0].shape:\n",
    "    list_tuple.append(shape)\n",
    "\n",
    "input_shape = tuple(i for i in list_tuple)\n",
    "x_input = np.zeros(input_shape)\n",
    "\n",
    "for item in range(len(X)):\n",
    "    x_input[item]= X.values[item].copy()\n",
    "input_model = x_input.copy()"
   ]
  },
  {
   "cell_type": "markdown",
   "metadata": {},
   "source": [
    "    Save memory"
   ]
  },
  {
   "cell_type": "code",
   "execution_count": 12,
   "metadata": {},
   "outputs": [],
   "source": [
    "del(x_input)"
   ]
  },
  {
   "cell_type": "code",
   "execution_count": 13,
   "metadata": {},
   "outputs": [
    {
     "data": {
      "text/plain": [
       "(12000, 100, 300)"
      ]
     },
     "execution_count": 13,
     "metadata": {},
     "output_type": "execute_result"
    }
   ],
   "source": [
    "input_model.shape"
   ]
  },
  {
   "cell_type": "markdown",
   "metadata": {},
   "source": [
    "# <font color='blus'>2. Process to predictions</font>"
   ]
  },
  {
   "cell_type": "markdown",
   "metadata": {},
   "source": [
    "## <font color='blus'> 2.1. Loading CNN model</font>"
   ]
  },
  {
   "cell_type": "code",
   "execution_count": 8,
   "metadata": {},
   "outputs": [
    {
     "name": "stdout",
     "output_type": "stream",
     "text": [
      "_________________________________________________________________\n",
      "Layer (type)                 Output Shape              Param #   \n",
      "=================================================================\n",
      "input_2 (InputLayer)         (None, 100, 300)          0         \n",
      "_________________________________________________________________\n",
      "batch_normalization_5 (Batch (None, 100, 300)          1200      \n",
      "_________________________________________________________________\n",
      "conv1d_4 (Conv1D)            (None, 100, 256)          153856    \n",
      "_________________________________________________________________\n",
      "max_pooling1d_4 (MaxPooling1 (None, 20, 256)           0         \n",
      "_________________________________________________________________\n",
      "batch_normalization_6 (Batch (None, 20, 256)           1024      \n",
      "_________________________________________________________________\n",
      "conv1d_5 (Conv1D)            (None, 20, 256)           196864    \n",
      "_________________________________________________________________\n",
      "max_pooling1d_5 (MaxPooling1 (None, 4, 256)            0         \n",
      "_________________________________________________________________\n",
      "batch_normalization_7 (Batch (None, 4, 256)            1024      \n",
      "_________________________________________________________________\n",
      "conv1d_6 (Conv1D)            (None, 4, 256)            262400    \n",
      "_________________________________________________________________\n",
      "max_pooling1d_6 (MaxPooling1 (None, 2, 256)            0         \n",
      "_________________________________________________________________\n",
      "flatten_2 (Flatten)          (None, 512)               0         \n",
      "_________________________________________________________________\n",
      "batch_normalization_8 (Batch (None, 512)               2048      \n",
      "_________________________________________________________________\n",
      "dropout_2 (Dropout)          (None, 512)               0         \n",
      "_________________________________________________________________\n",
      "dense_3 (Dense)              (None, 128)               65664     \n",
      "_________________________________________________________________\n",
      "dense_4 (Dense)              (None, 2)                 258       \n",
      "=================================================================\n",
      "Total params: 684,338\n",
      "Trainable params: 681,690\n",
      "Non-trainable params: 2,648\n",
      "_________________________________________________________________\n"
     ]
    }
   ],
   "source": [
    "import keras\n",
    "\n",
    "filename_model = './data/benchmark/model_jigsaw_submission_sample129651_threshold0.5_best_save.h5'\n",
    "model = keras.models.load_model(filename_model)\n",
    "\n",
    "model.summary()"
   ]
  },
  {
   "cell_type": "markdown",
   "metadata": {},
   "source": [
    "    Make predictions and convert them into binary values."
   ]
  },
  {
   "cell_type": "code",
   "execution_count": 15,
   "metadata": {},
   "outputs": [],
   "source": [
    "self.df_data['predict'] = model.predict(input_model)[:,1]"
   ]
  },
  {
   "cell_type": "code",
   "execution_count": 20,
   "metadata": {},
   "outputs": [
    {
     "data": {
      "text/plain": [
       "11681    0.848653\n",
       "9189     0.514631\n",
       "7251     0.013169\n",
       "5568     0.003650\n",
       "8648     0.958515\n",
       "Name: predict, dtype: float32"
      ]
     },
     "execution_count": 20,
     "metadata": {},
     "output_type": "execute_result"
    }
   ],
   "source": [
    "arr_index = self.df_data['predict'].sample(5).index\n",
    "self.df_data['predict'].loc[arr_index]"
   ]
  },
  {
   "cell_type": "code",
   "execution_count": 21,
   "metadata": {},
   "outputs": [],
   "source": [
    "import numpy as np\n",
    "self.df_data['predict'] = np.where(self.df_data['predict'] >= 0.5, 1, 0)"
   ]
  },
  {
   "cell_type": "code",
   "execution_count": 26,
   "metadata": {},
   "outputs": [
    {
     "data": {
      "text/plain": [
       "11681    1\n",
       "9189     1\n",
       "7251     0\n",
       "5568     0\n",
       "8648     1\n",
       "Name: predict, dtype: int64"
      ]
     },
     "execution_count": 26,
     "metadata": {},
     "output_type": "execute_result"
    }
   ],
   "source": [
    "self.df_data['predict'].loc[arr_index]"
   ]
  },
  {
   "cell_type": "code",
   "execution_count": 30,
   "metadata": {},
   "outputs": [
    {
     "data": {
      "image/png": "[encoded data removed]",
      "text/plain": [
       "<Figure size 720x360 with 1 Axes>"
      ]
     },
     "metadata": {
      "needs_background": "light"
     },
     "output_type": "display_data"
    },
    {
     "data": {
      "image/png": "[encoded data removed]",
      "text/plain": [
       "<Figure size 360x360 with 1 Axes>"
      ]
     },
     "metadata": {
      "needs_background": "light"
     },
     "output_type": "display_data"
    }
   ],
   "source": [
    "import seaborn as sns\n",
    "import matplotlib.pyplot as plt\n",
    "\n",
    "fig, ax = plt.subplots(figsize=(10,5))\n",
    "_ = sns.catplot(ax=ax, x='predict', data=self.df_data, kind='count')"
   ]
  },
  {
   "cell_type": "raw",
   "metadata": {},
   "source": [
    "import p9_util\n",
    "self.df_data['predict'] = p9_util.convert_vectorFloat_2_binaryLabel(self.df_data['predict'].values, threshold=0.5, direction = 1, \\\n",
    "decimal_count = 1)"
   ]
  },
  {
   "cell_type": "markdown",
   "metadata": {},
   "source": [
    "## <font color='blus'> 2.2 Load original dataset into df_train dataframe.</font>\n",
    "\n",
    "For bias computation, informations from original dataset has to be linked with those issued from predicions."
   ]
  },
  {
   "cell_type": "code",
   "execution_count": 31,
   "metadata": {},
   "outputs": [],
   "source": [
    "import pandas as pd\n",
    "import p5_util\n",
    "df_train = pd.read_csv('./data/train.csv.zip', compression='zip', header=0, sep=',', quotechar='\"')"
   ]
  },
  {
   "cell_type": "markdown",
   "metadata": {},
   "source": [
    "### <font color='blus'>2.2.1. Build of df_identity dataframe.</font>"
   ]
  },
  {
   "cell_type": "markdown",
   "metadata": {},
   "source": [
    "    For bias evaluation, df_identity dataframe is built from original dataframe.\n",
    "    \n",
    "    Columns from df_identity dataframe are required.\n",
    "    \n",
    "    Due to this, a join process between dataframe issued from CNN computation and df_identity \n",
    "    dataframe takes place."
   ]
  },
  {
   "cell_type": "code",
   "execution_count": 32,
   "metadata": {
    "scrolled": true
   },
   "outputs": [
    {
     "data": {
      "text/plain": [
       "['male',\n",
       " 'female',\n",
       " 'homosexual_gay_or_lesbian',\n",
       " 'christian',\n",
       " 'jewish',\n",
       " 'muslim',\n",
       " 'black',\n",
       " 'white',\n",
       " 'psychiatric_or_mental_illness',\n",
       " 'target',\n",
       " 'id']"
      ]
     },
     "execution_count": 32,
     "metadata": {},
     "output_type": "execute_result"
    }
   ],
   "source": [
    "identity_columns+['target','id']"
   ]
  },
  {
   "cell_type": "code",
   "execution_count": 33,
   "metadata": {},
   "outputs": [
    {
     "name": "stdout",
     "output_type": "stream",
     "text": [
      "Index(['original_index', 'male', 'female', 'homosexual_gay_or_lesbian',\n",
      "       'christian', 'jewish', 'muslim', 'black', 'white',\n",
      "       'psychiatric_or_mental_illness', 'target', 'id'],\n",
      "      dtype='object')\n"
     ]
    }
   ],
   "source": [
    "#----------------------------------------------------------------------------\n",
    "# Filter rows from original dataset with original indexes stored into \n",
    "# self.df_data\n",
    "#----------------------------------------------------------------------------\n",
    "filtered_index = self.df_data[p9_util.COLUMN_NAME_INDEX]\n",
    "\n",
    "#----------------------------------------------------------------------------\n",
    "# Apply filtered_index indexes over columns of df_indetity dataframe.\n",
    "#----------------------------------------------------------------------------\n",
    "df_identity = df_train.loc[filtered_index.values][identity_columns+['target','id']]\n",
    "\n",
    "#----------------------------------------------------------------------------\n",
    "# Reset indexes of df_identity dataframe;  new index column is renamed \n",
    "# original_index.\n",
    "#----------------------------------------------------------------------------\n",
    "df_identity.reset_index(inplace=True)\n",
    "\n",
    "\n",
    "df_identity.rename(columns={'index':'original_index'}, inplace=True)\n",
    "print(df_identity.columns)"
   ]
  },
  {
   "cell_type": "markdown",
   "metadata": {},
   "source": [
    "    Save memory"
   ]
  },
  {
   "cell_type": "code",
   "execution_count": 34,
   "metadata": {},
   "outputs": [],
   "source": [
    "del(df_train)"
   ]
  },
  {
   "cell_type": "code",
   "execution_count": 38,
   "metadata": {},
   "outputs": [
    {
     "data": {
      "image/png": "[encoded data removed]",
      "text/plain": [
       "<Figure size 720x360 with 1 Axes>"
      ]
     },
     "metadata": {
      "needs_background": "light"
     },
     "output_type": "display_data"
    },
    {
     "data": {
      "image/png": "[encoded data removed]",
      "text/plain": [
       "<Figure size 360x360 with 1 Axes>"
      ]
     },
     "metadata": {
      "needs_background": "light"
     },
     "output_type": "display_data"
    }
   ],
   "source": [
    "import seaborn as sns\n",
    "import matplotlib.pyplot as plt\n",
    "\n",
    "fig, ax = plt.subplots(figsize=(10,5))\n",
    "_ = sns.catplot(ax=ax, x='target', data=df_identity, kind='count')"
   ]
  },
  {
   "cell_type": "markdown",
   "metadata": {},
   "source": [
    "    Get 3 randoms rows from df_identity dataframe and let's check corresponding columns values\n",
    "    do match with original dataset (df_train is the original dataset).\n",
    "    \n",
    "    Visual check is applied on columns id values for each dataframe."
   ]
  },
  {
   "cell_type": "code",
   "execution_count": 39,
   "metadata": {},
   "outputs": [
    {
     "data": {
      "text/html": [
       "<div>\n",
       "<style scoped>\n",
       "    .dataframe tbody tr th:only-of-type {\n",
       "        vertical-align: middle;\n",
       "    }\n",
       "\n",
       "    .dataframe tbody tr th {\n",
       "        vertical-align: top;\n",
       "    }\n",
       "\n",
       "    .dataframe thead th {\n",
       "        text-align: right;\n",
       "    }\n",
       "</style>\n",
       "<table border=\"1\" class=\"dataframe\">\n",
       "  <thead>\n",
       "    <tr style=\"text-align: right;\">\n",
       "      <th></th>\n",
       "      <th>original_index</th>\n",
       "      <th>male</th>\n",
       "      <th>female</th>\n",
       "      <th>homosexual_gay_or_lesbian</th>\n",
       "      <th>christian</th>\n",
       "      <th>jewish</th>\n",
       "      <th>muslim</th>\n",
       "      <th>black</th>\n",
       "      <th>white</th>\n",
       "      <th>psychiatric_or_mental_illness</th>\n",
       "      <th>target</th>\n",
       "      <th>id</th>\n",
       "    </tr>\n",
       "  </thead>\n",
       "  <tbody>\n",
       "    <tr>\n",
       "      <th>7160</th>\n",
       "      <td>273735</td>\n",
       "      <td>NaN</td>\n",
       "      <td>NaN</td>\n",
       "      <td>NaN</td>\n",
       "      <td>NaN</td>\n",
       "      <td>NaN</td>\n",
       "      <td>NaN</td>\n",
       "      <td>NaN</td>\n",
       "      <td>NaN</td>\n",
       "      <td>NaN</td>\n",
       "      <td>0</td>\n",
       "      <td>577593</td>\n",
       "    </tr>\n",
       "    <tr>\n",
       "      <th>8428</th>\n",
       "      <td>717869</td>\n",
       "      <td>NaN</td>\n",
       "      <td>NaN</td>\n",
       "      <td>NaN</td>\n",
       "      <td>NaN</td>\n",
       "      <td>NaN</td>\n",
       "      <td>NaN</td>\n",
       "      <td>NaN</td>\n",
       "      <td>NaN</td>\n",
       "      <td>NaN</td>\n",
       "      <td>0</td>\n",
       "      <td>5000681</td>\n",
       "    </tr>\n",
       "    <tr>\n",
       "      <th>10827</th>\n",
       "      <td>1728118</td>\n",
       "      <td>NaN</td>\n",
       "      <td>NaN</td>\n",
       "      <td>NaN</td>\n",
       "      <td>NaN</td>\n",
       "      <td>NaN</td>\n",
       "      <td>NaN</td>\n",
       "      <td>NaN</td>\n",
       "      <td>NaN</td>\n",
       "      <td>NaN</td>\n",
       "      <td>0</td>\n",
       "      <td>6241141</td>\n",
       "    </tr>\n",
       "  </tbody>\n",
       "</table>\n",
       "</div>"
      ],
      "text/plain": [
       "       original_index  male  female  homosexual_gay_or_lesbian  christian  \\\n",
       "7160           273735   NaN     NaN                        NaN        NaN   \n",
       "8428           717869   NaN     NaN                        NaN        NaN   \n",
       "10827         1728118   NaN     NaN                        NaN        NaN   \n",
       "\n",
       "       jewish  muslim  black  white  psychiatric_or_mental_illness  target  \\\n",
       "7160      NaN     NaN    NaN    NaN                            NaN       0   \n",
       "8428      NaN     NaN    NaN    NaN                            NaN       0   \n",
       "10827     NaN     NaN    NaN    NaN                            NaN       0   \n",
       "\n",
       "            id  \n",
       "7160    577593  \n",
       "8428   5000681  \n",
       "10827  6241141  "
      ]
     },
     "execution_count": 39,
     "metadata": {},
     "output_type": "execute_result"
    }
   ],
   "source": [
    "arr_index = df_identity.original_index.sample(3).values\n",
    "df_identity[df_identity['original_index'].isin(arr_index)]"
   ]
  },
  {
   "cell_type": "markdown",
   "metadata": {},
   "source": [
    "    target column from df_identity dataframe is converted as a binary vector with same threshold \n",
    "    fixed for CNN model.  \n",
    "    \n",
    "    This way, model performance will be measure aagiant df_identity true values."
   ]
  },
  {
   "cell_type": "code",
   "execution_count": 37,
   "metadata": {},
   "outputs": [],
   "source": [
    "import numpy as np\n",
    "df_identity['target'] = np.where(df_identity['target'] >= 0.5, 1, 0)"
   ]
  },
  {
   "cell_type": "raw",
   "metadata": {},
   "source": [
    "import p9_util\n",
    "df_identity['target'] = p9_util.convert_vectorFloat_2_binaryLabel(df_identity['target'].values, threshold=0.5, direction = 1, \\\n",
    "decimal_count = 1)"
   ]
  },
  {
   "cell_type": "markdown",
   "metadata": {},
   "source": [
    "    Visual check over target column name."
   ]
  },
  {
   "cell_type": "code",
   "execution_count": 40,
   "metadata": {},
   "outputs": [
    {
     "data": {
      "text/html": [
       "<div>\n",
       "<style scoped>\n",
       "    .dataframe tbody tr th:only-of-type {\n",
       "        vertical-align: middle;\n",
       "    }\n",
       "\n",
       "    .dataframe tbody tr th {\n",
       "        vertical-align: top;\n",
       "    }\n",
       "\n",
       "    .dataframe thead th {\n",
       "        text-align: right;\n",
       "    }\n",
       "</style>\n",
       "<table border=\"1\" class=\"dataframe\">\n",
       "  <thead>\n",
       "    <tr style=\"text-align: right;\">\n",
       "      <th></th>\n",
       "      <th>original_index</th>\n",
       "      <th>male</th>\n",
       "      <th>female</th>\n",
       "      <th>homosexual_gay_or_lesbian</th>\n",
       "      <th>christian</th>\n",
       "      <th>jewish</th>\n",
       "      <th>muslim</th>\n",
       "      <th>black</th>\n",
       "      <th>white</th>\n",
       "      <th>psychiatric_or_mental_illness</th>\n",
       "      <th>target</th>\n",
       "      <th>id</th>\n",
       "    </tr>\n",
       "  </thead>\n",
       "  <tbody>\n",
       "    <tr>\n",
       "      <th>7160</th>\n",
       "      <td>273735</td>\n",
       "      <td>NaN</td>\n",
       "      <td>NaN</td>\n",
       "      <td>NaN</td>\n",
       "      <td>NaN</td>\n",
       "      <td>NaN</td>\n",
       "      <td>NaN</td>\n",
       "      <td>NaN</td>\n",
       "      <td>NaN</td>\n",
       "      <td>NaN</td>\n",
       "      <td>0</td>\n",
       "      <td>577593</td>\n",
       "    </tr>\n",
       "    <tr>\n",
       "      <th>8428</th>\n",
       "      <td>717869</td>\n",
       "      <td>NaN</td>\n",
       "      <td>NaN</td>\n",
       "      <td>NaN</td>\n",
       "      <td>NaN</td>\n",
       "      <td>NaN</td>\n",
       "      <td>NaN</td>\n",
       "      <td>NaN</td>\n",
       "      <td>NaN</td>\n",
       "      <td>NaN</td>\n",
       "      <td>0</td>\n",
       "      <td>5000681</td>\n",
       "    </tr>\n",
       "    <tr>\n",
       "      <th>10827</th>\n",
       "      <td>1728118</td>\n",
       "      <td>NaN</td>\n",
       "      <td>NaN</td>\n",
       "      <td>NaN</td>\n",
       "      <td>NaN</td>\n",
       "      <td>NaN</td>\n",
       "      <td>NaN</td>\n",
       "      <td>NaN</td>\n",
       "      <td>NaN</td>\n",
       "      <td>NaN</td>\n",
       "      <td>0</td>\n",
       "      <td>6241141</td>\n",
       "    </tr>\n",
       "  </tbody>\n",
       "</table>\n",
       "</div>"
      ],
      "text/plain": [
       "       original_index  male  female  homosexual_gay_or_lesbian  christian  \\\n",
       "7160           273735   NaN     NaN                        NaN        NaN   \n",
       "8428           717869   NaN     NaN                        NaN        NaN   \n",
       "10827         1728118   NaN     NaN                        NaN        NaN   \n",
       "\n",
       "       jewish  muslim  black  white  psychiatric_or_mental_illness  target  \\\n",
       "7160      NaN     NaN    NaN    NaN                            NaN       0   \n",
       "8428      NaN     NaN    NaN    NaN                            NaN       0   \n",
       "10827     NaN     NaN    NaN    NaN                            NaN       0   \n",
       "\n",
       "            id  \n",
       "7160    577593  \n",
       "8428   5000681  \n",
       "10827  6241141  "
      ]
     },
     "execution_count": 40,
     "metadata": {},
     "output_type": "execute_result"
    }
   ],
   "source": [
    "df_identity[df_identity['original_index'].isin(arr_index)]"
   ]
  },
  {
   "cell_type": "markdown",
   "metadata": {},
   "source": [
    "    Note below that true label values in target column are compared with predicted values in predict column."
   ]
  },
  {
   "cell_type": "code",
   "execution_count": 41,
   "metadata": {},
   "outputs": [
    {
     "data": {
      "text/html": [
       "<div>\n",
       "<style scoped>\n",
       "    .dataframe tbody tr th:only-of-type {\n",
       "        vertical-align: middle;\n",
       "    }\n",
       "\n",
       "    .dataframe tbody tr th {\n",
       "        vertical-align: top;\n",
       "    }\n",
       "\n",
       "    .dataframe thead th {\n",
       "        text-align: right;\n",
       "    }\n",
       "</style>\n",
       "<table border=\"1\" class=\"dataframe\">\n",
       "  <thead>\n",
       "    <tr style=\"text-align: right;\">\n",
       "      <th></th>\n",
       "      <th>original_index</th>\n",
       "      <th>docs</th>\n",
       "      <th>counting</th>\n",
       "      <th>tokens</th>\n",
       "      <th>matrix_padded</th>\n",
       "      <th>target</th>\n",
       "      <th>predict</th>\n",
       "    </tr>\n",
       "  </thead>\n",
       "  <tbody>\n",
       "    <tr>\n",
       "      <th>7160</th>\n",
       "      <td>273735</td>\n",
       "      <td>wrong article dude.</td>\n",
       "      <td>3</td>\n",
       "      <td>[wrong, article, dude]</td>\n",
       "      <td>[[-0.20095999538898468, 0.37617000937461853, -...</td>\n",
       "      <td>0</td>\n",
       "      <td>1</td>\n",
       "    </tr>\n",
       "    <tr>\n",
       "      <th>8428</th>\n",
       "      <td>717869</td>\n",
       "      <td>i guess it is time to visit saudi arabia.</td>\n",
       "      <td>5</td>\n",
       "      <td>[guess, time, visit, saudi, arabia]</td>\n",
       "      <td>[[-0.22257000207901, 0.35071998834609985, -0.4...</td>\n",
       "      <td>0</td>\n",
       "      <td>0</td>\n",
       "    </tr>\n",
       "    <tr>\n",
       "      <th>10827</th>\n",
       "      <td>1728118</td>\n",
       "      <td>if this is 'front page' news in canada's natio...</td>\n",
       "      <td>59</td>\n",
       "      <td>[page, news, national, paper, state, sanction,...</td>\n",
       "      <td>[[-0.1781499981880188, 0.2525700032711029, 0.1...</td>\n",
       "      <td>0</td>\n",
       "      <td>0</td>\n",
       "    </tr>\n",
       "  </tbody>\n",
       "</table>\n",
       "</div>"
      ],
      "text/plain": [
       "       original_index                                               docs  \\\n",
       "7160           273735                                wrong article dude.   \n",
       "8428           717869          i guess it is time to visit saudi arabia.   \n",
       "10827         1728118  if this is 'front page' news in canada's natio...   \n",
       "\n",
       "       counting                                             tokens  \\\n",
       "7160          3                             [wrong, article, dude]   \n",
       "8428          5                [guess, time, visit, saudi, arabia]   \n",
       "10827        59  [page, news, national, paper, state, sanction,...   \n",
       "\n",
       "                                           matrix_padded  target  predict  \n",
       "7160   [[-0.20095999538898468, 0.37617000937461853, -...       0        1  \n",
       "8428   [[-0.22257000207901, 0.35071998834609985, -0.4...       0        0  \n",
       "10827  [[-0.1781499981880188, 0.2525700032711029, 0.1...       0        0  "
      ]
     },
     "execution_count": 41,
     "metadata": {},
     "output_type": "execute_result"
    }
   ],
   "source": [
    "self.df_data[self.df_data['original_index'].isin(arr_index)]"
   ]
  },
  {
   "cell_type": "markdown",
   "metadata": {},
   "source": [
    "    Join dataframe issued from data processing with identities dataframe.\n",
    "    This join operation is based on original_index"
   ]
  },
  {
   "cell_type": "code",
   "execution_count": 42,
   "metadata": {},
   "outputs": [
    {
     "data": {
      "text/plain": [
       "Index(['original_index', 'male', 'female', 'homosexual_gay_or_lesbian',\n",
       "       'christian', 'jewish', 'muslim', 'black', 'white',\n",
       "       'psychiatric_or_mental_illness', 'targettrue_', 'id', 'docs',\n",
       "       'counting', 'tokens', 'matrix_padded', 'target', 'predict'],\n",
       "      dtype='object')"
      ]
     },
     "execution_count": 42,
     "metadata": {},
     "output_type": "execute_result"
    }
   ],
   "source": [
    "df_identity = df_identity.join(self.df_data.set_index('original_index'), on='original_index', lsuffix='true_')\n",
    "\n",
    "df_identity.columns"
   ]
  },
  {
   "cell_type": "markdown",
   "metadata": {},
   "source": [
    "    df_identity dataframe is now assigned with predict column, as shown on display below."
   ]
  },
  {
   "cell_type": "code",
   "execution_count": 43,
   "metadata": {},
   "outputs": [
    {
     "data": {
      "text/html": [
       "<div>\n",
       "<style scoped>\n",
       "    .dataframe tbody tr th:only-of-type {\n",
       "        vertical-align: middle;\n",
       "    }\n",
       "\n",
       "    .dataframe tbody tr th {\n",
       "        vertical-align: top;\n",
       "    }\n",
       "\n",
       "    .dataframe thead th {\n",
       "        text-align: right;\n",
       "    }\n",
       "</style>\n",
       "<table border=\"1\" class=\"dataframe\">\n",
       "  <thead>\n",
       "    <tr style=\"text-align: right;\">\n",
       "      <th></th>\n",
       "      <th>original_index</th>\n",
       "      <th>male</th>\n",
       "      <th>female</th>\n",
       "      <th>homosexual_gay_or_lesbian</th>\n",
       "      <th>christian</th>\n",
       "      <th>jewish</th>\n",
       "      <th>muslim</th>\n",
       "      <th>black</th>\n",
       "      <th>white</th>\n",
       "      <th>psychiatric_or_mental_illness</th>\n",
       "      <th>targettrue_</th>\n",
       "      <th>id</th>\n",
       "      <th>docs</th>\n",
       "      <th>counting</th>\n",
       "      <th>tokens</th>\n",
       "      <th>matrix_padded</th>\n",
       "      <th>target</th>\n",
       "      <th>predict</th>\n",
       "    </tr>\n",
       "  </thead>\n",
       "  <tbody>\n",
       "    <tr>\n",
       "      <th>7160</th>\n",
       "      <td>273735</td>\n",
       "      <td>NaN</td>\n",
       "      <td>NaN</td>\n",
       "      <td>NaN</td>\n",
       "      <td>NaN</td>\n",
       "      <td>NaN</td>\n",
       "      <td>NaN</td>\n",
       "      <td>NaN</td>\n",
       "      <td>NaN</td>\n",
       "      <td>NaN</td>\n",
       "      <td>0</td>\n",
       "      <td>577593</td>\n",
       "      <td>wrong article dude.</td>\n",
       "      <td>3</td>\n",
       "      <td>[wrong, article, dude]</td>\n",
       "      <td>[[-0.20095999538898468, 0.37617000937461853, -...</td>\n",
       "      <td>0</td>\n",
       "      <td>1</td>\n",
       "    </tr>\n",
       "    <tr>\n",
       "      <th>8428</th>\n",
       "      <td>717869</td>\n",
       "      <td>NaN</td>\n",
       "      <td>NaN</td>\n",
       "      <td>NaN</td>\n",
       "      <td>NaN</td>\n",
       "      <td>NaN</td>\n",
       "      <td>NaN</td>\n",
       "      <td>NaN</td>\n",
       "      <td>NaN</td>\n",
       "      <td>NaN</td>\n",
       "      <td>0</td>\n",
       "      <td>5000681</td>\n",
       "      <td>i guess it is time to visit saudi arabia.</td>\n",
       "      <td>5</td>\n",
       "      <td>[guess, time, visit, saudi, arabia]</td>\n",
       "      <td>[[-0.22257000207901, 0.35071998834609985, -0.4...</td>\n",
       "      <td>0</td>\n",
       "      <td>0</td>\n",
       "    </tr>\n",
       "    <tr>\n",
       "      <th>10827</th>\n",
       "      <td>1728118</td>\n",
       "      <td>NaN</td>\n",
       "      <td>NaN</td>\n",
       "      <td>NaN</td>\n",
       "      <td>NaN</td>\n",
       "      <td>NaN</td>\n",
       "      <td>NaN</td>\n",
       "      <td>NaN</td>\n",
       "      <td>NaN</td>\n",
       "      <td>NaN</td>\n",
       "      <td>0</td>\n",
       "      <td>6241141</td>\n",
       "      <td>if this is 'front page' news in canada's natio...</td>\n",
       "      <td>59</td>\n",
       "      <td>[page, news, national, paper, state, sanction,...</td>\n",
       "      <td>[[-0.1781499981880188, 0.2525700032711029, 0.1...</td>\n",
       "      <td>0</td>\n",
       "      <td>0</td>\n",
       "    </tr>\n",
       "  </tbody>\n",
       "</table>\n",
       "</div>"
      ],
      "text/plain": [
       "       original_index  male  female  homosexual_gay_or_lesbian  christian  \\\n",
       "7160           273735   NaN     NaN                        NaN        NaN   \n",
       "8428           717869   NaN     NaN                        NaN        NaN   \n",
       "10827         1728118   NaN     NaN                        NaN        NaN   \n",
       "\n",
       "       jewish  muslim  black  white  psychiatric_or_mental_illness  \\\n",
       "7160      NaN     NaN    NaN    NaN                            NaN   \n",
       "8428      NaN     NaN    NaN    NaN                            NaN   \n",
       "10827     NaN     NaN    NaN    NaN                            NaN   \n",
       "\n",
       "       targettrue_       id  \\\n",
       "7160             0   577593   \n",
       "8428             0  5000681   \n",
       "10827            0  6241141   \n",
       "\n",
       "                                                    docs  counting  \\\n",
       "7160                                 wrong article dude.         3   \n",
       "8428           i guess it is time to visit saudi arabia.         5   \n",
       "10827  if this is 'front page' news in canada's natio...        59   \n",
       "\n",
       "                                                  tokens  \\\n",
       "7160                              [wrong, article, dude]   \n",
       "8428                 [guess, time, visit, saudi, arabia]   \n",
       "10827  [page, news, national, paper, state, sanction,...   \n",
       "\n",
       "                                           matrix_padded  target  predict  \n",
       "7160   [[-0.20095999538898468, 0.37617000937461853, -...       0        1  \n",
       "8428   [[-0.22257000207901, 0.35071998834609985, -0.4...       0        0  \n",
       "10827  [[-0.1781499981880188, 0.2525700032711029, 0.1...       0        0  "
      ]
     },
     "execution_count": 43,
     "metadata": {},
     "output_type": "execute_result"
    }
   ],
   "source": [
    "df_identity[df_identity['original_index'].isin(arr_index)]"
   ]
  },
  {
   "cell_type": "markdown",
   "metadata": {},
   "source": [
    "# <font color='blus'> 3.0 Bias metrics computation</font>"
   ]
  },
  {
   "cell_type": "code",
   "execution_count": 45,
   "metadata": {},
   "outputs": [
    {
     "data": {
      "text/plain": [
       "5407     0.0\n",
       "7187     0.0\n",
       "10802    0.9\n",
       "Name: male, dtype: float64"
      ]
     },
     "execution_count": 45,
     "metadata": {},
     "output_type": "execute_result"
    }
   ],
   "source": [
    "identity = 'male'\n",
    "df_identity[identity].dropna().sample(3)"
   ]
  },
  {
   "cell_type": "code",
   "execution_count": 47,
   "metadata": {},
   "outputs": [
    {
     "name": "stdout",
     "output_type": "stream",
     "text": [
      "0.5\n"
     ]
    }
   ],
   "source": [
    "import numpy as np\n",
    "import p9_util_benchmark\n",
    "threshold = p9_util_benchmark.dict_param_benchmark['threshold']\n",
    "print(threshold)"
   ]
  },
  {
   "cell_type": "code",
   "execution_count": 50,
   "metadata": {},
   "outputs": [],
   "source": [
    "for identity in identity_columns :\n",
    "    df_identity[identity] = np.where(df_identity[identity] >= threshold, True, False)"
   ]
  },
  {
   "cell_type": "code",
   "execution_count": 51,
   "metadata": {},
   "outputs": [
    {
     "data": {
      "text/html": [
       "<div>\n",
       "<style scoped>\n",
       "    .dataframe tbody tr th:only-of-type {\n",
       "        vertical-align: middle;\n",
       "    }\n",
       "\n",
       "    .dataframe tbody tr th {\n",
       "        vertical-align: top;\n",
       "    }\n",
       "\n",
       "    .dataframe thead th {\n",
       "        text-align: right;\n",
       "    }\n",
       "</style>\n",
       "<table border=\"1\" class=\"dataframe\">\n",
       "  <thead>\n",
       "    <tr style=\"text-align: right;\">\n",
       "      <th></th>\n",
       "      <th>bnsp_auc</th>\n",
       "      <th>bpsn_auc</th>\n",
       "      <th>subgroup</th>\n",
       "      <th>subgroup_auc</th>\n",
       "      <th>subgroup_size</th>\n",
       "    </tr>\n",
       "  </thead>\n",
       "  <tbody>\n",
       "    <tr>\n",
       "      <th>2</th>\n",
       "      <td>0.838230</td>\n",
       "      <td>0.677445</td>\n",
       "      <td>homosexual_gay_or_lesbian</td>\n",
       "      <td>0.653935</td>\n",
       "      <td>156</td>\n",
       "    </tr>\n",
       "    <tr>\n",
       "      <th>6</th>\n",
       "      <td>0.881206</td>\n",
       "      <td>0.634381</td>\n",
       "      <td>black</td>\n",
       "      <td>0.654802</td>\n",
       "      <td>207</td>\n",
       "    </tr>\n",
       "    <tr>\n",
       "      <th>7</th>\n",
       "      <td>0.890476</td>\n",
       "      <td>0.644137</td>\n",
       "      <td>white</td>\n",
       "      <td>0.673026</td>\n",
       "      <td>356</td>\n",
       "    </tr>\n",
       "    <tr>\n",
       "      <th>5</th>\n",
       "      <td>0.874815</td>\n",
       "      <td>0.703863</td>\n",
       "      <td>muslim</td>\n",
       "      <td>0.717084</td>\n",
       "      <td>228</td>\n",
       "    </tr>\n",
       "    <tr>\n",
       "      <th>0</th>\n",
       "      <td>0.860847</td>\n",
       "      <td>0.798105</td>\n",
       "      <td>male</td>\n",
       "      <td>0.796978</td>\n",
       "      <td>384</td>\n",
       "    </tr>\n",
       "    <tr>\n",
       "      <th>3</th>\n",
       "      <td>0.826641</td>\n",
       "      <td>0.837131</td>\n",
       "      <td>christian</td>\n",
       "      <td>0.801983</td>\n",
       "      <td>298</td>\n",
       "    </tr>\n",
       "    <tr>\n",
       "      <th>8</th>\n",
       "      <td>0.912722</td>\n",
       "      <td>0.756079</td>\n",
       "      <td>psychiatric_or_mental_illness</td>\n",
       "      <td>0.808608</td>\n",
       "      <td>53</td>\n",
       "    </tr>\n",
       "    <tr>\n",
       "      <th>1</th>\n",
       "      <td>0.850252</td>\n",
       "      <td>0.821484</td>\n",
       "      <td>female</td>\n",
       "      <td>0.809793</td>\n",
       "      <td>427</td>\n",
       "    </tr>\n",
       "    <tr>\n",
       "      <th>4</th>\n",
       "      <td>0.846957</td>\n",
       "      <td>0.835122</td>\n",
       "      <td>jewish</td>\n",
       "      <td>0.821569</td>\n",
       "      <td>71</td>\n",
       "    </tr>\n",
       "  </tbody>\n",
       "</table>\n",
       "</div>"
      ],
      "text/plain": [
       "   bnsp_auc  bpsn_auc                       subgroup  subgroup_auc  \\\n",
       "2  0.838230  0.677445      homosexual_gay_or_lesbian      0.653935   \n",
       "6  0.881206  0.634381                          black      0.654802   \n",
       "7  0.890476  0.644137                          white      0.673026   \n",
       "5  0.874815  0.703863                         muslim      0.717084   \n",
       "0  0.860847  0.798105                           male      0.796978   \n",
       "3  0.826641  0.837131                      christian      0.801983   \n",
       "8  0.912722  0.756079  psychiatric_or_mental_illness      0.808608   \n",
       "1  0.850252  0.821484                         female      0.809793   \n",
       "4  0.846957  0.835122                         jewish      0.821569   \n",
       "\n",
       "   subgroup_size  \n",
       "2            156  \n",
       "6            207  \n",
       "7            356  \n",
       "5            228  \n",
       "0            384  \n",
       "3            298  \n",
       "8             53  \n",
       "1            427  \n",
       "4             71  "
      ]
     },
     "execution_count": 51,
     "metadata": {},
     "output_type": "execute_result"
    }
   ],
   "source": [
    "import p9_util_metrics\n",
    "\n",
    "bias_metrics_df = p9_util_metrics.compute_bias_metrics_for_model(df_identity, identity_columns, MODEL_NAME, TOXICITY_COLUMN)\n",
    "bias_metrics_df"
   ]
  },
  {
   "cell_type": "code",
   "execution_count": 52,
   "metadata": {},
   "outputs": [
    {
     "name": "stdout",
     "output_type": "stream",
     "text": [
      "Global AUC = 0.8603102910713905\n"
     ]
    }
   ],
   "source": [
    "overall_auc = p9_util_metrics.calculate_overall_auc(df_identity, MODEL_NAME, p9_util_metrics.TOXICITY_COLUMN)\n",
    "print(\"Global AUC = {}\".format(overall_auc))"
   ]
  },
  {
   "cell_type": "code",
   "execution_count": 53,
   "metadata": {},
   "outputs": [
    {
     "name": "stdout",
     "output_type": "stream",
     "text": [
      "Bias score contribution : 0.5780288471789291\n"
     ]
    },
    {
     "data": {
      "text/plain": [
       "0.7931064199467768"
      ]
     },
     "execution_count": 53,
     "metadata": {},
     "output_type": "execute_result"
    }
   ],
   "source": [
    "p9_util_metrics.get_final_metric(bias_metrics_df, overall_auc)"
   ]
  },
  {
   "cell_type": "markdown",
   "metadata": {},
   "source": [
    "# <font color='blus'> 4.0 Binary classification performances</font>\n",
    "\n",
    "**If memory resources are too weak due to previous steps, the restart kernel and execute cell below.**"
   ]
  },
  {
   "cell_type": "markdown",
   "metadata": {},
   "source": [
    "    Load data generator objects for train and validation."
   ]
  },
  {
   "cell_type": "code",
   "execution_count": 2,
   "metadata": {},
   "outputs": [
    {
     "name": "stdout",
     "output_type": "stream",
     "text": [
      "p5_util.object_load : fileName= ./data/train_generator.dill\n"
     ]
    },
    {
     "name": "stderr",
     "output_type": "stream",
     "text": [
      "Using TensorFlow backend.\n",
      "/home/bangui/.local/lib/python3.6/site-packages/matplotlib/__init__.py:886: MatplotlibDeprecationWarning: \n",
      "examples.directory is deprecated; in the future, examples will be found relative to the 'datapath' directory.\n",
      "  \"found relative to the 'datapath' directory.\".format(key))\n",
      "WARNING: Logging before flag parsing goes to stderr.\n",
      "W1104 18:21:11.466108 139675099850560 lazy_loader.py:50] \n",
      "The TensorFlow contrib module will not be included in TensorFlow 2.0.\n",
      "For more information, please see:\n",
      "  * https://github.com/tensorflow/community/blob/master/rfcs/20180907-contrib-sunset.md\n",
      "  * https://github.com/tensorflow/addons\n",
      "  * https://github.com/tensorflow/io (for I/O related ops)\n",
      "If you depend on functionality not listed there, please file an issue.\n",
      "\n",
      "W1104 18:21:11.466760 139675099850560 deprecation_wrapper.py:119] From /home/bangui/anaconda3/envs/python36/lib/python3.6/site-packages/adanet/tf_compat/__init__.py:96: The name tf.losses.Reduction is deprecated. Please use tf.compat.v1.losses.Reduction instead.\n",
      "\n",
      "W1104 18:21:11.488046 139675099850560 deprecation_wrapper.py:119] From /home/bangui/Dropbox/Perso/Formation/openclassrooms/OC_Datascientist/NLP1/p8_util_config.py:137: The name tf.train.AdamOptimizer is deprecated. Please use tf.compat.v1.train.AdamOptimizer instead.\n",
      "\n"
     ]
    },
    {
     "name": "stdout",
     "output_type": "stream",
     "text": [
      "p5_util.object_load : fileName= ./data/valid_generator.dill\n"
     ]
    }
   ],
   "source": [
    "import p5_util\n",
    "\n",
    "filename_train = './data/train_generator.dill'\n",
    "filename_valid = './data/valid_generator.dill'\n",
    "\n",
    "train_generator = p5_util.object_load(filename_train)\n",
    "valid_generator = p5_util.object_load(filename_valid)\n"
   ]
  },
  {
   "cell_type": "markdown",
   "metadata": {},
   "source": [
    "    Extract digitalized data from datagenerator sources to feed model as input.\n",
    "    \n",
    "    This step may take few minutes..."
   ]
  },
  {
   "cell_type": "code",
   "execution_count": 3,
   "metadata": {},
   "outputs": [],
   "source": [
    "import numpy as np\n",
    "\n",
    "X_valid = valid_generator.X\n",
    "y_valid = valid_generator.y"
   ]
  },
  {
   "cell_type": "markdown",
   "metadata": {},
   "source": [
    "Load trained CNN model issued from `CNN_BinaryClassifier` notebook."
   ]
  },
  {
   "cell_type": "code",
   "execution_count": 4,
   "metadata": {},
   "outputs": [
    {
     "name": "stderr",
     "output_type": "stream",
     "text": [
      "W1104 18:22:17.019239 139675099850560 deprecation_wrapper.py:119] From /home/bangui/anaconda3/envs/python36/lib/python3.6/site-packages/keras/backend/tensorflow_backend.py:517: The name tf.placeholder is deprecated. Please use tf.compat.v1.placeholder instead.\n",
      "\n",
      "W1104 18:22:17.148776 139675099850560 deprecation_wrapper.py:119] From /home/bangui/anaconda3/envs/python36/lib/python3.6/site-packages/keras/backend/tensorflow_backend.py:131: The name tf.get_default_graph is deprecated. Please use tf.compat.v1.get_default_graph instead.\n",
      "\n",
      "W1104 18:22:17.149234 139675099850560 deprecation_wrapper.py:119] From /home/bangui/anaconda3/envs/python36/lib/python3.6/site-packages/keras/backend/tensorflow_backend.py:133: The name tf.placeholder_with_default is deprecated. Please use tf.compat.v1.placeholder_with_default instead.\n",
      "\n",
      "W1104 18:22:17.163434 139675099850560 deprecation_wrapper.py:119] From /home/bangui/anaconda3/envs/python36/lib/python3.6/site-packages/keras/backend/tensorflow_backend.py:4138: The name tf.random_uniform is deprecated. Please use tf.random.uniform instead.\n",
      "\n",
      "W1104 18:22:17.191192 139675099850560 deprecation_wrapper.py:119] From /home/bangui/anaconda3/envs/python36/lib/python3.6/site-packages/keras/backend/tensorflow_backend.py:3976: The name tf.nn.max_pool is deprecated. Please use tf.nn.max_pool2d instead.\n",
      "\n",
      "W1104 18:22:17.494085 139675099850560 deprecation.py:506] From /home/bangui/anaconda3/envs/python36/lib/python3.6/site-packages/keras/backend/tensorflow_backend.py:3445: calling dropout (from tensorflow.python.ops.nn_ops) with keep_prob is deprecated and will be removed in a future version.\n",
      "Instructions for updating:\n",
      "Please use `rate` instead of `keep_prob`. Rate should be set to `rate = 1 - keep_prob`.\n",
      "W1104 18:22:17.648431 139675099850560 deprecation_wrapper.py:119] From /home/bangui/anaconda3/envs/python36/lib/python3.6/site-packages/keras/backend/tensorflow_backend.py:174: The name tf.get_default_session is deprecated. Please use tf.compat.v1.get_default_session instead.\n",
      "\n",
      "W1104 18:22:18.051888 139675099850560 deprecation_wrapper.py:119] From /home/bangui/anaconda3/envs/python36/lib/python3.6/site-packages/keras/optimizers.py:790: The name tf.train.Optimizer is deprecated. Please use tf.compat.v1.train.Optimizer instead.\n",
      "\n",
      "W1104 18:22:18.057709 139675099850560 deprecation.py:323] From /home/bangui/anaconda3/envs/python36/lib/python3.6/site-packages/tensorflow/python/ops/nn_impl.py:180: add_dispatch_support.<locals>.wrapper (from tensorflow.python.ops.array_ops) is deprecated and will be removed in a future version.\n",
      "Instructions for updating:\n",
      "Use tf.where in 2.0, which has the same broadcast rule as np.where\n"
     ]
    },
    {
     "name": "stdout",
     "output_type": "stream",
     "text": [
      "_________________________________________________________________\n",
      "Layer (type)                 Output Shape              Param #   \n",
      "=================================================================\n",
      "input_2 (InputLayer)         (None, 100, 300)          0         \n",
      "_________________________________________________________________\n",
      "batch_normalization_5 (Batch (None, 100, 300)          1200      \n",
      "_________________________________________________________________\n",
      "conv1d_4 (Conv1D)            (None, 100, 256)          153856    \n",
      "_________________________________________________________________\n",
      "max_pooling1d_4 (MaxPooling1 (None, 20, 256)           0         \n",
      "_________________________________________________________________\n",
      "batch_normalization_6 (Batch (None, 20, 256)           1024      \n",
      "_________________________________________________________________\n",
      "conv1d_5 (Conv1D)            (None, 20, 256)           196864    \n",
      "_________________________________________________________________\n",
      "max_pooling1d_5 (MaxPooling1 (None, 4, 256)            0         \n",
      "_________________________________________________________________\n",
      "batch_normalization_7 (Batch (None, 4, 256)            1024      \n",
      "_________________________________________________________________\n",
      "conv1d_6 (Conv1D)            (None, 4, 256)            262400    \n",
      "_________________________________________________________________\n",
      "max_pooling1d_6 (MaxPooling1 (None, 2, 256)            0         \n",
      "_________________________________________________________________\n",
      "flatten_2 (Flatten)          (None, 512)               0         \n",
      "_________________________________________________________________\n",
      "batch_normalization_8 (Batch (None, 512)               2048      \n",
      "_________________________________________________________________\n",
      "dropout_2 (Dropout)          (None, 512)               0         \n",
      "_________________________________________________________________\n",
      "dense_3 (Dense)              (None, 128)               65664     \n",
      "_________________________________________________________________\n",
      "dense_4 (Dense)              (None, 2)                 258       \n",
      "=================================================================\n",
      "Total params: 684,338\n",
      "Trainable params: 681,690\n",
      "Non-trainable params: 2,648\n",
      "_________________________________________________________________\n"
     ]
    }
   ],
   "source": [
    "import keras\n",
    "\n",
    "filename_model = './data/benchmark/model_jigsaw_submission_sample129651_threshold0.5_best_save.h5'\n",
    "model = keras.models.load_model(filename_model)\n",
    "\n",
    "model.summary()"
   ]
  },
  {
   "cell_type": "markdown",
   "metadata": {},
   "source": [
    "    Apply predictions over validation dataset."
   ]
  },
  {
   "cell_type": "code",
   "execution_count": 5,
   "metadata": {},
   "outputs": [
    {
     "name": "stdout",
     "output_type": "stream",
     "text": [
      "12000/12000 [==============================] - 11s 955us/step\n"
     ]
    }
   ],
   "source": [
    "import numpy as np\n",
    "\n",
    "y_predict = model.predict(X_valid, verbose=1)\n",
    "\n",
    "y_predict_round = np.round(y_predict).astype(int)"
   ]
  },
  {
   "cell_type": "code",
   "execution_count": 16,
   "metadata": {},
   "outputs": [
    {
     "data": {
      "image/png": "[encoded data removed]",
      "text/plain": [
       "<Figure size 720x360 with 1 Axes>"
      ]
     },
     "metadata": {
      "needs_background": "light"
     },
     "output_type": "display_data"
    },
    {
     "data": {
      "image/png": "[encoded data removed]",
      "text/plain": [
       "<Figure size 360x360 with 1 Axes>"
      ]
     },
     "metadata": {
      "needs_background": "light"
     },
     "output_type": "display_data"
    }
   ],
   "source": [
    "import seaborn as sns\n",
    "import matplotlib.pyplot as plt\n",
    "\n",
    "fig, ax = plt.subplots(figsize=(10,5))\n",
    "_ = sns.catplot(ax=ax, x='predict', data=pd.DataFrame(y_predict_round[:,1], columns=['predict']), kind='count')"
   ]
  },
  {
   "cell_type": "markdown",
   "metadata": {},
   "source": [
    "    Display CNN model performances "
   ]
  },
  {
   "cell_type": "code",
   "execution_count": 6,
   "metadata": {},
   "outputs": [
    {
     "name": "stderr",
     "output_type": "stream",
     "text": [
      "/home/bangui/.local/lib/python3.6/site-packages/seaborn/distributions.py:679: UserWarning: Passing a 2D dataset for a bivariate plot is deprecated in favor of kdeplot(x, y), and it will cause an error in future versions. Please update your code.\n",
      "  warnings.warn(warn_msg, UserWarning)\n",
      "/home/bangui/.local/lib/python3.6/site-packages/scipy/stats/stats.py:1713: FutureWarning: Using a non-tuple sequence for multidimensional indexing is deprecated; use `arr[tuple(seq)]` instead of `arr[seq]`. In the future this will be interpreted as an array index, `arr[np.array(seq)]`, which will result either in an error or a different result.\n",
      "  return np.add.reduce(sorted[indexer] * weights, axis=axis) / sumval\n"
     ]
    },
    {
     "name": "stdout",
     "output_type": "stream",
     "text": [
      "[0, 1]\n",
      "\n",
      "Confusion matrix for all classes : \n",
      "\n",
      "[[5267  925]\n",
      " [ 755 5053]]\n",
      "\n",
      "Normalized confusion matrix\n",
      "[[0.8506137  0.1493863 ]\n",
      " [0.12999311 0.87000689]]\n",
      "Confusion matrix, without normalization\n",
      "[[5267  925]\n",
      " [ 755 5053]]\n",
      "\n",
      "TP rate = [0.         0.87000689 1.        ]\n",
      "FP rate = [0.        0.1493863 1.       ]\n",
      "AUC = 0.8603102910713905\n"
     ]
    },
    {
     "data": {
      "image/png": "[encoded data removed]",
      "text/plain": [
       "<Figure size 432x288 with 1 Axes>"
      ]
     },
     "metadata": {
      "needs_background": "light"
     },
     "output_type": "display_data"
    },
    {
     "data": {
      "image/png": "[encoded data removed]",
      "text/plain": [
       "<Figure size 576x576 with 2 Axes>"
      ]
     },
     "metadata": {
      "needs_background": "light"
     },
     "output_type": "display_data"
    },
    {
     "data": {
      "image/png": "[encoded data removed]",
      "text/plain": [
       "<Figure size 576x576 with 2 Axes>"
      ]
     },
     "metadata": {
      "needs_background": "light"
     },
     "output_type": "display_data"
    },
    {
     "data": {
      "image/png": "[encoded data removed]",
      "text/plain": [
       "<Figure size 432x432 with 1 Axes>"
      ]
     },
     "metadata": {
      "needs_background": "light"
     },
     "output_type": "display_data"
    }
   ],
   "source": [
    "import p9_util\n",
    "\n",
    "y_= p9_util.display_class_performance(model, None, y_valid, is_binary=True, \\\n",
    "                                      y_pred=y_predict_round, nb_classes=2,\\\n",
    "                                      title=\"Confusion matrix with CNN\")"
   ]
  }
 ],
 "metadata": {
  "kernelspec": {
   "display_name": "Python 3",
   "language": "python",
   "name": "python3"
  },
  "language_info": {
   "codemirror_mode": {
    "name": "ipython",
    "version": 3
   },
   "file_extension": ".py",
   "mimetype": "text/x-python",
   "name": "python",
   "nbconvert_exporter": "python",
   "pygments_lexer": "ipython3",
   "version": "3.6.8"
  }
 },
 "nbformat": 4,
 "nbformat_minor": 2
}
