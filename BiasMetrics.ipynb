{
 "cells": [
  {
   "cell_type": "markdown",
   "metadata": {},
   "source": [
    "# <font color=blus>Table of contents</font>"
   ]
  },
  {
   "cell_type": "code",
   "execution_count": 1,
   "metadata": {},
   "outputs": [
    {
     "data": {
      "text/html": [
       "<b>Result issued from biais metrics</b>\n",
       "<div id=\"my_id_menu_nb\">run previous cell, wait for 2 seconds</div>\n",
       "<script>\n",
       "function repeat_indent_string(n){\n",
       "    var a = \"\" ;\n",
       "    for ( ; n > 0 ; --n)\n",
       "        a += \"    \";\n",
       "    return a;\n",
       "}\n",
       "// look up into all sections and builds an automated menu //\n",
       "var update_menu_string = function(begin, lfirst, llast, sformat, send, keep_item, begin_format, end_format) {\n",
       "    var anchors = document.getElementsByClassName(\"section\");\n",
       "    if (anchors.length == 0) {\n",
       "        anchors = document.getElementsByClassName(\"text_cell_render rendered_html\");\n",
       "    }\n",
       "    var i,t;\n",
       "    var text_menu = begin;\n",
       "    var text_memo = \"<pre>\\nlength:\" + anchors.length + \"\\n\";\n",
       "    var ind = \"\";\n",
       "    var memo_level = 1;\n",
       "    var href;\n",
       "    var tags = [];\n",
       "    var main_item = 0;\n",
       "    var format_open = 0;\n",
       "    for (i = 0; i <= llast; i++)\n",
       "        tags.push(\"h\" + i);\n",
       "\n",
       "    for (i = 0; i < anchors.length; i++) {\n",
       "        text_memo += \"**\" + anchors[i].id + \"--\\n\";\n",
       "\n",
       "        var child = null;\n",
       "        for(t = 0; t < tags.length; t++) {\n",
       "            var r = anchors[i].getElementsByTagName(tags[t]);\n",
       "            if (r.length > 0) {\n",
       "child = r[0];\n",
       "break;\n",
       "            }\n",
       "        }\n",
       "        if (child == null) {\n",
       "            text_memo += \"null\\n\";\n",
       "            continue;\n",
       "        }\n",
       "        if (anchors[i].hasAttribute(\"id\")) {\n",
       "            // when converted in RST\n",
       "            href = anchors[i].id;\n",
       "            text_memo += \"#1-\" + href;\n",
       "            // passer à child suivant (le chercher)\n",
       "        }\n",
       "        else if (child.hasAttribute(\"id\")) {\n",
       "            // in a notebook\n",
       "            href = child.id;\n",
       "            text_memo += \"#2-\" + href;\n",
       "        }\n",
       "        else {\n",
       "            text_memo += \"#3-\" + \"*\" + \"\\n\";\n",
       "            continue;\n",
       "        }\n",
       "        var title = child.textContent;\n",
       "        var level = parseInt(child.tagName.substring(1,2));\n",
       "\n",
       "        text_memo += \"--\" + level + \"?\" + lfirst + \"--\" + title + \"\\n\";\n",
       "\n",
       "        if ((level < lfirst) || (level > llast)) {\n",
       "            continue ;\n",
       "        }\n",
       "        if (title.endsWith('¶')) {\n",
       "            title = title.substring(0,title.length-1).replace(\"<\", \"&lt;\")\n",
       "         .replace(\">\", \"&gt;\").replace(\"&\", \"&amp;\");\n",
       "        }\n",
       "        if (title.length == 0) {\n",
       "            continue;\n",
       "        }\n",
       "\n",
       "        while (level < memo_level) {\n",
       "            text_menu += end_format + \"</ul>\\n\";\n",
       "            format_open -= 1;\n",
       "            memo_level -= 1;\n",
       "        }\n",
       "        if (level == lfirst) {\n",
       "            main_item += 1;\n",
       "        }\n",
       "        if (keep_item != -1 && main_item != keep_item + 1) {\n",
       "            // alert(main_item + \" - \" + level + \" - \" + keep_item);\n",
       "            continue;\n",
       "        }\n",
       "        while (level > memo_level) {\n",
       "            text_menu += \"<ul>\\n\";\n",
       "            memo_level += 1;\n",
       "        }\n",
       "        text_menu += repeat_indent_string(level-2);\n",
       "        text_menu += begin_format + sformat.replace(\"__HREF__\", href).replace(\"__TITLE__\", title);\n",
       "        format_open += 1;\n",
       "    }\n",
       "    while (1 < memo_level) {\n",
       "        text_menu += end_format + \"</ul>\\n\";\n",
       "        memo_level -= 1;\n",
       "        format_open -= 1;\n",
       "    }\n",
       "    text_menu += send;\n",
       "    //text_menu += \"\\n\" + text_memo;\n",
       "\n",
       "    while (format_open > 0) {\n",
       "        text_menu += end_format;\n",
       "        format_open -= 1;\n",
       "    }\n",
       "    return text_menu;\n",
       "};\n",
       "var update_menu = function() {\n",
       "    var sbegin = \"\";\n",
       "    var sformat = '<a href=\"#__HREF__\">__TITLE__</a>';\n",
       "    var send = \"\";\n",
       "    var begin_format = '<li>';\n",
       "    var end_format = '</li>';\n",
       "    var keep_item = -1;\n",
       "    var text_menu = update_menu_string(sbegin, 1, 4, sformat, send, keep_item,\n",
       "       begin_format, end_format);\n",
       "    var menu = document.getElementById(\"my_id_menu_nb\");\n",
       "    menu.innerHTML=text_menu;\n",
       "};\n",
       "window.setTimeout(update_menu,2000);\n",
       "            </script>"
      ],
      "text/plain": [
       "<IPython.core.display.HTML object>"
      ]
     },
     "execution_count": 1,
     "metadata": {},
     "output_type": "execute_result"
    }
   ],
   "source": [
    "from jyquickhelper import add_notebook_menu\n",
    "add_notebook_menu(first_level=1, last_level=4, header=\"Result issued from biais metrics\")"
   ]
  },
  {
   "cell_type": "markdown",
   "metadata": {},
   "source": [
    "# <font color=blus> Abstract</font>\n",
    "\n",
    "    This notebook aims to expose bias preformances over CNN model built from notebook CNN_BinaryClassifier.\n",
    "    \n",
    "    1) Input data for validation is loaded. This data is issued from DataPreparator notebook.\n",
    "    \n",
    "    2) Model issued from CNN_binaryClassifier notebook is loaded and predictions are computed over validation dataset.\n",
    "    \n",
    "    3) Bias performance is computed using formula provided into kaggle Jigsaw https://www.kaggle.com/c/jigsaw-unintended-bias-in-toxicity-classification/overview/evaluation\n",
    "    "
   ]
  },
  {
   "cell_type": "markdown",
   "metadata": {},
   "source": [
    "# <font color=blus> Software engineering</font>\n",
    "<img src=\"./img/SoftwareEngineeringBiasMetrics.png\">"
   ]
  },
  {
   "cell_type": "code",
   "execution_count": 30,
   "metadata": {},
   "outputs": [],
   "source": [
    "from sklearn import metrics\n",
    "%matplotlib inline\n",
    "\n",
    "%load_ext autoreload\n",
    "%autoreload 2\n",
    "\n",
    "import warnings\n",
    "warnings.filterwarnings('ignore')"
   ]
  },
  {
   "cell_type": "code",
   "execution_count": 7,
   "metadata": {},
   "outputs": [],
   "source": [
    "import p9_util\n",
    "\n",
    "TOXICITY_COLUMN = p9_util.COLUMN_NAME_TARGET\n",
    "TEXT_COLUMN = p9_util.COLUMN_NAME_DOC\n",
    "\n",
    "# Create a text tokenizer.\n",
    "#tokenizer = Tokenizer(num_words=MAX_NUM_WORDS)\n",
    "#tokenizer.fit_on_texts(train_df[TEXT_COLUMN])\n",
    "\n",
    "# All comments must be truncated or padded to be the same length.\n",
    "MAX_SEQUENCE_LENGTH = 250\n",
    "MODEL_NAME='predict'\n",
    "\n",
    "# List all identities\n",
    "identity_columns = [\n",
    "    'male', 'female', 'homosexual_gay_or_lesbian', 'christian', 'jewish',\n",
    "    'muslim', 'black', 'white', 'psychiatric_or_mental_illness']\n"
   ]
  },
  {
   "cell_type": "markdown",
   "metadata": {},
   "source": [
    "# <font color=blus> 1. Loading dataset</font>"
   ]
  },
  {
   "cell_type": "markdown",
   "metadata": {},
   "source": [
    "Dataset is extracted from ̀`DataPreparator` object configured for validation.\n",
    "\n",
    "Such object contains \n",
    "* parameters used for processing data digitalization that leads to build `DataPreparator` object\n",
    "* list of files saved on hard-disk for data validation.\n",
    "\n",
    "See `DataPreparator.ipynb` notebook, for more details."
   ]
  },
  {
   "cell_type": "markdown",
   "metadata": {},
   "source": [
    "## <font color='blus'> 1.1 Load `DataPreparator` for validation</font>"
   ]
  },
  {
   "cell_type": "code",
   "execution_count": 1,
   "metadata": {},
   "outputs": [
    {
     "name": "stdout",
     "output_type": "stream",
     "text": [
      "p5_util.object_load : fileName= ./data/dataPreparator_valid_12000.dill\n"
     ]
    },
    {
     "name": "stderr",
     "output_type": "stream",
     "text": [
      "Using TensorFlow backend.\n",
      "/home/bangui/.local/lib/python3.6/site-packages/matplotlib/__init__.py:886: MatplotlibDeprecationWarning: \n",
      "examples.directory is deprecated; in the future, examples will be found relative to the 'datapath' directory.\n",
      "  \"found relative to the 'datapath' directory.\".format(key))\n",
      "WARNING: Logging before flag parsing goes to stderr.\n",
      "W1118 11:18:19.376524 140345841567552 lazy_loader.py:50] \n",
      "The TensorFlow contrib module will not be included in TensorFlow 2.0.\n",
      "For more information, please see:\n",
      "  * https://github.com/tensorflow/community/blob/master/rfcs/20180907-contrib-sunset.md\n",
      "  * https://github.com/tensorflow/addons\n",
      "  * https://github.com/tensorflow/io (for I/O related ops)\n",
      "If you depend on functionality not listed there, please file an issue.\n",
      "\n",
      "W1118 11:18:19.377181 140345841567552 deprecation_wrapper.py:119] From /home/bangui/anaconda3/envs/python36/lib/python3.6/site-packages/adanet/tf_compat/__init__.py:96: The name tf.losses.Reduction is deprecated. Please use tf.compat.v1.losses.Reduction instead.\n",
      "\n",
      "W1118 11:18:19.391392 140345841567552 deprecation_wrapper.py:119] From /home/bangui/Dropbox/Perso/Formation/openclassrooms/OC_Datascientist/NLP1/p8_util_config.py:137: The name tf.train.AdamOptimizer is deprecated. Please use tf.compat.v1.train.AdamOptimizer instead.\n",
      "\n"
     ]
    }
   ],
   "source": [
    "import p5_util\n",
    "filename = \"./data/dataPreparator_valid_12000.dill\"\n",
    "if True:\n",
    "    dataprep = p5_util.object_load(filename)\n",
    "else :\n",
    "    p5_util.object_dump(dataprep,filename)\n",
    "self = dataprep\n"
   ]
  },
  {
   "cell_type": "code",
   "execution_count": 2,
   "metadata": {},
   "outputs": [
    {
     "data": {
      "text/plain": [
       "['./data/df_dataprep_matrix_32.dill',\n",
       " './data/df_dataprep_matrix_82.dill',\n",
       " './data/df_dataprep_matrix_57.dill',\n",
       " './data/df_dataprep_matrix_122.dill',\n",
       " './data/df_dataprep_matrix_118.dill',\n",
       " './data/df_dataprep_matrix_86.dill',\n",
       " './data/df_dataprep_matrix_66.dill',\n",
       " './data/df_dataprep_matrix_52.dill',\n",
       " './data/df_dataprep_matrix_30.dill',\n",
       " './data/df_dataprep_matrix_79.dill',\n",
       " './data/df_dataprep_matrix_36.dill',\n",
       " './data/df_dataprep_matrix_109.dill']"
      ]
     },
     "execution_count": 2,
     "metadata": {},
     "output_type": "execute_result"
    }
   ],
   "source": [
    "list_df_data_file  = self.list_df_data_file.copy()\n",
    "del(self)\n",
    "list_df_data_file"
   ]
  },
  {
   "cell_type": "markdown",
   "metadata": {},
   "source": [
    "    Once a file is loaded as a dataframe then original index column is added.\n",
    "    \n",
    "    This operation allows to join columns from original dataframe with \n",
    "    the dataframe columns issued from CNN model computation.\n",
    "    "
   ]
  },
  {
   "cell_type": "code",
   "execution_count": 3,
   "metadata": {},
   "outputs": [
    {
     "name": "stdout",
     "output_type": "stream",
     "text": [
      "p5_util.object_load : fileName= ./data/df_dataprep_matrix_32.dill\n",
      "p5_util.object_load : fileName= ./data/df_dataprep_matrix_82.dill\n",
      "p5_util.object_load : fileName= ./data/df_dataprep_matrix_57.dill\n",
      "p5_util.object_load : fileName= ./data/df_dataprep_matrix_122.dill\n",
      "p5_util.object_load : fileName= ./data/df_dataprep_matrix_118.dill\n",
      "p5_util.object_load : fileName= ./data/df_dataprep_matrix_86.dill\n",
      "p5_util.object_load : fileName= ./data/df_dataprep_matrix_66.dill\n"
     ]
    },
    {
     "data": {
      "text/html": [
       "<div>\n",
       "<style scoped>\n",
       "    .dataframe tbody tr th:only-of-type {\n",
       "        vertical-align: middle;\n",
       "    }\n",
       "\n",
       "    .dataframe tbody tr th {\n",
       "        vertical-align: top;\n",
       "    }\n",
       "\n",
       "    .dataframe thead th {\n",
       "        text-align: right;\n",
       "    }\n",
       "</style>\n",
       "<table border=\"1\" class=\"dataframe\">\n",
       "  <thead>\n",
       "    <tr style=\"text-align: right;\">\n",
       "      <th></th>\n",
       "      <th>original_index</th>\n",
       "      <th>docs</th>\n",
       "      <th>counting</th>\n",
       "      <th>tokens</th>\n",
       "      <th>matrix_padded</th>\n",
       "      <th>target</th>\n",
       "    </tr>\n",
       "  </thead>\n",
       "  <tbody>\n",
       "    <tr>\n",
       "      <th>4976</th>\n",
       "      <td>442064</td>\n",
       "      <td>pathetic.</td>\n",
       "      <td>1</td>\n",
       "      <td>[pathetic]</td>\n",
       "      <td>[[-1.0268000364303589, -0.25707998871803284, 0...</td>\n",
       "      <td>1</td>\n",
       "    </tr>\n",
       "    <tr>\n",
       "      <th>3416</th>\n",
       "      <td>1416945</td>\n",
       "      <td>the problem is, vouchers will do the opposite ...</td>\n",
       "      <td>16</td>\n",
       "      <td>[problem, voucher, opposite, advocate, provide...</td>\n",
       "      <td>[[-0.1809699982404709, 0.37808001041412354, -0...</td>\n",
       "      <td>0</td>\n",
       "    </tr>\n",
       "    <tr>\n",
       "      <th>5395</th>\n",
       "      <td>248332</td>\n",
       "      <td>jjp did pass himself off as a woman for at lea...</td>\n",
       "      <td>7</td>\n",
       "      <td>[jjp, pass, woman, year, avatar, imbecile, kru...</td>\n",
       "      <td>[[0.0, 0.0, 0.0, 0.0, 0.0, 0.0, 0.0, 0.0, 0.0,...</td>\n",
       "      <td>1</td>\n",
       "    </tr>\n",
       "  </tbody>\n",
       "</table>\n",
       "</div>"
      ],
      "text/plain": [
       "      original_index                                               docs  \\\n",
       "4976          442064                                          pathetic.   \n",
       "3416         1416945  the problem is, vouchers will do the opposite ...   \n",
       "5395          248332  jjp did pass himself off as a woman for at lea...   \n",
       "\n",
       "      counting                                             tokens  \\\n",
       "4976         1                                         [pathetic]   \n",
       "3416        16  [problem, voucher, opposite, advocate, provide...   \n",
       "5395         7  [jjp, pass, woman, year, avatar, imbecile, kru...   \n",
       "\n",
       "                                          matrix_padded  target  \n",
       "4976  [[-1.0268000364303589, -0.25707998871803284, 0...       1  \n",
       "3416  [[-0.1809699982404709, 0.37808001041412354, -0...       0  \n",
       "5395  [[0.0, 0.0, 0.0, 0.0, 0.0, 0.0, 0.0, 0.0, 0.0,...       1  "
      ]
     },
     "execution_count": 3,
     "metadata": {},
     "output_type": "execute_result"
    }
   ],
   "source": [
    "import pandas as pd\n",
    "import p5_util\n",
    "\n",
    "filename = list_df_data_file[0]\n",
    "max_row = 20000\n",
    "start_row = 0\n",
    "df_data = pd.DataFrame()\n",
    "for filename in list_df_data_file :\n",
    "    \n",
    "    df_data_tmp = p5_util.object_load(filename)\n",
    "    end_row = start_row +len(df_data)\n",
    "    \n",
    "    if end_row > max_row :\n",
    "        break\n",
    "    else :\n",
    "        df_data = pd.concat([df_data,df_data_tmp])\n",
    "        start_row = end_row\n",
    "    \n",
    "df_data.reset_index(inplace=True)\n",
    "df_data.rename(columns={'index':'original_index'}, inplace=True)\n",
    "df_data.sample(3)"
   ]
  },
  {
   "cell_type": "markdown",
   "metadata": {},
   "source": [
    "    Make data to be compliant for CNN model input layer."
   ]
  },
  {
   "cell_type": "code",
   "execution_count": 4,
   "metadata": {},
   "outputs": [
    {
     "name": "stdout",
     "output_type": "stream",
     "text": [
      "(6000,)\n"
     ]
    }
   ],
   "source": [
    "import numpy as np\n",
    "\n",
    "X = df_data.matrix_padded\n",
    "print(X.shape)\n",
    "#-----------------------------------------------------------------------\n",
    "# Prepare input data in order to feed model prediction function : \n",
    "#    * Complete tuple of dimensions, out of 1st dimension.\n",
    "#    * Compute shape for data feeding predictor.\n",
    "#    * Initialize array with shape previously computed\n",
    "#    * Transfer data into input\n",
    "#-----------------------------------------------------------------------\n",
    "list_tuple = list()\n",
    "list_tuple.append(len(X))\n",
    "for shape in X.iloc[0].shape:\n",
    "    list_tuple.append(shape)\n",
    "\n",
    "input_shape = tuple(i for i in list_tuple)\n",
    "x_input = np.zeros(input_shape)\n",
    "\n",
    "for item in range(len(X)):\n",
    "    x_input[item]= X.values[item].copy()\n",
    "input_model = x_input.copy()"
   ]
  },
  {
   "cell_type": "markdown",
   "metadata": {},
   "source": [
    "    Save memory"
   ]
  },
  {
   "cell_type": "code",
   "execution_count": 5,
   "metadata": {},
   "outputs": [],
   "source": [
    "del(x_input)"
   ]
  },
  {
   "cell_type": "code",
   "execution_count": 6,
   "metadata": {},
   "outputs": [
    {
     "data": {
      "text/plain": [
       "(6000, 100, 300)"
      ]
     },
     "execution_count": 6,
     "metadata": {},
     "output_type": "execute_result"
    }
   ],
   "source": [
    "input_model.shape"
   ]
  },
  {
   "cell_type": "markdown",
   "metadata": {},
   "source": [
    "# <font color='blus'>2. Process to predictions</font>"
   ]
  },
  {
   "cell_type": "markdown",
   "metadata": {},
   "source": [
    "## <font color='blus'> 2.1. Loading CNN model</font>"
   ]
  },
  {
   "cell_type": "code",
   "execution_count": 33,
   "metadata": {},
   "outputs": [
    {
     "name": "stderr",
     "output_type": "stream",
     "text": [
      "W1118 11:53:35.874965 139728375486272 deprecation_wrapper.py:119] From /home/bangui/anaconda3/envs/python36/lib/python3.6/site-packages/keras/backend/tensorflow_backend.py:517: The name tf.placeholder is deprecated. Please use tf.compat.v1.placeholder instead.\n",
      "\n",
      "W1118 11:53:36.038844 139728375486272 deprecation_wrapper.py:119] From /home/bangui/anaconda3/envs/python36/lib/python3.6/site-packages/keras/backend/tensorflow_backend.py:131: The name tf.get_default_graph is deprecated. Please use tf.compat.v1.get_default_graph instead.\n",
      "\n",
      "W1118 11:53:36.040052 139728375486272 deprecation_wrapper.py:119] From /home/bangui/anaconda3/envs/python36/lib/python3.6/site-packages/keras/backend/tensorflow_backend.py:133: The name tf.placeholder_with_default is deprecated. Please use tf.compat.v1.placeholder_with_default instead.\n",
      "\n",
      "W1118 11:53:36.064640 139728375486272 deprecation_wrapper.py:119] From /home/bangui/anaconda3/envs/python36/lib/python3.6/site-packages/keras/backend/tensorflow_backend.py:4138: The name tf.random_uniform is deprecated. Please use tf.random.uniform instead.\n",
      "\n",
      "W1118 11:53:36.099294 139728375486272 deprecation_wrapper.py:119] From /home/bangui/anaconda3/envs/python36/lib/python3.6/site-packages/keras/backend/tensorflow_backend.py:3976: The name tf.nn.max_pool is deprecated. Please use tf.nn.max_pool2d instead.\n",
      "\n",
      "W1118 11:53:36.672430 139728375486272 deprecation.py:506] From /home/bangui/anaconda3/envs/python36/lib/python3.6/site-packages/keras/backend/tensorflow_backend.py:3445: calling dropout (from tensorflow.python.ops.nn_ops) with keep_prob is deprecated and will be removed in a future version.\n",
      "Instructions for updating:\n",
      "Please use `rate` instead of `keep_prob`. Rate should be set to `rate = 1 - keep_prob`.\n",
      "W1118 11:53:36.848216 139728375486272 deprecation_wrapper.py:119] From /home/bangui/anaconda3/envs/python36/lib/python3.6/site-packages/keras/backend/tensorflow_backend.py:174: The name tf.get_default_session is deprecated. Please use tf.compat.v1.get_default_session instead.\n",
      "\n",
      "W1118 11:53:38.048676 139728375486272 deprecation_wrapper.py:119] From /home/bangui/anaconda3/envs/python36/lib/python3.6/site-packages/keras/optimizers.py:790: The name tf.train.Optimizer is deprecated. Please use tf.compat.v1.train.Optimizer instead.\n",
      "\n",
      "W1118 11:53:38.057352 139728375486272 deprecation.py:323] From /home/bangui/anaconda3/envs/python36/lib/python3.6/site-packages/tensorflow/python/ops/nn_impl.py:180: add_dispatch_support.<locals>.wrapper (from tensorflow.python.ops.array_ops) is deprecated and will be removed in a future version.\n",
      "Instructions for updating:\n",
      "Use tf.where in 2.0, which has the same broadcast rule as np.where\n"
     ]
    },
    {
     "name": "stdout",
     "output_type": "stream",
     "text": [
      "_________________________________________________________________\n",
      "Layer (type)                 Output Shape              Param #   \n",
      "=================================================================\n",
      "input_2 (InputLayer)         (None, 100, 300)          0         \n",
      "_________________________________________________________________\n",
      "batch_normalization_5 (Batch (None, 100, 300)          1200      \n",
      "_________________________________________________________________\n",
      "conv1d_4 (Conv1D)            (None, 100, 256)          153856    \n",
      "_________________________________________________________________\n",
      "max_pooling1d_4 (MaxPooling1 (None, 20, 256)           0         \n",
      "_________________________________________________________________\n",
      "batch_normalization_6 (Batch (None, 20, 256)           1024      \n",
      "_________________________________________________________________\n",
      "conv1d_5 (Conv1D)            (None, 20, 256)           196864    \n",
      "_________________________________________________________________\n",
      "max_pooling1d_5 (MaxPooling1 (None, 4, 256)            0         \n",
      "_________________________________________________________________\n",
      "batch_normalization_7 (Batch (None, 4, 256)            1024      \n",
      "_________________________________________________________________\n",
      "conv1d_6 (Conv1D)            (None, 4, 256)            262400    \n",
      "_________________________________________________________________\n",
      "max_pooling1d_6 (MaxPooling1 (None, 2, 256)            0         \n",
      "_________________________________________________________________\n",
      "flatten_2 (Flatten)          (None, 512)               0         \n",
      "_________________________________________________________________\n",
      "batch_normalization_8 (Batch (None, 512)               2048      \n",
      "_________________________________________________________________\n",
      "dropout_2 (Dropout)          (None, 512)               0         \n",
      "_________________________________________________________________\n",
      "dense_3 (Dense)              (None, 128)               65664     \n",
      "_________________________________________________________________\n",
      "dense_4 (Dense)              (None, 2)                 258       \n",
      "=================================================================\n",
      "Total params: 684,338\n",
      "Trainable params: 681,690\n",
      "Non-trainable params: 2,648\n",
      "_________________________________________________________________\n"
     ]
    }
   ],
   "source": [
    "import keras\n",
    "\n",
    "filename_model = './data/benchmark/model_jigsaw_submission_sample129651_threshold0.5_best_save.h5'\n",
    "model = keras.models.load_model(filename_model)\n",
    "\n",
    "model.summary()"
   ]
  },
  {
   "cell_type": "markdown",
   "metadata": {},
   "source": [
    "## <font color='blus'> 2.2. Apply predictions with CNN model</font>"
   ]
  },
  {
   "cell_type": "code",
   "execution_count": 8,
   "metadata": {},
   "outputs": [],
   "source": [
    "df_data['predict'] = model.predict(input_model)[:,1]"
   ]
  },
  {
   "cell_type": "code",
   "execution_count": 9,
   "metadata": {},
   "outputs": [
    {
     "data": {
      "text/plain": [
       "379     0.769173\n",
       "1384    0.005107\n",
       "5429    0.000253\n",
       "3404    0.000389\n",
       "968     0.000296\n",
       "Name: predict, dtype: float32"
      ]
     },
     "execution_count": 9,
     "metadata": {},
     "output_type": "execute_result"
    }
   ],
   "source": [
    "arr_index = df_data['predict'].sample(5).index\n",
    "df_data['predict'].loc[arr_index]"
   ]
  },
  {
   "cell_type": "markdown",
   "metadata": {},
   "source": [
    "## <font color='blus'> 2.3. Save predictions on hardisk</font>"
   ]
  },
  {
   "cell_type": "code",
   "execution_count": 10,
   "metadata": {},
   "outputs": [
    {
     "name": "stdout",
     "output_type": "stream",
     "text": [
      "object_dump: file name= ./data/df_data_prediction.dill\n"
     ]
    }
   ],
   "source": [
    "import p5_util\n",
    "filename = './data/df_data_prediction.dill'\n",
    "p5_util.object_dump(df_data, filename, is_verbose=True)"
   ]
  },
  {
   "cell_type": "markdown",
   "metadata": {},
   "source": [
    "# <font color='blus'> 3. Load dataframe with predictions from hardisk</font>"
   ]
  },
  {
   "cell_type": "code",
   "execution_count": 1,
   "metadata": {},
   "outputs": [
    {
     "name": "stdout",
     "output_type": "stream",
     "text": [
      "p5_util.object_load : fileName= ./data/df_data_prediction.dill\n"
     ]
    }
   ],
   "source": [
    "import p5_util\n",
    "filename = './data/df_data_prediction.dill'\n",
    "df_data = p5_util.object_load(filename, is_verbose=True)"
   ]
  },
  {
   "cell_type": "markdown",
   "metadata": {},
   "source": [
    "    Convert them into binary values."
   ]
  },
  {
   "cell_type": "raw",
   "metadata": {},
   "source": [
    "import numpy as np\n",
    "import p9_util_benchmark\n",
    "\n",
    "threshold = p9_util_benchmark.dict_param_benchmark['threshold']\n",
    "df_data['predict'] = np.where(df_data['predict'] >= threshold, 1, 0)"
   ]
  },
  {
   "cell_type": "code",
   "execution_count": 18,
   "metadata": {},
   "outputs": [
    {
     "data": {
      "text/plain": [
       "5662    0\n",
       "882     1\n",
       "1572    1\n",
       "5730    1\n",
       "589     0\n",
       "Name: predict, dtype: int64"
      ]
     },
     "execution_count": 18,
     "metadata": {},
     "output_type": "execute_result"
    }
   ],
   "source": [
    "df_data['predict'].loc[arr_index]"
   ]
  },
  {
   "cell_type": "code",
   "execution_count": 20,
   "metadata": {},
   "outputs": [
    {
     "data": {
      "image/png": "[encoded data removed]",
      "text/plain": [
       "<Figure size 720x360 with 1 Axes>"
      ]
     },
     "metadata": {
      "needs_background": "light"
     },
     "output_type": "display_data"
    },
    {
     "data": {
      "image/png": "[encoded data removed]",
      "text/plain": [
       "<Figure size 360x360 with 1 Axes>"
      ]
     },
     "metadata": {
      "needs_background": "light"
     },
     "output_type": "display_data"
    }
   ],
   "source": [
    "import seaborn as sns\n",
    "import matplotlib.pyplot as plt\n",
    "\n",
    "fig, ax = plt.subplots(figsize=(10,5))\n",
    "_ = sns.catplot(ax=ax, x='predict', data=df_data, kind='count')"
   ]
  },
  {
   "cell_type": "markdown",
   "metadata": {},
   "source": [
    "## <font color='blus'> 3.1 Load original dataset into df_train dataframe.</font>\n",
    "\n",
    "For bias computation, informations from original dataset has to be linked with those issued from predicions."
   ]
  },
  {
   "cell_type": "code",
   "execution_count": 10,
   "metadata": {},
   "outputs": [],
   "source": [
    "import pandas as pd\n",
    "import p5_util\n",
    "df_train = pd.read_csv('./data/train.csv.zip', compression='zip', header=0, sep=',', quotechar='\"')"
   ]
  },
  {
   "cell_type": "markdown",
   "metadata": {},
   "source": [
    "## <font color='blus'>3.2. Build of df_identity dataframe.</font>"
   ]
  },
  {
   "cell_type": "markdown",
   "metadata": {},
   "source": [
    "    For bias evaluation, df_identity dataframe is built from original dataframe.\n",
    "    \n",
    "    Columns from df_identity dataframe are required.\n",
    "    \n",
    "    Due to this, a join process between dataframe issued from CNN computation and df_identity \n",
    "    dataframe takes place."
   ]
  },
  {
   "cell_type": "code",
   "execution_count": 11,
   "metadata": {
    "scrolled": true
   },
   "outputs": [],
   "source": [
    "import p9_util_metrics\n",
    "\n",
    "identity_columns = p9_util_metrics.IDENTITY_COLUMNS"
   ]
  },
  {
   "cell_type": "code",
   "execution_count": 12,
   "metadata": {},
   "outputs": [
    {
     "name": "stdout",
     "output_type": "stream",
     "text": [
      "Index(['original_index', 'male', 'female', 'homosexual_gay_or_lesbian',\n",
      "       'christian', 'jewish', 'muslim', 'black', 'white',\n",
      "       'psychiatric_or_mental_illness', 'target', 'id'],\n",
      "      dtype='object')\n"
     ]
    }
   ],
   "source": [
    "import p9_util\n",
    "\n",
    "#----------------------------------------------------------------------------\n",
    "# Filter rows from original dataset with original indexes stored into \n",
    "# self.df_data\n",
    "#----------------------------------------------------------------------------\n",
    "filtered_index = df_data[p9_util.COLUMN_NAME_INDEX]\n",
    "\n",
    "#----------------------------------------------------------------------------\n",
    "# Apply filtered_index indexes over columns of df_indetity dataframe.\n",
    "#----------------------------------------------------------------------------\n",
    "df_identity = df_train.loc[filtered_index.values][identity_columns+['target','id']]\n",
    "\n",
    "#----------------------------------------------------------------------------\n",
    "# Reset indexes of df_identity dataframe;  new index column is renamed \n",
    "# original_index.\n",
    "#----------------------------------------------------------------------------\n",
    "df_identity.reset_index(inplace=True)\n",
    "\n",
    "\n",
    "df_identity.rename(columns={'index':'original_index'}, inplace=True)\n",
    "print(df_identity.columns)"
   ]
  },
  {
   "cell_type": "markdown",
   "metadata": {},
   "source": [
    "    Save memory"
   ]
  },
  {
   "cell_type": "code",
   "execution_count": 13,
   "metadata": {},
   "outputs": [],
   "source": [
    "del(df_train)"
   ]
  },
  {
   "cell_type": "code",
   "execution_count": 14,
   "metadata": {},
   "outputs": [
    {
     "data": {
      "text/plain": [
       "178     0.095238\n",
       "35      0.600000\n",
       "586     0.600000\n",
       "3202    0.000000\n",
       "1445    0.000000\n",
       "1280    0.000000\n",
       "614     0.600000\n",
       "963     0.000000\n",
       "4523    0.000000\n",
       "5709    0.000000\n",
       "Name: target, dtype: float64"
      ]
     },
     "execution_count": 14,
     "metadata": {},
     "output_type": "execute_result"
    }
   ],
   "source": [
    "df_identity['target'].sample(10)"
   ]
  },
  {
   "cell_type": "raw",
   "metadata": {},
   "source": [
    "import seaborn as sns\n",
    "import matplotlib.pyplot as plt\n",
    "\n",
    "fig, ax = plt.subplots(figsize=(10,5))\n",
    "_ = sns.catplot(ax=ax, x='target', data=df_identity, kind='count')"
   ]
  },
  {
   "cell_type": "markdown",
   "metadata": {},
   "source": [
    "    Get 3 randoms rows from df_identity dataframe and let's check corresponding columns values\n",
    "    do match with original dataset (df_train is the original dataset).\n",
    "    \n",
    "    Visual check is applied on columns id values for each dataframe."
   ]
  },
  {
   "cell_type": "code",
   "execution_count": 65,
   "metadata": {},
   "outputs": [
    {
     "data": {
      "text/html": [
       "<div>\n",
       "<style scoped>\n",
       "    .dataframe tbody tr th:only-of-type {\n",
       "        vertical-align: middle;\n",
       "    }\n",
       "\n",
       "    .dataframe tbody tr th {\n",
       "        vertical-align: top;\n",
       "    }\n",
       "\n",
       "    .dataframe thead th {\n",
       "        text-align: right;\n",
       "    }\n",
       "</style>\n",
       "<table border=\"1\" class=\"dataframe\">\n",
       "  <thead>\n",
       "    <tr style=\"text-align: right;\">\n",
       "      <th></th>\n",
       "      <th>original_index</th>\n",
       "      <th>male</th>\n",
       "      <th>female</th>\n",
       "      <th>homosexual_gay_or_lesbian</th>\n",
       "      <th>christian</th>\n",
       "      <th>jewish</th>\n",
       "      <th>muslim</th>\n",
       "      <th>black</th>\n",
       "      <th>white</th>\n",
       "      <th>psychiatric_or_mental_illness</th>\n",
       "      <th>targettrue_</th>\n",
       "      <th>id</th>\n",
       "      <th>docs</th>\n",
       "      <th>counting</th>\n",
       "      <th>tokens</th>\n",
       "      <th>matrix_padded</th>\n",
       "      <th>target</th>\n",
       "      <th>predict</th>\n",
       "      <th>bin_target</th>\n",
       "      <th>bin_predict</th>\n",
       "    </tr>\n",
       "  </thead>\n",
       "  <tbody>\n",
       "    <tr>\n",
       "      <th>848</th>\n",
       "      <td>1325472</td>\n",
       "      <td>False</td>\n",
       "      <td>False</td>\n",
       "      <td>False</td>\n",
       "      <td>False</td>\n",
       "      <td>False</td>\n",
       "      <td>False</td>\n",
       "      <td>False</td>\n",
       "      <td>False</td>\n",
       "      <td>False</td>\n",
       "      <td>0.000000</td>\n",
       "      <td>5735252</td>\n",
       "      <td>he'll soon be known as \"ben dover\"</td>\n",
       "      <td>4</td>\n",
       "      <td>[soon, know, ben, dover]</td>\n",
       "      <td>[[0.3000200092792511, -0.04870599880814552, -0...</td>\n",
       "      <td>False</td>\n",
       "      <td>0.000336</td>\n",
       "      <td>0</td>\n",
       "      <td>0</td>\n",
       "    </tr>\n",
       "    <tr>\n",
       "      <th>3719</th>\n",
       "      <td>604381</td>\n",
       "      <td>False</td>\n",
       "      <td>False</td>\n",
       "      <td>False</td>\n",
       "      <td>False</td>\n",
       "      <td>False</td>\n",
       "      <td>False</td>\n",
       "      <td>False</td>\n",
       "      <td>False</td>\n",
       "      <td>False</td>\n",
       "      <td>0.514286</td>\n",
       "      <td>981866</td>\n",
       "      <td>look, dunham sexually molested her little sist...</td>\n",
       "      <td>44</td>\n",
       "      <td>[look, sexually, molest, little, sister, year,...</td>\n",
       "      <td>[[-0.01946300081908703, -0.18862000107765198, ...</td>\n",
       "      <td>False</td>\n",
       "      <td>0.836297</td>\n",
       "      <td>0</td>\n",
       "      <td>1</td>\n",
       "    </tr>\n",
       "    <tr>\n",
       "      <th>4442</th>\n",
       "      <td>414529</td>\n",
       "      <td>False</td>\n",
       "      <td>False</td>\n",
       "      <td>False</td>\n",
       "      <td>False</td>\n",
       "      <td>False</td>\n",
       "      <td>False</td>\n",
       "      <td>False</td>\n",
       "      <td>False</td>\n",
       "      <td>False</td>\n",
       "      <td>0.000000</td>\n",
       "      <td>750515</td>\n",
       "      <td>wrong again. the kingdom infrastructure was ta...</td>\n",
       "      <td>21</td>\n",
       "      <td>[wrong, kingdom, infrastructure, take, insurge...</td>\n",
       "      <td>[[-0.20095999538898468, 0.37617000937461853, -...</td>\n",
       "      <td>False</td>\n",
       "      <td>0.003966</td>\n",
       "      <td>0</td>\n",
       "      <td>0</td>\n",
       "    </tr>\n",
       "  </tbody>\n",
       "</table>\n",
       "</div>"
      ],
      "text/plain": [
       "      original_index   male  female  homosexual_gay_or_lesbian  christian  \\\n",
       "848          1325472  False   False                      False      False   \n",
       "3719          604381  False   False                      False      False   \n",
       "4442          414529  False   False                      False      False   \n",
       "\n",
       "      jewish  muslim  black  white  psychiatric_or_mental_illness  \\\n",
       "848    False   False  False  False                          False   \n",
       "3719   False   False  False  False                          False   \n",
       "4442   False   False  False  False                          False   \n",
       "\n",
       "      targettrue_       id                                               docs  \\\n",
       "848      0.000000  5735252                 he'll soon be known as \"ben dover\"   \n",
       "3719     0.514286   981866  look, dunham sexually molested her little sist...   \n",
       "4442     0.000000   750515  wrong again. the kingdom infrastructure was ta...   \n",
       "\n",
       "      counting                                             tokens  \\\n",
       "848          4                           [soon, know, ben, dover]   \n",
       "3719        44  [look, sexually, molest, little, sister, year,...   \n",
       "4442        21  [wrong, kingdom, infrastructure, take, insurge...   \n",
       "\n",
       "                                          matrix_padded  target   predict  \\\n",
       "848   [[0.3000200092792511, -0.04870599880814552, -0...   False  0.000336   \n",
       "3719  [[-0.01946300081908703, -0.18862000107765198, ...   False  0.836297   \n",
       "4442  [[-0.20095999538898468, 0.37617000937461853, -...   False  0.003966   \n",
       "\n",
       "      bin_target  bin_predict  \n",
       "848            0            0  \n",
       "3719           0            1  \n",
       "4442           0            0  "
      ]
     },
     "execution_count": 65,
     "metadata": {},
     "output_type": "execute_result"
    }
   ],
   "source": [
    "arr_index = df_identity.original_index.sample(3).values\n",
    "df_identity[df_identity['original_index'].isin(arr_index)]"
   ]
  },
  {
   "cell_type": "markdown",
   "metadata": {},
   "source": [
    "    target column from df_identity dataframe is converted as a binary vector with same threshold \n",
    "    fixed for CNN model.  \n",
    "    \n",
    "    This way, model performance will be measure aagiant df_identity true values."
   ]
  },
  {
   "cell_type": "code",
   "execution_count": 9,
   "metadata": {},
   "outputs": [],
   "source": [
    "import numpy as np\n",
    "if False : \n",
    "    df_identity['target'] = np.where(df_identity['target'] >= 0.5, 1, 0)"
   ]
  },
  {
   "cell_type": "markdown",
   "metadata": {},
   "source": [
    "    Visual check over target column name."
   ]
  },
  {
   "cell_type": "code",
   "execution_count": 66,
   "metadata": {},
   "outputs": [
    {
     "data": {
      "text/html": [
       "<div>\n",
       "<style scoped>\n",
       "    .dataframe tbody tr th:only-of-type {\n",
       "        vertical-align: middle;\n",
       "    }\n",
       "\n",
       "    .dataframe tbody tr th {\n",
       "        vertical-align: top;\n",
       "    }\n",
       "\n",
       "    .dataframe thead th {\n",
       "        text-align: right;\n",
       "    }\n",
       "</style>\n",
       "<table border=\"1\" class=\"dataframe\">\n",
       "  <thead>\n",
       "    <tr style=\"text-align: right;\">\n",
       "      <th></th>\n",
       "      <th>original_index</th>\n",
       "      <th>male</th>\n",
       "      <th>female</th>\n",
       "      <th>homosexual_gay_or_lesbian</th>\n",
       "      <th>christian</th>\n",
       "      <th>jewish</th>\n",
       "      <th>muslim</th>\n",
       "      <th>black</th>\n",
       "      <th>white</th>\n",
       "      <th>psychiatric_or_mental_illness</th>\n",
       "      <th>targettrue_</th>\n",
       "      <th>id</th>\n",
       "      <th>docs</th>\n",
       "      <th>counting</th>\n",
       "      <th>tokens</th>\n",
       "      <th>matrix_padded</th>\n",
       "      <th>target</th>\n",
       "      <th>predict</th>\n",
       "      <th>bin_target</th>\n",
       "      <th>bin_predict</th>\n",
       "    </tr>\n",
       "  </thead>\n",
       "  <tbody>\n",
       "    <tr>\n",
       "      <th>848</th>\n",
       "      <td>1325472</td>\n",
       "      <td>False</td>\n",
       "      <td>False</td>\n",
       "      <td>False</td>\n",
       "      <td>False</td>\n",
       "      <td>False</td>\n",
       "      <td>False</td>\n",
       "      <td>False</td>\n",
       "      <td>False</td>\n",
       "      <td>False</td>\n",
       "      <td>0.000000</td>\n",
       "      <td>5735252</td>\n",
       "      <td>he'll soon be known as \"ben dover\"</td>\n",
       "      <td>4</td>\n",
       "      <td>[soon, know, ben, dover]</td>\n",
       "      <td>[[0.3000200092792511, -0.04870599880814552, -0...</td>\n",
       "      <td>False</td>\n",
       "      <td>0.000336</td>\n",
       "      <td>0</td>\n",
       "      <td>0</td>\n",
       "    </tr>\n",
       "    <tr>\n",
       "      <th>3719</th>\n",
       "      <td>604381</td>\n",
       "      <td>False</td>\n",
       "      <td>False</td>\n",
       "      <td>False</td>\n",
       "      <td>False</td>\n",
       "      <td>False</td>\n",
       "      <td>False</td>\n",
       "      <td>False</td>\n",
       "      <td>False</td>\n",
       "      <td>False</td>\n",
       "      <td>0.514286</td>\n",
       "      <td>981866</td>\n",
       "      <td>look, dunham sexually molested her little sist...</td>\n",
       "      <td>44</td>\n",
       "      <td>[look, sexually, molest, little, sister, year,...</td>\n",
       "      <td>[[-0.01946300081908703, -0.18862000107765198, ...</td>\n",
       "      <td>False</td>\n",
       "      <td>0.836297</td>\n",
       "      <td>0</td>\n",
       "      <td>1</td>\n",
       "    </tr>\n",
       "    <tr>\n",
       "      <th>4442</th>\n",
       "      <td>414529</td>\n",
       "      <td>False</td>\n",
       "      <td>False</td>\n",
       "      <td>False</td>\n",
       "      <td>False</td>\n",
       "      <td>False</td>\n",
       "      <td>False</td>\n",
       "      <td>False</td>\n",
       "      <td>False</td>\n",
       "      <td>False</td>\n",
       "      <td>0.000000</td>\n",
       "      <td>750515</td>\n",
       "      <td>wrong again. the kingdom infrastructure was ta...</td>\n",
       "      <td>21</td>\n",
       "      <td>[wrong, kingdom, infrastructure, take, insurge...</td>\n",
       "      <td>[[-0.20095999538898468, 0.37617000937461853, -...</td>\n",
       "      <td>False</td>\n",
       "      <td>0.003966</td>\n",
       "      <td>0</td>\n",
       "      <td>0</td>\n",
       "    </tr>\n",
       "  </tbody>\n",
       "</table>\n",
       "</div>"
      ],
      "text/plain": [
       "      original_index   male  female  homosexual_gay_or_lesbian  christian  \\\n",
       "848          1325472  False   False                      False      False   \n",
       "3719          604381  False   False                      False      False   \n",
       "4442          414529  False   False                      False      False   \n",
       "\n",
       "      jewish  muslim  black  white  psychiatric_or_mental_illness  \\\n",
       "848    False   False  False  False                          False   \n",
       "3719   False   False  False  False                          False   \n",
       "4442   False   False  False  False                          False   \n",
       "\n",
       "      targettrue_       id                                               docs  \\\n",
       "848      0.000000  5735252                 he'll soon be known as \"ben dover\"   \n",
       "3719     0.514286   981866  look, dunham sexually molested her little sist...   \n",
       "4442     0.000000   750515  wrong again. the kingdom infrastructure was ta...   \n",
       "\n",
       "      counting                                             tokens  \\\n",
       "848          4                           [soon, know, ben, dover]   \n",
       "3719        44  [look, sexually, molest, little, sister, year,...   \n",
       "4442        21  [wrong, kingdom, infrastructure, take, insurge...   \n",
       "\n",
       "                                          matrix_padded  target   predict  \\\n",
       "848   [[0.3000200092792511, -0.04870599880814552, -0...   False  0.000336   \n",
       "3719  [[-0.01946300081908703, -0.18862000107765198, ...   False  0.836297   \n",
       "4442  [[-0.20095999538898468, 0.37617000937461853, -...   False  0.003966   \n",
       "\n",
       "      bin_target  bin_predict  \n",
       "848            0            0  \n",
       "3719           0            1  \n",
       "4442           0            0  "
      ]
     },
     "execution_count": 66,
     "metadata": {},
     "output_type": "execute_result"
    }
   ],
   "source": [
    "df_identity[df_identity['original_index'].isin(arr_index)]"
   ]
  },
  {
   "cell_type": "markdown",
   "metadata": {},
   "source": [
    "    Note below that true label values in target column are compared with predicted values in predict column."
   ]
  },
  {
   "cell_type": "code",
   "execution_count": 16,
   "metadata": {},
   "outputs": [
    {
     "data": {
      "text/html": [
       "<div>\n",
       "<style scoped>\n",
       "    .dataframe tbody tr th:only-of-type {\n",
       "        vertical-align: middle;\n",
       "    }\n",
       "\n",
       "    .dataframe tbody tr th {\n",
       "        vertical-align: top;\n",
       "    }\n",
       "\n",
       "    .dataframe thead th {\n",
       "        text-align: right;\n",
       "    }\n",
       "</style>\n",
       "<table border=\"1\" class=\"dataframe\">\n",
       "  <thead>\n",
       "    <tr style=\"text-align: right;\">\n",
       "      <th></th>\n",
       "      <th>original_index</th>\n",
       "      <th>docs</th>\n",
       "      <th>counting</th>\n",
       "      <th>tokens</th>\n",
       "      <th>matrix_padded</th>\n",
       "      <th>target</th>\n",
       "      <th>predict</th>\n",
       "    </tr>\n",
       "  </thead>\n",
       "  <tbody>\n",
       "    <tr>\n",
       "      <th>1760</th>\n",
       "      <td>862071</td>\n",
       "      <td>you truly are something else. a downright mean...</td>\n",
       "      <td>5</td>\n",
       "      <td>[truly, downright, mean, spirited, individual]</td>\n",
       "      <td>[[-0.0008845599950291216, 0.25277000665664673,...</td>\n",
       "      <td>1</td>\n",
       "      <td>0.451386</td>\n",
       "    </tr>\n",
       "    <tr>\n",
       "      <th>2365</th>\n",
       "      <td>1011826</td>\n",
       "      <td>@joec:\\njust like we didn't hear a global outc...</td>\n",
       "      <td>66</td>\n",
       "      <td>[@joec, like, hear, global, outcry, christian,...</td>\n",
       "      <td>[[0.0, 0.0, 0.0, 0.0, 0.0, 0.0, 0.0, 0.0, 0.0,...</td>\n",
       "      <td>0</td>\n",
       "      <td>0.241476</td>\n",
       "    </tr>\n",
       "    <tr>\n",
       "      <th>5163</th>\n",
       "      <td>505249</td>\n",
       "      <td>you're protesting to the point of idiocy. but ...</td>\n",
       "      <td>3</td>\n",
       "      <td>[protest, point, idiocy]</td>\n",
       "      <td>[[-0.1667100042104721, -0.2857699990272522, 0....</td>\n",
       "      <td>1</td>\n",
       "      <td>0.971640</td>\n",
       "    </tr>\n",
       "  </tbody>\n",
       "</table>\n",
       "</div>"
      ],
      "text/plain": [
       "      original_index                                               docs  \\\n",
       "1760          862071  you truly are something else. a downright mean...   \n",
       "2365         1011826  @joec:\\njust like we didn't hear a global outc...   \n",
       "5163          505249  you're protesting to the point of idiocy. but ...   \n",
       "\n",
       "      counting                                             tokens  \\\n",
       "1760         5     [truly, downright, mean, spirited, individual]   \n",
       "2365        66  [@joec, like, hear, global, outcry, christian,...   \n",
       "5163         3                           [protest, point, idiocy]   \n",
       "\n",
       "                                          matrix_padded  target   predict  \n",
       "1760  [[-0.0008845599950291216, 0.25277000665664673,...       1  0.451386  \n",
       "2365  [[0.0, 0.0, 0.0, 0.0, 0.0, 0.0, 0.0, 0.0, 0.0,...       0  0.241476  \n",
       "5163  [[-0.1667100042104721, -0.2857699990272522, 0....       1  0.971640  "
      ]
     },
     "execution_count": 16,
     "metadata": {},
     "output_type": "execute_result"
    }
   ],
   "source": [
    "df_data[df_data['original_index'].isin(arr_index)]"
   ]
  },
  {
   "cell_type": "markdown",
   "metadata": {},
   "source": [
    "    Join dataframe issued from prediction model with identities dataframe issued from original dataframe.\n",
    "    \n",
    "    This join operation is based on original_index column."
   ]
  },
  {
   "cell_type": "code",
   "execution_count": 17,
   "metadata": {},
   "outputs": [
    {
     "data": {
      "text/plain": [
       "Index(['original_index', 'male', 'female', 'homosexual_gay_or_lesbian',\n",
       "       'christian', 'jewish', 'muslim', 'black', 'white',\n",
       "       'psychiatric_or_mental_illness', 'targettrue_', 'id', 'docs',\n",
       "       'counting', 'tokens', 'matrix_padded', 'target', 'predict'],\n",
       "      dtype='object')"
      ]
     },
     "execution_count": 17,
     "metadata": {},
     "output_type": "execute_result"
    }
   ],
   "source": [
    "df_identity = df_identity.join(df_data.set_index('original_index'), on='original_index', lsuffix='true_')\n",
    "\n",
    "df_identity.columns"
   ]
  },
  {
   "cell_type": "markdown",
   "metadata": {},
   "source": [
    "    df_identity dataframe is now assigned with predict column, as shown on display below.\n",
    "    \n",
    "    arr_index is indexes array issued from previous sampling.\n",
    "    \n",
    "    Method isin(arr_index) allows to filter rows from df_identity that are in arr_index."
   ]
  },
  {
   "cell_type": "code",
   "execution_count": 18,
   "metadata": {},
   "outputs": [
    {
     "data": {
      "text/html": [
       "<div>\n",
       "<style scoped>\n",
       "    .dataframe tbody tr th:only-of-type {\n",
       "        vertical-align: middle;\n",
       "    }\n",
       "\n",
       "    .dataframe tbody tr th {\n",
       "        vertical-align: top;\n",
       "    }\n",
       "\n",
       "    .dataframe thead th {\n",
       "        text-align: right;\n",
       "    }\n",
       "</style>\n",
       "<table border=\"1\" class=\"dataframe\">\n",
       "  <thead>\n",
       "    <tr style=\"text-align: right;\">\n",
       "      <th></th>\n",
       "      <th>original_index</th>\n",
       "      <th>target</th>\n",
       "      <th>predict</th>\n",
       "    </tr>\n",
       "  </thead>\n",
       "  <tbody>\n",
       "    <tr>\n",
       "      <th>1760</th>\n",
       "      <td>862071</td>\n",
       "      <td>1</td>\n",
       "      <td>0.451386</td>\n",
       "    </tr>\n",
       "    <tr>\n",
       "      <th>2365</th>\n",
       "      <td>1011826</td>\n",
       "      <td>0</td>\n",
       "      <td>0.241476</td>\n",
       "    </tr>\n",
       "    <tr>\n",
       "      <th>5163</th>\n",
       "      <td>505249</td>\n",
       "      <td>1</td>\n",
       "      <td>0.971640</td>\n",
       "    </tr>\n",
       "  </tbody>\n",
       "</table>\n",
       "</div>"
      ],
      "text/plain": [
       "      original_index  target   predict\n",
       "1760          862071       1  0.451386\n",
       "2365         1011826       0  0.241476\n",
       "5163          505249       1  0.971640"
      ]
     },
     "execution_count": 18,
     "metadata": {},
     "output_type": "execute_result"
    }
   ],
   "source": [
    "df_identity[df_identity['original_index'].isin(arr_index)][['original_index','target','predict']]"
   ]
  },
  {
   "cell_type": "markdown",
   "metadata": {},
   "source": [
    "# <font color='blus'> 4.0 Bias metrics computation</font>"
   ]
  },
  {
   "cell_type": "code",
   "execution_count": 57,
   "metadata": {},
   "outputs": [
    {
     "data": {
      "text/plain": [
       "4990    0.0\n",
       "4522    0.1\n",
       "1356    0.0\n",
       "Name: male, dtype: float64"
      ]
     },
     "execution_count": 57,
     "metadata": {},
     "output_type": "execute_result"
    }
   ],
   "source": [
    "identity = 'male'\n",
    "df_identity[identity].dropna().sample(3)"
   ]
  },
  {
   "cell_type": "code",
   "execution_count": 59,
   "metadata": {},
   "outputs": [],
   "source": [
    "import numpy as np\n",
    "import p9_util_benchmark\n",
    "threshold = p9_util_benchmark.dict_param_benchmark['threshold']\n",
    "print(threshold)\n",
    "if False :\n",
    "    for identity in identity_columns :\n",
    "        df_identity[identity] = np.where(df_identity[identity] >= threshold, True, False)"
   ]
  },
  {
   "cell_type": "code",
   "execution_count": 24,
   "metadata": {},
   "outputs": [],
   "source": [
    "import p9_util_benchmark\n",
    "df_identity = p9_util_benchmark.convert_dataframe_to_bool(df_identity, \\\n",
    "                                                          dict_param_benchmark_= p9_util_benchmark.dict_param_benchmark)"
   ]
  },
  {
   "cell_type": "code",
   "execution_count": 27,
   "metadata": {},
   "outputs": [
    {
     "data": {
      "text/html": [
       "<div>\n",
       "<style scoped>\n",
       "    .dataframe tbody tr th:only-of-type {\n",
       "        vertical-align: middle;\n",
       "    }\n",
       "\n",
       "    .dataframe tbody tr th {\n",
       "        vertical-align: top;\n",
       "    }\n",
       "\n",
       "    .dataframe thead th {\n",
       "        text-align: right;\n",
       "    }\n",
       "</style>\n",
       "<table border=\"1\" class=\"dataframe\">\n",
       "  <thead>\n",
       "    <tr style=\"text-align: right;\">\n",
       "      <th></th>\n",
       "      <th>target</th>\n",
       "      <th>predict</th>\n",
       "    </tr>\n",
       "  </thead>\n",
       "  <tbody>\n",
       "    <tr>\n",
       "      <th>1946</th>\n",
       "      <td>False</td>\n",
       "      <td>0.001971</td>\n",
       "    </tr>\n",
       "    <tr>\n",
       "      <th>3702</th>\n",
       "      <td>True</td>\n",
       "      <td>0.997482</td>\n",
       "    </tr>\n",
       "    <tr>\n",
       "      <th>452</th>\n",
       "      <td>True</td>\n",
       "      <td>0.997713</td>\n",
       "    </tr>\n",
       "    <tr>\n",
       "      <th>2042</th>\n",
       "      <td>True</td>\n",
       "      <td>0.758967</td>\n",
       "    </tr>\n",
       "    <tr>\n",
       "      <th>5479</th>\n",
       "      <td>True</td>\n",
       "      <td>0.799551</td>\n",
       "    </tr>\n",
       "  </tbody>\n",
       "</table>\n",
       "</div>"
      ],
      "text/plain": [
       "      target   predict\n",
       "1946   False  0.001971\n",
       "3702    True  0.997482\n",
       "452     True  0.997713\n",
       "2042    True  0.758967\n",
       "5479    True  0.799551"
      ]
     },
     "execution_count": 27,
     "metadata": {},
     "output_type": "execute_result"
    }
   ],
   "source": [
    "df_identity[['target',MODEL_NAME]].sample(5)"
   ]
  },
  {
   "cell_type": "code",
   "execution_count": 28,
   "metadata": {},
   "outputs": [
    {
     "data": {
      "text/html": [
       "<div>\n",
       "<style scoped>\n",
       "    .dataframe tbody tr th:only-of-type {\n",
       "        vertical-align: middle;\n",
       "    }\n",
       "\n",
       "    .dataframe tbody tr th {\n",
       "        vertical-align: top;\n",
       "    }\n",
       "\n",
       "    .dataframe thead th {\n",
       "        text-align: right;\n",
       "    }\n",
       "</style>\n",
       "<table border=\"1\" class=\"dataframe\">\n",
       "  <thead>\n",
       "    <tr style=\"text-align: right;\">\n",
       "      <th></th>\n",
       "      <th>bnsp_auc</th>\n",
       "      <th>bpsn_auc</th>\n",
       "      <th>subgroup</th>\n",
       "      <th>subgroup_auc</th>\n",
       "      <th>subgroup_size</th>\n",
       "    </tr>\n",
       "  </thead>\n",
       "  <tbody>\n",
       "    <tr>\n",
       "      <th>6</th>\n",
       "      <td>0.940530</td>\n",
       "      <td>0.738215</td>\n",
       "      <td>black</td>\n",
       "      <td>0.733850</td>\n",
       "      <td>104</td>\n",
       "    </tr>\n",
       "    <tr>\n",
       "      <th>2</th>\n",
       "      <td>0.916269</td>\n",
       "      <td>0.826075</td>\n",
       "      <td>homosexual_gay_or_lesbian</td>\n",
       "      <td>0.762745</td>\n",
       "      <td>77</td>\n",
       "    </tr>\n",
       "    <tr>\n",
       "      <th>7</th>\n",
       "      <td>0.948426</td>\n",
       "      <td>0.791286</td>\n",
       "      <td>white</td>\n",
       "      <td>0.813370</td>\n",
       "      <td>179</td>\n",
       "    </tr>\n",
       "    <tr>\n",
       "      <th>5</th>\n",
       "      <td>0.933537</td>\n",
       "      <td>0.842963</td>\n",
       "      <td>muslim</td>\n",
       "      <td>0.852408</td>\n",
       "      <td>104</td>\n",
       "    </tr>\n",
       "    <tr>\n",
       "      <th>1</th>\n",
       "      <td>0.909863</td>\n",
       "      <td>0.905294</td>\n",
       "      <td>female</td>\n",
       "      <td>0.874957</td>\n",
       "      <td>219</td>\n",
       "    </tr>\n",
       "    <tr>\n",
       "      <th>0</th>\n",
       "      <td>0.933572</td>\n",
       "      <td>0.895041</td>\n",
       "      <td>male</td>\n",
       "      <td>0.893050</td>\n",
       "      <td>195</td>\n",
       "    </tr>\n",
       "    <tr>\n",
       "      <th>8</th>\n",
       "      <td>0.962199</td>\n",
       "      <td>0.823217</td>\n",
       "      <td>psychiatric_or_mental_illness</td>\n",
       "      <td>0.894737</td>\n",
       "      <td>24</td>\n",
       "    </tr>\n",
       "    <tr>\n",
       "      <th>3</th>\n",
       "      <td>0.913936</td>\n",
       "      <td>0.922058</td>\n",
       "      <td>christian</td>\n",
       "      <td>0.901708</td>\n",
       "      <td>150</td>\n",
       "    </tr>\n",
       "    <tr>\n",
       "      <th>4</th>\n",
       "      <td>0.943368</td>\n",
       "      <td>0.901461</td>\n",
       "      <td>jewish</td>\n",
       "      <td>0.913043</td>\n",
       "      <td>37</td>\n",
       "    </tr>\n",
       "  </tbody>\n",
       "</table>\n",
       "</div>"
      ],
      "text/plain": [
       "   bnsp_auc  bpsn_auc                       subgroup  subgroup_auc  \\\n",
       "6  0.940530  0.738215                          black      0.733850   \n",
       "2  0.916269  0.826075      homosexual_gay_or_lesbian      0.762745   \n",
       "7  0.948426  0.791286                          white      0.813370   \n",
       "5  0.933537  0.842963                         muslim      0.852408   \n",
       "1  0.909863  0.905294                         female      0.874957   \n",
       "0  0.933572  0.895041                           male      0.893050   \n",
       "8  0.962199  0.823217  psychiatric_or_mental_illness      0.894737   \n",
       "3  0.913936  0.922058                      christian      0.901708   \n",
       "4  0.943368  0.901461                         jewish      0.913043   \n",
       "\n",
       "   subgroup_size  \n",
       "6            104  \n",
       "2             77  \n",
       "7            179  \n",
       "5            104  \n",
       "1            219  \n",
       "0            195  \n",
       "8             24  \n",
       "3            150  \n",
       "4             37  "
      ]
     },
     "execution_count": 28,
     "metadata": {},
     "output_type": "execute_result"
    }
   ],
   "source": [
    "import p9_util_metrics\n",
    "import p9_util_benchmark\n",
    "\n",
    "MODEL_NAME='predict'\n",
    "TOXICITY_COLUMN = p9_util_benchmark.TOXICITY_COLUMN\n",
    "bias_metrics_df = p9_util_metrics.compute_bias_metrics_for_model(df_identity, identity_columns, \\\n",
    "                                                                 MODEL_NAME, TOXICITY_COLUMN)\n",
    "bias_metrics_df"
   ]
  },
  {
   "cell_type": "code",
   "execution_count": 29,
   "metadata": {},
   "outputs": [
    {
     "name": "stdout",
     "output_type": "stream",
     "text": [
      "Global AUC = 0.9312528859447909\n"
     ]
    }
   ],
   "source": [
    "overall_auc = p9_util_metrics.calculate_overall_auc(df_identity, MODEL_NAME, p9_util_metrics.TOXICITY_COLUMN)\n",
    "print(\"Global AUC = {}\".format(overall_auc))"
   ]
  },
  {
   "cell_type": "code",
   "execution_count": 73,
   "metadata": {},
   "outputs": [
    {
     "name": "stdout",
     "output_type": "stream",
     "text": [
      "Bias score contribution : 0.6508349364338419\n"
     ]
    },
    {
     "data": {
      "text/plain": [
       "0.8836481579200397"
      ]
     },
     "execution_count": 73,
     "metadata": {},
     "output_type": "execute_result"
    }
   ],
   "source": [
    "p9_util_metrics.get_final_metric(bias_metrics_df, overall_auc)"
   ]
  },
  {
   "cell_type": "code",
   "execution_count": 74,
   "metadata": {},
   "outputs": [
    {
     "data": {
      "text/plain": [
       "Index(['bnsp_auc', 'bpsn_auc', 'subgroup', 'subgroup_auc', 'subgroup_size'], dtype='object')"
      ]
     },
     "execution_count": 74,
     "metadata": {},
     "output_type": "execute_result"
    }
   ],
   "source": [
    "bias_metrics_df.columns"
   ]
  },
  {
   "cell_type": "code",
   "execution_count": 76,
   "metadata": {},
   "outputs": [],
   "source": [
    "bias_metrics_df_corr = bias_metrics_df[['bnsp_auc', 'bpsn_auc', 'subgroup_auc']].corr()"
   ]
  },
  {
   "cell_type": "code",
   "execution_count": 78,
   "metadata": {},
   "outputs": [
    {
     "data": {
      "text/html": [
       "<div>\n",
       "<style scoped>\n",
       "    .dataframe tbody tr th:only-of-type {\n",
       "        vertical-align: middle;\n",
       "    }\n",
       "\n",
       "    .dataframe tbody tr th {\n",
       "        vertical-align: top;\n",
       "    }\n",
       "\n",
       "    .dataframe thead th {\n",
       "        text-align: right;\n",
       "    }\n",
       "</style>\n",
       "<table border=\"1\" class=\"dataframe\">\n",
       "  <thead>\n",
       "    <tr style=\"text-align: right;\">\n",
       "      <th></th>\n",
       "      <th>bnsp_auc</th>\n",
       "      <th>bpsn_auc</th>\n",
       "      <th>subgroup_auc</th>\n",
       "    </tr>\n",
       "  </thead>\n",
       "  <tbody>\n",
       "    <tr>\n",
       "      <th>bnsp_auc</th>\n",
       "      <td>1.000000</td>\n",
       "      <td>-0.492924</td>\n",
       "      <td>0.049593</td>\n",
       "    </tr>\n",
       "    <tr>\n",
       "      <th>bpsn_auc</th>\n",
       "      <td>-0.492924</td>\n",
       "      <td>1.000000</td>\n",
       "      <td>0.825670</td>\n",
       "    </tr>\n",
       "    <tr>\n",
       "      <th>subgroup_auc</th>\n",
       "      <td>0.049593</td>\n",
       "      <td>0.825670</td>\n",
       "      <td>1.000000</td>\n",
       "    </tr>\n",
       "  </tbody>\n",
       "</table>\n",
       "</div>"
      ],
      "text/plain": [
       "              bnsp_auc  bpsn_auc  subgroup_auc\n",
       "bnsp_auc      1.000000 -0.492924      0.049593\n",
       "bpsn_auc     -0.492924  1.000000      0.825670\n",
       "subgroup_auc  0.049593  0.825670      1.000000"
      ]
     },
     "execution_count": 78,
     "metadata": {},
     "output_type": "execute_result"
    }
   ],
   "source": [
    "bias_metrics_df_corr"
   ]
  },
  {
   "cell_type": "code",
   "execution_count": 81,
   "metadata": {},
   "outputs": [
    {
     "data": {
      "image/png": "[encoded data removed]",
      "text/plain": [
       "<Figure size 432x288 with 2 Axes>"
      ]
     },
     "metadata": {
      "needs_background": "light"
     },
     "output_type": "display_data"
    }
   ],
   "source": [
    "import seaborn as sns\n",
    "_=sns.heatmap(bias_metrics_df.corr(), annot=True)"
   ]
  },
  {
   "cell_type": "code",
   "execution_count": null,
   "metadata": {},
   "outputs": [],
   "source": []
  },
  {
   "cell_type": "markdown",
   "metadata": {},
   "source": [
    "# <font color='blus'> 5.0 Binary classification performances</font>\n",
    "\n",
    "**If memory resources are too weak due to previous steps, the restart kernel and execute cell below.**"
   ]
  },
  {
   "cell_type": "code",
   "execution_count": 31,
   "metadata": {},
   "outputs": [
    {
     "data": {
      "text/plain": [
       "Index(['original_index', 'male', 'female', 'homosexual_gay_or_lesbian',\n",
       "       'christian', 'jewish', 'muslim', 'black', 'white',\n",
       "       'psychiatric_or_mental_illness', 'targettrue_', 'id', 'docs',\n",
       "       'counting', 'tokens', 'matrix_padded', 'target', 'predict'],\n",
       "      dtype='object')"
      ]
     },
     "execution_count": 31,
     "metadata": {},
     "output_type": "execute_result"
    }
   ],
   "source": [
    "df_identity.columns"
   ]
  },
  {
   "cell_type": "code",
   "execution_count": 37,
   "metadata": {},
   "outputs": [],
   "source": [
    "import p9_util_benchmark\n",
    "threshold = p9_util_benchmark.dict_param_benchmark['threshold']\n",
    "\n",
    "df_identity['bin_predict'] = np.where(df_identity['predict'] >= threshold, 1, 0)"
   ]
  },
  {
   "cell_type": "code",
   "execution_count": 64,
   "metadata": {},
   "outputs": [
    {
     "data": {
      "text/html": [
       "<div>\n",
       "<style scoped>\n",
       "    .dataframe tbody tr th:only-of-type {\n",
       "        vertical-align: middle;\n",
       "    }\n",
       "\n",
       "    .dataframe tbody tr th {\n",
       "        vertical-align: top;\n",
       "    }\n",
       "\n",
       "    .dataframe thead th {\n",
       "        text-align: right;\n",
       "    }\n",
       "</style>\n",
       "<table border=\"1\" class=\"dataframe\">\n",
       "  <thead>\n",
       "    <tr style=\"text-align: right;\">\n",
       "      <th></th>\n",
       "      <th>target</th>\n",
       "      <th>predict</th>\n",
       "    </tr>\n",
       "  </thead>\n",
       "  <tbody>\n",
       "    <tr>\n",
       "      <th>4917</th>\n",
       "      <td>False</td>\n",
       "      <td>0.001367</td>\n",
       "    </tr>\n",
       "    <tr>\n",
       "      <th>2821</th>\n",
       "      <td>True</td>\n",
       "      <td>0.758281</td>\n",
       "    </tr>\n",
       "    <tr>\n",
       "      <th>2247</th>\n",
       "      <td>False</td>\n",
       "      <td>0.012666</td>\n",
       "    </tr>\n",
       "    <tr>\n",
       "      <th>216</th>\n",
       "      <td>True</td>\n",
       "      <td>0.882552</td>\n",
       "    </tr>\n",
       "    <tr>\n",
       "      <th>1312</th>\n",
       "      <td>False</td>\n",
       "      <td>0.001180</td>\n",
       "    </tr>\n",
       "  </tbody>\n",
       "</table>\n",
       "</div>"
      ],
      "text/plain": [
       "      target   predict\n",
       "4917   False  0.001367\n",
       "2821    True  0.758281\n",
       "2247   False  0.012666\n",
       "216     True  0.882552\n",
       "1312   False  0.001180"
      ]
     },
     "execution_count": 64,
     "metadata": {},
     "output_type": "execute_result"
    }
   ],
   "source": [
    "df_identity[['target','predict']].sample(5)"
   ]
  },
  {
   "cell_type": "code",
   "execution_count": 68,
   "metadata": {},
   "outputs": [
    {
     "name": "stdout",
     "output_type": "stream",
     "text": [
      "Normalized confusion matrix\n",
      "[[0.85805831 0.14194169]\n",
      " [0.13476902 0.86523098]]\n"
     ]
    },
    {
     "data": {
      "image/png": "[encoded data removed]",
      "text/plain": [
       "<Figure size 576x576 with 2 Axes>"
      ]
     },
     "metadata": {
      "needs_background": "light"
     },
     "output_type": "display_data"
    }
   ],
   "source": [
    "import matplotlib.pyplot as plt\n",
    "from  sklearn import metrics \n",
    "import p4_util\n",
    "\n",
    "list_classes = [label for label in range(0,2)]\n",
    "# confusion_matrix\n",
    "title=\"Submission model\"\n",
    "cm = metrics.confusion_matrix(df_identity.target, df_identity.bin_predict)\n",
    "p4_util.plot_confusion_matrix(cm, list_classes,\n",
    "                          normalize=True,\n",
    "                          title=title,\n",
    "                          cmap=plt.cm.Blues)\n",
    "if False :\n",
    "    p4_util.plot_confusion_matrix(cm, list_classes,\n",
    "                              normalize=False,\n",
    "                              title=title,\n",
    "                              cmap=plt.cm.Blues)\n"
   ]
  },
  {
   "cell_type": "code",
   "execution_count": 70,
   "metadata": {},
   "outputs": [
    {
     "name": "stdout",
     "output_type": "stream",
     "text": [
      "AUC = 0.9312528859447909\n"
     ]
    },
    {
     "data": {
      "image/png": "[encoded data removed]",
      "text/plain": [
       "<Figure size 432x432 with 1 Axes>"
      ]
     },
     "metadata": {
      "needs_background": "light"
     },
     "output_type": "display_data"
    }
   ],
   "source": [
    "from  sklearn import metrics \n",
    "\n",
    "fpr, tpr, thr = metrics.roc_curve(df_identity.target, df_identity.predict)\n",
    "auc = metrics.roc_auc_score(df_identity.target, df_identity.predict)\n",
    "print(\"AUC = {}\".format(auc))\n",
    "fig = plt.figure(figsize=(6, 6))\n",
    "\n",
    "# afficher la courbe ROC\n",
    "plt.plot(fpr, tpr, '-', lw=2, label='11 classes AUC=%.2f' % auc)\n",
    "plt.xlabel(\"False positive rate\")\n",
    "plt.ylabel(\"True positive rate\")\n",
    "plt.title(\"SUBMISSION MODEL : AUC = {}\".format(np.round(auc,2)))\n",
    "plt.show()"
   ]
  }
 ],
 "metadata": {
  "kernelspec": {
   "display_name": "Python 3",
   "language": "python",
   "name": "python3"
  },
  "language_info": {
   "codemirror_mode": {
    "name": "ipython",
    "version": 3
   },
   "file_extension": ".py",
   "mimetype": "text/x-python",
   "name": "python",
   "nbconvert_exporter": "python",
   "pygments_lexer": "ipython3",
   "version": "3.6.8"
  }
 },
 "nbformat": 4,
 "nbformat_minor": 2
}
