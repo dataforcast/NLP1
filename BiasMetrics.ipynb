{
 "cells": [
  {
   "cell_type": "markdown",
   "metadata": {},
   "source": [
    "# <font color=blus>Table of contents</font>"
   ]
  },
  {
   "cell_type": "code",
   "execution_count": 1,
   "metadata": {},
   "outputs": [
    {
     "data": {
      "text/html": [
       "<b>Result issued from biais metrics</b>\n",
       "<div id=\"my_id_menu_nb\">run previous cell, wait for 2 seconds</div>\n",
       "<script>\n",
       "function repeat_indent_string(n){\n",
       "    var a = \"\" ;\n",
       "    for ( ; n > 0 ; --n)\n",
       "        a += \"    \";\n",
       "    return a;\n",
       "}\n",
       "// look up into all sections and builds an automated menu //\n",
       "var update_menu_string = function(begin, lfirst, llast, sformat, send, keep_item, begin_format, end_format) {\n",
       "    var anchors = document.getElementsByClassName(\"section\");\n",
       "    if (anchors.length == 0) {\n",
       "        anchors = document.getElementsByClassName(\"text_cell_render rendered_html\");\n",
       "    }\n",
       "    var i,t;\n",
       "    var text_menu = begin;\n",
       "    var text_memo = \"<pre>\\nlength:\" + anchors.length + \"\\n\";\n",
       "    var ind = \"\";\n",
       "    var memo_level = 1;\n",
       "    var href;\n",
       "    var tags = [];\n",
       "    var main_item = 0;\n",
       "    var format_open = 0;\n",
       "    for (i = 0; i <= llast; i++)\n",
       "        tags.push(\"h\" + i);\n",
       "\n",
       "    for (i = 0; i < anchors.length; i++) {\n",
       "        text_memo += \"**\" + anchors[i].id + \"--\\n\";\n",
       "\n",
       "        var child = null;\n",
       "        for(t = 0; t < tags.length; t++) {\n",
       "            var r = anchors[i].getElementsByTagName(tags[t]);\n",
       "            if (r.length > 0) {\n",
       "child = r[0];\n",
       "break;\n",
       "            }\n",
       "        }\n",
       "        if (child == null) {\n",
       "            text_memo += \"null\\n\";\n",
       "            continue;\n",
       "        }\n",
       "        if (anchors[i].hasAttribute(\"id\")) {\n",
       "            // when converted in RST\n",
       "            href = anchors[i].id;\n",
       "            text_memo += \"#1-\" + href;\n",
       "            // passer à child suivant (le chercher)\n",
       "        }\n",
       "        else if (child.hasAttribute(\"id\")) {\n",
       "            // in a notebook\n",
       "            href = child.id;\n",
       "            text_memo += \"#2-\" + href;\n",
       "        }\n",
       "        else {\n",
       "            text_memo += \"#3-\" + \"*\" + \"\\n\";\n",
       "            continue;\n",
       "        }\n",
       "        var title = child.textContent;\n",
       "        var level = parseInt(child.tagName.substring(1,2));\n",
       "\n",
       "        text_memo += \"--\" + level + \"?\" + lfirst + \"--\" + title + \"\\n\";\n",
       "\n",
       "        if ((level < lfirst) || (level > llast)) {\n",
       "            continue ;\n",
       "        }\n",
       "        if (title.endsWith('¶')) {\n",
       "            title = title.substring(0,title.length-1).replace(\"<\", \"&lt;\")\n",
       "         .replace(\">\", \"&gt;\").replace(\"&\", \"&amp;\");\n",
       "        }\n",
       "        if (title.length == 0) {\n",
       "            continue;\n",
       "        }\n",
       "\n",
       "        while (level < memo_level) {\n",
       "            text_menu += end_format + \"</ul>\\n\";\n",
       "            format_open -= 1;\n",
       "            memo_level -= 1;\n",
       "        }\n",
       "        if (level == lfirst) {\n",
       "            main_item += 1;\n",
       "        }\n",
       "        if (keep_item != -1 && main_item != keep_item + 1) {\n",
       "            // alert(main_item + \" - \" + level + \" - \" + keep_item);\n",
       "            continue;\n",
       "        }\n",
       "        while (level > memo_level) {\n",
       "            text_menu += \"<ul>\\n\";\n",
       "            memo_level += 1;\n",
       "        }\n",
       "        text_menu += repeat_indent_string(level-2);\n",
       "        text_menu += begin_format + sformat.replace(\"__HREF__\", href).replace(\"__TITLE__\", title);\n",
       "        format_open += 1;\n",
       "    }\n",
       "    while (1 < memo_level) {\n",
       "        text_menu += end_format + \"</ul>\\n\";\n",
       "        memo_level -= 1;\n",
       "        format_open -= 1;\n",
       "    }\n",
       "    text_menu += send;\n",
       "    //text_menu += \"\\n\" + text_memo;\n",
       "\n",
       "    while (format_open > 0) {\n",
       "        text_menu += end_format;\n",
       "        format_open -= 1;\n",
       "    }\n",
       "    return text_menu;\n",
       "};\n",
       "var update_menu = function() {\n",
       "    var sbegin = \"\";\n",
       "    var sformat = '<a href=\"#__HREF__\">__TITLE__</a>';\n",
       "    var send = \"\";\n",
       "    var begin_format = '<li>';\n",
       "    var end_format = '</li>';\n",
       "    var keep_item = -1;\n",
       "    var text_menu = update_menu_string(sbegin, 1, 4, sformat, send, keep_item,\n",
       "       begin_format, end_format);\n",
       "    var menu = document.getElementById(\"my_id_menu_nb\");\n",
       "    menu.innerHTML=text_menu;\n",
       "};\n",
       "window.setTimeout(update_menu,2000);\n",
       "            </script>"
      ],
      "text/plain": [
       "<IPython.core.display.HTML object>"
      ]
     },
     "execution_count": 1,
     "metadata": {},
     "output_type": "execute_result"
    }
   ],
   "source": [
    "from jyquickhelper import add_notebook_menu\n",
    "add_notebook_menu(first_level=1, last_level=4, header=\"Result issued from biais metrics\")"
   ]
  },
  {
   "cell_type": "markdown",
   "metadata": {},
   "source": [
    "# <font color=blus> Abstract</font>\n",
    "\n",
    "    This notebook aims to expose biais preformances over CNN model built from notebook CNN_BinaryClassifier.\n",
    "    \n",
    "    1) Input data for validation is loaded. This data is issued from DataPreparator notebook.\n",
    "    \n",
    "    2) Model issued from CNN_binaryClassifier notebook is loaded and predictions are computed over validation dataset.\n",
    "    \n",
    "    3) Bias performance is computed using formula provided into kaggle Jigsaw https://www.kaggle.com/c/jigsaw-unintended-bias-in-toxicity-classification/overview/evaluation\n",
    "    "
   ]
  },
  {
   "cell_type": "markdown",
   "metadata": {},
   "source": [
    "# <font color=blus> Software engineering</font>\n",
    "<img src=\"./img/SoftwareEngineeringBiasMetrics.png\">"
   ]
  },
  {
   "cell_type": "code",
   "execution_count": 1,
   "metadata": {},
   "outputs": [],
   "source": [
    "from sklearn import metrics\n",
    "%matplotlib inline\n",
    "\n",
    "%load_ext autoreload\n",
    "%autoreload 2\n",
    "\n",
    "import warnings\n",
    "warnings.filterwarnings('ignore')"
   ]
  },
  {
   "cell_type": "code",
   "execution_count": 4,
   "metadata": {},
   "outputs": [],
   "source": [
    "import p9_util\n",
    "\n",
    "TOXICITY_COLUMN = p9_util.COLUMN_NAME_TARGET\n",
    "TEXT_COLUMN = p9_util.COLUMN_NAME_DOC\n",
    "\n",
    "# Create a text tokenizer.\n",
    "#tokenizer = Tokenizer(num_words=MAX_NUM_WORDS)\n",
    "#tokenizer.fit_on_texts(train_df[TEXT_COLUMN])\n",
    "\n",
    "# All comments must be truncated or padded to be the same length.\n",
    "MAX_SEQUENCE_LENGTH = 250\n",
    "MODEL_NAME='predict'\n",
    "\n",
    "# List all identities\n",
    "identity_columns = [\n",
    "    'male', 'female', 'homosexual_gay_or_lesbian', 'christian', 'jewish',\n",
    "    'muslim', 'black', 'white', 'psychiatric_or_mental_illness']\n"
   ]
  },
  {
   "cell_type": "markdown",
   "metadata": {},
   "source": [
    "# <font color=blus> 1. Loading dataset</font>"
   ]
  },
  {
   "cell_type": "markdown",
   "metadata": {},
   "source": [
    "    Dataset is extrcated from DataPreparator object for validation.\n",
    "    Such object contains \n",
    "         * parameters used for building DataPreparator object\n",
    "         * list of files saved on hard-disk for data validation.\n",
    "         \n",
    "     See DataPreparator.ipynb noteboo, for more details."
   ]
  },
  {
   "cell_type": "markdown",
   "metadata": {},
   "source": [
    "## <font color='blus'> 1.1 Load `DataPreparator` for validation</font>"
   ]
  },
  {
   "cell_type": "code",
   "execution_count": 7,
   "metadata": {},
   "outputs": [
    {
     "name": "stdout",
     "output_type": "stream",
     "text": [
      "p5_util.object_load : fileName= ./data/dataPreparator_valid_12000.dill\n"
     ]
    }
   ],
   "source": [
    "import p5_util\n",
    "filename = \"./data/dataPreparator_valid_12000.dill\"\n",
    "if True:\n",
    "    dataprep = p5_util.object_load(filename)\n",
    "else :\n",
    "    p5_util.object_dump(dataprep,filename)\n",
    "self = dataprep\n"
   ]
  },
  {
   "cell_type": "code",
   "execution_count": 8,
   "metadata": {},
   "outputs": [
    {
     "data": {
      "text/plain": [
       "['./data/df_dataprep_matrix_32.dill',\n",
       " './data/df_dataprep_matrix_82.dill',\n",
       " './data/df_dataprep_matrix_57.dill',\n",
       " './data/df_dataprep_matrix_122.dill',\n",
       " './data/df_dataprep_matrix_118.dill',\n",
       " './data/df_dataprep_matrix_86.dill',\n",
       " './data/df_dataprep_matrix_66.dill',\n",
       " './data/df_dataprep_matrix_52.dill',\n",
       " './data/df_dataprep_matrix_30.dill',\n",
       " './data/df_dataprep_matrix_79.dill',\n",
       " './data/df_dataprep_matrix_36.dill',\n",
       " './data/df_dataprep_matrix_109.dill']"
      ]
     },
     "execution_count": 8,
     "metadata": {},
     "output_type": "execute_result"
    }
   ],
   "source": [
    "self.list_df_data_file"
   ]
  },
  {
   "cell_type": "markdown",
   "metadata": {},
   "source": [
    "    Once a file is loaded as a dataframe then original index column is added.\n",
    "    \n",
    "    This operation allows to join columns from original dataframe with \n",
    "    the dataframe columns issued from CNN model computation.\n",
    "    "
   ]
  },
  {
   "cell_type": "code",
   "execution_count": 9,
   "metadata": {},
   "outputs": [
    {
     "name": "stdout",
     "output_type": "stream",
     "text": [
      "p5_util.object_load : fileName= ./data/df_dataprep_matrix_32.dill\n",
      "p5_util.object_load : fileName= ./data/df_dataprep_matrix_82.dill\n",
      "p5_util.object_load : fileName= ./data/df_dataprep_matrix_57.dill\n",
      "p5_util.object_load : fileName= ./data/df_dataprep_matrix_122.dill\n",
      "p5_util.object_load : fileName= ./data/df_dataprep_matrix_118.dill\n",
      "p5_util.object_load : fileName= ./data/df_dataprep_matrix_86.dill\n",
      "p5_util.object_load : fileName= ./data/df_dataprep_matrix_66.dill\n",
      "p5_util.object_load : fileName= ./data/df_dataprep_matrix_52.dill\n",
      "p5_util.object_load : fileName= ./data/df_dataprep_matrix_30.dill\n",
      "p5_util.object_load : fileName= ./data/df_dataprep_matrix_79.dill\n",
      "p5_util.object_load : fileName= ./data/df_dataprep_matrix_36.dill\n",
      "p5_util.object_load : fileName= ./data/df_dataprep_matrix_109.dill\n"
     ]
    },
    {
     "data": {
      "text/html": [
       "<div>\n",
       "<style scoped>\n",
       "    .dataframe tbody tr th:only-of-type {\n",
       "        vertical-align: middle;\n",
       "    }\n",
       "\n",
       "    .dataframe tbody tr th {\n",
       "        vertical-align: top;\n",
       "    }\n",
       "\n",
       "    .dataframe thead th {\n",
       "        text-align: right;\n",
       "    }\n",
       "</style>\n",
       "<table border=\"1\" class=\"dataframe\">\n",
       "  <thead>\n",
       "    <tr style=\"text-align: right;\">\n",
       "      <th></th>\n",
       "      <th>original_index</th>\n",
       "      <th>docs</th>\n",
       "      <th>counting</th>\n",
       "      <th>tokens</th>\n",
       "      <th>matrix_padded</th>\n",
       "      <th>target</th>\n",
       "    </tr>\n",
       "  </thead>\n",
       "  <tbody>\n",
       "    <tr>\n",
       "      <th>4046</th>\n",
       "      <td>587720</td>\n",
       "      <td>as long as the liberal media persist in charac...</td>\n",
       "      <td>11</td>\n",
       "      <td>[long, liberal, medium, persist, characterize,...</td>\n",
       "      <td>[[0.28088000416755676, 0.21333999931812286, -0...</td>\n",
       "      <td>1</td>\n",
       "    </tr>\n",
       "    <tr>\n",
       "      <th>11401</th>\n",
       "      <td>1527293</td>\n",
       "      <td>someone was a big stupid, lol here.  the only ...</td>\n",
       "      <td>18</td>\n",
       "      <td>[big, stupid, lol, way, bad, possible, weapon,...</td>\n",
       "      <td>[[-0.3789899945259094, 0.04135200008749962, -0...</td>\n",
       "      <td>1</td>\n",
       "    </tr>\n",
       "    <tr>\n",
       "      <th>7544</th>\n",
       "      <td>1107866</td>\n",
       "      <td>and the suzuki foundation, sierra club, wwf,etc.</td>\n",
       "      <td>6</td>\n",
       "      <td>[suzuki, foundation, sierra, club, wwf, etc]</td>\n",
       "      <td>[[0.6290900111198425, 0.7502400279045105, -0.3...</td>\n",
       "      <td>0</td>\n",
       "    </tr>\n",
       "  </tbody>\n",
       "</table>\n",
       "</div>"
      ],
      "text/plain": [
       "       original_index                                               docs  \\\n",
       "4046           587720  as long as the liberal media persist in charac...   \n",
       "11401         1527293  someone was a big stupid, lol here.  the only ...   \n",
       "7544          1107866   and the suzuki foundation, sierra club, wwf,etc.   \n",
       "\n",
       "       counting                                             tokens  \\\n",
       "4046         11  [long, liberal, medium, persist, characterize,...   \n",
       "11401        18  [big, stupid, lol, way, bad, possible, weapon,...   \n",
       "7544          6       [suzuki, foundation, sierra, club, wwf, etc]   \n",
       "\n",
       "                                           matrix_padded  target  \n",
       "4046   [[0.28088000416755676, 0.21333999931812286, -0...       1  \n",
       "11401  [[-0.3789899945259094, 0.04135200008749962, -0...       1  \n",
       "7544   [[0.6290900111198425, 0.7502400279045105, -0.3...       0  "
      ]
     },
     "execution_count": 9,
     "metadata": {},
     "output_type": "execute_result"
    }
   ],
   "source": [
    "import pandas as pd\n",
    "import p5_util\n",
    "\n",
    "filename = self.list_df_data_file[0]\n",
    "max_row = 20000\n",
    "start_row = 0\n",
    "self.df_data = pd.DataFrame()\n",
    "for filename in self.list_df_data_file :\n",
    "    \n",
    "    df_data = p5_util.object_load(filename)\n",
    "    end_row = start_row +len(df_data)\n",
    "    \n",
    "    if end_row > max_row :\n",
    "        break\n",
    "    else :\n",
    "        self.df_data = pd.concat([self.df_data,df_data])\n",
    "        start_row = end_row\n",
    "    \n",
    "self.df_data.reset_index(inplace=True)\n",
    "self.df_data.rename(columns={'index':'original_index'}, inplace=True)\n",
    "self.df_data.sample(3)"
   ]
  },
  {
   "cell_type": "markdown",
   "metadata": {},
   "source": [
    "# <font color='blus'>2. Process to predictions</font>"
   ]
  },
  {
   "cell_type": "markdown",
   "metadata": {},
   "source": [
    "## <font color='blus'> 2.1. Loading CNN model</font>"
   ]
  },
  {
   "cell_type": "code",
   "execution_count": 10,
   "metadata": {},
   "outputs": [
    {
     "name": "stderr",
     "output_type": "stream",
     "text": [
      "W1027 11:48:16.266034 139965166282560 deprecation_wrapper.py:119] From /home/bangui/anaconda3/envs/python36/lib/python3.6/site-packages/keras/backend/tensorflow_backend.py:517: The name tf.placeholder is deprecated. Please use tf.compat.v1.placeholder instead.\n",
      "\n",
      "W1027 11:48:16.382707 139965166282560 deprecation_wrapper.py:119] From /home/bangui/anaconda3/envs/python36/lib/python3.6/site-packages/keras/backend/tensorflow_backend.py:131: The name tf.get_default_graph is deprecated. Please use tf.compat.v1.get_default_graph instead.\n",
      "\n",
      "W1027 11:48:16.384162 139965166282560 deprecation_wrapper.py:119] From /home/bangui/anaconda3/envs/python36/lib/python3.6/site-packages/keras/backend/tensorflow_backend.py:133: The name tf.placeholder_with_default is deprecated. Please use tf.compat.v1.placeholder_with_default instead.\n",
      "\n",
      "W1027 11:48:16.410959 139965166282560 deprecation_wrapper.py:119] From /home/bangui/anaconda3/envs/python36/lib/python3.6/site-packages/keras/backend/tensorflow_backend.py:4138: The name tf.random_uniform is deprecated. Please use tf.random.uniform instead.\n",
      "\n",
      "W1027 11:48:16.453629 139965166282560 deprecation_wrapper.py:119] From /home/bangui/anaconda3/envs/python36/lib/python3.6/site-packages/keras/backend/tensorflow_backend.py:3976: The name tf.nn.max_pool is deprecated. Please use tf.nn.max_pool2d instead.\n",
      "\n",
      "W1027 11:48:16.912305 139965166282560 deprecation.py:506] From /home/bangui/anaconda3/envs/python36/lib/python3.6/site-packages/keras/backend/tensorflow_backend.py:3445: calling dropout (from tensorflow.python.ops.nn_ops) with keep_prob is deprecated and will be removed in a future version.\n",
      "Instructions for updating:\n",
      "Please use `rate` instead of `keep_prob`. Rate should be set to `rate = 1 - keep_prob`.\n",
      "W1027 11:48:17.055202 139965166282560 deprecation_wrapper.py:119] From /home/bangui/anaconda3/envs/python36/lib/python3.6/site-packages/keras/backend/tensorflow_backend.py:174: The name tf.get_default_session is deprecated. Please use tf.compat.v1.get_default_session instead.\n",
      "\n",
      "W1027 11:48:17.627854 139965166282560 deprecation_wrapper.py:119] From /home/bangui/anaconda3/envs/python36/lib/python3.6/site-packages/keras/optimizers.py:790: The name tf.train.Optimizer is deprecated. Please use tf.compat.v1.train.Optimizer instead.\n",
      "\n",
      "W1027 11:48:17.635168 139965166282560 deprecation.py:323] From /home/bangui/anaconda3/envs/python36/lib/python3.6/site-packages/tensorflow/python/ops/nn_impl.py:180: add_dispatch_support.<locals>.wrapper (from tensorflow.python.ops.array_ops) is deprecated and will be removed in a future version.\n",
      "Instructions for updating:\n",
      "Use tf.where in 2.0, which has the same broadcast rule as np.where\n"
     ]
    },
    {
     "name": "stdout",
     "output_type": "stream",
     "text": [
      "_________________________________________________________________\n",
      "Layer (type)                 Output Shape              Param #   \n",
      "=================================================================\n",
      "input_2 (InputLayer)         (None, 100, 300)          0         \n",
      "_________________________________________________________________\n",
      "batch_normalization_5 (Batch (None, 100, 300)          1200      \n",
      "_________________________________________________________________\n",
      "conv1d_4 (Conv1D)            (None, 100, 256)          153856    \n",
      "_________________________________________________________________\n",
      "max_pooling1d_4 (MaxPooling1 (None, 20, 256)           0         \n",
      "_________________________________________________________________\n",
      "batch_normalization_6 (Batch (None, 20, 256)           1024      \n",
      "_________________________________________________________________\n",
      "conv1d_5 (Conv1D)            (None, 20, 256)           196864    \n",
      "_________________________________________________________________\n",
      "max_pooling1d_5 (MaxPooling1 (None, 4, 256)            0         \n",
      "_________________________________________________________________\n",
      "batch_normalization_7 (Batch (None, 4, 256)            1024      \n",
      "_________________________________________________________________\n",
      "conv1d_6 (Conv1D)            (None, 4, 256)            262400    \n",
      "_________________________________________________________________\n",
      "max_pooling1d_6 (MaxPooling1 (None, 2, 256)            0         \n",
      "_________________________________________________________________\n",
      "flatten_2 (Flatten)          (None, 512)               0         \n",
      "_________________________________________________________________\n",
      "batch_normalization_8 (Batch (None, 512)               2048      \n",
      "_________________________________________________________________\n",
      "dropout_2 (Dropout)          (None, 512)               0         \n",
      "_________________________________________________________________\n",
      "dense_3 (Dense)              (None, 128)               65664     \n",
      "_________________________________________________________________\n",
      "dense_4 (Dense)              (None, 2)                 258       \n",
      "=================================================================\n",
      "Total params: 684,338\n",
      "Trainable params: 681,690\n",
      "Non-trainable params: 2,648\n",
      "_________________________________________________________________\n"
     ]
    }
   ],
   "source": [
    "import keras\n",
    "\n",
    "filename_model = './data/benchmark/model_jigsaw_submission_sample129651_threshold0.5_best_save.h5'\n",
    "model = keras.models.load_model(filename_model)\n",
    "\n",
    "model.summary()"
   ]
  },
  {
   "cell_type": "markdown",
   "metadata": {},
   "source": [
    "    Make input data to be compliant for CNN model prediction."
   ]
  },
  {
   "cell_type": "code",
   "execution_count": 12,
   "metadata": {},
   "outputs": [],
   "source": [
    "import numpy as np\n",
    "\n",
    "X = self.df_data.matrix_padded\n",
    "#-----------------------------------------------------------------------\n",
    "# Prepare input data in order to feed model prediction function : \n",
    "#    * Complete tuple of dimensions, out of 1st dimension.\n",
    "#    * Compute shape for data feeding predictor.\n",
    "#    * Initialize array with shape previously computed\n",
    "#    * Transfer data into input\n",
    "#-----------------------------------------------------------------------\n",
    "list_tuple = list()\n",
    "list_tuple.append(len(X))\n",
    "for shape in X.iloc[0].shape:\n",
    "    list_tuple.append(shape)\n",
    "\n",
    "input_shape = tuple(i for i in list_tuple)\n",
    "x_input = np.zeros(input_shape)\n",
    "\n",
    "for item in range(len(X)):\n",
    "    x_input[item]= X.values[item].copy()\n",
    "input_model = x_input.copy()"
   ]
  },
  {
   "cell_type": "markdown",
   "metadata": {},
   "source": [
    "    Make predictions and convert them into binary values."
   ]
  },
  {
   "cell_type": "code",
   "execution_count": 16,
   "metadata": {},
   "outputs": [],
   "source": [
    "self.df_data['predict'] = model.predict(input_model)[:,1]"
   ]
  },
  {
   "cell_type": "code",
   "execution_count": 18,
   "metadata": {},
   "outputs": [
    {
     "name": "stderr",
     "output_type": "stream",
     "text": [
      "/home/bangui/anaconda3/envs/python36/lib/python3.6/site-packages/sklearn/preprocessing/_encoders.py:415: FutureWarning: The handling of integer data will change in version 0.22. Currently, the categories are determined based on the range [0, max(values)], while in the future they will be determined based on the unique values.\n",
      "If you want the future behaviour and silence this warning, you can specify \"categories='auto'\".\n",
      "In case you used a LabelEncoder before this OneHotEncoder to convert the categories to integers, then you can now use the OneHotEncoder directly.\n",
      "  warnings.warn(msg, FutureWarning)\n"
     ]
    }
   ],
   "source": [
    "import p9_util\n",
    "self.df_data['predict'] = p9_util.convert_vectorFloat_2_binaryLabel(self.df_data['predict'].values, threshold=0.5, direction = 1, \\\n",
    "decimal_count = 1)"
   ]
  },
  {
   "cell_type": "markdown",
   "metadata": {},
   "source": [
    "## <font color='blus'> 2.2 Load original dataset into df_train dataframe.</font>"
   ]
  },
  {
   "cell_type": "code",
   "execution_count": 1,
   "metadata": {},
   "outputs": [],
   "source": [
    "import pandas as pd\n",
    "import p5_util\n",
    "df_train = pd.read_csv('./data/train.csv.zip', compression='zip', header=0, sep=',', quotechar='\"')"
   ]
  },
  {
   "cell_type": "markdown",
   "metadata": {},
   "source": [
    "### <font color='blus'>2.2.1. Build of df_identity dataframe.</font>"
   ]
  },
  {
   "cell_type": "markdown",
   "metadata": {},
   "source": [
    "    For bias evaluation, df_identity dataframe is built from original dataframe.\n",
    "    \n",
    "    Columns from df_identity dataframe are required.\n",
    "    \n",
    "    Due to this, a join process between dataframe issued from CNN computation and df_identity \n",
    "    dataframe takes place."
   ]
  },
  {
   "cell_type": "code",
   "execution_count": 20,
   "metadata": {
    "scrolled": true
   },
   "outputs": [
    {
     "data": {
      "text/plain": [
       "['male',\n",
       " 'female',\n",
       " 'homosexual_gay_or_lesbian',\n",
       " 'christian',\n",
       " 'jewish',\n",
       " 'muslim',\n",
       " 'black',\n",
       " 'white',\n",
       " 'psychiatric_or_mental_illness',\n",
       " 'target',\n",
       " 'id']"
      ]
     },
     "execution_count": 20,
     "metadata": {},
     "output_type": "execute_result"
    }
   ],
   "source": [
    "identity_columns+['target','id']"
   ]
  },
  {
   "cell_type": "code",
   "execution_count": 22,
   "metadata": {},
   "outputs": [
    {
     "name": "stdout",
     "output_type": "stream",
     "text": [
      "Index(['original_index', 'male', 'female', 'homosexual_gay_or_lesbian',\n",
      "       'christian', 'jewish', 'muslim', 'black', 'white',\n",
      "       'psychiatric_or_mental_illness', 'target', 'id'],\n",
      "      dtype='object')\n"
     ]
    }
   ],
   "source": [
    "#----------------------------------------------------------------------------\n",
    "# Filter rows from original dataset with original indexes stored into \n",
    "# self.df_data\n",
    "#----------------------------------------------------------------------------\n",
    "filtered_index = self.df_data[p9_util.COLUMN_NAME_INDEX]\n",
    "\n",
    "#----------------------------------------------------------------------------\n",
    "# Apply filtered_index indexes over columns of df_indetity dataframe.\n",
    "#----------------------------------------------------------------------------\n",
    "df_identity = df_train.loc[filtered_index.values][identity_columns+['target','id']]\n",
    "\n",
    "#----------------------------------------------------------------------------\n",
    "# Reset indexes of df_identity dataframe;  new index column is renamed \n",
    "# original_index.\n",
    "#----------------------------------------------------------------------------\n",
    "df_identity.reset_index(inplace=True)\n",
    "\n",
    "\n",
    "df_identity.rename(columns={'index':'original_index'}, inplace=True)\n",
    "print(df_identity.columns)"
   ]
  },
  {
   "cell_type": "markdown",
   "metadata": {},
   "source": [
    "    Save memory"
   ]
  },
  {
   "cell_type": "code",
   "execution_count": 37,
   "metadata": {},
   "outputs": [],
   "source": [
    "del(df_train)"
   ]
  },
  {
   "cell_type": "markdown",
   "metadata": {},
   "source": [
    "    Get 3 randoms rows from df_identity dataframe and let's check corresponding columns values\n",
    "    do match with original dataset (df_train is the original dataset).\n",
    "    \n",
    "    Visual check is applied on columns id values for each dataframe."
   ]
  },
  {
   "cell_type": "code",
   "execution_count": 23,
   "metadata": {},
   "outputs": [
    {
     "data": {
      "text/html": [
       "<div>\n",
       "<style scoped>\n",
       "    .dataframe tbody tr th:only-of-type {\n",
       "        vertical-align: middle;\n",
       "    }\n",
       "\n",
       "    .dataframe tbody tr th {\n",
       "        vertical-align: top;\n",
       "    }\n",
       "\n",
       "    .dataframe thead th {\n",
       "        text-align: right;\n",
       "    }\n",
       "</style>\n",
       "<table border=\"1\" class=\"dataframe\">\n",
       "  <thead>\n",
       "    <tr style=\"text-align: right;\">\n",
       "      <th></th>\n",
       "      <th>original_index</th>\n",
       "      <th>male</th>\n",
       "      <th>female</th>\n",
       "      <th>homosexual_gay_or_lesbian</th>\n",
       "      <th>christian</th>\n",
       "      <th>jewish</th>\n",
       "      <th>muslim</th>\n",
       "      <th>black</th>\n",
       "      <th>white</th>\n",
       "      <th>psychiatric_or_mental_illness</th>\n",
       "      <th>target</th>\n",
       "      <th>id</th>\n",
       "    </tr>\n",
       "  </thead>\n",
       "  <tbody>\n",
       "    <tr>\n",
       "      <th>8674</th>\n",
       "      <td>1293094</td>\n",
       "      <td>NaN</td>\n",
       "      <td>NaN</td>\n",
       "      <td>NaN</td>\n",
       "      <td>NaN</td>\n",
       "      <td>NaN</td>\n",
       "      <td>NaN</td>\n",
       "      <td>NaN</td>\n",
       "      <td>NaN</td>\n",
       "      <td>NaN</td>\n",
       "      <td>0.0</td>\n",
       "      <td>5695121</td>\n",
       "    </tr>\n",
       "    <tr>\n",
       "      <th>9546</th>\n",
       "      <td>144877</td>\n",
       "      <td>NaN</td>\n",
       "      <td>NaN</td>\n",
       "      <td>NaN</td>\n",
       "      <td>NaN</td>\n",
       "      <td>NaN</td>\n",
       "      <td>NaN</td>\n",
       "      <td>NaN</td>\n",
       "      <td>NaN</td>\n",
       "      <td>NaN</td>\n",
       "      <td>0.6</td>\n",
       "      <td>419218</td>\n",
       "    </tr>\n",
       "    <tr>\n",
       "      <th>11765</th>\n",
       "      <td>375631</td>\n",
       "      <td>NaN</td>\n",
       "      <td>NaN</td>\n",
       "      <td>NaN</td>\n",
       "      <td>NaN</td>\n",
       "      <td>NaN</td>\n",
       "      <td>NaN</td>\n",
       "      <td>NaN</td>\n",
       "      <td>NaN</td>\n",
       "      <td>NaN</td>\n",
       "      <td>0.0</td>\n",
       "      <td>702894</td>\n",
       "    </tr>\n",
       "  </tbody>\n",
       "</table>\n",
       "</div>"
      ],
      "text/plain": [
       "       original_index  male  female  homosexual_gay_or_lesbian  christian  \\\n",
       "8674          1293094   NaN     NaN                        NaN        NaN   \n",
       "9546           144877   NaN     NaN                        NaN        NaN   \n",
       "11765          375631   NaN     NaN                        NaN        NaN   \n",
       "\n",
       "       jewish  muslim  black  white  psychiatric_or_mental_illness  target  \\\n",
       "8674      NaN     NaN    NaN    NaN                            NaN     0.0   \n",
       "9546      NaN     NaN    NaN    NaN                            NaN     0.6   \n",
       "11765     NaN     NaN    NaN    NaN                            NaN     0.0   \n",
       "\n",
       "            id  \n",
       "8674   5695121  \n",
       "9546    419218  \n",
       "11765   702894  "
      ]
     },
     "execution_count": 23,
     "metadata": {},
     "output_type": "execute_result"
    }
   ],
   "source": [
    "arr_index = df_identity.original_index.sample(3).values\n",
    "df_identity[df_identity['original_index'].isin(arr_index)]"
   ]
  },
  {
   "cell_type": "code",
   "execution_count": 24,
   "metadata": {},
   "outputs": [
    {
     "data": {
      "text/html": [
       "<div>\n",
       "<style scoped>\n",
       "    .dataframe tbody tr th:only-of-type {\n",
       "        vertical-align: middle;\n",
       "    }\n",
       "\n",
       "    .dataframe tbody tr th {\n",
       "        vertical-align: top;\n",
       "    }\n",
       "\n",
       "    .dataframe thead th {\n",
       "        text-align: right;\n",
       "    }\n",
       "</style>\n",
       "<table border=\"1\" class=\"dataframe\">\n",
       "  <thead>\n",
       "    <tr style=\"text-align: right;\">\n",
       "      <th></th>\n",
       "      <th>id</th>\n",
       "      <th>target</th>\n",
       "      <th>comment_text</th>\n",
       "      <th>severe_toxicity</th>\n",
       "      <th>obscene</th>\n",
       "      <th>identity_attack</th>\n",
       "      <th>insult</th>\n",
       "      <th>threat</th>\n",
       "      <th>asian</th>\n",
       "      <th>atheist</th>\n",
       "      <th>...</th>\n",
       "      <th>article_id</th>\n",
       "      <th>rating</th>\n",
       "      <th>funny</th>\n",
       "      <th>wow</th>\n",
       "      <th>sad</th>\n",
       "      <th>likes</th>\n",
       "      <th>disagree</th>\n",
       "      <th>sexual_explicit</th>\n",
       "      <th>identity_annotator_count</th>\n",
       "      <th>toxicity_annotator_count</th>\n",
       "    </tr>\n",
       "  </thead>\n",
       "  <tbody>\n",
       "    <tr>\n",
       "      <th>144877</th>\n",
       "      <td>419218</td>\n",
       "      <td>0.6</td>\n",
       "      <td>No one was punished for falsifying evidence be...</td>\n",
       "      <td>0.0</td>\n",
       "      <td>0.0</td>\n",
       "      <td>0.0</td>\n",
       "      <td>0.6</td>\n",
       "      <td>0.0</td>\n",
       "      <td>NaN</td>\n",
       "      <td>NaN</td>\n",
       "      <td>...</td>\n",
       "      <td>143071</td>\n",
       "      <td>approved</td>\n",
       "      <td>0</td>\n",
       "      <td>0</td>\n",
       "      <td>0</td>\n",
       "      <td>1</td>\n",
       "      <td>0</td>\n",
       "      <td>0.0</td>\n",
       "      <td>0</td>\n",
       "      <td>10</td>\n",
       "    </tr>\n",
       "    <tr>\n",
       "      <th>375631</th>\n",
       "      <td>702894</td>\n",
       "      <td>0.0</td>\n",
       "      <td>Trudeau, Butts, McKenna, Wynne, Notley, and th...</td>\n",
       "      <td>0.0</td>\n",
       "      <td>0.0</td>\n",
       "      <td>0.0</td>\n",
       "      <td>0.0</td>\n",
       "      <td>0.0</td>\n",
       "      <td>NaN</td>\n",
       "      <td>NaN</td>\n",
       "      <td>...</td>\n",
       "      <td>156250</td>\n",
       "      <td>approved</td>\n",
       "      <td>0</td>\n",
       "      <td>0</td>\n",
       "      <td>0</td>\n",
       "      <td>3</td>\n",
       "      <td>1</td>\n",
       "      <td>0.0</td>\n",
       "      <td>0</td>\n",
       "      <td>4</td>\n",
       "    </tr>\n",
       "    <tr>\n",
       "      <th>1293094</th>\n",
       "      <td>5695121</td>\n",
       "      <td>0.0</td>\n",
       "      <td>Why stop there? Enlightened colleges could als...</td>\n",
       "      <td>0.0</td>\n",
       "      <td>0.0</td>\n",
       "      <td>0.0</td>\n",
       "      <td>0.0</td>\n",
       "      <td>0.0</td>\n",
       "      <td>NaN</td>\n",
       "      <td>NaN</td>\n",
       "      <td>...</td>\n",
       "      <td>361462</td>\n",
       "      <td>approved</td>\n",
       "      <td>1</td>\n",
       "      <td>0</td>\n",
       "      <td>0</td>\n",
       "      <td>1</td>\n",
       "      <td>0</td>\n",
       "      <td>0.0</td>\n",
       "      <td>0</td>\n",
       "      <td>4</td>\n",
       "    </tr>\n",
       "  </tbody>\n",
       "</table>\n",
       "<p>3 rows × 45 columns</p>\n",
       "</div>"
      ],
      "text/plain": [
       "              id  target                                       comment_text  \\\n",
       "144877    419218     0.6  No one was punished for falsifying evidence be...   \n",
       "375631    702894     0.0  Trudeau, Butts, McKenna, Wynne, Notley, and th...   \n",
       "1293094  5695121     0.0  Why stop there? Enlightened colleges could als...   \n",
       "\n",
       "         severe_toxicity  obscene  identity_attack  insult  threat  asian  \\\n",
       "144877               0.0      0.0              0.0     0.6     0.0    NaN   \n",
       "375631               0.0      0.0              0.0     0.0     0.0    NaN   \n",
       "1293094              0.0      0.0              0.0     0.0     0.0    NaN   \n",
       "\n",
       "         atheist            ...             article_id    rating  funny  wow  \\\n",
       "144877       NaN            ...                 143071  approved      0    0   \n",
       "375631       NaN            ...                 156250  approved      0    0   \n",
       "1293094      NaN            ...                 361462  approved      1    0   \n",
       "\n",
       "         sad  likes  disagree  sexual_explicit  identity_annotator_count  \\\n",
       "144877     0      1         0              0.0                         0   \n",
       "375631     0      3         1              0.0                         0   \n",
       "1293094    0      1         0              0.0                         0   \n",
       "\n",
       "         toxicity_annotator_count  \n",
       "144877                         10  \n",
       "375631                          4  \n",
       "1293094                         4  \n",
       "\n",
       "[3 rows x 45 columns]"
      ]
     },
     "execution_count": 24,
     "metadata": {},
     "output_type": "execute_result"
    }
   ],
   "source": [
    "df_train.loc[arr_index]"
   ]
  },
  {
   "cell_type": "markdown",
   "metadata": {},
   "source": [
    "    target column from df_identity dataframe is converted as a binary vector with same threshold \n",
    "    fixed for CNN model.  \n",
    "    \n",
    "    This way, model performance will be measure aagiant df_identity true values."
   ]
  },
  {
   "cell_type": "code",
   "execution_count": 25,
   "metadata": {},
   "outputs": [
    {
     "name": "stderr",
     "output_type": "stream",
     "text": [
      "/home/bangui/anaconda3/envs/python36/lib/python3.6/site-packages/sklearn/preprocessing/_encoders.py:415: FutureWarning: The handling of integer data will change in version 0.22. Currently, the categories are determined based on the range [0, max(values)], while in the future they will be determined based on the unique values.\n",
      "If you want the future behaviour and silence this warning, you can specify \"categories='auto'\".\n",
      "In case you used a LabelEncoder before this OneHotEncoder to convert the categories to integers, then you can now use the OneHotEncoder directly.\n",
      "  warnings.warn(msg, FutureWarning)\n"
     ]
    }
   ],
   "source": [
    "import p9_util\n",
    "df_identity['target'] = p9_util.convert_vectorFloat_2_binaryLabel(df_identity['target'].values, threshold=0.5, direction = 1, \\\n",
    "decimal_count = 1)"
   ]
  },
  {
   "cell_type": "markdown",
   "metadata": {},
   "source": [
    "    Visual check over target column name."
   ]
  },
  {
   "cell_type": "code",
   "execution_count": 26,
   "metadata": {},
   "outputs": [
    {
     "data": {
      "text/html": [
       "<div>\n",
       "<style scoped>\n",
       "    .dataframe tbody tr th:only-of-type {\n",
       "        vertical-align: middle;\n",
       "    }\n",
       "\n",
       "    .dataframe tbody tr th {\n",
       "        vertical-align: top;\n",
       "    }\n",
       "\n",
       "    .dataframe thead th {\n",
       "        text-align: right;\n",
       "    }\n",
       "</style>\n",
       "<table border=\"1\" class=\"dataframe\">\n",
       "  <thead>\n",
       "    <tr style=\"text-align: right;\">\n",
       "      <th></th>\n",
       "      <th>original_index</th>\n",
       "      <th>male</th>\n",
       "      <th>female</th>\n",
       "      <th>homosexual_gay_or_lesbian</th>\n",
       "      <th>christian</th>\n",
       "      <th>jewish</th>\n",
       "      <th>muslim</th>\n",
       "      <th>black</th>\n",
       "      <th>white</th>\n",
       "      <th>psychiatric_or_mental_illness</th>\n",
       "      <th>target</th>\n",
       "      <th>id</th>\n",
       "    </tr>\n",
       "  </thead>\n",
       "  <tbody>\n",
       "    <tr>\n",
       "      <th>8674</th>\n",
       "      <td>1293094</td>\n",
       "      <td>NaN</td>\n",
       "      <td>NaN</td>\n",
       "      <td>NaN</td>\n",
       "      <td>NaN</td>\n",
       "      <td>NaN</td>\n",
       "      <td>NaN</td>\n",
       "      <td>NaN</td>\n",
       "      <td>NaN</td>\n",
       "      <td>NaN</td>\n",
       "      <td>0</td>\n",
       "      <td>5695121</td>\n",
       "    </tr>\n",
       "    <tr>\n",
       "      <th>9546</th>\n",
       "      <td>144877</td>\n",
       "      <td>NaN</td>\n",
       "      <td>NaN</td>\n",
       "      <td>NaN</td>\n",
       "      <td>NaN</td>\n",
       "      <td>NaN</td>\n",
       "      <td>NaN</td>\n",
       "      <td>NaN</td>\n",
       "      <td>NaN</td>\n",
       "      <td>NaN</td>\n",
       "      <td>1</td>\n",
       "      <td>419218</td>\n",
       "    </tr>\n",
       "    <tr>\n",
       "      <th>11765</th>\n",
       "      <td>375631</td>\n",
       "      <td>NaN</td>\n",
       "      <td>NaN</td>\n",
       "      <td>NaN</td>\n",
       "      <td>NaN</td>\n",
       "      <td>NaN</td>\n",
       "      <td>NaN</td>\n",
       "      <td>NaN</td>\n",
       "      <td>NaN</td>\n",
       "      <td>NaN</td>\n",
       "      <td>0</td>\n",
       "      <td>702894</td>\n",
       "    </tr>\n",
       "  </tbody>\n",
       "</table>\n",
       "</div>"
      ],
      "text/plain": [
       "       original_index  male  female  homosexual_gay_or_lesbian  christian  \\\n",
       "8674          1293094   NaN     NaN                        NaN        NaN   \n",
       "9546           144877   NaN     NaN                        NaN        NaN   \n",
       "11765          375631   NaN     NaN                        NaN        NaN   \n",
       "\n",
       "       jewish  muslim  black  white  psychiatric_or_mental_illness  target  \\\n",
       "8674      NaN     NaN    NaN    NaN                            NaN       0   \n",
       "9546      NaN     NaN    NaN    NaN                            NaN       1   \n",
       "11765     NaN     NaN    NaN    NaN                            NaN       0   \n",
       "\n",
       "            id  \n",
       "8674   5695121  \n",
       "9546    419218  \n",
       "11765   702894  "
      ]
     },
     "execution_count": 26,
     "metadata": {},
     "output_type": "execute_result"
    }
   ],
   "source": [
    "df_identity[df_identity['original_index'].isin(arr_index)]"
   ]
  },
  {
   "cell_type": "markdown",
   "metadata": {},
   "source": [
    "    Note below that true label values in target column are compared with predicted values in predict column."
   ]
  },
  {
   "cell_type": "code",
   "execution_count": 27,
   "metadata": {},
   "outputs": [
    {
     "data": {
      "text/html": [
       "<div>\n",
       "<style scoped>\n",
       "    .dataframe tbody tr th:only-of-type {\n",
       "        vertical-align: middle;\n",
       "    }\n",
       "\n",
       "    .dataframe tbody tr th {\n",
       "        vertical-align: top;\n",
       "    }\n",
       "\n",
       "    .dataframe thead th {\n",
       "        text-align: right;\n",
       "    }\n",
       "</style>\n",
       "<table border=\"1\" class=\"dataframe\">\n",
       "  <thead>\n",
       "    <tr style=\"text-align: right;\">\n",
       "      <th></th>\n",
       "      <th>original_index</th>\n",
       "      <th>docs</th>\n",
       "      <th>counting</th>\n",
       "      <th>tokens</th>\n",
       "      <th>matrix_padded</th>\n",
       "      <th>target</th>\n",
       "      <th>predict</th>\n",
       "    </tr>\n",
       "  </thead>\n",
       "  <tbody>\n",
       "    <tr>\n",
       "      <th>8674</th>\n",
       "      <td>1293094</td>\n",
       "      <td>why stop there? enlightened colleges could als...</td>\n",
       "      <td>15</td>\n",
       "      <td>[stop, enlighten, college, house, homeless, pr...</td>\n",
       "      <td>[[-0.05415000021457672, 0.13743999600410461, -...</td>\n",
       "      <td>0</td>\n",
       "      <td>0</td>\n",
       "    </tr>\n",
       "    <tr>\n",
       "      <th>9546</th>\n",
       "      <td>144877</td>\n",
       "      <td>no one was punished for falsifying evidence be...</td>\n",
       "      <td>37</td>\n",
       "      <td>[punish, falsify, evidence, evidence, not, fal...</td>\n",
       "      <td>[[-0.8340499997138977, -0.15208999812602997, -...</td>\n",
       "      <td>1</td>\n",
       "      <td>0</td>\n",
       "    </tr>\n",
       "    <tr>\n",
       "      <th>11765</th>\n",
       "      <td>375631</td>\n",
       "      <td>trudeau, butts, mckenna, wynne, notley, and th...</td>\n",
       "      <td>18</td>\n",
       "      <td>[trudeau, butt, wynne, notley, rest, liberal, ...</td>\n",
       "      <td>[[-0.6492900252342224, 0.37839001417160034, -0...</td>\n",
       "      <td>0</td>\n",
       "      <td>0</td>\n",
       "    </tr>\n",
       "  </tbody>\n",
       "</table>\n",
       "</div>"
      ],
      "text/plain": [
       "       original_index                                               docs  \\\n",
       "8674          1293094  why stop there? enlightened colleges could als...   \n",
       "9546           144877  no one was punished for falsifying evidence be...   \n",
       "11765          375631  trudeau, butts, mckenna, wynne, notley, and th...   \n",
       "\n",
       "       counting                                             tokens  \\\n",
       "8674         15  [stop, enlighten, college, house, homeless, pr...   \n",
       "9546         37  [punish, falsify, evidence, evidence, not, fal...   \n",
       "11765        18  [trudeau, butt, wynne, notley, rest, liberal, ...   \n",
       "\n",
       "                                           matrix_padded  target  predict  \n",
       "8674   [[-0.05415000021457672, 0.13743999600410461, -...       0        0  \n",
       "9546   [[-0.8340499997138977, -0.15208999812602997, -...       1        0  \n",
       "11765  [[-0.6492900252342224, 0.37839001417160034, -0...       0        0  "
      ]
     },
     "execution_count": 27,
     "metadata": {},
     "output_type": "execute_result"
    }
   ],
   "source": [
    "self.df_data[self.df_data['original_index'].isin(arr_index)]"
   ]
  },
  {
   "cell_type": "markdown",
   "metadata": {},
   "source": [
    "    Join dataframe issued from data processing with identities dataframe.\n",
    "    This join operation is based on original_index"
   ]
  },
  {
   "cell_type": "code",
   "execution_count": 28,
   "metadata": {},
   "outputs": [
    {
     "data": {
      "text/plain": [
       "Index(['original_index', 'male', 'female', 'homosexual_gay_or_lesbian',\n",
       "       'christian', 'jewish', 'muslim', 'black', 'white',\n",
       "       'psychiatric_or_mental_illness', 'targettrue_', 'id', 'docs',\n",
       "       'counting', 'tokens', 'matrix_padded', 'target', 'predict'],\n",
       "      dtype='object')"
      ]
     },
     "execution_count": 28,
     "metadata": {},
     "output_type": "execute_result"
    }
   ],
   "source": [
    "df_identity = df_identity.join(self.df_data.set_index('original_index'), on='original_index', lsuffix='true_')\n",
    "\n",
    "df_identity.columns"
   ]
  },
  {
   "cell_type": "markdown",
   "metadata": {},
   "source": [
    "    df_identity dataframe is now assigned with predict column, as shown on display below."
   ]
  },
  {
   "cell_type": "code",
   "execution_count": 29,
   "metadata": {},
   "outputs": [
    {
     "data": {
      "text/html": [
       "<div>\n",
       "<style scoped>\n",
       "    .dataframe tbody tr th:only-of-type {\n",
       "        vertical-align: middle;\n",
       "    }\n",
       "\n",
       "    .dataframe tbody tr th {\n",
       "        vertical-align: top;\n",
       "    }\n",
       "\n",
       "    .dataframe thead th {\n",
       "        text-align: right;\n",
       "    }\n",
       "</style>\n",
       "<table border=\"1\" class=\"dataframe\">\n",
       "  <thead>\n",
       "    <tr style=\"text-align: right;\">\n",
       "      <th></th>\n",
       "      <th>original_index</th>\n",
       "      <th>male</th>\n",
       "      <th>female</th>\n",
       "      <th>homosexual_gay_or_lesbian</th>\n",
       "      <th>christian</th>\n",
       "      <th>jewish</th>\n",
       "      <th>muslim</th>\n",
       "      <th>black</th>\n",
       "      <th>white</th>\n",
       "      <th>psychiatric_or_mental_illness</th>\n",
       "      <th>targettrue_</th>\n",
       "      <th>id</th>\n",
       "      <th>docs</th>\n",
       "      <th>counting</th>\n",
       "      <th>tokens</th>\n",
       "      <th>matrix_padded</th>\n",
       "      <th>target</th>\n",
       "      <th>predict</th>\n",
       "    </tr>\n",
       "  </thead>\n",
       "  <tbody>\n",
       "    <tr>\n",
       "      <th>8674</th>\n",
       "      <td>1293094</td>\n",
       "      <td>NaN</td>\n",
       "      <td>NaN</td>\n",
       "      <td>NaN</td>\n",
       "      <td>NaN</td>\n",
       "      <td>NaN</td>\n",
       "      <td>NaN</td>\n",
       "      <td>NaN</td>\n",
       "      <td>NaN</td>\n",
       "      <td>NaN</td>\n",
       "      <td>0</td>\n",
       "      <td>5695121</td>\n",
       "      <td>why stop there? enlightened colleges could als...</td>\n",
       "      <td>15</td>\n",
       "      <td>[stop, enlighten, college, house, homeless, pr...</td>\n",
       "      <td>[[-0.05415000021457672, 0.13743999600410461, -...</td>\n",
       "      <td>0</td>\n",
       "      <td>0</td>\n",
       "    </tr>\n",
       "    <tr>\n",
       "      <th>9546</th>\n",
       "      <td>144877</td>\n",
       "      <td>NaN</td>\n",
       "      <td>NaN</td>\n",
       "      <td>NaN</td>\n",
       "      <td>NaN</td>\n",
       "      <td>NaN</td>\n",
       "      <td>NaN</td>\n",
       "      <td>NaN</td>\n",
       "      <td>NaN</td>\n",
       "      <td>NaN</td>\n",
       "      <td>1</td>\n",
       "      <td>419218</td>\n",
       "      <td>no one was punished for falsifying evidence be...</td>\n",
       "      <td>37</td>\n",
       "      <td>[punish, falsify, evidence, evidence, not, fal...</td>\n",
       "      <td>[[-0.8340499997138977, -0.15208999812602997, -...</td>\n",
       "      <td>1</td>\n",
       "      <td>0</td>\n",
       "    </tr>\n",
       "    <tr>\n",
       "      <th>11765</th>\n",
       "      <td>375631</td>\n",
       "      <td>NaN</td>\n",
       "      <td>NaN</td>\n",
       "      <td>NaN</td>\n",
       "      <td>NaN</td>\n",
       "      <td>NaN</td>\n",
       "      <td>NaN</td>\n",
       "      <td>NaN</td>\n",
       "      <td>NaN</td>\n",
       "      <td>NaN</td>\n",
       "      <td>0</td>\n",
       "      <td>702894</td>\n",
       "      <td>trudeau, butts, mckenna, wynne, notley, and th...</td>\n",
       "      <td>18</td>\n",
       "      <td>[trudeau, butt, wynne, notley, rest, liberal, ...</td>\n",
       "      <td>[[-0.6492900252342224, 0.37839001417160034, -0...</td>\n",
       "      <td>0</td>\n",
       "      <td>0</td>\n",
       "    </tr>\n",
       "  </tbody>\n",
       "</table>\n",
       "</div>"
      ],
      "text/plain": [
       "       original_index  male  female  homosexual_gay_or_lesbian  christian  \\\n",
       "8674          1293094   NaN     NaN                        NaN        NaN   \n",
       "9546           144877   NaN     NaN                        NaN        NaN   \n",
       "11765          375631   NaN     NaN                        NaN        NaN   \n",
       "\n",
       "       jewish  muslim  black  white  psychiatric_or_mental_illness  \\\n",
       "8674      NaN     NaN    NaN    NaN                            NaN   \n",
       "9546      NaN     NaN    NaN    NaN                            NaN   \n",
       "11765     NaN     NaN    NaN    NaN                            NaN   \n",
       "\n",
       "       targettrue_       id  \\\n",
       "8674             0  5695121   \n",
       "9546             1   419218   \n",
       "11765            0   702894   \n",
       "\n",
       "                                                    docs  counting  \\\n",
       "8674   why stop there? enlightened colleges could als...        15   \n",
       "9546   no one was punished for falsifying evidence be...        37   \n",
       "11765  trudeau, butts, mckenna, wynne, notley, and th...        18   \n",
       "\n",
       "                                                  tokens  \\\n",
       "8674   [stop, enlighten, college, house, homeless, pr...   \n",
       "9546   [punish, falsify, evidence, evidence, not, fal...   \n",
       "11765  [trudeau, butt, wynne, notley, rest, liberal, ...   \n",
       "\n",
       "                                           matrix_padded  target  predict  \n",
       "8674   [[-0.05415000021457672, 0.13743999600410461, -...       0        0  \n",
       "9546   [[-0.8340499997138977, -0.15208999812602997, -...       1        0  \n",
       "11765  [[-0.6492900252342224, 0.37839001417160034, -0...       0        0  "
      ]
     },
     "execution_count": 29,
     "metadata": {},
     "output_type": "execute_result"
    }
   ],
   "source": [
    "df_identity[df_identity['original_index'].isin(arr_index)]"
   ]
  },
  {
   "cell_type": "markdown",
   "metadata": {},
   "source": [
    "# <font color='blus'> 3.0 Bias metrics computation</font>"
   ]
  },
  {
   "cell_type": "code",
   "execution_count": 33,
   "metadata": {},
   "outputs": [
    {
     "name": "stdout",
     "output_type": "stream",
     "text": [
      "0.5\n"
     ]
    }
   ],
   "source": [
    "import numpy as np\n",
    "threshold = dict_param_benchmark['threshold']\n",
    "print(threshold)\n",
    "for identity in identity_columns :\n",
    "    df_identity[identity] = np.where(df_identity[identity] > threshold, True, False)"
   ]
  },
  {
   "cell_type": "code",
   "execution_count": 34,
   "metadata": {},
   "outputs": [
    {
     "data": {
      "text/html": [
       "<div>\n",
       "<style scoped>\n",
       "    .dataframe tbody tr th:only-of-type {\n",
       "        vertical-align: middle;\n",
       "    }\n",
       "\n",
       "    .dataframe tbody tr th {\n",
       "        vertical-align: top;\n",
       "    }\n",
       "\n",
       "    .dataframe thead th {\n",
       "        text-align: right;\n",
       "    }\n",
       "</style>\n",
       "<table border=\"1\" class=\"dataframe\">\n",
       "  <thead>\n",
       "    <tr style=\"text-align: right;\">\n",
       "      <th></th>\n",
       "      <th>bnsp_auc</th>\n",
       "      <th>bpsn_auc</th>\n",
       "      <th>subgroup</th>\n",
       "      <th>subgroup_auc</th>\n",
       "      <th>subgroup_size</th>\n",
       "    </tr>\n",
       "  </thead>\n",
       "  <tbody>\n",
       "    <tr>\n",
       "      <th>2</th>\n",
       "      <td>0.837397</td>\n",
       "      <td>0.669649</td>\n",
       "      <td>homosexual_gay_or_lesbian</td>\n",
       "      <td>0.645546</td>\n",
       "      <td>149</td>\n",
       "    </tr>\n",
       "    <tr>\n",
       "      <th>6</th>\n",
       "      <td>0.880691</td>\n",
       "      <td>0.641463</td>\n",
       "      <td>black</td>\n",
       "      <td>0.661654</td>\n",
       "      <td>199</td>\n",
       "    </tr>\n",
       "    <tr>\n",
       "      <th>7</th>\n",
       "      <td>0.888992</td>\n",
       "      <td>0.652551</td>\n",
       "      <td>white</td>\n",
       "      <td>0.680226</td>\n",
       "      <td>335</td>\n",
       "    </tr>\n",
       "    <tr>\n",
       "      <th>5</th>\n",
       "      <td>0.867801</td>\n",
       "      <td>0.713312</td>\n",
       "      <td>muslim</td>\n",
       "      <td>0.719677</td>\n",
       "      <td>222</td>\n",
       "    </tr>\n",
       "    <tr>\n",
       "      <th>8</th>\n",
       "      <td>0.917395</td>\n",
       "      <td>0.727446</td>\n",
       "      <td>psychiatric_or_mental_illness</td>\n",
       "      <td>0.784848</td>\n",
       "      <td>43</td>\n",
       "    </tr>\n",
       "    <tr>\n",
       "      <th>0</th>\n",
       "      <td>0.852952</td>\n",
       "      <td>0.810845</td>\n",
       "      <td>male</td>\n",
       "      <td>0.802190</td>\n",
       "      <td>356</td>\n",
       "    </tr>\n",
       "    <tr>\n",
       "      <th>1</th>\n",
       "      <td>0.853437</td>\n",
       "      <td>0.821859</td>\n",
       "      <td>female</td>\n",
       "      <td>0.813832</td>\n",
       "      <td>404</td>\n",
       "    </tr>\n",
       "    <tr>\n",
       "      <th>4</th>\n",
       "      <td>0.838606</td>\n",
       "      <td>0.852951</td>\n",
       "      <td>jewish</td>\n",
       "      <td>0.831250</td>\n",
       "      <td>68</td>\n",
       "    </tr>\n",
       "    <tr>\n",
       "      <th>3</th>\n",
       "      <td>0.841626</td>\n",
       "      <td>0.851564</td>\n",
       "      <td>christian</td>\n",
       "      <td>0.832449</td>\n",
       "      <td>269</td>\n",
       "    </tr>\n",
       "  </tbody>\n",
       "</table>\n",
       "</div>"
      ],
      "text/plain": [
       "   bnsp_auc  bpsn_auc                       subgroup  subgroup_auc  \\\n",
       "2  0.837397  0.669649      homosexual_gay_or_lesbian      0.645546   \n",
       "6  0.880691  0.641463                          black      0.661654   \n",
       "7  0.888992  0.652551                          white      0.680226   \n",
       "5  0.867801  0.713312                         muslim      0.719677   \n",
       "8  0.917395  0.727446  psychiatric_or_mental_illness      0.784848   \n",
       "0  0.852952  0.810845                           male      0.802190   \n",
       "1  0.853437  0.821859                         female      0.813832   \n",
       "4  0.838606  0.852951                         jewish      0.831250   \n",
       "3  0.841626  0.851564                      christian      0.832449   \n",
       "\n",
       "   subgroup_size  \n",
       "2            149  \n",
       "6            199  \n",
       "7            335  \n",
       "5            222  \n",
       "8             43  \n",
       "0            356  \n",
       "1            404  \n",
       "4             68  \n",
       "3            269  "
      ]
     },
     "execution_count": 34,
     "metadata": {},
     "output_type": "execute_result"
    }
   ],
   "source": [
    "import p9_util_metrics\n",
    "\n",
    "bias_metrics_df = p9_util_metrics.compute_bias_metrics_for_model(df_identity, identity_columns, MODEL_NAME, TOXICITY_COLUMN)\n",
    "bias_metrics_df"
   ]
  },
  {
   "cell_type": "code",
   "execution_count": 35,
   "metadata": {},
   "outputs": [
    {
     "data": {
      "text/plain": [
       "0.8601040799111624"
      ]
     },
     "execution_count": 35,
     "metadata": {},
     "output_type": "execute_result"
    }
   ],
   "source": [
    "overall_auc = p9_util_metrics.calculate_overall_auc(df_identity, MODEL_NAME, p9_util_metrics.TOXICITY_COLUMN)\n",
    "overall_auc"
   ]
  },
  {
   "cell_type": "code",
   "execution_count": 36,
   "metadata": {},
   "outputs": [
    {
     "name": "stdout",
     "output_type": "stream",
     "text": [
      "Bias score contribution : 0.5792517283787755\n"
     ]
    },
    {
     "data": {
      "text/plain": [
       "0.7942777483565661"
      ]
     },
     "execution_count": 36,
     "metadata": {},
     "output_type": "execute_result"
    }
   ],
   "source": [
    "p9_util_metrics.get_final_metric(bias_metrics_df, overall_auc)"
   ]
  },
  {
   "cell_type": "markdown",
   "metadata": {},
   "source": [
    "# <font color='blus'> 4.0 Binary classification performances</font>"
   ]
  },
  {
   "cell_type": "markdown",
   "metadata": {},
   "source": [
    "    Load data generator objects for train and validation."
   ]
  },
  {
   "cell_type": "code",
   "execution_count": 2,
   "metadata": {},
   "outputs": [
    {
     "name": "stdout",
     "output_type": "stream",
     "text": [
      "p5_util.object_load : fileName= ./data/train_generator.dill\n",
      "p5_util.object_load : fileName= ./data/valid_generator.dill\n"
     ]
    }
   ],
   "source": [
    "import p5_util\n",
    "\n",
    "filename_train = './data/train_generator.dill'\n",
    "filename_valid = './data/valid_generator.dill'\n",
    "\n",
    "train_generator = p5_util.object_load(filename_train)\n",
    "valid_generator = p5_util.object_load(filename_valid)\n"
   ]
  },
  {
   "cell_type": "markdown",
   "metadata": {},
   "source": [
    "    Extract digitalized data from datagenerator sources to feed model as input."
   ]
  },
  {
   "cell_type": "code",
   "execution_count": 3,
   "metadata": {},
   "outputs": [],
   "source": [
    "import numpy as np\n",
    "\n",
    "X_valid = valid_generator.X\n",
    "y_valid = valid_generator.y\n",
    "y_valid =y_valid.astype(int)"
   ]
  },
  {
   "cell_type": "markdown",
   "metadata": {},
   "source": [
    "    Load trained CNN model issued from CNN_BinaryClassifier notebook."
   ]
  },
  {
   "cell_type": "code",
   "execution_count": 7,
   "metadata": {},
   "outputs": [
    {
     "name": "stdout",
     "output_type": "stream",
     "text": [
      "_________________________________________________________________\n",
      "Layer (type)                 Output Shape              Param #   \n",
      "=================================================================\n",
      "input_2 (InputLayer)         (None, 100, 300)          0         \n",
      "_________________________________________________________________\n",
      "batch_normalization_5 (Batch (None, 100, 300)          1200      \n",
      "_________________________________________________________________\n",
      "conv1d_4 (Conv1D)            (None, 100, 256)          153856    \n",
      "_________________________________________________________________\n",
      "max_pooling1d_4 (MaxPooling1 (None, 20, 256)           0         \n",
      "_________________________________________________________________\n",
      "batch_normalization_6 (Batch (None, 20, 256)           1024      \n",
      "_________________________________________________________________\n",
      "conv1d_5 (Conv1D)            (None, 20, 256)           196864    \n",
      "_________________________________________________________________\n",
      "max_pooling1d_5 (MaxPooling1 (None, 4, 256)            0         \n",
      "_________________________________________________________________\n",
      "batch_normalization_7 (Batch (None, 4, 256)            1024      \n",
      "_________________________________________________________________\n",
      "conv1d_6 (Conv1D)            (None, 4, 256)            262400    \n",
      "_________________________________________________________________\n",
      "max_pooling1d_6 (MaxPooling1 (None, 2, 256)            0         \n",
      "_________________________________________________________________\n",
      "flatten_2 (Flatten)          (None, 512)               0         \n",
      "_________________________________________________________________\n",
      "batch_normalization_8 (Batch (None, 512)               2048      \n",
      "_________________________________________________________________\n",
      "dropout_2 (Dropout)          (None, 512)               0         \n",
      "_________________________________________________________________\n",
      "dense_3 (Dense)              (None, 128)               65664     \n",
      "_________________________________________________________________\n",
      "dense_4 (Dense)              (None, 2)                 258       \n",
      "=================================================================\n",
      "Total params: 684,338\n",
      "Trainable params: 681,690\n",
      "Non-trainable params: 2,648\n",
      "_________________________________________________________________\n"
     ]
    }
   ],
   "source": [
    "import keras\n",
    "\n",
    "filename_model = './data/benchmark/model_jigsaw_submission_sample129651_threshold0.5_best_save.h5'\n",
    "model = keras.models.load_model(filename_model)\n",
    "\n",
    "model.summary()"
   ]
  },
  {
   "cell_type": "markdown",
   "metadata": {},
   "source": [
    "    Apply predictions over validation dataset."
   ]
  },
  {
   "cell_type": "code",
   "execution_count": 5,
   "metadata": {},
   "outputs": [
    {
     "name": "stdout",
     "output_type": "stream",
     "text": [
      "12000/12000 [==============================] - 10s 858us/step\n"
     ]
    }
   ],
   "source": [
    "import numpy as np\n",
    "\n",
    "y_predict = model.predict(X_valid, verbose=1)\n",
    "y_predict_round = np.round(y_predict).astype(int)"
   ]
  },
  {
   "cell_type": "markdown",
   "metadata": {},
   "source": [
    "    Display CNN model performances "
   ]
  },
  {
   "cell_type": "code",
   "execution_count": 6,
   "metadata": {},
   "outputs": [
    {
     "name": "stderr",
     "output_type": "stream",
     "text": [
      "/home/bangui/.local/lib/python3.6/site-packages/seaborn/distributions.py:679: UserWarning: Passing a 2D dataset for a bivariate plot is deprecated in favor of kdeplot(x, y), and it will cause an error in future versions. Please update your code.\n",
      "  warnings.warn(warn_msg, UserWarning)\n",
      "/home/bangui/.local/lib/python3.6/site-packages/scipy/stats/stats.py:1713: FutureWarning: Using a non-tuple sequence for multidimensional indexing is deprecated; use `arr[tuple(seq)]` instead of `arr[seq]`. In the future this will be interpreted as an array index, `arr[np.array(seq)]`, which will result either in an error or a different result.\n",
      "  return np.add.reduce(sorted[indexer] * weights, axis=axis) / sumval\n"
     ]
    },
    {
     "name": "stdout",
     "output_type": "stream",
     "text": [
      "[0, 1]\n",
      "\n",
      "Confusion matrix for all classes : \n",
      "\n",
      "[[5267  925]\n",
      " [ 755 5053]]\n",
      "\n",
      "Normalized confusion matrix\n",
      "[[0.8506137  0.1493863 ]\n",
      " [0.12999311 0.87000689]]\n",
      "Confusion matrix, without normalization\n",
      "[[5267  925]\n",
      " [ 755 5053]]\n",
      "\n",
      "TP rate = [0.         0.87000689 1.        ]\n",
      "FP rate = [0.        0.1493863 1.       ]\n",
      "AUC = 0.8603102910713905\n"
     ]
    },
    {
     "data": {
      "image/png": "[encoded data removed]",
      "text/plain": [
       "<Figure size 432x288 with 1 Axes>"
      ]
     },
     "metadata": {
      "needs_background": "light"
     },
     "output_type": "display_data"
    },
    {
     "data": {
      "image/png": "[encoded data removed]",
      "text/plain": [
       "<Figure size 576x576 with 2 Axes>"
      ]
     },
     "metadata": {
      "needs_background": "light"
     },
     "output_type": "display_data"
    },
    {
     "data": {
      "image/png": "[encoded data removed]",
      "text/plain": [
       "<Figure size 576x576 with 2 Axes>"
      ]
     },
     "metadata": {
      "needs_background": "light"
     },
     "output_type": "display_data"
    },
    {
     "data": {
      "image/png": "[encoded data removed]",
      "text/plain": [
       "<Figure size 432x432 with 1 Axes>"
      ]
     },
     "metadata": {
      "needs_background": "light"
     },
     "output_type": "display_data"
    }
   ],
   "source": [
    "import p9_util\n",
    "\n",
    "y_= p9_util.display_class_performance(model, X_valid, y_valid, is_binary=True, \\\n",
    "                                      y_pred=y_predict_round, \\\n",
    "                                      title=\"Confusion matrix with CNN\")"
   ]
  },
  {
   "cell_type": "code",
   "execution_count": null,
   "metadata": {},
   "outputs": [],
   "source": []
  }
 ],
 "metadata": {
  "kernelspec": {
   "display_name": "Python 3",
   "language": "python",
   "name": "python3"
  },
  "language_info": {
   "codemirror_mode": {
    "name": "ipython",
    "version": 3
   },
   "file_extension": ".py",
   "mimetype": "text/x-python",
   "name": "python",
   "nbconvert_exporter": "python",
   "pygments_lexer": "ipython3",
   "version": "3.6.8"
  }
 },
 "nbformat": 4,
 "nbformat_minor": 2
}
