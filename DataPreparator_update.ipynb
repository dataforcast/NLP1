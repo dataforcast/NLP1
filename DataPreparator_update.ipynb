{
 "cells": [
  {
   "cell_type": "code",
   "execution_count": 1,
   "metadata": {},
   "outputs": [],
   "source": [
    "\n",
    "%load_ext autoreload\n",
    "%autoreload 2\n",
    "\n",
    "import warnings\n",
    "warnings.filterwarnings('ignore')"
   ]
  },
  {
   "cell_type": "code",
   "execution_count": 23,
   "metadata": {},
   "outputs": [],
   "source": [
    "is_load = True"
   ]
  },
  {
   "cell_type": "code",
   "execution_count": 26,
   "metadata": {},
   "outputs": [
    {
     "name": "stdout",
     "output_type": "stream",
     "text": [
      "object_dump: file name= ./data/DataPreparator_v2_MaxTokens_spacy__en_core_web_lg__valid_10000_step2.dill\n"
     ]
    }
   ],
   "source": [
    "import p5_util\n",
    "filename = \"./data/DataPreparator_v2_MaxTokens_spacy__en_core_web_lg__train_60000_step2.dill\"\n",
    "filename = \"./data/DataPreparator_v2_MaxTokens_spacy__en_core_web_lg__valid_10000_step2.dill\"\n",
    "if is_load:\n",
    "    dataprep = p5_util.object_load(filename)\n",
    "else :\n",
    "    p5_util.object_dump(dataprep,filename, is_verbose=True)\n",
    "self = dataprep\n"
   ]
  },
  {
   "cell_type": "code",
   "execution_count": 25,
   "metadata": {},
   "outputs": [],
   "source": [
    "import DataPreparator_v2\n",
    "if True :\n",
    "    dataprep_new = DataPreparator_v2.DataPreparator_v2(other = dataprep)\n",
    "    #dataprep_new.dict_param_sequence\n",
    "\n",
    "    dataprep = DataPreparator_v2.DataPreparator_v2(other = dataprep_new)\n",
    "    #dataprep.dict_param_sequence\n",
    "    is_load = False"
   ]
  },
  {
   "cell_type": "code",
   "execution_count": null,
   "metadata": {},
   "outputs": [],
   "source": []
  }
 ],
 "metadata": {
  "kernelspec": {
   "display_name": "Python 3",
   "language": "python",
   "name": "python3"
  },
  "language_info": {
   "codemirror_mode": {
    "name": "ipython",
    "version": 3
   },
   "file_extension": ".py",
   "mimetype": "text/x-python",
   "name": "python",
   "nbconvert_exporter": "python",
   "pygments_lexer": "ipython3",
   "version": "3.6.8"
  }
 },
 "nbformat": 4,
 "nbformat_minor": 2
}
